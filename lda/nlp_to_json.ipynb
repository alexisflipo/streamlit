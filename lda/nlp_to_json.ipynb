{
 "cells": [
  {
   "cell_type": "code",
   "execution_count": 1,
   "metadata": {
    "ExecuteTime": {
     "end_time": "2021-07-24T12:17:05.984649Z",
     "start_time": "2021-07-24T12:17:03.855672Z"
    }
   },
   "outputs": [],
   "source": [
    "import pandas as pd\n",
    "import datetime\n",
    "from sklearn.model_selection import train_test_split\n",
    "import numpy as np"
   ]
  },
  {
   "cell_type": "code",
   "execution_count": 2,
   "metadata": {
    "ExecuteTime": {
     "end_time": "2021-07-24T12:17:27.167967Z",
     "start_time": "2021-07-24T12:17:05.987704Z"
    }
   },
   "outputs": [],
   "source": [
    "df = pd.read_pickle('topics_abc_news2')"
   ]
  },
  {
   "cell_type": "code",
   "execution_count": 3,
   "metadata": {
    "ExecuteTime": {
     "end_time": "2021-07-24T12:17:35.701867Z",
     "start_time": "2021-07-24T12:17:27.170312Z"
    }
   },
   "outputs": [],
   "source": [
    "df['publish_date'] = pd.to_datetime(df['publish_date'], format='%Y%m%d')\n",
    "df['publish_date'] = df['publish_date'].apply(lambda x : x.strftime('%Y-%m-%d'))\n",
    "df = df.rename(columns={'topic':'score'})"
   ]
  },
  {
   "cell_type": "code",
   "execution_count": 4,
   "metadata": {
    "ExecuteTime": {
     "end_time": "2021-07-24T12:17:35.945493Z",
     "start_time": "2021-07-24T12:17:35.704580Z"
    }
   },
   "outputs": [],
   "source": [
    "df['publish_date'] = df['publish_date'].astype(dtype='datetime64[ns]')"
   ]
  },
  {
   "cell_type": "code",
   "execution_count": 5,
   "metadata": {
    "ExecuteTime": {
     "end_time": "2021-07-24T12:17:36.221613Z",
     "start_time": "2021-07-24T12:17:35.947334Z"
    },
    "scrolled": true
   },
   "outputs": [
    {
     "data": {
      "text/html": [
       "<div>\n",
       "<style scoped>\n",
       "    .dataframe tbody tr th:only-of-type {\n",
       "        vertical-align: middle;\n",
       "    }\n",
       "\n",
       "    .dataframe tbody tr th {\n",
       "        vertical-align: top;\n",
       "    }\n",
       "\n",
       "    .dataframe thead th {\n",
       "        text-align: right;\n",
       "    }\n",
       "</style>\n",
       "<table border=\"1\" class=\"dataframe\">\n",
       "  <thead>\n",
       "    <tr style=\"text-align: right;\">\n",
       "      <th></th>\n",
       "      <th>publish_date</th>\n",
       "      <th>headline_text</th>\n",
       "      <th>sentence</th>\n",
       "      <th>score</th>\n",
       "      <th>topics_name</th>\n",
       "    </tr>\n",
       "  </thead>\n",
       "  <tbody>\n",
       "    <tr>\n",
       "      <th>198</th>\n",
       "      <td>2003-02-20</td>\n",
       "      <td>15 dead in rebel bombing raid philippines army</td>\n",
       "      <td>[dead, rebel, bomb, raid, philippine, army]</td>\n",
       "      <td>0.606880</td>\n",
       "      <td>world</td>\n",
       "    </tr>\n",
       "    <tr>\n",
       "      <th>199</th>\n",
       "      <td>2003-02-20</td>\n",
       "      <td>abattoir up for sale again</td>\n",
       "      <td>[abattoir, sale]</td>\n",
       "      <td>0.624771</td>\n",
       "      <td>economy</td>\n",
       "    </tr>\n",
       "    <tr>\n",
       "      <th>200</th>\n",
       "      <td>2003-02-20</td>\n",
       "      <td>academic upbeat about higher education review</td>\n",
       "      <td>[academic, upbeat, high, education, review]</td>\n",
       "      <td>0.298469</td>\n",
       "      <td>economy</td>\n",
       "    </tr>\n",
       "    <tr>\n",
       "      <th>201</th>\n",
       "      <td>2003-02-20</td>\n",
       "      <td>administrator to be appointed to land council</td>\n",
       "      <td>[administrator, appoint, land, council]</td>\n",
       "      <td>0.694148</td>\n",
       "      <td>economy</td>\n",
       "    </tr>\n",
       "    <tr>\n",
       "      <th>202</th>\n",
       "      <td>2003-02-20</td>\n",
       "      <td>aec to declare if nt to lose parliamentary seat</td>\n",
       "      <td>[declare, lose, parliamentary, seat]</td>\n",
       "      <td>0.517526</td>\n",
       "      <td>politics</td>\n",
       "    </tr>\n",
       "    <tr>\n",
       "      <th>...</th>\n",
       "      <td>...</td>\n",
       "      <td>...</td>\n",
       "      <td>...</td>\n",
       "      <td>...</td>\n",
       "      <td>...</td>\n",
       "    </tr>\n",
       "    <tr>\n",
       "      <th>1103660</th>\n",
       "      <td>2017-12-31</td>\n",
       "      <td>the ashes smiths warners near miss liven up bo...</td>\n",
       "      <td>[ash, smith, warner, near, miss, liven, box, t...</td>\n",
       "      <td>0.422712</td>\n",
       "      <td>interview</td>\n",
       "    </tr>\n",
       "    <tr>\n",
       "      <th>1103661</th>\n",
       "      <td>2017-12-31</td>\n",
       "      <td>timelapse: brisbanes new year fireworks</td>\n",
       "      <td>[timelapse, brisbane, year, firework]</td>\n",
       "      <td>0.665113</td>\n",
       "      <td>election</td>\n",
       "    </tr>\n",
       "    <tr>\n",
       "      <th>1103662</th>\n",
       "      <td>2017-12-31</td>\n",
       "      <td>what 2017 meant to the kids of australia</td>\n",
       "      <td>[2017, mean, kid, australia]</td>\n",
       "      <td>0.435791</td>\n",
       "      <td>criminality</td>\n",
       "    </tr>\n",
       "    <tr>\n",
       "      <th>1103663</th>\n",
       "      <td>2017-12-31</td>\n",
       "      <td>what the papodopoulos meeting may mean for ausus</td>\n",
       "      <td>[papodopoulos, meet, mean, ausus]</td>\n",
       "      <td>0.623530</td>\n",
       "      <td>criminality</td>\n",
       "    </tr>\n",
       "    <tr>\n",
       "      <th>1103664</th>\n",
       "      <td>2017-12-31</td>\n",
       "      <td>who is george papadopoulos the former trump ca...</td>\n",
       "      <td>[george, papadopoulos, former, trump, campaign...</td>\n",
       "      <td>0.326672</td>\n",
       "      <td>world</td>\n",
       "    </tr>\n",
       "  </tbody>\n",
       "</table>\n",
       "<p>1103467 rows × 5 columns</p>\n",
       "</div>"
      ],
      "text/plain": [
       "        publish_date                                      headline_text  \\\n",
       "198       2003-02-20     15 dead in rebel bombing raid philippines army   \n",
       "199       2003-02-20                         abattoir up for sale again   \n",
       "200       2003-02-20      academic upbeat about higher education review   \n",
       "201       2003-02-20      administrator to be appointed to land council   \n",
       "202       2003-02-20    aec to declare if nt to lose parliamentary seat   \n",
       "...              ...                                                ...   \n",
       "1103660   2017-12-31  the ashes smiths warners near miss liven up bo...   \n",
       "1103661   2017-12-31            timelapse: brisbanes new year fireworks   \n",
       "1103662   2017-12-31           what 2017 meant to the kids of australia   \n",
       "1103663   2017-12-31   what the papodopoulos meeting may mean for ausus   \n",
       "1103664   2017-12-31  who is george papadopoulos the former trump ca...   \n",
       "\n",
       "                                                  sentence     score  \\\n",
       "198            [dead, rebel, bomb, raid, philippine, army]  0.606880   \n",
       "199                                       [abattoir, sale]  0.624771   \n",
       "200            [academic, upbeat, high, education, review]  0.298469   \n",
       "201                [administrator, appoint, land, council]  0.694148   \n",
       "202                   [declare, lose, parliamentary, seat]  0.517526   \n",
       "...                                                    ...       ...   \n",
       "1103660  [ash, smith, warner, near, miss, liven, box, t...  0.422712   \n",
       "1103661              [timelapse, brisbane, year, firework]  0.665113   \n",
       "1103662                       [2017, mean, kid, australia]  0.435791   \n",
       "1103663                  [papodopoulos, meet, mean, ausus]  0.623530   \n",
       "1103664  [george, papadopoulos, former, trump, campaign...  0.326672   \n",
       "\n",
       "         topics_name  \n",
       "198            world  \n",
       "199          economy  \n",
       "200          economy  \n",
       "201          economy  \n",
       "202         politics  \n",
       "...              ...  \n",
       "1103660    interview  \n",
       "1103661     election  \n",
       "1103662  criminality  \n",
       "1103663  criminality  \n",
       "1103664        world  \n",
       "\n",
       "[1103467 rows x 5 columns]"
      ]
     },
     "execution_count": 5,
     "metadata": {},
     "output_type": "execute_result"
    }
   ],
   "source": [
    "df[df['publish_date'] > '2003-02-19']"
   ]
  },
  {
   "cell_type": "code",
   "execution_count": 6,
   "metadata": {
    "ExecuteTime": {
     "end_time": "2021-07-24T12:17:36.388035Z",
     "start_time": "2021-07-24T12:17:36.232039Z"
    }
   },
   "outputs": [],
   "source": [
    "df['year'] = pd.to_datetime(df['publish_date']).dt.year"
   ]
  },
  {
   "cell_type": "code",
   "execution_count": 7,
   "metadata": {
    "ExecuteTime": {
     "end_time": "2021-07-24T12:17:37.419090Z",
     "start_time": "2021-07-24T12:17:36.391737Z"
    }
   },
   "outputs": [],
   "source": [
    "X = df.drop('year', axis=1)\n",
    "y = df['year']\n",
    "X_train, X_test, y_train, y_test = train_test_split(X,y, test_size=150000, stratify=y)"
   ]
  },
  {
   "cell_type": "code",
   "execution_count": 8,
   "metadata": {
    "ExecuteTime": {
     "end_time": "2021-07-24T12:17:38.407570Z",
     "start_time": "2021-07-24T12:17:37.421577Z"
    }
   },
   "outputs": [],
   "source": [
    "final_df = pd.concat([X_test, y_test], axis=1)\n",
    "final_df['publish_date'] = final_df['publish_date'].astype(str)\n",
    "final_df = final_df.drop('headline_text', axis=1)"
   ]
  },
  {
   "cell_type": "code",
   "execution_count": 9,
   "metadata": {
    "ExecuteTime": {
     "end_time": "2021-07-24T12:17:38.453166Z",
     "start_time": "2021-07-24T12:17:38.410073Z"
    }
   },
   "outputs": [],
   "source": [
    "split_df = np.array_split(final_df, 10)"
   ]
  },
  {
   "cell_type": "code",
   "execution_count": 10,
   "metadata": {
    "ExecuteTime": {
     "end_time": "2021-07-24T12:17:38.481733Z",
     "start_time": "2021-07-24T12:17:38.455230Z"
    }
   },
   "outputs": [],
   "source": [
    "df_new0 = split_df[0]\n",
    "df_new1 = split_df[1]\n",
    "df_new2 = split_df[2]\n",
    "df_new3 = split_df[3]\n",
    "df_new4 = split_df[4]\n",
    "df_new5 = split_df[5]\n",
    "df_new6 = split_df[6]\n",
    "df_new7 = split_df[7]\n",
    "df_new8 = split_df[8]\n",
    "df_new9 = split_df[9]"
   ]
  },
  {
   "cell_type": "code",
   "execution_count": 11,
   "metadata": {
    "ExecuteTime": {
     "end_time": "2021-07-24T12:17:38.519146Z",
     "start_time": "2021-07-24T12:17:38.495370Z"
    }
   },
   "outputs": [],
   "source": [
    "df0 = []\n",
    "df1 = []\n",
    "df2 = []\n",
    "df3 = []\n",
    "df4 = []\n",
    "df5 = []\n",
    "df6 = []\n",
    "df7 = []\n",
    "df8 = []\n",
    "df9 = []"
   ]
  },
  {
   "cell_type": "code",
   "execution_count": 12,
   "metadata": {
    "ExecuteTime": {
     "end_time": "2021-07-24T12:17:38.574538Z",
     "start_time": "2021-07-24T12:17:38.525059Z"
    }
   },
   "outputs": [],
   "source": [
    "for pub_date, sentence, score, topic_name, year in zip(df_new0['publish_date'], df_new0['sentence'], df_new0['score'], df_new0['topics_name'], df_new0['year']):\n",
    "    df0.append({'publish_date':pub_date, 'sentence':sentence, 'score':score, 'topic_name':topic_name, 'year':year})"
   ]
  },
  {
   "cell_type": "code",
   "execution_count": 13,
   "metadata": {
    "ExecuteTime": {
     "end_time": "2021-07-24T12:17:38.620909Z",
     "start_time": "2021-07-24T12:17:38.579442Z"
    }
   },
   "outputs": [],
   "source": [
    "for pub_date, sentence, score, topic_name, year in zip(df_new1['publish_date'], df_new1['sentence'], df_new1['score'], df_new1['topics_name'], df_new1['year']):\n",
    "    df1.append({'publish_date':pub_date, 'sentence':sentence, 'score':score, 'topic_name':topic_name, 'year':year})"
   ]
  },
  {
   "cell_type": "code",
   "execution_count": 14,
   "metadata": {
    "ExecuteTime": {
     "end_time": "2021-07-24T12:17:38.667380Z",
     "start_time": "2021-07-24T12:17:38.623946Z"
    }
   },
   "outputs": [],
   "source": [
    "for pub_date, sentence, score, topic_name, year in zip(df_new2['publish_date'], df_new2['sentence'], df_new2['score'], df_new2['topics_name'], df_new2['year']):\n",
    "    df2.append({'publish_date':pub_date, 'sentence':sentence, 'score':score, 'topic_name':topic_name, 'year':year})"
   ]
  },
  {
   "cell_type": "code",
   "execution_count": 15,
   "metadata": {
    "ExecuteTime": {
     "end_time": "2021-07-24T12:17:38.718931Z",
     "start_time": "2021-07-24T12:17:38.669457Z"
    }
   },
   "outputs": [],
   "source": [
    "for pub_date, sentence, score, topic_name, year in zip(df_new3['publish_date'], df_new3['sentence'], df_new3['score'], df_new3['topics_name'], df_new3['year']):\n",
    "    df3.append({'publish_date':pub_date, 'sentence':sentence, 'score':score, 'topic_name':topic_name, 'year':year})"
   ]
  },
  {
   "cell_type": "code",
   "execution_count": 16,
   "metadata": {
    "ExecuteTime": {
     "end_time": "2021-07-24T12:17:38.765939Z",
     "start_time": "2021-07-24T12:17:38.721230Z"
    }
   },
   "outputs": [],
   "source": [
    "for pub_date, sentence, score, topic_name, year in zip(df_new4['publish_date'], df_new4['sentence'], df_new4['score'], df_new4['topics_name'], df_new4['year']):\n",
    "    df4.append({'publish_date':pub_date, 'sentence':sentence, 'score':score, 'topic_name':topic_name, 'year':year})"
   ]
  },
  {
   "cell_type": "code",
   "execution_count": 17,
   "metadata": {
    "ExecuteTime": {
     "end_time": "2021-07-24T12:17:38.821752Z",
     "start_time": "2021-07-24T12:17:38.774862Z"
    }
   },
   "outputs": [],
   "source": [
    "for pub_date, sentence, score, topic_name, year in zip(df_new5['publish_date'], df_new5['sentence'], df_new5['score'], df_new5['topics_name'], df_new5['year']):\n",
    "    df5.append({'publish_date':pub_date, 'sentence':sentence, 'score':score, 'topic_name':topic_name, 'year':year})"
   ]
  },
  {
   "cell_type": "code",
   "execution_count": 18,
   "metadata": {
    "ExecuteTime": {
     "end_time": "2021-07-24T12:17:38.872281Z",
     "start_time": "2021-07-24T12:17:38.829536Z"
    }
   },
   "outputs": [],
   "source": [
    "for pub_date, sentence, score, topic_name, year in zip(df_new6['publish_date'], df_new6['sentence'], df_new6['score'], df_new6['topics_name'], df_new6['year']):\n",
    "    df6.append({'publish_date':pub_date, 'sentence':sentence, 'score':score, 'topic_name':topic_name, 'year':year})"
   ]
  },
  {
   "cell_type": "code",
   "execution_count": 19,
   "metadata": {
    "ExecuteTime": {
     "end_time": "2021-07-24T12:17:38.925316Z",
     "start_time": "2021-07-24T12:17:38.882448Z"
    }
   },
   "outputs": [],
   "source": [
    "for pub_date, sentence, score, topic_name, year in zip(df_new7['publish_date'], df_new7['sentence'], df_new7['score'], df_new7['topics_name'], df_new7['year']):\n",
    "    df7.append({'publish_date':pub_date, 'sentence':sentence, 'score':score, 'topic_name':topic_name, 'year':year})"
   ]
  },
  {
   "cell_type": "code",
   "execution_count": 20,
   "metadata": {
    "ExecuteTime": {
     "end_time": "2021-07-24T12:17:38.989584Z",
     "start_time": "2021-07-24T12:17:38.936426Z"
    }
   },
   "outputs": [],
   "source": [
    "for pub_date, sentence, score, topic_name, year in zip(df_new8['publish_date'], df_new8['sentence'], df_new8['score'], df_new8['topics_name'], df_new8['year']):\n",
    "    df8.append({'publish_date':pub_date, 'sentence':sentence, 'score':score, 'topic_name':topic_name, 'year':year})"
   ]
  },
  {
   "cell_type": "code",
   "execution_count": 21,
   "metadata": {
    "ExecuteTime": {
     "end_time": "2021-07-24T12:17:39.043571Z",
     "start_time": "2021-07-24T12:17:39.002479Z"
    }
   },
   "outputs": [],
   "source": [
    "for pub_date, sentence, score, topic_name, year in zip(df_new9['publish_date'], df_new9['sentence'], df_new9['score'], df_new9['topics_name'], df_new9['year']):\n",
    "    df9.append({'publish_date':pub_date, 'sentence':sentence, 'score':score, 'topic_name':topic_name, 'year':year})"
   ]
  },
  {
   "cell_type": "code",
   "execution_count": null,
   "metadata": {},
   "outputs": [],
   "source": []
  },
  {
   "cell_type": "code",
   "execution_count": 22,
   "metadata": {
    "ExecuteTime": {
     "end_time": "2021-07-24T12:17:39.057640Z",
     "start_time": "2021-07-24T12:17:39.050256Z"
    }
   },
   "outputs": [],
   "source": [
    "df_total = [df0,df1,df2,df3,df4,df5,df6,df7,df8,df9]"
   ]
  },
  {
   "cell_type": "code",
   "execution_count": null,
   "metadata": {},
   "outputs": [],
   "source": []
  },
  {
   "cell_type": "code",
   "execution_count": null,
   "metadata": {},
   "outputs": [],
   "source": []
  },
  {
   "cell_type": "code",
   "execution_count": null,
   "metadata": {},
   "outputs": [],
   "source": []
  },
  {
   "cell_type": "code",
   "execution_count": 23,
   "metadata": {
    "ExecuteTime": {
     "end_time": "2021-07-24T12:17:39.798696Z",
     "start_time": "2021-07-24T12:17:39.063449Z"
    }
   },
   "outputs": [],
   "source": [
    "count = 0\n",
    "for i in df_total:\n",
    "    jsonString = json.dumps(i)\n",
    "    jsonFile = open(f\"df_new{count}.json\", \"w\")\n",
    "    jsonFile.write(jsonString)\n",
    "    jsonFile.close()\n",
    "    count+=1"
   ]
  },
  {
   "cell_type": "code",
   "execution_count": 24,
   "metadata": {
    "ExecuteTime": {
     "end_time": "2021-07-24T12:17:39.804832Z",
     "start_time": "2021-07-24T12:17:39.801178Z"
    }
   },
   "outputs": [],
   "source": [
    "# jsonString = json.dumps(json0)\n",
    "# jsonFile = open(\"data_api/df_new0.json\", \"w\")\n",
    "# jsonFile.write(jsonString)\n",
    "# jsonFile.close()"
   ]
  },
  {
   "cell_type": "code",
   "execution_count": 25,
   "metadata": {
    "ExecuteTime": {
     "end_time": "2021-07-24T12:17:39.819531Z",
     "start_time": "2021-07-24T12:17:39.814047Z"
    }
   },
   "outputs": [],
   "source": [
    "# jsonString = json.dumps(json1)\n",
    "# jsonFile = open(\"data_api/df_new1.json\", \"w\")\n",
    "# jsonFile.write(jsonString)\n",
    "# jsonFile.close()"
   ]
  },
  {
   "cell_type": "code",
   "execution_count": 26,
   "metadata": {
    "ExecuteTime": {
     "end_time": "2021-07-24T12:17:39.853283Z",
     "start_time": "2021-07-24T12:17:39.841834Z"
    }
   },
   "outputs": [],
   "source": [
    "# jsonString = json.dumps(final_json[100_000:200_000])\n",
    "# jsonFile = open(\"data2.json\", \"w\")\n",
    "# jsonFile.write(jsonString)\n",
    "# jsonFile.close()"
   ]
  },
  {
   "cell_type": "code",
   "execution_count": 27,
   "metadata": {
    "ExecuteTime": {
     "end_time": "2021-07-24T12:17:39.876836Z",
     "start_time": "2021-07-24T12:17:39.867635Z"
    }
   },
   "outputs": [],
   "source": [
    "# f = open('df_new0.json')\n",
    "# data = json.load(f)\n",
    "# data"
   ]
  },
  {
   "cell_type": "code",
   "execution_count": 28,
   "metadata": {
    "ExecuteTime": {
     "end_time": "2021-07-24T12:17:39.906267Z",
     "start_time": "2021-07-24T12:17:39.890107Z"
    }
   },
   "outputs": [],
   "source": [
    "# jsonString = json.dumps(final_json[:5])\n",
    "# jsonFile = open(\"data3.json\", \"w\")\n",
    "# jsonFile.write(jsonString)\n",
    "# jsonFile.close()"
   ]
  }
 ],
 "metadata": {
  "kernelspec": {
   "display_name": "Python 3",
   "language": "python",
   "name": "python3"
  },
  "language_info": {
   "codemirror_mode": {
    "name": "ipython",
    "version": 3
   },
   "file_extension": ".py",
   "mimetype": "text/x-python",
   "name": "python",
   "nbconvert_exporter": "python",
   "pygments_lexer": "ipython3",
   "version": "3.8.5"
  },
  "latex_envs": {
   "LaTeX_envs_menu_present": true,
   "autoclose": false,
   "autocomplete": true,
   "bibliofile": "biblio.bib",
   "cite_by": "apalike",
   "current_citInitial": 1,
   "eqLabelWithNumbers": true,
   "eqNumInitial": 1,
   "hotkeys": {
    "equation": "Ctrl-E",
    "itemize": "Ctrl-I"
   },
   "labels_anchors": false,
   "latex_user_defs": false,
   "report_style_numbering": false,
   "user_envs_cfg": false
  },
  "toc": {
   "base_numbering": 1,
   "nav_menu": {},
   "number_sections": true,
   "sideBar": true,
   "skip_h1_title": false,
   "title_cell": "Table of Contents",
   "title_sidebar": "Contents",
   "toc_cell": false,
   "toc_position": {},
   "toc_section_display": true,
   "toc_window_display": false
  }
 },
 "nbformat": 4,
 "nbformat_minor": 4
}
