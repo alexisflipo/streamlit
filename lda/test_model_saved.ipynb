{
 "cells": [
  {
   "cell_type": "code",
   "execution_count": 11,
   "id": "869f3e58",
   "metadata": {
    "ExecuteTime": {
     "end_time": "2021-07-26T19:59:21.297404Z",
     "start_time": "2021-07-26T19:59:21.252191Z"
    },
    "scrolled": true
   },
   "outputs": [
    {
     "ename": "ImportError",
     "evalue": "attempted relative import with no known parent package",
     "output_type": "error",
     "traceback": [
      "\u001b[1;31m---------------------------------------------------------------------------\u001b[0m",
      "\u001b[1;31mImportError\u001b[0m                               Traceback (most recent call last)",
      "\u001b[1;32m<ipython-input-11-6818520592e6>\u001b[0m in \u001b[0;36m<module>\u001b[1;34m\u001b[0m\n\u001b[0;32m     11\u001b[0m \u001b[1;32mfrom\u001b[0m \u001b[0mgensim\u001b[0m\u001b[1;33m.\u001b[0m\u001b[0mcorpora\u001b[0m \u001b[1;32mimport\u001b[0m \u001b[0mDictionary\u001b[0m\u001b[1;33m\u001b[0m\u001b[1;33m\u001b[0m\u001b[0m\n\u001b[0;32m     12\u001b[0m \u001b[1;33m\u001b[0m\u001b[0m\n\u001b[1;32m---> 13\u001b[1;33m \u001b[1;32mfrom\u001b[0m \u001b[1;33m.\u001b[0m\u001b[0mmain\u001b[0m \u001b[1;32mimport\u001b[0m \u001b[0munknown_text\u001b[0m\u001b[1;33m\u001b[0m\u001b[1;33m\u001b[0m\u001b[0m\n\u001b[0m",
      "\u001b[1;31mImportError\u001b[0m: attempted relative import with no known parent package"
     ]
    }
   ],
   "source": [
    "import pickle\n",
    "import pandas as pd \n",
    "import nltk\n",
    "from nltk.stem import WordNetLemmatizer, SnowballStemmer\n",
    "from nltk.stem.porter import *\n",
    "import numpy as np\n",
    "from gensim.utils import simple_preprocess\n",
    "from gensim.parsing.preprocessing import STOPWORDS\n",
    "import gensim\n",
    "\n",
    "from gensim.corpora import Dictionary\n",
    "\n",
    "from .main import unknown_text\n"
   ]
  },
  {
   "cell_type": "code",
   "execution_count": 13,
   "id": "7b561dd5",
   "metadata": {
    "ExecuteTime": {
     "end_time": "2021-07-26T20:33:30.294959Z",
     "start_time": "2021-07-26T20:33:30.272451Z"
    }
   },
   "outputs": [],
   "source": [
    "filename = 'models/finalized_model_lda_tfidf.sav'\n",
    "# load the model from disk\n",
    "loaded_model = pickle.load(open(filename, 'rb'))\n",
    "#result = loaded_model.score(X_test, Y_test)\n",
    "#print(result)\n"
   ]
  },
  {
   "cell_type": "code",
   "execution_count": null,
   "id": "83bb27ef",
   "metadata": {},
   "outputs": [],
   "source": [
    "print(unknown_text)"
   ]
  },
  {
   "cell_type": "code",
   "execution_count": 15,
   "id": "041f3ca1",
   "metadata": {
    "ExecuteTime": {
     "end_time": "2021-07-26T20:33:43.309196Z",
     "start_time": "2021-07-26T20:33:43.289860Z"
    }
   },
   "outputs": [],
   "source": [
    "dictionary = Dictionary.load('models/dictionary')"
   ]
  },
  {
   "cell_type": "code",
   "execution_count": 16,
   "id": "b9424e86",
   "metadata": {
    "ExecuteTime": {
     "end_time": "2021-07-26T20:33:45.915255Z",
     "start_time": "2021-07-26T20:33:45.894903Z"
    }
   },
   "outputs": [],
   "source": [
    "from gensim import corpora, models\n",
    "\n",
    "tfidf = models.TfidfModel.load('models/tfid_transformer')\n"
   ]
  },
  {
   "cell_type": "code",
   "execution_count": 17,
   "id": "0f42f861",
   "metadata": {
    "ExecuteTime": {
     "end_time": "2021-07-26T20:33:48.962842Z",
     "start_time": "2021-07-26T20:33:48.936877Z"
    }
   },
   "outputs": [],
   "source": [
    "'''\n",
    "Write a function to perform the pre processing steps on the entire dataset\n",
    "'''\n",
    "def lemmatize_stemming(text):\n",
    "    w = text\n",
    "    w = WordNetLemmatizer().lemmatize(w, pos='v').lower()\n",
    "    w = WordNetLemmatizer().lemmatize(w, pos='n')\n",
    "    w = WordNetLemmatizer().lemmatize(w, pos='a')\n",
    "    return w\n",
    "\n",
    "\n",
    "# Tokenize and lemmatize\n",
    "def preprocess(text):\n",
    "    \n",
    "    result = []\n",
    "    \n",
    "    for token in gensim.utils.simple_preprocess(text) :\n",
    "        \n",
    "        if token not in gensim.parsing.preprocessing.STOPWORDS and len(token) > 3:\n",
    "            \n",
    "            # TODO: Apply lemmatize_stemming() on the token, then add to the results list\n",
    "            result.append(lemmatize_stemming(token))\n",
    "    \n",
    "    return result"
   ]
  },
  {
   "cell_type": "code",
   "execution_count": 33,
   "id": "0e39bd02",
   "metadata": {
    "ExecuteTime": {
     "end_time": "2021-07-26T21:14:04.953697Z",
     "start_time": "2021-07-26T21:14:04.923625Z"
    }
   },
   "outputs": [
    {
     "name": "stdout",
     "output_type": "stream",
     "text": [
      "Score: 0.36081093549728394\t Topic: 0.007*\"aussie\" + 0.006*\"suspend\" + 0.006*\"black\" + 0.006*\"qantas\" + 0.005*\"beijing\"\n",
      "Score: 0.33821919560432434\t Topic: 0.022*\"police\" + 0.017*\"crash\" + 0.016*\"charge\" + 0.015*\"kill\" + 0.010*\"death\"\n",
      "Score: 0.03767438605427742\t Topic: 0.014*\"water\" + 0.009*\"council\" + 0.008*\"govt\" + 0.008*\"plan\" + 0.008*\"farmer\"\n",
      "Score: 0.037627171725034714\t Topic: 0.011*\"govt\" + 0.011*\"fund\" + 0.010*\"health\" + 0.007*\"plan\" + 0.007*\"indigenous\"\n",
      "Score: 0.03762100264430046\t Topic: 0.014*\"interview\" + 0.012*\"coast\" + 0.011*\"gold\" + 0.006*\"honour\" + 0.006*\"smith\"\n",
      "Score: 0.037615470588207245\t Topic: 0.010*\"climate\" + 0.006*\"change\" + 0.005*\"troop\" + 0.005*\"whale\" + 0.005*\"step\"\n",
      "Score: 0.03760924190282822\t Topic: 0.008*\"teacher\" + 0.007*\"nurse\" + 0.006*\"action\" + 0.006*\"swan\" + 0.006*\"safe\"\n",
      "Score: 0.03760794922709465\t Topic: 0.017*\"rudd\" + 0.009*\"bail\" + 0.007*\"child\" + 0.006*\"afghan\" + 0.006*\"court\"\n",
      "Score: 0.03760785609483719\t Topic: 0.026*\"close\" + 0.016*\"market\" + 0.009*\"guilty\" + 0.007*\"plead\" + 0.006*\"profit\"\n",
      "Score: 0.037606801837682724\t Topic: 0.010*\"obama\" + 0.006*\"korea\" + 0.005*\"tiger\" + 0.005*\"nuclear\" + 0.005*\"talk\"\n"
     ]
    }
   ],
   "source": [
    "unseen_document = \"Mayor quit after sex offend\"\n",
    "\n",
    "# Data preprocessing step for the unseen document\n",
    "bow_vector = dictionary.doc2bow(preprocess(unseen_document))\n",
    "\n",
    "tfidf_sentence=tfidf[bow_vector]\n",
    "\n",
    "for index, score in sorted(loaded_model[tfidf_sentence], key=lambda tup: -1*tup[1]):\n",
    "\n",
    "    print(\"Score: {}\\t Topic: {}\".format(score, loaded_model.print_topic(index, 5)))\n",
    "\n"
   ]
  },
  {
   "cell_type": "code",
   "execution_count": 31,
   "id": "d96580f8",
   "metadata": {
    "ExecuteTime": {
     "end_time": "2021-07-26T21:11:35.449604Z",
     "start_time": "2021-07-26T21:11:35.413423Z"
    }
   },
   "outputs": [
    {
     "ename": "NameError",
     "evalue": "name 'df' is not defined",
     "output_type": "error",
     "traceback": [
      "\u001b[1;31m---------------------------------------------------------------------------\u001b[0m",
      "\u001b[1;31mNameError\u001b[0m                                 Traceback (most recent call last)",
      "\u001b[1;32m<ipython-input-31-91983fbffbdc>\u001b[0m in \u001b[0;36m<module>\u001b[1;34m\u001b[0m\n\u001b[0;32m      6\u001b[0m \u001b[1;33m\u001b[0m\u001b[0m\n\u001b[0;32m      7\u001b[0m \u001b[0mi\u001b[0m\u001b[1;33m=\u001b[0m\u001b[1;36m0\u001b[0m\u001b[1;33m\u001b[0m\u001b[1;33m\u001b[0m\u001b[0m\n\u001b[1;32m----> 8\u001b[1;33m \u001b[1;32mfor\u001b[0m \u001b[0mtopic_id\u001b[0m\u001b[1;33m,\u001b[0m\u001b[0mvalue\u001b[0m \u001b[1;32min\u001b[0m \u001b[0mdf\u001b[0m\u001b[1;33m[\u001b[0m\u001b[1;34m'topic'\u001b[0m\u001b[1;33m]\u001b[0m\u001b[1;33m:\u001b[0m\u001b[1;33m\u001b[0m\u001b[1;33m\u001b[0m\u001b[0m\n\u001b[0m\u001b[0;32m      9\u001b[0m     \u001b[0mdf\u001b[0m\u001b[1;33m.\u001b[0m\u001b[0mat\u001b[0m\u001b[1;33m[\u001b[0m\u001b[0mi\u001b[0m\u001b[1;33m,\u001b[0m\u001b[1;34m'topics_name'\u001b[0m\u001b[1;33m]\u001b[0m\u001b[1;33m=\u001b[0m\u001b[0mdict_topics_name\u001b[0m\u001b[1;33m[\u001b[0m\u001b[0mtopic_id\u001b[0m\u001b[1;33m]\u001b[0m\u001b[1;33m\u001b[0m\u001b[1;33m\u001b[0m\u001b[0m\n\u001b[0;32m     10\u001b[0m     \u001b[0mi\u001b[0m\u001b[1;33m+=\u001b[0m\u001b[1;36m1\u001b[0m\u001b[1;33m\u001b[0m\u001b[1;33m\u001b[0m\u001b[0m\n",
      "\u001b[1;31mNameError\u001b[0m: name 'df' is not defined"
     ]
    }
   ],
   "source": [
    "dict_topics_name={0:'criminality', 1:'economy', 2: 'society',\n",
    "                  3:'politics', 4:'environment', 5:'minor news',\n",
    "                  6:'local politic', 7:'international news', 8:'international politic',9:'foreign criminality '}\n",
    "\n",
    "\n",
    "\n",
    "i=0\n",
    "for topic_id,value in df['topic']:\n",
    "    df.at[i,'topics_name']=dict_topics_name[topic_id]\n",
    "    i+=1"
   ]
  },
  {
   "cell_type": "code",
   "execution_count": 30,
   "id": "4e8d2880",
   "metadata": {
    "ExecuteTime": {
     "end_time": "2021-07-26T21:08:33.948704Z",
     "start_time": "2021-07-26T21:08:33.924608Z"
    }
   },
   "outputs": [
    {
     "name": "stdout",
     "output_type": "stream",
     "text": [
      "\n",
      "Score: 0.3609333336353302\t \n",
      "Topic: 0.007*\"aussie\" + 0.006*\"suspend\" + 0.006*\"black\" + 0.006*\"qantas\" + 0.005*\"beijing\" + 0.005*\"flight\" + 0.005*\"quit\" + 0.005*\"world\" + 0.005*\"intervention\" + 0.005*\"australia\"\n",
      "\n",
      "Score: 0.33811479806900024\t \n",
      "Topic: 0.022*\"police\" + 0.017*\"crash\" + 0.016*\"charge\" + 0.015*\"kill\" + 0.010*\"death\" + 0.009*\"miss\" + 0.009*\"court\" + 0.009*\"murder\" + 0.009*\"woman\" + 0.009*\"fire\"\n",
      "\n",
      "Score: 0.037655893713235855\t \n",
      "Topic: 0.014*\"water\" + 0.009*\"council\" + 0.008*\"govt\" + 0.008*\"plan\" + 0.008*\"farmer\" + 0.006*\"urge\" + 0.006*\"drought\" + 0.006*\"flood\" + 0.005*\"rain\" + 0.005*\"plant\"\n",
      "\n",
      "Score: 0.03762713447213173\t \n",
      "Topic: 0.011*\"govt\" + 0.011*\"fund\" + 0.010*\"health\" + 0.007*\"plan\" + 0.007*\"indigenous\" + 0.006*\"council\" + 0.006*\"service\" + 0.006*\"centre\" + 0.006*\"hospital\" + 0.005*\"boost\"\n",
      "\n",
      "Score: 0.037621017545461655\t \n",
      "Topic: 0.014*\"interview\" + 0.012*\"coast\" + 0.011*\"gold\" + 0.006*\"honour\" + 0.006*\"smith\" + 0.006*\"alice\" + 0.006*\"beach\" + 0.006*\"thai\" + 0.006*\"turnbull\" + 0.006*\"west\"\n",
      "\n",
      "Score: 0.03761553019285202\t \n",
      "Topic: 0.010*\"climate\" + 0.006*\"change\" + 0.005*\"troop\" + 0.005*\"whale\" + 0.005*\"step\" + 0.005*\"lawyer\" + 0.005*\"thousand\" + 0.005*\"say\" + 0.005*\"govt\" + 0.005*\"bush\"\n",
      "\n",
      "Score: 0.037609342485666275\t \n",
      "Topic: 0.008*\"teacher\" + 0.007*\"nurse\" + 0.006*\"action\" + 0.006*\"swan\" + 0.006*\"safe\" + 0.006*\"strike\" + 0.006*\"clean\" + 0.005*\"track\" + 0.005*\"speak\" + 0.005*\"uranium\"\n",
      "\n",
      "Score: 0.0376080647110939\t \n",
      "Topic: 0.017*\"rudd\" + 0.009*\"bail\" + 0.007*\"child\" + 0.006*\"afghan\" + 0.006*\"court\" + 0.005*\"accuse\" + 0.005*\"indonesia\" + 0.005*\"porn\" + 0.005*\"charge\" + 0.005*\"jail\"\n",
      "\n",
      "Score: 0.03760797157883644\t \n",
      "Topic: 0.026*\"close\" + 0.016*\"market\" + 0.009*\"guilty\" + 0.007*\"plead\" + 0.006*\"profit\" + 0.006*\"record\" + 0.005*\"fall\" + 0.005*\"high\" + 0.005*\"bank\" + 0.005*\"bendigo\"\n",
      "\n",
      "Score: 0.03760692477226257\t \n",
      "Topic: 0.010*\"obama\" + 0.006*\"korea\" + 0.005*\"tiger\" + 0.005*\"nuclear\" + 0.005*\"talk\" + 0.005*\"brown\" + 0.005*\"unite\" + 0.005*\"revamp\" + 0.004*\"win\" + 0.004*\"burma\"\n"
     ]
    }
   ],
   "source": [
    "'''\n",
    "For each topic, we will explore the words occuring in that topic and its relative weight\n",
    "'''\n",
    "for idx, topic in lda_model_tfidf.print_topics(-1):\n",
    "    \n",
    "    print(\"Topic: {} Word: {}\".format(dict_topics_name[idx], topic))\n",
    "    print(\"\\n\")"
   ]
  },
  {
   "cell_type": "code",
   "execution_count": null,
   "id": "3481a7ba",
   "metadata": {
    "ExecuteTime": {
     "end_time": "2021-07-26T18:52:04.289511Z",
     "start_time": "2021-07-26T18:52:04.279222Z"
    }
   },
   "outputs": [],
   "source": [
    "from models import load_files"
   ]
  },
  {
   "cell_type": "code",
   "execution_count": null,
   "id": "916d47d1",
   "metadata": {
    "ExecuteTime": {
     "end_time": "2021-07-26T18:52:55.642751Z",
     "start_time": "2021-07-26T18:52:55.617350Z"
    }
   },
   "outputs": [],
   "source": [
    "model=load_files('models/finalized_model_lda_tfidf.sav')"
   ]
  },
  {
   "cell_type": "code",
   "execution_count": null,
   "id": "c51c28d2",
   "metadata": {
    "ExecuteTime": {
     "end_time": "2021-07-26T18:53:00.255382Z",
     "start_time": "2021-07-26T18:53:00.230725Z"
    }
   },
   "outputs": [],
   "source": [
    "model"
   ]
  },
  {
   "cell_type": "code",
   "execution_count": null,
   "id": "2a795d87",
   "metadata": {},
   "outputs": [],
   "source": []
  }
 ],
 "metadata": {
  "kernelspec": {
   "display_name": "Python 3",
   "language": "python",
   "name": "python3"
  },
  "language_info": {
   "codemirror_mode": {
    "name": "ipython",
    "version": 3
   },
   "file_extension": ".py",
   "mimetype": "text/x-python",
   "name": "python",
   "nbconvert_exporter": "python",
   "pygments_lexer": "ipython3",
   "version": "3.8.5"
  },
  "latex_envs": {
   "LaTeX_envs_menu_present": true,
   "autoclose": false,
   "autocomplete": true,
   "bibliofile": "biblio.bib",
   "cite_by": "apalike",
   "current_citInitial": 1,
   "eqLabelWithNumbers": true,
   "eqNumInitial": 1,
   "hotkeys": {
    "equation": "Ctrl-E",
    "itemize": "Ctrl-I"
   },
   "labels_anchors": false,
   "latex_user_defs": false,
   "report_style_numbering": false,
   "user_envs_cfg": false
  },
  "toc": {
   "base_numbering": 1,
   "nav_menu": {},
   "number_sections": true,
   "sideBar": true,
   "skip_h1_title": false,
   "title_cell": "Table of Contents",
   "title_sidebar": "Contents",
   "toc_cell": false,
   "toc_position": {},
   "toc_section_display": true,
   "toc_window_display": false
  },
  "varInspector": {
   "cols": {
    "lenName": 16,
    "lenType": 16,
    "lenVar": 40
   },
   "kernels_config": {
    "python": {
     "delete_cmd_postfix": "",
     "delete_cmd_prefix": "del ",
     "library": "var_list.py",
     "varRefreshCmd": "print(var_dic_list())"
    },
    "r": {
     "delete_cmd_postfix": ") ",
     "delete_cmd_prefix": "rm(",
     "library": "var_list.r",
     "varRefreshCmd": "cat(var_dic_list()) "
    }
   },
   "types_to_exclude": [
    "module",
    "function",
    "builtin_function_or_method",
    "instance",
    "_Feature"
   ],
   "window_display": false
  }
 },
 "nbformat": 4,
 "nbformat_minor": 5
}
