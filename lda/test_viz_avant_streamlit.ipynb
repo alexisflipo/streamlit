{
 "cells": [
  {
   "cell_type": "code",
   "execution_count": 1,
   "metadata": {
    "ExecuteTime": {
     "end_time": "2021-07-24T10:24:47.534922Z",
     "start_time": "2021-07-24T10:24:46.545468Z"
    }
   },
   "outputs": [],
   "source": [
    "import requests\n",
    "import pandas as pd\n",
    "import numpy as np\n",
    "import json"
   ]
  },
  {
   "cell_type": "code",
   "execution_count": 19,
   "metadata": {
    "ExecuteTime": {
     "end_time": "2021-07-24T10:40:08.254784Z",
     "start_time": "2021-07-24T10:40:04.659484Z"
    }
   },
   "outputs": [],
   "source": [
    "publish_date = []\n",
    "sentence = []\n",
    "score=[]\n",
    "topics_name = []\n",
    "year=[]\n",
    "count = 1\n",
    "for i in range(0,10):\n",
    "    data = requests.get(f\"http://127.0.0.1:8000/data/data{count}\")\n",
    "    for item in data.json():\n",
    "        publish_date.append(item['publish_date'])\n",
    "        sentence.append(item['sentence'])\n",
    "        score.append(item['score'])\n",
    "        topics_name.append(item['topic_name'])\n",
    "        year.append(item['year'])\n",
    "        i+=1"
   ]
  },
  {
   "cell_type": "code",
   "execution_count": 20,
   "metadata": {
    "ExecuteTime": {
     "end_time": "2021-07-24T10:40:12.377779Z",
     "start_time": "2021-07-24T10:40:12.174234Z"
    }
   },
   "outputs": [],
   "source": [
    "df = pd.DataFrame({'publish_date': publish_date, 'sentence':sentence,'score':score, 'topic_name':topics_name, 'year':year })"
   ]
  },
  {
   "cell_type": "code",
   "execution_count": 21,
   "metadata": {
    "ExecuteTime": {
     "end_time": "2021-07-24T10:40:13.159199Z",
     "start_time": "2021-07-24T10:40:13.142772Z"
    }
   },
   "outputs": [
    {
     "data": {
      "text/html": [
       "<div>\n",
       "<style scoped>\n",
       "    .dataframe tbody tr th:only-of-type {\n",
       "        vertical-align: middle;\n",
       "    }\n",
       "\n",
       "    .dataframe tbody tr th {\n",
       "        vertical-align: top;\n",
       "    }\n",
       "\n",
       "    .dataframe thead th {\n",
       "        text-align: right;\n",
       "    }\n",
       "</style>\n",
       "<table border=\"1\" class=\"dataframe\">\n",
       "  <thead>\n",
       "    <tr style=\"text-align: right;\">\n",
       "      <th></th>\n",
       "      <th>publish_date</th>\n",
       "      <th>sentence</th>\n",
       "      <th>score</th>\n",
       "      <th>topic_name</th>\n",
       "      <th>year</th>\n",
       "    </tr>\n",
       "  </thead>\n",
       "  <tbody>\n",
       "    <tr>\n",
       "      <th>0</th>\n",
       "      <td>2008-07-15</td>\n",
       "      <td>[heritage, commentator, schofield, talk]</td>\n",
       "      <td>0.369563</td>\n",
       "      <td>interview</td>\n",
       "      <td>2008</td>\n",
       "    </tr>\n",
       "    <tr>\n",
       "      <th>1</th>\n",
       "      <td>2008-10-10</td>\n",
       "      <td>[virtual, reality, become, real, crime]</td>\n",
       "      <td>0.300362</td>\n",
       "      <td>criminality</td>\n",
       "      <td>2008</td>\n",
       "    </tr>\n",
       "    <tr>\n",
       "      <th>2</th>\n",
       "      <td>2012-03-01</td>\n",
       "      <td>[scientist, detect, sign, life, earth]</td>\n",
       "      <td>0.489603</td>\n",
       "      <td>criminality</td>\n",
       "      <td>2012</td>\n",
       "    </tr>\n",
       "    <tr>\n",
       "      <th>3</th>\n",
       "      <td>2011-08-23</td>\n",
       "      <td>[shoot, cattle, trigger, call, farm, vigilance]</td>\n",
       "      <td>0.486955</td>\n",
       "      <td>local news</td>\n",
       "      <td>2011</td>\n",
       "    </tr>\n",
       "    <tr>\n",
       "      <th>4</th>\n",
       "      <td>2014-12-14</td>\n",
       "      <td>[climate, talk, risk, collapse, china, clash]</td>\n",
       "      <td>0.558419</td>\n",
       "      <td>world</td>\n",
       "      <td>2014</td>\n",
       "    </tr>\n",
       "    <tr>\n",
       "      <th>...</th>\n",
       "      <td>...</td>\n",
       "      <td>...</td>\n",
       "      <td>...</td>\n",
       "      <td>...</td>\n",
       "      <td>...</td>\n",
       "    </tr>\n",
       "    <tr>\n",
       "      <th>149995</th>\n",
       "      <td>2012-04-20</td>\n",
       "      <td>[interview, simon, mannering]</td>\n",
       "      <td>0.455971</td>\n",
       "      <td>interview</td>\n",
       "      <td>2012</td>\n",
       "    </tr>\n",
       "    <tr>\n",
       "      <th>149996</th>\n",
       "      <td>2017-06-14</td>\n",
       "      <td>[business, usual, energy, policy, wont]</td>\n",
       "      <td>0.383543</td>\n",
       "      <td>criminality</td>\n",
       "      <td>2017</td>\n",
       "    </tr>\n",
       "    <tr>\n",
       "      <th>149997</th>\n",
       "      <td>2015-06-27</td>\n",
       "      <td>[dead, islamic, state, massacre, syria, monitor]</td>\n",
       "      <td>0.578897</td>\n",
       "      <td>world</td>\n",
       "      <td>2015</td>\n",
       "    </tr>\n",
       "    <tr>\n",
       "      <th>149998</th>\n",
       "      <td>2005-04-09</td>\n",
       "      <td>[woodside, source, iraq, cash, donation]</td>\n",
       "      <td>0.234270</td>\n",
       "      <td>economy</td>\n",
       "      <td>2005</td>\n",
       "    </tr>\n",
       "    <tr>\n",
       "      <th>149999</th>\n",
       "      <td>2004-11-08</td>\n",
       "      <td>[downpour, boost, november, rainfall, figure]</td>\n",
       "      <td>0.375399</td>\n",
       "      <td>local news</td>\n",
       "      <td>2004</td>\n",
       "    </tr>\n",
       "  </tbody>\n",
       "</table>\n",
       "<p>150000 rows × 5 columns</p>\n",
       "</div>"
      ],
      "text/plain": [
       "       publish_date                                          sentence  \\\n",
       "0        2008-07-15          [heritage, commentator, schofield, talk]   \n",
       "1        2008-10-10           [virtual, reality, become, real, crime]   \n",
       "2        2012-03-01            [scientist, detect, sign, life, earth]   \n",
       "3        2011-08-23   [shoot, cattle, trigger, call, farm, vigilance]   \n",
       "4        2014-12-14     [climate, talk, risk, collapse, china, clash]   \n",
       "...             ...                                               ...   \n",
       "149995   2012-04-20                     [interview, simon, mannering]   \n",
       "149996   2017-06-14           [business, usual, energy, policy, wont]   \n",
       "149997   2015-06-27  [dead, islamic, state, massacre, syria, monitor]   \n",
       "149998   2005-04-09          [woodside, source, iraq, cash, donation]   \n",
       "149999   2004-11-08     [downpour, boost, november, rainfall, figure]   \n",
       "\n",
       "           score   topic_name  year  \n",
       "0       0.369563    interview  2008  \n",
       "1       0.300362  criminality  2008  \n",
       "2       0.489603  criminality  2012  \n",
       "3       0.486955   local news  2011  \n",
       "4       0.558419        world  2014  \n",
       "...          ...          ...   ...  \n",
       "149995  0.455971    interview  2012  \n",
       "149996  0.383543  criminality  2017  \n",
       "149997  0.578897        world  2015  \n",
       "149998  0.234270      economy  2005  \n",
       "149999  0.375399   local news  2004  \n",
       "\n",
       "[150000 rows x 5 columns]"
      ]
     },
     "execution_count": 21,
     "metadata": {},
     "output_type": "execute_result"
    }
   ],
   "source": [
    "df"
   ]
  },
  {
   "cell_type": "code",
   "execution_count": 5,
   "metadata": {
    "ExecuteTime": {
     "end_time": "2021-07-24T10:24:48.165603Z",
     "start_time": "2021-07-24T10:24:48.144436Z"
    }
   },
   "outputs": [],
   "source": [
    "df_grouped_by_topic = df.groupby(['year','topic_name']).count().reset_index()"
   ]
  }
 ],
 "metadata": {
  "kernelspec": {
   "display_name": "Python 3",
   "language": "python",
   "name": "python3"
  },
  "language_info": {
   "codemirror_mode": {
    "name": "ipython",
    "version": 3
   },
   "file_extension": ".py",
   "mimetype": "text/x-python",
   "name": "python",
   "nbconvert_exporter": "python",
   "pygments_lexer": "ipython3",
   "version": "3.8.5"
  },
  "latex_envs": {
   "LaTeX_envs_menu_present": true,
   "autoclose": false,
   "autocomplete": true,
   "bibliofile": "biblio.bib",
   "cite_by": "apalike",
   "current_citInitial": 1,
   "eqLabelWithNumbers": true,
   "eqNumInitial": 1,
   "hotkeys": {
    "equation": "Ctrl-E",
    "itemize": "Ctrl-I"
   },
   "labels_anchors": false,
   "latex_user_defs": false,
   "report_style_numbering": false,
   "user_envs_cfg": false
  },
  "toc": {
   "base_numbering": 1,
   "nav_menu": {},
   "number_sections": true,
   "sideBar": true,
   "skip_h1_title": false,
   "title_cell": "Table of Contents",
   "title_sidebar": "Contents",
   "toc_cell": false,
   "toc_position": {},
   "toc_section_display": true,
   "toc_window_display": false
  }
 },
 "nbformat": 4,
 "nbformat_minor": 4
}
