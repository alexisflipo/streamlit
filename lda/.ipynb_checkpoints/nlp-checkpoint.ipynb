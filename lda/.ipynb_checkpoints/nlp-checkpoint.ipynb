{
 "cells": [
  {
   "cell_type": "code",
   "execution_count": 1,
   "metadata": {
    "ExecuteTime": {
     "end_time": "2021-07-13T07:20:10.893406Z",
     "start_time": "2021-07-13T07:20:08.319933Z"
    }
   },
   "outputs": [
    {
     "name": "stderr",
     "output_type": "stream",
     "text": [
      "/Users/thor/opt/anaconda3/lib/python3.8/site-packages/gensim/similarities/__init__.py:15: UserWarning: The gensim.similarities.levenshtein submodule is disabled, because the optional Levenshtein package <https://pypi.org/project/python-Levenshtein/> is unavailable. Install Levenhstein (e.g. `pip install python-Levenshtein`) to suppress this warning.\n",
      "  warnings.warn(msg)\n"
     ]
    }
   ],
   "source": [
    "import pandas as pd\n",
    "import nltk\n",
    "from nltk.stem import WordNetLemmatizer, SnowballStemmer\n",
    "from nltk.stem.porter import *\n",
    "import numpy as np\n",
    "from gensim.utils import simple_preprocess\n",
    "from gensim.parsing.preprocessing import STOPWORDS"
   ]
  },
  {
   "cell_type": "markdown",
   "metadata": {},
   "source": [
    "# Preprocessing"
   ]
  },
  {
   "cell_type": "code",
   "execution_count": 2,
   "metadata": {
    "ExecuteTime": {
     "end_time": "2021-07-13T07:20:11.372568Z",
     "start_time": "2021-07-13T07:20:10.897170Z"
    }
   },
   "outputs": [],
   "source": [
    "df = pd.read_csv('data/abcnews-date-text.csv', error_bad_lines=False)"
   ]
  },
  {
   "cell_type": "code",
   "execution_count": 3,
   "metadata": {
    "ExecuteTime": {
     "end_time": "2021-07-13T07:20:11.399847Z",
     "start_time": "2021-07-13T07:20:11.381309Z"
    }
   },
   "outputs": [],
   "source": [
    "df = df.drop('publish_date', axis=1)"
   ]
  },
  {
   "cell_type": "code",
   "execution_count": 4,
   "metadata": {
    "ExecuteTime": {
     "end_time": "2021-07-13T07:20:11.421978Z",
     "start_time": "2021-07-13T07:20:11.402661Z"
    }
   },
   "outputs": [
    {
     "data": {
      "text/plain": [
       "0    aba decides against community broadcasting lic...\n",
       "1       act fire witnesses must be aware of defamation\n",
       "2       a g calls for infrastructure protection summit\n",
       "3             air nz staff in aust strike for pay rise\n",
       "4        air nz strike to affect australian travellers\n",
       "5                    ambitious olsson wins triple jump\n",
       "Name: headline_text, dtype: object"
      ]
     },
     "execution_count": 4,
     "metadata": {},
     "output_type": "execute_result"
    }
   ],
   "source": [
    "df['headline_text'].loc[:5]"
   ]
  },
  {
   "cell_type": "markdown",
   "metadata": {},
   "source": [
    "## Import des modules nltk"
   ]
  },
  {
   "cell_type": "code",
   "execution_count": 5,
   "metadata": {
    "ExecuteTime": {
     "end_time": "2021-07-13T07:20:11.434661Z",
     "start_time": "2021-07-13T07:20:11.426703Z"
    }
   },
   "outputs": [],
   "source": [
    "from nltk.corpus import wordnet, stopwords\n",
    "from nltk.tokenize import word_tokenize\n",
    "from nltk.stem import WordNetLemmatizer, PorterStemmer"
   ]
  },
  {
   "cell_type": "code",
   "execution_count": 6,
   "metadata": {
    "ExecuteTime": {
     "end_time": "2021-07-13T07:20:11.441185Z",
     "start_time": "2021-07-13T07:20:11.438188Z"
    }
   },
   "outputs": [],
   "source": [
    "#nltk.download()"
   ]
  },
  {
   "cell_type": "code",
   "execution_count": 7,
   "metadata": {
    "ExecuteTime": {
     "end_time": "2021-07-13T07:20:11.627810Z",
     "start_time": "2021-07-13T07:20:11.443358Z"
    }
   },
   "outputs": [
    {
     "name": "stderr",
     "output_type": "stream",
     "text": [
      "[nltk_data] Downloading package punkt to /Users/thor/nltk_data...\n",
      "[nltk_data]   Package punkt is already up-to-date!\n"
     ]
    },
    {
     "data": {
      "text/plain": [
       "True"
      ]
     },
     "execution_count": 7,
     "metadata": {},
     "output_type": "execute_result"
    }
   ],
   "source": [
    "nltk.download('punkt')"
   ]
  },
  {
   "cell_type": "code",
   "execution_count": 8,
   "metadata": {
    "ExecuteTime": {
     "end_time": "2021-07-13T07:20:11.643083Z",
     "start_time": "2021-07-13T07:20:11.634042Z"
    }
   },
   "outputs": [
    {
     "name": "stderr",
     "output_type": "stream",
     "text": [
      "[nltk_data] Downloading package stopwords to /Users/thor/nltk_data...\n",
      "[nltk_data]   Package stopwords is already up-to-date!\n"
     ]
    },
    {
     "data": {
      "text/plain": [
       "True"
      ]
     },
     "execution_count": 8,
     "metadata": {},
     "output_type": "execute_result"
    }
   ],
   "source": [
    "nltk.download('stopwords')"
   ]
  },
  {
   "cell_type": "code",
   "execution_count": 9,
   "metadata": {
    "ExecuteTime": {
     "end_time": "2021-07-13T07:20:13.364966Z",
     "start_time": "2021-07-13T07:20:11.645278Z"
    }
   },
   "outputs": [
    {
     "name": "stdout",
     "output_type": "stream",
     "text": [
      "egg\n"
     ]
    }
   ],
   "source": [
    "print(WordNetLemmatizer().lemmatize('eggs', pos='n'))"
   ]
  },
  {
   "cell_type": "code",
   "execution_count": 10,
   "metadata": {
    "ExecuteTime": {
     "end_time": "2021-07-13T07:20:13.378728Z",
     "start_time": "2021-07-13T07:20:13.368850Z"
    }
   },
   "outputs": [
    {
     "data": {
      "text/plain": [
       "{'a',\n",
       " 'about',\n",
       " 'above',\n",
       " 'after',\n",
       " 'again',\n",
       " 'against',\n",
       " 'ain',\n",
       " 'all',\n",
       " 'am',\n",
       " 'an',\n",
       " 'and',\n",
       " 'any',\n",
       " 'are',\n",
       " 'aren',\n",
       " \"aren't\",\n",
       " 'as',\n",
       " 'at',\n",
       " 'be',\n",
       " 'because',\n",
       " 'been',\n",
       " 'before',\n",
       " 'being',\n",
       " 'below',\n",
       " 'between',\n",
       " 'both',\n",
       " 'but',\n",
       " 'by',\n",
       " 'can',\n",
       " 'couldn',\n",
       " \"couldn't\",\n",
       " 'd',\n",
       " 'did',\n",
       " 'didn',\n",
       " \"didn't\",\n",
       " 'do',\n",
       " 'does',\n",
       " 'doesn',\n",
       " \"doesn't\",\n",
       " 'doing',\n",
       " 'don',\n",
       " \"don't\",\n",
       " 'down',\n",
       " 'during',\n",
       " 'each',\n",
       " 'few',\n",
       " 'for',\n",
       " 'from',\n",
       " 'further',\n",
       " 'had',\n",
       " 'hadn',\n",
       " \"hadn't\",\n",
       " 'has',\n",
       " 'hasn',\n",
       " \"hasn't\",\n",
       " 'have',\n",
       " 'haven',\n",
       " \"haven't\",\n",
       " 'having',\n",
       " 'he',\n",
       " 'her',\n",
       " 'here',\n",
       " 'hers',\n",
       " 'herself',\n",
       " 'him',\n",
       " 'himself',\n",
       " 'his',\n",
       " 'how',\n",
       " 'i',\n",
       " 'if',\n",
       " 'in',\n",
       " 'into',\n",
       " 'is',\n",
       " 'isn',\n",
       " \"isn't\",\n",
       " 'it',\n",
       " \"it's\",\n",
       " 'its',\n",
       " 'itself',\n",
       " 'just',\n",
       " 'll',\n",
       " 'm',\n",
       " 'ma',\n",
       " 'me',\n",
       " 'mightn',\n",
       " \"mightn't\",\n",
       " 'more',\n",
       " 'most',\n",
       " 'mustn',\n",
       " \"mustn't\",\n",
       " 'my',\n",
       " 'myself',\n",
       " 'needn',\n",
       " \"needn't\",\n",
       " 'no',\n",
       " 'nor',\n",
       " 'not',\n",
       " 'now',\n",
       " 'o',\n",
       " 'of',\n",
       " 'off',\n",
       " 'on',\n",
       " 'once',\n",
       " 'only',\n",
       " 'or',\n",
       " 'other',\n",
       " 'our',\n",
       " 'ours',\n",
       " 'ourselves',\n",
       " 'out',\n",
       " 'over',\n",
       " 'own',\n",
       " 're',\n",
       " 's',\n",
       " 'same',\n",
       " 'shan',\n",
       " \"shan't\",\n",
       " 'she',\n",
       " \"she's\",\n",
       " 'should',\n",
       " \"should've\",\n",
       " 'shouldn',\n",
       " \"shouldn't\",\n",
       " 'so',\n",
       " 'some',\n",
       " 'such',\n",
       " 't',\n",
       " 'than',\n",
       " 'that',\n",
       " \"that'll\",\n",
       " 'the',\n",
       " 'their',\n",
       " 'theirs',\n",
       " 'them',\n",
       " 'themselves',\n",
       " 'then',\n",
       " 'there',\n",
       " 'these',\n",
       " 'they',\n",
       " 'this',\n",
       " 'those',\n",
       " 'through',\n",
       " 'to',\n",
       " 'too',\n",
       " 'under',\n",
       " 'until',\n",
       " 'up',\n",
       " 've',\n",
       " 'very',\n",
       " 'was',\n",
       " 'wasn',\n",
       " \"wasn't\",\n",
       " 'we',\n",
       " 'were',\n",
       " 'weren',\n",
       " \"weren't\",\n",
       " 'what',\n",
       " 'when',\n",
       " 'where',\n",
       " 'which',\n",
       " 'while',\n",
       " 'who',\n",
       " 'whom',\n",
       " 'why',\n",
       " 'will',\n",
       " 'with',\n",
       " 'won',\n",
       " \"won't\",\n",
       " 'wouldn',\n",
       " \"wouldn't\",\n",
       " 'y',\n",
       " 'you',\n",
       " \"you'd\",\n",
       " \"you'll\",\n",
       " \"you're\",\n",
       " \"you've\",\n",
       " 'your',\n",
       " 'yours',\n",
       " 'yourself',\n",
       " 'yourselves'}"
      ]
     },
     "execution_count": 10,
     "metadata": {},
     "output_type": "execute_result"
    }
   ],
   "source": [
    "stop_words = set(stopwords.words('english'))\n",
    "stop_words"
   ]
  },
  {
   "cell_type": "markdown",
   "metadata": {},
   "source": [
    "## Tokenizer nos titres afin d'obtenir une liste de mots"
   ]
  },
  {
   "cell_type": "code",
   "execution_count": 11,
   "metadata": {
    "ExecuteTime": {
     "end_time": "2021-07-13T07:20:13.402149Z",
     "start_time": "2021-07-13T07:20:13.380902Z"
    }
   },
   "outputs": [
    {
     "data": {
      "text/html": [
       "<div>\n",
       "<style scoped>\n",
       "    .dataframe tbody tr th:only-of-type {\n",
       "        vertical-align: middle;\n",
       "    }\n",
       "\n",
       "    .dataframe tbody tr th {\n",
       "        vertical-align: top;\n",
       "    }\n",
       "\n",
       "    .dataframe thead th {\n",
       "        text-align: right;\n",
       "    }\n",
       "</style>\n",
       "<table border=\"1\" class=\"dataframe\">\n",
       "  <thead>\n",
       "    <tr style=\"text-align: right;\">\n",
       "      <th></th>\n",
       "      <th>headline_text</th>\n",
       "    </tr>\n",
       "  </thead>\n",
       "  <tbody>\n",
       "    <tr>\n",
       "      <th>0</th>\n",
       "      <td>aba decides against community broadcasting lic...</td>\n",
       "    </tr>\n",
       "    <tr>\n",
       "      <th>1</th>\n",
       "      <td>act fire witnesses must be aware of defamation</td>\n",
       "    </tr>\n",
       "    <tr>\n",
       "      <th>2</th>\n",
       "      <td>a g calls for infrastructure protection summit</td>\n",
       "    </tr>\n",
       "    <tr>\n",
       "      <th>3</th>\n",
       "      <td>air nz staff in aust strike for pay rise</td>\n",
       "    </tr>\n",
       "    <tr>\n",
       "      <th>4</th>\n",
       "      <td>air nz strike to affect australian travellers</td>\n",
       "    </tr>\n",
       "    <tr>\n",
       "      <th>...</th>\n",
       "      <td>...</td>\n",
       "    </tr>\n",
       "    <tr>\n",
       "      <th>457508</th>\n",
       "      <td>north coast less exposed to personal bankruptcy</td>\n",
       "    </tr>\n",
       "    <tr>\n",
       "      <th>457509</th>\n",
       "      <td>nsw economy the worst may be to come</td>\n",
       "    </tr>\n",
       "    <tr>\n",
       "      <th>457510</th>\n",
       "      <td>nt govt waging political war against commercial</td>\n",
       "    </tr>\n",
       "    <tr>\n",
       "      <th>457511</th>\n",
       "      <td>ny times wins 5 pulitzer awards</td>\n",
       "    </tr>\n",
       "    <tr>\n",
       "      <th>457512</th>\n",
       "      <td>nz lawyer defends accepting fiji solici</td>\n",
       "    </tr>\n",
       "  </tbody>\n",
       "</table>\n",
       "<p>457513 rows × 1 columns</p>\n",
       "</div>"
      ],
      "text/plain": [
       "                                            headline_text\n",
       "0       aba decides against community broadcasting lic...\n",
       "1          act fire witnesses must be aware of defamation\n",
       "2          a g calls for infrastructure protection summit\n",
       "3                air nz staff in aust strike for pay rise\n",
       "4           air nz strike to affect australian travellers\n",
       "...                                                   ...\n",
       "457508    north coast less exposed to personal bankruptcy\n",
       "457509               nsw economy the worst may be to come\n",
       "457510    nt govt waging political war against commercial\n",
       "457511                    ny times wins 5 pulitzer awards\n",
       "457512            nz lawyer defends accepting fiji solici\n",
       "\n",
       "[457513 rows x 1 columns]"
      ]
     },
     "execution_count": 11,
     "metadata": {},
     "output_type": "execute_result"
    }
   ],
   "source": [
    "df"
   ]
  },
  {
   "cell_type": "code",
   "execution_count": 12,
   "metadata": {
    "ExecuteTime": {
     "end_time": "2021-07-13T07:20:48.959374Z",
     "start_time": "2021-07-13T07:20:13.408971Z"
    }
   },
   "outputs": [],
   "source": [
    "words_splitted = []\n",
    "# for i in df['headline_text'][:10]:\n",
    "#     words_splitted.append(i.split(' '))\n",
    "\n",
    "for line in df['headline_text'][:550000]:\n",
    "#for line in df['headline_text']:\n",
    "    words_splitted.append(nltk.word_tokenize(line))\n",
    "    # for i in df['headline_text']:\n",
    "#     print(i)"
   ]
  },
  {
   "cell_type": "code",
   "execution_count": 13,
   "metadata": {
    "ExecuteTime": {
     "end_time": "2021-07-13T07:21:17.734714Z",
     "start_time": "2021-07-13T07:20:48.961667Z"
    }
   },
   "outputs": [
    {
     "data": {
      "text/plain": [
       "[['decide', 'community', 'broadcast', 'licence'],\n",
       " ['fire', 'witness', 'must', 'aware', 'defamation'],\n",
       " ['call', 'infrastructure', 'protection', 'summit'],\n",
       " ['staff', 'aust', 'strike', 'rise'],\n",
       " ['strike', 'affect', 'australian', 'traveller'],\n",
       " ['ambitious', 'olsson', 'win', 'triple', 'jump'],\n",
       " ['antic', 'delight', 'record', 'break', 'barca'],\n",
       " ['aussie', 'qualifier', 'stosur', 'waste', 'four', 'memphis', 'match'],\n",
       " ['aust', 'address', 'security', 'council', 'iraq'],\n",
       " ['australia', 'lock', 'timetable'],\n",
       " ['australia', 'contribute', 'million', 'iraq'],\n",
       " ['barca', 'take', 'record', 'robson', 'celebrate', 'birthday'],\n",
       " ['bathhouse', 'plan', 'move', 'ahead'],\n",
       " ['hop', 'launceston', 'cycle', 'championship'],\n",
       " ['plan', 'boost', 'paroo', 'water', 'supply'],\n",
       " ['blizzard', 'bury', 'unite', 'state', 'bill'],\n",
       " ['brigadier', 'dismiss', 'report', 'troop', 'harass'],\n",
       " ['british', 'combat', 'troop', 'arrive', 'daily', 'kuwait'],\n",
       " ['bryant', 'lead', 'lakers', 'double', 'overtime'],\n",
       " ['bushfire', 'victim', 'urge', 'centrelink'],\n",
       " ['business', 'prepare', 'terrorist', 'attack'],\n",
       " ['calleri', 'avenge', 'final', 'defeat', 'eliminate', 'massu'],\n",
       " ['call', 'ethanol', 'blend', 'fuel', 'ahead'],\n",
       " ['carew', 'freak', 'goal', 'leave', 'rom', 'ruin'],\n",
       " ['cemetery', 'miss', 'fund'],\n",
       " ['code', 'conduct', 'toughen', 'organ', 'donation', 'regulation'],\n",
       " ['commonwealth', 'bank', 'cut', 'fix', 'home', 'loan', 'rat'],\n",
       " ['community', 'urge', 'help', 'homeless', 'youth'],\n",
       " ['council', 'chief', 'executive', 'fail', 'secure', 'position'],\n",
       " ['councillor', 'contest', 'wollongong', 'independent'],\n",
       " ['council', 'move', 'protect', 'heritage', 'garden'],\n",
       " ['council', 'welcome', 'ambulance', 'levy', 'decision'],\n",
       " ['council', 'welcome', 'insurance', 'breakthrough'],\n",
       " ['crean', 'tell', 'leadership', 'critic', 'shut'],\n",
       " ['dargo', 'fire', 'threat', 'expect', 'rise'],\n",
       " ['death', 'toll', 'continue', 'climb', 'korean', 'subway'],\n",
       " ['dems', 'hold', 'plebiscite', 'iraqi', 'conflict'],\n",
       " ['dent', 'down', 'philippoussis', 'break', 'thriller'],\n",
       " ['villiers', 'learn', 'fate', 'march'],\n",
       " ['digital', 'become', 'commonplace', 'summit'],\n",
       " ['direct', 'anger', 'govt', 'soldier', 'crean', 'urge'],\n",
       " ['dispute', 'smithton', 'vegetable', 'process', 'plant'],\n",
       " ['maul', 'month', 'toddler'],\n",
       " ['die', 'korean', 'subway', 'passenger', 'phone', 'help'],\n",
       " ['england', 'change', 'three', 'wale', 'match'],\n",
       " ['still', 'try', 'recover', 'chemical', 'clean', 'cost'],\n",
       " ['expression', 'interest', 'seek', 'build', 'livestock'],\n",
       " ['introduce', 'national', 'insurance'],\n",
       " ['firefighter', 'contain', 'acid', 'spill'],\n",
       " ['four', 'injure', 'head', 'highway', 'crash'],\n",
       " ['freedom', 'record', 'profit', 'third', 'successive'],\n",
       " ['fund', 'allocate', 'domestic', 'violence', 'victim'],\n",
       " ['fund', 'allocate', 'youth', 'risk'],\n",
       " ['fund', 'announce', 'bridge', 'work'],\n",
       " ['fund', 'cadell', 'upgrade'],\n",
       " ['fund', 'help', 'restore', 'cossack'],\n",
       " ['german', 'court', 'give', 'verdict', 'sept', 'accuse'],\n",
       " ['gilchrist', 'back', 'rest', 'policy'],\n",
       " ['girl', 'injure', 'head', 'highway', 'crash'],\n",
       " ['gold', 'coast', 'hear', 'bilby', 'project'],\n",
       " ['golf', 'club', 'feel', 'smoke', 'impact'],\n",
       " ['govt', 'blame', 'ethanol', 'unpopularity'],\n",
       " ['green', 'offer', 'police', 'station', 'alternative'],\n",
       " ['griffith', 'fire', 'project', 'knock', 'back'],\n",
       " ['group', 'meet', 'north', 'west', 'rock'],\n",
       " ['hacker', 'gain', 'access', 'eight', 'million', 'credit', 'card'],\n",
       " ['hanson', 'grossly', 'naive', 'issue', 'costa'],\n",
       " ['hanson', 'back', 'come'],\n",
       " ['harrington', 'raring', 'break'],\n",
       " ['health', 'minister', 'back', 'organ', 'tissue', 'storage'],\n",
       " ['heavy', 'metal', 'deposit', 'survey', 'near'],\n",
       " ['injure', 'rio', 'pull', 'buenos', 'air', 'open'],\n",
       " ['inquest', 'find', 'man', 'death', 'accidental'],\n",
       " ['investigation', 'underway', 'death', 'toll', 'korean'],\n",
       " ['investigation', 'underway', 'elster', 'creek', 'spill'],\n",
       " ['iraq', 'neighbour', 'plead', 'continue', 'inspection'],\n",
       " ['iraq', 'rebuild', 'white', 'house'],\n",
       " ['irish', 'arrest', 'omagh', 'bomb'],\n",
       " ['irrigators', 'vote', 'river', 'management'],\n",
       " ['israeli', 'force', 'push', 'gaza', 'strip'],\n",
       " ['jury', 'consider', 'verdict', 'murder', 'case'],\n",
       " ['juvenile', 'offender', 'unlikely', 'reoffend'],\n",
       " ['kelly', 'disgust', 'allege', 'ethanol', 'scare'],\n",
       " ['kelly', 'surprise', 'ethanol', 'confidence'],\n",
       " ['korean', 'subway', 'fire', 'still', 'miss'],\n",
       " ['last', 'minute', 'call', 'hand', 'alinghi', 'lead'],\n",
       " ['demand', 'force', 'service', 'cut'],\n",
       " ['arrest', 'central', 'hijack', 'attempt'],\n",
       " ['charge', 'cooma', 'murder'],\n",
       " ['fin', 'aboriginal', 'tent', 'embassy', 'raid'],\n",
       " ['jail', 'keno', 'fraud'],\n",
       " ['knife', 'hijack', 'light', 'plane'],\n",
       " ['martin', 'lobby', 'lose', 'seat'],\n",
       " ['massive', 'drug', 'crop', 'discover', 'western'],\n",
       " ['mayor', 'warn', 'landfill', 'protester'],\n",
       " ['meet', 'consider', 'tick', 'clearance', 'cost'],\n",
       " ['meet', 'focus', 'break', 'hill', 'water', 'woe'],\n",
       " ['moderate', 'lift', 'wag', 'growth'],\n",
       " ['young', 'drink', 'alcohol'],\n",
       " ['water', 'restriction', 'predict', 'northern'],\n",
       " ['woman', 'urge', 'become', 'councillor'],\n",
       " ['highly', 'educate', 'live'],\n",
       " ['raise', 'hospital', 'concern', 'parliament'],\n",
       " ['reject', 'ambulance', 'levy', 'claim'],\n",
       " ['mugabe', 'touch', 'paris', 'summit'],\n",
       " ['national', 'gallery', 'get', 'clear'],\n",
       " ['nato', 'give', 'green', 'light', 'defend', 'turkey'],\n",
       " ['defend', 'aboriginal', 'tent', 'embassy', 'raid'],\n",
       " ['zealand', 'impose', 'visa', 'entry', 'zimbabwe'],\n",
       " ['side', 'effect', 'whoop', 'cough', 'vaccine'],\n",
       " ['govt', 'fire', 'hold', 'back', 'vegetation'],\n",
       " ['defend', 'claim', 'run', 'race', 'campaign'],\n",
       " ['pledge', 'drought', 'relief'],\n",
       " ['govt', 'boost', 'nurse', 'number', 'overseas', 'intake'],\n",
       " ['korean', 'seek', 'asylum', 'japanese', 'embassy'],\n",
       " ['nurse', 'student', 'intake'],\n",
       " ['brother', 'time', 'say', 'ganguly', 'senior'],\n",
       " ['omodei', 'stay', 'politics'],\n",
       " ['onesteel', 'invest', 'whyalla', 'steelworks'],\n",
       " ['opposition', 'urge', 'help', 'protect', 'recherche'],\n",
       " ['orientation', 'begin', 'student'],\n",
       " ['osullivan', 'world', 'cross', 'country', 'doubt'],\n",
       " ['pagan', 'say', 'rule', 'change', 'necessary'],\n",
       " ['pair', 'face', 'court', 'murder'],\n",
       " ['patterson', 'defend', 'decision', 'attend', 'health'],\n",
       " ['patterson', 'show', 'display', 'govts', 'arrogance', 'crean'],\n",
       " ['patterson', 'snub', 'health', 'meet', 'avoid', 'lion'],\n",
       " ['peace', 'agreement', 'bring', 'respite', 'venezuela'],\n",
       " ['pienaar', 'shin', 'ajax', 'frustrate', 'arsenal'],\n",
       " ['plan', 'second', 'skatepark'],\n",
       " ['plan', 'encourage', 'farmer', 'plantation', 'timber'],\n",
       " ['nurse', 'strike', 'colleague', 'rap'],\n",
       " ['police', 'crack', 'driver', 'safety'],\n",
       " ['police', 'defend', 'aboriginal', 'tent', 'embassy', 'raid'],\n",
       " ['policewoman', 'accusation', 'feature', 'federal', 'crime'],\n",
       " ['probe', 'launch', 'plane', 'crash'],\n",
       " ['program', 'monitor', 'forest', 'harvest', 'area'],\n",
       " ['public', 'urge', 'check', 'cylinder'],\n",
       " ['public', 'warn', 'phone', 'scam'],\n",
       " ['qantas', 'international', 'crew', 'strike'],\n",
       " ['qantas', 'plan', '2500', 'job', 'outrage', 'union'],\n",
       " ['plan', 'northern', 'route', 'sack'],\n",
       " ['question', 'public', 'anger', 'grow', 'korean', 'subway'],\n",
       " ['rabbit', 'control', 'program', 'trial'],\n",
       " ['radioactive', 'spill', 'wmcs', 'olympic', 'mine'],\n",
       " ['rain', 'ease', 'wheatbelt', 'water', 'woe'],\n",
       " ['read', 'third', 'first', 'division'],\n",
       " ['record', 'amount', 'gladstone', 'venture'],\n",
       " ['refshauge', 'win', 'defamation', 'court', 'case'],\n",
       " ['regulator', 'inspect', 'canola', 'trial'],\n",
       " ['report', 'highlight', 'container', 'terminal', 'potential'],\n",
       " ['resource', 'stock', 'boost', 'ords'],\n",
       " ['restraint', 'order', 'issue', 'anti', 'discrimination'],\n",
       " ['reject', 'claim', 'authority', 'spurn'],\n",
       " ['ricciuto', 'undergo', 'surgery', 'injure', 'ankle'],\n",
       " ['rice', 'mill', 'closure', 'work'],\n",
       " ['angry', 'report', 'troop', 'harassment'],\n",
       " ['safety', 'review', 'begin', 'bushwalker', 'death'],\n",
       " ['premier', 'call', 'action', 'river', 'murray'],\n",
       " ['saudi', 'arabian', 'stand', 'trial', 'qaeda'],\n",
       " ['saudi', 'arabia', 'tell', 'arab', 'iraq', 'inevitable'],\n",
       " ['search', 'continue', 'victim', 'korean', 'subway'],\n",
       " ['second', 'resolution', 'iraq', 'expect', 'shortly'],\n",
       " ['shire', 'offer', 'assurance', 'finance'],\n",
       " ['palestinian', 'kill', 'gaza', 'incursion'],\n",
       " ['slow', 'recovery', 'predict', 'aust', 'economy'],\n",
       " ['smoke', 'ban', 'tabcorp', 'bottom', 'line'],\n",
       " ['snowtown', 'murder', 'trial', 'delay'],\n",
       " ['state', 'force', 'label', 'ethanol', 'fuel'],\n",
       " ['station', 'fix', 'home', 'phone', 'service'],\n",
       " ['sterrey', 'steer', 'shark'],\n",
       " ['still', 'sign', 'miss', 'fisherman'],\n",
       " ['stop', 'change', 'rule', 'fan', 'tell'],\n",
       " ['sugar', 'industry', 'plan', 'reveal'],\n",
       " ['surge', 'sale', 'aust'],\n",
       " ['swiss', 'challenger', 'look', 'future'],\n",
       " ['taipan', 'place', 'future', 'public', 'hand'],\n",
       " ['talk', 'asian', 'nuclear', 'arm', 'race', 'unhelpful', 'downer'],\n",
       " ['tasmanian', 'scientist', 'search', 'east', 'coast'],\n",
       " ['taylor', 'deny', 'call', 'waugh', 'quit'],\n",
       " ['teen', 'face', 'court', 'drug', 'charge'],\n",
       " ['test', 'show', 'dioxin', 'drink', 'water', 'standard'],\n",
       " ['thousand', 'remember', '61st', 'anniversary', 'darwin'],\n",
       " ['union', 'member', 'support', 'public', 'protest'],\n",
       " ['continue', 'tree', 'disease', 'study'],\n",
       " ['british', 'aircraft', 'attack', 'iraq', 'target'],\n",
       " ['stock', 'fee', 'pellet', 'fire', 'affect'],\n",
       " ['local', 'council', 'welcome', 'single', 'poll'],\n",
       " ['victorian', 'scientist', 'honour', 'award'],\n",
       " ['vowles', 'retire', 'season'],\n",
       " ['wale', 'coach', 'accuse', 'player', 'belittle'],\n",
       " ['warne', 'hear', 'friday'],\n",
       " ['webb', 'favourite', 'lady', 'master'],\n",
       " ['widnes', 'abandon', 'paul'],\n",
       " ['wildlife', 'sanctuary', 'plan', 'reveal'],\n",
       " ['williams', 'say', 'tight', 'bowl', 'warrior'],\n",
       " ['wine', 'chief', 'bounce', 'back', 'sack'],\n",
       " ['worksafe', 'probe', 'potato', 'harvester', 'injury'],\n",
       " ['dead', 'rebel', 'bomb', 'raid', 'philippine', 'army'],\n",
       " ['abattoir', 'sale'],\n",
       " ['academic', 'upbeat', 'high', 'education', 'review'],\n",
       " ['administrator', 'appoint', 'land', 'council'],\n",
       " ['declare', 'lose', 'parliamentary', 'seat'],\n",
       " ['amcor', 'record', 'solid', 'profit', 'result'],\n",
       " ['america', 'fourth', 'race', 'cancel'],\n",
       " ['arsenal', 'poise', 'swoop', 'beckham', 'report'],\n",
       " ['aust', 'drink', 'le', 'alcohol', 'smoke', 'le', 'study'],\n",
       " ['austeel', 'release', 'soon', 'govt'],\n",
       " ['australian', 'flag', 'celebrate', '100th', 'birthday'],\n",
       " ['hold', 'meet', 'port', 'kembla', 'job'],\n",
       " ['baby', 'badly', 'burn', 'brisbane', 'house', 'fire'],\n",
       " ['weather', 'might', 'cause', 'iranian', 'plane', 'crash'],\n",
       " ['beckham', 'lead', 'deplete', 'juve'],\n",
       " ['beware', 'standard', 'alcoholic', 'drink'],\n",
       " ['bilby', 'dream', 'become', 'reality'],\n",
       " ['brisbane', 'sparkies', 'head', 'strike'],\n",
       " ['britain', 'tell', 'national', 'leave', 'iraq', 'kuwait'],\n",
       " ['british', 'high', 'court', 'overturn', 'blair', 'asylum'],\n",
       " ['british', 'magician', 'entomb', 'cheese'],\n",
       " ['bungle', 'leave', 'doctor', 'wait', 'practise'],\n",
       " ['bushfire', 'coronial', 'inquiry', 'wind'],\n",
       " ['bush', 'thank', 'nato', 'support', 'turkey'],\n",
       " ['call', 'ambo', 'help', 'wake', 'fund', 'change'],\n",
       " ['canegrowers', 'hope', 'late', 'summer', 'rain'],\n",
       " ['capriati', 'hungry', 'dubai'],\n",
       " ['celt', 'underdog', 'uefa', 'clash', 'oneill'],\n",
       " ['chamber', 'vow', 'smash', 'world', 'mark'],\n",
       " ['charvis', 'pay', 'penalty', 'humphreys', 'earn', 'shock'],\n",
       " ['christmas', 'detention', 'centre', 'claim', 'quash'],\n",
       " ['claim', 'defence', 'spend', 'priority', 'health'],\n",
       " ['claim', 'education', 'policy', 'cause', 'high', 'indigenous'],\n",
       " ['claim', 'code', 'protect', 'autopsy', 'consent'],\n",
       " ['claim', 'education', 'policy', 'cause', 'high', 'indigenous'],\n",
       " ['college', 'continue', 'work', 'experience'],\n",
       " ['concern', 'fire', 'probe', 'cover', 'legal'],\n",
       " ['concorde', 'make', 'emergency', 'land', 'canada'],\n",
       " ['coronial', 'inquiry', 'expect', 'hospital', 'death'],\n",
       " ['council', 'chief', 'lament', 'advertise', 'decision'],\n",
       " ['council', 'general', 'manager', 'step'],\n",
       " ['council', 'offer', 'vandalism', 'report', 'reward'],\n",
       " ['country', 'race', 'club', 'still', 'hold', 'fear'],\n",
       " ['court', 'rule', 'longford', 'compo', 'today'],\n",
       " ['cristal', 'eight', 'match', 'libertadores', 'lose', 'streak'],\n",
       " ['cuper', 'slam', 'inter', 'recoba'],\n",
       " ['deportivo', 'slip', 'buoyant', 'swiss', 'minnow', 'basel'],\n",
       " ['distance', 'swimmer', 'maroney', 'call', 'quit'],\n",
       " ['dixon', 'dismiss', 'qantas', 'monopoly', 'claim'],\n",
       " ['downer', 'warn', 'iraq', 'action', 'could', 'begin', 'soon'],\n",
       " ['drought', 'break', 'rain', 'month', 'away'],\n",
       " ['drought', 'impact', 'reach'],\n",
       " ['drought', 'take', 'toll', 'insect'],\n",
       " ['early', 'childhood', 'development', 'receive', 'research'],\n",
       " ['elli', 'webb', 'well', 'place', 'lady', 'master'],\n",
       " ['employee', 'grant', 'restrain', 'order'],\n",
       " ['england', 'almost', 'choke', 'burger', 'king'],\n",
       " ['england', 'call', 'morris', 'first'],\n",
       " ['investigate', 'radioactive', 'spill'],\n",
       " ['esso', 'responsible', 'economic', 'loss'],\n",
       " ['esso', 'win', 'class', 'action', 'longford'],\n",
       " ['etienne', 'agree', 'tyson', 'fight'],\n",
       " ['family', 'confront', 'korean', 'president', 'elect'],\n",
       " ['fan', 'join', 'flower', 'olonga', 'anti', 'mugabe', 'protest'],\n",
       " ['ferguson', 'hail', 'beckham', 'unite', 'victory'],\n",
       " ['few', 'australian', 'jail'],\n",
       " ['fifa', 'bos', 'prepare', 'postpone', 'match'],\n",
       " ['firefighter', 'tell', 'attend', 'blaze'],\n",
       " ['fish', 'clean', 'facility', 'plan', 'announce'],\n",
       " ['flight', 'attendant', 'action', 'wont', 'affect', 'bundaberg'],\n",
       " ['forest', 'alliance', 'reject', 'hindrance', 'claim'],\n",
       " ['former', 'bank', 'worker', 'plead', 'guilty', 'theft', 'charge'],\n",
       " ['former', 'treasurer', 'charge', 'start', 'fire'],\n",
       " ['forum', 'put', 'focus', 'regional', 'need'],\n",
       " ['four', 'nominate', 'nats', 'charter', 'tower', 'preselection'],\n",
       " ['france', 'drop', 'merceron', 'gelez', 'face', 'scot'],\n",
       " ['french', 'expedition', 'site', 'heritage', 'protect'],\n",
       " ['fuel', 'price', 'jump', 'newcastle'],\n",
       " ['fulham', 'smash', 'west', 'brom', 'quickfire', 'trio'],\n",
       " ['ganguly', 'lead', 'india', 'victory'],\n",
       " ['gartner', 'win', 'wind'],\n",
       " ['gippsland', 'firefighter', 'remain', 'guard'],\n",
       " ['govt', 'canvas', 'way', 'improve', 'child', 'development'],\n",
       " ['govt', 'work', 'coroner', 'suicide', 'report'],\n",
       " ['greenpeace', 'call', 'canola'],\n",
       " ['green', 'dump', 'anti', 'terror', 'kit', 'howard', 'doorstep'],\n",
       " ['group', 'air', 'truancy', 'concern'],\n",
       " ['group', 'praise', 'outgo', 'opposition', 'agriculture'],\n",
       " ['group', 'take', 'reef', 'build'],\n",
       " ['hagan', 'blood', 'rookie', 'penrith'],\n",
       " ['houllier', 'back', 'owen', 'break', 'rush', 'score', 'record'],\n",
       " ['howard', 'step', 'criticism', 'anti', 'protester'],\n",
       " ['howard', 'vow', 'stay', 'iraq', 'crisis'],\n",
       " ['hussein', 'say', 'iraq', 'doesnt', 'want'],\n",
       " ['illegal', 'fish', 'spot', 'identify'],\n",
       " ['immigration', 'raid', 'melbourne', 'draw', 'flak'],\n",
       " ['impatience', 'grow', 'water', 'management', 'plan'],\n",
       " ['indy', 'meet', 'likely', 'include', 'rain', 'race', 'talk'],\n",
       " ['injury', 'threaten', 'unite', 'final'],\n",
       " ['interest', 'seek', 'build', 'stage', 'bypass'],\n",
       " ['investigation', 'underway', 'qantas', 'skid'],\n",
       " ['investor', 'plan', 'ethanol', 'plant', 'lament', 'trial'],\n",
       " ['iran', 'military', 'plane', 'crash', 'kill'],\n",
       " ['iran', 'plane', 'crash', 'least', 'aboard'],\n",
       " ['iraqi', 'human', 'shield', 'crime'],\n",
       " ['italy', 'remain', 'unchanged', 'ireland', 'clash'],\n",
       " ['kalgoorlie', 'boulder', 'crime', 'rate', 'decline'],\n",
       " ['kayakers', 'rescue', 'second', 'adventure'],\n",
       " ['kirwan', 'stick', 'win', 'formula', 'ireland'],\n",
       " ['korean', 'book', 'date', 'seed', 'roddick'],\n",
       " ['landholder', 'contribution', 'still', 'discussion'],\n",
       " ['lawyer', 'allow', 'visit', 'manus', 'detention', 'centre'],\n",
       " ['lawyer', 'appeal', 'man', 'sept', 'conviction'],\n",
       " ['lawyer', 'review', 'case', 'esso', 'appeal'],\n",
       " ['lend', 'lease', 'post', 'million', 'loss'],\n",
       " ['lethal', 'back', 'nine', 'point', 'rule', 'change'],\n",
       " ['airport', 'tunnel', 'remain', 'close', 'accident'],\n",
       " ['macarthur', 'kingfisher', 'suffer', 'minor', 'damage'],\n",
       " ['apologise', 'plane', 'hijack'],\n",
       " ['await', 'sentence', 'denmark', 'murder'],\n",
       " ['question', 'backpacker', 'death'],\n",
       " ['charge', 'roxby', 'down', 'plane', 'incident'],\n",
       " ['hospital', 'stab', 'attack'],\n",
       " ['lose', 'defamation', 'compo'],\n",
       " ['murder', 'charge', 'refuse', 'bail'],\n",
       " ['face', 'court', 'allege', 'hijack'],\n",
       " ['face', 'court', 'attempt', 'arm', 'robbery'],\n",
       " ['whack', 'thatcher', 'get', 'month', 'jail'],\n",
       " ['maroney', 'call', 'quit'],\n",
       " ['medal', 'recognise', 'islander', 'effort'],\n",
       " ['meet', 'consider', 'glenelg', 'river', 'future'],\n",
       " ['melbourne', 'receive', 'massive', 'compo', 'payout'],\n",
       " ['mgladbach', 'leave', 'danger', 'zone', 'home'],\n",
       " ['mine', 'rat', 'challenge', 'result', 'expect', 'march'],\n",
       " ['miner', 'explore', 'nickel', 'deposit'],\n",
       " ['molotov', 'cocktail', 'suspect', 'melb', 'hotel', 'fire'],\n",
       " ['anti', 'rally', 'plan'],\n",
       " ['land', 'noosa', 'national', 'park'],\n",
       " ['teacher', 'danger', 'student', 'union'],\n",
       " ['detain', 'immigration', 'raid'],\n",
       " ['woman', 'unlikely', 'join', 'men', 'master'],\n",
       " ['mosley', 'ready', 'engine', 'compromise'],\n",
       " ['motorist', 'avoid', 'ethanol', 'blend', 'fuel', 'labor'],\n",
       " ['crab', 'business', 'move'],\n",
       " ['murray', 'meet', 'wouldnt', 'detract', 'ministerial'],\n",
       " ['nats', 'seek', 'probe', 'bushfires', 'probe'],\n",
       " ['boat', 'take', 'waterway'],\n",
       " ['zealand', 'discover', 'kenya', 'fate', 'thursday'],\n",
       " ['fund', 'discussion', 'poll'],\n",
       " ['penalty', 'church', 'damage', 'monument'],\n",
       " ['coalition', 'make', 'magic', 'pudding', 'election'],\n",
       " ['govt', 'announce', 'community', 'benefit', 'grant'],\n",
       " ['offer', 'roll', 'classic', 'holden'],\n",
       " ['price', 'high'],\n",
       " ['oldfield', 'front', 'court', 'nation'],\n",
       " ['nation', 'selection', 'hear', 'continue'],\n",
       " ['packer', 'hand', 'licence', 'pistol', 'investigation'],\n",
       " ['pakistani', 'force', 'chief', 'kill', 'crash'],\n",
       " ['palaszczuk', 'wont', 'make', 'disaster', 'fund', 'promise'],\n",
       " ['park', 'move', 'protect', 'high', 'conservation', 'area'],\n",
       " ['peace', 'group', 'deny', 'member', 'harass', 'soldier'],\n",
       " ['people', 'trap', 'pile'],\n",
       " ['pilot', 'make', 'emergency', 'land', 'adelaide', 'airport'],\n",
       " ['player', 'continue', 'zimbabwe', 'protest'],\n",
       " ['criticism', 'protester', 'disgraceful', 'crean'],\n",
       " ['defend', 'criticism', 'anti', 'protester'],\n",
       " ['police', 'continue', 'probe', 'human', 'remain', 'find'],\n",
       " ['police', 'find', 'second', 'cannabis', 'crop'],\n",
       " ['police', 'hope', 'gain', 'edge', 'weapon', 'user'],\n",
       " ['police', 'locate', 'miss', 'family', 'house'],\n",
       " ['police', 'make', 'arrest', 'drug', 'raid'],\n",
       " ['police', 'seek', 'help', 'piracy'],\n",
       " ['police', 'office', 'fight', 'chop', 'chop', 'trade'],\n",
       " ['police', 'wont', 'rule', 'link', 'drug', 'plantation'],\n",
       " ['politician', 'breed', 'public', 'anti', 'troop', 'sentiment'],\n",
       " ['pollock', 'deny', 'split', 'protea', 'camp'],\n",
       " ['population', 'drift', 'force', 'federal', 'boundary'],\n",
       " ['powell', 'visit', 'asia', 'ease', 'korean'],\n",
       " ['prediction', 'good', 'wheatbelt', 'rain'],\n",
       " ['probe', 'launch', 'fatal', 'police', 'pursuit'],\n",
       " ['protester', 'condemn', 'howard', 'criticism', 'anti'],\n",
       " ['protocol', 'follow', 'immigration', 'raid'],\n",
       " ['public', 'warn', 'snake', 'handle', 'danger'],\n",
       " ['pump', 'continue', 'richmond', 'flood'],\n",
       " ['qantas', 'draw', 'flak', 'redundancy', 'talk'],\n",
       " ['qantas', 'flag', 'cut', 'despite', 'record', 'profit'],\n",
       " ['qantas', 'record', 'million', 'profit'],\n",
       " ['qfvg', 'upset', 'retail', 'price'],\n",
       " ['govt', 'say', 'hospital', 'schedule'],\n",
       " ['nats', 'close', 'deal', 'libs', 'springborg'],\n",
       " ['race', 'club', 'sneak', 'point', 'peru'],\n",
       " ['rain', 'boost', 'farmer', 'confidence'],\n",
       " ['rain', 'force', 'aussie', 'bowl', 'change', 'buchanan'],\n",
       " ['raid', 'target', 'newsagency'],\n",
       " ['road', 'fund', 'tackle', 'flood'],\n",
       " ['ronaldo', 'put', 'real', 'back', 'race'],\n",
       " ['ruiz', 'trick', 'guatemala', 'rout', 'nicaragua'],\n",
       " ['saff', 'gauge', 'feel', 'plan', 'crown', 'land', 'bill'],\n",
       " ['safin', 'escude', 'rotterdam', 'comeback', 'trail'],\n",
       " ['govt', 'defend', 'move', 'force', 'fine', 'defaulter'],\n",
       " ['govt', 'appeal', 'fish', 'decision'],\n",
       " ['schmeichel', 'miss', 'arsenal', 'trip'],\n",
       " ['school', 'reopen', 'paint', 'fume', 'scare'],\n",
       " ['scotland', 'refuse', 'panic'],\n",
       " ['seaman', 'injury', 'crisis', 'arsenal'],\n",
       " ['self', 'clone', 'crayfish', 'threaten', 'native', 'specie'],\n",
       " ['socceroos', 'creep', 'world', 'rank'],\n",
       " ['solar', 'car', 'turn', 'head'],\n",
       " ['sport', 'task', 'force', 'plan', 'begin'],\n",
       " ['start', 'america', 'race', 'four', 'delay'],\n",
       " ['stone', 'stay', 'federal', 'liberal', 'president'],\n",
       " ['need', 'good', 'downpour'],\n",
       " ['taipan', 'keep', 'play', 'dream', 'alive'],\n",
       " ['police', 'question', 'injure', 'house', 'fire'],\n",
       " ['taxi', 'driver', 'face', 'trial'],\n",
       " ['tension', 'increase', 'fighter', 'stray'],\n",
       " ['terror', 'weapon', 'pose', 'minimal', 'risk', 'british', 'expert'],\n",
       " ['thousand', 'visit', 'dairy', 'field', 'day'],\n",
       " ['three', 'israeli', 'injure', 'hamas', 'make', 'rocket'],\n",
       " ['shuffle', 'pack', 'defeat', 'loom'],\n",
       " ['tomasson', 'give', 'milan', 'narrow', 'lokomotiv'],\n",
       " ['tough', 'time', 'ahead', 'water', 'allocation'],\n",
       " ['tourism', 'industry', 'must', 'protect', 'iraq'],\n",
       " ['trial', 'hear', 'woman', 'deny', 'kill', 'fiance'],\n",
       " ['triathletes', 'back', 'bris', 'gold', 'coast', 'bikeway'],\n",
       " ['truck', 'roll', 'destroy', 'furniture'],\n",
       " ['turkey', 'stand', 'firm', 'offer'],\n",
       " ['turkey', 'still', 'undecided', 'gulf', 'attack'],\n",
       " ['union', 'disunity', 'mccains', 'enterprise', 'agreement'],\n",
       " ['security', 'council', 'end', 'open', 'debate'],\n",
       " ['invite', 'talk', 'burmese', 'military', 'junta'],\n",
       " ['launch', 'homeland', 'security', 'ready', 'campaign'],\n",
       " ['market', 'remain', 'jittery', 'shadow'],\n",
       " ['tell', 'turkey', 'time', 'run', 'offer'],\n",
       " ['take', 'action', 'europe'],\n",
       " ['uzbek', 'journalist', 'sentence', 'seven', 'year', 'jail'],\n",
       " ['verstappen', 'please', 'minardis', 'track', 'debut'],\n",
       " ['govt', 'speak', 'rice', 'mill', 'closure', 'claim'],\n",
       " ['fire', 'crew', 'battle', 'bushfire', 'marangaroo'],\n",
       " ['talk', 'take', 'toll', 'ords'],\n",
       " ['iraq', 'could', 'cost', '120bn', 'economist'],\n",
       " ['watkins', 'jeer', 'education', 'forum'],\n",
       " ['wine', 'destine'],\n",
       " ['western', 'power', 'reveal', 'power', 'supply', 'detail'],\n",
       " ['wide', 'economy', 'grow', 'strong'],\n",
       " ['wine', 'exporter', 'urge', 'push', 'ahead'],\n",
       " ['winemaker', 'move', 'consider', 'loss', 'industry'],\n",
       " ['woman', 'face', 'court', 'child', 'prostitution'],\n",
       " ['yacht', 'lose', 'mast', 'trawler', 'incident'],\n",
       " ['zimbabwe', 'bar', 'british', 'reporter', 'world'],\n",
       " ['accc', 'timid', 'petrol', 'price', 'investigation'],\n",
       " ['action', 'want', 'low', 'indigenous', 'unemployment', 'rate'],\n",
       " ['rule', 'scrap', 'federal', 'seat', 'hurt'],\n",
       " ['shut', 'malaga', 'claim', 'goalless', 'draw'],\n",
       " ['allan', 'guilty', 'cash', 'charge'],\n",
       " ['allan', 'unlikely', 'appeal', 'fine'],\n",
       " ['air', 'hospital', 'reform', 'concern'],\n",
       " ['deliver', 'health', 'concern', 'list', 'politician'],\n",
       " ['andersson', 'atwal', 'miss', 'record', 'malaysia'],\n",
       " ['antarctic', 'rock', 'could', 'global', 'warm'],\n",
       " ['confident', 'growth', 'tough', 'environment'],\n",
       " ['million', 'office'],\n",
       " ['arab', 'state', 'press', 'crime', 'condemnation'],\n",
       " ['least', 'dead', 'club', 'fire'],\n",
       " ['least', 'injure', 'rhode', 'island', 'nightclub', 'fire'],\n",
       " ['aussie', 'dollar', 'continue', 'climb'],\n",
       " ['aust', 'could', 'four', 'qaeda', 'target', 'list'],\n",
       " ['australia', 'withdraw', 'bougainville', 'peace', 'monitor'],\n",
       " ['aust', 'share', 'market', 'end', 'week', 'negative', 'territory'],\n",
       " ['bartlett', 'vow', 'block', 'govt', 'plan', 'nuclear'],\n",
       " ['beattie', 'unaware', 'tree', 'clear', 'fund', 'hold'],\n",
       " ['bedi', 'label', 'murali', 'chucker'],\n",
       " ['belgian', 'police', 'recover', 'steal', 'work'],\n",
       " ['port', 'kembla', 'production', 'restart'],\n",
       " ['gun', 'back', 'business', 'premier', 'league'],\n",
       " ['blake', 'paradorn', 'upset', 'memphis'],\n",
       " ['bracks', 'back', 'rule', 'dean', '50000', 'year', 'pension'],\n",
       " ['british', 'govt', 'clash', 'high', 'court', 'asylum'],\n",
       " ['british', 'award', 'platform', 'iraq'],\n",
       " ['briton', 'stab', 'death', 'bangkok'],\n",
       " ['brothel', 'owner', 'acquit', 'hire', 'underage'],\n",
       " ['brothel', 'owner', 'front', 'court', 'allegedly', 'hire'],\n",
       " ['burma', 'sentence', 'jail', 'fin'],\n",
       " ['bushfires', 'burn', 'hectare'],\n",
       " ['cairn', 'canberra', 'grab', 'win'],\n",
       " ['cairn', 'injure', 'kiwi', 'nightclub', 'brawl'],\n",
       " ['cairn', 'injure', 'nightclub', 'brawl', 'report'],\n",
       " ['call', 'scrap', 'national', 'plantation', 'target'],\n",
       " ['candleholders', 'recall', 'fire', 'risk'],\n",
       " ['carr', 'hook', 'brogden', 'debate'],\n",
       " ['celt', 'sink', 'stuttgart'],\n",
       " ['central', 'park', 'area', 'expand'],\n",
       " ['centrelink', 'offer', 'drought', 'counsel'],\n",
       " ['china', 'wage', 'chemical', 'chew', 'blob'],\n",
       " ['chirac', 'mugabe', 'talk', 'sideline', 'africa', 'summit'],\n",
       " ['christmas', 'island', 'resident', 'aware', 'detention'],\n",
       " ['claim', 'inventory', 'cause', 'high', 'petrol', 'price'],\n",
       " ['claim', 'live', 'sheep', 'cattle', 'export', 'threaten'],\n",
       " ['claim', 'rain', 'boost', 'stock', 'price'],\n",
       " ['class', 'action', 'cost', 'esso'],\n",
       " ['clinton', 'cancel', 'trip', 'india'],\n",
       " ['coalition', 'promise', 'scrap', 'angler'],\n",
       " ['committal', 'continue', 'goulburn', 'jail', 'riot'],\n",
       " ['costello', 'unhappy', 'wasnt', 'consult', 'stone'],\n",
       " ['council', 'approve', 'poultry', 'farm'],\n",
       " ['council', 'await', 'rain'],\n",
       " ['council', 'consider', 'indigenous', 'caravan', 'park', 'plan'],\n",
       " ['council', 'election', 'plan'],\n",
       " ['council', 'reject', 'combine', 'field', 'day', 'stand', 'idea'],\n",
       " ['council', 'change', 'tree', 'protection'],\n",
       " ['council', 'fund', 'groundwater', 'study'],\n",
       " ['counsel', 'begin', 'sum', 'warn', 'dope', 'hear'],\n",
       " ['criminal', 'charge', 'pending', 'korea', 'subway', 'probe'],\n",
       " ['crocs', 'prove', 'good', 'bullet'],\n",
       " ['date', 'bushfires', 'coronial', 'inquiry'],\n",
       " ['dean', 'receive', 'lifetime', 'parliamentary', 'pension'],\n",
       " ['death', 'spell', 'record', 'marriage'],\n",
       " ['demon', 'thump', 'tiger'],\n",
       " ['deportivo', 'cali', 'outclass', 'sulky', 'river', 'plate'],\n",
       " ['deschamps', 'chase', 'flame', 'marseille'],\n",
       " ['disaster', 'fund', 'allow', 'shire', 'complete'],\n",
       " ['dortmund', 'ready', 'hound', 'bayern'],\n",
       " ['downpour', 'close', 'tourist', 'road'],\n",
       " ['drought', 'impact', 'roadworks'],\n",
       " ['drought', 'predict', 'long', 'last', 'impact'],\n",
       " ['education', 'dept', 'consider', 'rural', 'concern'],\n",
       " ['family', 'court', 'reject', 'invalidate', 'transsexual'],\n",
       " ['farmer', 'celebrate', 'good', 'rain'],\n",
       " ['fear', 'patterson', 'hide', 'news', 'health', 'minister'],\n",
       " ['federal', 'fund', 'seek', 'wave', 'study'],\n",
       " ['govt', 'consider', 'appeal', 'transsexual'],\n",
       " ['firefighter', 'battle', 'contain', 'beechford', 'blaze'],\n",
       " ['fisher', 'meet', 'minister', 'court', 'rule'],\n",
       " ['fish', 'group', 'seek', 'action', 'pilchard', 'import'],\n",
       " ['flight', 'attendant', 'action', 'likely', 'affect'],\n",
       " ['footy', 'great', 'get', 'behind', 'indigenous', 'right', 'campaign'],\n",
       " ['former', 'socceroos', 'coach', 'thomson', 'die'],\n",
       " ['funeral', 'hold', 'cricket', 'legend'],\n",
       " ['funk', 'lead', 'elkington', 'california'],\n",
       " ['gebrselassie', 'plan', 'world', 'record', 'comeback'],\n",
       " ['witness', 'church', 'bell', 'hand'],\n",
       " ['gold', 'coast', 'get', 'tourism', 'assurance'],\n",
       " ['group', 'concern', 'rain', 'bring', 'wrong', 'impression'],\n",
       " ['group', 'get', 'clear', 'understand', 'farmer'],\n",
       " ['guga', 'reach', 'buenos', 'air', 'quarter'],\n",
       " ['health', 'service', 'speak', 'patient', 'death'],\n",
       " ['hoddle', 'murderer', 'grant', 'right', 'seek', 'judicial'],\n",
       " ['horse', 'ride', 'enact', 'mine', 'find'],\n",
       " ['howard', 'repeat', 'zimbabwe', 'boycott', 'call'],\n",
       " ['hundred', 'triathletes', 'head', 'coffs'],\n",
       " ['hungarian', 'thief', 'make', 'amend', 'post'],\n",
       " ['hyypia', 'hero', 'liverpool', 'bounce', 'back'],\n",
       " ['iaea', 'visit', 'iran', 'as', 'nuclear', 'program'],\n",
       " ['indian', 'jail', 'smuggle', 'pakistani', 'suitcase'],\n",
       " ['indian', 'player', 'retrace', 'gandhi', 'journey'],\n",
       " ['indonesia', 'say', 'australia', 'travel', 'warn'],\n",
       " ['industrial', 'action', 'impact', 'brisbane', 'school'],\n",
       " ['investigation', 'underway', 'pile'],\n",
       " ['investigator', 'probe', 'hospital', 'staff', 'complaint'],\n",
       " ['jackson', 'hit', 'back', 'explosive', 'british', 'interview'],\n",
       " ['japanese', 'tourist', 'drown', 'gold', 'coast', 'surf'],\n",
       " ['joblink', 'issue', 'statement', 'sack'],\n",
       " ['keegan', 'aim', 'bring', 'arsenal', 'earth'],\n",
       " ['kenya', 'award', 'point', 'kiwi', 'call'],\n",
       " ['kylie', 'minogues', 'posterior', 'brit'],\n",
       " ['land', 'council', 'dismiss', 'administrator', 'appoint'],\n",
       " ['langer', 'name', 'player', 'year'],\n",
       " ['liverpool', 'lazio', 'hold', 'krakow'],\n",
       " ['llewellyn', 'impress', 'patterson', 'show'],\n",
       " ['longreach', 'water', 'restriction', 'remain'],\n",
       " ['loose', 'cannon', 'afridi', 'pakistan'],\n",
       " ['lovenkrands', 'dream', 'hampden', 'return'],\n",
       " ['water', 'spark', 'boat', 'lake', 'albert'],\n",
       " ['male', 'find', 'body', 'murder', 'schoolgirl'],\n",
       " ['accuse', 'sell', 'bali', 'bomb', 'chemical', 'go'],\n",
       " ['appear', 'court', 'charge', 'stuttle', 'murder'],\n",
       " ['charge', 'stuttle', 'murder'],\n",
       " ['fail', 'overturn', 'conviction', '1600yo', 'bell'],\n",
       " ['hospital', 'receive', 'severe', 'electric'],\n",
       " ['hospital', 'stab'],\n",
       " ['jail', 'fatally', 'stab', 'facto'],\n",
       " ['jail', 'life', 'murder'],\n",
       " ['question', 'stuttle', 'murder'],\n",
       " ['face', 'court', 'fatal'],\n",
       " ['agree', 'deal', 'eriksson', 'ferguson'],\n",
       " ['threaten', 'melbourne', 'water', 'supply', 'bail'],\n",
       " ['highlight', 'potential', 'river', 'salinity', 'problem'],\n",
       " ['mayor', 'angry', 'mural', 'vandalism'],\n",
       " ['mine', 'giant', 'call', 'fund', 'boost', 'native'],\n",
       " ['montgomery', 'enter', 'indoor', 'national'],\n",
       " ['rain', 'delay', 'tough', 'water', 'restriction'],\n",
       " ['troop', 'help', 'hunt', 'sayyaf', 'rebel'],\n",
       " ['want', 'tank', 'battalion', 'rumour', 'investigate'],\n",
       " ['welcome', 'police', 'station', 'announcement'],\n",
       " ['nardell', 'mine', 'close', 'receiver', 'appoint'],\n",
       " ['nauru', 'appeal', 'help', 'keep', 'nation', 'airline'],\n",
       " ['battle', 'britain', 'loom', 'uefa'],\n",
       " ['newcastle', 'city', 'notch', 'win', 'stallion', 'draw', 'south'],\n",
       " ['commercial', 'crab', 'restriction', 'plan'],\n",
       " ['disability', 'respite', 'service'],\n",
       " ['korea', 'duck', 'nuclear', 'talk', 'summit'],\n",
       " ['korea', 'warn', 'wont', 'peace'],\n",
       " ['cost', 'blowout', 'forecast', 'water', 'treatment', 'plan'],\n",
       " ['coroner', 'clear', 'doc', 'death', 'toddler'],\n",
       " ['grazier', 'record', 'heavy', 'rainfall'],\n",
       " ['opps', 'drug', 'free', 'prison', 'plan', 'amery'],\n",
       " ['nurse', 'home', 'worker', 'suspend'],\n",
       " ['olonga', 'sack', 'club'],\n",
       " ['million', 'ticket', 'sell', 'rugby', 'world'],\n",
       " ['otago', 'open', 'super'],\n",
       " ['owner', 'hesitant', 'northerly', 'overseas', 'jaunt'],\n",
       " ['pair', 'face', 'court', 'machete', 'attack'],\n",
       " ['palestinian', 'kill', 'gaza', 'strip', 'cross', 'point'],\n",
       " ['patterson', 'irresponsible', 'show', 'edmond'],\n",
       " ['patterson', 'show', 'childish', 'minister'],\n",
       " ['patterson', 'say', 'health', 'meet', 'waste', 'time'],\n",
       " ['petrol', 'price', 'rise'],\n",
       " ['petrol', 'break'],\n",
       " ['plan', 'include', 'puckapunyal', 'cull'],\n",
       " ['plan', 'intersection', 'revamp', 'begin'],\n",
       " ['accuse', 'european', 'country', 'encourage', 'saddam'],\n",
       " ['defend', 'protest', 'comment'],\n",
       " ['choice', 'stay', 'iraq'],\n",
       " ['praise', 'costello', 'leadership', 'patience'],\n",
       " ['governor', 'general', 'urge', 'election', 'unity'],\n",
       " ['police', 'charge', 'stab'],\n",
       " ['police', 'continue', 'investigate', 'cannabis', 'crop'],\n",
       " ['police', 'station', 'face', 'uncertainty'],\n",
       " ['powell', 'call', 'uphold', 'responsibility'],\n",
       " ['push', 'likely', 'seek', 'age', 'care', 'worker'],\n",
       " ['push', 'extend', 'fraser', 'world', 'heritage', 'list'],\n",
       " ['qantas', 'plane', 'make', 'emergency', 'land'],\n",
       " ['qantas', 'say', 'info', 'prime', 'terrorist'],\n",
       " ['qantas', 'urge', 'update', 'security', 'shadow'],\n",
       " ['govt', 'reject', 'land', 'acquisition', 'claim'],\n",
       " ['racv', 'surprise', 'petrol', 'ration', 'talk'],\n",
       " ['rail', 'firm', 'as', 'worker', 'need'],\n",
       " ['rain', 'bring', 'stock', 'loss'],\n",
       " ['rain', 'cause', 'chaos', 'melbourne', 'road'],\n",
       " ['rain', 'expect', 'continue', 'across'],\n",
       " ['rainfall', 'likely', 'clear', 'weekend'],\n",
       " ['rain', 'welcome', 'relief', 'drought'],\n",
       " ['rain', 'enough', 'drought', 'break'],\n",
       " ['rain', 'offer', 'water', 'supply', 'boost'],\n",
       " ['rejuvenate', 'tyson', 'cure', 'cash', 'injection'],\n",
       " ['resident', 'fire', 'assurance'],\n",
       " ['retail', 'sector', 'air', 'trade', 'hour', 'review', 'concern'],\n",
       " ['romario', 'jeer', 'team', 'brawl', 'fluminense', 'hold'],\n",
       " ['round', 'world', 'forget'],\n",
       " ['ruddock', 'commend', 'australia', 'traveller', 'control'],\n",
       " ['salinity', 'expert', 'water', 'catchment'],\n",
       " ['lose', 'seat', 'federal', 'parliament'],\n",
       " ['soldier', 'charge', 'misconduct'],\n",
       " ['schumacher', 'seek', 'speed', 'le', 'noise'],\n",
       " ['seaman', 'ajax', 'match'],\n",
       " ['search', 'good', 'life', 'pay'],\n",
       " ['second', 'nightclub', 'fire', 'kill'],\n",
       " ['senator', 'offer', 'input', 'coast', 'issue'],\n",
       " ['several', 'dead', 'fire', 'rhode', 'island', 'nightclub'],\n",
       " ['shire', 'say', 'plan', 'policy', 'compromise'],\n",
       " ['slap', 'paedophile', 'amputate'],\n",
       " ['state', 'territory', 'health', 'minister', 'arrive', 'meet'],\n",
       " ['steal', 'wage', 'report', 'look', 'improve', 'indigenous'],\n",
       " ['strike', 'expect', 'mean', 'milk', 'shortage'],\n",
       " ['strike', 'disrupt', 'milk', 'supply'],\n",
       " ['study', 'consider', 'alternative', 'crop', 'sugar', 'region'],\n",
       " ['study', 'probe', 'snowy', 'motorcycle', 'crash'],\n",
       " ['teacher', 'shortage', 'bad', 'report'],\n",
       " ['team', 'mat', 'send', 'best', 'wish', 'warne'],\n",
       " ['telstra', 'chief', 'embarrass', 'billion', 'writedown'],\n",
       " ['telstra', 'punish', 'massive', 'hong', 'kong', 'write'],\n",
       " ['telstra', 'still', 'hurt', 'joint', 'venture'],\n",
       " ['thieve', 'target', 'esperance', 'car'],\n",
       " ['timor', 'treaty', 'ratfied', 'shortly', 'martin'],\n",
       " ['trouble', 'torino', 'pray', 'miracle'],\n",
       " ['tuckey', 'lament', 'gungahlin', 'drive', 'plan', 'problem'],\n",
       " ['turkey', 'delay', 'vote', 'troop'],\n",
       " ['turkey', 'dig', 'heel', 'lobby', 'support'],\n",
       " ['turkey', 'force', 'weigh', 'strategy'],\n",
       " ['union', 'condemn', 'qantass', 'contract', 'labour', 'plan'],\n",
       " ['ask', 'indonesia', 'improve', 'human', 'right', 'record'],\n",
       " ['boost', 'troop', 'number', 'philippine'],\n",
       " ['chiropractor', 'address', 'gold', 'coast', 'gather'],\n",
       " ['intelligence', 'analyst', 'find', 'guilty', 'spy'],\n",
       " ['researcher', 'prepare', 'move'],\n",
       " ['valencia', 'sense', 'victory', 'benitez', 'benitez'],\n",
       " ['govt', 'get', 'farmer', 'drought', 'update'],\n",
       " ['victorian', 'farmer', 'hope', 'rain', 'break', 'drought'],\n",
       " ['victoria', 'welcome', 'rain', 'relief'],\n",
       " ['vinnicombe', 'reject', 'freeway', 'claim'],\n",
       " ['waratah', 'super', 'opener'],\n",
       " ['impact', 'exercise', 'unknown'],\n",
       " ['warne', 'decision', 'make', 'saturday'],\n",
       " ['warne', 'dope', 'hear', 'underway'],\n",
       " ['williams', 'mclaren', 'plan', 'take', 'court'],\n",
       " ['wine', 'avocado', 'drive', 'mutton', 'wool'],\n",
       " ['wisla', 'hold', 'lazio', 'goal', 'thriller'],\n",
       " ['woodgate', 'tell', 'stay', 'away', 'elland', 'road'],\n",
       " ['worker', 'return', 'work', 'burrup'],\n",
       " ['youth', 'group', 'unhappy', 'appeal', 'carers'],\n",
       " ['confirm', 'dead', 'nightclub', 'fire'],\n",
       " ['tourist', 'attraction', 'honour', 'award', 'night'],\n",
       " ['adelaide', 'break', 'port', 'heart'],\n",
       " ['qaeda', 'member', 'jail', 'terrorist', 'plot'],\n",
       " ['arafat', 'number', 'outline', 'propose', 'ceasefire'],\n",
       " ['athens', 'risk', 'turn', 'game', 'disaster'],\n",
       " ['australia', 'urge', 'abandon', 'zimbabwe', 'world', 'match'],\n",
       " ['black', 'black', 'cap'],\n",
       " ['blix', 'order', 'destruction', 'iraqi', 'missile'],\n",
       " ['botch', 'operation', 'leave', 'teenager', 'brain', 'damage'],\n",
       " ['brockovich', 'take', 'cancer', 'crusade', 'court'],\n",
       " ['brogden', 'accuse', 'carr', 'fudge', 'ambulance', 'figure'],\n",
       " ['brumbies', 'red', 'ballymore'],\n",
       " ['cairn', 'play', 'despite', 'brawl'],\n",
       " ['call', 'australian', 'human', 'right'],\n",
       " ['canberra', 'capital', '2003', 'championship'],\n",
       " ['capital', 'flame', 'wnbl', 'title'],\n",
       " ['captain', 'refuse', 'ship', 'wheat', 'iraq'],\n",
       " ['childrens', 'right', 'overlook', 'advocate'],\n",
       " ['confident', 'win', 'low', 'house', 'seat'],\n",
       " ['corium', 'stun', 'nalbandian', 'reach', 'argentina', 'semi'],\n",
       " ['croatia', 'launch', 'membership'],\n",
       " ['crusader', 'begin', 'defence'],\n",
       " ['darwin', 'police', 'investigate', 'attempt', 'assault'],\n",
       " ['davy', 'webb', 'share', 'master', 'lead'],\n",
       " ['death', 'toll', 'rise', 'club', 'blaze'],\n",
       " ['deputy', 'say', 'iraq', 'ready', 'dialogue'],\n",
       " ['despite', 'rain', 'govt', 'say', 'drought', 'isnt'],\n",
       " ['donald', 'leave', 'bangladesh', 'clash'],\n",
       " ['dumbledore', 'replacement', 'pick', 'potter', 'film'],\n",
       " ['eagle', 'docker', 'despite'],\n",
       " ['faldo', 'withdraw', 'match', 'play', 'tournament'],\n",
       " ['farina', 'pay', 'tribute', 'thomson'],\n",
       " ['female', 'cosmonaut', 'keep', 'foot', 'grind'],\n",
       " ['ferrero', 'escude', 'hobble', 'rotterdam'],\n",
       " ['ferreros', 'rotterdam', 'campaign', 'end', 'agony'],\n",
       " ['flash', 'flood', 'keep', 'busy'],\n",
       " ['former', 'star', 'koen', 'lick', 'cat'],\n",
       " ['fourth', 'race', 'postpone'],\n",
       " ['freeman', 'split', 'husband'],\n",
       " ['french', 'african', 'leader', 'support', 'iraq', 'inspection'],\n",
       " ['gebrselassie', 'break', 'mile', 'indoor'],\n",
       " ['gebrselassie', 'break', 'feofanova', 'reach'],\n",
       " ['gurkha', 'discrimination', 'case', 'fail', 'court'],\n",
       " ['hear', 'adjourn', 'prison', 'riot'],\n",
       " ['pain', 'sideline', 'golf', 'legend', 'palmer'],\n",
       " ['howell', 'lead', 'california'],\n",
       " ['hussain', 'giles', 'recall', 'pakistan', 'clash'],\n",
       " ['iaea', 'begin', 'iran', 'nuclear', 'assessment'],\n",
       " ['iraq', 'wheat', 'comment', 'political', 'vaile'],\n",
       " ['jackson', 'lead', 'cap', 'back', 'back', 'title'],\n",
       " ['japan', 'back', 'campaign', 'fresh', 'iraq', 'vote'],\n",
       " ['johnson', 'pittman', 'excel', 'canberra'],\n",
       " ['kangaroo', 'thump', 'essendon', 'hawk', 'edge', 'saint'],\n",
       " ['kookaburra', 'force', 'dutch', 'draw'],\n",
       " ['labor', 'target', 'council', 'golden', 'handshake'],\n",
       " ['lara', 'jump', 'warn', 'defence'],\n",
       " ['light', 'wind', 'delay', 'fourth', 'america', 'race'],\n",
       " ['likud', 'party', 'still', 'without', 'coalition', 'partner'],\n",
       " ['long', 'haul', 'grazier', 'rain', 'break'],\n",
       " ['massa', 'test', 'drive', 'championship', 'win', 'ferrari'],\n",
       " ['metro', 'recruit', 'woman', 'driver', 'position'],\n",
       " ['newcastle', 'secure', 'third', 'spot'],\n",
       " ['confirmation', 'iraqi', 'wheat', 'order'],\n",
       " ['greece', 'lightning', 'olympic', 'work', 'control'],\n",
       " ['plan', 'inquiry', 'community', 'service'],\n",
       " ['health', 'minister', 'call', 'meet', 'cwealth'],\n",
       " ['ntini', 'star', 'bangladesh', 'fell'],\n",
       " ['mayor', 'play', 'terrorist', 'attack', 'speculation'],\n",
       " ['cricket', 'investigate', 'durban', 'nightclub', 'brawl'],\n",
       " ['price', 'hike', 'weigh', 'rat', 'decision'],\n",
       " ['kill', 'fuel', 'barge', 'explode'],\n",
       " ['pair', 'miss', 'fuel', 'barge', 'explode'],\n",
       " ['pearson', 'rout', 'aussie', 'woman'],\n",
       " ['petrol', 'price', 'hike', 'compare', 'interest', 'rate', 'rise'],\n",
       " ['police', 'come', 'beat', 'oppn', 'claim'],\n",
       " ['police', 'investigate', 'muswellbrook', 'death'],\n",
       " ['police', 'treat', 'hunter', 'valley', 'death', 'murder'],\n",
       " ['powell', 'leave', 'japan', 'talk', 'china'],\n",
       " ['powell', 'start', 'asian', 'tour', 'north', 'korea', 'talk'],\n",
       " ['protea', 'demolish', 'bangladesh'],\n",
       " ['protester', 'afloat', 'deliver', 'peace', 'message'],\n",
       " ['public', 'le', 'concern', 'environment', 'statistic'],\n",
       " ['take', 'gong', 'aust', 'tourism', 'award'],\n",
       " ['rain', 'bring', 'relief', 'farmer'],\n",
       " ['rain', 'fall', 'drought', 'ravage', 'eastern', 'state'],\n",
       " ['recoba', 'hand', 'three', 'match', 'champion'],\n",
       " ['result', 'first', 'aid', 'vaccine', 'trial', 'release'],\n",
       " ['robo', 'deer', 'take', 'bullet', 'justice'],\n",
       " ['roddick', 'head', 'semi', 'memphis'],\n",
       " ['saddam', 'ponder', 'edict', 'scrap', 'missile'],\n",
       " ['note', 'esteem', 'music', 'educator', 'die'],\n",
       " ['govt', 'block', 'glenelg', 'high', 'rise', 'apartment'],\n",
       " ['sampras', 'withdraw', 'arizona', 'replace', 'hewitt'],\n",
       " ['police', 'close', 'schoolgirl', 'killer'],\n",
       " ['seaman', 'rest', 'maine', 'road', 'visit'],\n",
       " ['searcher', 'fear', 'dead', 'china', 'ferry', 'sink'],\n",
       " ['selector', 'announce', 'warne', 'replacement', 'soon'],\n",
       " ['seles', 'face', 'henin', 'hardenne', 'dubai', 'final'],\n",
       " ['shop', 'owner', 'trial', 'accuse', 'bali', 'bomb'],\n",
       " ['korea', 'subway', 'staff', 'face', 'kill', 'charge', 'fire'],\n",
       " ['smigun', 'take', 'nordic', 'ski', 'world', 'championship'],\n",
       " ['helen', 'super', 'league', 'season', 'opener'],\n",
       " ['stormers', 'slaughter', 'shark'],\n",
       " ['stuttle', 'family', 'welcome', 'travel', 'offer'],\n",
       " ['sunrace', 'head', 'gloomy', 'final'],\n",
       " ['shin', 'rmit', 'entry', 'race'],\n",
       " ['taipan', 'stay', 'alive', 'cannon', 'dodge', 'bullet'],\n",
       " ['relay', 'raise', 'money', 'cancer', 'council'],\n",
       " ['teenager', 'stab', 'fight'],\n",
       " ['toll', 'rise', 'club', 'fire'],\n",
       " ['turkey', 'poise', 'iraq', 'deal'],\n",
       " ['kill', 'motorbike', 'collision'],\n",
       " ['warn', 'final', 'phase', 'iraq', 'stand'],\n",
       " ['ulster', 'militant', 'declare', 'ceasefire'],\n",
       " ['authority', 'confirm', 'kill', 'club', 'fire'],\n",
       " ['ensure', 'american', 'semi', 'final'],\n",
       " ['nightclub', 'fire', 'death', 'toll', 'hit'],\n",
       " ['prosecutor', 'slave', 'labour', 'case', 'samoa'],\n",
       " ['stock', 'rise', 'follow', 'positive', 'iraqi', 'comment'],\n",
       " ['govt', 'call', 'volunteer', 'state', 'clean'],\n",
       " ['say', 'police', 'take', 'beat'],\n",
       " ['warne', 'appeal', 'month'],\n",
       " ['weather', 'change', 'save', 'white', 'beach', 'shack'],\n",
       " ['wood', 'remain', 'hunt'],\n",
       " ['worker', 'electrocute', 'piggery', 'repair'],\n",
       " ['accuse', 'people', 'smuggler', 'face', 'darwin', 'court'],\n",
       " ['struggle', 'public', 'house', 'demand'],\n",
       " ['alice', 'forum', 'discus', 'indigenous', 'education', 'issue'],\n",
       " ['alinghi', 'fume', 'another', 'cancellation'],\n",
       " ['least', 'tumble', 'greece', 'river'],\n",
       " ['aussie', 'arrive', 'zimbabwe'],\n",
       " ['barca', 'deportivo', 'real', 'shine', 'spain'],\n",
       " ['bayern', 'open', 'point'],\n",
       " ['bevan', 'frustrate', 'lack', 'opportunity'],\n",
       " ['blair', 'put', 'case', 'iraq', 'pope'],\n",
       " ['bradman', 'baggy', 'green', 'expect', 'fetch', '200000'],\n",
       " ['britain', 'rally', 'support', 'resolution'],\n",
       " ['brown', 'claim', 'french', 'land', 'site', 'could', 'tassies'],\n",
       " ['butch', 'defend', 'beef', 'price'],\n",
       " ['call', 'peaceful', 'iraqi', 'resolution'],\n",
       " ['cambodian', 'deny', 'political', 'emergency'],\n",
       " ['carpark', 'shoot', 'spark', 'adelaide', 'manhunt'],\n",
       " ['carr', 'plan', '200m', 'anti', 'drug', 'campaign'],\n",
       " ['lover', 'march', 'rome', 'sacred', 'stray'],\n",
       " ['cat', 'claw', 'dog'],\n",
       " ['cat', 'claw', 'dog', 'pie', 'swoop', 'blue'],\n",
       " ['coalition', 'launch', 'ahead', 'election'],\n",
       " ['colombian', 'rebel', 'demand', 'rescuer', 'back'],\n",
       " ['consumer', 'wear', 'cost', 'trolley', 'loss'],\n",
       " ['council', 'deny', 'revenue', 'raise', 'park', 'fee'],\n",
       " ['court', 'find', 'guilty', 'gross', 'ingratitude'],\n",
       " ['cricketer', 'association', 'say', 'warne', 'harsh'],\n",
       " ['defend', 'acquisition', 'investigation'],\n",
       " ['darwin', 'clear', 'play', 'next', 'super', 'match'],\n",
       " ['davy', 'take', 'lady', 'master'],\n",
       " ['davison', 'plunder', 'record', 'century'],\n",
       " ['deadly', 'fire', 'rock', 'club', 'who', 'fault'],\n",
       " ['dems', 'block', 'govts', 'spend', 'move'],\n",
       " ['difference', 'beazley', 'stay', 'backbencher'],\n",
       " ['downer', 'expect', 'back', 'iraq', 'edict'],\n",
       " ['downer', 'push', 'urgent', 'talk', 'korea'],\n",
       " ['downer', 'unmoved', 'iraqi', 'wheat', 'decision'],\n",
       " ['drought', 'doom', 'turn', 'flood', 'gloom'],\n",
       " ['protest', 'face', 'zimbabwe', 'player', 'tell'],\n",
       " ['england', 'deserve', 'favouritism', 'oneill'],\n",
       " ['england', 'keep', 'grand', 'slam', 'dream', 'alive'],\n",
       " ['england', 'punish', 'disappoint', 'pakistan'],\n",
       " ['fake', 'crocs', 'scare', 'flamingo'],\n",
       " ['fickle', 'weather', 'hold', 'race'],\n",
       " ['firefighter', 'continue', 'containment', 'effort', 'near'],\n",
       " ['five', 'palestinian', 'army', 'crackdown'],\n",
       " ['flower', 'play', 'australia', 'report'],\n",
       " ['forensic', 'team', 'struggle', 'identify', 'club', 'fire'],\n",
       " ['former', 'ambassador', 'criticise', 'howard', 'remark'],\n",
       " ['freeman', 'expect', 'race', 'melbourne'],\n",
       " ['gatecrasher', 'blame', 'violence', 'bali', 'thank'],\n",
       " ['geelong', 'fight', 'ring', 'road', 'fund'],\n",
       " ['govt', 'paper', 'discus', 'preservation', 'adelaide'],\n",
       " ['gunner', 'demolish', 'city', 'stumble'],\n",
       " ['hampshire', 'chairman', 'call', 'review', 'cricket'],\n",
       " ['hampshire', 'want', 'warne', 'do'],\n",
       " ['hard', 'work', 'steal', 'craftsman', 'identity'],\n",
       " ['hayden', 'focus', 'cricket', 'politics'],\n",
       " ['henin', 'hardenne', 'outlast', 'seles', 'dubai', 'thriller'],\n",
       " ['hill', 'star', 'tiger', 'claim', 'charity'],\n",
       " ['hockeyroos', 'save', 'best', 'till', 'last'],\n",
       " ['hotel', 'association', 'fight', 'smoke'],\n",
       " ['howell', 'extend', 'lead'],\n",
       " ['hussain', 'hail', 'special', 'england', 'performance'],\n",
       " ['iaea', 'say', 'iraqi', 'cooperation', 'improve'],\n",
       " ['iraqi', 'minister', 'say', 'protest', 'prompt', 'wheat', 'decision'],\n",
       " ['king', 'regain', 'spot'],\n",
       " ['lion', 'roll', 'swan'],\n",
       " ['charge', 'bash', 'nightclub', 'door'],\n",
       " ['charge', 'ormiston', 'attack'],\n",
       " ['charge', 'attempt', 'murder', 'stab'],\n",
       " ['fight', 'life', 'stab'],\n",
       " ['stab', 'death', 'melbourne', 'brawl'],\n",
       " ['maroney', 'make', 'last', 'swim'],\n",
       " ['medicare', 'office', 'busy', 'bulk', 'bill', 'dip'],\n",
       " ['mirnyi', 'slay', 'federer', 'reach', 'rotterdam', 'final'],\n",
       " ['missile', 'issue', 'resolve', 'le', 'pressure'],\n",
       " ['monster', 'surf', 'sweep', 'woman', 'death'],\n",
       " ['magic', 'martina'],\n",
       " ['natasha', 'spat', 'wont', 'destroy', 'dems'],\n",
       " ['nataus'],\n",
       " ['newton', 'predict', '2060', 'armageddon', 'report'],\n",
       " ['resolution', 'would', 'give', 'hussein', 'day', 'downer'],\n",
       " ['nine', 'kill', 'violence', 'outside', 'karachi', 'mosque'],\n",
       " ['green', 'call', 'party', 'show', 'hand'],\n",
       " ['receive', 'cwealth', 'literacy', 'grant'],\n",
       " ['odriscoll', 'capture', 'record', 'ireland', 'down', 'italy'],\n",
       " ['water', 'okay'],\n",
       " ['opec', 'pledge', 'flow', 'despite'],\n",
       " ['patterson', 'say', 'state', 'make', 'offer'],\n",
       " ['pearson', 'say', 'bureaucracy', 'fail', 'indigenous', 'welfare'],\n",
       " ['perth', 'tiger', 'giant', 'notch', 'win'],\n",
       " ['pilot', 'die', 'ultralight', 'plunge'],\n",
       " ['polanski', 'get', 'best', 'director', 'cesar', 'pianist'],\n",
       " ['police', 'arrest', 'pair', 'attack', 'brick', 'bottle'],\n",
       " ['police', 'search', 'shoot'],\n",
       " ['pope', 'urge', 'blair', 'avert'],\n",
       " ['crash', 'defeat', 'despite', 'ronaldinho'],\n",
       " ['rain', 'still', 'need', 'central', 'west'],\n",
       " ['raymond', 'defend', 'memphis', 'title'],\n",
       " ['research', 'turn', 'spotlight', 'binge', 'drink'],\n",
       " ['roddick', 'want', 'dent', 'crown'],\n",
       " ['african', 'weapon', 'inspector', 'iraq'],\n",
       " ['police', 'investigate', 'fatal', 'road', 'crash'],\n",
       " ['searcher', 'retrieve', 'ultralight', 'pilot', 'body'],\n",
       " ['search', 'intensify', 'miss', 'pilot'],\n",
       " ['search', 'begin', 'miss', 'pilot'],\n",
       " ['busy', 'flash', 'flood', 'north', 'west'],\n",
       " ['shark', 'steal', 'glory', 'perth'],\n",
       " ['sherpa', 'plan', 'world', 'high', 'cyber', 'cafe', 'oxygen'],\n",
       " ['storm', 'whip', 'coast', 'northern', 'flood', 'steady'],\n",
       " ['striker', 'rout', 'kingz'],\n",
       " ['striker', 'rout', 'kingz', 'unite', 'knight'],\n",
       " ['tail', 'rescue', 'struggle'],\n",
       " ['tamworth', 'flood', 'cost', 'million'],\n",
       " ['teacher', 'student', 'guideline', 'need', 'modify'],\n",
       " ['teenager', 'die', 'transplant'],\n",
       " ['tendulkar', 'blaze', 'century', 'total'],\n",
       " ['territory', 'search', 'comedy', 'talent'],\n",
       " ['third', 'time', 'lucky', 'canberra', 'unis', 'brisbane', 'campus'],\n",
       " ['tight', 'security', 'greet', 'cricketer', 'zimbabwe'],\n",
       " ['tourist', 'foul', 'spill', 'milk'],\n",
       " ['tropfest', 'turn', 'tarpfest', 'show'],\n",
       " ['turkey', 'signal', 'ahead', 'troop'],\n",
       " ['tyson', 'destroy', 'etienne', 'le', 'minute'],\n",
       " ['vote', 'iraq', 'soon', 'march', 'powell'],\n",
       " ['spain', 'draft', 'second', 'resolution'],\n",
       " ['resolution'],\n",
       " ['warne', 'appeal', 'delay', 'name', 'replacement'],\n",
       " ['warne', 'back', 'pollock'],\n",
       " ['warn', 'water', 'contaminiation', 'recent', 'rain'],\n",
       " ['struggle', 'final'],\n",
       " ['waugh', 'expect', 'play', 'final'],\n",
       " ['waugh', 'lead', 'blue', 'title'],\n",
       " ['weapon', 'expert', 'denounce', 'intelligence', 'iraq'],\n",
       " ['yemen', 'chopper', 'crash', 'kill', 'eight', 'troop'],\n",
       " ['dead', 'china', 'earthquake'],\n",
       " ['academic', 'consider', 'indigenous', 'culture', 'role'],\n",
       " ['adelaide', 'charge', 'firearm', 'offence'],\n",
       " ['ajax', 'lose', 'grind', 'utrecht', 'defeat'],\n",
       " ['ords', 'jump', 'point', 'high'],\n",
       " ['choose', 'charlestown', 'candidate'],\n",
       " ['amino', 'level', 'link', 'malaria', 'treatment', 'research'],\n",
       " ['anti', 'french', 'joke', 'censor', 'broadcaster', 'complain'],\n",
       " ['welcome', 'court', 'rule', 'chairman'],\n",
       " ['least', 'five', 'kill', 'factional', 'afghan', 'fight'],\n",
       " ['defend', 'grain', 'freight', 'spot', 'price', 'tender'],\n",
       " ['beef', 'price', 'rise'],\n",
       " ['billiton', 'reveal', '19pc', 'profit', 'downturn'],\n",
       " ['bloke', 'peel', 'pant', 'peace'],\n",
       " ['bomb', 'alert', 'delay', 'domestic', 'flight', 'philippine'],\n",
       " ['boulami', 'ban', 'iaaf', 'source'],\n",
       " ['almost', 'drown', 'sweep', 'storm'],\n",
       " ['bradman', 'baggy', 'green', 'tour'],\n",
       " ['britain', 'concern', 'report', 'iraqi', 'missile'],\n",
       " ['build', 'industry', 'shake'],\n",
       " ['cabinet', 'meet', 'balance', 'budget', 'priority'],\n",
       " ['canberra', 'step', 'tourist', 'campaign'],\n",
       " ['carr', 'consider', 'clarence', 'battle'],\n",
       " ['celtic', 'still', 'four', 'trophy'],\n",
       " ['chavez', 'blast', 'medium', 'violence', 'continue'],\n",
       " ['civilian', 'kill', 'gunman', 'attack', 'minibus', 'east'],\n",
       " ['claim', 'diamond', 'miner', 'murder', 'congo'],\n",
       " ['claim', 'evidence', 'unsolved', 'double', 'murder'],\n",
       " ['clean', 'coal', 'technology', 'still', 'year', 'away'],\n",
       " ['coastal', 'graze', 'boom', 'lift', 'property', 'price'],\n",
       " ['combine', 'approach', 'tackle', 'grasshopper'],\n",
       " ['committee', 'offer', 'age', 'care', 'warn'],\n",
       " ['community', 'bank', 'share', 'trade', 'show', 'little', 'change'],\n",
       " ['community', 'clean', 'drench'],\n",
       " ['community', 'flock', 'waste', 'transfer', 'station'],\n",
       " ['conference', 'focus', 'tuna', 'fishery'],\n",
       " ['council', 'host', 'farewell'],\n",
       " ['council', 'resist', 'roster', 'pressure'],\n",
       " ['custom', 'house', 'restoration', 'open'],\n",
       " ['water', 'level', 'still', 'critically'],\n",
       " ...]"
      ]
     },
     "execution_count": 13,
     "metadata": {},
     "output_type": "execute_result"
    }
   ],
   "source": [
    "final_words = []\n",
    "\n",
    "for word in words_splitted:\n",
    "    word_without_sw = []\n",
    "    for w in word:\n",
    "        if w not in stop_words and len(w) > 3:\n",
    "            w = WordNetLemmatizer().lemmatize(w, pos='v').lower()\n",
    "            w = WordNetLemmatizer().lemmatize(w, pos='n')\n",
    "            w = WordNetLemmatizer().lemmatize(w, pos='a')\n",
    "            word_without_sw.append(WordNetLemmatizer().lemmatize(w))\n",
    "    final_words.append(word_without_sw)\n",
    "final_words "
   ]
  },
  {
   "cell_type": "code",
   "execution_count": 14,
   "metadata": {
    "ExecuteTime": {
     "end_time": "2021-07-13T07:21:17.739268Z",
     "start_time": "2021-07-13T07:21:17.736601Z"
    }
   },
   "outputs": [],
   "source": [
    "df = pd.DataFrame()"
   ]
  },
  {
   "cell_type": "code",
   "execution_count": 15,
   "metadata": {
    "ExecuteTime": {
     "end_time": "2021-07-13T07:21:18.446784Z",
     "start_time": "2021-07-13T07:21:17.740985Z"
    }
   },
   "outputs": [],
   "source": [
    "df['sentence'] = final_words"
   ]
  },
  {
   "cell_type": "code",
   "execution_count": 16,
   "metadata": {
    "ExecuteTime": {
     "end_time": "2021-07-13T07:21:18.452695Z",
     "start_time": "2021-07-13T07:21:18.449162Z"
    }
   },
   "outputs": [],
   "source": [
    "#!pip install gensim\n",
    "from gensim.corpora import Dictionary\n"
   ]
  },
  {
   "cell_type": "code",
   "execution_count": 17,
   "metadata": {
    "ExecuteTime": {
     "end_time": "2021-07-13T07:21:21.810609Z",
     "start_time": "2021-07-13T07:21:18.465547Z"
    }
   },
   "outputs": [],
   "source": [
    "# Create a dictionary representation of the documents.\n",
    "dictionary = Dictionary(df['sentence'])\n",
    "\n",
    "# Filter out words that occur less than 2 documents, or more than 50% of the documents.\n",
    "dictionary.filter_extremes(no_below=20, no_above=0.5)"
   ]
  },
  {
   "cell_type": "code",
   "execution_count": 18,
   "metadata": {
    "ExecuteTime": {
     "end_time": "2021-07-13T07:21:21.829064Z",
     "start_time": "2021-07-13T07:21:21.817650Z"
    }
   },
   "outputs": [
    {
     "data": {
      "text/plain": [
       "<gensim.corpora.dictionary.Dictionary at 0x7fc944bbd7f0>"
      ]
     },
     "execution_count": 18,
     "metadata": {},
     "output_type": "execute_result"
    }
   ],
   "source": [
    "dictionary"
   ]
  },
  {
   "cell_type": "code",
   "execution_count": 19,
   "metadata": {
    "ExecuteTime": {
     "end_time": "2021-07-13T07:21:24.246838Z",
     "start_time": "2021-07-13T07:21:21.831048Z"
    }
   },
   "outputs": [],
   "source": [
    "corpus = [dictionary.doc2bow(word) for word in df['sentence']]"
   ]
  },
  {
   "cell_type": "code",
   "execution_count": 20,
   "metadata": {
    "ExecuteTime": {
     "end_time": "2021-07-13T07:21:24.262951Z",
     "start_time": "2021-07-13T07:21:24.250367Z"
    }
   },
   "outputs": [
    {
     "name": "stdout",
     "output_type": "stream",
     "text": [
      "Number of unique tokens: 7798\n",
      "Number of documents: 457513\n"
     ]
    }
   ],
   "source": [
    "print('Number of unique tokens: %d' % len(dictionary))\n",
    "print('Number of documents: %d' % len(corpus))"
   ]
  },
  {
   "cell_type": "code",
   "execution_count": 21,
   "metadata": {
    "ExecuteTime": {
     "end_time": "2021-07-13T07:21:24.276969Z",
     "start_time": "2021-07-13T07:21:24.268124Z"
    }
   },
   "outputs": [
    {
     "data": {
      "text/plain": [
       "[[(0, 1), (1, 1), (2, 1), (3, 1)],\n",
       " [(4, 1), (5, 1), (6, 1), (7, 1), (8, 1)],\n",
       " [(9, 1), (10, 1), (11, 1), (12, 1)],\n",
       " [(13, 1), (14, 1), (15, 1), (16, 1)],\n",
       " [(16, 1), (17, 1), (18, 1), (19, 1)]]"
      ]
     },
     "execution_count": 21,
     "metadata": {},
     "output_type": "execute_result"
    }
   ],
   "source": [
    "corpus[:5]"
   ]
  },
  {
   "cell_type": "markdown",
   "metadata": {},
   "source": [
    "## Créer un modèle TF IDF"
   ]
  },
  {
   "cell_type": "code",
   "execution_count": 22,
   "metadata": {
    "ExecuteTime": {
     "end_time": "2021-07-13T07:21:24.718431Z",
     "start_time": "2021-07-13T07:21:24.286471Z"
    }
   },
   "outputs": [
    {
     "name": "stdout",
     "output_type": "stream",
     "text": [
      "TfidfModel(num_docs=457513, num_nnz=2024696)\n"
     ]
    }
   ],
   "source": [
    "from gensim import corpora, models\n",
    "\n",
    "tfidf = models.TfidfModel(corpus)\n",
    "print(tfidf)"
   ]
  },
  {
   "cell_type": "code",
   "execution_count": 23,
   "metadata": {
    "ExecuteTime": {
     "end_time": "2021-07-13T07:21:24.730382Z",
     "start_time": "2021-07-13T07:21:24.720498Z"
    }
   },
   "outputs": [
    {
     "name": "stdout",
     "output_type": "stream",
     "text": [
      "[(0, 0.6099944689918242), (1, 0.3818987516207417), (2, 0.48738159179345575), (3, 0.49448890310175697)]\n"
     ]
    }
   ],
   "source": [
    "corpus_tfidf = tfidf[corpus]\n",
    "print(corpus_tfidf[0])"
   ]
  },
  {
   "cell_type": "code",
   "execution_count": 24,
   "metadata": {
    "ExecuteTime": {
     "end_time": "2021-07-13T07:21:24.738001Z",
     "start_time": "2021-07-13T07:21:24.733235Z"
    }
   },
   "outputs": [
    {
     "data": {
      "text/plain": [
       "['decide', 'community', 'broadcast', 'licence']"
      ]
     },
     "execution_count": 24,
     "metadata": {},
     "output_type": "execute_result"
    }
   ],
   "source": [
    "final_words[0]"
   ]
  },
  {
   "cell_type": "code",
   "execution_count": 25,
   "metadata": {
    "ExecuteTime": {
     "end_time": "2021-07-13T07:21:24.751324Z",
     "start_time": "2021-07-13T07:21:24.740346Z"
    }
   },
   "outputs": [
    {
     "name": "stdout",
     "output_type": "stream",
     "text": [
      "('Poids des mots [(0, 0.6099944689918242), (1, 0.3818987516207417), (2, '\n",
      " '0.48738159179345575), (3, 0.49448890310175697)]')\n"
     ]
    }
   ],
   "source": [
    "from pprint import pprint\n",
    "\n",
    "for doc in corpus_tfidf: \n",
    "    pprint(f\"Poids des mots {doc}\")\n",
    "    break"
   ]
  },
  {
   "cell_type": "markdown",
   "metadata": {},
   "source": [
    "## LDA bag of words"
   ]
  },
  {
   "cell_type": "code",
   "execution_count": 26,
   "metadata": {
    "ExecuteTime": {
     "end_time": "2021-07-13T07:21:24.769680Z",
     "start_time": "2021-07-13T07:21:24.763561Z"
    }
   },
   "outputs": [],
   "source": [
    "import gensim"
   ]
  },
  {
   "cell_type": "code",
   "execution_count": 27,
   "metadata": {
    "ExecuteTime": {
     "end_time": "2021-07-13T07:23:10.247953Z",
     "start_time": "2021-07-13T07:21:24.772102Z"
    }
   },
   "outputs": [],
   "source": [
    "# LDA multicore \n",
    "'''\n",
    "Train your lda model using gensim.models.LdaMulticore and save it to 'lda_model'\n",
    "'''\n",
    "lda_model = gensim.models.LdaMulticore(corpus, \n",
    "                                       num_topics=10, \n",
    "                                       id2word = dictionary, \n",
    "                                       passes = 2)"
   ]
  },
  {
   "cell_type": "code",
   "execution_count": 28,
   "metadata": {
    "ExecuteTime": {
     "end_time": "2021-07-13T07:23:10.266295Z",
     "start_time": "2021-07-13T07:23:10.250958Z"
    },
    "scrolled": false
   },
   "outputs": [
    {
     "name": "stdout",
     "output_type": "stream",
     "text": [
      "Topic: 0 \n",
      "Words: 0.024*\"close\" + 0.020*\"coast\" + 0.017*\"kill\" + 0.016*\"gold\" + 0.016*\"continue\" + 0.015*\"force\" + 0.014*\"storm\" + 0.014*\"north\" + 0.013*\"protest\" + 0.012*\"pakistan\"\n",
      "\n",
      "\n",
      "Topic: 1 \n",
      "Words: 0.024*\"fire\" + 0.017*\"urge\" + 0.016*\"test\" + 0.013*\"break\" + 0.012*\"resident\" + 0.011*\"law\" + 0.010*\"govt\" + 0.009*\"bill\" + 0.008*\"public\" + 0.008*\"blaze\"\n",
      "\n",
      "\n",
      "Topic: 2 \n",
      "Words: 0.034*\"take\" + 0.024*\"open\" + 0.018*\"trial\" + 0.015*\"accuse\" + 0.013*\"adelaide\" + 0.011*\"bail\" + 0.011*\"stand\" + 0.010*\"team\" + 0.009*\"stay\" + 0.008*\"grant\"\n",
      "\n",
      "\n",
      "Topic: 3 \n",
      "Words: 0.017*\"china\" + 0.017*\"warn\" + 0.016*\"talk\" + 0.015*\"kill\" + 0.013*\"attack\" + 0.012*\"iraq\" + 0.010*\"blast\" + 0.010*\"aust\" + 0.009*\"time\" + 0.009*\"rat\"\n",
      "\n",
      "\n",
      "Topic: 4 \n",
      "Words: 0.025*\"water\" + 0.021*\"council\" + 0.019*\"plan\" + 0.014*\"govt\" + 0.014*\"group\" + 0.014*\"boost\" + 0.013*\"mine\" + 0.013*\"worker\" + 0.011*\"farmer\" + 0.011*\"need\"\n",
      "\n",
      "\n",
      "Topic: 5 \n",
      "Words: 0.040*\"court\" + 0.033*\"charge\" + 0.032*\"face\" + 0.019*\"market\" + 0.019*\"jail\" + 0.017*\"high\" + 0.015*\"assault\" + 0.014*\"drug\" + 0.014*\"record\" + 0.012*\"case\"\n",
      "\n",
      "\n",
      "Topic: 6 \n",
      "Words: 0.033*\"govt\" + 0.021*\"fund\" + 0.016*\"health\" + 0.016*\"plan\" + 0.015*\"change\" + 0.013*\"rudd\" + 0.012*\"minister\" + 0.011*\"opposition\" + 0.011*\"centre\" + 0.010*\"defend\"\n",
      "\n",
      "\n",
      "Topic: 7 \n",
      "Words: 0.017*\"first\" + 0.016*\"win\" + 0.016*\"australia\" + 0.015*\"return\" + 0.014*\"home\" + 0.013*\"get\" + 0.013*\"final\" + 0.012*\"find\" + 0.011*\"aussie\" + 0.010*\"race\"\n",
      "\n",
      "\n",
      "Topic: 8 \n",
      "Words: 0.075*\"police\" + 0.028*\"crash\" + 0.024*\"death\" + 0.019*\"woman\" + 0.014*\"probe\" + 0.014*\"road\" + 0.012*\"find\" + 0.012*\"driver\" + 0.012*\"victim\" + 0.012*\"charge\"\n",
      "\n",
      "\n",
      "Topic: 9 \n",
      "Words: 0.028*\"miss\" + 0.025*\"hospital\" + 0.021*\"rise\" + 0.019*\"die\" + 0.017*\"search\" + 0.017*\"interview\" + 0.015*\"fall\" + 0.012*\"drink\" + 0.011*\"sale\" + 0.010*\"sentence\"\n",
      "\n",
      "\n"
     ]
    }
   ],
   "source": [
    "'''\n",
    "For each topic, we will explore the words occuring in that topic and its relative weight\n",
    "'''\n",
    "\n",
    "#num_topics (int, optional) – The number of topics to be selected, if -1 - all topics will be in result (ordered by significance).\n",
    "for idx, topic in lda_model.print_topics(-1):\n",
    "    \n",
    "    print(\"Topic: {} \\nWords: {}\".format(idx, topic ))\n",
    "    print(\"\\n\")"
   ]
  },
  {
   "cell_type": "code",
   "execution_count": 29,
   "metadata": {
    "ExecuteTime": {
     "end_time": "2021-07-13T07:23:10.276691Z",
     "start_time": "2021-07-13T07:23:10.271708Z"
    }
   },
   "outputs": [
    {
     "data": {
      "text/plain": [
       "['yemen', 'chopper', 'crash', 'kill', 'eight', 'troop']"
      ]
     },
     "execution_count": 29,
     "metadata": {},
     "output_type": "execute_result"
    }
   ],
   "source": [
    "final_words[959]"
   ]
  },
  {
   "cell_type": "code",
   "execution_count": 30,
   "metadata": {
    "ExecuteTime": {
     "end_time": "2021-07-13T07:23:10.299660Z",
     "start_time": "2021-07-13T07:23:10.280185Z"
    },
    "scrolled": false
   },
   "outputs": [
    {
     "name": "stdout",
     "output_type": "stream",
     "text": [
      "\n",
      "Score: 0.39901524782180786\t \n",
      "Topic: 0.024*\"close\" + 0.020*\"coast\" + 0.017*\"kill\" + 0.016*\"gold\" + 0.016*\"continue\" + 0.015*\"force\" + 0.014*\"storm\" + 0.014*\"north\" + 0.013*\"protest\" + 0.012*\"pakistan\"\n",
      "\n",
      "Score: 0.34340208768844604\t \n",
      "Topic: 0.075*\"police\" + 0.028*\"crash\" + 0.024*\"death\" + 0.019*\"woman\" + 0.014*\"probe\" + 0.014*\"road\" + 0.012*\"find\" + 0.012*\"driver\" + 0.012*\"victim\" + 0.012*\"charge\"\n",
      "\n",
      "Score: 0.1575324982404709\t \n",
      "Topic: 0.034*\"take\" + 0.024*\"open\" + 0.018*\"trial\" + 0.015*\"accuse\" + 0.013*\"adelaide\" + 0.011*\"bail\" + 0.011*\"stand\" + 0.010*\"team\" + 0.009*\"stay\" + 0.008*\"grant\"\n",
      "\n",
      "Score: 0.014298612251877785\t \n",
      "Topic: 0.017*\"china\" + 0.017*\"warn\" + 0.016*\"talk\" + 0.015*\"kill\" + 0.013*\"attack\" + 0.012*\"iraq\" + 0.010*\"blast\" + 0.010*\"aust\" + 0.009*\"time\" + 0.009*\"rat\"\n",
      "\n",
      "Score: 0.014294443652033806\t \n",
      "Topic: 0.040*\"court\" + 0.033*\"charge\" + 0.032*\"face\" + 0.019*\"market\" + 0.019*\"jail\" + 0.017*\"high\" + 0.015*\"assault\" + 0.014*\"drug\" + 0.014*\"record\" + 0.012*\"case\"\n",
      "\n",
      "Score: 0.014291557483375072\t \n",
      "Topic: 0.017*\"first\" + 0.016*\"win\" + 0.016*\"australia\" + 0.015*\"return\" + 0.014*\"home\" + 0.013*\"get\" + 0.013*\"final\" + 0.012*\"find\" + 0.011*\"aussie\" + 0.010*\"race\"\n",
      "\n",
      "Score: 0.014291434548795223\t \n",
      "Topic: 0.025*\"water\" + 0.021*\"council\" + 0.019*\"plan\" + 0.014*\"govt\" + 0.014*\"group\" + 0.014*\"boost\" + 0.013*\"mine\" + 0.013*\"worker\" + 0.011*\"farmer\" + 0.011*\"need\"\n",
      "\n",
      "Score: 0.014291372150182724\t \n",
      "Topic: 0.028*\"miss\" + 0.025*\"hospital\" + 0.021*\"rise\" + 0.019*\"die\" + 0.017*\"search\" + 0.017*\"interview\" + 0.015*\"fall\" + 0.012*\"drink\" + 0.011*\"sale\" + 0.010*\"sentence\"\n",
      "\n",
      "Score: 0.014291368424892426\t \n",
      "Topic: 0.024*\"fire\" + 0.017*\"urge\" + 0.016*\"test\" + 0.013*\"break\" + 0.012*\"resident\" + 0.011*\"law\" + 0.010*\"govt\" + 0.009*\"bill\" + 0.008*\"public\" + 0.008*\"blaze\"\n",
      "\n",
      "Score: 0.014291368424892426\t \n",
      "Topic: 0.033*\"govt\" + 0.021*\"fund\" + 0.016*\"health\" + 0.016*\"plan\" + 0.015*\"change\" + 0.013*\"rudd\" + 0.012*\"minister\" + 0.011*\"opposition\" + 0.011*\"centre\" + 0.010*\"defend\"\n"
     ]
    }
   ],
   "source": [
    "# test\n",
    "\n",
    "'''\n",
    "Check which topic our test document belongs to using the LDA Bag of Words model.\n",
    "'''\n",
    "document_num = 959\n",
    "# Our test document is document number 4310\n",
    "\n",
    "for index, score in sorted(lda_model[corpus[document_num]], key=lambda tup: -1*tup[1]):\n",
    "\n",
    "    print(\"\\nScore: {}\\t \\nTopic: {}\".format(score, lda_model.print_topic(index, 10)))\n",
    "\n"
   ]
  },
  {
   "cell_type": "markdown",
   "metadata": {},
   "source": [
    "## LDA Tf Idf"
   ]
  },
  {
   "cell_type": "code",
   "execution_count": 31,
   "metadata": {
    "ExecuteTime": {
     "end_time": "2021-07-13T07:24:47.465746Z",
     "start_time": "2021-07-13T07:23:10.314667Z"
    }
   },
   "outputs": [],
   "source": [
    "'''\n",
    "Define lda model using corpus_tfidf, again using gensim.models.LdaMulticore()\n",
    "'''\n",
    "lda_model_tfidf = gensim.models.LdaMulticore(corpus_tfidf, \n",
    "                                             num_topics=10, \n",
    "                                             id2word = dictionary, \n",
    "                                             passes = 2, \n",
    "                                             workers=4)"
   ]
  },
  {
   "cell_type": "code",
   "execution_count": 32,
   "metadata": {
    "ExecuteTime": {
     "end_time": "2021-07-13T07:24:47.514993Z",
     "start_time": "2021-07-13T07:24:47.468224Z"
    },
    "scrolled": true
   },
   "outputs": [
    {
     "name": "stdout",
     "output_type": "stream",
     "text": [
      "Topic: 0 Word: 0.007*\"north\" + 0.006*\"bushfire\" + 0.005*\"news\" + 0.005*\"west\" + 0.005*\"cyclone\" + 0.005*\"mental\" + 0.004*\"response\" + 0.004*\"health\" + 0.004*\"korea\" + 0.004*\"emergency\"\n",
      "\n",
      "\n",
      "Topic: 1 Word: 0.020*\"close\" + 0.007*\"price\" + 0.005*\"swan\" + 0.005*\"whale\" + 0.005*\"australia\" + 0.005*\"aussie\" + 0.005*\"unveil\" + 0.004*\"economy\" + 0.004*\"world\" + 0.004*\"gippsland\"\n",
      "\n",
      "\n",
      "Topic: 2 Word: 0.010*\"govt\" + 0.010*\"council\" + 0.009*\"rudd\" + 0.009*\"plan\" + 0.008*\"fund\" + 0.006*\"cut\" + 0.006*\"water\" + 0.006*\"union\" + 0.006*\"job\" + 0.005*\"urge\"\n",
      "\n",
      "\n",
      "Topic: 3 Word: 0.023*\"charge\" + 0.018*\"court\" + 0.015*\"murder\" + 0.013*\"police\" + 0.012*\"accuse\" + 0.011*\"assault\" + 0.011*\"face\" + 0.010*\"jail\" + 0.009*\"child\" + 0.009*\"guilty\"\n",
      "\n",
      "\n",
      "Topic: 4 Word: 0.013*\"interview\" + 0.009*\"climate\" + 0.008*\"change\" + 0.006*\"cancer\" + 0.006*\"govt\" + 0.005*\"smash\" + 0.005*\"rural\" + 0.005*\"patient\" + 0.005*\"horse\" + 0.004*\"murray\"\n",
      "\n",
      "\n",
      "Topic: 5 Word: 0.018*\"miss\" + 0.012*\"search\" + 0.010*\"find\" + 0.010*\"obama\" + 0.008*\"body\" + 0.007*\"police\" + 0.006*\"bligh\" + 0.005*\"safe\" + 0.005*\"intervention\" + 0.005*\"crash\"\n",
      "\n",
      "\n",
      "Topic: 6 Word: 0.020*\"crash\" + 0.016*\"police\" + 0.012*\"fire\" + 0.011*\"death\" + 0.011*\"die\" + 0.011*\"stab\" + 0.010*\"blaze\" + 0.009*\"fatal\" + 0.009*\"investigate\" + 0.008*\"driver\"\n",
      "\n",
      "\n",
      "Topic: 7 Word: 0.016*\"kill\" + 0.006*\"gaza\" + 0.006*\"bomb\" + 0.006*\"iraq\" + 0.006*\"troop\" + 0.006*\"blast\" + 0.006*\"afghanistan\" + 0.006*\"action\" + 0.006*\"thai\" + 0.005*\"afghan\"\n",
      "\n",
      "\n",
      "Topic: 8 Word: 0.009*\"toll\" + 0.007*\"care\" + 0.006*\"financial\" + 0.006*\"hobart\" + 0.006*\"quake\" + 0.005*\"parliament\" + 0.005*\"john\" + 0.005*\"beijing\" + 0.005*\"china\" + 0.005*\"weather\"\n",
      "\n",
      "\n",
      "Topic: 9 Word: 0.008*\"rain\" + 0.007*\"market\" + 0.006*\"rat\" + 0.006*\"water\" + 0.006*\"flood\" + 0.006*\"economic\" + 0.006*\"mill\" + 0.005*\"farmer\" + 0.005*\"ease\" + 0.005*\"turnbull\"\n",
      "\n",
      "\n"
     ]
    }
   ],
   "source": [
    "'''\n",
    "For each topic, we will explore the words occuring in that topic and its relative weight\n",
    "'''\n",
    "for idx, topic in lda_model_tfidf.print_topics(-1):\n",
    "    \n",
    "    print(\"Topic: {} Word: {}\".format(idx, topic))\n",
    "    print(\"\\n\")\n",
    "\n"
   ]
  },
  {
   "cell_type": "code",
   "execution_count": 33,
   "metadata": {
    "ExecuteTime": {
     "end_time": "2021-07-13T07:24:47.623307Z",
     "start_time": "2021-07-13T07:24:47.578715Z"
    }
   },
   "outputs": [
    {
     "data": {
      "text/plain": [
       "['yemen', 'chopper', 'crash', 'kill', 'eight', 'troop']"
      ]
     },
     "execution_count": 33,
     "metadata": {},
     "output_type": "execute_result"
    }
   ],
   "source": [
    "final_words[959]"
   ]
  },
  {
   "cell_type": "code",
   "execution_count": 34,
   "metadata": {
    "ExecuteTime": {
     "end_time": "2021-07-13T07:24:47.655208Z",
     "start_time": "2021-07-13T07:24:47.638941Z"
    },
    "scrolled": false
   },
   "outputs": [
    {
     "name": "stdout",
     "output_type": "stream",
     "text": [
      "\n",
      "Score: 0.32419654726982117\t \n",
      "Topic: 0.024*\"close\" + 0.020*\"coast\" + 0.017*\"kill\" + 0.016*\"gold\" + 0.016*\"continue\" + 0.015*\"force\" + 0.014*\"storm\" + 0.014*\"north\" + 0.013*\"protest\" + 0.012*\"pakistan\"\n",
      "\n",
      "Score: 0.26579779386520386\t \n",
      "Topic: 0.075*\"police\" + 0.028*\"crash\" + 0.024*\"death\" + 0.019*\"woman\" + 0.014*\"probe\" + 0.014*\"road\" + 0.012*\"find\" + 0.012*\"driver\" + 0.012*\"victim\" + 0.012*\"charge\"\n",
      "\n",
      "Score: 0.20173302292823792\t \n",
      "Topic: 0.034*\"take\" + 0.024*\"open\" + 0.018*\"trial\" + 0.015*\"accuse\" + 0.013*\"adelaide\" + 0.011*\"bail\" + 0.011*\"stand\" + 0.010*\"team\" + 0.009*\"stay\" + 0.008*\"grant\"\n",
      "\n",
      "Score: 0.029767390340566635\t \n",
      "Topic: 0.017*\"china\" + 0.017*\"warn\" + 0.016*\"talk\" + 0.015*\"kill\" + 0.013*\"attack\" + 0.012*\"iraq\" + 0.010*\"blast\" + 0.010*\"aust\" + 0.009*\"time\" + 0.009*\"rat\"\n",
      "\n",
      "Score: 0.029759394004940987\t \n",
      "Topic: 0.040*\"court\" + 0.033*\"charge\" + 0.032*\"face\" + 0.019*\"market\" + 0.019*\"jail\" + 0.017*\"high\" + 0.015*\"assault\" + 0.014*\"drug\" + 0.014*\"record\" + 0.012*\"case\"\n",
      "\n",
      "Score: 0.029749523848295212\t \n",
      "Topic: 0.017*\"first\" + 0.016*\"win\" + 0.016*\"australia\" + 0.015*\"return\" + 0.014*\"home\" + 0.013*\"get\" + 0.013*\"final\" + 0.012*\"find\" + 0.011*\"aussie\" + 0.010*\"race\"\n",
      "\n",
      "Score: 0.029749205335974693\t \n",
      "Topic: 0.025*\"water\" + 0.021*\"council\" + 0.019*\"plan\" + 0.014*\"govt\" + 0.014*\"group\" + 0.014*\"boost\" + 0.013*\"mine\" + 0.013*\"worker\" + 0.011*\"farmer\" + 0.011*\"need\"\n",
      "\n",
      "Score: 0.029749039560556412\t \n",
      "Topic: 0.028*\"miss\" + 0.025*\"hospital\" + 0.021*\"rise\" + 0.019*\"die\" + 0.017*\"search\" + 0.017*\"interview\" + 0.015*\"fall\" + 0.012*\"drink\" + 0.011*\"sale\" + 0.010*\"sentence\"\n",
      "\n",
      "Score: 0.029749032109975815\t \n",
      "Topic: 0.024*\"fire\" + 0.017*\"urge\" + 0.016*\"test\" + 0.013*\"break\" + 0.012*\"resident\" + 0.011*\"law\" + 0.010*\"govt\" + 0.009*\"bill\" + 0.008*\"public\" + 0.008*\"blaze\"\n",
      "\n",
      "Score: 0.029749032109975815\t \n",
      "Topic: 0.033*\"govt\" + 0.021*\"fund\" + 0.016*\"health\" + 0.016*\"plan\" + 0.015*\"change\" + 0.013*\"rudd\" + 0.012*\"minister\" + 0.011*\"opposition\" + 0.011*\"centre\" + 0.010*\"defend\"\n"
     ]
    }
   ],
   "source": [
    "# test\n",
    "\n",
    "'''\n",
    "Check which topic our test document belongs to using the LDA TF IDF model.\n",
    "'''\n",
    "document_num = 959\n",
    "# Our test document is document number 4310\n",
    "\n",
    "for index, score in sorted(lda_model[corpus_tfidf[document_num]], key=lambda tup: -1*tup[1]):\n",
    "\n",
    "    print(\"\\nScore: {}\\t \\nTopic: {}\".format(score, lda_model.print_topic(index, 10)))\n",
    "\n"
   ]
  },
  {
   "cell_type": "code",
   "execution_count": 35,
   "metadata": {
    "ExecuteTime": {
     "end_time": "2021-07-13T07:24:47.662305Z",
     "start_time": "2021-07-13T07:24:47.658598Z"
    }
   },
   "outputs": [],
   "source": [
    "test=\"mayor, quit, council, function\""
   ]
  },
  {
   "cell_type": "markdown",
   "metadata": {},
   "source": [
    "## Test modele"
   ]
  },
  {
   "cell_type": "code",
   "execution_count": 36,
   "metadata": {
    "ExecuteTime": {
     "end_time": "2021-07-13T07:24:47.668665Z",
     "start_time": "2021-07-13T07:24:47.665579Z"
    }
   },
   "outputs": [],
   "source": [
    "stemmer = SnowballStemmer(\"english\")"
   ]
  },
  {
   "cell_type": "markdown",
   "metadata": {},
   "source": [
    "### Model tuto (juste verbes)"
   ]
  },
  {
   "cell_type": "code",
   "execution_count": 37,
   "metadata": {
    "ExecuteTime": {
     "end_time": "2021-07-13T07:24:47.682095Z",
     "start_time": "2021-07-13T07:24:47.673497Z"
    }
   },
   "outputs": [],
   "source": [
    "'''\n",
    "Write a function to perform the pre processing steps on the entire dataset\n",
    "'''\n",
    "def lemmatize_stemming(text):\n",
    "    return stemmer.stem(WordNetLemmatizer().lemmatize(text, pos='v'))\n",
    "\n",
    "# Tokenize and lemmatize\n",
    "def preprocess(text):\n",
    "    \n",
    "    result = []\n",
    "    \n",
    "    for token in gensim.utils.simple_preprocess(text) :\n",
    "        \n",
    "        if token not in gensim.parsing.preprocessing.STOPWORDS and len(token) > 3:\n",
    "            \n",
    "            # TODO: Apply lemmatize_stemming() on the token, then add to the results list\n",
    "            # print(\"###############################\")\n",
    "            # print(lemmatize_stemming(token))\n",
    "            result.append(lemmatize_stemming(token))\n",
    "    \n",
    "    return result"
   ]
  },
  {
   "cell_type": "code",
   "execution_count": 38,
   "metadata": {
    "ExecuteTime": {
     "end_time": "2021-07-13T07:24:47.710606Z",
     "start_time": "2021-07-13T07:24:47.685375Z"
    },
    "scrolled": true
   },
   "outputs": [
    {
     "name": "stdout",
     "output_type": "stream",
     "text": [
      "Score: 0.28808218240737915\t Topic: 0.034*\"take\" + 0.024*\"open\" + 0.018*\"trial\" + 0.015*\"accuse\" + 0.013*\"adelaide\"\n",
      "Score: 0.2759249806404114\t Topic: 0.028*\"miss\" + 0.025*\"hospital\" + 0.021*\"rise\" + 0.019*\"die\" + 0.017*\"search\"\n",
      "Score: 0.2609405517578125\t Topic: 0.024*\"close\" + 0.020*\"coast\" + 0.017*\"kill\" + 0.016*\"gold\" + 0.016*\"continue\"\n",
      "Score: 0.0250107292085886\t Topic: 0.017*\"china\" + 0.017*\"warn\" + 0.016*\"talk\" + 0.015*\"kill\" + 0.013*\"attack\"\n",
      "Score: 0.02500934712588787\t Topic: 0.040*\"court\" + 0.033*\"charge\" + 0.032*\"face\" + 0.019*\"market\" + 0.019*\"jail\"\n",
      "Score: 0.025008687749505043\t Topic: 0.017*\"first\" + 0.016*\"win\" + 0.016*\"australia\" + 0.015*\"return\" + 0.014*\"home\"\n",
      "Score: 0.025007696822285652\t Topic: 0.033*\"govt\" + 0.021*\"fund\" + 0.016*\"health\" + 0.016*\"plan\" + 0.015*\"change\"\n",
      "Score: 0.025005271658301353\t Topic: 0.024*\"fire\" + 0.017*\"urge\" + 0.016*\"test\" + 0.013*\"break\" + 0.012*\"resident\"\n",
      "Score: 0.025005271658301353\t Topic: 0.025*\"water\" + 0.021*\"council\" + 0.019*\"plan\" + 0.014*\"govt\" + 0.014*\"group\"\n",
      "Score: 0.025005271658301353\t Topic: 0.075*\"police\" + 0.028*\"crash\" + 0.024*\"death\" + 0.019*\"woman\" + 0.014*\"probe\"\n"
     ]
    }
   ],
   "source": [
    "unseen_document = \"My favorite sports activities are running and swimming.\"\n",
    "\n",
    "# Data preprocessing step for the unseen document\n",
    "bow_vector = dictionary.doc2bow(preprocess(unseen_document))\n",
    "\n",
    "for index, score in sorted(lda_model[bow_vector], key=lambda tup: -1*tup[1]):\n",
    "\n",
    "    print(\"Score: {}\\t Topic: {}\".format(score, lda_model.print_topic(index, 5)))\n",
    "\n"
   ]
  },
  {
   "cell_type": "markdown",
   "metadata": {},
   "source": [
    "### MOdel custom avec verbes noms et adverbes"
   ]
  },
  {
   "cell_type": "code",
   "execution_count": 39,
   "metadata": {
    "ExecuteTime": {
     "end_time": "2021-07-13T07:24:47.721905Z",
     "start_time": "2021-07-13T07:24:47.715621Z"
    }
   },
   "outputs": [],
   "source": [
    "'''\n",
    "Write a function to perform the pre processing steps on the entire dataset\n",
    "'''\n",
    "def lemmatize_stemming(text):\n",
    "    w = text\n",
    "    w = WordNetLemmatizer().lemmatize(w, pos='v').lower()\n",
    "    w = WordNetLemmatizer().lemmatize(w, pos='n')\n",
    "    w = WordNetLemmatizer().lemmatize(w, pos='a')\n",
    "    return w\n",
    "\n",
    "# Tokenize and lemmatize\n",
    "def preprocess(text):\n",
    "    \n",
    "    result = []\n",
    "    \n",
    "    for token in gensim.utils.simple_preprocess(text) :\n",
    "        \n",
    "        if token not in gensim.parsing.preprocessing.STOPWORDS and len(token) > 3:\n",
    "            \n",
    "            # TODO: Apply lemmatize_stemming() on the token, then add to the results list\n",
    "            result.append(lemmatize_stemming(token))\n",
    "    \n",
    "    return result"
   ]
  },
  {
   "cell_type": "code",
   "execution_count": 40,
   "metadata": {
    "ExecuteTime": {
     "end_time": "2021-07-13T07:24:47.745568Z",
     "start_time": "2021-07-13T07:24:47.724888Z"
    }
   },
   "outputs": [
    {
     "name": "stdout",
     "output_type": "stream",
     "text": [
      "Score: 0.5700391530990601\t Topic: 0.024*\"close\" + 0.020*\"coast\" + 0.017*\"kill\" + 0.016*\"gold\" + 0.016*\"continue\"\n",
      "Score: 0.2965978980064392\t Topic: 0.017*\"china\" + 0.017*\"warn\" + 0.016*\"talk\" + 0.015*\"kill\" + 0.013*\"attack\"\n",
      "Score: 0.01667250134050846\t Topic: 0.040*\"court\" + 0.033*\"charge\" + 0.032*\"face\" + 0.019*\"market\" + 0.019*\"jail\"\n",
      "Score: 0.016671404242515564\t Topic: 0.024*\"fire\" + 0.017*\"urge\" + 0.016*\"test\" + 0.013*\"break\" + 0.012*\"resident\"\n",
      "Score: 0.016670815646648407\t Topic: 0.075*\"police\" + 0.028*\"crash\" + 0.024*\"death\" + 0.019*\"woman\" + 0.014*\"probe\"\n",
      "Score: 0.016670165583491325\t Topic: 0.025*\"water\" + 0.021*\"council\" + 0.019*\"plan\" + 0.014*\"govt\" + 0.014*\"group\"\n",
      "Score: 0.01667007803916931\t Topic: 0.034*\"take\" + 0.024*\"open\" + 0.018*\"trial\" + 0.015*\"accuse\" + 0.013*\"adelaide\"\n",
      "Score: 0.01666966639459133\t Topic: 0.033*\"govt\" + 0.021*\"fund\" + 0.016*\"health\" + 0.016*\"plan\" + 0.015*\"change\"\n",
      "Score: 0.016669200733304024\t Topic: 0.017*\"first\" + 0.016*\"win\" + 0.016*\"australia\" + 0.015*\"return\" + 0.014*\"home\"\n",
      "Score: 0.016669049859046936\t Topic: 0.028*\"miss\" + 0.025*\"hospital\" + 0.021*\"rise\" + 0.019*\"die\" + 0.017*\"search\"\n"
     ]
    }
   ],
   "source": [
    "unseen_document = \"Lightning strikes in India kill 38 people\"\n",
    "\n",
    "# Data preprocessing step for the unseen document\n",
    "bow_vector = dictionary.doc2bow(preprocess(unseen_document))\n",
    "\n",
    "for index, score in sorted(lda_model[bow_vector], key=lambda tup: -1*tup[1]):\n",
    "\n",
    "    print(\"Score: {}\\t Topic: {}\".format(score, lda_model.print_topic(index, 5)))\n",
    "\n"
   ]
  },
  {
   "cell_type": "code",
   "execution_count": 41,
   "metadata": {
    "ExecuteTime": {
     "end_time": "2021-07-13T07:25:35.800820Z",
     "start_time": "2021-07-13T07:24:47.749522Z"
    },
    "scrolled": true
   },
   "outputs": [
    {
     "name": "stdout",
     "output_type": "stream",
     "text": [
      "Collecting pyldavis\n",
      "  Downloading pyLDAvis-3.3.1.tar.gz (1.7 MB)\n",
      "\u001b[K     |████████████████████████████████| 1.7 MB 5.7 MB/s eta 0:00:01\n",
      "\u001b[?25h  Installing build dependencies ... \u001b[?25ldone\n",
      "\u001b[?25h  Getting requirements to build wheel ... \u001b[?25ldone\n",
      "\u001b[?25h  Installing backend dependencies ... \u001b[?25ldone\n",
      "\u001b[?25h    Preparing wheel metadata ... \u001b[?25ldone\n",
      "\u001b[?25hRequirement already satisfied: gensim in /Users/thor/opt/anaconda3/lib/python3.8/site-packages (from pyldavis) (4.0.1)\n",
      "Requirement already satisfied: future in /Users/thor/opt/anaconda3/lib/python3.8/site-packages (from pyldavis) (0.18.2)\n",
      "Requirement already satisfied: jinja2 in /Users/thor/opt/anaconda3/lib/python3.8/site-packages (from pyldavis) (2.11.2)\n",
      "Collecting numpy>=1.20.0\n",
      "  Downloading numpy-1.21.0-cp38-cp38-macosx_10_9_x86_64.whl (16.9 MB)\n",
      "\u001b[K     |████████████████████████████████| 16.9 MB 2.5 MB/s eta 0:00:01\n",
      "\u001b[?25hRequirement already satisfied: setuptools in /Users/thor/opt/anaconda3/lib/python3.8/site-packages (from pyldavis) (54.2.0)\n",
      "Collecting funcy\n",
      "  Downloading funcy-1.16-py2.py3-none-any.whl (32 kB)\n",
      "Collecting sklearn\n",
      "  Downloading sklearn-0.0.tar.gz (1.1 kB)\n",
      "Requirement already satisfied: scikit-learn in /Users/thor/.local/lib/python3.8/site-packages (from pyldavis) (0.24.2)\n",
      "Collecting pandas>=1.2.0\n",
      "  Downloading pandas-1.3.0-cp38-cp38-macosx_10_9_x86_64.whl (11.4 MB)\n",
      "\u001b[K     |████████████████████████████████| 11.4 MB 566 kB/s eta 0:00:01\n",
      "\u001b[?25hRequirement already satisfied: numexpr in /Users/thor/opt/anaconda3/lib/python3.8/site-packages (from pyldavis) (2.7.1)\n",
      "Requirement already satisfied: joblib in /Users/thor/opt/anaconda3/lib/python3.8/site-packages (from pyldavis) (0.17.0)\n",
      "Requirement already satisfied: scipy in /Users/thor/opt/anaconda3/lib/python3.8/site-packages (from pyldavis) (1.5.2)\n",
      "Requirement already satisfied: pytz>=2017.3 in /Users/thor/opt/anaconda3/lib/python3.8/site-packages (from pandas>=1.2.0->pyldavis) (2020.1)\n",
      "Requirement already satisfied: python-dateutil>=2.7.3 in /Users/thor/opt/anaconda3/lib/python3.8/site-packages (from pandas>=1.2.0->pyldavis) (2.8.1)\n",
      "Requirement already satisfied: six>=1.5 in /Users/thor/opt/anaconda3/lib/python3.8/site-packages (from python-dateutil>=2.7.3->pandas>=1.2.0->pyldavis) (1.15.0)\n",
      "Requirement already satisfied: smart-open>=1.8.1 in /Users/thor/opt/anaconda3/lib/python3.8/site-packages (from gensim->pyldavis) (5.1.0)\n",
      "Requirement already satisfied: MarkupSafe>=0.23 in /Users/thor/opt/anaconda3/lib/python3.8/site-packages (from jinja2->pyldavis) (1.1.1)\n",
      "Requirement already satisfied: threadpoolctl>=2.0.0 in /Users/thor/opt/anaconda3/lib/python3.8/site-packages (from scikit-learn->pyldavis) (2.1.0)\n",
      "Building wheels for collected packages: pyldavis, sklearn\n",
      "  Building wheel for pyldavis (PEP 517) ... \u001b[?25ldone\n",
      "\u001b[?25h  Created wheel for pyldavis: filename=pyLDAvis-3.3.1-py2.py3-none-any.whl size=136897 sha256=8ab5ae1f3789cf84dca43e958fc6596a3794760ced4c9bfc18ca616285efd9e1\n",
      "  Stored in directory: /Users/thor/Library/Caches/pip/wheels/90/61/ec/9dbe9efc3acf9c4e37ba70fbbcc3f3a0ebd121060aa593181a\n",
      "  Building wheel for sklearn (setup.py) ... \u001b[?25ldone\n",
      "\u001b[?25h  Created wheel for sklearn: filename=sklearn-0.0-py2.py3-none-any.whl size=1316 sha256=7e872244fb4315b557687faf85e6d5a34603750da1545a296d48a88567319324\n",
      "  Stored in directory: /Users/thor/Library/Caches/pip/wheels/22/0b/40/fd3f795caaa1fb4c6cb738bc1f56100be1e57da95849bfc897\n",
      "Successfully built pyldavis sklearn\n",
      "Installing collected packages: numpy, sklearn, pandas, funcy, pyldavis\n",
      "  Attempting uninstall: numpy\n",
      "    Found existing installation: numpy 1.19.2\n",
      "    Uninstalling numpy-1.19.2:\n",
      "      Successfully uninstalled numpy-1.19.2\n",
      "  Attempting uninstall: pandas\n",
      "    Found existing installation: pandas 1.1.3\n",
      "    Uninstalling pandas-1.1.3:\n",
      "      Successfully uninstalled pandas-1.1.3\n",
      "\u001b[31mERROR: pip's dependency resolver does not currently take into account all the packages that are installed. This behaviour is the source of the following dependency conflicts.\n",
      "tensorflow 2.4.1 requires numpy~=1.19.2, but you have numpy 1.21.0 which is incompatible.\n",
      "pmdarima 1.8.2 requires numpy~=1.19.0, but you have numpy 1.21.0 which is incompatible.\u001b[0m\n",
      "Successfully installed funcy-1.16 numpy-1.21.0 pandas-1.3.0 pyldavis-3.3.1 sklearn-0.0\n",
      "\u001b[33mWARNING: You are using pip version 21.0.1; however, version 21.1.3 is available.\n",
      "You should consider upgrading via the '/Users/thor/opt/anaconda3/bin/python -m pip install --upgrade pip' command.\u001b[0m\n"
     ]
    }
   ],
   "source": [
    "!pip install pyldavis"
   ]
  },
  {
   "cell_type": "code",
   "execution_count": 84,
   "metadata": {
    "ExecuteTime": {
     "end_time": "2021-07-13T07:41:07.049747Z",
     "start_time": "2021-07-13T07:41:07.043330Z"
    }
   },
   "outputs": [
    {
     "name": "stderr",
     "output_type": "stream",
     "text": [
      "/Users/thor/opt/anaconda3/lib/python3.8/site-packages/ipykernel/ipkernel.py:287: DeprecationWarning: `should_run_async` will not call `transform_cell` automatically in the future. Please pass the result to `transformed_cell` argument and any exception that happen during thetransform in `preprocessing_exc_tuple` in IPython 7.17 and above.\n",
      "  and should_run_async(code)\n"
     ]
    }
   ],
   "source": [
    "import pyLDAvis\n",
    "import pyLDAvis.gensim_models as gensimvis\n",
    "from operator import itemgetter"
   ]
  },
  {
   "cell_type": "code",
   "execution_count": 102,
   "metadata": {
    "ExecuteTime": {
     "end_time": "2021-07-13T07:52:03.187947Z",
     "start_time": "2021-07-13T07:52:03.181816Z"
    }
   },
   "outputs": [
    {
     "name": "stderr",
     "output_type": "stream",
     "text": [
      "/Users/thor/opt/anaconda3/lib/python3.8/site-packages/ipykernel/ipkernel.py:287: DeprecationWarning: `should_run_async` will not call `transform_cell` automatically in the future. Please pass the result to `transformed_cell` argument and any exception that happen during thetransform in `preprocessing_exc_tuple` in IPython 7.17 and above.\n",
      "  and should_run_async(code)\n"
     ]
    },
    {
     "data": {
      "text/plain": [
       "(0, 0.45845973)"
      ]
     },
     "execution_count": 102,
     "metadata": {},
     "output_type": "execute_result"
    }
   ],
   "source": [
    "get_max_score_topic = lda_model_tfidf.get_document_topics(corpus_tfidf[0])\n",
    "max(get_max_score_topic, key=itemgetter(1))"
   ]
  },
  {
   "cell_type": "code",
   "execution_count": 101,
   "metadata": {
    "ExecuteTime": {
     "end_time": "2021-07-13T07:50:56.366970Z",
     "start_time": "2021-07-13T07:50:56.356658Z"
    }
   },
   "outputs": [
    {
     "name": "stderr",
     "output_type": "stream",
     "text": [
      "/Users/thor/opt/anaconda3/lib/python3.8/site-packages/ipykernel/ipkernel.py:287: DeprecationWarning: `should_run_async` will not call `transform_cell` automatically in the future. Please pass the result to `transformed_cell` argument and any exception that happen during thetransform in `preprocessing_exc_tuple` in IPython 7.17 and above.\n",
      "  and should_run_async(code)\n"
     ]
    },
    {
     "data": {
      "text/plain": [
       "[(0, 0.4581894),\n",
       " (3, 0.3922062),\n",
       " (0, 0.26929396),\n",
       " (2, 0.6993244),\n",
       " (6, 0.40034476),\n",
       " (3, 0.694104),\n",
       " (1, 0.7143104),\n",
       " (8, 0.3521499),\n",
       " (2, 0.40077934),\n",
       " (1, 0.42290905)]"
      ]
     },
     "execution_count": 101,
     "metadata": {},
     "output_type": "execute_result"
    }
   ],
   "source": [
    "get_max_score_topics = lda_model_tfidf.get_document_topics(corpus_tfidf[:10])\n",
    "scores = []\n",
    "for score in get_max_score_topics:\n",
    "    scores.append((max(score, key=itemgetter(1))))\n",
    "scores"
   ]
  }
 ],
 "metadata": {
  "kernelspec": {
   "display_name": "Python 3",
   "language": "python",
   "name": "python3"
  },
  "language_info": {
   "codemirror_mode": {
    "name": "ipython",
    "version": 3
   },
   "file_extension": ".py",
   "mimetype": "text/x-python",
   "name": "python",
   "nbconvert_exporter": "python",
   "pygments_lexer": "ipython3",
   "version": "3.8.5"
  },
  "latex_envs": {
   "LaTeX_envs_menu_present": true,
   "autoclose": false,
   "autocomplete": true,
   "bibliofile": "biblio.bib",
   "cite_by": "apalike",
   "current_citInitial": 1,
   "eqLabelWithNumbers": true,
   "eqNumInitial": 1,
   "hotkeys": {
    "equation": "Ctrl-E",
    "itemize": "Ctrl-I"
   },
   "labels_anchors": false,
   "latex_user_defs": false,
   "report_style_numbering": false,
   "user_envs_cfg": false
  },
  "toc": {
   "base_numbering": 1,
   "nav_menu": {},
   "number_sections": true,
   "sideBar": true,
   "skip_h1_title": false,
   "title_cell": "Table of Contents",
   "title_sidebar": "Contents",
   "toc_cell": false,
   "toc_position": {
    "height": "calc(100% - 180px)",
    "left": "10px",
    "top": "150px",
    "width": "261.817px"
   },
   "toc_section_display": true,
   "toc_window_display": false
  },
  "varInspector": {
   "cols": {
    "lenName": 16,
    "lenType": 16,
    "lenVar": 40
   },
   "kernels_config": {
    "python": {
     "delete_cmd_postfix": "",
     "delete_cmd_prefix": "del ",
     "library": "var_list.py",
     "varRefreshCmd": "print(var_dic_list())"
    },
    "r": {
     "delete_cmd_postfix": ") ",
     "delete_cmd_prefix": "rm(",
     "library": "var_list.r",
     "varRefreshCmd": "cat(var_dic_list()) "
    }
   },
   "types_to_exclude": [
    "module",
    "function",
    "builtin_function_or_method",
    "instance",
    "_Feature"
   ],
   "window_display": false
  }
 },
 "nbformat": 4,
 "nbformat_minor": 4
}
