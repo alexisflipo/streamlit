{
 "cells": [
  {
   "cell_type": "code",
   "execution_count": 15,
   "id": "8bb9c887",
   "metadata": {
    "ExecuteTime": {
     "end_time": "2021-07-26T14:38:17.838930Z",
     "start_time": "2021-07-26T14:38:17.807684Z"
    }
   },
   "outputs": [],
   "source": [
    "import pickle\n",
    "import pandas as pd \n",
    "import nltk\n",
    "from nltk.stem import WordNetLemmatizer, SnowballStemmer\n",
    "from nltk.stem.porter import *\n",
    "import numpy as np\n",
    "from gensim.utils import simple_preprocess\n",
    "from gensim.parsing.preprocessing import STOPWORDS\n",
    "import gensim\n",
    "\n",
    "from gensim.corpora import Dictionary\n"
   ]
  },
  {
   "cell_type": "code",
   "execution_count": 16,
   "id": "b25d8283",
   "metadata": {
    "ExecuteTime": {
     "end_time": "2021-07-26T14:38:18.462606Z",
     "start_time": "2021-07-26T14:38:18.409217Z"
    }
   },
   "outputs": [],
   "source": [
    "filename = 'finalized_model_lda_tfidf.sav'\n",
    "# load the model from disk\n",
    "loaded_model = pickle.load(open(filename, 'rb'))\n",
    "#result = loaded_model.score(X_test, Y_test)\n",
    "#print(result)\n"
   ]
  },
  {
   "cell_type": "code",
   "execution_count": 17,
   "id": "f9cad10e",
   "metadata": {
    "ExecuteTime": {
     "end_time": "2021-07-26T14:38:19.106367Z",
     "start_time": "2021-07-26T14:38:19.059492Z"
    }
   },
   "outputs": [],
   "source": [
    "dictionary = Dictionary.load('dictionary')"
   ]
  },
  {
   "cell_type": "code",
   "execution_count": 18,
   "id": "600360ae",
   "metadata": {
    "ExecuteTime": {
     "end_time": "2021-07-26T14:38:19.638848Z",
     "start_time": "2021-07-26T14:38:19.607605Z"
    }
   },
   "outputs": [],
   "source": [
    "'''\n",
    "Write a function to perform the pre processing steps on the entire dataset\n",
    "'''\n",
    "def lemmatize_stemming(text):\n",
    "    w = text\n",
    "    w = WordNetLemmatizer().lemmatize(w, pos='v').lower()\n",
    "    w = WordNetLemmatizer().lemmatize(w, pos='n')\n",
    "    w = WordNetLemmatizer().lemmatize(w, pos='a')\n",
    "    return w\n",
    "\n",
    "\n",
    "# Tokenize and lemmatize\n",
    "def preprocess(text):\n",
    "    \n",
    "    result = []\n",
    "    \n",
    "    for token in gensim.utils.simple_preprocess(text) :\n",
    "        \n",
    "        if token not in gensim.parsing.preprocessing.STOPWORDS and len(token) > 3:\n",
    "            \n",
    "            # TODO: Apply lemmatize_stemming() on the token, then add to the results list\n",
    "            result.append(lemmatize_stemming(token))\n",
    "    \n",
    "    return result"
   ]
  },
  {
   "cell_type": "code",
   "execution_count": 19,
   "id": "9212e4ab",
   "metadata": {
    "ExecuteTime": {
     "end_time": "2021-07-26T14:38:25.368408Z",
     "start_time": "2021-07-26T14:38:20.279100Z"
    }
   },
   "outputs": [
    {
     "name": "stdout",
     "output_type": "stream",
     "text": [
      "Score: 0.8499645590782166\t Topic: 0.022*\"police\" + 0.017*\"crash\" + 0.016*\"charge\" + 0.015*\"kill\" + 0.010*\"death\"\n",
      "Score: 0.016673363745212555\t Topic: 0.017*\"rudd\" + 0.009*\"bail\" + 0.007*\"child\" + 0.006*\"afghan\" + 0.006*\"court\"\n",
      "Score: 0.016672711819410324\t Topic: 0.008*\"teacher\" + 0.007*\"nurse\" + 0.006*\"action\" + 0.006*\"swan\" + 0.006*\"safe\"\n",
      "Score: 0.016671523451805115\t Topic: 0.007*\"aussie\" + 0.006*\"suspend\" + 0.006*\"black\" + 0.006*\"qantas\" + 0.005*\"beijing\"\n",
      "Score: 0.016670361161231995\t Topic: 0.026*\"close\" + 0.016*\"market\" + 0.009*\"guilty\" + 0.007*\"plead\" + 0.006*\"profit\"\n",
      "Score: 0.016670260578393936\t Topic: 0.010*\"obama\" + 0.006*\"korea\" + 0.005*\"tiger\" + 0.005*\"nuclear\" + 0.005*\"talk\"\n",
      "Score: 0.016669897362589836\t Topic: 0.014*\"interview\" + 0.012*\"coast\" + 0.011*\"gold\" + 0.006*\"honour\" + 0.006*\"smith\"\n",
      "Score: 0.01666959933936596\t Topic: 0.010*\"climate\" + 0.006*\"change\" + 0.005*\"troop\" + 0.005*\"whale\" + 0.005*\"step\"\n",
      "Score: 0.016669249162077904\t Topic: 0.011*\"govt\" + 0.011*\"fund\" + 0.010*\"health\" + 0.007*\"plan\" + 0.007*\"indigenous\"\n",
      "Score: 0.016668489202857018\t Topic: 0.014*\"water\" + 0.009*\"council\" + 0.008*\"govt\" + 0.008*\"plan\" + 0.008*\"farmer\"\n"
     ]
    }
   ],
   "source": [
    "unseen_document = \"Lightning strikes in India kill 38 people\"\n",
    "\n",
    "# Data preprocessing step for the unseen document\n",
    "bow_vector = dictionary.doc2bow(preprocess(unseen_document))\n",
    "\n",
    "for index, score in sorted(loaded_model[bow_vector], key=lambda tup: -1*tup[1]):\n",
    "\n",
    "    print(\"Score: {}\\t Topic: {}\".format(score, loaded_model.print_topic(index, 5)))\n",
    "\n"
   ]
  },
  {
   "cell_type": "code",
   "execution_count": null,
   "id": "e9908b73",
   "metadata": {},
   "outputs": [],
   "source": []
  }
 ],
 "metadata": {
  "kernelspec": {
   "display_name": "Python 3",
   "language": "python",
   "name": "python3"
  },
  "language_info": {
   "codemirror_mode": {
    "name": "ipython",
    "version": 3
   },
   "file_extension": ".py",
   "mimetype": "text/x-python",
   "name": "python",
   "nbconvert_exporter": "python",
   "pygments_lexer": "ipython3",
   "version": "3.8.5"
  },
  "latex_envs": {
   "LaTeX_envs_menu_present": true,
   "autoclose": false,
   "autocomplete": true,
   "bibliofile": "biblio.bib",
   "cite_by": "apalike",
   "current_citInitial": 1,
   "eqLabelWithNumbers": true,
   "eqNumInitial": 1,
   "hotkeys": {
    "equation": "Ctrl-E",
    "itemize": "Ctrl-I"
   },
   "labels_anchors": false,
   "latex_user_defs": false,
   "report_style_numbering": false,
   "user_envs_cfg": false
  },
  "toc": {
   "base_numbering": 1,
   "nav_menu": {},
   "number_sections": true,
   "sideBar": true,
   "skip_h1_title": false,
   "title_cell": "Table of Contents",
   "title_sidebar": "Contents",
   "toc_cell": false,
   "toc_position": {},
   "toc_section_display": true,
   "toc_window_display": false
  },
  "varInspector": {
   "cols": {
    "lenName": 16,
    "lenType": 16,
    "lenVar": 40
   },
   "kernels_config": {
    "python": {
     "delete_cmd_postfix": "",
     "delete_cmd_prefix": "del ",
     "library": "var_list.py",
     "varRefreshCmd": "print(var_dic_list())"
    },
    "r": {
     "delete_cmd_postfix": ") ",
     "delete_cmd_prefix": "rm(",
     "library": "var_list.r",
     "varRefreshCmd": "cat(var_dic_list()) "
    }
   },
   "types_to_exclude": [
    "module",
    "function",
    "builtin_function_or_method",
    "instance",
    "_Feature"
   ],
   "window_display": false
  }
 },
 "nbformat": 4,
 "nbformat_minor": 5
}
