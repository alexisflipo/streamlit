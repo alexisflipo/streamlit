{
 "cells": [
  {
   "cell_type": "code",
   "execution_count": 1,
   "metadata": {
    "ExecuteTime": {
     "end_time": "2021-07-26T13:19:45.417727Z",
     "start_time": "2021-07-26T13:19:33.001498Z"
    }
   },
   "outputs": [
    {
     "name": "stderr",
     "output_type": "stream",
     "text": [
      "C:\\Users\\utilisateur\\anaconda3\\lib\\site-packages\\gensim\\similarities\\__init__.py:15: UserWarning: The gensim.similarities.levenshtein submodule is disabled, because the optional Levenshtein package <https://pypi.org/project/python-Levenshtein/> is unavailable. Install Levenhstein (e.g. `pip install python-Levenshtein`) to suppress this warning.\n",
      "  warnings.warn(msg)\n"
     ]
    }
   ],
   "source": [
    "import pandas as pd\n",
    "import nltk\n",
    "from nltk.stem import WordNetLemmatizer, SnowballStemmer\n",
    "from nltk.stem.porter import *\n",
    "import numpy as np\n",
    "from gensim.utils import simple_preprocess\n",
    "from gensim.parsing.preprocessing import STOPWORDS\n",
    "\n",
    "from operator import itemgetter\n",
    "\n",
    "#!pip install pyldavis\n",
    "\n",
    "import pyLDAvis\n",
    "import pyLDAvis.gensim_models as gensimvis"
   ]
  },
  {
   "cell_type": "code",
   "execution_count": 2,
   "metadata": {
    "ExecuteTime": {
     "end_time": "2021-07-26T13:19:45.448731Z",
     "start_time": "2021-07-26T13:19:45.426680Z"
    }
   },
   "outputs": [
    {
     "name": "stderr",
     "output_type": "stream",
     "text": [
      "C:\\Users\\utilisateur\\anaconda3\\lib\\site-packages\\ipykernel\\ipkernel.py:287: DeprecationWarning: `should_run_async` will not call `transform_cell` automatically in the future. Please pass the result to `transformed_cell` argument and any exception that happen during thetransform in `preprocessing_exc_tuple` in IPython 7.17 and above.\n",
      "  and should_run_async(code)\n"
     ]
    }
   ],
   "source": [
    "#pip install --upgrade ipykernel"
   ]
  },
  {
   "cell_type": "markdown",
   "metadata": {},
   "source": [
    "# Preprocessing"
   ]
  },
  {
   "cell_type": "code",
   "execution_count": 3,
   "metadata": {
    "ExecuteTime": {
     "end_time": "2021-07-26T13:19:47.574256Z",
     "start_time": "2021-07-26T13:19:45.455712Z"
    }
   },
   "outputs": [
    {
     "name": "stderr",
     "output_type": "stream",
     "text": [
      "C:\\Users\\utilisateur\\anaconda3\\lib\\site-packages\\ipykernel\\ipkernel.py:287: DeprecationWarning: `should_run_async` will not call `transform_cell` automatically in the future. Please pass the result to `transformed_cell` argument and any exception that happen during thetransform in `preprocessing_exc_tuple` in IPython 7.17 and above.\n",
      "  and should_run_async(code)\n"
     ]
    }
   ],
   "source": [
    "df = pd.read_csv('data/abcnews-date-text.csv', error_bad_lines=False)"
   ]
  },
  {
   "cell_type": "code",
   "execution_count": 4,
   "metadata": {
    "ExecuteTime": {
     "end_time": "2021-07-26T13:19:47.604074Z",
     "start_time": "2021-07-26T13:19:47.581239Z"
    }
   },
   "outputs": [
    {
     "name": "stderr",
     "output_type": "stream",
     "text": [
      "C:\\Users\\utilisateur\\anaconda3\\lib\\site-packages\\ipykernel\\ipkernel.py:287: DeprecationWarning: `should_run_async` will not call `transform_cell` automatically in the future. Please pass the result to `transformed_cell` argument and any exception that happen during thetransform in `preprocessing_exc_tuple` in IPython 7.17 and above.\n",
      "  and should_run_async(code)\n"
     ]
    }
   ],
   "source": [
    "#df = df.drop('publish_date', axis=1)"
   ]
  },
  {
   "cell_type": "code",
   "execution_count": 5,
   "metadata": {
    "ExecuteTime": {
     "end_time": "2021-07-26T13:19:47.666147Z",
     "start_time": "2021-07-26T13:19:47.610061Z"
    }
   },
   "outputs": [
    {
     "name": "stderr",
     "output_type": "stream",
     "text": [
      "C:\\Users\\utilisateur\\anaconda3\\lib\\site-packages\\ipykernel\\ipkernel.py:287: DeprecationWarning: `should_run_async` will not call `transform_cell` automatically in the future. Please pass the result to `transformed_cell` argument and any exception that happen during thetransform in `preprocessing_exc_tuple` in IPython 7.17 and above.\n",
      "  and should_run_async(code)\n"
     ]
    },
    {
     "data": {
      "text/plain": [
       "0    aba decides against community broadcasting lic...\n",
       "1       act fire witnesses must be aware of defamation\n",
       "2       a g calls for infrastructure protection summit\n",
       "3             air nz staff in aust strike for pay rise\n",
       "4        air nz strike to affect australian travellers\n",
       "5                    ambitious olsson wins triple jump\n",
       "Name: headline_text, dtype: object"
      ]
     },
     "execution_count": 5,
     "metadata": {},
     "output_type": "execute_result"
    }
   ],
   "source": [
    "df['headline_text'].loc[:5]"
   ]
  },
  {
   "cell_type": "markdown",
   "metadata": {},
   "source": [
    "## Import des modules nltk"
   ]
  },
  {
   "cell_type": "code",
   "execution_count": 6,
   "metadata": {
    "ExecuteTime": {
     "end_time": "2021-07-26T13:19:47.697065Z",
     "start_time": "2021-07-26T13:19:47.673128Z"
    }
   },
   "outputs": [
    {
     "name": "stderr",
     "output_type": "stream",
     "text": [
      "C:\\Users\\utilisateur\\anaconda3\\lib\\site-packages\\ipykernel\\ipkernel.py:287: DeprecationWarning: `should_run_async` will not call `transform_cell` automatically in the future. Please pass the result to `transformed_cell` argument and any exception that happen during thetransform in `preprocessing_exc_tuple` in IPython 7.17 and above.\n",
      "  and should_run_async(code)\n"
     ]
    }
   ],
   "source": [
    "from nltk.corpus import wordnet, stopwords\n",
    "from nltk.tokenize import word_tokenize\n",
    "from nltk.stem import WordNetLemmatizer, PorterStemmer"
   ]
  },
  {
   "cell_type": "code",
   "execution_count": 7,
   "metadata": {
    "ExecuteTime": {
     "end_time": "2021-07-26T13:19:47.728979Z",
     "start_time": "2021-07-26T13:19:47.712025Z"
    }
   },
   "outputs": [
    {
     "name": "stderr",
     "output_type": "stream",
     "text": [
      "C:\\Users\\utilisateur\\anaconda3\\lib\\site-packages\\ipykernel\\ipkernel.py:287: DeprecationWarning: `should_run_async` will not call `transform_cell` automatically in the future. Please pass the result to `transformed_cell` argument and any exception that happen during thetransform in `preprocessing_exc_tuple` in IPython 7.17 and above.\n",
      "  and should_run_async(code)\n"
     ]
    }
   ],
   "source": [
    "#nltk.download()"
   ]
  },
  {
   "cell_type": "code",
   "execution_count": 8,
   "metadata": {
    "ExecuteTime": {
     "end_time": "2021-07-26T13:19:47.759903Z",
     "start_time": "2021-07-26T13:19:47.737960Z"
    }
   },
   "outputs": [
    {
     "name": "stderr",
     "output_type": "stream",
     "text": [
      "C:\\Users\\utilisateur\\anaconda3\\lib\\site-packages\\ipykernel\\ipkernel.py:287: DeprecationWarning: `should_run_async` will not call `transform_cell` automatically in the future. Please pass the result to `transformed_cell` argument and any exception that happen during thetransform in `preprocessing_exc_tuple` in IPython 7.17 and above.\n",
      "  and should_run_async(code)\n"
     ]
    }
   ],
   "source": [
    "#nltk.download('punkt')"
   ]
  },
  {
   "cell_type": "code",
   "execution_count": 9,
   "metadata": {
    "ExecuteTime": {
     "end_time": "2021-07-26T13:19:47.775856Z",
     "start_time": "2021-07-26T13:19:47.766880Z"
    }
   },
   "outputs": [
    {
     "name": "stderr",
     "output_type": "stream",
     "text": [
      "C:\\Users\\utilisateur\\anaconda3\\lib\\site-packages\\ipykernel\\ipkernel.py:287: DeprecationWarning: `should_run_async` will not call `transform_cell` automatically in the future. Please pass the result to `transformed_cell` argument and any exception that happen during thetransform in `preprocessing_exc_tuple` in IPython 7.17 and above.\n",
      "  and should_run_async(code)\n"
     ]
    }
   ],
   "source": [
    "#nltk.download('stopwords')"
   ]
  },
  {
   "cell_type": "code",
   "execution_count": 10,
   "metadata": {
    "ExecuteTime": {
     "end_time": "2021-07-26T13:19:47.854646Z",
     "start_time": "2021-07-26T13:19:47.783832Z"
    }
   },
   "outputs": [
    {
     "name": "stderr",
     "output_type": "stream",
     "text": [
      "C:\\Users\\utilisateur\\anaconda3\\lib\\site-packages\\ipykernel\\ipkernel.py:287: DeprecationWarning: `should_run_async` will not call `transform_cell` automatically in the future. Please pass the result to `transformed_cell` argument and any exception that happen during thetransform in `preprocessing_exc_tuple` in IPython 7.17 and above.\n",
      "  and should_run_async(code)\n"
     ]
    },
    {
     "data": {
      "text/plain": [
       "{'a',\n",
       " 'about',\n",
       " 'above',\n",
       " 'after',\n",
       " 'again',\n",
       " 'against',\n",
       " 'ain',\n",
       " 'all',\n",
       " 'am',\n",
       " 'an',\n",
       " 'and',\n",
       " 'any',\n",
       " 'are',\n",
       " 'aren',\n",
       " \"aren't\",\n",
       " 'as',\n",
       " 'at',\n",
       " 'be',\n",
       " 'because',\n",
       " 'been',\n",
       " 'before',\n",
       " 'being',\n",
       " 'below',\n",
       " 'between',\n",
       " 'both',\n",
       " 'but',\n",
       " 'by',\n",
       " 'can',\n",
       " 'couldn',\n",
       " \"couldn't\",\n",
       " 'd',\n",
       " 'did',\n",
       " 'didn',\n",
       " \"didn't\",\n",
       " 'do',\n",
       " 'does',\n",
       " 'doesn',\n",
       " \"doesn't\",\n",
       " 'doing',\n",
       " 'don',\n",
       " \"don't\",\n",
       " 'down',\n",
       " 'during',\n",
       " 'each',\n",
       " 'few',\n",
       " 'for',\n",
       " 'from',\n",
       " 'further',\n",
       " 'had',\n",
       " 'hadn',\n",
       " \"hadn't\",\n",
       " 'has',\n",
       " 'hasn',\n",
       " \"hasn't\",\n",
       " 'have',\n",
       " 'haven',\n",
       " \"haven't\",\n",
       " 'having',\n",
       " 'he',\n",
       " 'her',\n",
       " 'here',\n",
       " 'hers',\n",
       " 'herself',\n",
       " 'him',\n",
       " 'himself',\n",
       " 'his',\n",
       " 'how',\n",
       " 'i',\n",
       " 'if',\n",
       " 'in',\n",
       " 'into',\n",
       " 'is',\n",
       " 'isn',\n",
       " \"isn't\",\n",
       " 'it',\n",
       " \"it's\",\n",
       " 'its',\n",
       " 'itself',\n",
       " 'just',\n",
       " 'll',\n",
       " 'm',\n",
       " 'ma',\n",
       " 'me',\n",
       " 'mightn',\n",
       " \"mightn't\",\n",
       " 'more',\n",
       " 'most',\n",
       " 'mustn',\n",
       " \"mustn't\",\n",
       " 'my',\n",
       " 'myself',\n",
       " 'needn',\n",
       " \"needn't\",\n",
       " 'no',\n",
       " 'nor',\n",
       " 'not',\n",
       " 'now',\n",
       " 'o',\n",
       " 'of',\n",
       " 'off',\n",
       " 'on',\n",
       " 'once',\n",
       " 'only',\n",
       " 'or',\n",
       " 'other',\n",
       " 'our',\n",
       " 'ours',\n",
       " 'ourselves',\n",
       " 'out',\n",
       " 'over',\n",
       " 'own',\n",
       " 're',\n",
       " 's',\n",
       " 'same',\n",
       " 'shan',\n",
       " \"shan't\",\n",
       " 'she',\n",
       " \"she's\",\n",
       " 'should',\n",
       " \"should've\",\n",
       " 'shouldn',\n",
       " \"shouldn't\",\n",
       " 'so',\n",
       " 'some',\n",
       " 'such',\n",
       " 't',\n",
       " 'than',\n",
       " 'that',\n",
       " \"that'll\",\n",
       " 'the',\n",
       " 'their',\n",
       " 'theirs',\n",
       " 'them',\n",
       " 'themselves',\n",
       " 'then',\n",
       " 'there',\n",
       " 'these',\n",
       " 'they',\n",
       " 'this',\n",
       " 'those',\n",
       " 'through',\n",
       " 'to',\n",
       " 'too',\n",
       " 'under',\n",
       " 'until',\n",
       " 'up',\n",
       " 've',\n",
       " 'very',\n",
       " 'was',\n",
       " 'wasn',\n",
       " \"wasn't\",\n",
       " 'we',\n",
       " 'were',\n",
       " 'weren',\n",
       " \"weren't\",\n",
       " 'what',\n",
       " 'when',\n",
       " 'where',\n",
       " 'which',\n",
       " 'while',\n",
       " 'who',\n",
       " 'whom',\n",
       " 'why',\n",
       " 'will',\n",
       " 'with',\n",
       " 'won',\n",
       " \"won't\",\n",
       " 'wouldn',\n",
       " \"wouldn't\",\n",
       " 'y',\n",
       " 'you',\n",
       " \"you'd\",\n",
       " \"you'll\",\n",
       " \"you're\",\n",
       " \"you've\",\n",
       " 'your',\n",
       " 'yours',\n",
       " 'yourself',\n",
       " 'yourselves'}"
      ]
     },
     "execution_count": 10,
     "metadata": {},
     "output_type": "execute_result"
    }
   ],
   "source": [
    "stop_words = set(stopwords.words('english'))\n",
    "stop_words"
   ]
  },
  {
   "cell_type": "markdown",
   "metadata": {},
   "source": [
    "## Tokenizer nos titres afin d'obtenir une liste de mots"
   ]
  },
  {
   "cell_type": "code",
   "execution_count": 11,
   "metadata": {
    "ExecuteTime": {
     "end_time": "2021-07-26T13:23:05.490649Z",
     "start_time": "2021-07-26T13:19:47.860630Z"
    }
   },
   "outputs": [
    {
     "name": "stderr",
     "output_type": "stream",
     "text": [
      "C:\\Users\\utilisateur\\anaconda3\\lib\\site-packages\\ipykernel\\ipkernel.py:287: DeprecationWarning: `should_run_async` will not call `transform_cell` automatically in the future. Please pass the result to `transformed_cell` argument and any exception that happen during thetransform in `preprocessing_exc_tuple` in IPython 7.17 and above.\n",
      "  and should_run_async(code)\n"
     ]
    }
   ],
   "source": [
    "words_splitted = []\n",
    "# for i in df['headline_text'][:10]:\n",
    "#     words_splitted.append(i.split(' '))\n",
    "\n",
    "#for line in df['headline_text'][:550000]:\n",
    "for line in df['headline_text']:\n",
    "    words_splitted.append(nltk.word_tokenize(line))\n",
    "    # for i in df['headline_text']:\n",
    "#     print(i)"
   ]
  },
  {
   "cell_type": "code",
   "execution_count": 12,
   "metadata": {
    "ExecuteTime": {
     "end_time": "2021-07-26T13:25:19.903082Z",
     "start_time": "2021-07-26T13:23:05.495521Z"
    }
   },
   "outputs": [
    {
     "name": "stderr",
     "output_type": "stream",
     "text": [
      "C:\\Users\\utilisateur\\anaconda3\\lib\\site-packages\\ipykernel\\ipkernel.py:287: DeprecationWarning: `should_run_async` will not call `transform_cell` automatically in the future. Please pass the result to `transformed_cell` argument and any exception that happen during thetransform in `preprocessing_exc_tuple` in IPython 7.17 and above.\n",
      "  and should_run_async(code)\n"
     ]
    },
    {
     "data": {
      "text/plain": [
       "[['decide', 'community', 'broadcast', 'licence'],\n",
       " ['fire', 'witness', 'must', 'aware', 'defamation'],\n",
       " ['call', 'infrastructure', 'protection', 'summit'],\n",
       " ['staff', 'aust', 'strike', 'rise'],\n",
       " ['strike', 'affect', 'australian', 'traveller'],\n",
       " ['ambitious', 'olsson', 'win', 'triple', 'jump'],\n",
       " ['antic', 'delight', 'record', 'break', 'barca'],\n",
       " ['aussie', 'qualifier', 'stosur', 'waste', 'four', 'memphis', 'match'],\n",
       " ['aust', 'address', 'security', 'council', 'iraq'],\n",
       " ['australia', 'lock', 'timetable'],\n",
       " ['australia', 'contribute', 'million', 'iraq'],\n",
       " ['barca', 'take', 'record', 'robson', 'celebrate', 'birthday'],\n",
       " ['bathhouse', 'plan', 'move', 'ahead'],\n",
       " ['hop', 'launceston', 'cycle', 'championship'],\n",
       " ['plan', 'boost', 'paroo', 'water', 'supply'],\n",
       " ['blizzard', 'bury', 'unite', 'state', 'bill'],\n",
       " ['brigadier', 'dismiss', 'report', 'troop', 'harass'],\n",
       " ['british', 'combat', 'troop', 'arrive', 'daily', 'kuwait'],\n",
       " ['bryant', 'lead', 'lakers', 'double', 'overtime'],\n",
       " ['bushfire', 'victim', 'urge', 'centrelink'],\n",
       " ['business', 'prepare', 'terrorist', 'attack'],\n",
       " ['calleri', 'avenge', 'final', 'defeat', 'eliminate', 'massu'],\n",
       " ['call', 'ethanol', 'blend', 'fuel', 'ahead'],\n",
       " ['carew', 'freak', 'goal', 'leave', 'rom', 'ruin'],\n",
       " ['cemetery', 'miss', 'fund'],\n",
       " ['code', 'conduct', 'toughen', 'organ', 'donation', 'regulation'],\n",
       " ['commonwealth', 'bank', 'cut', 'fix', 'home', 'loan', 'rat'],\n",
       " ['community', 'urge', 'help', 'homeless', 'youth'],\n",
       " ['council', 'chief', 'executive', 'fail', 'secure', 'position'],\n",
       " ['councillor', 'contest', 'wollongong', 'independent'],\n",
       " ['council', 'move', 'protect', 'heritage', 'garden'],\n",
       " ['council', 'welcome', 'ambulance', 'levy', 'decision'],\n",
       " ['council', 'welcome', 'insurance', 'breakthrough'],\n",
       " ['crean', 'tell', 'leadership', 'critic', 'shut'],\n",
       " ['dargo', 'fire', 'threat', 'expect', 'rise'],\n",
       " ['death', 'toll', 'continue', 'climb', 'korean', 'subway'],\n",
       " ['dems', 'hold', 'plebiscite', 'iraqi', 'conflict'],\n",
       " ['dent', 'down', 'philippoussis', 'break', 'thriller'],\n",
       " ['villiers', 'learn', 'fate', 'march'],\n",
       " ['digital', 'become', 'commonplace', 'summit'],\n",
       " ['direct', 'anger', 'govt', 'soldier', 'crean', 'urge'],\n",
       " ['dispute', 'smithton', 'vegetable', 'process', 'plant'],\n",
       " ['maul', 'month', 'toddler'],\n",
       " ['die', 'korean', 'subway', 'passenger', 'phone', 'help'],\n",
       " ['england', 'change', 'three', 'wale', 'match'],\n",
       " ['still', 'try', 'recover', 'chemical', 'clean', 'cost'],\n",
       " ['expression', 'interest', 'seek', 'build', 'livestock'],\n",
       " ['introduce', 'national', 'insurance'],\n",
       " ['firefighter', 'contain', 'acid', 'spill'],\n",
       " ['four', 'injure', 'head', 'highway', 'crash'],\n",
       " ['freedom', 'record', 'profit', 'third', 'successive'],\n",
       " ['fund', 'allocate', 'domestic', 'violence', 'victim'],\n",
       " ['fund', 'allocate', 'youth', 'risk'],\n",
       " ['fund', 'announce', 'bridge', 'work'],\n",
       " ['fund', 'cadell', 'upgrade'],\n",
       " ['fund', 'help', 'restore', 'cossack'],\n",
       " ['german', 'court', 'give', 'verdict', 'sept', 'accuse'],\n",
       " ['gilchrist', 'back', 'rest', 'policy'],\n",
       " ['girl', 'injure', 'head', 'highway', 'crash'],\n",
       " ['gold', 'coast', 'hear', 'bilby', 'project'],\n",
       " ['golf', 'club', 'feel', 'smoke', 'impact'],\n",
       " ['govt', 'blame', 'ethanol', 'unpopularity'],\n",
       " ['green', 'offer', 'police', 'station', 'alternative'],\n",
       " ['griffith', 'fire', 'project', 'knock', 'back'],\n",
       " ['group', 'meet', 'north', 'west', 'rock'],\n",
       " ['hacker', 'gain', 'access', 'eight', 'million', 'credit', 'card'],\n",
       " ['hanson', 'grossly', 'naive', 'issue', 'costa'],\n",
       " ['hanson', 'back', 'come'],\n",
       " ['harrington', 'raring', 'break'],\n",
       " ['health', 'minister', 'back', 'organ', 'tissue', 'storage'],\n",
       " ['heavy', 'metal', 'deposit', 'survey', 'near'],\n",
       " ['injure', 'rio', 'pull', 'buenos', 'air', 'open'],\n",
       " ['inquest', 'find', 'man', 'death', 'accidental'],\n",
       " ['investigation', 'underway', 'death', 'toll', 'korean'],\n",
       " ['investigation', 'underway', 'elster', 'creek', 'spill'],\n",
       " ['iraq', 'neighbour', 'plead', 'continue', 'inspection'],\n",
       " ['iraq', 'rebuild', 'white', 'house'],\n",
       " ['irish', 'arrest', 'omagh', 'bomb'],\n",
       " ['irrigators', 'vote', 'river', 'management'],\n",
       " ['israeli', 'force', 'push', 'gaza', 'strip'],\n",
       " ['jury', 'consider', 'verdict', 'murder', 'case'],\n",
       " ['juvenile', 'offender', 'unlikely', 'reoffend'],\n",
       " ['kelly', 'disgust', 'allege', 'ethanol', 'scare'],\n",
       " ['kelly', 'surprise', 'ethanol', 'confidence'],\n",
       " ['korean', 'subway', 'fire', 'still', 'miss'],\n",
       " ['last', 'minute', 'call', 'hand', 'alinghi', 'lead'],\n",
       " ['demand', 'force', 'service', 'cut'],\n",
       " ['arrest', 'central', 'hijack', 'attempt'],\n",
       " ['charge', 'cooma', 'murder'],\n",
       " ['fin', 'aboriginal', 'tent', 'embassy', 'raid'],\n",
       " ['jail', 'keno', 'fraud'],\n",
       " ['knife', 'hijack', 'light', 'plane'],\n",
       " ['martin', 'lobby', 'lose', 'seat'],\n",
       " ['massive', 'drug', 'crop', 'discover', 'western'],\n",
       " ['mayor', 'warn', 'landfill', 'protester'],\n",
       " ['meet', 'consider', 'tick', 'clearance', 'cost'],\n",
       " ['meet', 'focus', 'break', 'hill', 'water', 'woe'],\n",
       " ['moderate', 'lift', 'wag', 'growth'],\n",
       " ['young', 'drink', 'alcohol'],\n",
       " ['water', 'restriction', 'predict', 'northern'],\n",
       " ['woman', 'urge', 'become', 'councillor'],\n",
       " ['highly', 'educate', 'live'],\n",
       " ['raise', 'hospital', 'concern', 'parliament'],\n",
       " ['reject', 'ambulance', 'levy', 'claim'],\n",
       " ['mugabe', 'touch', 'paris', 'summit'],\n",
       " ['national', 'gallery', 'get', 'clear'],\n",
       " ['nato', 'give', 'green', 'light', 'defend', 'turkey'],\n",
       " ['defend', 'aboriginal', 'tent', 'embassy', 'raid'],\n",
       " ['zealand', 'impose', 'visa', 'entry', 'zimbabwe'],\n",
       " ['side', 'effect', 'whoop', 'cough', 'vaccine'],\n",
       " ['govt', 'fire', 'hold', 'back', 'vegetation'],\n",
       " ['defend', 'claim', 'run', 'race', 'campaign'],\n",
       " ['pledge', 'drought', 'relief'],\n",
       " ['govt', 'boost', 'nurse', 'number', 'overseas', 'intake'],\n",
       " ['korean', 'seek', 'asylum', 'japanese', 'embassy'],\n",
       " ['nurse', 'student', 'intake'],\n",
       " ['brother', 'time', 'say', 'ganguly', 'senior'],\n",
       " ['omodei', 'stay', 'politics'],\n",
       " ['onesteel', 'invest', 'whyalla', 'steelworks'],\n",
       " ['opposition', 'urge', 'help', 'protect', 'recherche'],\n",
       " ['orientation', 'begin', 'student'],\n",
       " ['osullivan', 'world', 'cross', 'country', 'doubt'],\n",
       " ['pagan', 'say', 'rule', 'change', 'necessary'],\n",
       " ['pair', 'face', 'court', 'murder'],\n",
       " ['patterson', 'defend', 'decision', 'attend', 'health'],\n",
       " ['patterson', 'show', 'display', 'govts', 'arrogance', 'crean'],\n",
       " ['patterson', 'snub', 'health', 'meet', 'avoid', 'lion'],\n",
       " ['peace', 'agreement', 'bring', 'respite', 'venezuela'],\n",
       " ['pienaar', 'shin', 'ajax', 'frustrate', 'arsenal'],\n",
       " ['plan', 'second', 'skatepark'],\n",
       " ['plan', 'encourage', 'farmer', 'plantation', 'timber'],\n",
       " ['nurse', 'strike', 'colleague', 'rap'],\n",
       " ['police', 'crack', 'driver', 'safety'],\n",
       " ['police', 'defend', 'aboriginal', 'tent', 'embassy', 'raid'],\n",
       " ['policewoman', 'accusation', 'feature', 'federal', 'crime'],\n",
       " ['probe', 'launch', 'plane', 'crash'],\n",
       " ['program', 'monitor', 'forest', 'harvest', 'area'],\n",
       " ['public', 'urge', 'check', 'cylinder'],\n",
       " ['public', 'warn', 'phone', 'scam'],\n",
       " ['qantas', 'international', 'crew', 'strike'],\n",
       " ['qantas', 'plan', '2500', 'job', 'outrage', 'union'],\n",
       " ['plan', 'northern', 'route', 'sack'],\n",
       " ['question', 'public', 'anger', 'grow', 'korean', 'subway'],\n",
       " ['rabbit', 'control', 'program', 'trial'],\n",
       " ['radioactive', 'spill', 'wmcs', 'olympic', 'mine'],\n",
       " ['rain', 'ease', 'wheatbelt', 'water', 'woe'],\n",
       " ['read', 'third', 'first', 'division'],\n",
       " ['record', 'amount', 'gladstone', 'venture'],\n",
       " ['refshauge', 'win', 'defamation', 'court', 'case'],\n",
       " ['regulator', 'inspect', 'canola', 'trial'],\n",
       " ['report', 'highlight', 'container', 'terminal', 'potential'],\n",
       " ['resource', 'stock', 'boost', 'ords'],\n",
       " ['restraint', 'order', 'issue', 'anti', 'discrimination'],\n",
       " ['reject', 'claim', 'authority', 'spurn'],\n",
       " ['ricciuto', 'undergo', 'surgery', 'injure', 'ankle'],\n",
       " ['rice', 'mill', 'closure', 'work'],\n",
       " ['angry', 'report', 'troop', 'harassment'],\n",
       " ['safety', 'review', 'begin', 'bushwalker', 'death'],\n",
       " ['premier', 'call', 'action', 'river', 'murray'],\n",
       " ['saudi', 'arabian', 'stand', 'trial', 'qaeda'],\n",
       " ['saudi', 'arabia', 'tell', 'arab', 'iraq', 'inevitable'],\n",
       " ['search', 'continue', 'victim', 'korean', 'subway'],\n",
       " ['second', 'resolution', 'iraq', 'expect', 'shortly'],\n",
       " ['shire', 'offer', 'assurance', 'finance'],\n",
       " ['palestinian', 'kill', 'gaza', 'incursion'],\n",
       " ['slow', 'recovery', 'predict', 'aust', 'economy'],\n",
       " ['smoke', 'ban', 'tabcorp', 'bottom', 'line'],\n",
       " ['snowtown', 'murder', 'trial', 'delay'],\n",
       " ['state', 'force', 'label', 'ethanol', 'fuel'],\n",
       " ['station', 'fix', 'home', 'phone', 'service'],\n",
       " ['sterrey', 'steer', 'shark'],\n",
       " ['still', 'sign', 'miss', 'fisherman'],\n",
       " ['stop', 'change', 'rule', 'fan', 'tell'],\n",
       " ['sugar', 'industry', 'plan', 'reveal'],\n",
       " ['surge', 'sale', 'aust'],\n",
       " ['swiss', 'challenger', 'look', 'future'],\n",
       " ['taipan', 'place', 'future', 'public', 'hand'],\n",
       " ['talk', 'asian', 'nuclear', 'arm', 'race', 'unhelpful', 'downer'],\n",
       " ['tasmanian', 'scientist', 'search', 'east', 'coast'],\n",
       " ['taylor', 'deny', 'call', 'waugh', 'quit'],\n",
       " ['teen', 'face', 'court', 'drug', 'charge'],\n",
       " ['test', 'show', 'dioxin', 'drink', 'water', 'standard'],\n",
       " ['thousand', 'remember', '61st', 'anniversary', 'darwin'],\n",
       " ['union', 'member', 'support', 'public', 'protest'],\n",
       " ['continue', 'tree', 'disease', 'study'],\n",
       " ['british', 'aircraft', 'attack', 'iraq', 'target'],\n",
       " ['stock', 'fee', 'pellet', 'fire', 'affect'],\n",
       " ['local', 'council', 'welcome', 'single', 'poll'],\n",
       " ['victorian', 'scientist', 'honour', 'award'],\n",
       " ['vowles', 'retire', 'season'],\n",
       " ['wale', 'coach', 'accuse', 'player', 'belittle'],\n",
       " ['warne', 'hear', 'friday'],\n",
       " ['webb', 'favourite', 'lady', 'master'],\n",
       " ['widnes', 'abandon', 'paul'],\n",
       " ['wildlife', 'sanctuary', 'plan', 'reveal'],\n",
       " ['williams', 'say', 'tight', 'bowl', 'warrior'],\n",
       " ['wine', 'chief', 'bounce', 'back', 'sack'],\n",
       " ['worksafe', 'probe', 'potato', 'harvester', 'injury'],\n",
       " ['dead', 'rebel', 'bomb', 'raid', 'philippine', 'army'],\n",
       " ['abattoir', 'sale'],\n",
       " ['academic', 'upbeat', 'high', 'education', 'review'],\n",
       " ['administrator', 'appoint', 'land', 'council'],\n",
       " ['declare', 'lose', 'parliamentary', 'seat'],\n",
       " ['amcor', 'record', 'solid', 'profit', 'result'],\n",
       " ['america', 'fourth', 'race', 'cancel'],\n",
       " ['arsenal', 'poise', 'swoop', 'beckham', 'report'],\n",
       " ['aust', 'drink', 'le', 'alcohol', 'smoke', 'le', 'study'],\n",
       " ['austeel', 'release', 'soon', 'govt'],\n",
       " ['australian', 'flag', 'celebrate', '100th', 'birthday'],\n",
       " ['hold', 'meet', 'port', 'kembla', 'job'],\n",
       " ['baby', 'badly', 'burn', 'brisbane', 'house', 'fire'],\n",
       " ['weather', 'might', 'cause', 'iranian', 'plane', 'crash'],\n",
       " ['beckham', 'lead', 'deplete', 'juve'],\n",
       " ['beware', 'standard', 'alcoholic', 'drink'],\n",
       " ['bilby', 'dream', 'become', 'reality'],\n",
       " ['brisbane', 'sparkies', 'head', 'strike'],\n",
       " ['britain', 'tell', 'national', 'leave', 'iraq', 'kuwait'],\n",
       " ['british', 'high', 'court', 'overturn', 'blair', 'asylum'],\n",
       " ['british', 'magician', 'entomb', 'cheese'],\n",
       " ['bungle', 'leave', 'doctor', 'wait', 'practise'],\n",
       " ['bushfire', 'coronial', 'inquiry', 'wind'],\n",
       " ['bush', 'thank', 'nato', 'support', 'turkey'],\n",
       " ['call', 'ambo', 'help', 'wake', 'fund', 'change'],\n",
       " ['canegrowers', 'hope', 'late', 'summer', 'rain'],\n",
       " ['capriati', 'hungry', 'dubai'],\n",
       " ['celt', 'underdog', 'uefa', 'clash', 'oneill'],\n",
       " ['chamber', 'vow', 'smash', 'world', 'mark'],\n",
       " ['charvis', 'pay', 'penalty', 'humphreys', 'earn', 'shock'],\n",
       " ['christmas', 'detention', 'centre', 'claim', 'quash'],\n",
       " ['claim', 'defence', 'spend', 'priority', 'health'],\n",
       " ['claim', 'education', 'policy', 'cause', 'high', 'indigenous'],\n",
       " ['claim', 'code', 'protect', 'autopsy', 'consent'],\n",
       " ['claim', 'education', 'policy', 'cause', 'high', 'indigenous'],\n",
       " ['college', 'continue', 'work', 'experience'],\n",
       " ['concern', 'fire', 'probe', 'cover', 'legal'],\n",
       " ['concorde', 'make', 'emergency', 'land', 'canada'],\n",
       " ['coronial', 'inquiry', 'expect', 'hospital', 'death'],\n",
       " ['council', 'chief', 'lament', 'advertise', 'decision'],\n",
       " ['council', 'general', 'manager', 'step'],\n",
       " ['council', 'offer', 'vandalism', 'report', 'reward'],\n",
       " ['country', 'race', 'club', 'still', 'hold', 'fear'],\n",
       " ['court', 'rule', 'longford', 'compo', 'today'],\n",
       " ['cristal', 'eight', 'match', 'libertadores', 'lose', 'streak'],\n",
       " ['cuper', 'slam', 'inter', 'recoba'],\n",
       " ['deportivo', 'slip', 'buoyant', 'swiss', 'minnow', 'basel'],\n",
       " ['distance', 'swimmer', 'maroney', 'call', 'quit'],\n",
       " ['dixon', 'dismiss', 'qantas', 'monopoly', 'claim'],\n",
       " ['downer', 'warn', 'iraq', 'action', 'could', 'begin', 'soon'],\n",
       " ['drought', 'break', 'rain', 'month', 'away'],\n",
       " ['drought', 'impact', 'reach'],\n",
       " ['drought', 'take', 'toll', 'insect'],\n",
       " ['early', 'childhood', 'development', 'receive', 'research'],\n",
       " ['elli', 'webb', 'well', 'place', 'lady', 'master'],\n",
       " ['employee', 'grant', 'restrain', 'order'],\n",
       " ['england', 'almost', 'choke', 'burger', 'king'],\n",
       " ['england', 'call', 'morris', 'first'],\n",
       " ['investigate', 'radioactive', 'spill'],\n",
       " ['esso', 'responsible', 'economic', 'loss'],\n",
       " ['esso', 'win', 'class', 'action', 'longford'],\n",
       " ['etienne', 'agree', 'tyson', 'fight'],\n",
       " ['family', 'confront', 'korean', 'president', 'elect'],\n",
       " ['fan', 'join', 'flower', 'olonga', 'anti', 'mugabe', 'protest'],\n",
       " ['ferguson', 'hail', 'beckham', 'unite', 'victory'],\n",
       " ['few', 'australian', 'jail'],\n",
       " ['fifa', 'bos', 'prepare', 'postpone', 'match'],\n",
       " ['firefighter', 'tell', 'attend', 'blaze'],\n",
       " ['fish', 'clean', 'facility', 'plan', 'announce'],\n",
       " ['flight', 'attendant', 'action', 'wont', 'affect', 'bundaberg'],\n",
       " ['forest', 'alliance', 'reject', 'hindrance', 'claim'],\n",
       " ['former', 'bank', 'worker', 'plead', 'guilty', 'theft', 'charge'],\n",
       " ['former', 'treasurer', 'charge', 'start', 'fire'],\n",
       " ['forum', 'put', 'focus', 'regional', 'need'],\n",
       " ['four', 'nominate', 'nats', 'charter', 'tower', 'preselection'],\n",
       " ['france', 'drop', 'merceron', 'gelez', 'face', 'scot'],\n",
       " ['french', 'expedition', 'site', 'heritage', 'protect'],\n",
       " ['fuel', 'price', 'jump', 'newcastle'],\n",
       " ['fulham', 'smash', 'west', 'brom', 'quickfire', 'trio'],\n",
       " ['ganguly', 'lead', 'india', 'victory'],\n",
       " ['gartner', 'win', 'wind'],\n",
       " ['gippsland', 'firefighter', 'remain', 'guard'],\n",
       " ['govt', 'canvas', 'way', 'improve', 'child', 'development'],\n",
       " ['govt', 'work', 'coroner', 'suicide', 'report'],\n",
       " ['greenpeace', 'call', 'canola'],\n",
       " ['green', 'dump', 'anti', 'terror', 'kit', 'howard', 'doorstep'],\n",
       " ['group', 'air', 'truancy', 'concern'],\n",
       " ['group', 'praise', 'outgo', 'opposition', 'agriculture'],\n",
       " ['group', 'take', 'reef', 'build'],\n",
       " ['hagan', 'blood', 'rookie', 'penrith'],\n",
       " ['houllier', 'back', 'owen', 'break', 'rush', 'score', 'record'],\n",
       " ['howard', 'step', 'criticism', 'anti', 'protester'],\n",
       " ['howard', 'vow', 'stay', 'iraq', 'crisis'],\n",
       " ['hussein', 'say', 'iraq', 'doesnt', 'want'],\n",
       " ['illegal', 'fish', 'spot', 'identify'],\n",
       " ['immigration', 'raid', 'melbourne', 'draw', 'flak'],\n",
       " ['impatience', 'grow', 'water', 'management', 'plan'],\n",
       " ['indy', 'meet', 'likely', 'include', 'rain', 'race', 'talk'],\n",
       " ['injury', 'threaten', 'unite', 'final'],\n",
       " ['interest', 'seek', 'build', 'stage', 'bypass'],\n",
       " ['investigation', 'underway', 'qantas', 'skid'],\n",
       " ['investor', 'plan', 'ethanol', 'plant', 'lament', 'trial'],\n",
       " ['iran', 'military', 'plane', 'crash', 'kill'],\n",
       " ['iran', 'plane', 'crash', 'least', 'aboard'],\n",
       " ['iraqi', 'human', 'shield', 'crime'],\n",
       " ['italy', 'remain', 'unchanged', 'ireland', 'clash'],\n",
       " ['kalgoorlie', 'boulder', 'crime', 'rate', 'decline'],\n",
       " ['kayakers', 'rescue', 'second', 'adventure'],\n",
       " ['kirwan', 'stick', 'win', 'formula', 'ireland'],\n",
       " ['korean', 'book', 'date', 'seed', 'roddick'],\n",
       " ['landholder', 'contribution', 'still', 'discussion'],\n",
       " ['lawyer', 'allow', 'visit', 'manus', 'detention', 'centre'],\n",
       " ['lawyer', 'appeal', 'man', 'sept', 'conviction'],\n",
       " ['lawyer', 'review', 'case', 'esso', 'appeal'],\n",
       " ['lend', 'lease', 'post', 'million', 'loss'],\n",
       " ['lethal', 'back', 'nine', 'point', 'rule', 'change'],\n",
       " ['airport', 'tunnel', 'remain', 'close', 'accident'],\n",
       " ['macarthur', 'kingfisher', 'suffer', 'minor', 'damage'],\n",
       " ['apologise', 'plane', 'hijack'],\n",
       " ['await', 'sentence', 'denmark', 'murder'],\n",
       " ['question', 'backpacker', 'death'],\n",
       " ['charge', 'roxby', 'down', 'plane', 'incident'],\n",
       " ['hospital', 'stab', 'attack'],\n",
       " ['lose', 'defamation', 'compo'],\n",
       " ['murder', 'charge', 'refuse', 'bail'],\n",
       " ['face', 'court', 'allege', 'hijack'],\n",
       " ['face', 'court', 'attempt', 'arm', 'robbery'],\n",
       " ['whack', 'thatcher', 'get', 'month', 'jail'],\n",
       " ['maroney', 'call', 'quit'],\n",
       " ['medal', 'recognise', 'islander', 'effort'],\n",
       " ['meet', 'consider', 'glenelg', 'river', 'future'],\n",
       " ['melbourne', 'receive', 'massive', 'compo', 'payout'],\n",
       " ['mgladbach', 'leave', 'danger', 'zone', 'home'],\n",
       " ['mine', 'rat', 'challenge', 'result', 'expect', 'march'],\n",
       " ['miner', 'explore', 'nickel', 'deposit'],\n",
       " ['molotov', 'cocktail', 'suspect', 'melb', 'hotel', 'fire'],\n",
       " ['anti', 'rally', 'plan'],\n",
       " ['land', 'noosa', 'national', 'park'],\n",
       " ['teacher', 'danger', 'student', 'union'],\n",
       " ['detain', 'immigration', 'raid'],\n",
       " ['woman', 'unlikely', 'join', 'men', 'master'],\n",
       " ['mosley', 'ready', 'engine', 'compromise'],\n",
       " ['motorist', 'avoid', 'ethanol', 'blend', 'fuel', 'labor'],\n",
       " ['crab', 'business', 'move'],\n",
       " ['murray', 'meet', 'wouldnt', 'detract', 'ministerial'],\n",
       " ['nats', 'seek', 'probe', 'bushfires', 'probe'],\n",
       " ['boat', 'take', 'waterway'],\n",
       " ['zealand', 'discover', 'kenya', 'fate', 'thursday'],\n",
       " ['fund', 'discussion', 'poll'],\n",
       " ['penalty', 'church', 'damage', 'monument'],\n",
       " ['coalition', 'make', 'magic', 'pudding', 'election'],\n",
       " ['govt', 'announce', 'community', 'benefit', 'grant'],\n",
       " ['offer', 'roll', 'classic', 'holden'],\n",
       " ['price', 'high'],\n",
       " ['oldfield', 'front', 'court', 'nation'],\n",
       " ['nation', 'selection', 'hear', 'continue'],\n",
       " ['packer', 'hand', 'licence', 'pistol', 'investigation'],\n",
       " ['pakistani', 'force', 'chief', 'kill', 'crash'],\n",
       " ['palaszczuk', 'wont', 'make', 'disaster', 'fund', 'promise'],\n",
       " ['park', 'move', 'protect', 'high', 'conservation', 'area'],\n",
       " ['peace', 'group', 'deny', 'member', 'harass', 'soldier'],\n",
       " ['people', 'trap', 'pile'],\n",
       " ['pilot', 'make', 'emergency', 'land', 'adelaide', 'airport'],\n",
       " ['player', 'continue', 'zimbabwe', 'protest'],\n",
       " ['criticism', 'protester', 'disgraceful', 'crean'],\n",
       " ['defend', 'criticism', 'anti', 'protester'],\n",
       " ['police', 'continue', 'probe', 'human', 'remain', 'find'],\n",
       " ['police', 'find', 'second', 'cannabis', 'crop'],\n",
       " ['police', 'hope', 'gain', 'edge', 'weapon', 'user'],\n",
       " ['police', 'locate', 'miss', 'family', 'house'],\n",
       " ['police', 'make', 'arrest', 'drug', 'raid'],\n",
       " ['police', 'seek', 'help', 'piracy'],\n",
       " ['police', 'office', 'fight', 'chop', 'chop', 'trade'],\n",
       " ['police', 'wont', 'rule', 'link', 'drug', 'plantation'],\n",
       " ['politician', 'breed', 'public', 'anti', 'troop', 'sentiment'],\n",
       " ['pollock', 'deny', 'split', 'protea', 'camp'],\n",
       " ['population', 'drift', 'force', 'federal', 'boundary'],\n",
       " ['powell', 'visit', 'asia', 'ease', 'korean'],\n",
       " ['prediction', 'good', 'wheatbelt', 'rain'],\n",
       " ['probe', 'launch', 'fatal', 'police', 'pursuit'],\n",
       " ['protester', 'condemn', 'howard', 'criticism', 'anti'],\n",
       " ['protocol', 'follow', 'immigration', 'raid'],\n",
       " ['public', 'warn', 'snake', 'handle', 'danger'],\n",
       " ['pump', 'continue', 'richmond', 'flood'],\n",
       " ['qantas', 'draw', 'flak', 'redundancy', 'talk'],\n",
       " ['qantas', 'flag', 'cut', 'despite', 'record', 'profit'],\n",
       " ['qantas', 'record', 'million', 'profit'],\n",
       " ['qfvg', 'upset', 'retail', 'price'],\n",
       " ['govt', 'say', 'hospital', 'schedule'],\n",
       " ['nats', 'close', 'deal', 'libs', 'springborg'],\n",
       " ['race', 'club', 'sneak', 'point', 'peru'],\n",
       " ['rain', 'boost', 'farmer', 'confidence'],\n",
       " ['rain', 'force', 'aussie', 'bowl', 'change', 'buchanan'],\n",
       " ['raid', 'target', 'newsagency'],\n",
       " ['road', 'fund', 'tackle', 'flood'],\n",
       " ['ronaldo', 'put', 'real', 'back', 'race'],\n",
       " ['ruiz', 'trick', 'guatemala', 'rout', 'nicaragua'],\n",
       " ['saff', 'gauge', 'feel', 'plan', 'crown', 'land', 'bill'],\n",
       " ['safin', 'escude', 'rotterdam', 'comeback', 'trail'],\n",
       " ['govt', 'defend', 'move', 'force', 'fine', 'defaulter'],\n",
       " ['govt', 'appeal', 'fish', 'decision'],\n",
       " ['schmeichel', 'miss', 'arsenal', 'trip'],\n",
       " ['school', 'reopen', 'paint', 'fume', 'scare'],\n",
       " ['scotland', 'refuse', 'panic'],\n",
       " ['seaman', 'injury', 'crisis', 'arsenal'],\n",
       " ['self', 'clone', 'crayfish', 'threaten', 'native', 'specie'],\n",
       " ['socceroos', 'creep', 'world', 'rank'],\n",
       " ['solar', 'car', 'turn', 'head'],\n",
       " ['sport', 'task', 'force', 'plan', 'begin'],\n",
       " ['start', 'america', 'race', 'four', 'delay'],\n",
       " ['stone', 'stay', 'federal', 'liberal', 'president'],\n",
       " ['need', 'good', 'downpour'],\n",
       " ['taipan', 'keep', 'play', 'dream', 'alive'],\n",
       " ['police', 'question', 'injure', 'house', 'fire'],\n",
       " ['taxi', 'driver', 'face', 'trial'],\n",
       " ['tension', 'increase', 'fighter', 'stray'],\n",
       " ['terror', 'weapon', 'pose', 'minimal', 'risk', 'british', 'expert'],\n",
       " ['thousand', 'visit', 'dairy', 'field', 'day'],\n",
       " ['three', 'israeli', 'injure', 'hamas', 'make', 'rocket'],\n",
       " ['shuffle', 'pack', 'defeat', 'loom'],\n",
       " ['tomasson', 'give', 'milan', 'narrow', 'lokomotiv'],\n",
       " ['tough', 'time', 'ahead', 'water', 'allocation'],\n",
       " ['tourism', 'industry', 'must', 'protect', 'iraq'],\n",
       " ['trial', 'hear', 'woman', 'deny', 'kill', 'fiance'],\n",
       " ['triathletes', 'back', 'bris', 'gold', 'coast', 'bikeway'],\n",
       " ['truck', 'roll', 'destroy', 'furniture'],\n",
       " ['turkey', 'stand', 'firm', 'offer'],\n",
       " ['turkey', 'still', 'undecided', 'gulf', 'attack'],\n",
       " ['union', 'disunity', 'mccains', 'enterprise', 'agreement'],\n",
       " ['security', 'council', 'end', 'open', 'debate'],\n",
       " ['invite', 'talk', 'burmese', 'military', 'junta'],\n",
       " ['launch', 'homeland', 'security', 'ready', 'campaign'],\n",
       " ['market', 'remain', 'jittery', 'shadow'],\n",
       " ['tell', 'turkey', 'time', 'run', 'offer'],\n",
       " ['take', 'action', 'europe'],\n",
       " ['uzbek', 'journalist', 'sentence', 'seven', 'year', 'jail'],\n",
       " ['verstappen', 'please', 'minardis', 'track', 'debut'],\n",
       " ['govt', 'speak', 'rice', 'mill', 'closure', 'claim'],\n",
       " ['fire', 'crew', 'battle', 'bushfire', 'marangaroo'],\n",
       " ['talk', 'take', 'toll', 'ords'],\n",
       " ['iraq', 'could', 'cost', '120bn', 'economist'],\n",
       " ['watkins', 'jeer', 'education', 'forum'],\n",
       " ['wine', 'destine'],\n",
       " ['western', 'power', 'reveal', 'power', 'supply', 'detail'],\n",
       " ['wide', 'economy', 'grow', 'strong'],\n",
       " ['wine', 'exporter', 'urge', 'push', 'ahead'],\n",
       " ['winemaker', 'move', 'consider', 'loss', 'industry'],\n",
       " ['woman', 'face', 'court', 'child', 'prostitution'],\n",
       " ['yacht', 'lose', 'mast', 'trawler', 'incident'],\n",
       " ['zimbabwe', 'bar', 'british', 'reporter', 'world'],\n",
       " ['accc', 'timid', 'petrol', 'price', 'investigation'],\n",
       " ['action', 'want', 'low', 'indigenous', 'unemployment', 'rate'],\n",
       " ['rule', 'scrap', 'federal', 'seat', 'hurt'],\n",
       " ['shut', 'malaga', 'claim', 'goalless', 'draw'],\n",
       " ['allan', 'guilty', 'cash', 'charge'],\n",
       " ['allan', 'unlikely', 'appeal', 'fine'],\n",
       " ['air', 'hospital', 'reform', 'concern'],\n",
       " ['deliver', 'health', 'concern', 'list', 'politician'],\n",
       " ['andersson', 'atwal', 'miss', 'record', 'malaysia'],\n",
       " ['antarctic', 'rock', 'could', 'global', 'warm'],\n",
       " ['confident', 'growth', 'tough', 'environment'],\n",
       " ['million', 'office'],\n",
       " ['arab', 'state', 'press', 'crime', 'condemnation'],\n",
       " ['least', 'dead', 'club', 'fire'],\n",
       " ['least', 'injure', 'rhode', 'island', 'nightclub', 'fire'],\n",
       " ['aussie', 'dollar', 'continue', 'climb'],\n",
       " ['aust', 'could', 'four', 'qaeda', 'target', 'list'],\n",
       " ['australia', 'withdraw', 'bougainville', 'peace', 'monitor'],\n",
       " ['aust', 'share', 'market', 'end', 'week', 'negative', 'territory'],\n",
       " ['bartlett', 'vow', 'block', 'govt', 'plan', 'nuclear'],\n",
       " ['beattie', 'unaware', 'tree', 'clear', 'fund', 'hold'],\n",
       " ['bedi', 'label', 'murali', 'chucker'],\n",
       " ['belgian', 'police', 'recover', 'steal', 'work'],\n",
       " ['port', 'kembla', 'production', 'restart'],\n",
       " ['gun', 'back', 'business', 'premier', 'league'],\n",
       " ['blake', 'paradorn', 'upset', 'memphis'],\n",
       " ['bracks', 'back', 'rule', 'dean', '50000', 'year', 'pension'],\n",
       " ['british', 'govt', 'clash', 'high', 'court', 'asylum'],\n",
       " ['british', 'award', 'platform', 'iraq'],\n",
       " ['briton', 'stab', 'death', 'bangkok'],\n",
       " ['brothel', 'owner', 'acquit', 'hire', 'underage'],\n",
       " ['brothel', 'owner', 'front', 'court', 'allegedly', 'hire'],\n",
       " ['burma', 'sentence', 'jail', 'fin'],\n",
       " ['bushfires', 'burn', 'hectare'],\n",
       " ['cairn', 'canberra', 'grab', 'win'],\n",
       " ['cairn', 'injure', 'kiwi', 'nightclub', 'brawl'],\n",
       " ['cairn', 'injure', 'nightclub', 'brawl', 'report'],\n",
       " ['call', 'scrap', 'national', 'plantation', 'target'],\n",
       " ['candleholders', 'recall', 'fire', 'risk'],\n",
       " ['carr', 'hook', 'brogden', 'debate'],\n",
       " ['celt', 'sink', 'stuttgart'],\n",
       " ['central', 'park', 'area', 'expand'],\n",
       " ['centrelink', 'offer', 'drought', 'counsel'],\n",
       " ['china', 'wage', 'chemical', 'chew', 'blob'],\n",
       " ['chirac', 'mugabe', 'talk', 'sideline', 'africa', 'summit'],\n",
       " ['christmas', 'island', 'resident', 'aware', 'detention'],\n",
       " ['claim', 'inventory', 'cause', 'high', 'petrol', 'price'],\n",
       " ['claim', 'live', 'sheep', 'cattle', 'export', 'threaten'],\n",
       " ['claim', 'rain', 'boost', 'stock', 'price'],\n",
       " ['class', 'action', 'cost', 'esso'],\n",
       " ['clinton', 'cancel', 'trip', 'india'],\n",
       " ['coalition', 'promise', 'scrap', 'angler'],\n",
       " ['committal', 'continue', 'goulburn', 'jail', 'riot'],\n",
       " ['costello', 'unhappy', 'wasnt', 'consult', 'stone'],\n",
       " ['council', 'approve', 'poultry', 'farm'],\n",
       " ['council', 'await', 'rain'],\n",
       " ['council', 'consider', 'indigenous', 'caravan', 'park', 'plan'],\n",
       " ['council', 'election', 'plan'],\n",
       " ['council', 'reject', 'combine', 'field', 'day', 'stand', 'idea'],\n",
       " ['council', 'change', 'tree', 'protection'],\n",
       " ['council', 'fund', 'groundwater', 'study'],\n",
       " ['counsel', 'begin', 'sum', 'warn', 'dope', 'hear'],\n",
       " ['criminal', 'charge', 'pending', 'korea', 'subway', 'probe'],\n",
       " ['crocs', 'prove', 'good', 'bullet'],\n",
       " ['date', 'bushfires', 'coronial', 'inquiry'],\n",
       " ['dean', 'receive', 'lifetime', 'parliamentary', 'pension'],\n",
       " ['death', 'spell', 'record', 'marriage'],\n",
       " ['demon', 'thump', 'tiger'],\n",
       " ['deportivo', 'cali', 'outclass', 'sulky', 'river', 'plate'],\n",
       " ['deschamps', 'chase', 'flame', 'marseille'],\n",
       " ['disaster', 'fund', 'allow', 'shire', 'complete'],\n",
       " ['dortmund', 'ready', 'hound', 'bayern'],\n",
       " ['downpour', 'close', 'tourist', 'road'],\n",
       " ['drought', 'impact', 'roadworks'],\n",
       " ['drought', 'predict', 'long', 'last', 'impact'],\n",
       " ['education', 'dept', 'consider', 'rural', 'concern'],\n",
       " ['family', 'court', 'reject', 'invalidate', 'transsexual'],\n",
       " ['farmer', 'celebrate', 'good', 'rain'],\n",
       " ['fear', 'patterson', 'hide', 'news', 'health', 'minister'],\n",
       " ['federal', 'fund', 'seek', 'wave', 'study'],\n",
       " ['govt', 'consider', 'appeal', 'transsexual'],\n",
       " ['firefighter', 'battle', 'contain', 'beechford', 'blaze'],\n",
       " ['fisher', 'meet', 'minister', 'court', 'rule'],\n",
       " ['fish', 'group', 'seek', 'action', 'pilchard', 'import'],\n",
       " ['flight', 'attendant', 'action', 'likely', 'affect'],\n",
       " ['footy', 'great', 'get', 'behind', 'indigenous', 'right', 'campaign'],\n",
       " ['former', 'socceroos', 'coach', 'thomson', 'die'],\n",
       " ['funeral', 'hold', 'cricket', 'legend'],\n",
       " ['funk', 'lead', 'elkington', 'california'],\n",
       " ['gebrselassie', 'plan', 'world', 'record', 'comeback'],\n",
       " ['witness', 'church', 'bell', 'hand'],\n",
       " ['gold', 'coast', 'get', 'tourism', 'assurance'],\n",
       " ['group', 'concern', 'rain', 'bring', 'wrong', 'impression'],\n",
       " ['group', 'get', 'clear', 'understand', 'farmer'],\n",
       " ['guga', 'reach', 'buenos', 'air', 'quarter'],\n",
       " ['health', 'service', 'speak', 'patient', 'death'],\n",
       " ['hoddle', 'murderer', 'grant', 'right', 'seek', 'judicial'],\n",
       " ['horse', 'ride', 'enact', 'mine', 'find'],\n",
       " ['howard', 'repeat', 'zimbabwe', 'boycott', 'call'],\n",
       " ['hundred', 'triathletes', 'head', 'coffs'],\n",
       " ['hungarian', 'thief', 'make', 'amend', 'post'],\n",
       " ['hyypia', 'hero', 'liverpool', 'bounce', 'back'],\n",
       " ['iaea', 'visit', 'iran', 'as', 'nuclear', 'program'],\n",
       " ['indian', 'jail', 'smuggle', 'pakistani', 'suitcase'],\n",
       " ['indian', 'player', 'retrace', 'gandhi', 'journey'],\n",
       " ['indonesia', 'say', 'australia', 'travel', 'warn'],\n",
       " ['industrial', 'action', 'impact', 'brisbane', 'school'],\n",
       " ['investigation', 'underway', 'pile'],\n",
       " ['investigator', 'probe', 'hospital', 'staff', 'complaint'],\n",
       " ['jackson', 'hit', 'back', 'explosive', 'british', 'interview'],\n",
       " ['japanese', 'tourist', 'drown', 'gold', 'coast', 'surf'],\n",
       " ['joblink', 'issue', 'statement', 'sack'],\n",
       " ['keegan', 'aim', 'bring', 'arsenal', 'earth'],\n",
       " ['kenya', 'award', 'point', 'kiwi', 'call'],\n",
       " ['kylie', 'minogues', 'posterior', 'brit'],\n",
       " ['land', 'council', 'dismiss', 'administrator', 'appoint'],\n",
       " ['langer', 'name', 'player', 'year'],\n",
       " ['liverpool', 'lazio', 'hold', 'krakow'],\n",
       " ['llewellyn', 'impress', 'patterson', 'show'],\n",
       " ['longreach', 'water', 'restriction', 'remain'],\n",
       " ['loose', 'cannon', 'afridi', 'pakistan'],\n",
       " ['lovenkrands', 'dream', 'hampden', 'return'],\n",
       " ['water', 'spark', 'boat', 'lake', 'albert'],\n",
       " ['male', 'find', 'body', 'murder', 'schoolgirl'],\n",
       " ['accuse', 'sell', 'bali', 'bomb', 'chemical', 'go'],\n",
       " ['appear', 'court', 'charge', 'stuttle', 'murder'],\n",
       " ['charge', 'stuttle', 'murder'],\n",
       " ['fail', 'overturn', 'conviction', '1600yo', 'bell'],\n",
       " ['hospital', 'receive', 'severe', 'electric'],\n",
       " ['hospital', 'stab'],\n",
       " ['jail', 'fatally', 'stab', 'facto'],\n",
       " ['jail', 'life', 'murder'],\n",
       " ['question', 'stuttle', 'murder'],\n",
       " ['face', 'court', 'fatal'],\n",
       " ['agree', 'deal', 'eriksson', 'ferguson'],\n",
       " ['threaten', 'melbourne', 'water', 'supply', 'bail'],\n",
       " ['highlight', 'potential', 'river', 'salinity', 'problem'],\n",
       " ['mayor', 'angry', 'mural', 'vandalism'],\n",
       " ['mine', 'giant', 'call', 'fund', 'boost', 'native'],\n",
       " ['montgomery', 'enter', 'indoor', 'national'],\n",
       " ['rain', 'delay', 'tough', 'water', 'restriction'],\n",
       " ['troop', 'help', 'hunt', 'sayyaf', 'rebel'],\n",
       " ['want', 'tank', 'battalion', 'rumour', 'investigate'],\n",
       " ['welcome', 'police', 'station', 'announcement'],\n",
       " ['nardell', 'mine', 'close', 'receiver', 'appoint'],\n",
       " ['nauru', 'appeal', 'help', 'keep', 'nation', 'airline'],\n",
       " ['battle', 'britain', 'loom', 'uefa'],\n",
       " ['newcastle', 'city', 'notch', 'win', 'stallion', 'draw', 'south'],\n",
       " ['commercial', 'crab', 'restriction', 'plan'],\n",
       " ['disability', 'respite', 'service'],\n",
       " ['korea', 'duck', 'nuclear', 'talk', 'summit'],\n",
       " ['korea', 'warn', 'wont', 'peace'],\n",
       " ['cost', 'blowout', 'forecast', 'water', 'treatment', 'plan'],\n",
       " ['coroner', 'clear', 'doc', 'death', 'toddler'],\n",
       " ['grazier', 'record', 'heavy', 'rainfall'],\n",
       " ['opps', 'drug', 'free', 'prison', 'plan', 'amery'],\n",
       " ['nurse', 'home', 'worker', 'suspend'],\n",
       " ['olonga', 'sack', 'club'],\n",
       " ['million', 'ticket', 'sell', 'rugby', 'world'],\n",
       " ['otago', 'open', 'super'],\n",
       " ['owner', 'hesitant', 'northerly', 'overseas', 'jaunt'],\n",
       " ['pair', 'face', 'court', 'machete', 'attack'],\n",
       " ['palestinian', 'kill', 'gaza', 'strip', 'cross', 'point'],\n",
       " ['patterson', 'irresponsible', 'show', 'edmond'],\n",
       " ['patterson', 'show', 'childish', 'minister'],\n",
       " ['patterson', 'say', 'health', 'meet', 'waste', 'time'],\n",
       " ['petrol', 'price', 'rise'],\n",
       " ['petrol', 'break'],\n",
       " ['plan', 'include', 'puckapunyal', 'cull'],\n",
       " ['plan', 'intersection', 'revamp', 'begin'],\n",
       " ['accuse', 'european', 'country', 'encourage', 'saddam'],\n",
       " ['defend', 'protest', 'comment'],\n",
       " ['choice', 'stay', 'iraq'],\n",
       " ['praise', 'costello', 'leadership', 'patience'],\n",
       " ['governor', 'general', 'urge', 'election', 'unity'],\n",
       " ['police', 'charge', 'stab'],\n",
       " ['police', 'continue', 'investigate', 'cannabis', 'crop'],\n",
       " ['police', 'station', 'face', 'uncertainty'],\n",
       " ['powell', 'call', 'uphold', 'responsibility'],\n",
       " ['push', 'likely', 'seek', 'age', 'care', 'worker'],\n",
       " ['push', 'extend', 'fraser', 'world', 'heritage', 'list'],\n",
       " ['qantas', 'plane', 'make', 'emergency', 'land'],\n",
       " ['qantas', 'say', 'info', 'prime', 'terrorist'],\n",
       " ['qantas', 'urge', 'update', 'security', 'shadow'],\n",
       " ['govt', 'reject', 'land', 'acquisition', 'claim'],\n",
       " ['racv', 'surprise', 'petrol', 'ration', 'talk'],\n",
       " ['rail', 'firm', 'as', 'worker', 'need'],\n",
       " ['rain', 'bring', 'stock', 'loss'],\n",
       " ['rain', 'cause', 'chaos', 'melbourne', 'road'],\n",
       " ['rain', 'expect', 'continue', 'across'],\n",
       " ['rainfall', 'likely', 'clear', 'weekend'],\n",
       " ['rain', 'welcome', 'relief', 'drought'],\n",
       " ['rain', 'enough', 'drought', 'break'],\n",
       " ['rain', 'offer', 'water', 'supply', 'boost'],\n",
       " ['rejuvenate', 'tyson', 'cure', 'cash', 'injection'],\n",
       " ['resident', 'fire', 'assurance'],\n",
       " ['retail', 'sector', 'air', 'trade', 'hour', 'review', 'concern'],\n",
       " ['romario', 'jeer', 'team', 'brawl', 'fluminense', 'hold'],\n",
       " ['round', 'world', 'forget'],\n",
       " ['ruddock', 'commend', 'australia', 'traveller', 'control'],\n",
       " ['salinity', 'expert', 'water', 'catchment'],\n",
       " ['lose', 'seat', 'federal', 'parliament'],\n",
       " ['soldier', 'charge', 'misconduct'],\n",
       " ['schumacher', 'seek', 'speed', 'le', 'noise'],\n",
       " ['seaman', 'ajax', 'match'],\n",
       " ['search', 'good', 'life', 'pay'],\n",
       " ['second', 'nightclub', 'fire', 'kill'],\n",
       " ['senator', 'offer', 'input', 'coast', 'issue'],\n",
       " ['several', 'dead', 'fire', 'rhode', 'island', 'nightclub'],\n",
       " ['shire', 'say', 'plan', 'policy', 'compromise'],\n",
       " ['slap', 'paedophile', 'amputate'],\n",
       " ['state', 'territory', 'health', 'minister', 'arrive', 'meet'],\n",
       " ['steal', 'wage', 'report', 'look', 'improve', 'indigenous'],\n",
       " ['strike', 'expect', 'mean', 'milk', 'shortage'],\n",
       " ['strike', 'disrupt', 'milk', 'supply'],\n",
       " ['study', 'consider', 'alternative', 'crop', 'sugar', 'region'],\n",
       " ['study', 'probe', 'snowy', 'motorcycle', 'crash'],\n",
       " ['teacher', 'shortage', 'bad', 'report'],\n",
       " ['team', 'mat', 'send', 'best', 'wish', 'warne'],\n",
       " ['telstra', 'chief', 'embarrass', 'billion', 'writedown'],\n",
       " ['telstra', 'punish', 'massive', 'hong', 'kong', 'write'],\n",
       " ['telstra', 'still', 'hurt', 'joint', 'venture'],\n",
       " ['thieve', 'target', 'esperance', 'car'],\n",
       " ['timor', 'treaty', 'ratfied', 'shortly', 'martin'],\n",
       " ['trouble', 'torino', 'pray', 'miracle'],\n",
       " ['tuckey', 'lament', 'gungahlin', 'drive', 'plan', 'problem'],\n",
       " ['turkey', 'delay', 'vote', 'troop'],\n",
       " ['turkey', 'dig', 'heel', 'lobby', 'support'],\n",
       " ['turkey', 'force', 'weigh', 'strategy'],\n",
       " ['union', 'condemn', 'qantass', 'contract', 'labour', 'plan'],\n",
       " ['ask', 'indonesia', 'improve', 'human', 'right', 'record'],\n",
       " ['boost', 'troop', 'number', 'philippine'],\n",
       " ['chiropractor', 'address', 'gold', 'coast', 'gather'],\n",
       " ['intelligence', 'analyst', 'find', 'guilty', 'spy'],\n",
       " ['researcher', 'prepare', 'move'],\n",
       " ['valencia', 'sense', 'victory', 'benitez', 'benitez'],\n",
       " ['govt', 'get', 'farmer', 'drought', 'update'],\n",
       " ['victorian', 'farmer', 'hope', 'rain', 'break', 'drought'],\n",
       " ['victoria', 'welcome', 'rain', 'relief'],\n",
       " ['vinnicombe', 'reject', 'freeway', 'claim'],\n",
       " ['waratah', 'super', 'opener'],\n",
       " ['impact', 'exercise', 'unknown'],\n",
       " ['warne', 'decision', 'make', 'saturday'],\n",
       " ['warne', 'dope', 'hear', 'underway'],\n",
       " ['williams', 'mclaren', 'plan', 'take', 'court'],\n",
       " ['wine', 'avocado', 'drive', 'mutton', 'wool'],\n",
       " ['wisla', 'hold', 'lazio', 'goal', 'thriller'],\n",
       " ['woodgate', 'tell', 'stay', 'away', 'elland', 'road'],\n",
       " ['worker', 'return', 'work', 'burrup'],\n",
       " ['youth', 'group', 'unhappy', 'appeal', 'carers'],\n",
       " ['confirm', 'dead', 'nightclub', 'fire'],\n",
       " ['tourist', 'attraction', 'honour', 'award', 'night'],\n",
       " ['adelaide', 'break', 'port', 'heart'],\n",
       " ['qaeda', 'member', 'jail', 'terrorist', 'plot'],\n",
       " ['arafat', 'number', 'outline', 'propose', 'ceasefire'],\n",
       " ['athens', 'risk', 'turn', 'game', 'disaster'],\n",
       " ['australia', 'urge', 'abandon', 'zimbabwe', 'world', 'match'],\n",
       " ['black', 'black', 'cap'],\n",
       " ['blix', 'order', 'destruction', 'iraqi', 'missile'],\n",
       " ['botch', 'operation', 'leave', 'teenager', 'brain', 'damage'],\n",
       " ['brockovich', 'take', 'cancer', 'crusade', 'court'],\n",
       " ['brogden', 'accuse', 'carr', 'fudge', 'ambulance', 'figure'],\n",
       " ['brumbies', 'red', 'ballymore'],\n",
       " ['cairn', 'play', 'despite', 'brawl'],\n",
       " ['call', 'australian', 'human', 'right'],\n",
       " ['canberra', 'capital', '2003', 'championship'],\n",
       " ['capital', 'flame', 'wnbl', 'title'],\n",
       " ['captain', 'refuse', 'ship', 'wheat', 'iraq'],\n",
       " ['childrens', 'right', 'overlook', 'advocate'],\n",
       " ['confident', 'win', 'low', 'house', 'seat'],\n",
       " ['corium', 'stun', 'nalbandian', 'reach', 'argentina', 'semi'],\n",
       " ['croatia', 'launch', 'membership'],\n",
       " ['crusader', 'begin', 'defence'],\n",
       " ['darwin', 'police', 'investigate', 'attempt', 'assault'],\n",
       " ['davy', 'webb', 'share', 'master', 'lead'],\n",
       " ['death', 'toll', 'rise', 'club', 'blaze'],\n",
       " ['deputy', 'say', 'iraq', 'ready', 'dialogue'],\n",
       " ['despite', 'rain', 'govt', 'say', 'drought', 'isnt'],\n",
       " ['donald', 'leave', 'bangladesh', 'clash'],\n",
       " ['dumbledore', 'replacement', 'pick', 'potter', 'film'],\n",
       " ['eagle', 'docker', 'despite'],\n",
       " ['faldo', 'withdraw', 'match', 'play', 'tournament'],\n",
       " ['farina', 'pay', 'tribute', 'thomson'],\n",
       " ['female', 'cosmonaut', 'keep', 'foot', 'grind'],\n",
       " ['ferrero', 'escude', 'hobble', 'rotterdam'],\n",
       " ['ferreros', 'rotterdam', 'campaign', 'end', 'agony'],\n",
       " ['flash', 'flood', 'keep', 'busy'],\n",
       " ['former', 'star', 'koen', 'lick', 'cat'],\n",
       " ['fourth', 'race', 'postpone'],\n",
       " ['freeman', 'split', 'husband'],\n",
       " ['french', 'african', 'leader', 'support', 'iraq', 'inspection'],\n",
       " ['gebrselassie', 'break', 'mile', 'indoor'],\n",
       " ['gebrselassie', 'break', 'feofanova', 'reach'],\n",
       " ['gurkha', 'discrimination', 'case', 'fail', 'court'],\n",
       " ['hear', 'adjourn', 'prison', 'riot'],\n",
       " ['pain', 'sideline', 'golf', 'legend', 'palmer'],\n",
       " ['howell', 'lead', 'california'],\n",
       " ['hussain', 'giles', 'recall', 'pakistan', 'clash'],\n",
       " ['iaea', 'begin', 'iran', 'nuclear', 'assessment'],\n",
       " ['iraq', 'wheat', 'comment', 'political', 'vaile'],\n",
       " ['jackson', 'lead', 'cap', 'back', 'back', 'title'],\n",
       " ['japan', 'back', 'campaign', 'fresh', 'iraq', 'vote'],\n",
       " ['johnson', 'pittman', 'excel', 'canberra'],\n",
       " ['kangaroo', 'thump', 'essendon', 'hawk', 'edge', 'saint'],\n",
       " ['kookaburra', 'force', 'dutch', 'draw'],\n",
       " ['labor', 'target', 'council', 'golden', 'handshake'],\n",
       " ['lara', 'jump', 'warn', 'defence'],\n",
       " ['light', 'wind', 'delay', 'fourth', 'america', 'race'],\n",
       " ['likud', 'party', 'still', 'without', 'coalition', 'partner'],\n",
       " ['long', 'haul', 'grazier', 'rain', 'break'],\n",
       " ['massa', 'test', 'drive', 'championship', 'win', 'ferrari'],\n",
       " ['metro', 'recruit', 'woman', 'driver', 'position'],\n",
       " ['newcastle', 'secure', 'third', 'spot'],\n",
       " ['confirmation', 'iraqi', 'wheat', 'order'],\n",
       " ['greece', 'lightning', 'olympic', 'work', 'control'],\n",
       " ['plan', 'inquiry', 'community', 'service'],\n",
       " ['health', 'minister', 'call', 'meet', 'cwealth'],\n",
       " ['ntini', 'star', 'bangladesh', 'fell'],\n",
       " ['mayor', 'play', 'terrorist', 'attack', 'speculation'],\n",
       " ['cricket', 'investigate', 'durban', 'nightclub', 'brawl'],\n",
       " ['price', 'hike', 'weigh', 'rat', 'decision'],\n",
       " ['kill', 'fuel', 'barge', 'explode'],\n",
       " ['pair', 'miss', 'fuel', 'barge', 'explode'],\n",
       " ['pearson', 'rout', 'aussie', 'woman'],\n",
       " ['petrol', 'price', 'hike', 'compare', 'interest', 'rate', 'rise'],\n",
       " ['police', 'come', 'beat', 'oppn', 'claim'],\n",
       " ['police', 'investigate', 'muswellbrook', 'death'],\n",
       " ['police', 'treat', 'hunter', 'valley', 'death', 'murder'],\n",
       " ['powell', 'leave', 'japan', 'talk', 'china'],\n",
       " ['powell', 'start', 'asian', 'tour', 'north', 'korea', 'talk'],\n",
       " ['protea', 'demolish', 'bangladesh'],\n",
       " ['protester', 'afloat', 'deliver', 'peace', 'message'],\n",
       " ['public', 'le', 'concern', 'environment', 'statistic'],\n",
       " ['take', 'gong', 'aust', 'tourism', 'award'],\n",
       " ['rain', 'bring', 'relief', 'farmer'],\n",
       " ['rain', 'fall', 'drought', 'ravage', 'eastern', 'state'],\n",
       " ['recoba', 'hand', 'three', 'match', 'champion'],\n",
       " ['result', 'first', 'aid', 'vaccine', 'trial', 'release'],\n",
       " ['robo', 'deer', 'take', 'bullet', 'justice'],\n",
       " ['roddick', 'head', 'semi', 'memphis'],\n",
       " ['saddam', 'ponder', 'edict', 'scrap', 'missile'],\n",
       " ['note', 'esteem', 'music', 'educator', 'die'],\n",
       " ['govt', 'block', 'glenelg', 'high', 'rise', 'apartment'],\n",
       " ['sampras', 'withdraw', 'arizona', 'replace', 'hewitt'],\n",
       " ['police', 'close', 'schoolgirl', 'killer'],\n",
       " ['seaman', 'rest', 'maine', 'road', 'visit'],\n",
       " ['searcher', 'fear', 'dead', 'china', 'ferry', 'sink'],\n",
       " ['selector', 'announce', 'warne', 'replacement', 'soon'],\n",
       " ['seles', 'face', 'henin', 'hardenne', 'dubai', 'final'],\n",
       " ['shop', 'owner', 'trial', 'accuse', 'bali', 'bomb'],\n",
       " ['korea', 'subway', 'staff', 'face', 'kill', 'charge', 'fire'],\n",
       " ['smigun', 'take', 'nordic', 'ski', 'world', 'championship'],\n",
       " ['helen', 'super', 'league', 'season', 'opener'],\n",
       " ['stormers', 'slaughter', 'shark'],\n",
       " ['stuttle', 'family', 'welcome', 'travel', 'offer'],\n",
       " ['sunrace', 'head', 'gloomy', 'final'],\n",
       " ['shin', 'rmit', 'entry', 'race'],\n",
       " ['taipan', 'stay', 'alive', 'cannon', 'dodge', 'bullet'],\n",
       " ['relay', 'raise', 'money', 'cancer', 'council'],\n",
       " ['teenager', 'stab', 'fight'],\n",
       " ['toll', 'rise', 'club', 'fire'],\n",
       " ['turkey', 'poise', 'iraq', 'deal'],\n",
       " ['kill', 'motorbike', 'collision'],\n",
       " ['warn', 'final', 'phase', 'iraq', 'stand'],\n",
       " ['ulster', 'militant', 'declare', 'ceasefire'],\n",
       " ['authority', 'confirm', 'kill', 'club', 'fire'],\n",
       " ['ensure', 'american', 'semi', 'final'],\n",
       " ['nightclub', 'fire', 'death', 'toll', 'hit'],\n",
       " ['prosecutor', 'slave', 'labour', 'case', 'samoa'],\n",
       " ['stock', 'rise', 'follow', 'positive', 'iraqi', 'comment'],\n",
       " ['govt', 'call', 'volunteer', 'state', 'clean'],\n",
       " ['say', 'police', 'take', 'beat'],\n",
       " ['warne', 'appeal', 'month'],\n",
       " ['weather', 'change', 'save', 'white', 'beach', 'shack'],\n",
       " ['wood', 'remain', 'hunt'],\n",
       " ['worker', 'electrocute', 'piggery', 'repair'],\n",
       " ['accuse', 'people', 'smuggler', 'face', 'darwin', 'court'],\n",
       " ['struggle', 'public', 'house', 'demand'],\n",
       " ['alice', 'forum', 'discus', 'indigenous', 'education', 'issue'],\n",
       " ['alinghi', 'fume', 'another', 'cancellation'],\n",
       " ['least', 'tumble', 'greece', 'river'],\n",
       " ['aussie', 'arrive', 'zimbabwe'],\n",
       " ['barca', 'deportivo', 'real', 'shine', 'spain'],\n",
       " ['bayern', 'open', 'point'],\n",
       " ['bevan', 'frustrate', 'lack', 'opportunity'],\n",
       " ['blair', 'put', 'case', 'iraq', 'pope'],\n",
       " ['bradman', 'baggy', 'green', 'expect', 'fetch', '200000'],\n",
       " ['britain', 'rally', 'support', 'resolution'],\n",
       " ['brown', 'claim', 'french', 'land', 'site', 'could', 'tassies'],\n",
       " ['butch', 'defend', 'beef', 'price'],\n",
       " ['call', 'peaceful', 'iraqi', 'resolution'],\n",
       " ['cambodian', 'deny', 'political', 'emergency'],\n",
       " ['carpark', 'shoot', 'spark', 'adelaide', 'manhunt'],\n",
       " ['carr', 'plan', '200m', 'anti', 'drug', 'campaign'],\n",
       " ['lover', 'march', 'rome', 'sacred', 'stray'],\n",
       " ['cat', 'claw', 'dog'],\n",
       " ['cat', 'claw', 'dog', 'pie', 'swoop', 'blue'],\n",
       " ['coalition', 'launch', 'ahead', 'election'],\n",
       " ['colombian', 'rebel', 'demand', 'rescuer', 'back'],\n",
       " ['consumer', 'wear', 'cost', 'trolley', 'loss'],\n",
       " ['council', 'deny', 'revenue', 'raise', 'park', 'fee'],\n",
       " ['court', 'find', 'guilty', 'gross', 'ingratitude'],\n",
       " ['cricketer', 'association', 'say', 'warne', 'harsh'],\n",
       " ['defend', 'acquisition', 'investigation'],\n",
       " ['darwin', 'clear', 'play', 'next', 'super', 'match'],\n",
       " ['davy', 'take', 'lady', 'master'],\n",
       " ['davison', 'plunder', 'record', 'century'],\n",
       " ['deadly', 'fire', 'rock', 'club', 'who', 'fault'],\n",
       " ['dems', 'block', 'govts', 'spend', 'move'],\n",
       " ['difference', 'beazley', 'stay', 'backbencher'],\n",
       " ['downer', 'expect', 'back', 'iraq', 'edict'],\n",
       " ['downer', 'push', 'urgent', 'talk', 'korea'],\n",
       " ['downer', 'unmoved', 'iraqi', 'wheat', 'decision'],\n",
       " ['drought', 'doom', 'turn', 'flood', 'gloom'],\n",
       " ['protest', 'face', 'zimbabwe', 'player', 'tell'],\n",
       " ['england', 'deserve', 'favouritism', 'oneill'],\n",
       " ['england', 'keep', 'grand', 'slam', 'dream', 'alive'],\n",
       " ['england', 'punish', 'disappoint', 'pakistan'],\n",
       " ['fake', 'crocs', 'scare', 'flamingo'],\n",
       " ['fickle', 'weather', 'hold', 'race'],\n",
       " ['firefighter', 'continue', 'containment', 'effort', 'near'],\n",
       " ['five', 'palestinian', 'army', 'crackdown'],\n",
       " ['flower', 'play', 'australia', 'report'],\n",
       " ['forensic', 'team', 'struggle', 'identify', 'club', 'fire'],\n",
       " ['former', 'ambassador', 'criticise', 'howard', 'remark'],\n",
       " ['freeman', 'expect', 'race', 'melbourne'],\n",
       " ['gatecrasher', 'blame', 'violence', 'bali', 'thank'],\n",
       " ['geelong', 'fight', 'ring', 'road', 'fund'],\n",
       " ['govt', 'paper', 'discus', 'preservation', 'adelaide'],\n",
       " ['gunner', 'demolish', 'city', 'stumble'],\n",
       " ['hampshire', 'chairman', 'call', 'review', 'cricket'],\n",
       " ['hampshire', 'want', 'warne', 'do'],\n",
       " ['hard', 'work', 'steal', 'craftsman', 'identity'],\n",
       " ['hayden', 'focus', 'cricket', 'politics'],\n",
       " ['henin', 'hardenne', 'outlast', 'seles', 'dubai', 'thriller'],\n",
       " ['hill', 'star', 'tiger', 'claim', 'charity'],\n",
       " ['hockeyroos', 'save', 'best', 'till', 'last'],\n",
       " ['hotel', 'association', 'fight', 'smoke'],\n",
       " ['howell', 'extend', 'lead'],\n",
       " ['hussain', 'hail', 'special', 'england', 'performance'],\n",
       " ['iaea', 'say', 'iraqi', 'cooperation', 'improve'],\n",
       " ['iraqi', 'minister', 'say', 'protest', 'prompt', 'wheat', 'decision'],\n",
       " ['king', 'regain', 'spot'],\n",
       " ['lion', 'roll', 'swan'],\n",
       " ['charge', 'bash', 'nightclub', 'door'],\n",
       " ['charge', 'ormiston', 'attack'],\n",
       " ['charge', 'attempt', 'murder', 'stab'],\n",
       " ['fight', 'life', 'stab'],\n",
       " ['stab', 'death', 'melbourne', 'brawl'],\n",
       " ['maroney', 'make', 'last', 'swim'],\n",
       " ['medicare', 'office', 'busy', 'bulk', 'bill', 'dip'],\n",
       " ['mirnyi', 'slay', 'federer', 'reach', 'rotterdam', 'final'],\n",
       " ['missile', 'issue', 'resolve', 'le', 'pressure'],\n",
       " ['monster', 'surf', 'sweep', 'woman', 'death'],\n",
       " ['magic', 'martina'],\n",
       " ['natasha', 'spat', 'wont', 'destroy', 'dems'],\n",
       " ['nataus'],\n",
       " ['newton', 'predict', '2060', 'armageddon', 'report'],\n",
       " ['resolution', 'would', 'give', 'hussein', 'day', 'downer'],\n",
       " ['nine', 'kill', 'violence', 'outside', 'karachi', 'mosque'],\n",
       " ['green', 'call', 'party', 'show', 'hand'],\n",
       " ['receive', 'cwealth', 'literacy', 'grant'],\n",
       " ['odriscoll', 'capture', 'record', 'ireland', 'down', 'italy'],\n",
       " ['water', 'okay'],\n",
       " ['opec', 'pledge', 'flow', 'despite'],\n",
       " ['patterson', 'say', 'state', 'make', 'offer'],\n",
       " ['pearson', 'say', 'bureaucracy', 'fail', 'indigenous', 'welfare'],\n",
       " ['perth', 'tiger', 'giant', 'notch', 'win'],\n",
       " ['pilot', 'die', 'ultralight', 'plunge'],\n",
       " ['polanski', 'get', 'best', 'director', 'cesar', 'pianist'],\n",
       " ['police', 'arrest', 'pair', 'attack', 'brick', 'bottle'],\n",
       " ['police', 'search', 'shoot'],\n",
       " ['pope', 'urge', 'blair', 'avert'],\n",
       " ['crash', 'defeat', 'despite', 'ronaldinho'],\n",
       " ['rain', 'still', 'need', 'central', 'west'],\n",
       " ['raymond', 'defend', 'memphis', 'title'],\n",
       " ['research', 'turn', 'spotlight', 'binge', 'drink'],\n",
       " ['roddick', 'want', 'dent', 'crown'],\n",
       " ['african', 'weapon', 'inspector', 'iraq'],\n",
       " ['police', 'investigate', 'fatal', 'road', 'crash'],\n",
       " ['searcher', 'retrieve', 'ultralight', 'pilot', 'body'],\n",
       " ['search', 'intensify', 'miss', 'pilot'],\n",
       " ['search', 'begin', 'miss', 'pilot'],\n",
       " ['busy', 'flash', 'flood', 'north', 'west'],\n",
       " ['shark', 'steal', 'glory', 'perth'],\n",
       " ['sherpa', 'plan', 'world', 'high', 'cyber', 'cafe', 'oxygen'],\n",
       " ['storm', 'whip', 'coast', 'northern', 'flood', 'steady'],\n",
       " ['striker', 'rout', 'kingz'],\n",
       " ['striker', 'rout', 'kingz', 'unite', 'knight'],\n",
       " ['tail', 'rescue', 'struggle'],\n",
       " ['tamworth', 'flood', 'cost', 'million'],\n",
       " ['teacher', 'student', 'guideline', 'need', 'modify'],\n",
       " ['teenager', 'die', 'transplant'],\n",
       " ['tendulkar', 'blaze', 'century', 'total'],\n",
       " ['territory', 'search', 'comedy', 'talent'],\n",
       " ['third', 'time', 'lucky', 'canberra', 'unis', 'brisbane', 'campus'],\n",
       " ['tight', 'security', 'greet', 'cricketer', 'zimbabwe'],\n",
       " ['tourist', 'foul', 'spill', 'milk'],\n",
       " ['tropfest', 'turn', 'tarpfest', 'show'],\n",
       " ['turkey', 'signal', 'ahead', 'troop'],\n",
       " ['tyson', 'destroy', 'etienne', 'le', 'minute'],\n",
       " ['vote', 'iraq', 'soon', 'march', 'powell'],\n",
       " ['spain', 'draft', 'second', 'resolution'],\n",
       " ['resolution'],\n",
       " ['warne', 'appeal', 'delay', 'name', 'replacement'],\n",
       " ['warne', 'back', 'pollock'],\n",
       " ['warn', 'water', 'contaminiation', 'recent', 'rain'],\n",
       " ['struggle', 'final'],\n",
       " ['waugh', 'expect', 'play', 'final'],\n",
       " ['waugh', 'lead', 'blue', 'title'],\n",
       " ['weapon', 'expert', 'denounce', 'intelligence', 'iraq'],\n",
       " ['yemen', 'chopper', 'crash', 'kill', 'eight', 'troop'],\n",
       " ['dead', 'china', 'earthquake'],\n",
       " ['academic', 'consider', 'indigenous', 'culture', 'role'],\n",
       " ['adelaide', 'charge', 'firearm', 'offence'],\n",
       " ['ajax', 'lose', 'grind', 'utrecht', 'defeat'],\n",
       " ['ords', 'jump', 'point', 'high'],\n",
       " ['choose', 'charlestown', 'candidate'],\n",
       " ['amino', 'level', 'link', 'malaria', 'treatment', 'research'],\n",
       " ['anti', 'french', 'joke', 'censor', 'broadcaster', 'complain'],\n",
       " ['welcome', 'court', 'rule', 'chairman'],\n",
       " ['least', 'five', 'kill', 'factional', 'afghan', 'fight'],\n",
       " ['defend', 'grain', 'freight', 'spot', 'price', 'tender'],\n",
       " ['beef', 'price', 'rise'],\n",
       " ['billiton', 'reveal', '19pc', 'profit', 'downturn'],\n",
       " ['bloke', 'peel', 'pant', 'peace'],\n",
       " ['bomb', 'alert', 'delay', 'domestic', 'flight', 'philippine'],\n",
       " ['boulami', 'ban', 'iaaf', 'source'],\n",
       " ['almost', 'drown', 'sweep', 'storm'],\n",
       " ['bradman', 'baggy', 'green', 'tour'],\n",
       " ['britain', 'concern', 'report', 'iraqi', 'missile'],\n",
       " ['build', 'industry', 'shake'],\n",
       " ['cabinet', 'meet', 'balance', 'budget', 'priority'],\n",
       " ['canberra', 'step', 'tourist', 'campaign'],\n",
       " ['carr', 'consider', 'clarence', 'battle'],\n",
       " ['celtic', 'still', 'four', 'trophy'],\n",
       " ['chavez', 'blast', 'medium', 'violence', 'continue'],\n",
       " ['civilian', 'kill', 'gunman', 'attack', 'minibus', 'east'],\n",
       " ['claim', 'diamond', 'miner', 'murder', 'congo'],\n",
       " ['claim', 'evidence', 'unsolved', 'double', 'murder'],\n",
       " ['clean', 'coal', 'technology', 'still', 'year', 'away'],\n",
       " ['coastal', 'graze', 'boom', 'lift', 'property', 'price'],\n",
       " ['combine', 'approach', 'tackle', 'grasshopper'],\n",
       " ['committee', 'offer', 'age', 'care', 'warn'],\n",
       " ['community', 'bank', 'share', 'trade', 'show', 'little', 'change'],\n",
       " ['community', 'clean', 'drench'],\n",
       " ['community', 'flock', 'waste', 'transfer', 'station'],\n",
       " ['conference', 'focus', 'tuna', 'fishery'],\n",
       " ['council', 'host', 'farewell'],\n",
       " ['council', 'resist', 'roster', 'pressure'],\n",
       " ['custom', 'house', 'restoration', 'open'],\n",
       " ['water', 'level', 'still', 'critically'],\n",
       " ...]"
      ]
     },
     "execution_count": 12,
     "metadata": {},
     "output_type": "execute_result"
    }
   ],
   "source": [
    "final_words = []\n",
    "\n",
    "for word in words_splitted:\n",
    "    word_without_sw = []\n",
    "    for w in word:\n",
    "        if w not in stop_words and len(w) > 3:\n",
    "            w = WordNetLemmatizer().lemmatize(w, pos='v').lower()\n",
    "            w = WordNetLemmatizer().lemmatize(w, pos='n')\n",
    "            w = WordNetLemmatizer().lemmatize(w, pos='a')\n",
    "            word_without_sw.append(WordNetLemmatizer().lemmatize(w))\n",
    "    final_words.append(word_without_sw)\n",
    "final_words "
   ]
  },
  {
   "cell_type": "code",
   "execution_count": 13,
   "metadata": {
    "ExecuteTime": {
     "end_time": "2021-07-26T13:25:19.933002Z",
     "start_time": "2021-07-26T13:25:19.909069Z"
    }
   },
   "outputs": [
    {
     "name": "stderr",
     "output_type": "stream",
     "text": [
      "C:\\Users\\utilisateur\\anaconda3\\lib\\site-packages\\ipykernel\\ipkernel.py:287: DeprecationWarning: `should_run_async` will not call `transform_cell` automatically in the future. Please pass the result to `transformed_cell` argument and any exception that happen during thetransform in `preprocessing_exc_tuple` in IPython 7.17 and above.\n",
      "  and should_run_async(code)\n"
     ]
    }
   ],
   "source": [
    "#df = pd.DataFrame()"
   ]
  },
  {
   "cell_type": "code",
   "execution_count": 14,
   "metadata": {
    "ExecuteTime": {
     "end_time": "2021-07-26T13:25:20.807255Z",
     "start_time": "2021-07-26T13:25:19.938988Z"
    }
   },
   "outputs": [
    {
     "name": "stderr",
     "output_type": "stream",
     "text": [
      "C:\\Users\\utilisateur\\anaconda3\\lib\\site-packages\\ipykernel\\ipkernel.py:287: DeprecationWarning: `should_run_async` will not call `transform_cell` automatically in the future. Please pass the result to `transformed_cell` argument and any exception that happen during thetransform in `preprocessing_exc_tuple` in IPython 7.17 and above.\n",
      "  and should_run_async(code)\n"
     ]
    }
   ],
   "source": [
    "df['sentence'] = final_words"
   ]
  },
  {
   "cell_type": "code",
   "execution_count": 15,
   "metadata": {
    "ExecuteTime": {
     "end_time": "2021-07-26T13:25:20.838173Z",
     "start_time": "2021-07-26T13:25:20.814237Z"
    }
   },
   "outputs": [
    {
     "name": "stderr",
     "output_type": "stream",
     "text": [
      "C:\\Users\\utilisateur\\anaconda3\\lib\\site-packages\\ipykernel\\ipkernel.py:287: DeprecationWarning: `should_run_async` will not call `transform_cell` automatically in the future. Please pass the result to `transformed_cell` argument and any exception that happen during thetransform in `preprocessing_exc_tuple` in IPython 7.17 and above.\n",
      "  and should_run_async(code)\n"
     ]
    }
   ],
   "source": [
    "#!pip install gensim\n",
    "from gensim.corpora import Dictionary\n"
   ]
  },
  {
   "cell_type": "code",
   "execution_count": 16,
   "metadata": {
    "ExecuteTime": {
     "end_time": "2021-07-26T13:25:35.728824Z",
     "start_time": "2021-07-26T13:25:20.847149Z"
    }
   },
   "outputs": [
    {
     "name": "stderr",
     "output_type": "stream",
     "text": [
      "C:\\Users\\utilisateur\\anaconda3\\lib\\site-packages\\ipykernel\\ipkernel.py:287: DeprecationWarning: `should_run_async` will not call `transform_cell` automatically in the future. Please pass the result to `transformed_cell` argument and any exception that happen during thetransform in `preprocessing_exc_tuple` in IPython 7.17 and above.\n",
      "  and should_run_async(code)\n"
     ]
    }
   ],
   "source": [
    "# Create a dictionary representation of the documents.\n",
    "dictionary = Dictionary(df['sentence'])\n",
    "\n",
    "# Filter out words that occur less than 2 documents, or more than 50% of the documents.\n",
    "dictionary.filter_extremes(no_below=20, no_above=0.5)"
   ]
  },
  {
   "cell_type": "code",
   "execution_count": 62,
   "metadata": {
    "ExecuteTime": {
     "end_time": "2021-07-26T18:56:44.859347Z",
     "start_time": "2021-07-26T18:56:44.832374Z"
    }
   },
   "outputs": [
    {
     "name": "stderr",
     "output_type": "stream",
     "text": [
      "C:\\Users\\utilisateur\\anaconda3\\lib\\site-packages\\ipykernel\\ipkernel.py:287: DeprecationWarning: `should_run_async` will not call `transform_cell` automatically in the future. Please pass the result to `transformed_cell` argument and any exception that happen during thetransform in `preprocessing_exc_tuple` in IPython 7.17 and above.\n",
      "  and should_run_async(code)\n"
     ]
    },
    {
     "data": {
      "text/plain": [
       "'community'"
      ]
     },
     "execution_count": 62,
     "metadata": {},
     "output_type": "execute_result"
    }
   ],
   "source": [
    "dictionary[1]"
   ]
  },
  {
   "cell_type": "code",
   "execution_count": 58,
   "metadata": {
    "ExecuteTime": {
     "end_time": "2021-07-26T14:33:50.366428Z",
     "start_time": "2021-07-26T14:33:50.338427Z"
    }
   },
   "outputs": [
    {
     "name": "stderr",
     "output_type": "stream",
     "text": [
      "C:\\Users\\utilisateur\\anaconda3\\lib\\site-packages\\ipykernel\\ipkernel.py:287: DeprecationWarning: `should_run_async` will not call `transform_cell` automatically in the future. Please pass the result to `transformed_cell` argument and any exception that happen during thetransform in `preprocessing_exc_tuple` in IPython 7.17 and above.\n",
      "  and should_run_async(code)\n"
     ]
    }
   ],
   "source": [
    "dictionary.save('dictionary')"
   ]
  },
  {
   "cell_type": "code",
   "execution_count": 18,
   "metadata": {
    "ExecuteTime": {
     "end_time": "2021-07-26T13:25:44.736998Z",
     "start_time": "2021-07-26T13:25:35.769715Z"
    }
   },
   "outputs": [
    {
     "name": "stderr",
     "output_type": "stream",
     "text": [
      "C:\\Users\\utilisateur\\anaconda3\\lib\\site-packages\\ipykernel\\ipkernel.py:287: DeprecationWarning: `should_run_async` will not call `transform_cell` automatically in the future. Please pass the result to `transformed_cell` argument and any exception that happen during thetransform in `preprocessing_exc_tuple` in IPython 7.17 and above.\n",
      "  and should_run_async(code)\n"
     ]
    }
   ],
   "source": [
    "corpus = [dictionary.doc2bow(word) for word in df['sentence']]"
   ]
  },
  {
   "cell_type": "code",
   "execution_count": 19,
   "metadata": {
    "ExecuteTime": {
     "end_time": "2021-07-26T13:25:44.770428Z",
     "start_time": "2021-07-26T13:25:44.741985Z"
    }
   },
   "outputs": [
    {
     "name": "stdout",
     "output_type": "stream",
     "text": [
      "Number of unique tokens: 7798\n",
      "Number of documents: 457513\n"
     ]
    },
    {
     "name": "stderr",
     "output_type": "stream",
     "text": [
      "C:\\Users\\utilisateur\\anaconda3\\lib\\site-packages\\ipykernel\\ipkernel.py:287: DeprecationWarning: `should_run_async` will not call `transform_cell` automatically in the future. Please pass the result to `transformed_cell` argument and any exception that happen during thetransform in `preprocessing_exc_tuple` in IPython 7.17 and above.\n",
      "  and should_run_async(code)\n"
     ]
    }
   ],
   "source": [
    "print('Number of unique tokens: %d' % len(dictionary))\n",
    "print('Number of documents: %d' % len(corpus))"
   ]
  },
  {
   "cell_type": "code",
   "execution_count": 20,
   "metadata": {
    "ExecuteTime": {
     "end_time": "2021-07-26T13:25:44.829274Z",
     "start_time": "2021-07-26T13:25:44.775412Z"
    }
   },
   "outputs": [
    {
     "name": "stderr",
     "output_type": "stream",
     "text": [
      "C:\\Users\\utilisateur\\anaconda3\\lib\\site-packages\\ipykernel\\ipkernel.py:287: DeprecationWarning: `should_run_async` will not call `transform_cell` automatically in the future. Please pass the result to `transformed_cell` argument and any exception that happen during thetransform in `preprocessing_exc_tuple` in IPython 7.17 and above.\n",
      "  and should_run_async(code)\n"
     ]
    },
    {
     "data": {
      "text/plain": [
       "[[(0, 1), (1, 1), (2, 1), (3, 1)],\n",
       " [(4, 1), (5, 1), (6, 1), (7, 1), (8, 1)],\n",
       " [(9, 1), (10, 1), (11, 1), (12, 1)],\n",
       " [(13, 1), (14, 1), (15, 1), (16, 1)],\n",
       " [(16, 1), (17, 1), (18, 1), (19, 1)]]"
      ]
     },
     "execution_count": 20,
     "metadata": {},
     "output_type": "execute_result"
    }
   ],
   "source": [
    "corpus[:5]"
   ]
  },
  {
   "cell_type": "markdown",
   "metadata": {},
   "source": [
    "## Créer un modèle TF IDF"
   ]
  },
  {
   "cell_type": "code",
   "execution_count": 21,
   "metadata": {
    "ExecuteTime": {
     "end_time": "2021-07-26T13:25:46.767573Z",
     "start_time": "2021-07-26T13:25:44.836249Z"
    }
   },
   "outputs": [
    {
     "name": "stderr",
     "output_type": "stream",
     "text": [
      "C:\\Users\\utilisateur\\anaconda3\\lib\\site-packages\\ipykernel\\ipkernel.py:287: DeprecationWarning: `should_run_async` will not call `transform_cell` automatically in the future. Please pass the result to `transformed_cell` argument and any exception that happen during thetransform in `preprocessing_exc_tuple` in IPython 7.17 and above.\n",
      "  and should_run_async(code)\n"
     ]
    },
    {
     "name": "stdout",
     "output_type": "stream",
     "text": [
      "TfidfModel(num_docs=457513, num_nnz=2024696)\n"
     ]
    }
   ],
   "source": [
    "from gensim import corpora, models\n",
    "\n",
    "tfidf = models.TfidfModel(corpus)\n",
    "print(tfidf)"
   ]
  },
  {
   "cell_type": "code",
   "execution_count": 69,
   "metadata": {
    "ExecuteTime": {
     "end_time": "2021-07-26T19:14:27.243896Z",
     "start_time": "2021-07-26T19:14:27.183742Z"
    }
   },
   "outputs": [
    {
     "name": "stderr",
     "output_type": "stream",
     "text": [
      "C:\\Users\\utilisateur\\anaconda3\\lib\\site-packages\\ipykernel\\ipkernel.py:287: DeprecationWarning: `should_run_async` will not call `transform_cell` automatically in the future. Please pass the result to `transformed_cell` argument and any exception that happen during thetransform in `preprocessing_exc_tuple` in IPython 7.17 and above.\n",
      "  and should_run_async(code)\n"
     ]
    }
   ],
   "source": [
    "tfidf.save('tfid_transformer')"
   ]
  },
  {
   "cell_type": "code",
   "execution_count": 22,
   "metadata": {
    "ExecuteTime": {
     "end_time": "2021-07-26T13:25:46.818452Z",
     "start_time": "2021-07-26T13:25:46.793522Z"
    }
   },
   "outputs": [
    {
     "name": "stdout",
     "output_type": "stream",
     "text": [
      "[(0, 0.6099944689918242), (1, 0.3818987516207417), (2, 0.48738159179345575), (3, 0.49448890310175697)]\n"
     ]
    },
    {
     "name": "stderr",
     "output_type": "stream",
     "text": [
      "C:\\Users\\utilisateur\\anaconda3\\lib\\site-packages\\ipykernel\\ipkernel.py:287: DeprecationWarning: `should_run_async` will not call `transform_cell` automatically in the future. Please pass the result to `transformed_cell` argument and any exception that happen during thetransform in `preprocessing_exc_tuple` in IPython 7.17 and above.\n",
      "  and should_run_async(code)\n"
     ]
    }
   ],
   "source": [
    "corpus_tfidf = tfidf[corpus]\n",
    "print(corpus_tfidf[0])"
   ]
  },
  {
   "cell_type": "code",
   "execution_count": 23,
   "metadata": {
    "ExecuteTime": {
     "end_time": "2021-07-26T13:25:46.863320Z",
     "start_time": "2021-07-26T13:25:46.836392Z"
    }
   },
   "outputs": [
    {
     "name": "stderr",
     "output_type": "stream",
     "text": [
      "C:\\Users\\utilisateur\\anaconda3\\lib\\site-packages\\ipykernel\\ipkernel.py:287: DeprecationWarning: `should_run_async` will not call `transform_cell` automatically in the future. Please pass the result to `transformed_cell` argument and any exception that happen during thetransform in `preprocessing_exc_tuple` in IPython 7.17 and above.\n",
      "  and should_run_async(code)\n"
     ]
    },
    {
     "data": {
      "text/plain": [
       "['decide', 'community', 'broadcast', 'licence']"
      ]
     },
     "execution_count": 23,
     "metadata": {},
     "output_type": "execute_result"
    }
   ],
   "source": [
    "final_words[0]"
   ]
  },
  {
   "cell_type": "code",
   "execution_count": 24,
   "metadata": {
    "ExecuteTime": {
     "end_time": "2021-07-26T13:25:46.893239Z",
     "start_time": "2021-07-26T13:25:46.871297Z"
    }
   },
   "outputs": [
    {
     "name": "stdout",
     "output_type": "stream",
     "text": [
      "('Poids des mots [(0, 0.6099944689918242), (1, 0.3818987516207417), (2, '\n",
      " '0.48738159179345575), (3, 0.49448890310175697)]')\n"
     ]
    },
    {
     "name": "stderr",
     "output_type": "stream",
     "text": [
      "C:\\Users\\utilisateur\\anaconda3\\lib\\site-packages\\ipykernel\\ipkernel.py:287: DeprecationWarning: `should_run_async` will not call `transform_cell` automatically in the future. Please pass the result to `transformed_cell` argument and any exception that happen during thetransform in `preprocessing_exc_tuple` in IPython 7.17 and above.\n",
      "  and should_run_async(code)\n"
     ]
    }
   ],
   "source": [
    "from pprint import pprint\n",
    "\n",
    "for doc in corpus_tfidf: \n",
    "    pprint(f\"Poids des mots {doc}\")\n",
    "    break"
   ]
  },
  {
   "cell_type": "markdown",
   "metadata": {},
   "source": [
    "## LDA bag of words"
   ]
  },
  {
   "cell_type": "code",
   "execution_count": 25,
   "metadata": {
    "ExecuteTime": {
     "end_time": "2021-07-26T13:25:46.940111Z",
     "start_time": "2021-07-26T13:25:46.901216Z"
    }
   },
   "outputs": [
    {
     "name": "stderr",
     "output_type": "stream",
     "text": [
      "C:\\Users\\utilisateur\\anaconda3\\lib\\site-packages\\ipykernel\\ipkernel.py:287: DeprecationWarning: `should_run_async` will not call `transform_cell` automatically in the future. Please pass the result to `transformed_cell` argument and any exception that happen during thetransform in `preprocessing_exc_tuple` in IPython 7.17 and above.\n",
      "  and should_run_async(code)\n"
     ]
    }
   ],
   "source": [
    "import gensim"
   ]
  },
  {
   "cell_type": "code",
   "execution_count": 26,
   "metadata": {
    "ExecuteTime": {
     "end_time": "2021-07-26T13:31:14.997476Z",
     "start_time": "2021-07-26T13:25:46.948090Z"
    }
   },
   "outputs": [
    {
     "name": "stderr",
     "output_type": "stream",
     "text": [
      "C:\\Users\\utilisateur\\anaconda3\\lib\\site-packages\\ipykernel\\ipkernel.py:287: DeprecationWarning: `should_run_async` will not call `transform_cell` automatically in the future. Please pass the result to `transformed_cell` argument and any exception that happen during thetransform in `preprocessing_exc_tuple` in IPython 7.17 and above.\n",
      "  and should_run_async(code)\n"
     ]
    }
   ],
   "source": [
    "# LDA multicore \n",
    "'''\n",
    "Train your lda model using gensim.models.LdaMulticore and save it to 'lda_model'\n",
    "'''\n",
    "lda_model = gensim.models.LdaMulticore(corpus, \n",
    "                                       num_topics=10, \n",
    "                                       id2word = dictionary, \n",
    "                                       passes = 2)"
   ]
  },
  {
   "cell_type": "code",
   "execution_count": null,
   "metadata": {},
   "outputs": [],
   "source": [
    "# save the model to disk\n",
    "filename = 'finalized_model_lda_bow.sav'\n",
    "pickle.dump(lda_model, open(filename, 'wb'))"
   ]
  },
  {
   "cell_type": "code",
   "execution_count": 27,
   "metadata": {
    "ExecuteTime": {
     "end_time": "2021-07-26T13:31:15.043407Z",
     "start_time": "2021-07-26T13:31:15.004456Z"
    },
    "scrolled": false
   },
   "outputs": [
    {
     "name": "stdout",
     "output_type": "stream",
     "text": [
      "Topic: 0 \n",
      "Words: 0.019*\"centre\" + 0.017*\"family\" + 0.017*\"business\" + 0.017*\"time\" + 0.013*\"target\" + 0.011*\"work\" + 0.008*\"sell\" + 0.008*\"begin\" + 0.008*\"shire\" + 0.007*\"swan\"\n",
      "\n",
      "\n",
      "Topic: 1 \n",
      "Words: 0.019*\"rise\" + 0.017*\"fear\" + 0.017*\"market\" + 0.014*\"price\" + 0.014*\"force\" + 0.012*\"deal\" + 0.012*\"high\" + 0.011*\"bank\" + 0.010*\"farmer\" + 0.010*\"flood\"\n",
      "\n",
      "\n",
      "Topic: 2 \n",
      "Words: 0.037*\"back\" + 0.022*\"make\" + 0.013*\"pakistan\" + 0.012*\"wont\" + 0.011*\"teacher\" + 0.011*\"share\" + 0.010*\"party\" + 0.010*\"fight\" + 0.010*\"join\" + 0.010*\"threaten\"\n",
      "\n",
      "\n",
      "Topic: 3 \n",
      "Words: 0.054*\"police\" + 0.034*\"kill\" + 0.027*\"crash\" + 0.022*\"attack\" + 0.021*\"find\" + 0.020*\"miss\" + 0.015*\"woman\" + 0.014*\"dead\" + 0.014*\"probe\" + 0.013*\"die\"\n",
      "\n",
      "\n",
      "Topic: 4 \n",
      "Words: 0.023*\"coast\" + 0.019*\"gold\" + 0.018*\"interview\" + 0.015*\"investigate\" + 0.014*\"rescue\" + 0.013*\"keep\" + 0.013*\"announce\" + 0.012*\"river\" + 0.012*\"murray\" + 0.012*\"climate\"\n",
      "\n",
      "\n",
      "Topic: 5 \n",
      "Words: 0.029*\"say\" + 0.023*\"water\" + 0.019*\"health\" + 0.015*\"service\" + 0.013*\"need\" + 0.011*\"south\" + 0.011*\"crisis\" + 0.010*\"doctor\" + 0.010*\"question\" + 0.010*\"boost\"\n",
      "\n",
      "\n",
      "Topic: 6 \n",
      "Words: 0.047*\"govt\" + 0.028*\"council\" + 0.028*\"urge\" + 0.025*\"plan\" + 0.016*\"fund\" + 0.014*\"mine\" + 0.013*\"green\" + 0.012*\"close\" + 0.012*\"minister\" + 0.011*\"call\"\n",
      "\n",
      "\n",
      "Topic: 7 \n",
      "Words: 0.019*\"rudd\" + 0.018*\"talk\" + 0.018*\"election\" + 0.011*\"win\" + 0.009*\"obama\" + 0.008*\"award\" + 0.007*\"launch\" + 0.007*\"race\" + 0.007*\"vote\" + 0.007*\"beach\"\n",
      "\n",
      "\n",
      "Topic: 8 \n",
      "Words: 0.041*\"charge\" + 0.035*\"court\" + 0.028*\"face\" + 0.028*\"death\" + 0.024*\"police\" + 0.021*\"jail\" + 0.020*\"accuse\" + 0.020*\"murder\" + 0.014*\"tell\" + 0.014*\"assault\"\n",
      "\n",
      "\n",
      "Topic: 9 \n",
      "Words: 0.022*\"home\" + 0.018*\"australia\" + 0.017*\"lead\" + 0.015*\"aussie\" + 0.013*\"resident\" + 0.012*\"break\" + 0.010*\"adelaide\" + 0.010*\"first\" + 0.010*\"final\" + 0.010*\"world\"\n",
      "\n",
      "\n"
     ]
    },
    {
     "name": "stderr",
     "output_type": "stream",
     "text": [
      "C:\\Users\\utilisateur\\anaconda3\\lib\\site-packages\\ipykernel\\ipkernel.py:287: DeprecationWarning: `should_run_async` will not call `transform_cell` automatically in the future. Please pass the result to `transformed_cell` argument and any exception that happen during thetransform in `preprocessing_exc_tuple` in IPython 7.17 and above.\n",
      "  and should_run_async(code)\n"
     ]
    }
   ],
   "source": [
    "'''\n",
    "For each topic, we will explore the words occuring in that topic and its relative weight\n",
    "'''\n",
    "\n",
    "#num_topics (int, optional) – The number of topics to be selected, if -1 - all topics will be in result (ordered by significance).\n",
    "for idx, topic in lda_model.print_topics(-1):\n",
    "    \n",
    "    print(\"Topic: {} \\nWords: {}\".format(idx, topic ))\n",
    "    print(\"\\n\")"
   ]
  },
  {
   "cell_type": "code",
   "execution_count": 28,
   "metadata": {
    "ExecuteTime": {
     "end_time": "2021-07-26T13:31:15.090415Z",
     "start_time": "2021-07-26T13:31:15.053454Z"
    }
   },
   "outputs": [
    {
     "name": "stderr",
     "output_type": "stream",
     "text": [
      "C:\\Users\\utilisateur\\anaconda3\\lib\\site-packages\\ipykernel\\ipkernel.py:287: DeprecationWarning: `should_run_async` will not call `transform_cell` automatically in the future. Please pass the result to `transformed_cell` argument and any exception that happen during thetransform in `preprocessing_exc_tuple` in IPython 7.17 and above.\n",
      "  and should_run_async(code)\n"
     ]
    },
    {
     "data": {
      "text/plain": [
       "['yemen', 'chopper', 'crash', 'kill', 'eight', 'troop']"
      ]
     },
     "execution_count": 28,
     "metadata": {},
     "output_type": "execute_result"
    }
   ],
   "source": [
    "final_words[959]"
   ]
  },
  {
   "cell_type": "code",
   "execution_count": 29,
   "metadata": {
    "ExecuteTime": {
     "end_time": "2021-07-26T13:31:15.153436Z",
     "start_time": "2021-07-26T13:31:15.099465Z"
    },
    "scrolled": false
   },
   "outputs": [
    {
     "name": "stdout",
     "output_type": "stream",
     "text": [
      "\n",
      "Score: 0.7288188338279724\t \n",
      "Topic: 0.054*\"police\" + 0.034*\"kill\" + 0.027*\"crash\" + 0.022*\"attack\" + 0.021*\"find\" + 0.020*\"miss\" + 0.015*\"woman\" + 0.014*\"dead\" + 0.014*\"probe\" + 0.013*\"die\"\n",
      "\n",
      "Score: 0.15684325993061066\t \n",
      "Topic: 0.019*\"rise\" + 0.017*\"fear\" + 0.017*\"market\" + 0.014*\"price\" + 0.014*\"force\" + 0.012*\"deal\" + 0.012*\"high\" + 0.011*\"bank\" + 0.010*\"farmer\" + 0.010*\"flood\"\n",
      "\n",
      "Score: 0.01429408323019743\t \n",
      "Topic: 0.019*\"rudd\" + 0.018*\"talk\" + 0.018*\"election\" + 0.011*\"win\" + 0.009*\"obama\" + 0.008*\"award\" + 0.007*\"launch\" + 0.007*\"race\" + 0.007*\"vote\" + 0.007*\"beach\"\n",
      "\n",
      "Score: 0.014293121173977852\t \n",
      "Topic: 0.019*\"centre\" + 0.017*\"family\" + 0.017*\"business\" + 0.017*\"time\" + 0.013*\"target\" + 0.011*\"work\" + 0.008*\"sell\" + 0.008*\"begin\" + 0.008*\"shire\" + 0.007*\"swan\"\n",
      "\n",
      "Score: 0.014292092993855476\t \n",
      "Topic: 0.023*\"coast\" + 0.019*\"gold\" + 0.018*\"interview\" + 0.015*\"investigate\" + 0.014*\"rescue\" + 0.013*\"keep\" + 0.013*\"announce\" + 0.012*\"river\" + 0.012*\"murray\" + 0.012*\"climate\"\n",
      "\n",
      "Score: 0.014291721396148205\t \n",
      "Topic: 0.037*\"back\" + 0.022*\"make\" + 0.013*\"pakistan\" + 0.012*\"wont\" + 0.011*\"teacher\" + 0.011*\"share\" + 0.010*\"party\" + 0.010*\"fight\" + 0.010*\"join\" + 0.010*\"threaten\"\n",
      "\n",
      "Score: 0.014291716739535332\t \n",
      "Topic: 0.029*\"say\" + 0.023*\"water\" + 0.019*\"health\" + 0.015*\"service\" + 0.013*\"need\" + 0.011*\"south\" + 0.011*\"crisis\" + 0.010*\"doctor\" + 0.010*\"question\" + 0.010*\"boost\"\n",
      "\n",
      "Score: 0.014291716739535332\t \n",
      "Topic: 0.047*\"govt\" + 0.028*\"council\" + 0.028*\"urge\" + 0.025*\"plan\" + 0.016*\"fund\" + 0.014*\"mine\" + 0.013*\"green\" + 0.012*\"close\" + 0.012*\"minister\" + 0.011*\"call\"\n",
      "\n",
      "Score: 0.014291716739535332\t \n",
      "Topic: 0.041*\"charge\" + 0.035*\"court\" + 0.028*\"face\" + 0.028*\"death\" + 0.024*\"police\" + 0.021*\"jail\" + 0.020*\"accuse\" + 0.020*\"murder\" + 0.014*\"tell\" + 0.014*\"assault\"\n",
      "\n",
      "Score: 0.014291716739535332\t \n",
      "Topic: 0.022*\"home\" + 0.018*\"australia\" + 0.017*\"lead\" + 0.015*\"aussie\" + 0.013*\"resident\" + 0.012*\"break\" + 0.010*\"adelaide\" + 0.010*\"first\" + 0.010*\"final\" + 0.010*\"world\"\n"
     ]
    },
    {
     "name": "stderr",
     "output_type": "stream",
     "text": [
      "C:\\Users\\utilisateur\\anaconda3\\lib\\site-packages\\ipykernel\\ipkernel.py:287: DeprecationWarning: `should_run_async` will not call `transform_cell` automatically in the future. Please pass the result to `transformed_cell` argument and any exception that happen during thetransform in `preprocessing_exc_tuple` in IPython 7.17 and above.\n",
      "  and should_run_async(code)\n"
     ]
    }
   ],
   "source": [
    "# test\n",
    "\n",
    "'''\n",
    "Check which topic our test document belongs to using the LDA Bag of Words model.\n",
    "'''\n",
    "document_num = 959\n",
    "# Our test document is document number 4310\n",
    "\n",
    "for index, score in sorted(lda_model[corpus[document_num]], key=lambda tup: -1*tup[1]):\n",
    "\n",
    "    print(\"\\nScore: {}\\t \\nTopic: {}\".format(score, lda_model.print_topic(index, 10)))\n",
    "\n"
   ]
  },
  {
   "cell_type": "markdown",
   "metadata": {},
   "source": [
    "## LDA Tf Idf"
   ]
  },
  {
   "cell_type": "code",
   "execution_count": 30,
   "metadata": {
    "ExecuteTime": {
     "end_time": "2021-07-26T13:36:08.930770Z",
     "start_time": "2021-07-26T13:31:15.159422Z"
    }
   },
   "outputs": [
    {
     "name": "stderr",
     "output_type": "stream",
     "text": [
      "C:\\Users\\utilisateur\\anaconda3\\lib\\site-packages\\ipykernel\\ipkernel.py:287: DeprecationWarning: `should_run_async` will not call `transform_cell` automatically in the future. Please pass the result to `transformed_cell` argument and any exception that happen during thetransform in `preprocessing_exc_tuple` in IPython 7.17 and above.\n",
      "  and should_run_async(code)\n"
     ]
    }
   ],
   "source": [
    "'''\n",
    "Define lda model using corpus_tfidf, again using gensim.models.LdaMulticore()\n",
    "'''\n",
    "lda_model_tfidf = gensim.models.LdaMulticore(corpus_tfidf, \n",
    "                                             num_topics=10, \n",
    "                                             id2word = dictionary, \n",
    "                                             passes = 2, \n",
    "                                             workers=4)"
   ]
  },
  {
   "cell_type": "code",
   "execution_count": 56,
   "metadata": {
    "ExecuteTime": {
     "end_time": "2021-07-26T14:03:13.660212Z",
     "start_time": "2021-07-26T14:03:13.623315Z"
    }
   },
   "outputs": [
    {
     "name": "stderr",
     "output_type": "stream",
     "text": [
      "C:\\Users\\utilisateur\\anaconda3\\lib\\site-packages\\ipykernel\\ipkernel.py:287: DeprecationWarning: `should_run_async` will not call `transform_cell` automatically in the future. Please pass the result to `transformed_cell` argument and any exception that happen during thetransform in `preprocessing_exc_tuple` in IPython 7.17 and above.\n",
      "  and should_run_async(code)\n"
     ]
    }
   ],
   "source": [
    "# save the model to disk\n",
    "filename = 'finalized_model_lda_tfidf.sav'\n",
    "pickle.dump(lda_model_tfidf, open(filename, 'wb'))"
   ]
  },
  {
   "cell_type": "code",
   "execution_count": null,
   "metadata": {},
   "outputs": [],
   "source": [
    "# load the model from disk\n",
    "loaded_model = pickle.load(open(filename, 'rb'))\n",
    "result = loaded_model.score(X_test, Y_test)\n",
    "print(result)"
   ]
  },
  {
   "cell_type": "code",
   "execution_count": 31,
   "metadata": {
    "ExecuteTime": {
     "end_time": "2021-07-26T13:36:08.976643Z",
     "start_time": "2021-07-26T13:36:08.936755Z"
    },
    "scrolled": false
   },
   "outputs": [
    {
     "name": "stdout",
     "output_type": "stream",
     "text": [
      "Topic: 0 Word: 0.022*\"police\" + 0.017*\"crash\" + 0.016*\"charge\" + 0.015*\"kill\" + 0.010*\"death\" + 0.009*\"miss\" + 0.009*\"court\" + 0.009*\"murder\" + 0.009*\"woman\" + 0.009*\"fire\"\n",
      "\n",
      "\n",
      "Topic: 1 Word: 0.026*\"close\" + 0.016*\"market\" + 0.009*\"guilty\" + 0.007*\"plead\" + 0.006*\"profit\" + 0.006*\"record\" + 0.005*\"fall\" + 0.005*\"high\" + 0.005*\"bank\" + 0.005*\"bendigo\"\n",
      "\n",
      "\n",
      "Topic: 2 Word: 0.008*\"teacher\" + 0.007*\"nurse\" + 0.006*\"action\" + 0.006*\"swan\" + 0.006*\"safe\" + 0.006*\"strike\" + 0.006*\"clean\" + 0.005*\"track\" + 0.005*\"speak\" + 0.005*\"uranium\"\n",
      "\n",
      "\n",
      "Topic: 3 Word: 0.011*\"govt\" + 0.011*\"fund\" + 0.010*\"health\" + 0.007*\"plan\" + 0.007*\"indigenous\" + 0.006*\"council\" + 0.006*\"service\" + 0.006*\"centre\" + 0.006*\"hospital\" + 0.005*\"boost\"\n",
      "\n",
      "\n",
      "Topic: 4 Word: 0.010*\"climate\" + 0.006*\"change\" + 0.005*\"troop\" + 0.005*\"whale\" + 0.005*\"step\" + 0.005*\"lawyer\" + 0.005*\"thousand\" + 0.005*\"say\" + 0.005*\"govt\" + 0.005*\"bush\"\n",
      "\n",
      "\n",
      "Topic: 5 Word: 0.014*\"interview\" + 0.012*\"coast\" + 0.011*\"gold\" + 0.006*\"honour\" + 0.006*\"smith\" + 0.006*\"alice\" + 0.006*\"beach\" + 0.006*\"thai\" + 0.006*\"turnbull\" + 0.006*\"west\"\n",
      "\n",
      "\n",
      "Topic: 6 Word: 0.014*\"water\" + 0.009*\"council\" + 0.008*\"govt\" + 0.008*\"plan\" + 0.008*\"farmer\" + 0.006*\"urge\" + 0.006*\"drought\" + 0.006*\"flood\" + 0.005*\"rain\" + 0.005*\"plant\"\n",
      "\n",
      "\n",
      "Topic: 7 Word: 0.007*\"aussie\" + 0.006*\"suspend\" + 0.006*\"black\" + 0.006*\"qantas\" + 0.005*\"beijing\" + 0.005*\"flight\" + 0.005*\"quit\" + 0.005*\"world\" + 0.005*\"intervention\" + 0.005*\"australia\"\n",
      "\n",
      "\n",
      "Topic: 8 Word: 0.010*\"obama\" + 0.006*\"korea\" + 0.005*\"tiger\" + 0.005*\"nuclear\" + 0.005*\"talk\" + 0.005*\"brown\" + 0.005*\"unite\" + 0.005*\"revamp\" + 0.004*\"win\" + 0.004*\"burma\"\n",
      "\n",
      "\n",
      "Topic: 9 Word: 0.017*\"rudd\" + 0.009*\"bail\" + 0.007*\"child\" + 0.006*\"afghan\" + 0.006*\"court\" + 0.005*\"accuse\" + 0.005*\"indonesia\" + 0.005*\"porn\" + 0.005*\"charge\" + 0.005*\"jail\"\n",
      "\n",
      "\n"
     ]
    },
    {
     "name": "stderr",
     "output_type": "stream",
     "text": [
      "C:\\Users\\utilisateur\\anaconda3\\lib\\site-packages\\ipykernel\\ipkernel.py:287: DeprecationWarning: `should_run_async` will not call `transform_cell` automatically in the future. Please pass the result to `transformed_cell` argument and any exception that happen during thetransform in `preprocessing_exc_tuple` in IPython 7.17 and above.\n",
      "  and should_run_async(code)\n"
     ]
    }
   ],
   "source": [
    "'''\n",
    "For each topic, we will explore the words occuring in that topic and its relative weight\n",
    "'''\n",
    "for idx, topic in lda_model_tfidf.print_topics(-1):\n",
    "    \n",
    "    print(\"Topic: {} Word: {}\".format(idx, topic))\n",
    "    print(\"\\n\")\n",
    "\n"
   ]
  },
  {
   "cell_type": "code",
   "execution_count": 32,
   "metadata": {
    "ExecuteTime": {
     "end_time": "2021-07-26T13:36:09.007563Z",
     "start_time": "2021-07-26T13:36:08.984635Z"
    }
   },
   "outputs": [
    {
     "name": "stderr",
     "output_type": "stream",
     "text": [
      "C:\\Users\\utilisateur\\anaconda3\\lib\\site-packages\\ipykernel\\ipkernel.py:287: DeprecationWarning: `should_run_async` will not call `transform_cell` automatically in the future. Please pass the result to `transformed_cell` argument and any exception that happen during thetransform in `preprocessing_exc_tuple` in IPython 7.17 and above.\n",
      "  and should_run_async(code)\n"
     ]
    },
    {
     "data": {
      "text/plain": [
       "['yemen', 'chopper', 'crash', 'kill', 'eight', 'troop']"
      ]
     },
     "execution_count": 32,
     "metadata": {},
     "output_type": "execute_result"
    }
   ],
   "source": [
    "final_words[959]"
   ]
  },
  {
   "cell_type": "code",
   "execution_count": 33,
   "metadata": {
    "ExecuteTime": {
     "end_time": "2021-07-26T13:36:09.055434Z",
     "start_time": "2021-07-26T13:36:09.015542Z"
    },
    "scrolled": false
   },
   "outputs": [
    {
     "name": "stdout",
     "output_type": "stream",
     "text": [
      "\n",
      "Score: 0.5610361695289612\t \n",
      "Topic: 0.054*\"police\" + 0.034*\"kill\" + 0.027*\"crash\" + 0.022*\"attack\" + 0.021*\"find\" + 0.020*\"miss\" + 0.015*\"woman\" + 0.014*\"dead\" + 0.014*\"probe\" + 0.013*\"die\"\n",
      "\n",
      "Score: 0.20095756649971008\t \n",
      "Topic: 0.019*\"rise\" + 0.017*\"fear\" + 0.017*\"market\" + 0.014*\"price\" + 0.014*\"force\" + 0.012*\"deal\" + 0.012*\"high\" + 0.011*\"bank\" + 0.010*\"farmer\" + 0.010*\"flood\"\n",
      "\n",
      "Score: 0.02975507266819477\t \n",
      "Topic: 0.019*\"rudd\" + 0.018*\"talk\" + 0.018*\"election\" + 0.011*\"win\" + 0.009*\"obama\" + 0.008*\"award\" + 0.007*\"launch\" + 0.007*\"race\" + 0.007*\"vote\" + 0.007*\"beach\"\n",
      "\n",
      "Score: 0.029753856360912323\t \n",
      "Topic: 0.019*\"centre\" + 0.017*\"family\" + 0.017*\"business\" + 0.017*\"time\" + 0.013*\"target\" + 0.011*\"work\" + 0.008*\"sell\" + 0.008*\"begin\" + 0.008*\"shire\" + 0.007*\"swan\"\n",
      "\n",
      "Score: 0.029750481247901917\t \n",
      "Topic: 0.023*\"coast\" + 0.019*\"gold\" + 0.018*\"interview\" + 0.015*\"investigate\" + 0.014*\"rescue\" + 0.013*\"keep\" + 0.013*\"announce\" + 0.012*\"river\" + 0.012*\"murray\" + 0.012*\"climate\"\n",
      "\n",
      "Score: 0.029749378561973572\t \n",
      "Topic: 0.037*\"back\" + 0.022*\"make\" + 0.013*\"pakistan\" + 0.012*\"wont\" + 0.011*\"teacher\" + 0.011*\"share\" + 0.010*\"party\" + 0.010*\"fight\" + 0.010*\"join\" + 0.010*\"threaten\"\n",
      "\n",
      "Score: 0.029749367386102676\t \n",
      "Topic: 0.029*\"say\" + 0.023*\"water\" + 0.019*\"health\" + 0.015*\"service\" + 0.013*\"need\" + 0.011*\"south\" + 0.011*\"crisis\" + 0.010*\"doctor\" + 0.010*\"question\" + 0.010*\"boost\"\n",
      "\n",
      "Score: 0.029749367386102676\t \n",
      "Topic: 0.047*\"govt\" + 0.028*\"council\" + 0.028*\"urge\" + 0.025*\"plan\" + 0.016*\"fund\" + 0.014*\"mine\" + 0.013*\"green\" + 0.012*\"close\" + 0.012*\"minister\" + 0.011*\"call\"\n",
      "\n",
      "Score: 0.029749367386102676\t \n",
      "Topic: 0.041*\"charge\" + 0.035*\"court\" + 0.028*\"face\" + 0.028*\"death\" + 0.024*\"police\" + 0.021*\"jail\" + 0.020*\"accuse\" + 0.020*\"murder\" + 0.014*\"tell\" + 0.014*\"assault\"\n",
      "\n",
      "Score: 0.029749367386102676\t \n",
      "Topic: 0.022*\"home\" + 0.018*\"australia\" + 0.017*\"lead\" + 0.015*\"aussie\" + 0.013*\"resident\" + 0.012*\"break\" + 0.010*\"adelaide\" + 0.010*\"first\" + 0.010*\"final\" + 0.010*\"world\"\n"
     ]
    },
    {
     "name": "stderr",
     "output_type": "stream",
     "text": [
      "C:\\Users\\utilisateur\\anaconda3\\lib\\site-packages\\ipykernel\\ipkernel.py:287: DeprecationWarning: `should_run_async` will not call `transform_cell` automatically in the future. Please pass the result to `transformed_cell` argument and any exception that happen during thetransform in `preprocessing_exc_tuple` in IPython 7.17 and above.\n",
      "  and should_run_async(code)\n"
     ]
    }
   ],
   "source": [
    "# test\n",
    "\n",
    "'''\n",
    "Check which topic our test document belongs to using the LDA TF IDF model.\n",
    "'''\n",
    "document_num = 959\n",
    "# Our test document is document number 4310\n",
    "\n",
    "for index, score in sorted(lda_model[corpus_tfidf[document_num]], key=lambda tup: -1*tup[1]):\n",
    "\n",
    "    print(\"\\nScore: {}\\t \\nTopic: {}\".format(score, lda_model.print_topic(index, 10)))\n",
    "\n"
   ]
  },
  {
   "cell_type": "code",
   "execution_count": 34,
   "metadata": {
    "ExecuteTime": {
     "end_time": "2021-07-26T13:36:09.087348Z",
     "start_time": "2021-07-26T13:36:09.062417Z"
    }
   },
   "outputs": [
    {
     "name": "stderr",
     "output_type": "stream",
     "text": [
      "C:\\Users\\utilisateur\\anaconda3\\lib\\site-packages\\ipykernel\\ipkernel.py:287: DeprecationWarning: `should_run_async` will not call `transform_cell` automatically in the future. Please pass the result to `transformed_cell` argument and any exception that happen during thetransform in `preprocessing_exc_tuple` in IPython 7.17 and above.\n",
      "  and should_run_async(code)\n"
     ]
    }
   ],
   "source": [
    "test=\"mayor, quit, council, function\""
   ]
  },
  {
   "cell_type": "markdown",
   "metadata": {},
   "source": [
    "## Test modele"
   ]
  },
  {
   "cell_type": "code",
   "execution_count": 35,
   "metadata": {
    "ExecuteTime": {
     "end_time": "2021-07-26T13:36:09.149189Z",
     "start_time": "2021-07-26T13:36:09.101310Z"
    }
   },
   "outputs": [
    {
     "name": "stderr",
     "output_type": "stream",
     "text": [
      "C:\\Users\\utilisateur\\anaconda3\\lib\\site-packages\\ipykernel\\ipkernel.py:287: DeprecationWarning: `should_run_async` will not call `transform_cell` automatically in the future. Please pass the result to `transformed_cell` argument and any exception that happen during thetransform in `preprocessing_exc_tuple` in IPython 7.17 and above.\n",
      "  and should_run_async(code)\n"
     ]
    }
   ],
   "source": [
    "stemmer = SnowballStemmer(\"english\")"
   ]
  },
  {
   "cell_type": "markdown",
   "metadata": {},
   "source": [
    "### Model tuto (juste verbes)"
   ]
  },
  {
   "cell_type": "code",
   "execution_count": 36,
   "metadata": {
    "ExecuteTime": {
     "end_time": "2021-07-26T13:36:09.181097Z",
     "start_time": "2021-07-26T13:36:09.155169Z"
    }
   },
   "outputs": [
    {
     "name": "stderr",
     "output_type": "stream",
     "text": [
      "C:\\Users\\utilisateur\\anaconda3\\lib\\site-packages\\ipykernel\\ipkernel.py:287: DeprecationWarning: `should_run_async` will not call `transform_cell` automatically in the future. Please pass the result to `transformed_cell` argument and any exception that happen during thetransform in `preprocessing_exc_tuple` in IPython 7.17 and above.\n",
      "  and should_run_async(code)\n"
     ]
    }
   ],
   "source": [
    "'''\n",
    "Write a function to perform the pre processing steps on the entire dataset\n",
    "'''\n",
    "def lemmatize_stemming(text):\n",
    "    return stemmer.stem(WordNetLemmatizer().lemmatize(text, pos='v'))\n",
    "\n",
    "# Tokenize and lemmatize\n",
    "def preprocess(text):\n",
    "    \n",
    "    result = []\n",
    "    \n",
    "    for token in gensim.utils.simple_preprocess(text) :\n",
    "        \n",
    "        if token not in gensim.parsing.preprocessing.STOPWORDS and len(token) > 3:\n",
    "            \n",
    "            # TODO: Apply lemmatize_stemming() on the token, then add to the results list\n",
    "            # print(\"###############################\")\n",
    "            # print(lemmatize_stemming(token))\n",
    "            result.append(lemmatize_stemming(token))\n",
    "    \n",
    "    return result"
   ]
  },
  {
   "cell_type": "code",
   "execution_count": 37,
   "metadata": {
    "ExecuteTime": {
     "end_time": "2021-07-26T13:36:09.274847Z",
     "start_time": "2021-07-26T13:36:09.189077Z"
    },
    "scrolled": true
   },
   "outputs": [
    {
     "name": "stderr",
     "output_type": "stream",
     "text": [
      "C:\\Users\\utilisateur\\anaconda3\\lib\\site-packages\\ipykernel\\ipkernel.py:287: DeprecationWarning: `should_run_async` will not call `transform_cell` automatically in the future. Please pass the result to `transformed_cell` argument and any exception that happen during thetransform in `preprocessing_exc_tuple` in IPython 7.17 and above.\n",
      "  and should_run_async(code)\n"
     ]
    },
    {
     "name": "stdout",
     "output_type": "stream",
     "text": [
      "Score: 0.5247562527656555\t Topic: 0.019*\"centre\" + 0.017*\"family\" + 0.017*\"business\" + 0.017*\"time\" + 0.013*\"target\"\n",
      "Score: 0.2752118408679962\t Topic: 0.029*\"say\" + 0.023*\"water\" + 0.019*\"health\" + 0.015*\"service\" + 0.013*\"need\"\n",
      "Score: 0.025006171315908432\t Topic: 0.047*\"govt\" + 0.028*\"council\" + 0.028*\"urge\" + 0.025*\"plan\" + 0.016*\"fund\"\n",
      "Score: 0.025004956871271133\t Topic: 0.019*\"rudd\" + 0.018*\"talk\" + 0.018*\"election\" + 0.011*\"win\" + 0.009*\"obama\"\n",
      "Score: 0.025004809722304344\t Topic: 0.023*\"coast\" + 0.019*\"gold\" + 0.018*\"interview\" + 0.015*\"investigate\" + 0.014*\"rescue\"\n",
      "Score: 0.025003807619214058\t Topic: 0.019*\"rise\" + 0.017*\"fear\" + 0.017*\"market\" + 0.014*\"price\" + 0.014*\"force\"\n",
      "Score: 0.02500314824283123\t Topic: 0.022*\"home\" + 0.018*\"australia\" + 0.017*\"lead\" + 0.015*\"aussie\" + 0.013*\"resident\"\n",
      "Score: 0.02500300109386444\t Topic: 0.037*\"back\" + 0.022*\"make\" + 0.013*\"pakistan\" + 0.012*\"wont\" + 0.011*\"teacher\"\n",
      "Score: 0.02500300109386444\t Topic: 0.054*\"police\" + 0.034*\"kill\" + 0.027*\"crash\" + 0.022*\"attack\" + 0.021*\"find\"\n",
      "Score: 0.02500300109386444\t Topic: 0.041*\"charge\" + 0.035*\"court\" + 0.028*\"face\" + 0.028*\"death\" + 0.024*\"police\"\n"
     ]
    }
   ],
   "source": [
    "unseen_document = \"My favorite sports activities are running and swimming.\"\n",
    "\n",
    "# Data preprocessing step for the unseen document\n",
    "bow_vector = dictionary.doc2bow(preprocess(unseen_document))\n",
    "\n",
    "for index, score in sorted(lda_model[bow_vector], key=lambda tup: -1*tup[1]):\n",
    "\n",
    "    print(\"Score: {}\\t Topic: {}\".format(score, lda_model.print_topic(index, 5)))\n",
    "\n"
   ]
  },
  {
   "cell_type": "markdown",
   "metadata": {},
   "source": [
    "### Model custom avec verbes noms et adverbes"
   ]
  },
  {
   "cell_type": "code",
   "execution_count": 38,
   "metadata": {
    "ExecuteTime": {
     "end_time": "2021-07-26T13:36:09.320725Z",
     "start_time": "2021-07-26T13:36:09.281829Z"
    }
   },
   "outputs": [
    {
     "name": "stderr",
     "output_type": "stream",
     "text": [
      "C:\\Users\\utilisateur\\anaconda3\\lib\\site-packages\\ipykernel\\ipkernel.py:287: DeprecationWarning: `should_run_async` will not call `transform_cell` automatically in the future. Please pass the result to `transformed_cell` argument and any exception that happen during thetransform in `preprocessing_exc_tuple` in IPython 7.17 and above.\n",
      "  and should_run_async(code)\n"
     ]
    }
   ],
   "source": [
    "'''\n",
    "Write a function to perform the pre processing steps on the entire dataset\n",
    "'''\n",
    "def lemmatize_stemming(text):\n",
    "    w = text\n",
    "    w = WordNetLemmatizer().lemmatize(w, pos='v').lower()\n",
    "    w = WordNetLemmatizer().lemmatize(w, pos='n')\n",
    "    w = WordNetLemmatizer().lemmatize(w, pos='a')\n",
    "    return w\n",
    "\n",
    "# Tokenize and lemmatize\n",
    "def preprocess(text):\n",
    "    \n",
    "    result = []\n",
    "    \n",
    "    for token in gensim.utils.simple_preprocess(text) :\n",
    "        \n",
    "        if token not in gensim.parsing.preprocessing.STOPWORDS and len(token) > 3:\n",
    "            \n",
    "            # TODO: Apply lemmatize_stemming() on the token, then add to the results list\n",
    "            result.append(lemmatize_stemming(token))\n",
    "    \n",
    "    return result"
   ]
  },
  {
   "cell_type": "code",
   "execution_count": 68,
   "metadata": {
    "ExecuteTime": {
     "end_time": "2021-07-26T19:13:34.040786Z",
     "start_time": "2021-07-26T19:13:34.010967Z"
    }
   },
   "outputs": [
    {
     "name": "stderr",
     "output_type": "stream",
     "text": [
      "C:\\Users\\utilisateur\\anaconda3\\lib\\site-packages\\ipykernel\\ipkernel.py:287: DeprecationWarning: `should_run_async` will not call `transform_cell` automatically in the future. Please pass the result to `transformed_cell` argument and any exception that happen during thetransform in `preprocessing_exc_tuple` in IPython 7.17 and above.\n",
      "  and should_run_async(code)\n"
     ]
    },
    {
     "data": {
      "text/plain": [
       "[(16, 0.39356455666978424),\n",
       " (530, 0.30813644728477485),\n",
       " (806, 0.4300015082011583),\n",
       " (962, 0.4907820177491864),\n",
       " (1555, 0.5695529682012025)]"
      ]
     },
     "execution_count": 68,
     "metadata": {},
     "output_type": "execute_result"
    }
   ],
   "source": [
    "tfidf_sentence"
   ]
  },
  {
   "cell_type": "code",
   "execution_count": 67,
   "metadata": {
    "ExecuteTime": {
     "end_time": "2021-07-26T19:12:51.037370Z",
     "start_time": "2021-07-26T19:12:51.012323Z"
    }
   },
   "outputs": [
    {
     "name": "stdout",
     "output_type": "stream",
     "text": [
      "Score: 0.5382164716720581\t Topic: 0.054*\"police\" + 0.034*\"kill\" + 0.027*\"crash\" + 0.022*\"attack\" + 0.021*\"find\"\n",
      "Score: 0.21103696525096893\t Topic: 0.029*\"say\" + 0.023*\"water\" + 0.019*\"health\" + 0.015*\"service\" + 0.013*\"need\"\n",
      "Score: 0.03135940805077553\t Topic: 0.022*\"home\" + 0.018*\"australia\" + 0.017*\"lead\" + 0.015*\"aussie\" + 0.013*\"resident\"\n",
      "Score: 0.03135436400771141\t Topic: 0.037*\"back\" + 0.022*\"make\" + 0.013*\"pakistan\" + 0.012*\"wont\" + 0.011*\"teacher\"\n",
      "Score: 0.03134623542428017\t Topic: 0.019*\"rudd\" + 0.018*\"talk\" + 0.018*\"election\" + 0.011*\"win\" + 0.009*\"obama\"\n",
      "Score: 0.03133976832032204\t Topic: 0.023*\"coast\" + 0.019*\"gold\" + 0.018*\"interview\" + 0.015*\"investigate\" + 0.014*\"rescue\"\n",
      "Score: 0.031338658183813095\t Topic: 0.019*\"centre\" + 0.017*\"family\" + 0.017*\"business\" + 0.017*\"time\" + 0.013*\"target\"\n",
      "Score: 0.03133667632937431\t Topic: 0.041*\"charge\" + 0.035*\"court\" + 0.028*\"face\" + 0.028*\"death\" + 0.024*\"police\"\n",
      "Score: 0.03133601322770119\t Topic: 0.019*\"rise\" + 0.017*\"fear\" + 0.017*\"market\" + 0.014*\"price\" + 0.014*\"force\"\n",
      "Score: 0.03133545070886612\t Topic: 0.047*\"govt\" + 0.028*\"council\" + 0.028*\"urge\" + 0.025*\"plan\" + 0.016*\"fund\"\n"
     ]
    },
    {
     "name": "stderr",
     "output_type": "stream",
     "text": [
      "C:\\Users\\utilisateur\\anaconda3\\lib\\site-packages\\ipykernel\\ipkernel.py:287: DeprecationWarning: `should_run_async` will not call `transform_cell` automatically in the future. Please pass the result to `transformed_cell` argument and any exception that happen during thetransform in `preprocessing_exc_tuple` in IPython 7.17 and above.\n",
      "  and should_run_async(code)\n"
     ]
    }
   ],
   "source": [
    "unseen_document = \"Lightning strikes in India kill 38 people\"\n",
    "\n",
    "# Data preprocessing step for the unseen document\n",
    "bow_vector = dictionary.doc2bow(preprocess(unseen_document))\n",
    "\n",
    "tfidf_sentence=tfidf[bow_vector]\n",
    "\n",
    "for index, score in sorted(lda_model[tfidf_sentence], key=lambda tup: -1*tup[1]):\n",
    "\n",
    "    print(\"Score: {}\\t Topic: {}\".format(score, lda_model.print_topic(index, 5)))\n",
    "\n"
   ]
  },
  {
   "cell_type": "code",
   "execution_count": 40,
   "metadata": {
    "ExecuteTime": {
     "end_time": "2021-07-26T13:41:24.896842Z",
     "start_time": "2021-07-26T13:36:09.404843Z"
    },
    "scrolled": true
   },
   "outputs": [
    {
     "name": "stderr",
     "output_type": "stream",
     "text": [
      "C:\\Users\\utilisateur\\anaconda3\\lib\\site-packages\\ipykernel\\ipkernel.py:287: DeprecationWarning: `should_run_async` will not call `transform_cell` automatically in the future. Please pass the result to `transformed_cell` argument and any exception that happen during thetransform in `preprocessing_exc_tuple` in IPython 7.17 and above.\n",
      "  and should_run_async(code)\n"
     ]
    }
   ],
   "source": [
    "max_list_topics=[]\n",
    "for value in corpus_tfidf:\n",
    "    max_topics=lda_model_tfidf.get_document_topics(value)\n",
    "    max_list_topics.append(max(max_topics, key=itemgetter(1)))"
   ]
  },
  {
   "cell_type": "markdown",
   "metadata": {},
   "source": [
    "## Visualisation"
   ]
  },
  {
   "cell_type": "code",
   "execution_count": 41,
   "metadata": {
    "ExecuteTime": {
     "end_time": "2021-07-26T13:41:24.912796Z",
     "start_time": "2021-07-26T13:41:24.901825Z"
    }
   },
   "outputs": [
    {
     "name": "stderr",
     "output_type": "stream",
     "text": [
      "C:\\Users\\utilisateur\\anaconda3\\lib\\site-packages\\ipykernel\\ipkernel.py:287: DeprecationWarning: `should_run_async` will not call `transform_cell` automatically in the future. Please pass the result to `transformed_cell` argument and any exception that happen during thetransform in `preprocessing_exc_tuple` in IPython 7.17 and above.\n",
      "  and should_run_async(code)\n"
     ]
    }
   ],
   "source": [
    "import pyLDAvis"
   ]
  },
  {
   "cell_type": "code",
   "execution_count": 42,
   "metadata": {
    "ExecuteTime": {
     "end_time": "2021-07-26T13:41:24.943709Z",
     "start_time": "2021-07-26T13:41:24.932739Z"
    },
    "scrolled": true
   },
   "outputs": [
    {
     "name": "stderr",
     "output_type": "stream",
     "text": [
      "C:\\Users\\utilisateur\\anaconda3\\lib\\site-packages\\ipykernel\\ipkernel.py:287: DeprecationWarning: `should_run_async` will not call `transform_cell` automatically in the future. Please pass the result to `transformed_cell` argument and any exception that happen during thetransform in `preprocessing_exc_tuple` in IPython 7.17 and above.\n",
      "  and should_run_async(code)\n"
     ]
    }
   ],
   "source": [
    "pyLDAvis.enable_notebook()"
   ]
  },
  {
   "cell_type": "code",
   "execution_count": 43,
   "metadata": {
    "ExecuteTime": {
     "end_time": "2021-07-26T13:46:07.270964Z",
     "start_time": "2021-07-26T13:41:24.953684Z"
    }
   },
   "outputs": [
    {
     "name": "stderr",
     "output_type": "stream",
     "text": [
      "C:\\Users\\utilisateur\\anaconda3\\lib\\site-packages\\ipykernel\\ipkernel.py:287: DeprecationWarning: `should_run_async` will not call `transform_cell` automatically in the future. Please pass the result to `transformed_cell` argument and any exception that happen during thetransform in `preprocessing_exc_tuple` in IPython 7.17 and above.\n",
      "  and should_run_async(code)\n"
     ]
    },
    {
     "data": {
      "text/html": [
       "\n",
       "<link rel=\"stylesheet\" type=\"text/css\" href=\"https://cdn.jsdelivr.net/gh/bmabey/pyLDAvis@3.3.1/pyLDAvis/js/ldavis.v1.0.0.css\">\n",
       "\n",
       "\n",
       "<div id=\"ldavis_el834025638219608804000692830\"></div>\n",
       "<script type=\"text/javascript\">\n",
       "\n",
       "var ldavis_el834025638219608804000692830_data = {\"mdsDat\": {\"x\": [-0.2012824623422535, 0.0480404065950747, -0.21198628719493479, -0.07809588013681057, 0.07915977610765924, 0.00983766687716718, 0.1838351855185987, 0.15362447338487256, 0.00031214547844442297, 0.016554975712182184], \"y\": [0.06708293735728012, -0.288550145984234, 0.0715257195992465, -0.004798542593899779, 0.0972768942169136, -0.16028497501901853, 0.07119110511067729, 0.14748815907956922, -0.018409224703617447, 0.017478072937082992], \"topics\": [1, 2, 3, 4, 5, 6, 7, 8, 9, 10], \"cluster\": [1, 1, 1, 1, 1, 1, 1, 1, 1, 1], \"Freq\": [13.074161085141196, 12.672098956143984, 11.78338998187412, 9.095614238047558, 9.057676524004702, 9.038445969156214, 8.980385403690557, 8.972517122604732, 8.717133651405929, 8.608577067931003]}, \"tinfo\": {\"Term\": [\"close\", \"crash\", \"rudd\", \"market\", \"interview\", \"kill\", \"charge\", \"police\", \"coast\", \"water\", \"gold\", \"climate\", \"obama\", \"teen\", \"murder\", \"stab\", \"guilty\", \"fund\", \"blaze\", \"health\", \"search\", \"bail\", \"fatal\", \"dead\", \"teacher\", \"farmer\", \"plead\", \"nurse\", \"assault\", \"die\", \"bligh\", \"inquest\", \"stimulus\", \"ballarat\", \"childcare\", \"tribute\", \"credit\", \"investment\", \"package\", \"flow\", \"cast\", \"medical\", \"bushfires\", \"violent\", \"mental\", \"patel\", \"domestic\", \"maternity\", \"palm\", \"facility\", \"hamilton\", \"2020\", \"mobile\", \"tafe\", \"neglect\", \"symonds\", \"movie\", \"native\", \"prevent\", \"batter\", \"infrastructure\", \"commissioner\", \"hockey\", \"provide\", \"outline\", \"brawl\", \"patient\", \"enough\", \"asbestos\", \"rural\", \"scheme\", \"libs\", \"health\", \"candidate\", \"education\", \"ambulance\", \"indigenous\", \"regional\", \"fund\", \"christmas\", \"raise\", \"federal\", \"doctor\", \"spend\", \"centre\", \"pay\", \"interest\", \"service\", \"govt\", \"doubt\", \"wind\", \"cancer\", \"government\", \"boost\", \"community\", \"hospital\", \"plan\", \"council\", \"group\", \"promise\", \"urge\", \"farm\", \"opposition\", \"concern\", \"call\", \"labor\", \"budget\", \"school\", \"say\", \"minister\", \"stab\", \"fatal\", \"gaza\", \"robbery\", \"bash\", \"suspicious\", \"smash\", \"plane\", \"contain\", \"explosion\", \"michael\", \"apec\", \"plunge\", \"mumbai\", \"theft\", \"friend\", \"dozen\", \"lightning\", \"george\", \"truck\", \"bikies\", \"dubbo\", \"least\", \"extradition\", \"blaze\", \"estate\", \"son\", \"abbott\", \"mokbel\", \"restaurant\", \"investigation\", \"accident\", \"toddler\", \"teen\", \"robber\", \"breakthrough\", \"baghdad\", \"blast\", \"wound\", \"crash\", \"gippsland\", \"kidnap\", \"reopen\", \"offender\", \"girl\", \"search\", \"traffic\", \"dead\", \"investigate\", \"man\", \"kill\", \"bomb\", \"assault\", \"charge\", \"driver\", \"police\", \"shoot\", \"murder\", \"die\", \"miss\", \"death\", \"woman\", \"arrest\", \"injure\", \"court\", \"attack\", \"fire\", \"find\", \"probe\", \"face\", \"jail\", \"road\", \"restriction\", \"pulp\", \"wild\", \"gunns\", \"heritage\", \"queensland\", \"irrigators\", \"bust\", \"desal\", \"grain\", \"remote\", \"crop\", \"rethink\", \"camera\", \"workplace\", \"strategy\", \"bypass\", \"mill\", \"timber\", \"chamber\", \"abduction\", \"payment\", \"mortgage\", \"harvest\", \"forestry\", \"soar\", \"supply\", \"evacuation\", \"recommend\", \"audit\", \"loom\", \"arson\", \"operator\", \"treasurer\", \"plant\", \"relief\", \"solar\", \"pipeline\", \"proposal\", \"worry\", \"drought\", \"farmer\", \"weather\", \"merger\", \"water\", \"cyclone\", \"export\", \"rain\", \"global\", \"grower\", \"impact\", \"ease\", \"development\", \"flood\", \"cut\", \"industry\", \"council\", \"plan\", \"cost\", \"resident\", \"govt\", \"urge\", \"warn\", \"park\", \"group\", \"green\", \"call\", \"power\", \"change\", \"rise\", \"price\", \"fire\", \"back\", \"climate\", \"learn\", \"hick\", \"inflation\", \"sexual\", \"compensation\", \"jobless\", \"townsville\", \"recovery\", \"commonwealth\", \"remove\", \"attacker\", \"shareholder\", \"men\", \"nadal\", \"video\", \"organiser\", \"outback\", \"snowy\", \"darfur\", \"college\", \"import\", \"contamination\", \"launceston\", \"servant\", \"breast\", \"screen\", \"darcy\", \"glass\", \"orange\", \"apologise\", \"day\", \"street\", \"gear\", \"executive\", \"tie\", \"anger\", \"step\", \"origin\", \"thousand\", \"whale\", \"military\", \"haneef\", \"lawyer\", \"rebel\", \"takeover\", \"afghanistan\", \"watch\", \"troop\", \"bush\", \"farewell\", \"program\", \"father\", \"change\", \"iraq\", \"costello\", \"hunt\", \"say\", \"govt\", \"aust\", \"call\", \"police\", \"talk\", \"urge\", \"plead\", \"bendigo\", \"commission\", \"holiday\", \"sector\", \"news\", \"recycle\", \"surge\", \"outbreak\", \"bailout\", \"resource\", \"verdict\", \"energy\", \"diver\", \"cover\", \"queen\", \"toowoomba\", \"bully\", \"lay\", \"ax\", \"ride\", \"captain\", \"drag\", \"unemployment\", \"single\", \"history\", \"royal\", \"data\", \"pedestrian\", \"snow\", \"gain\", \"scott\", \"production\", \"jury\", \"slump\", \"nightclub\", \"market\", \"profit\", \"stock\", \"close\", \"guilty\", \"easter\", \"lanka\", \"italy\", \"crackdown\", \"record\", \"growth\", \"share\", \"bank\", \"fall\", \"high\", \"price\", \"low\", \"loss\", \"rise\", \"rate\", \"year\", \"lead\", \"rudd\", \"nelson\", \"porn\", \"recession\", \"barnett\", \"corruption\", \"hike\", \"asylum\", \"debt\", \"gillard\", \"wollongong\", \"territory\", \"shut\", \"sailor\", \"seeker\", \"senior\", \"loan\", \"torture\", \"explain\", \"rees\", \"appear\", \"reward\", \"ring\", \"kevin\", \"devil\", \"bike\", \"fix\", \"clarke\", \"pirate\", \"buyer\", \"afghan\", \"arrive\", \"rann\", \"prisoner\", \"policeman\", \"commit\", \"bad\", \"bail\", \"indonesia\", \"judge\", \"political\", \"refuse\", \"fraud\", \"timor\", \"john\", \"grant\", \"month\", \"steal\", \"child\", \"accuse\", \"court\", \"jail\", \"charge\", \"murder\", \"police\", \"case\", \"say\", \"govt\", \"intervention\", \"suspend\", \"tree\", \"iemma\", \"boom\", \"passenger\", \"prince\", \"cricket\", \"apology\", \"medal\", \"hospitalise\", \"dive\", \"invasion\", \"athlete\", \"williams\", \"fake\", \"scandal\", \"sunshine\", \"contest\", \"flight\", \"motorist\", \"congo\", \"pensioner\", \"earn\", \"ash\", \"canada\", \"curb\", \"twenty20\", \"matthew\", \"punch\", \"riot\", \"federer\", \"plot\", \"sanction\", \"bushrangers\", \"beijing\", \"fan\", \"alert\", \"black\", \"bull\", \"surprise\", \"qantas\", \"bangladesh\", \"bridge\", \"quit\", \"zimbabwe\", \"place\", \"aussie\", \"olympics\", \"england\", \"financial\", \"world\", \"final\", \"australia\", \"tour\", \"stay\", \"take\", \"first\", \"open\", \"obama\", \"revamp\", \"burma\", \"peter\", \"brace\", \"taliban\", \"brown\", \"raider\", \"bronco\", \"prize\", \"auction\", \"clinton\", \"spirit\", \"answer\", \"dragon\", \"cowboy\", \"titan\", \"partner\", \"past\", \"prove\", \"suspension\", \"hundred\", \"jet\", \"macquarie\", \"mariner\", \"pick\", \"resignation\", \"comeback\", \"trip\", \"earth\", \"reporter\", \"mccain\", \"missile\", \"declare\", \"cull\", \"korea\", \"unite\", \"poor\", \"leadership\", \"nuclear\", \"pacific\", \"tiger\", \"comment\", \"iran\", \"victory\", \"talk\", \"storm\", \"win\", \"match\", \"sign\", \"open\", \"final\", \"take\", \"back\", \"turnbull\", \"bikie\", \"remember\", \"memorial\", \"spring\", \"identify\", \"mount\", \"boy\", \"cyclist\", \"collision\", \"david\", \"illegal\", \"harbour\", \"garrett\", \"sorry\", \"swear\", \"mass\", \"tibet\", \"goulburn\", \"rush\", \"georgia\", \"car\", \"female\", \"pilbara\", \"foley\", \"outlook\", \"upper\", \"nepal\", \"birthday\", \"worsen\", \"alice\", \"chopper\", \"survivor\", \"walk\", \"scare\", \"tunnel\", \"protea\", \"darling\", \"smith\", \"interview\", \"gold\", \"bird\", \"honour\", \"coast\", \"thai\", \"beach\", \"boat\", \"west\", \"protection\", \"fish\", \"rescue\", \"expansion\", \"celebrate\", \"award\", \"drown\", \"north\", \"murray\", \"police\", \"south\", \"emission\", \"uranium\", \"ponting\", \"safe\", \"springborg\", \"cousin\", \"gunman\", \"slash\", \"heavy\", \"torch\", \"carpenter\", \"digger\", \"capture\", \"guarantee\", \"analyst\", \"earthquake\", \"couple\", \"daughter\", \"mugabe\", \"johnson\", \"hurricane\", \"bundaberg\", \"cop\", \"volunteer\", \"priest\", \"generation\", \"evans\", \"chairman\", \"2008\", \"paul\", \"photo\", \"industrial\", \"roar\", \"demon\", \"docker\", \"immigration\", \"dangerous\", \"hang\", \"swan\", \"contract\", \"cat\", \"crow\", \"nurse\", \"shake\", \"teacher\", \"blow\", \"fast\", \"clean\", \"track\", \"dept\", \"speak\", \"quake\", \"action\", \"legal\", \"eagle\", \"injury\", \"strike\", \"age\", \"dispute\", \"coal\", \"blue\", \"worker\", \"union\", \"job\", \"port\", \"mine\", \"back\", \"govt\"], \"Freq\": [2493.0, 2119.0, 1462.0, 1420.0, 1359.0, 2507.0, 2993.0, 4664.0, 1311.0, 2270.0, 1137.0, 845.0, 802.0, 976.0, 1600.0, 884.0, 927.0, 1930.0, 846.0, 1555.0, 1131.0, 776.0, 799.0, 1214.0, 876.0, 1056.0, 630.0, 713.0, 1244.0, 1262.0, 468.7879292145499, 420.4792254865857, 331.70773392782, 264.0428948373579, 261.12000080159396, 247.95612809187946, 322.606967466484, 249.82392839337558, 284.2768056205614, 220.54240398412836, 212.07366995272133, 304.24904746982963, 201.87129747133864, 195.12159836881438, 331.4236833559099, 181.41448036228093, 202.65402913840742, 161.68535087924954, 155.276367423178, 210.3182755268234, 153.5153704779903, 147.69732483066136, 162.80170261631014, 138.3562899215096, 133.52000757195765, 132.98677286798133, 128.9083378993126, 201.46494418772448, 127.16316736013893, 138.70597813058123, 360.97882115646144, 300.73908335437596, 182.50715647848497, 157.78227192043244, 182.34754155709473, 347.88667206932973, 375.54386403312037, 227.23063178997822, 207.32779576977953, 398.7667899553809, 612.4370357097678, 240.7198061083025, 1224.3544306456126, 376.0938209774134, 440.56365991757053, 250.70264230716012, 885.4016154654784, 489.1651166078138, 1318.052555842172, 334.3063359460137, 450.5043208062417, 498.32389900494246, 612.7707979756807, 412.83633692551297, 698.3774633585904, 271.2349654503009, 376.01043728930364, 709.2733111273923, 1355.8573321989609, 358.27664362936736, 386.897895498763, 419.7055374800963, 442.52843783722983, 670.7680776634602, 521.3780668080885, 682.8545034401162, 889.0709527692565, 731.8672191732502, 565.0595161904595, 440.0067638123298, 666.8758909121963, 411.9128312965944, 509.40881047038624, 503.309913659371, 618.3985712610388, 499.07321463056206, 447.57104646824035, 501.9922124980889, 475.9466691035963, 426.86987988843254, 883.5700244576623, 798.1601970779112, 438.51899180144255, 410.19751233311877, 494.2845140599625, 245.1303436817826, 398.09041876729515, 574.8483175444223, 210.82712324062877, 230.82143038443664, 187.68967870257796, 185.7872657691777, 180.22748385229067, 178.60796651538527, 319.24681235921236, 172.88086741339413, 175.5080504302434, 147.0199015451598, 144.85905660699117, 461.3295338425011, 126.96448366010384, 125.77790987638427, 229.1296799859883, 133.08175982225134, 839.9734507506947, 127.98878458242174, 125.35972717206552, 144.42244696062266, 122.78047901269498, 118.69235786254886, 503.2175427386788, 630.29910708144, 277.6093382069246, 952.03588582695, 158.62518137872297, 136.08659178383198, 257.6866852678413, 668.7281984066773, 184.94089440696644, 1986.9878838603395, 354.0330750329469, 204.1513329426361, 273.5481063342198, 217.96960995723725, 422.8692393782954, 985.0427426411767, 323.4870212472188, 1010.681909871859, 776.609082085849, 219.36803155415578, 1833.491373891909, 652.6002551223792, 936.2305587427275, 1934.3705708843752, 856.0759243349868, 2654.058953019226, 799.7327581010069, 1110.411442093926, 880.081392236715, 1121.004080835369, 1222.688274709842, 1091.1916315907217, 896.5232413042036, 676.6253490267094, 1120.6139864690438, 911.4614408745865, 1045.196991908517, 930.4435341777352, 719.9779759316717, 789.4686343862644, 752.6927030049209, 700.228373616655, 407.3599904115995, 316.92341563306366, 333.2992095278595, 263.32785316294894, 258.06722414661476, 218.34720796956265, 211.8404408463121, 267.365297055855, 206.68363210872667, 229.8706565710679, 196.66587871887762, 347.84086652432194, 231.07979564764887, 193.0223008458189, 190.76465512986678, 188.04951326396144, 190.32808707708634, 528.6940747959062, 189.97123290331058, 183.29395241025983, 165.7288710142172, 211.22022329415273, 160.65533893029288, 192.78512001643955, 160.13221339539064, 160.97010622647198, 362.3677341612392, 153.91017348272644, 159.06984012947876, 156.97440318628585, 255.22197692706706, 236.43831125688297, 178.05390546622175, 214.22132268131713, 602.2638335638608, 337.9240498725824, 242.0780553807278, 355.63626873564317, 218.90646106474048, 481.33752027315063, 690.474545652157, 881.1688039432179, 439.18369327069325, 426.43921258943726, 1562.5051145477014, 372.28678075107314, 332.0691295383696, 603.4735365328334, 371.2902547376252, 323.10283040721185, 343.9306059972105, 394.00371211685064, 430.8582322111995, 613.4448456947865, 549.5133920000297, 524.1278279969727, 983.7946560804629, 897.0888189967078, 445.7999452280816, 491.3816740795189, 925.0326602548959, 711.0491848212391, 510.7658851468347, 398.4490296292427, 416.38275567634156, 415.0105491726777, 437.0322387446821, 409.8077703894348, 410.9359396448659, 403.64998857794893, 396.13184200302436, 407.2644362826832, 396.22060379176816, 844.6840384639013, 385.8419202579368, 344.4068964737007, 270.41697532416174, 271.11979671563955, 238.24893342341883, 199.7899644123182, 328.7504583429651, 244.02832020563255, 198.43738491151623, 220.0950388772272, 180.8051012417968, 182.8960557202175, 200.94906671842205, 172.97278668820903, 292.3485323764256, 178.6893166294824, 248.0118057259644, 213.83297803408132, 163.59556296722147, 179.89760436415966, 213.94349686111718, 163.84843463359192, 196.37598917416096, 152.7563587690455, 152.15939684481714, 151.54099790857782, 148.81849738318283, 148.28569810773308, 171.74024258368823, 284.40635189972113, 229.8998750953014, 366.2055381160063, 171.54233355632704, 160.43943531469705, 175.39106366474672, 359.94593060879896, 445.44765581052354, 207.56387374259592, 423.1577534315011, 462.9934000335092, 353.62348604561845, 269.2723358291147, 427.44096142064177, 363.9130539612184, 345.27442771750106, 409.35872802581497, 362.59359449558616, 465.23840026690686, 414.7248068422608, 248.97390911320034, 303.7591561061154, 271.47256268163477, 510.0118602843551, 387.8833331783737, 276.30581254518006, 332.9977764015216, 421.6453905352208, 414.9140302690011, 305.7811995436185, 299.2261035505929, 304.10284077214476, 289.97475179122404, 281.25128274294434, 629.7478495795866, 414.9807638719318, 326.25868672062444, 293.7408465509316, 318.8427851796046, 409.12492157696863, 254.6633336667699, 309.926246964687, 244.81486983410963, 205.13745692438707, 316.27392137795266, 195.72396395563598, 392.20347724719574, 182.01041250755443, 222.87994151510227, 168.66372057326507, 170.5846497900315, 163.73344000651954, 162.82020215724265, 173.17154132826346, 163.52388480841572, 172.99242640667998, 209.5039126411761, 178.67591171847167, 144.2203952543151, 227.2693702820031, 252.17391012073608, 133.09909440932867, 181.58466238760096, 128.50659254851507, 285.3993635792498, 208.96471584665682, 248.74990112697245, 278.68701662351475, 266.36353173164036, 210.05463536564, 1335.0447220182455, 518.195801467352, 333.95320052719387, 2228.074404603841, 742.9400867790482, 381.1463866683451, 326.2875508015968, 223.01196759468988, 290.1020612113114, 499.7577023764249, 264.1492922258393, 381.22322620130905, 418.8727059190017, 421.18392085589215, 420.0349137063041, 371.83603599576486, 284.60040975842355, 290.3460562821386, 330.6388947435696, 294.74470579299515, 302.7042371785129, 292.6024787212924, 1460.775887318833, 389.83469756113124, 416.5710481016288, 264.99182591962546, 223.25892944383747, 309.17356978934436, 240.12683156828396, 248.7197583524903, 231.38135808275845, 211.2214041661112, 212.20327487246257, 198.97335303740857, 221.26740758404566, 261.2973017053723, 191.64594063269854, 290.2131295721665, 196.93983610685794, 180.20128115962228, 181.06084318844992, 228.12349609769703, 212.99201937091883, 173.87809357898496, 202.66465291102296, 165.32277754869324, 164.92767785676003, 228.84667244962674, 169.74562919565275, 152.40089820832526, 249.72459265558618, 150.31861312561298, 515.3648059528125, 406.6219518483808, 237.98736359076736, 290.0994519040356, 333.219758563957, 303.9476803778042, 283.73554719252684, 720.0552688338348, 430.4472732892366, 389.26371401947495, 370.5410689244076, 358.0765151181787, 290.2792285552616, 361.7346475365636, 330.444898874463, 385.76149026734356, 304.7212862037491, 386.8084965867211, 566.6653631164028, 443.2394122401207, 469.8661745201269, 412.7951879287009, 415.88752720743344, 324.37279699076436, 358.9627762603446, 295.8028976211619, 302.63093043913307, 301.1414030276957, 411.2855562071258, 529.3023404802979, 395.9662352652731, 300.7647543450201, 295.4122141674256, 283.4691463383579, 296.036433334728, 340.89766134792416, 266.7169830894599, 258.47887236091634, 230.06222020784193, 215.88231656561626, 208.4044033997308, 202.5126964802582, 218.41640611273894, 206.1052140399594, 194.38968195993695, 192.24440350046837, 195.72467686253793, 440.95306895037527, 172.7542710158501, 169.54820089119013, 164.71802794103527, 170.8365673740649, 156.5435014212092, 155.79015063740067, 164.62895144587335, 152.99707508745854, 145.77201414819058, 145.9015950540363, 283.18496106388085, 233.64905328068085, 190.0565792939685, 201.7356603345234, 205.1800296180606, 441.8218773273098, 213.48379519314787, 280.22803164520667, 502.8530286738785, 324.22721015588195, 291.77254076138206, 494.71968049874573, 255.42372438573466, 309.13210412882495, 432.0727284123057, 390.48240492891034, 254.65180623160782, 564.3388999007935, 260.9152512438285, 362.41158836143825, 354.3185590209577, 423.2572027450579, 397.1968192322073, 403.6447854227831, 298.97951292115005, 290.9130697889843, 320.14795596680585, 274.0762643353633, 272.2004618080786, 801.6281627309228, 380.6917661092162, 369.9879459921434, 273.380851048847, 299.51339165008056, 265.011503203574, 399.6866115324416, 232.09390426381088, 306.07154297644615, 244.6400898743675, 222.41848465292628, 221.44732810568155, 227.39010199410376, 261.5588512877953, 231.23596701620173, 244.19909865298052, 199.43541572259315, 198.81941373412596, 202.91999778389916, 222.08329619370522, 197.8211673079131, 340.97410010114936, 185.1993330151659, 175.38001306016596, 166.09085843102378, 184.1638477639738, 167.4797221754415, 213.19246817829557, 209.74389535812514, 158.2228685187001, 246.62981025705122, 236.2262232870727, 219.009375618976, 325.5951484868508, 203.0242782041634, 468.474332978641, 387.05093954215226, 238.52476438655242, 323.4294024424858, 443.96751690796157, 293.27460033059947, 444.32140284848776, 293.3349475249579, 325.89686494143905, 318.9436854087945, 429.3618954625064, 359.77026038900317, 370.21973230527425, 276.27841416942914, 275.9991229820847, 290.1113495137685, 278.10461941811064, 256.1121071356665, 251.2308349311919, 454.9650090601948, 363.6117275822445, 261.1471052300117, 269.37863966546746, 226.06018827675487, 233.48355658724446, 223.6779744671804, 225.38020316595475, 229.90544804654002, 211.5714104110163, 203.28014665682934, 350.7447050093453, 256.0046953125808, 199.40422583676215, 184.61458285981462, 188.49831589553807, 205.71731143963652, 178.0420634350734, 181.5786079546163, 194.92494408906722, 180.79154618893517, 217.91621891872794, 165.29831079902235, 157.04956863126543, 154.00397066916042, 149.84664891111527, 155.41597176396652, 146.09492715063206, 152.3401773129474, 143.70913906277795, 469.3816945863092, 288.2304072434157, 287.46420333506927, 262.28158305213515, 249.0997585269897, 177.02698736534688, 220.1572060724579, 281.0394713103887, 472.78668291113553, 1132.4387579904514, 932.5295444659274, 343.2746719834914, 476.47833404249474, 1002.7901849823304, 458.1960428548496, 460.1294903830235, 406.5842608879051, 452.89613715285316, 285.3888654919539, 354.2379789557629, 404.4725734879618, 260.7657667128677, 285.92862891639925, 328.74929805897466, 252.21590345110724, 318.87651571491585, 282.48511044056914, 341.8164422921562, 282.93522300185225, 262.0288995913694, 375.9368805709307, 281.65079513539206, 468.495870712522, 238.656885764527, 229.21636027842536, 236.78418056289325, 222.60069696232668, 231.01729043168433, 213.79979894880128, 209.53745090258224, 214.5409001983519, 215.33712947879616, 208.71485604214539, 198.64988950773878, 190.10332196826133, 295.67539241050605, 190.06094603962265, 217.7551228120951, 191.13654185977546, 180.47473574361868, 176.76389271298356, 175.52399888228024, 290.30428558804977, 172.9700205760365, 169.61548738638095, 162.38809767312435, 174.294085771844, 160.35742369818266, 158.64809895495478, 159.48842691500312, 312.13764485058965, 240.7634544097173, 210.4842336369615, 205.87269146027222, 184.5734224481223, 193.22584554420357, 211.28855235672168, 494.8613758029098, 339.7316211837578, 251.0490641465762, 265.0956077709454, 577.6309084856848, 205.92860596443268, 661.4207966043953, 286.82284931912585, 292.0627461849002, 450.81037145921624, 414.3756491336702, 269.1161901898317, 385.83790488031224, 358.7440506426288, 498.4727861419535, 332.20653261345404, 275.4196610701089, 343.36984651608947, 459.6230291206361, 272.34691001662424, 276.85619194307236, 272.0044758111379, 294.9768168940259, 350.9391273937672, 347.8986591953303, 315.7464336120773, 289.39523484492406, 290.9219479858168, 285.67748208487325, 286.5241392821642], \"Total\": [2493.0, 2119.0, 1462.0, 1420.0, 1359.0, 2507.0, 2993.0, 4664.0, 1311.0, 2270.0, 1137.0, 845.0, 802.0, 976.0, 1600.0, 884.0, 927.0, 1930.0, 846.0, 1555.0, 1131.0, 776.0, 799.0, 1214.0, 876.0, 1056.0, 630.0, 713.0, 1244.0, 1262.0, 469.75311342460947, 421.6018959734934, 332.66165500077324, 264.98712474678837, 262.09571590676137, 248.92603952654963, 323.87717405801203, 250.85084066757858, 285.5140538474878, 221.5212341791093, 213.01999436200617, 305.62996506490265, 202.88648451334757, 196.10679333162904, 333.1172867191333, 182.37622913026047, 203.7405835580418, 162.63260188499777, 156.2197594131443, 211.6305736545365, 154.48460081846005, 148.65101571234595, 163.89958624388964, 139.29736607597863, 134.46137239429083, 133.93528414406896, 129.84838430238986, 202.95987604782187, 128.14348446415173, 139.79162420561784, 364.31534603253016, 304.790462176551, 184.08507181828278, 159.07134392334535, 185.4830199082273, 363.6992441892933, 395.6305575252962, 233.46876888507, 212.58735652972385, 427.8807450193234, 684.9059630801603, 251.8376954515283, 1555.2604308766374, 415.4345404823802, 504.97043909130656, 264.90511941307466, 1161.910622570368, 578.3519616921777, 1930.2181038686267, 378.2831188128156, 549.2706329541793, 629.8773878888073, 845.7801691805579, 508.2162220312321, 1033.8778730261254, 293.8925923737871, 463.9671233763188, 1327.6234608743105, 3917.2839721998644, 449.1586708266161, 513.6631183072117, 592.942429696576, 660.8156420061421, 1534.5565680481527, 932.0848432757381, 1653.1543704667342, 3019.8752327899674, 2545.387880598177, 1352.43483121446, 717.5722993661178, 2427.4664081584087, 603.7963028841546, 1200.6417379957218, 1154.496734207561, 2464.0103252790354, 1172.2199661624581, 803.9596802130031, 1499.8627637834766, 2590.4803856579892, 1263.3319272654799, 884.934188656509, 799.6022973983478, 439.5086560877455, 411.3658097933074, 495.9144383733573, 246.09185503826632, 399.67279574830627, 577.507670294622, 211.81152202614948, 231.97405720657224, 188.6388326562671, 186.73352143654716, 181.18326726873252, 179.5553932659143, 320.9759121836906, 173.8321441479501, 176.58244895032524, 147.97813717735212, 145.80520915854075, 464.77925919528826, 127.9151712517043, 126.72400451525911, 230.86448029385997, 134.08990929950102, 846.3371309176524, 128.96639855278838, 126.3228460858886, 145.56866225194412, 123.76204745578168, 119.64527362981548, 507.39735825000184, 637.3842131158042, 280.2305024701078, 976.0502122661842, 159.98696871376603, 137.18194690911932, 261.5524530339855, 693.0908995249746, 187.12734340809985, 2119.495354059108, 365.1433899991221, 207.31363130931553, 280.78590803434184, 221.83067501598418, 449.3878385342518, 1131.9752374865222, 342.1851177720577, 1214.7037515008885, 911.8735535462082, 224.5948917819485, 2507.6822354869164, 785.3832134997682, 1244.6901358166767, 2993.136673588084, 1139.8330675368277, 4664.675697179441, 1060.2119559067694, 1600.972852459234, 1262.0249476198028, 1758.6132882987758, 2010.8528136332368, 1769.2306473331384, 1355.9283835000456, 913.9620832344754, 2362.535971069845, 1764.564439767748, 2319.0599587618335, 1977.1093115417013, 1201.6653453474785, 2062.6996611687964, 1760.9127830291918, 1387.127774456559, 408.3775611917963, 317.86100143144506, 334.32603407049703, 264.26504562633505, 259.18501266090243, 219.31693796198905, 212.7914076467856, 268.5702304385706, 207.62074791636016, 230.93188897043376, 197.60462351874156, 349.5086704193487, 232.2054920558202, 193.9720878677777, 191.70363388192467, 188.99616705437276, 191.28650330375615, 531.393292676849, 191.0142146555797, 184.30865276496363, 166.67747652002066, 212.44594414083753, 161.59237782990775, 193.91974127053362, 161.07471055451853, 161.95574208267715, 364.58964131725475, 154.86550673689035, 160.05726982664575, 158.00338913580245, 257.2720363757558, 238.3068924170535, 179.33592880206822, 216.49885739004728, 623.2202574364495, 346.83446936520113, 246.21920811674372, 372.6897726584372, 223.7155762276014, 536.1118312153803, 800.664692119626, 1056.7104776160468, 502.0292896064395, 488.88431074418514, 2270.733020098363, 423.58875174841415, 370.86632374474027, 782.6074838057983, 433.4840494308733, 375.31808243252084, 425.9119887820802, 523.7785805323126, 604.2602790992445, 1137.1398602736701, 951.288849724131, 890.5264799569354, 2545.387880598177, 3019.8752327899674, 787.7872918120362, 978.5284912341735, 3917.2839721998644, 2427.4664081584087, 1955.398729419397, 816.0129611637738, 1352.43483121446, 1328.7648945625717, 2464.0103252790354, 1381.9978005946175, 1693.664625055007, 1532.5776988859664, 1172.6952349533094, 2319.0599587618335, 2365.932444021922, 845.7506284174107, 386.843926226459, 345.34828224415327, 271.3386727947833, 272.0461541092959, 239.19725622198175, 200.71947765317182, 330.2907714911868, 245.23130065434998, 199.42326950439096, 221.19224011540177, 181.7268203573535, 183.86744874583755, 202.01958090150342, 173.89456671744253, 293.90934447912156, 179.65206692976543, 249.39632782678262, 215.03922269032427, 164.52262093048375, 180.9226476854262, 215.1692880592595, 164.79285530593987, 197.5304385245805, 153.685350392156, 153.08903908444944, 152.47196383322225, 149.7412187757397, 149.20743050633575, 172.82638096167219, 286.88155402619356, 231.59236724630983, 371.1438959460491, 172.66181693517117, 161.47139405209177, 176.85359952894902, 373.43202188840434, 476.4760701808153, 212.86518577490153, 514.6801530573167, 582.4462968424773, 420.6275954686265, 303.1961293012386, 567.2128105902018, 464.75495678882703, 443.8953512455678, 567.3855470240301, 477.1077627564951, 726.9895422844636, 683.2545492251553, 292.42514655700177, 431.9214370837833, 368.9058262129691, 1693.664625055007, 1038.3386264743012, 394.9975995022534, 694.8097933016948, 2590.4803856579892, 3917.2839721998644, 1312.2129205421406, 2464.0103252790354, 4664.675697179441, 1663.173631712644, 2427.4664081584087, 630.7714244767187, 416.03266137633403, 327.2956602155097, 294.7030032848851, 319.8878808242496, 410.49146049034755, 255.61516068589037, 311.13253826199605, 245.9475040879822, 206.08756612057107, 317.7926152009727, 196.67023526524102, 394.1182469555494, 182.94365260185558, 224.080485136954, 169.59819234602418, 171.5525517797025, 164.66924131520992, 163.75971889282812, 174.17163525575546, 164.47232539972154, 174.01541620068375, 210.89963635250487, 179.8676647891359, 145.18504093251912, 228.80114248413622, 253.88174379043022, 134.03208053716918, 182.88612762859918, 129.43831178790558, 287.91512588989866, 210.7657108222684, 251.6864387581232, 282.4056585472879, 270.1480770766502, 212.20785899343926, 1420.7603598870642, 540.6136306208251, 344.52443113038436, 2493.163986106871, 927.7702784935219, 457.4690891399621, 378.1065035703904, 239.92899441733718, 386.47536251924237, 1117.9191476376727, 335.97250231189963, 751.3696188110716, 937.7955547134455, 1016.5021839994955, 1233.226306552088, 1172.6952349533094, 451.41435293997176, 635.6101371165092, 1532.5776988859664, 749.1651588512376, 1489.9456590263924, 1366.4825269379105, 1462.0709641563897, 390.7664395295902, 417.62569633461925, 265.9241827755619, 224.19076852249344, 310.4844604591623, 241.14637498844067, 249.78468038119266, 232.37425613670152, 212.15338157934792, 213.15163592608977, 199.9405417309408, 222.34829909932105, 262.59197665371397, 192.6127339213456, 291.69320182239045, 197.95928123667505, 181.14187305265187, 182.02530349826569, 229.34063876411443, 214.17736769967576, 174.852388247579, 203.8042335568963, 166.25567635822918, 165.85939847689625, 230.19572247816865, 170.75387066473803, 153.333252364135, 251.26903077349644, 151.25185827414757, 518.8715787281559, 410.04217918783655, 239.58696957764883, 293.63959023585033, 339.95744253981263, 310.38317832901186, 290.388543931941, 776.7169106960076, 456.4585152447784, 417.5499314975942, 405.635103072329, 431.76459536537885, 330.6574757785816, 451.52728159023223, 439.6333130988272, 582.7499091926284, 411.0345899775458, 676.6446383922967, 1557.2926131086767, 1625.5472622063694, 2362.535971069845, 1760.9127830291918, 2993.136673588084, 1600.972852459234, 4664.675697179441, 1148.928426720809, 2590.4803856579892, 3917.2839721998644, 412.2109978121636, 530.563815630819, 397.0291645224706, 301.69013070626056, 296.35839119611455, 284.4138328158013, 297.07087305564403, 342.0955268961717, 267.6765316052318, 259.4499585164385, 231.0019661611756, 216.80868620665797, 209.34832307920436, 203.45230733981498, 219.43551538092976, 207.10010996922992, 195.33658725455686, 193.1832287177698, 196.7058658552529, 443.29310601958355, 173.68363621065134, 170.4781749810099, 165.64341217916186, 171.80618125920995, 157.4724851759451, 156.72304518831854, 165.62479199301038, 153.9227523781608, 146.69784824771452, 146.82995477665744, 285.5403391528425, 235.285328769078, 191.3665680041266, 203.61570526029968, 207.39671047946103, 454.22567730918183, 216.33673900473104, 288.78309497465045, 556.9881267195564, 345.2811689649368, 315.0610883613264, 626.8114587589256, 280.78193178452887, 371.2233180257743, 603.5556633438847, 545.3487210363417, 298.43369696421325, 1175.3507659656552, 312.57025653256494, 565.7444124798042, 603.4600787519106, 1131.8669308674625, 1023.1332864548475, 1402.4831376970924, 700.4170296100722, 634.2108839885882, 1886.4022802466652, 1249.3939102775134, 1442.1974988721943, 802.5588249344653, 381.6390986921232, 371.008096655416, 274.30635990661466, 300.55122531985563, 265.93897685110034, 401.1855659057377, 233.02544578337134, 307.33568652419524, 245.65559352509575, 223.34860766925914, 222.37874443629858, 228.36345941752666, 262.71723845319895, 232.28669150303662, 245.32318868552227, 200.36133950473712, 199.77126303171946, 203.9187404896335, 223.18037298859116, 198.81668412408894, 342.71501434377535, 186.15450192460165, 176.30731254620696, 167.01670963281276, 185.20218401643416, 168.42466289001229, 214.40447213868782, 210.93671666679114, 159.14833482935174, 248.62549515823656, 238.6153057407455, 220.99828653908236, 335.79557942516414, 205.48747142685, 529.0698721948485, 442.82118686705945, 252.81812106937127, 375.5211865166733, 607.5642820119683, 348.6277256418863, 763.0389543015638, 402.49893267158717, 503.04238729113234, 661.6675551033508, 1663.173631712644, 1035.8679595787019, 1225.5349836997818, 450.8820885907123, 676.2878630994029, 1442.1974988721943, 1023.1332864548475, 1886.4022802466652, 2365.932444021922, 455.91004892790716, 364.5667861819466, 262.11396159376, 270.4197685914723, 227.0007135119634, 234.4714497273316, 224.62680763383503, 226.34047762105922, 230.8921664116688, 212.51710490578276, 204.2113294722536, 352.3576353353969, 257.1958166807661, 200.33555773501217, 185.54859668272428, 189.45352349873545, 206.78869446515364, 178.97329316236147, 182.539113089704, 195.9634304330893, 181.77173660583023, 219.132736931625, 166.27766690360423, 157.99360954814796, 154.9351151427257, 150.78262169767208, 156.39288757907335, 147.02599266764074, 153.31243769389124, 144.64544198402132, 472.5279503716105, 290.2825900014286, 289.7297028470667, 265.9053033502031, 252.4582155976772, 178.56932873373574, 223.46971200883456, 289.61538284924785, 519.1758894502241, 1359.1479699871718, 1137.806990636449, 373.34965103630816, 542.838928742206, 1311.6032867262745, 542.8354175334388, 575.8493720870672, 603.0148203254728, 777.1970111756676, 361.07145495238683, 538.9590560341549, 886.0301206843613, 336.92656907671113, 436.1452593376323, 671.1362448236545, 334.89777204169746, 923.7510822998236, 726.1401040699177, 4664.675697179441, 965.0981680657244, 469.609609874758, 376.8991026396049, 282.68185527970815, 470.33895020804306, 239.60475224136025, 230.1450967517655, 237.7668639034188, 223.54549317404138, 232.01387366344852, 214.73269941028855, 210.46470019074155, 215.50581773137412, 216.34198234574163, 209.7076148145747, 199.61805988372754, 191.03667662273287, 297.14014991931015, 191.041255942629, 218.89269733112667, 192.14408632708287, 181.43399399615035, 177.7155270863778, 176.47094078631721, 291.8757253608571, 173.91112567324814, 170.5427297927215, 163.31535786053414, 175.2983572512922, 161.2847009242082, 159.5785623415469, 160.4238905537045, 314.1800959927708, 242.22175035577203, 211.94824014513728, 207.3684116879382, 185.92863860024437, 194.93271877425298, 214.2983868349966, 529.0948745389048, 356.3726343133701, 260.95531564093636, 277.40525294153025, 713.891476192179, 210.1470495675411, 876.422047798382, 319.97937412992775, 328.6698176829552, 600.0514677973548, 551.2221778746162, 311.57223806405364, 547.1095381107967, 502.68971635528334, 915.8372921769762, 501.84799649031805, 351.62430697531806, 542.5830796937969, 999.9593048929912, 367.0922255186158, 397.8931254913126, 427.3591878125169, 599.682056372626, 1282.5544363265185, 1236.299743548065, 983.1034833615968, 709.6541942693361, 1417.0389784721629, 2365.932444021922, 3917.2839721998644], \"Category\": [\"Default\", \"Default\", \"Default\", \"Default\", \"Default\", \"Default\", \"Default\", \"Default\", \"Default\", \"Default\", \"Default\", \"Default\", \"Default\", \"Default\", \"Default\", \"Default\", \"Default\", \"Default\", \"Default\", \"Default\", \"Default\", \"Default\", \"Default\", \"Default\", \"Default\", \"Default\", \"Default\", \"Default\", \"Default\", \"Default\", \"Topic1\", \"Topic1\", \"Topic1\", \"Topic1\", \"Topic1\", \"Topic1\", \"Topic1\", \"Topic1\", \"Topic1\", \"Topic1\", \"Topic1\", \"Topic1\", \"Topic1\", \"Topic1\", \"Topic1\", \"Topic1\", \"Topic1\", \"Topic1\", \"Topic1\", \"Topic1\", \"Topic1\", \"Topic1\", \"Topic1\", \"Topic1\", \"Topic1\", \"Topic1\", \"Topic1\", \"Topic1\", \"Topic1\", \"Topic1\", \"Topic1\", \"Topic1\", \"Topic1\", \"Topic1\", \"Topic1\", \"Topic1\", \"Topic1\", \"Topic1\", \"Topic1\", \"Topic1\", \"Topic1\", \"Topic1\", \"Topic1\", \"Topic1\", \"Topic1\", \"Topic1\", \"Topic1\", \"Topic1\", \"Topic1\", \"Topic1\", \"Topic1\", \"Topic1\", \"Topic1\", \"Topic1\", \"Topic1\", \"Topic1\", \"Topic1\", \"Topic1\", \"Topic1\", \"Topic1\", \"Topic1\", \"Topic1\", \"Topic1\", \"Topic1\", \"Topic1\", \"Topic1\", \"Topic1\", \"Topic1\", \"Topic1\", \"Topic1\", \"Topic1\", \"Topic1\", \"Topic1\", \"Topic1\", \"Topic1\", \"Topic1\", \"Topic1\", \"Topic1\", \"Topic1\", \"Topic1\", \"Topic2\", \"Topic2\", \"Topic2\", \"Topic2\", \"Topic2\", \"Topic2\", \"Topic2\", \"Topic2\", \"Topic2\", \"Topic2\", \"Topic2\", \"Topic2\", \"Topic2\", \"Topic2\", \"Topic2\", \"Topic2\", \"Topic2\", \"Topic2\", \"Topic2\", \"Topic2\", \"Topic2\", \"Topic2\", \"Topic2\", \"Topic2\", \"Topic2\", \"Topic2\", \"Topic2\", \"Topic2\", \"Topic2\", \"Topic2\", \"Topic2\", \"Topic2\", \"Topic2\", \"Topic2\", \"Topic2\", \"Topic2\", \"Topic2\", \"Topic2\", \"Topic2\", \"Topic2\", \"Topic2\", \"Topic2\", \"Topic2\", \"Topic2\", \"Topic2\", \"Topic2\", \"Topic2\", \"Topic2\", \"Topic2\", \"Topic2\", \"Topic2\", \"Topic2\", \"Topic2\", \"Topic2\", \"Topic2\", \"Topic2\", \"Topic2\", \"Topic2\", \"Topic2\", \"Topic2\", \"Topic2\", \"Topic2\", \"Topic2\", \"Topic2\", \"Topic2\", \"Topic2\", \"Topic2\", \"Topic2\", \"Topic2\", \"Topic2\", \"Topic2\", \"Topic2\", \"Topic3\", \"Topic3\", \"Topic3\", \"Topic3\", \"Topic3\", \"Topic3\", \"Topic3\", \"Topic3\", \"Topic3\", \"Topic3\", \"Topic3\", \"Topic3\", \"Topic3\", \"Topic3\", \"Topic3\", \"Topic3\", \"Topic3\", \"Topic3\", \"Topic3\", \"Topic3\", \"Topic3\", \"Topic3\", \"Topic3\", \"Topic3\", \"Topic3\", \"Topic3\", \"Topic3\", \"Topic3\", \"Topic3\", \"Topic3\", \"Topic3\", \"Topic3\", \"Topic3\", \"Topic3\", \"Topic3\", \"Topic3\", \"Topic3\", \"Topic3\", \"Topic3\", \"Topic3\", \"Topic3\", \"Topic3\", \"Topic3\", \"Topic3\", \"Topic3\", \"Topic3\", \"Topic3\", \"Topic3\", \"Topic3\", \"Topic3\", \"Topic3\", \"Topic3\", \"Topic3\", \"Topic3\", \"Topic3\", \"Topic3\", \"Topic3\", \"Topic3\", \"Topic3\", \"Topic3\", \"Topic3\", \"Topic3\", \"Topic3\", \"Topic3\", \"Topic3\", \"Topic3\", \"Topic3\", \"Topic3\", \"Topic3\", \"Topic3\", \"Topic3\", \"Topic3\", \"Topic3\", \"Topic4\", \"Topic4\", \"Topic4\", \"Topic4\", \"Topic4\", \"Topic4\", \"Topic4\", \"Topic4\", \"Topic4\", \"Topic4\", \"Topic4\", \"Topic4\", \"Topic4\", \"Topic4\", \"Topic4\", \"Topic4\", \"Topic4\", \"Topic4\", \"Topic4\", \"Topic4\", \"Topic4\", \"Topic4\", \"Topic4\", \"Topic4\", \"Topic4\", \"Topic4\", \"Topic4\", \"Topic4\", \"Topic4\", \"Topic4\", \"Topic4\", \"Topic4\", \"Topic4\", \"Topic4\", \"Topic4\", \"Topic4\", \"Topic4\", \"Topic4\", \"Topic4\", \"Topic4\", \"Topic4\", \"Topic4\", \"Topic4\", \"Topic4\", \"Topic4\", \"Topic4\", \"Topic4\", \"Topic4\", \"Topic4\", \"Topic4\", \"Topic4\", \"Topic4\", \"Topic4\", \"Topic4\", \"Topic4\", \"Topic4\", \"Topic4\", \"Topic4\", \"Topic4\", \"Topic4\", \"Topic4\", \"Topic4\", \"Topic4\", \"Topic4\", \"Topic5\", \"Topic5\", \"Topic5\", \"Topic5\", \"Topic5\", \"Topic5\", \"Topic5\", \"Topic5\", \"Topic5\", \"Topic5\", \"Topic5\", \"Topic5\", \"Topic5\", \"Topic5\", \"Topic5\", \"Topic5\", \"Topic5\", \"Topic5\", \"Topic5\", \"Topic5\", \"Topic5\", \"Topic5\", \"Topic5\", \"Topic5\", \"Topic5\", \"Topic5\", \"Topic5\", \"Topic5\", \"Topic5\", \"Topic5\", \"Topic5\", \"Topic5\", \"Topic5\", \"Topic5\", \"Topic5\", \"Topic5\", \"Topic5\", \"Topic5\", \"Topic5\", \"Topic5\", \"Topic5\", \"Topic5\", \"Topic5\", \"Topic5\", \"Topic5\", \"Topic5\", \"Topic5\", \"Topic5\", \"Topic5\", \"Topic5\", \"Topic5\", \"Topic5\", \"Topic5\", \"Topic5\", \"Topic5\", \"Topic5\", \"Topic5\", \"Topic5\", \"Topic6\", \"Topic6\", \"Topic6\", \"Topic6\", \"Topic6\", \"Topic6\", \"Topic6\", \"Topic6\", \"Topic6\", \"Topic6\", \"Topic6\", \"Topic6\", \"Topic6\", \"Topic6\", \"Topic6\", \"Topic6\", \"Topic6\", \"Topic6\", \"Topic6\", \"Topic6\", \"Topic6\", \"Topic6\", \"Topic6\", \"Topic6\", \"Topic6\", \"Topic6\", \"Topic6\", \"Topic6\", \"Topic6\", \"Topic6\", \"Topic6\", \"Topic6\", \"Topic6\", \"Topic6\", \"Topic6\", \"Topic6\", \"Topic6\", \"Topic6\", \"Topic6\", \"Topic6\", \"Topic6\", \"Topic6\", \"Topic6\", \"Topic6\", \"Topic6\", \"Topic6\", \"Topic6\", \"Topic6\", \"Topic6\", \"Topic6\", \"Topic6\", \"Topic6\", \"Topic6\", \"Topic6\", \"Topic6\", \"Topic6\", \"Topic6\", \"Topic6\", \"Topic7\", \"Topic7\", \"Topic7\", \"Topic7\", \"Topic7\", \"Topic7\", \"Topic7\", \"Topic7\", \"Topic7\", \"Topic7\", \"Topic7\", \"Topic7\", \"Topic7\", \"Topic7\", \"Topic7\", \"Topic7\", \"Topic7\", \"Topic7\", \"Topic7\", \"Topic7\", \"Topic7\", \"Topic7\", \"Topic7\", \"Topic7\", \"Topic7\", \"Topic7\", \"Topic7\", \"Topic7\", \"Topic7\", \"Topic7\", \"Topic7\", \"Topic7\", \"Topic7\", \"Topic7\", \"Topic7\", \"Topic7\", \"Topic7\", \"Topic7\", \"Topic7\", \"Topic7\", \"Topic7\", \"Topic7\", \"Topic7\", \"Topic7\", \"Topic7\", \"Topic7\", \"Topic7\", \"Topic7\", \"Topic7\", \"Topic7\", \"Topic7\", \"Topic7\", \"Topic7\", \"Topic7\", \"Topic7\", \"Topic7\", \"Topic7\", \"Topic7\", \"Topic7\", \"Topic8\", \"Topic8\", \"Topic8\", \"Topic8\", \"Topic8\", \"Topic8\", \"Topic8\", \"Topic8\", \"Topic8\", \"Topic8\", \"Topic8\", \"Topic8\", \"Topic8\", \"Topic8\", \"Topic8\", \"Topic8\", \"Topic8\", \"Topic8\", \"Topic8\", \"Topic8\", \"Topic8\", \"Topic8\", \"Topic8\", \"Topic8\", \"Topic8\", \"Topic8\", \"Topic8\", \"Topic8\", \"Topic8\", \"Topic8\", \"Topic8\", \"Topic8\", \"Topic8\", \"Topic8\", \"Topic8\", \"Topic8\", \"Topic8\", \"Topic8\", \"Topic8\", \"Topic8\", \"Topic8\", \"Topic8\", \"Topic8\", \"Topic8\", \"Topic8\", \"Topic8\", \"Topic8\", \"Topic8\", \"Topic8\", \"Topic8\", \"Topic8\", \"Topic8\", \"Topic8\", \"Topic8\", \"Topic9\", \"Topic9\", \"Topic9\", \"Topic9\", \"Topic9\", \"Topic9\", \"Topic9\", \"Topic9\", \"Topic9\", \"Topic9\", \"Topic9\", \"Topic9\", \"Topic9\", \"Topic9\", \"Topic9\", \"Topic9\", \"Topic9\", \"Topic9\", \"Topic9\", \"Topic9\", \"Topic9\", \"Topic9\", \"Topic9\", \"Topic9\", \"Topic9\", \"Topic9\", \"Topic9\", \"Topic9\", \"Topic9\", \"Topic9\", \"Topic9\", \"Topic9\", \"Topic9\", \"Topic9\", \"Topic9\", \"Topic9\", \"Topic9\", \"Topic9\", \"Topic9\", \"Topic9\", \"Topic9\", \"Topic9\", \"Topic9\", \"Topic9\", \"Topic9\", \"Topic9\", \"Topic9\", \"Topic9\", \"Topic9\", \"Topic9\", \"Topic9\", \"Topic9\", \"Topic9\", \"Topic9\", \"Topic9\", \"Topic9\", \"Topic9\", \"Topic9\", \"Topic9\", \"Topic9\", \"Topic10\", \"Topic10\", \"Topic10\", \"Topic10\", \"Topic10\", \"Topic10\", \"Topic10\", \"Topic10\", \"Topic10\", \"Topic10\", \"Topic10\", \"Topic10\", \"Topic10\", \"Topic10\", \"Topic10\", \"Topic10\", \"Topic10\", \"Topic10\", \"Topic10\", \"Topic10\", \"Topic10\", \"Topic10\", \"Topic10\", \"Topic10\", \"Topic10\", \"Topic10\", \"Topic10\", \"Topic10\", \"Topic10\", \"Topic10\", \"Topic10\", \"Topic10\", \"Topic10\", \"Topic10\", \"Topic10\", \"Topic10\", \"Topic10\", \"Topic10\", \"Topic10\", \"Topic10\", \"Topic10\", \"Topic10\", \"Topic10\", \"Topic10\", \"Topic10\", \"Topic10\", \"Topic10\", \"Topic10\", \"Topic10\", \"Topic10\", \"Topic10\", \"Topic10\", \"Topic10\", \"Topic10\", \"Topic10\", \"Topic10\", \"Topic10\", \"Topic10\", \"Topic10\", \"Topic10\", \"Topic10\", \"Topic10\", \"Topic10\", \"Topic10\", \"Topic10\", \"Topic10\", \"Topic10\"], \"logprob\": [30.0, 29.0, 28.0, 27.0, 26.0, 25.0, 24.0, 23.0, 22.0, 21.0, 20.0, 19.0, 18.0, 17.0, 16.0, 15.0, 14.0, 13.0, 12.0, 11.0, 10.0, 9.0, 8.0, 7.0, 6.0, 5.0, 4.0, 3.0, 2.0, 1.0, -5.5628, -5.6716, -5.9087, -6.1369, -6.148, -6.1997, -5.9365, -6.1922, -6.063, -6.3169, -6.356, -5.9951, -6.4053, -6.4393, -5.9096, -6.5122, -6.4015, -6.6273, -6.6678, -6.3643, -6.6792, -6.7178, -6.6204, -6.7831, -6.8187, -6.8227, -6.8539, -6.4074, -6.8675, -6.7806, -5.8241, -6.0067, -6.5062, -6.6518, -6.5071, -5.8611, -5.7846, -6.287, -6.3787, -5.7246, -5.2955, -6.2293, -4.6028, -5.7831, -5.6249, -6.1887, -4.9269, -5.5203, -4.5291, -5.9009, -5.6026, -5.5017, -5.295, -5.6899, -5.1642, -6.11, -5.7834, -5.1487, -4.5008, -5.8317, -5.7548, -5.6734, -5.6205, -5.2045, -5.4565, -5.1867, -4.9228, -5.1174, -5.376, -5.6262, -5.2104, -5.6922, -5.4797, -5.4918, -5.2858, -5.5002, -5.6091, -5.4944, -5.5477, -5.6565, -4.8978, -4.9994, -5.5983, -5.6651, -5.4786, -6.1799, -5.6951, -5.3276, -6.3307, -6.2401, -6.4469, -6.4571, -6.4875, -6.4965, -5.9158, -6.5291, -6.514, -6.6912, -6.706, -5.5476, -6.8378, -6.8472, -6.2474, -6.7908, -4.9484, -6.8298, -6.8505, -6.709, -6.8713, -6.9052, -5.4607, -5.2355, -6.0555, -4.8231, -6.6152, -6.7684, -6.13, -5.1764, -6.4617, -4.0874, -5.8123, -6.3629, -6.0703, -6.2974, -5.6347, -4.789, -5.9026, -4.7634, -5.0268, -6.291, -4.1678, -5.2008, -4.8399, -4.1142, -4.9294, -3.7979, -4.9975, -4.6692, -4.9017, -4.6598, -4.5729, -4.6867, -4.8832, -5.1646, -4.6601, -4.8667, -4.7298, -4.8461, -5.1025, -5.0104, -5.0581, -5.1303, -5.5993, -5.8504, -5.8, -6.0356, -6.0558, -6.2229, -6.2532, -6.0204, -6.2778, -6.1715, -6.3275, -5.7573, -6.1663, -6.3462, -6.358, -6.3723, -6.3603, -5.3386, -6.3621, -6.3979, -6.4987, -6.2561, -6.5298, -6.3474, -6.533, -6.5278, -5.7164, -6.5727, -6.5397, -6.5529, -6.0669, -6.1433, -6.4269, -6.242, -5.2083, -5.7862, -6.1198, -5.7351, -6.2204, -5.4325, -5.0716, -4.8278, -5.5241, -5.5536, -4.255, -5.6894, -5.8037, -5.2063, -5.692, -5.831, -5.7686, -5.6327, -5.5432, -5.1899, -5.3, -5.3473, -4.7176, -4.8099, -5.5091, -5.4118, -4.7792, -5.0423, -5.3731, -5.6214, -5.5774, -5.5807, -5.529, -5.5933, -5.5906, -5.6085, -5.6273, -5.5996, -5.627, -4.6112, -5.3947, -5.5083, -5.7502, -5.7476, -5.8768, -6.0529, -5.5548, -5.8528, -6.0596, -5.9561, -6.1527, -6.1412, -6.0471, -6.197, -5.6722, -6.1645, -5.8366, -5.9849, -6.2527, -6.1577, -5.9844, -6.2512, -6.0701, -6.3213, -6.3252, -6.3293, -6.3474, -6.351, -6.2041, -5.6997, -5.9125, -5.4469, -6.2053, -6.2722, -6.1831, -5.4642, -5.251, -6.0147, -5.3024, -5.2124, -5.4819, -5.7544, -5.2923, -5.4532, -5.5058, -5.3355, -5.4568, -5.2076, -5.3225, -5.8328, -5.6339, -5.7463, -5.1157, -5.3894, -5.7286, -5.542, -5.306, -5.3221, -5.6273, -5.6489, -5.6328, -5.6803, -5.7109, -4.9006, -5.3177, -5.5583, -5.6632, -5.5812, -5.3319, -5.806, -5.6096, -5.8454, -6.0223, -5.5893, -6.0692, -5.3742, -6.1419, -5.9393, -6.218, -6.2067, -6.2477, -6.2533, -6.1917, -6.249, -6.1927, -6.0012, -6.1604, -6.3746, -5.9198, -5.8158, -6.4548, -6.1442, -6.49, -5.6921, -6.0038, -5.8295, -5.7159, -5.7611, -5.9986, -4.1492, -5.0956, -5.5349, -3.637, -4.7353, -5.4028, -5.5582, -5.9387, -5.6757, -5.1318, -5.7694, -5.4026, -5.3084, -5.3029, -5.3056, -5.4275, -5.6949, -5.6749, -5.5449, -5.6598, -5.6332, -5.6671, -4.0571, -5.3781, -5.3118, -5.7641, -5.9355, -5.6099, -5.8626, -5.8275, -5.8997, -5.9909, -5.9863, -6.0506, -5.9444, -5.7782, -6.0882, -5.6732, -6.0609, -6.1497, -6.145, -5.9139, -5.9826, -6.1855, -6.0323, -6.2359, -6.2383, -5.9108, -6.2095, -6.3173, -5.8235, -6.3311, -5.0989, -5.3359, -5.8716, -5.6736, -5.535, -5.627, -5.6958, -4.7645, -5.279, -5.3796, -5.4289, -5.4631, -5.673, -5.4529, -5.5434, -5.3886, -5.6244, -5.3859, -5.004, -5.2497, -5.1914, -5.3209, -5.3134, -5.5619, -5.4606, -5.6541, -5.6313, -5.6362, -5.3181, -5.0658, -5.356, -5.631, -5.649, -5.6903, -5.6469, -5.5058, -5.7512, -5.7826, -5.899, -5.9626, -5.9979, -6.0266, -5.951, -6.009, -6.0675, -6.0786, -6.0607, -5.2484, -6.1855, -6.2042, -6.2331, -6.1967, -6.284, -6.2889, -6.2337, -6.307, -6.3553, -6.3544, -5.6913, -5.8836, -6.0901, -6.0304, -6.0135, -5.2465, -5.9738, -5.7018, -5.1171, -5.5559, -5.6614, -5.1334, -5.7944, -5.6036, -5.2688, -5.37, -5.7975, -5.0017, -5.7732, -5.4446, -5.4672, -5.2894, -5.3529, -5.3368, -5.637, -5.6643, -5.5686, -5.724, -5.7308, -4.6499, -5.3945, -5.423, -5.7256, -5.6343, -5.7567, -5.3458, -5.8894, -5.6127, -5.8367, -5.9319, -5.9363, -5.9098, -5.7698, -5.8931, -5.8385, -6.041, -6.0441, -6.0237, -5.9334, -6.0491, -5.5047, -6.1151, -6.1695, -6.224, -6.1207, -6.2156, -5.9743, -5.9906, -6.2725, -5.8286, -5.8717, -5.9474, -5.5508, -6.0232, -5.187, -5.3779, -5.862, -5.5575, -5.2407, -5.6554, -5.2399, -5.6552, -5.5499, -5.5715, -5.2742, -5.451, -5.4224, -5.7151, -5.7161, -5.6662, -5.7085, -5.7909, -5.8101, -5.1874, -5.4115, -5.7425, -5.7115, -5.8868, -5.8545, -5.8974, -5.8898, -5.87, -5.9531, -5.993, -5.4476, -5.7624, -6.0123, -6.0893, -6.0685, -5.9811, -6.1256, -6.1059, -6.035, -6.1103, -5.9235, -6.1999, -6.2511, -6.2706, -6.298, -6.2615, -6.3234, -6.2815, -6.3398, -5.1562, -5.6439, -5.6465, -5.7382, -5.7898, -6.1313, -5.9133, -5.6691, -5.149, -4.2755, -4.4697, -5.4691, -5.1412, -4.3971, -5.1803, -5.1761, -5.2998, -5.192, -5.6538, -5.4377, -5.305, -5.744, -5.6519, -5.5123, -5.7773, -5.5428, -5.664, -5.4733, -5.6624, -5.7392, -5.3657, -5.6544, -5.1456, -5.8201, -5.8604, -5.8279, -5.8897, -5.8526, -5.93, -5.9502, -5.9266, -5.9229, -5.9541, -6.0035, -6.0475, -5.6058, -6.0477, -5.9117, -6.0421, -6.0995, -6.1203, -6.1273, -5.6242, -6.142, -6.1616, -6.2051, -6.1343, -6.2177, -6.2284, -6.2231, -5.5516, -5.8113, -5.9457, -5.9678, -6.077, -6.0312, -5.9419, -5.0908, -5.4669, -5.7694, -5.715, -4.9362, -5.9676, -4.8007, -5.6362, -5.6181, -5.184, -5.2683, -5.6999, -5.3397, -5.4125, -5.0835, -5.4893, -5.6768, -5.4563, -5.1647, -5.688, -5.6716, -5.6893, -5.6082, -5.4345, -5.4432, -5.5401, -5.6273, -5.622, -5.6402, -5.6373], \"loglift\": [30.0, 29.0, 28.0, 27.0, 26.0, 25.0, 24.0, 23.0, 22.0, 21.0, 20.0, 19.0, 18.0, 17.0, 16.0, 15.0, 14.0, 13.0, 12.0, 11.0, 10.0, 9.0, 8.0, 7.0, 6.0, 5.0, 4.0, 3.0, 2.0, 1.0, 2.0325, 2.0319, 2.0317, 2.031, 2.0308, 2.0306, 2.0306, 2.0304, 2.0302, 2.0301, 2.0301, 2.03, 2.0295, 2.0295, 2.0294, 2.0292, 2.0292, 2.0287, 2.0285, 2.0283, 2.0282, 2.0281, 2.0278, 2.0278, 2.0275, 2.0274, 2.0273, 2.0271, 2.0269, 2.0267, 2.0253, 2.0212, 2.0259, 2.0264, 2.0175, 1.9901, 1.9824, 2.0074, 2.0095, 1.9641, 1.9227, 1.9894, 1.7953, 1.935, 1.8981, 1.9794, 1.7628, 1.867, 1.6531, 1.9109, 1.8363, 1.8003, 1.7123, 1.8267, 1.6422, 1.9543, 1.8243, 1.4076, 0.9736, 1.8085, 1.7511, 1.689, 1.6336, 1.207, 1.4536, 1.1504, 0.8117, 0.7881, 1.1618, 1.5454, 0.7425, 1.6521, 1.1772, 1.2043, 0.6521, 1.1806, 1.4488, 0.94, 0.3402, 0.9495, 2.0642, 2.064, 2.0635, 2.0629, 2.0625, 2.0619, 2.0618, 2.0612, 2.0611, 2.0608, 2.0607, 2.0607, 2.0605, 2.0605, 2.0604, 2.0603, 2.0597, 2.0593, 2.0593, 2.0583, 2.0583, 2.0583, 2.0582, 2.0582, 2.0582, 2.0582, 2.0581, 2.0579, 2.0578, 2.0578, 2.0575, 2.0546, 2.0564, 2.0409, 2.0572, 2.0578, 2.0509, 2.03, 2.054, 2.0012, 2.0349, 2.0504, 2.0397, 2.0482, 2.0049, 1.9267, 2.0096, 1.8819, 1.9052, 2.0422, 1.7526, 1.8806, 1.781, 1.6292, 1.7795, 1.5018, 1.7838, 1.6999, 1.7053, 1.6155, 1.5683, 1.5825, 1.6521, 1.7651, 1.3199, 1.4052, 1.2688, 1.312, 1.5535, 1.1054, 1.2158, 1.3822, 2.136, 2.1355, 2.1354, 2.1349, 2.1342, 2.134, 2.134, 2.134, 2.134, 2.1339, 2.1337, 2.1337, 2.1336, 2.1336, 2.1336, 2.1335, 2.1335, 2.1334, 2.133, 2.133, 2.1328, 2.1327, 2.1327, 2.1326, 2.1326, 2.1324, 2.1324, 2.1323, 2.1323, 2.1319, 2.1305, 2.1306, 2.1313, 2.1279, 2.1043, 2.1125, 2.1215, 2.0916, 2.1167, 2.0307, 1.9904, 1.9568, 2.0047, 2.0018, 1.7647, 2.0094, 2.028, 1.8786, 1.9836, 1.9887, 1.9247, 1.8538, 1.8003, 1.5213, 1.5897, 1.6084, 1.1879, 0.9247, 1.5691, 1.4497, 0.6952, 0.9106, 0.796, 1.4216, 0.9604, 0.9748, 0.4089, 0.9229, 0.7223, 0.8043, 1.0532, 0.399, 0.3515, 2.3961, 2.3948, 2.3946, 2.394, 2.394, 2.3934, 2.3927, 2.3927, 2.3925, 2.3924, 2.3924, 2.3923, 2.3921, 2.3921, 2.3921, 2.3921, 2.392, 2.3918, 2.3918, 2.3917, 2.3917, 2.3917, 2.3916, 2.3915, 2.3913, 2.3913, 2.3913, 2.3912, 2.3912, 2.3911, 2.3887, 2.39, 2.384, 2.3909, 2.391, 2.3891, 2.3606, 2.33, 2.3722, 2.2016, 2.1679, 2.2239, 2.2787, 2.1145, 2.1528, 2.1461, 2.0709, 2.1229, 1.951, 1.8981, 2.2365, 2.0454, 2.0907, 1.1972, 1.4127, 2.04, 1.6619, 0.5819, 0.1523, 0.9408, 0.289, -0.333, 0.6507, 0.242, 2.3999, 2.399, 2.3984, 2.3983, 2.3983, 2.3982, 2.3978, 2.3977, 2.3969, 2.3969, 2.3968, 2.3967, 2.3967, 2.3964, 2.3962, 2.396, 2.3959, 2.3959, 2.3958, 2.3958, 2.3958, 2.3957, 2.3949, 2.3949, 2.3949, 2.3948, 2.3948, 2.3946, 2.3944, 2.3943, 2.3928, 2.393, 2.3898, 2.3883, 2.3874, 2.3914, 2.3393, 2.3592, 2.3704, 2.2891, 2.1794, 2.219, 2.2542, 2.3284, 2.1147, 1.5965, 2.161, 1.723, 1.5956, 1.5205, 1.3245, 1.253, 1.9403, 1.618, 0.8679, 1.4687, 0.8078, 0.8604, 2.4028, 2.4013, 2.4012, 2.4002, 2.3995, 2.3995, 2.3994, 2.3994, 2.3994, 2.3993, 2.3992, 2.3988, 2.3988, 2.3987, 2.3987, 2.3986, 2.3985, 2.3985, 2.3984, 2.3984, 2.3981, 2.3981, 2.3981, 2.3981, 2.398, 2.3978, 2.3978, 2.3976, 2.3975, 2.3975, 2.3969, 2.3953, 2.397, 2.3916, 2.3837, 2.3827, 2.3805, 2.3279, 2.345, 2.3335, 2.3132, 2.2165, 2.2734, 2.182, 2.1182, 1.9911, 2.1044, 1.8445, 1.3927, 1.1042, 0.7886, 0.953, 0.43, 0.8072, -0.1609, 1.0468, 0.2566, -0.1619, 2.4079, 2.4077, 2.4074, 2.4071, 2.4069, 2.4068, 2.4066, 2.4066, 2.4065, 2.4064, 2.4061, 2.4058, 2.4056, 2.4055, 2.4055, 2.4053, 2.4053, 2.4053, 2.4051, 2.4048, 2.4048, 2.4047, 2.4045, 2.4045, 2.4042, 2.4042, 2.4041, 2.4041, 2.4038, 2.4038, 2.4018, 2.4031, 2.4033, 2.4009, 2.3994, 2.3824, 2.3969, 2.3801, 2.3079, 2.3472, 2.3333, 2.1735, 2.3155, 2.2271, 2.0759, 2.0761, 2.2515, 1.6765, 2.2295, 1.9648, 1.8776, 1.4265, 1.4639, 1.1647, 1.5588, 1.6308, 0.6365, 0.8931, 0.7427, 2.4098, 2.4085, 2.4083, 2.4076, 2.4075, 2.4075, 2.4073, 2.407, 2.4069, 2.4069, 2.4068, 2.4068, 2.4067, 2.4066, 2.4065, 2.4064, 2.4064, 2.4062, 2.4061, 2.4061, 2.406, 2.4059, 2.4059, 2.4057, 2.4054, 2.4054, 2.4054, 2.4053, 2.4053, 2.4052, 2.4029, 2.4009, 2.402, 2.3802, 2.3989, 2.2894, 2.2764, 2.3528, 2.2617, 2.0973, 2.2381, 1.8702, 2.0946, 1.9769, 1.6813, 1.0568, 1.3535, 1.214, 1.9212, 1.5148, 0.8073, 1.1084, 0.4142, 0.1684, 2.4378, 2.4373, 2.4362, 2.436, 2.4357, 2.4357, 2.4356, 2.4356, 2.4356, 2.4354, 2.4353, 2.4353, 2.4352, 2.4352, 2.4348, 2.4348, 2.4347, 2.4347, 2.4346, 2.4346, 2.4345, 2.4343, 2.434, 2.4339, 2.4339, 2.4337, 2.4336, 2.4335, 2.4335, 2.4334, 2.4332, 2.4328, 2.432, 2.4262, 2.4265, 2.4312, 2.4249, 2.4098, 2.3463, 2.2574, 2.2409, 2.3559, 2.3095, 2.1714, 2.2704, 2.2155, 2.0457, 1.8998, 2.2047, 2.0202, 1.6557, 2.1836, 2.0176, 1.7262, 2.1563, 1.3762, 1.4958, -0.1736, 1.2129, 1.8564, 2.4499, 2.4488, 2.4485, 2.4484, 2.4484, 2.4483, 2.4482, 2.4481, 2.4481, 2.448, 2.4479, 2.4478, 2.4477, 2.4475, 2.4475, 2.4475, 2.4473, 2.4472, 2.4472, 2.4471, 2.447, 2.447, 2.447, 2.447, 2.447, 2.4467, 2.4467, 2.4466, 2.4466, 2.4466, 2.4459, 2.4464, 2.4455, 2.4452, 2.4451, 2.4436, 2.4383, 2.3855, 2.4046, 2.4137, 2.407, 2.2406, 2.4321, 2.171, 2.343, 2.3343, 2.1664, 2.167, 2.3059, 2.1032, 2.115, 1.8441, 2.0399, 2.2081, 1.9949, 1.6751, 2.1539, 2.0897, 2.0006, 1.7429, 1.1564, 1.1844, 1.3166, 1.5554, 0.8691, 0.3383, -0.1629]}, \"token.table\": {\"Topic\": [10, 1, 2, 3, 2, 5, 9, 1, 2, 3, 4, 5, 6, 7, 8, 9, 10, 1, 2, 3, 4, 6, 7, 8, 9, 10, 6, 8, 4, 5, 8, 1, 10, 6, 7, 3, 9, 1, 10, 10, 2, 4, 8, 9, 8, 2, 2, 4, 7, 6, 1, 2, 3, 4, 5, 6, 7, 8, 9, 10, 6, 8, 3, 9, 1, 2, 7, 1, 2, 3, 4, 5, 6, 7, 9, 10, 6, 7, 1, 2, 3, 4, 5, 6, 7, 8, 9, 10, 4, 8, 3, 1, 2, 5, 6, 7, 8, 9, 10, 1, 2, 3, 4, 5, 6, 7, 8, 9, 10, 1, 2, 3, 4, 5, 6, 7, 8, 9, 10, 1, 3, 4, 5, 7, 8, 9, 10, 5, 1, 2, 3, 4, 5, 6, 7, 8, 9, 10, 5, 6, 2, 4, 2, 3, 6, 10, 5, 1, 5, 7, 8, 1, 2, 3, 4, 5, 6, 7, 8, 9, 10, 6, 2, 1, 2, 3, 9, 5, 7, 8, 10, 5, 6, 9, 2, 5, 9, 9, 5, 7, 8, 2, 6, 8, 9, 10, 2, 3, 8, 9, 1, 8, 10, 4, 5, 7, 9, 10, 2, 6, 7, 9, 2, 4, 6, 7, 8, 9, 10, 7, 1, 2, 3, 4, 5, 6, 7, 8, 9, 10, 9, 8, 1, 6, 2, 4, 7, 8, 9, 8, 8, 1, 2, 3, 4, 5, 6, 7, 8, 9, 10, 5, 7, 8, 9, 10, 5, 10, 8, 1, 2, 3, 4, 5, 6, 7, 8, 9, 10, 1, 3, 7, 3, 6, 3, 1, 2, 3, 4, 5, 6, 7, 8, 9, 10, 3, 7, 1, 4, 5, 9, 10, 1, 3, 5, 6, 10, 5, 10, 9, 10, 1, 2, 3, 4, 5, 6, 7, 8, 9, 10, 1, 7, 10, 1, 4, 5, 6, 8, 9, 10, 1, 2, 3, 4, 5, 6, 7, 8, 9, 10, 10, 3, 1, 2, 3, 4, 5, 6, 7, 8, 9, 10, 1, 2, 3, 4, 5, 6, 7, 8, 9, 10, 1, 2, 3, 4, 5, 6, 7, 8, 9, 10, 1, 7, 9, 1, 9, 6, 3, 4, 6, 7, 8, 9, 10, 4, 8, 1, 2, 3, 4, 5, 6, 7, 8, 9, 10, 1, 3, 10, 1, 2, 3, 7, 8, 9, 4, 9, 8, 3, 6, 8, 5, 1, 2, 4, 4, 6, 7, 4, 1, 2, 3, 4, 5, 6, 7, 8, 9, 10, 4, 1, 2, 3, 4, 5, 6, 7, 8, 9, 10, 7, 2, 4, 7, 7, 8, 9, 10, 10, 6, 1, 2, 3, 4, 5, 6, 7, 8, 9, 10, 4, 6, 7, 8, 10, 1, 2, 3, 4, 5, 6, 7, 8, 9, 10, 6, 10, 1, 2, 3, 4, 5, 6, 7, 8, 9, 10, 10, 5, 8, 1, 5, 7, 9, 2, 5, 6, 7, 9, 10, 1, 7, 3, 5, 8, 10, 3, 5, 8, 7, 2, 3, 4, 5, 6, 7, 8, 9, 10, 9, 2, 3, 9, 3, 10, 4, 4, 1, 9, 5, 10, 9, 4, 9, 2, 4, 5, 6, 7, 8, 9, 10, 1, 2, 3, 4, 5, 6, 7, 8, 9, 10, 6, 2, 5, 7, 8, 10, 10, 3, 6, 10, 3, 1, 2, 3, 5, 8, 6, 2, 5, 6, 7, 8, 9, 10, 10, 1, 2, 3, 4, 7, 8, 9, 10, 7, 5, 5, 10, 1, 2, 3, 4, 5, 6, 7, 9, 10, 1, 1, 5, 6, 7, 8, 10, 2, 4, 5, 8, 1, 2, 3, 4, 5, 7, 9, 10, 1, 3, 4, 5, 6, 7, 8, 9, 10, 2, 5, 9, 2, 8, 10, 7, 8, 10, 1, 3, 4, 7, 8, 2, 5, 9, 1, 3, 4, 6, 8, 10, 1, 9, 4, 5, 7, 1, 4, 5, 6, 7, 8, 9, 10, 1, 7, 2, 3, 10, 4, 3, 9, 6, 2, 3, 4, 6, 7, 9, 2, 1, 2, 3, 4, 5, 6, 7, 8, 9, 10, 1, 7, 1, 2, 3, 4, 5, 6, 7, 8, 9, 10, 7, 9, 2, 4, 8, 1, 2, 3, 5, 7, 8, 9, 10, 1, 3, 4, 5, 6, 7, 9, 10, 3, 4, 5, 7, 9, 10, 2, 4, 6, 7, 10, 1, 3, 4, 6, 8, 9, 2, 7, 9, 1, 2, 4, 5, 6, 7, 8, 9, 10, 3, 4, 7, 1, 2, 3, 4, 5, 6, 7, 8, 9, 10, 1, 2, 3, 4, 5, 6, 7, 8, 9, 10, 1, 2, 3, 4, 5, 6, 7, 8, 9, 10, 1, 3, 4, 7, 9, 10, 6, 7, 8, 1, 2, 3, 5, 6, 7, 8, 9, 10, 1, 9, 3, 1, 2, 4, 5, 6, 7, 2, 1, 2, 3, 4, 5, 6, 7, 8, 9, 10, 4, 5, 9, 2, 4, 10, 2, 9, 6, 2, 8, 10, 2, 3, 6, 9, 10, 4, 1, 3, 4, 6, 8, 1, 2, 5, 7, 9, 10, 9, 1, 3, 4, 6, 7, 10, 1, 2, 3, 4, 5, 6, 7, 8, 9, 10, 3, 1, 2, 3, 4, 6, 10, 1, 2, 3, 4, 5, 6, 7, 8, 9, 10, 1, 2, 3, 4, 5, 6, 7, 8, 9, 10, 3, 4, 6, 8, 9, 1, 3, 5, 9, 10, 2, 5, 6, 10, 10, 3, 1, 4, 6, 7, 10, 5, 10, 9, 3, 1, 2, 3, 4, 5, 6, 7, 8, 9, 10, 10, 3, 4, 1, 2, 3, 4, 5, 6, 7, 8, 9, 10, 6, 4, 5, 1, 7, 5, 1, 5, 6, 7, 8, 9, 10, 1, 2, 3, 4, 5, 6, 7, 8, 9, 10, 7, 4, 8, 2, 4, 5, 6, 7, 9, 10, 10, 9, 7, 9, 10, 1, 2, 3, 4, 6, 4, 1, 2, 3, 4, 5, 6, 7, 8, 9, 10, 6, 9, 10, 3, 10, 1, 2, 3, 4, 5, 6, 7, 8, 9, 10, 4, 1, 5, 2, 5, 6, 7, 8, 9, 10, 3, 5, 6, 7, 8, 9, 10, 1, 1, 4, 5, 6, 7, 7, 7, 8, 9, 7, 1, 2, 3, 4, 6, 7, 9, 10, 1, 2, 7, 1, 4, 6, 7, 8, 10, 1, 2, 3, 4, 5, 6, 7, 8, 9, 10, 3, 4, 5, 6, 9, 1, 2, 3, 4, 5, 6, 7, 8, 9, 10, 8, 1, 3, 4, 5, 6, 7, 9, 10, 4, 6, 8, 10, 10, 1, 2, 3, 4, 6, 7, 8, 10, 5, 10, 6, 2, 10, 2, 4, 5, 6, 7, 8, 9, 10, 4, 6, 8, 1, 3, 4, 5, 6, 7, 8, 9, 10, 2, 5, 7, 10, 4, 1, 3, 4, 6, 10, 5, 1, 2, 3, 4, 5, 6, 7, 8, 9, 10, 3, 6, 8, 4, 2, 6, 1, 3, 4, 7, 9, 10, 1, 5, 6, 2, 6, 3, 1, 2, 3, 5, 6, 7, 8, 9, 10, 1, 2, 3, 5, 6, 8, 2, 7, 8, 8, 1, 2, 3, 4, 5, 6, 7, 8, 9, 10, 9, 5, 6, 7, 8, 10, 1, 7, 7, 8, 7, 1, 9, 4, 1, 3, 4, 5, 8, 2, 2, 4, 8, 9, 10, 3, 10, 1, 2, 3, 4, 5, 6, 7, 8, 9, 10, 1, 2, 3, 4, 5, 6, 7, 8, 9, 10, 1, 2, 3, 4, 5, 6, 7, 8, 9, 10, 2, 8, 1, 2, 2, 5, 6, 7, 10, 3, 7, 9, 1, 10, 2, 1, 2, 3, 4, 5, 6, 7, 9, 10, 1, 3, 5, 6, 7, 8, 9, 4, 1, 3, 1, 6, 9, 5, 5, 9, 1, 2, 3, 4, 5, 6, 7, 8, 9, 10, 1, 4, 5, 6, 7, 8, 1, 3, 10, 8, 2, 3, 8, 2, 7, 9, 10, 1, 2, 3, 4, 5, 6, 7, 8, 9, 10, 3, 1, 2, 3, 4, 5, 6, 7, 8, 9, 10, 4, 4, 4, 6, 4, 7, 5, 1, 9, 9, 1, 3, 8, 1, 1, 1, 2, 3, 4, 5, 6, 7, 8, 9, 8, 7, 8, 1, 1, 4, 10, 10, 1, 3, 5, 10, 3, 5, 7, 8, 10, 8, 9, 1, 3, 6, 8, 1, 7, 1, 2, 3, 4, 5, 6, 7, 8, 9, 10, 2, 7, 9, 3, 4, 5, 6, 9, 10, 5, 7, 2, 1, 2, 3, 4, 5, 6, 7, 8, 9, 10, 5, 6, 9, 10, 3, 4, 6, 8, 10, 5, 8, 6, 1, 2, 3, 4, 5, 6, 7, 8, 9, 10, 1, 2, 3, 4, 5, 6, 7, 8, 9, 10, 1, 1, 2, 3, 4, 5, 6, 7, 8, 9, 10, 10, 7, 1, 6, 8, 1, 2, 3, 4, 5, 6, 7, 8, 9, 10, 5, 10, 2, 3, 4, 5, 7, 9, 10, 3, 4, 5, 6, 10, 1, 3, 4, 5, 6, 7, 8, 9, 10, 3, 4, 8, 9, 3, 4, 9, 8, 1, 3, 7, 2, 3, 5, 7, 10, 6, 8, 9, 10, 5, 3, 4, 5, 7, 8, 9, 10, 8, 1, 3, 4, 5, 6, 7, 8, 9, 10, 1, 3, 5, 9, 5, 6, 1, 2, 3, 4, 5, 6, 9, 4, 5, 6, 7, 8, 10, 6, 3, 1, 2, 3, 4, 5, 6, 7, 8, 9, 10, 4, 5, 6, 2, 3, 4, 6, 7, 8, 9, 10, 1, 3, 4, 7, 8, 10, 1, 3, 6, 9, 3, 4, 2, 6, 2, 8, 1, 2, 3, 4, 5, 6, 7, 8, 9, 10, 1, 2, 3, 4, 5, 6, 7, 8, 9, 10, 8, 5, 2, 3, 3, 8, 6, 5, 6, 1, 7, 10, 1, 2, 3, 4, 5, 6, 7, 8, 9, 10, 1, 2, 3, 4, 5, 6, 7, 8, 9, 10, 5, 10, 2, 4, 2, 1, 5, 6, 1, 3, 9, 10, 6, 4, 7, 1, 2, 3, 4, 5, 6, 7, 8, 9, 10, 7, 7, 9, 1, 3, 4, 5, 1, 2, 3, 4, 5, 6, 7, 8, 9, 10, 5, 10, 4, 1, 2, 4, 5, 6, 7, 8, 9, 10, 5, 6, 1, 6, 4, 1, 2, 3, 4, 5, 6, 7, 8, 9, 10, 4, 3, 10, 1, 3, 4, 5, 6, 7, 8, 9, 10, 4, 2, 4, 5, 6, 7, 8, 9, 10, 6, 1, 2, 3, 4, 5, 6, 7, 8, 9, 10, 5, 10, 1, 5, 7, 2, 1, 9, 5, 4, 3, 3, 7, 2, 9, 1, 2, 3, 4, 5, 6, 7, 8, 9, 10, 4, 9, 10, 1, 4, 5, 6, 7, 8, 9, 10, 8, 9, 10, 2, 2, 3, 5, 6, 7, 8, 9, 10, 3, 6, 7, 8, 9, 10, 4, 5, 10, 1, 3, 5, 6, 1, 2, 3, 4, 5, 6, 7, 8, 9, 10, 3, 3, 4, 7, 1, 2, 3, 4, 5, 6, 7, 8, 9, 10, 7, 1, 3, 5, 7, 8, 4, 9, 7, 8, 2, 7, 10, 9, 1, 1, 1, 2, 3, 4, 5, 6, 7, 8, 9, 10, 4, 5, 7, 8, 9, 8, 1, 2, 3, 4, 5, 6, 7, 8, 9, 10, 1, 3, 6, 10, 2, 4, 5, 6, 7, 9, 6, 5, 6, 7, 9, 10, 2, 3, 4, 5, 7, 8, 9, 9, 1, 4, 5, 7, 8, 9, 10, 3, 3, 4, 5, 6, 7, 9, 8, 2, 6, 10, 5, 10, 6, 1, 2, 3, 4, 5, 6, 7, 8, 9, 10, 4, 1, 4, 5, 7, 8, 9, 10, 2, 4, 7, 1, 3, 7, 1, 8, 2, 4, 5, 6, 7, 8, 9, 10, 2, 9, 3, 9, 9, 7, 5, 1, 2, 3, 4, 5, 6, 7, 8, 9, 10, 1, 3, 4, 5, 6, 7, 8, 9, 10, 9, 10, 1, 2, 3, 4, 5, 6, 7, 8, 9, 10, 5, 4, 5, 6, 7, 8, 9, 10, 4, 1, 2, 10, 9, 10, 1, 2, 3, 4, 5, 6, 7, 8, 9, 10, 3, 4, 7, 9, 1, 2, 3, 4, 5, 6, 7, 8, 9, 10, 1, 3, 8, 9, 1, 2, 3, 4, 5, 6, 7, 8, 9, 10, 3, 4, 6, 8, 9, 3, 7, 1, 2, 3, 4, 5, 6, 7, 8, 9, 10, 1, 2, 5, 7, 8, 9, 10, 6, 1, 2, 3, 4, 5, 6, 7, 8, 9, 10, 1, 2, 3, 4, 5, 6, 7, 8, 9, 10, 3, 1, 2, 3, 4, 5, 6, 7, 8, 9, 10, 2, 3, 5, 10, 9, 2, 6, 1, 2, 3, 4, 5, 6, 7, 8, 9, 10, 4, 5, 7, 10], \"Freq\": [0.9920345766408935, 0.9956205094918037, 0.9892239014381464, 0.9959354045059634, 0.9884148164264894, 0.0031378248140523472, 0.004706737221078521, 0.09043108337586914, 0.36110915606554544, 0.041216888341382533, 0.06643916329655691, 0.058441856603452844, 0.27252360500346956, 0.022761565203450056, 0.01230354875862165, 0.012918726196552734, 0.06274809866897042, 0.15832506629570642, 0.0010918970089359061, 0.10918970089359062, 0.1212005679918856, 0.004367588035743625, 0.015286558125102687, 0.007643279062551344, 0.039308292321692626, 0.5437647104500813, 0.9925384644546426, 0.005781777462842578, 0.7208502263500165, 0.16567217916112847, 0.1110356094377776, 0.2560664417972892, 0.7409582145623688, 0.024239646024343857, 0.9695858409737542, 0.0042325538593582426, 0.9925338800195078, 0.9475090574169237, 0.04907417428852593, 0.9969037877430151, 0.008033590651464041, 0.9640308781756849, 0.005355727100976027, 0.018745044853416094, 0.9972699223795826, 0.9960718277527025, 0.003485759143331661, 0.9899555967061917, 0.9974725778118287, 0.994502837940717, 0.0007375020776677815, 0.661539363668, 0.0007375020776677815, 0.050887643359076924, 0.011800033242684504, 0.13201287190253289, 0.05015014128140914, 0.002950008310671126, 0.05383765166974805, 0.036137601805721294, 0.9925808140180551, 0.00487754699763172, 0.99031965717124, 0.0041962697337764405, 0.973717362025043, 0.01881579443526653, 0.9969995699539688, 0.0008034128103247733, 0.7519943904639877, 0.00482047686194864, 0.06427302482598186, 0.05382865829175981, 0.07552080417052869, 0.015264843396170692, 0.00241023843097432, 0.031333099602666156, 0.9968585728316277, 0.9977768384850042, 0.06517189024569503, 0.5162747131637232, 0.04136998250378902, 0.08727366172032204, 0.009634105514581003, 0.11957625079862305, 0.05043737592927702, 0.04136998250378902, 0.031169164900115013, 0.03740299788013802, 0.9960004783227691, 0.9939618711603692, 0.9936495720674697, 0.001701619684874942, 0.01616538700631195, 0.16335548974799444, 0.05615344960087309, 0.47985675113473364, 0.10464961061980893, 0.10720204014712136, 0.0706172169223101, 0.03734150093550036, 0.04420014396446981, 0.048772572650449444, 0.23319386298496142, 0.17299021861956287, 0.1615591469046138, 0.09221064516725598, 0.07544507331866399, 0.09221064516725598, 0.041913929621479995, 0.06274585243463097, 0.008556252604722406, 0.036364073570070224, 0.07771929449289519, 0.13547399957477144, 0.08199742079525639, 0.28806050435898767, 0.13190889432280375, 0.10837919965981714, 0.06845002083777925, 0.05513038564877687, 0.05215036480289704, 0.03576025015055797, 0.010430072960579408, 0.10132070875991425, 0.11324079214343358, 0.49021342914723215, 0.14304100060223188, 0.993273099526022, 0.1542732130506335, 0.02831864458737656, 0.16737586950150923, 0.09214126149325508, 0.10143992091000559, 0.06847194661425378, 0.10566658428125582, 0.10608925061838084, 0.05494662382625303, 0.12088257241775666, 0.02066197212451409, 0.9780000138936669, 0.9864178179452062, 0.01146997462726984, 0.06179857724095091, 0.006437351795932387, 0.9269786586142637, 0.002574940718372955, 0.9947227960374145, 0.9962748199644356, 0.07479113725919989, 0.9081780952902845, 0.0106844481798857, 0.11196470219149629, 0.11516369368268191, 0.06397982982371217, 0.10236772771793946, 0.4467924782689233, 0.073576804297269, 0.0063979829823712165, 0.015994957455928042, 0.027724592923608606, 0.036255236900103564, 0.9946885925306332, 0.9961395792797708, 0.9943371127553862, 0.11982300119547121, 0.07814543556226383, 0.7988200079698081, 0.0022015488114277633, 0.9730845746510713, 0.0022015488114277633, 0.01981393930284987, 0.9975178358042425, 0.9948056268583269, 0.9984453159107486, 0.992845483121752, 0.07767517639163336, 0.9187098449079395, 0.9914394571397286, 0.02333981529653953, 0.9030713149353372, 0.07181481629704471, 0.9652413564490807, 0.023084995072025848, 0.002885624384003231, 0.005771248768006462, 0.0014428121920016155, 0.9925122853693288, 0.004726248977949185, 0.0011815622444872962, 0.0011815622444872962, 0.99839678885975, 0.10000644599987994, 0.8969328125614232, 0.08671261620622617, 0.08004241495959338, 0.33517761264329726, 0.0050026509349745864, 0.49192734193916765, 0.27196678169780675, 0.001658334034742724, 0.04809168700753899, 0.6749419521402886, 0.8314412490307099, 0.03565138586961696, 0.07384929930134942, 0.014005901591635237, 0.0025465275621154976, 0.03947117721279021, 0.0038197913431732462, 0.9954163903015129, 0.4372598664469336, 0.0006516540483560858, 0.2065743333288792, 0.06972698317410118, 0.1055679558336859, 0.031931048369448205, 0.03909924290136515, 0.02476285383753126, 0.054738940061911205, 0.028672778127667775, 0.9940776054060314, 0.9981659521791368, 0.9568345427159525, 0.04124286822051519, 0.9913840929090886, 0.9928862373755662, 0.832383056224248, 0.00269379629846035, 0.16162777790762098, 0.9956539816794426, 0.9970448440659596, 0.5572418754648314, 0.001243843472019713, 0.16543118177862184, 0.05224142582482795, 0.039802991104630814, 0.03607146068857168, 0.07214292137714336, 0.001243843472019713, 0.009950747776157703, 0.06343601707300536, 0.005792380760281483, 0.9383656831656003, 0.023169523041125933, 0.011584761520562967, 0.01737714228084445, 0.9959358450317455, 0.9959737503069722, 0.9972828176406288, 0.07903350231804339, 0.014635833762600628, 0.011708667010080501, 0.607387101147926, 0.04244391791154182, 0.10830516984324463, 0.01024508363382044, 0.08781500257560376, 0.01024508363382044, 0.02780808414894119, 0.9956306379132452, 0.004821677246896509, 0.9884438356137843, 0.9941533712206061, 0.991723352767815, 0.9932744690214069, 0.2508106373012114, 0.08360354576707045, 0.17735315291363976, 0.12134689409880614, 0.03571413605583592, 0.06371726546325272, 0.07913927876009097, 0.05073030689749421, 0.05681794372519351, 0.08076264858081078, 0.9949885167579351, 0.9953864781822627, 0.7083318362204656, 0.1450393759880001, 0.0016865043719534894, 0.0016865043719534894, 0.14166636724409312, 0.9050764040067758, 0.0024071180957627013, 0.0024071180957627013, 0.07702777906440644, 0.012035590478813508, 0.9941647917014852, 0.9937969397747453, 0.9948308183090944, 0.9977920278777372, 0.12446380181239015, 0.17320487105360588, 0.03307429698511067, 0.11837116815723818, 0.10096364342823257, 0.2576313659892831, 0.060926336551519654, 0.013055643546754212, 0.0452595642954146, 0.0722412276253733, 0.9952117435498905, 0.03448866323299436, 0.9618504968312872, 0.006878442298228939, 0.05044191018701222, 0.0641987947834701, 0.08024849347933762, 0.05732035248524116, 0.6557448324311588, 0.08483412167815692, 0.6751280960844802, 0.08511643618257057, 0.07447688165974925, 0.07060795274235968, 0.008705090064126536, 0.003868928917389571, 0.0019344644586947856, 0.017410180128253072, 0.03578759248585354, 0.028049734651074392, 0.9925934431351744, 0.9928996672411661, 0.23263165220044885, 0.005313920989350354, 0.24266905851366619, 0.3011221893965201, 0.03306439726706887, 0.04841572456963656, 0.030702654605135382, 0.033654832932552246, 0.02420786228481828, 0.04723485323866981, 0.002338683716573693, 0.6461449011219317, 0.021048153449163234, 0.0183753720587933, 0.05245333478600997, 0.1389846322992366, 0.04176220922453023, 0.012361613930460948, 0.031405181336846735, 0.03508025574860539, 0.12650159535962058, 0.24915035025143548, 0.049444786003506526, 0.04045482491195988, 0.023759182884801836, 0.36409342420763896, 0.035959844366186565, 0.0006421400779676172, 0.05715046693911793, 0.05265548639334461, 0.9958194055062267, 0.0034449189667044053, 0.9921366624108687, 0.8829365715504528, 0.11367147478044752, 0.9913048712945265, 0.16498584756971812, 0.0016665237128254354, 0.0016665237128254354, 0.0016665237128254354, 0.06166137737454112, 0.016665237128254354, 0.7516021944842715, 0.9991124707541569, 0.9938000169944591, 0.003208774089702848, 0.01804935425457852, 0.001203290283638568, 0.0200548380606428, 0.8936435839822432, 0.001203290283638568, 0.012032902836385681, 0.013637289881237104, 0.006417548179405696, 0.030884450613389916, 0.15209688209281133, 0.2082557308655417, 0.6364669527576106, 0.0030497026353020883, 0.008386682247080742, 0.103689889600271, 0.10826444355322414, 0.01143638488238283, 0.7647129358019986, 0.994900319571763, 0.9975667610096043, 0.9934494270353683, 0.14161528236028462, 0.12670841053288623, 0.7279522409046209, 0.9960413156268049, 0.9875637113133962, 0.006561885125005954, 0.003280942562502977, 0.016109120432744293, 0.9794345223108529, 0.0032218240865488582, 0.9928630720580999, 0.5589619912378222, 0.03004018379013248, 0.1759496479136331, 0.07939191430249298, 0.011801500774694903, 0.0064371822407426746, 0.0032185911203713373, 0.019311546722228023, 0.07080900464816942, 0.04291454827161783, 0.9949946908217431, 0.43568767679993126, 0.06236483644054682, 0.24079756292322244, 0.046773627330410114, 0.024252991949101542, 0.04330891419482418, 0.020788278813515606, 0.02165445709741209, 0.046773627330410114, 0.05716776673716792, 0.9971950956123085, 0.9961686596725872, 0.9951887762095758, 0.9964115668224539, 0.005612103196008408, 0.033672619176050446, 0.005612103196008408, 0.9540575433214293, 0.9973313408756207, 0.9952188896765817, 0.17644356724805482, 0.0012693781816406821, 0.5661426690117443, 0.04442823635742388, 0.07743206908008161, 0.008885647271484776, 0.006346890908203411, 0.026656941814454327, 0.025387563632813644, 0.06727704362695616, 0.6987384235949653, 0.1291147087077653, 0.002531660955054222, 0.1493679963481991, 0.017721626685379556, 0.2875789601968156, 0.029857924829177575, 0.386581553051457, 0.05932298222639229, 0.041251080356100596, 0.03260799685291762, 0.02082197389403173, 0.03221512942095475, 0.058930114794429424, 0.051072766155172165, 0.0033654152771732627, 0.9961629220432857, 0.05587216517182824, 0.4744901299819656, 0.05417906925753042, 0.05079287742893476, 0.021586972907297275, 0.19893876992999449, 0.041480849900296726, 0.00931202752863804, 0.028359356564488576, 0.06476091872189182, 0.9950244573187644, 0.995178138175247, 0.9946063448277673, 0.010349948244891917, 0.750371247754664, 0.0025874870612229792, 0.23546132257129113, 0.9374873109274043, 0.000943620846429194, 0.000471810423214597, 0.014626123119652508, 0.04482199020538672, 0.000943620846429194, 0.9972916459439809, 0.9967975994713775, 0.9956834535248051, 0.03965317845772196, 0.0036048344052474514, 0.9552811173905746, 0.004866476739707135, 0.004866476739707135, 0.9878947781605484, 0.9962276662479568, 0.0031536162763496967, 0.5781629839974444, 0.10196692626864019, 0.09145487201414121, 0.051509065847045045, 0.03994580616709616, 0.02943375191259717, 0.025228930210797574, 0.08094281775964221, 0.9961360039817111, 0.0070823410386067496, 0.878210288787237, 0.11095667627150574, 0.005129975133410398, 0.9900852007482068, 0.9950500017176314, 0.9968234098902146, 0.024169986867181283, 0.9702523299539915, 0.992299749932756, 0.9945495754961866, 0.9940682552952177, 0.9931242671542094, 0.00431793159632265, 0.8323017021646701, 0.005762721973444798, 0.0016464919924127994, 0.05515748174582878, 0.0008232459962063997, 0.0008232459962063997, 0.07244564766616318, 0.03046010185963679, 0.04475712960680934, 0.6081996612125313, 0.024367770563707307, 0.04973014400756593, 0.05818426848885214, 0.07608712033157587, 0.03729760800567445, 0.008454124481286207, 0.055200459848398185, 0.037794909445750105, 0.994086022438333, 0.005956004553197886, 0.005956004553197886, 0.002978002276598943, 0.9708287421712555, 0.00893400682979683, 0.9908079437517237, 0.12517161426937629, 0.006419057142019296, 0.8633631856015954, 0.9970101836035663, 0.15225227138401695, 0.003309831986609064, 0.7132687931142534, 0.029788487879481577, 0.09929495959827193, 0.9948185120361692, 0.6972920794154606, 0.003961886814860572, 0.050712151230215316, 0.03961886814860571, 0.0007923773629721143, 0.09904717037151428, 0.10776332136420755, 0.9976528813156932, 0.15079426146383623, 0.010052950764255749, 0.0879633191872378, 0.002513237691063937, 0.005026475382127874, 0.007539713073191812, 0.04272504074808694, 0.6961668404247107, 0.9962700470133049, 0.994841840159881, 0.00482233524315587, 0.9934010600901092, 0.7247746191470897, 0.06621105819288259, 0.0023646806497458067, 0.057934675918772265, 0.0011823403248729034, 0.061481696893390975, 0.0342878694213142, 0.0023646806497458067, 0.050840633969534844, 0.9963650660800683, 0.7970457284975689, 0.004452769432947312, 0.002226384716473656, 0.08905538865894624, 0.10464008167426184, 0.002226384716473656, 0.9967015467630699, 0.004741591864713156, 0.9957342915897627, 0.9944607609901758, 0.01930107190831186, 0.7509871615234069, 0.028074286412089977, 0.00965053595415593, 0.07983625198438088, 0.02895160786246779, 0.00965053595415593, 0.07194035893098057, 0.0636970763191593, 0.8617839737298023, 0.0012489622807678293, 0.013738585088446123, 0.0424647175461062, 0.0012489622807678293, 0.0037468868423034883, 0.008742735965374806, 0.0012489622807678293, 0.23290689431725564, 0.011943943298320802, 0.7524684277942105, 0.9942867610755473, 0.21329583453758375, 0.7820847266378071, 0.9953076120236114, 0.9927844998781605, 0.994573415738486, 0.08782336985458725, 0.7522262548414647, 0.015273629539928215, 0.05918531446722184, 0.08400496246960519, 0.004371880084313418, 0.8328431560617061, 0.15957362307743977, 0.8733184476968171, 0.02574408122462273, 0.007921255761422379, 0.0019803139403555946, 0.0019803139403555946, 0.08911412731600175, 0.4407916610888896, 0.557910218383039, 0.0025373095707309002, 0.9946253517265129, 0.0025373095707309002, 0.0053027479084596235, 0.0017675826361532078, 0.1343362803476438, 0.0017675826361532078, 0.6398649142874612, 0.10251979289688605, 0.051259896448443025, 0.06186539226536227, 0.9722927870996981, 0.021416140685015378, 0.9925065864935911, 0.9944112362066473, 0.9919459022239818, 0.9908875868649707, 0.2226004325082599, 0.7746495051287444, 0.9943672474180193, 0.9958010080165781, 0.8952012591698911, 0.00269638933484907, 0.048535008027283257, 0.03774945068788698, 0.013481946674245349, 0.9918718022467551, 0.03587531495402926, 0.3825084256585011, 0.07029622524776002, 0.0402385289349247, 0.05769138485850651, 0.11683717437731149, 0.07562904233552113, 0.07223543146149133, 0.041208132041790364, 0.10714114330865494, 0.992295188609193, 0.994688028077854, 0.023610377210967124, 0.14362979470005, 0.06689606876440686, 0.05804217731029418, 0.4141653669090483, 0.06689606876440686, 0.0846038516726322, 0.014756485756854454, 0.10723046316647569, 0.020659080059596234, 0.9845761796166389, 0.004622423378481873, 0.006839357092055504, 0.8514999579609102, 0.13678714184111007, 0.6823493254794689, 0.05134181817928043, 0.23021008796516065, 0.019874252198431135, 0.004968563049607784, 0.0016561876832025945, 0.008280938416012972, 0.003312375366405189, 0.08611630330882801, 0.8337193759898625, 0.041638652149323434, 0.007570664027149715, 0.026497324095024005, 0.0009463330033937144, 0.0018926660067874288, 0.0018926660067874288, 0.003042567178969351, 0.003042567178969351, 0.003042567178969351, 0.09127701536908053, 0.012170268715877404, 0.8884296162590505, 0.9979961320727052, 0.7346048252530224, 0.11656091323202938, 0.0027107189123727763, 0.14366810235575714, 0.7906300647959, 0.1730495523348456, 0.03016460086570703, 0.0015876105718793173, 0.0015876105718793173, 0.0015876105718793173, 0.004250158755038463, 0.9945371486790003, 0.9923160642833356, 0.005864338575856499, 0.0029321692879282495, 0.033231251929853496, 0.14758585415905523, 0.010751287389070248, 0.3880237357691717, 0.27171435401468447, 0.027366913353996995, 0.11142243294127348, 0.32479364733682387, 0.08616974317099409, 0.5866170977409981, 0.06423519390587894, 0.4703837034052552, 0.04552100355534728, 0.061200460335522455, 0.06676413854784267, 0.08396096211319609, 0.02680681320481562, 0.0212431349924954, 0.11430829781676095, 0.045015214626954535, 0.07589281999158312, 0.45061361870002475, 0.17550214623053595, 0.0426897112452655, 0.03104706272382946, 0.022854087838374462, 0.04441454806325603, 0.04829543090373471, 0.052176313744213394, 0.05562598738019445, 0.1216589890103098, 0.03601746385173645, 0.021610478311041872, 0.06483143493312563, 0.08644191324416749, 0.13926752689338096, 0.2193063354527953, 0.0920446298433265, 0.13926752689338096, 0.08003880855941434, 0.12616913889594372, 0.15585599510675402, 0.051951998368918006, 0.005566285539526929, 0.6568216936641776, 0.001855428513175643, 0.9955850449433254, 0.9948271110277942, 0.0022558437891786716, 0.0079145937227405, 0.20226183958114613, 0.5390717724488808, 0.027261378378328392, 0.05188455884907662, 0.0017587986050534446, 0.047487562336443, 0.08530173234509207, 0.03605537140359562, 0.9976470238573704, 0.993964472535072, 0.9933278753019719, 0.0030242776082571644, 0.0030242776082571644, 0.0030242776082571644, 0.11189827150551508, 0.8770405063945776, 0.0030242776082571644, 0.9952129443491081, 0.6828243903413854, 0.0010361523373920872, 0.1771820496940469, 0.041964169664379526, 0.0020723046747841744, 0.015542285060881306, 0.008289218699136697, 0.011397675711312958, 0.04662685518264392, 0.012951904217401089, 0.003473245793909449, 0.989875051264193, 0.9933333964768314, 0.9988426710584649, 0.996166975727936, 0.9968176316083298, 0.9944775007478285, 0.9957543641259052, 0.9945634541822443, 0.9694821533010665, 0.02464785135511186, 0.0027386501505679843, 0.9412804791951651, 0.0022252493597994445, 0.015576745518596113, 0.03782923911659056, 0.0022252493597994445, 0.9919077052514186, 0.011534449783249379, 0.855856173917104, 0.07612736856944591, 0.02768267947979851, 0.02768267947979851, 0.0008788836843414325, 0.0008788836843414325, 0.08700948474980182, 0.09140390317150897, 0.8199984774905564, 0.0008788836843414325, 0.9970465886429554, 0.6703836468748154, 0.11198282137412267, 0.11198282137412267, 0.08020391260579056, 0.025725783288649804, 0.0015132813699205766, 0.3461582079888119, 0.016337850524545696, 0.2361329958625745, 0.10594074949510099, 0.03497321127910563, 0.07683895324825397, 0.027570122760170863, 0.02833595950350894, 0.05462968769144967, 0.0732650484460096, 0.995964658780611, 0.18018020825687023, 0.001716001983398764, 0.1338481547051036, 0.010296011900392586, 0.6623767655919229, 0.01201201388379135, 0.3160830043890222, 0.01204125731005799, 0.31232011147962907, 0.04364955774896021, 0.04590729349459608, 0.035371193348295346, 0.028597986111387724, 0.04665987207647471, 0.0526805007315037, 0.1053610014630074, 0.4177650463886981, 0.014788143234998163, 0.3075933792879618, 0.0547161299694932, 0.02366102917599706, 0.04214620821974477, 0.01996399336724752, 0.026618657822996696, 0.03992798673449504, 0.05249790848424348, 0.860603352512526, 0.023979659977129204, 0.018650846648878273, 0.06661016660313668, 0.02930847330538014, 0.05059937906530836, 0.1279866646946035, 0.7857785925436123, 0.029764340626651977, 0.9966257075824339, 0.1950913972949219, 0.8008447966305356, 0.0021557060474577004, 0.0010778530237288502, 0.9967747233957281, 0.9952129664998381, 0.9968631124662741, 0.8872144925462975, 0.006596390279154628, 0.04287653681450508, 0.05936751251239165, 0.009332781406049224, 0.9846084383381931, 0.9953505593667943, 0.9952571034567826, 0.7870064560892099, 0.0006429791307918381, 0.06686982960235116, 0.04115066437067764, 0.0038578747847510288, 0.024433206970089848, 0.0019289373923755144, 0.0025719165231673524, 0.022504269577714335, 0.048866413940179695, 0.995630116219174, 0.9954279275304672, 0.9960958767902599, 0.15406742378956456, 0.09244045427373873, 0.13866068141060808, 0.024326435335194404, 0.34057009469272165, 0.07541194953910264, 0.04784198949254899, 0.02108291062383515, 0.06000520716014619, 0.044598464781189735, 0.9952461446352009, 0.004370607546548131, 0.9921279130664258, 0.9941055958119521, 0.0054322710153658586, 0.9976145364076745, 0.0018421670721314454, 0.0018421670721314454, 0.0018421670721314454, 0.10500352311149239, 0.0073686682885257815, 0.876871526334568, 0.0036843341442628907, 0.4131495595339768, 0.19598895649928036, 0.05202176005845096, 0.07863754427440262, 0.027825592589404004, 0.03447953864339192, 0.01814712560178522, 0.03689915539029661, 0.06653946053987914, 0.07682283171422409, 0.9956625210692946, 0.002917876247455287, 0.9949958003822528, 0.36700691679697717, 0.47926785605252314, 0.001439242810968538, 0.024467127786465145, 0.0719621405484269, 0.01439242810968538, 0.041738041518087604, 0.9920963323103564, 0.9937243970255537, 0.997712451830476, 0.996146996121981, 0.9950054031093026, 0.17374481571088726, 0.00234790291501199, 0.8076786027641245, 0.00939161166004796, 0.00234790291501199, 0.9945657297572251, 0.7616764859608659, 0.0008606513965659503, 0.08778644244972693, 0.03700801005233586, 0.0008606513965659503, 0.018073679327884954, 0.0025819541896978508, 0.004303256982829751, 0.05077843239739106, 0.03614735865576991, 0.9420352247551129, 0.052578710218890025, 0.002190779592453751, 0.003182887817384236, 0.9930609990238816, 0.15496451043956996, 0.002245862470138695, 0.588415967176338, 0.06176121792881411, 0.04154845569756586, 0.028073280876733688, 0.0067375874104160845, 0.002245862470138695, 0.056146561753467376, 0.059515355458675416, 0.9950664135672406, 0.9908997903364901, 0.005489749530950084, 0.7407309476166932, 0.024071020454309085, 0.03938894256159669, 0.06345996301590577, 0.031729981507952885, 0.06564823760266114, 0.03501239338808594, 0.0018430357256336545, 0.06819232184844522, 0.0018430357256336545, 0.10689607208675196, 0.15665803667886063, 0.03317464306140578, 0.6321612538923436, 0.9962004535824144, 0.810402248469296, 0.047417152835969444, 0.11854288208992361, 0.002155325128907702, 0.02155325128907702, 0.9970621894646405, 0.16480913406515568, 0.0014715101255817474, 0.8328747310792689, 0.9935594273726557, 0.008773146198712087, 0.8520918245499115, 0.04167244444388242, 0.002193286549678022, 0.04167244444388242, 0.003289929824517033, 0.006579859649034066, 0.04386573099356044, 0.003941683904106122, 0.9913335018826898, 0.001970841952053061, 0.9966081809201266, 0.2127057335589386, 0.04373388914295934, 0.003975808103905395, 0.6480567209365793, 0.08945568233787138, 0.003852307809815452, 0.28218154706898185, 0.012520000381900218, 0.3736738575520988, 0.03948615505060838, 0.15216615848771034, 0.024076923811346573, 0.07319384838649359, 0.007704615619630904, 0.03178153943097748, 0.9962808289322507, 0.0041678997672977385, 0.9294416481073957, 0.041678997672977385, 0.02500739860378643, 0.019876055382931353, 0.4276191343813517, 0.023851266459517625, 0.03520901239262125, 0.02498704105282799, 0.23453745351858998, 0.1328856274173125, 0.006814647559862178, 0.023851266459517625, 0.0704180247852425, 0.9937981520045684, 0.21055769153842274, 0.2024201962132663, 0.05085934578222771, 0.11494212146783463, 0.009154682240800988, 0.04984215886658316, 0.04068747662578217, 0.32143106534367916, 0.9964155065488212, 0.7506255558159165, 0.13875199668112395, 0.10918189902776966, 0.994045685459529, 0.009579692626588414, 0.00718476946994131, 0.016764462096529723, 0.0023949231566471035, 0.9316251079357232, 0.019159385253176828, 0.0023949231566471035, 0.009579692626588414, 0.9879405442341106, 0.010623016604667856, 0.9924473173744541, 0.9840163365602741, 0.00964721898588504, 0.7309538561388288, 0.06819045793766487, 0.011564463626855447, 0.09411080744613398, 0.007975492156452033, 0.013558336665968455, 0.043067657644840975, 0.030306870194517724, 0.1096263519209415, 0.0037802190317566035, 0.8845712534310451, 0.4256880230709562, 0.10236986526756463, 0.10919452295206893, 0.05715650810772358, 0.11687226284713628, 0.03156404179083242, 0.06739349463448004, 0.025592466316891157, 0.06398116579222789, 0.023802817235394395, 0.8621909354153969, 0.10314554135337571, 0.007934272411798131, 0.992252138272907, 0.01234104708022425, 0.0017630067257463212, 0.7528038718936793, 0.1569075985914226, 0.07228327575559917, 0.9953607706585933, 0.030735848554255516, 0.047567384667300205, 0.02341778937467087, 0.056349055682801776, 0.21441913396183016, 0.03146765447221398, 0.1778288380639069, 0.17636522622798997, 0.11050269361172817, 0.13172506523252364, 0.0026629655952996397, 0.13581124536028163, 0.8601378872817836, 0.9978184322688189, 0.9919239187791611, 0.004331545496852232, 0.1693739949037335, 0.13350656068882524, 0.02988952851242356, 0.0019926352341615708, 0.0019926352341615708, 0.6615548977416414, 0.9569655550091616, 0.003970811431573284, 0.035737302884159564, 0.9933899885752729, 0.9951541487184521, 0.9911687394877327, 0.09125090462389593, 0.003146582918065377, 0.14474281423100735, 0.45625452311947967, 0.017306206049359573, 0.05034532668904603, 0.09125090462389593, 0.07237140711550367, 0.07237140711550367, 0.12183928056738992, 0.004430519293359633, 0.23924804184142023, 0.6313489993037478, 0.0022152596466798167, 0.9925850350315768, 0.9750889624534276, 0.008904922031538151, 0.008904922031538151, 0.9939125274647788, 0.007742333127083013, 0.0007038484660984557, 0.02815393864393823, 0.008446181593181468, 0.9396377022414384, 0.00985387852537838, 0.002815393864393823, 0.0014076969321969114, 0.0007038484660984557, 0.0007038484660984557, 0.9961859884690817, 0.07540774153675343, 0.024396622261890818, 0.1729942305843167, 0.6121334312983514, 0.11089373755404917, 0.9961102394128509, 0.9952429551213585, 0.008381692003332726, 0.9890396563932616, 0.9944114135738177, 0.9946668676137286, 0.9947497603490033, 0.9949530590205485, 0.9936440202789041, 0.8713717962262648, 0.026591158100801506, 0.09818273760295941, 0.0020454737000616544, 0.9966134615695423, 0.11173779491960509, 0.8415995617348979, 0.04041579816241035, 0.0023773998919064915, 0.0023773998919064915, 0.9954961932906736, 0.0018818453559370013, 0.17148434425000797, 0.07692096100103238, 0.1919495540576221, 0.033167753826133226, 0.1326710153045329, 0.0275221787067914, 0.016936725358025477, 0.014819634688272293, 0.12914253085494426, 0.2053577949660589, 0.3379950991377653, 0.02295517066743605, 0.16464398271816202, 0.08469666418674682, 0.013456479356772858, 0.10765183485418287, 0.04986812938098177, 0.05857526308242303, 0.0649077239561985, 0.09498691310663195, 0.013647116258979712, 0.6374340552631774, 0.001705889532372464, 0.020470674388469567, 0.04037271893281498, 0.045490387529932376, 0.06482380223015363, 0.0363923100239459, 0.0790395483332575, 0.0602747634771604, 0.004524921960529117, 0.9909579093558765, 0.9945113574444842, 0.993842640199905, 0.08271809922823617, 0.09974829612816714, 0.7420300077827068, 0.07055367287114261, 0.0024328852714187105, 0.9963341226989599, 0.996063899711184, 0.9972095599788927, 0.9934663468710234, 0.9959217582769504, 0.9969068416391604, 0.0006246202104326209, 0.6933284335802091, 0.0012492404208652417, 0.0031231010521631042, 0.07058208377888615, 0.20237694818016916, 0.00749544252519145, 0.0024984808417304835, 0.018113986102546005, 0.0895144058779893, 0.3594347682177724, 0.0275428941163044, 0.00137714470581522, 0.09915441881869584, 0.0344286176453805, 0.388354807039892, 0.994855694836653, 0.9903435295390106, 0.00492708223651249, 0.9965687365369296, 0.9980386249891039, 0.9930216919537483, 0.9963666467298347, 0.9895957717875683, 0.00471236081803604, 0.07469544699012817, 0.13964800959023962, 0.20893074303035852, 0.0010825427100018576, 0.02273339691003901, 0.002165085420003715, 0.005412713550009288, 0.17212429089029535, 0.34533112449059256, 0.028146110460048297, 0.13167330991722798, 0.11850597892550517, 0.0016459163739653497, 0.014813247365688146, 0.0016459163739653497, 0.7307868700406153, 0.18910437300649058, 0.0014007731333814117, 0.809646871094456, 0.9993036959820224, 0.9827315360433891, 0.009015885651774212, 0.004507942825887106, 0.0031992807348123846, 0.8350122717860324, 0.03199280734812385, 0.1279712293924954, 0.11579551353444646, 0.042296564823959486, 0.05131058683562298, 0.062404767773054974, 0.10192778736265647, 0.058937836230107475, 0.18860107593634393, 0.2010820294909549, 0.10331455997983546, 0.07419233501907647, 0.9925506907010102, 0.4239399513544262, 0.02248797384394795, 0.1799037907515836, 0.09245055913623046, 0.024153749684240392, 0.05746926649008921, 0.0408115080871648, 0.04580883560804212, 0.04247728392745724, 0.07079547321242874, 0.9952184327585066, 0.9963703900494485, 0.9771442861490449, 0.018791236272097018, 0.9944011692595873, 0.004009682134111239, 0.996147535257592, 0.9812218934652314, 0.010782658169947598, 0.9948096027986482, 0.1405510703710733, 0.017210335147478367, 0.8404380330351935, 0.9946970951969442, 0.9921920286029985, 0.12009613163525647, 0.2009771998794088, 0.48773735092685794, 0.007352824385832029, 0.006127353654860024, 0.001225470730972005, 0.026960356081384106, 0.11641971944234046, 0.03308770973624413, 0.9961392693823186, 0.9950289590284557, 0.9954945754989095, 0.9924539007258588, 0.9503815942628723, 0.002527610623039554, 0.04549699121471197, 0.9963744356819771, 0.9221055822166787, 0.05784426161506841, 0.013610414497663153, 0.0034026036244157883, 0.9931938256261604, 0.9951547575527505, 0.9961156790318595, 0.9952375879762343, 0.991124198841021, 0.9935088021622495, 0.993711077612635, 0.04293114856860771, 0.9552180556515215, 0.9949495137956719, 0.003979798055182688, 0.14408560573894025, 0.8544611503123201, 0.2943830229630649, 0.03708762494022865, 0.29703213903022413, 0.08377829562390937, 0.03940560149899294, 0.03510078788985926, 0.026822300179986793, 0.05496915839355318, 0.075168668405642, 0.05596257691873788, 0.9956577714485719, 0.001731578732954038, 0.001731578732954038, 0.9659506295194306, 0.0016045691520256322, 0.0016045691520256322, 0.0016045691520256322, 0.019254829824307585, 0.011231984064179426, 0.998777014229269, 0.9928588989269164, 0.9934692243573603, 0.06109749498176885, 0.5689570234442615, 0.04073166332117923, 0.06517066131388677, 0.03730162851518519, 0.07696140595949129, 0.03472910241068966, 0.010504481593356749, 0.07331699397812262, 0.031084690429320994, 0.011766178643174013, 0.9795343720442365, 0.002941544660793503, 0.002941544660793503, 0.0024652698753778453, 0.07888863601209105, 0.9146151237651806, 0.0049305397507556905, 0.9975879057428944, 0.0514203647468486, 0.9453436288074474, 0.9985017772131581, 0.10991268793994691, 0.004227411074613343, 0.1789604021586315, 0.0690477142186846, 0.007045685124355571, 0.0028182740497422285, 0.062002029094329024, 0.0803208104176535, 0.07891167339278239, 0.407240600187752, 0.13965289953208315, 0.07091183499556554, 0.2966719627365497, 0.055716441782230064, 0.03617950765079874, 0.03328514703873484, 0.06874106453651761, 0.1411000798381151, 0.03256155688571887, 0.12590468662477963, 0.9910765305865269, 0.0912428027425729, 0.011938310639215147, 0.3376836437949427, 0.005969155319607573, 0.31721796841343103, 0.14581793709327073, 0.0127910471134448, 0.009380101216526186, 0.0255820942268896, 0.04263682371148267, 0.9947609696060504, 0.9963952270223293, 0.006811070667935501, 0.9876052468506477, 0.9973312493491878, 0.0865465584096768, 0.5991684812977626, 0.04160892231234462, 0.03744803008111016, 0.004160892231234462, 0.11317626868957736, 0.0108183198012096, 0.011650498247456493, 0.05825249123728247, 0.03744803008111016, 0.9893262474872359, 0.007946395562146472, 0.0018497498830202057, 0.018497498830202058, 0.0018497498830202057, 0.9581704394044666, 0.0018497498830202057, 0.0036994997660404114, 0.011098499298121234, 0.15049033092421255, 0.7038317015532403, 0.004630471720745002, 0.11344655715825254, 0.027782830324470008, 0.613178630764709, 0.11984855055855677, 0.06271145087366342, 0.05574351188770082, 0.0404140461185831, 0.043201221712968134, 0.004180763391577562, 0.02647816814665789, 0.034839694929813016, 0.9789215560797434, 0.017879845773145997, 0.00894975870341182, 0.9844734573753002, 0.19663697870927657, 0.011078139645593045, 0.7893174497485045, 0.9947111254776355, 0.9932650099199412, 0.9972912643338829, 0.9943475105068316, 0.0015953760672786366, 0.0654104187584241, 0.0015953760672786366, 0.7897111533029251, 0.14198846998779865, 0.11140072728366932, 0.02983948052241142, 0.14124020780608074, 0.7141582338363801, 0.9964728848948832, 0.9939952747187393, 0.08284240052190806, 0.018225328114819774, 0.7157583405092857, 0.10106772863672783, 0.0016568480104381612, 0.07952870450103174, 0.9955994257196932, 0.0012777797563818683, 0.7705011930982666, 0.0025555595127637366, 0.049833410498892866, 0.0012777797563818683, 0.061333428306329686, 0.0242778153712555, 0.0766667853829121, 0.011500017807436815, 0.8210888639255229, 0.13290351899459685, 0.04005311531344014, 0.0036411923012218315, 0.00417384969542722, 0.9933762275116782, 0.157508659613776, 0.004004457447807864, 0.21357106388308608, 0.18553986174843104, 0.39377164903443995, 0.04137939362734793, 0.001334819149269288, 0.7832084299111466, 0.017213372085959265, 0.1291002906446945, 0.019365043596704174, 0.008606686042979633, 0.040881758704153254, 0.9965246380907677, 0.9933944279582498, 0.03846432015308559, 0.008945190733275718, 0.08050671659948147, 0.03220268663979259, 0.44725953666378593, 0.04830402995968888, 0.13238882285248063, 0.07424508308618846, 0.08229575474613661, 0.05546018254630945, 0.9949790232687895, 0.9975934107967629, 0.9941543776482923, 0.006948230661342817, 0.08106269104899953, 0.046321537742285444, 0.8291555255869095, 0.004632153774228545, 0.016212538209799905, 0.004632153774228545, 0.00926430754845709, 0.84550590711105, 0.1331369219786316, 0.00518715280436227, 0.006916203739149694, 0.003458101869574847, 0.003458101869574847, 0.002883219772908571, 0.974528283243097, 0.02018253841036, 0.9957500867676539, 0.9969402359723419, 0.994609936972564, 0.9758324479962439, 0.021368593751742566, 0.004022113658792533, 0.9934620737217555, 0.058688749723130956, 0.15687954252913852, 0.029344374861565478, 0.047402451699451925, 0.06546052853733837, 0.08013271596812112, 0.03385889407103709, 0.060946009327866764, 0.4559664401566328, 0.012414927826046933, 0.13285254457541334, 0.07664569879350769, 0.5017738414348304, 0.06642627228770667, 0.025548566264502564, 0.01532913975870154, 0.012263311806961231, 0.024526623613922462, 0.10015037975685005, 0.04496547662552451, 0.9915412454116495, 0.9943591665909572, 0.9946067770983419, 0.996626746122446, 0.9948085118696055, 0.998325384651852, 0.9951250980548686, 0.9971282378444298, 0.9960538918016549, 0.003502132143454258, 0.991103396597555, 0.003502132143454258, 0.1350665614868784, 0.09917931085026821, 0.26360816831255496, 0.06916451940873967, 0.21597599928578143, 0.044369691696172615, 0.035887250636610205, 0.024142332246446865, 0.04697967356065336, 0.06590204207813874, 0.15860110658240573, 0.5046398845803819, 0.0937188357077852, 0.025952908349848213, 0.135531854715874, 0.004325484724974702, 0.020906509504044393, 0.0072091412082911695, 0.041092104887259666, 0.007930055329120287, 0.004128448409489295, 0.9949560666869199, 0.993830943096798, 0.0062505090760804904, 0.9966798169395905, 0.0039388417027159785, 0.9925881090844266, 0.9992675019320915, 0.9325028168350527, 0.06543879416386335, 0.9950836213115883, 0.9950270965077239, 0.9939374512732605, 0.00491121251536866, 0.9920649281044692, 0.1837497024240524, 0.027408043848965797, 0.12198509656722806, 0.16290414794737418, 0.05751828920416766, 0.11696672234136109, 0.09419102393165711, 0.07990795882726648, 0.06601092250948101, 0.08955867849239528, 0.993157517117799, 0.00792210305085592, 0.986301829831562, 0.8935533240909636, 0.10074375712790276, 0.0014600544511290255, 0.0014600544511290255, 0.3346972883930265, 0.1700155548609995, 0.16934882719487793, 0.023335468314254836, 0.040670387633415565, 0.036670021636686166, 0.026669106644862668, 0.028669289643227368, 0.07133986027500763, 0.09934242225211344, 0.9916223999844198, 0.004744604784614449, 0.9969045861195932, 0.0008834115507866014, 0.8701603775248024, 0.008834115507866013, 0.004417057753933007, 0.0035336462031464056, 0.008834115507866013, 0.006183880855506209, 0.09187480128180654, 0.0035336462031464056, 0.997224399930495, 0.9968188296335806, 0.003428259533483717, 0.994195264710278, 0.9955405613455856, 0.5340369622069543, 0.042933860149219176, 0.08737417153174429, 0.0753225616652968, 0.0188306404163242, 0.012051609866447488, 0.029375799049465752, 0.005272579316570776, 0.13256770853092237, 0.061764500565543376, 0.9961544977074897, 0.014275717913592702, 0.9802659634000322, 0.15305383278867468, 0.09981771703609219, 0.02528715498247669, 0.5070740025433483, 0.0013309028938145626, 0.06255243600928444, 0.05190521285876794, 0.07053785337217182, 0.027948960770105814, 0.9952822060035399, 0.7545660993001938, 0.04621717358213687, 0.03395547446850872, 0.050933211702763076, 0.018864152482504844, 0.03395547446850872, 0.04055792783738541, 0.02075056773075533, 0.9939360943853284, 0.06949703308972704, 0.004435980835514493, 0.060625071418698065, 0.11533550172337681, 0.096112918102814, 0.08871961671028986, 0.03992382751963043, 0.40811023686733333, 0.0384451672411256, 0.07984765503926086, 0.9918377201610604, 0.9975598113551917, 0.003701673581471638, 0.9846451726714558, 0.003701673581471638, 0.9958145869168445, 0.08860195732261608, 0.9110592568173349, 0.9966137399209611, 0.9951672877286166, 0.9940987453091398, 0.9828640171942101, 0.012184264675961282, 0.9895280535004003, 0.9970433800495816, 0.06113367733175722, 0.08600161387348898, 0.16475007958897286, 0.0010361640225721564, 0.05077203710603566, 0.017614788383726657, 0.11708653455065367, 0.2020519844015705, 0.29323441838792025, 0.007253148158005094, 0.0018277875458963158, 0.29244600734341053, 0.7055259927159779, 0.8126462361813774, 0.07870665725727627, 0.08460965655157199, 0.009838332157159534, 0.007870665725727626, 0.0019676664314319066, 0.0019676664314319066, 0.0019676664314319066, 0.9940294326377593, 0.9955915842885196, 0.9974760423751902, 0.9989443410950962, 0.0015767625962376164, 0.02522820153980186, 0.09145223058178174, 0.09775928096673221, 0.45883791550514635, 0.14821568404633592, 0.0678007916382175, 0.10879661914039553, 0.0014778806233889529, 0.5719398012515248, 0.023646089974223246, 0.10049588239044879, 0.10049588239044879, 0.20099176478089759, 0.9339398720089539, 0.04827104956450773, 0.012592447712480278, 0.9980110271477736, 0.023220414220704196, 0.9694522937144001, 0.005805103555176049, 0.023168976101704167, 0.07916066834748924, 0.2500318670975575, 0.01930748008475347, 0.03764958616526927, 0.007722992033901388, 0.045372578199170656, 0.34753464152556246, 0.08205679036020225, 0.10812188847461944, 0.9947291679513999, 0.0026943727511697076, 0.986140426928113, 0.008083118253509124, 0.002000081393526336, 0.20700842422997576, 0.027001098812605533, 0.08300337783134294, 0.0030001220902895038, 0.052002116231684735, 0.06300256389607958, 0.06000244180579008, 0.044001790657579386, 0.46001872051105724, 0.9938750960648948, 0.002742809687041631, 0.9928971067090704, 0.996359949144752, 0.9268043905984388, 0.06982772805878648, 0.0034514928575612707, 0.9905784501200847, 0.9970525399871838, 0.9958922757026809, 0.9955632215536083, 0.06237066656288971, 0.9355599984433457, 0.9923278096290189, 0.9930168950620741, 0.9906863560128554, 0.08163688181073606, 0.05089052372617312, 0.09170896463154116, 0.06997447012348805, 0.10655203405167497, 0.052480852592616034, 0.16963507908724376, 0.135708063269795, 0.10178104745234624, 0.13941883062482846, 0.7772102118932582, 0.10137524502955542, 0.004505566445758018, 0.011263916114395046, 0.10137524502955542, 0.9964692018363819, 0.11183438484920394, 0.016835283740740378, 0.07936633763491892, 0.17436543874338248, 0.034271827615078625, 0.0962016213756593, 0.06253105389417854, 0.2579405973134865, 0.060727273493384935, 0.10582178351322523, 0.16544540425956603, 0.06617816170382641, 0.01141002787997007, 0.7542028428660217, 0.9753596567431253, 0.0010245374545621063, 0.0020490749091242127, 0.0163925992729937, 0.0020490749091242127, 0.0020490749091242127, 0.9952958928549545, 0.00736871595109875, 0.13816342408310156, 0.003684357975549375, 0.8437179764008068, 0.00736871595109875, 0.9938440483890274, 0.0019429542679269317, 0.8218696553330922, 0.005828862803780795, 0.0019429542679269317, 0.007771817071707727, 0.15737929570208148, 0.9945617966504169, 0.005654394384188436, 0.9895190172329763, 0.07601184667313536, 0.19002961668283838, 0.5818837917736569, 0.0013105490805712992, 0.1480920461045568, 0.9946903707799524, 0.002214705602013911, 0.18382056496715463, 0.002214705602013911, 0.8017234279290358, 0.004429411204027822, 0.006644116806041733, 0.9932055779418218, 0.9920404722168111, 0.0035684909072547163, 0.0035684909072547163, 0.9967791106924947, 0.9965878535858734, 0.9936962501634287, 0.06281971759666545, 0.0014277208544696694, 0.02998213794386306, 0.04997022990643843, 0.07709692614136215, 0.019988091962575373, 0.42688853548643113, 0.11850083092098256, 0.13135031861120958, 0.08138008870477116, 0.9960920146652622, 0.016327354669766543, 0.021769806226355392, 0.06712356919792913, 0.07075187023565502, 0.016327354669766543, 0.05623866608475143, 0.751058314809261, 0.9439335120797462, 0.0058447895484814005, 0.046758316387851204, 0.004618962021579571, 0.9884578726180282, 0.9974078364653427, 0.9962798607638199, 0.9955592526441434, 0.15268445217409582, 0.6396240564049961, 0.0013755356051720344, 0.17469302185684837, 0.004126606815516103, 0.013755356051720345, 0.002751071210344069, 0.009628749236204241, 0.9918687008498795, 0.004303118008025508, 0.005600065851684403, 0.9912116557481393, 0.9980038849109661, 0.9940050943482757, 0.9951760935454792, 0.28633832680742377, 0.0032354613198578956, 0.1925099485315448, 0.05419397710761975, 0.02264822923900527, 0.05823830375744212, 0.04691418913793949, 0.030736882538650007, 0.023457094568969744, 0.28148513482763693, 0.004516495730816117, 0.0022582478654080587, 0.0022582478654080587, 0.06097269236601758, 0.029357222250304762, 0.009032991461632235, 0.8739419239129187, 0.0022582478654080587, 0.01806598292326447, 0.9910936641644327, 0.9976144739180643, 0.2747720824305939, 0.018949798788316822, 0.2928979769237665, 0.11575855346776145, 0.037487645429061536, 0.05355377918437362, 0.04778644911836416, 0.035015932543628905, 0.05684939636495046, 0.06673624790668098, 0.9965920859130661, 0.004533998949867517, 0.1148613067299771, 0.022669994749337587, 0.22367728152679753, 0.48211522166924603, 0.06347598529814524, 0.087657313030772, 0.9935036278533254, 0.9943561703660241, 0.0034261156825003583, 0.9935735479251039, 0.9853131799140549, 0.01128221198374872, 0.10125812041352343, 0.10892919014182065, 0.26132777541065894, 0.0915414320910136, 0.06085715317782468, 0.11097480873603324, 0.06955103220322821, 0.04142377653280504, 0.08540457630837582, 0.06852822290612191, 0.1446214155086301, 0.7608344033280107, 0.07545465156972006, 0.018863662892430015, 0.15325447638266407, 0.0061654099694175195, 0.6883239844428274, 0.028184731288765804, 0.03743284624289209, 0.007926955674965383, 0.01321159279160897, 0.006605796395804485, 0.05240598474004892, 0.007046182822191451, 0.0019919156525387977, 0.8744509714645322, 0.10955536088963388, 0.011951493915232788, 0.07462715266012575, 0.14153425504506606, 0.1183741042195098, 0.001286675045864237, 0.007720050275185421, 0.001286675045864237, 0.002573350091728474, 0.07076712752253303, 0.5828637957764993, 0.002573350091728474, 0.0017168964854290252, 0.7949230727536387, 0.0017168964854290252, 0.0017168964854290252, 0.19572619933890886, 0.9960337098061067, 0.993458144738158, 0.03345477733832177, 0.009791642147801493, 0.01795134393763607, 0.07262134592952774, 0.09791642147801494, 0.03345477733832177, 0.17788149901839378, 0.30190896622387936, 0.16319403579669156, 0.09220463022513073, 0.7534120831477393, 0.05256363370798181, 0.033095621223544106, 0.0019468012484437707, 0.07397844744086329, 0.06619124244708821, 0.017521211235993938, 0.9945971049150705, 0.050304351291989395, 0.6166522163995554, 0.004521739441976575, 0.029956523803094808, 0.031086958663588952, 0.0644347870481662, 0.05595652559446011, 0.013565218325929725, 0.07913044023459007, 0.05369565587347183, 0.1863468662465055, 0.09590236212686266, 0.1419043081877155, 0.05068011006704125, 0.048341028063947036, 0.06549429608663791, 0.029628372039193343, 0.028068984037130536, 0.08030848210623459, 0.27367259436202274, 0.9963295746268531, 0.03622333940667178, 0.0008834960830895556, 0.025621386409597113, 0.06449521406553756, 0.1554953106237618, 0.051242772819194225, 0.37371884314688203, 0.17758271270100068, 0.07421367097952267, 0.04064081982211956, 0.001865282468646462, 0.8972008674189482, 0.0634196039339797, 0.03357508443563632, 0.9955377647911462, 0.988631573722177, 0.005343954452552308, 0.03758526336899649, 0.1671201889085737, 0.030202443778657894, 0.046981579211245614, 0.20336312144296315, 0.1604085347355386, 0.14027357221643333, 0.05906255672270877, 0.08590917341484912, 0.0691300379822614, 0.027505336349730635, 0.13569299265867113, 0.7151387450929965, 0.11918979084883276], \"Term\": [\"2008\", \"2020\", \"abbott\", \"abduction\", \"accident\", \"accident\", \"accident\", \"accuse\", \"accuse\", \"accuse\", \"accuse\", \"accuse\", \"accuse\", \"accuse\", \"accuse\", \"accuse\", \"accuse\", \"action\", \"action\", \"action\", \"action\", \"action\", \"action\", \"action\", \"action\", \"action\", \"afghan\", \"afghan\", \"afghanistan\", \"afghanistan\", \"afghanistan\", \"age\", \"age\", \"alert\", \"alert\", \"alice\", \"alice\", \"ambulance\", \"ambulance\", \"analyst\", \"anger\", \"anger\", \"anger\", \"anger\", \"answer\", \"apec\", \"apologise\", \"apologise\", \"apology\", \"appear\", \"arrest\", \"arrest\", \"arrest\", \"arrest\", \"arrest\", \"arrest\", \"arrest\", \"arrest\", \"arrest\", \"arrest\", \"arrive\", \"arrive\", \"arson\", \"arson\", \"asbestos\", \"asbestos\", \"ash\", \"assault\", \"assault\", \"assault\", \"assault\", \"assault\", \"assault\", \"assault\", \"assault\", \"assault\", \"asylum\", \"athlete\", \"attack\", \"attack\", \"attack\", \"attack\", \"attack\", \"attack\", \"attack\", \"attack\", \"attack\", \"attack\", \"attacker\", \"auction\", \"audit\", \"aussie\", \"aussie\", \"aussie\", \"aussie\", \"aussie\", \"aussie\", \"aussie\", \"aussie\", \"aust\", \"aust\", \"aust\", \"aust\", \"aust\", \"aust\", \"aust\", \"aust\", \"aust\", \"aust\", \"australia\", \"australia\", \"australia\", \"australia\", \"australia\", \"australia\", \"australia\", \"australia\", \"australia\", \"australia\", \"award\", \"award\", \"award\", \"award\", \"award\", \"award\", \"award\", \"award\", \"ax\", \"back\", \"back\", \"back\", \"back\", \"back\", \"back\", \"back\", \"back\", \"back\", \"back\", \"bad\", \"bad\", \"baghdad\", \"baghdad\", \"bail\", \"bail\", \"bail\", \"bail\", \"bailout\", \"ballarat\", \"bangladesh\", \"bangladesh\", \"bangladesh\", \"bank\", \"bank\", \"bank\", \"bank\", \"bank\", \"bank\", \"bank\", \"bank\", \"bank\", \"bank\", \"barnett\", \"bash\", \"batter\", \"beach\", \"beach\", \"beach\", \"beijing\", \"beijing\", \"beijing\", \"beijing\", \"bendigo\", \"bike\", \"bikie\", \"bikies\", \"bird\", \"bird\", \"birthday\", \"black\", \"black\", \"black\", \"blast\", \"blast\", \"blast\", \"blast\", \"blast\", \"blaze\", \"blaze\", \"blaze\", \"blaze\", \"bligh\", \"blow\", \"blow\", \"blue\", \"blue\", \"blue\", \"blue\", \"blue\", \"boat\", \"boat\", \"boat\", \"boat\", \"bomb\", \"bomb\", \"bomb\", \"bomb\", \"bomb\", \"bomb\", \"bomb\", \"boom\", \"boost\", \"boost\", \"boost\", \"boost\", \"boost\", \"boost\", \"boost\", \"boost\", \"boost\", \"boost\", \"boy\", \"brace\", \"brawl\", \"brawl\", \"breakthrough\", \"breast\", \"bridge\", \"bridge\", \"bridge\", \"bronco\", \"brown\", \"budget\", \"budget\", \"budget\", \"budget\", \"budget\", \"budget\", \"budget\", \"budget\", \"budget\", \"budget\", \"bull\", \"bull\", \"bull\", \"bull\", \"bull\", \"bully\", \"bundaberg\", \"burma\", \"bush\", \"bush\", \"bush\", \"bush\", \"bush\", \"bush\", \"bush\", \"bush\", \"bush\", \"bush\", \"bushfires\", \"bushrangers\", \"bushrangers\", \"bust\", \"buyer\", \"bypass\", \"call\", \"call\", \"call\", \"call\", \"call\", \"call\", \"call\", \"call\", \"call\", \"call\", \"camera\", \"canada\", \"cancer\", \"cancer\", \"cancer\", \"cancer\", \"cancer\", \"candidate\", \"candidate\", \"candidate\", \"candidate\", \"candidate\", \"captain\", \"capture\", \"car\", \"carpenter\", \"case\", \"case\", \"case\", \"case\", \"case\", \"case\", \"case\", \"case\", \"case\", \"case\", \"cast\", \"cat\", \"cat\", \"celebrate\", \"celebrate\", \"celebrate\", \"celebrate\", \"celebrate\", \"celebrate\", \"celebrate\", \"centre\", \"centre\", \"centre\", \"centre\", \"centre\", \"centre\", \"centre\", \"centre\", \"centre\", \"centre\", \"chairman\", \"chamber\", \"change\", \"change\", \"change\", \"change\", \"change\", \"change\", \"change\", \"change\", \"change\", \"change\", \"charge\", \"charge\", \"charge\", \"charge\", \"charge\", \"charge\", \"charge\", \"charge\", \"charge\", \"charge\", \"child\", \"child\", \"child\", \"child\", \"child\", \"child\", \"child\", \"child\", \"child\", \"child\", \"childcare\", \"chopper\", \"chopper\", \"christmas\", \"christmas\", \"clarke\", \"clean\", \"clean\", \"clean\", \"clean\", \"clean\", \"clean\", \"clean\", \"climate\", \"clinton\", \"close\", \"close\", \"close\", \"close\", \"close\", \"close\", \"close\", \"close\", \"close\", \"close\", \"coal\", \"coal\", \"coal\", \"coast\", \"coast\", \"coast\", \"coast\", \"coast\", \"coast\", \"college\", \"collision\", \"comeback\", \"comment\", \"comment\", \"comment\", \"commission\", \"commissioner\", \"commissioner\", \"commissioner\", \"commit\", \"commit\", \"commit\", \"commonwealth\", \"community\", \"community\", \"community\", \"community\", \"community\", \"community\", \"community\", \"community\", \"community\", \"community\", \"compensation\", \"concern\", \"concern\", \"concern\", \"concern\", \"concern\", \"concern\", \"concern\", \"concern\", \"concern\", \"concern\", \"congo\", \"contain\", \"contamination\", \"contest\", \"contract\", \"contract\", \"contract\", \"contract\", \"cop\", \"corruption\", \"cost\", \"cost\", \"cost\", \"cost\", \"cost\", \"cost\", \"cost\", \"cost\", \"cost\", \"cost\", \"costello\", \"costello\", \"costello\", \"costello\", \"costello\", \"council\", \"council\", \"council\", \"council\", \"council\", \"council\", \"council\", \"council\", \"council\", \"council\", \"couple\", \"couple\", \"court\", \"court\", \"court\", \"court\", \"court\", \"court\", \"court\", \"court\", \"court\", \"court\", \"cousin\", \"cover\", \"cowboy\", \"crackdown\", \"crackdown\", \"crackdown\", \"crackdown\", \"crash\", \"crash\", \"crash\", \"crash\", \"crash\", \"crash\", \"credit\", \"cricket\", \"crop\", \"crow\", \"crow\", \"crow\", \"cull\", \"cull\", \"cull\", \"curb\", \"cut\", \"cut\", \"cut\", \"cut\", \"cut\", \"cut\", \"cut\", \"cut\", \"cut\", \"cyclist\", \"cyclone\", \"cyclone\", \"cyclone\", \"dangerous\", \"dangerous\", \"darcy\", \"darfur\", \"darling\", \"darling\", \"data\", \"daughter\", \"david\", \"day\", \"day\", \"dead\", \"dead\", \"dead\", \"dead\", \"dead\", \"dead\", \"dead\", \"dead\", \"death\", \"death\", \"death\", \"death\", \"death\", \"death\", \"death\", \"death\", \"death\", \"death\", \"debt\", \"declare\", \"declare\", \"declare\", \"declare\", \"declare\", \"demon\", \"dept\", \"dept\", \"dept\", \"desal\", \"development\", \"development\", \"development\", \"development\", \"development\", \"devil\", \"die\", \"die\", \"die\", \"die\", \"die\", \"die\", \"die\", \"digger\", \"dispute\", \"dispute\", \"dispute\", \"dispute\", \"dispute\", \"dispute\", \"dispute\", \"dispute\", \"dive\", \"diver\", \"docker\", \"docker\", \"doctor\", \"doctor\", \"doctor\", \"doctor\", \"doctor\", \"doctor\", \"doctor\", \"doctor\", \"doctor\", \"domestic\", \"doubt\", \"doubt\", \"doubt\", \"doubt\", \"doubt\", \"doubt\", \"dozen\", \"drag\", \"drag\", \"dragon\", \"driver\", \"driver\", \"driver\", \"driver\", \"driver\", \"driver\", \"driver\", \"driver\", \"drought\", \"drought\", \"drought\", \"drought\", \"drought\", \"drought\", \"drought\", \"drought\", \"drought\", \"drown\", \"drown\", \"drown\", \"dubbo\", \"eagle\", \"eagle\", \"earn\", \"earth\", \"earthquake\", \"ease\", \"ease\", \"ease\", \"ease\", \"ease\", \"easter\", \"easter\", \"easter\", \"education\", \"education\", \"education\", \"education\", \"education\", \"education\", \"emission\", \"emission\", \"energy\", \"energy\", \"energy\", \"england\", \"england\", \"england\", \"england\", \"england\", \"england\", \"england\", \"england\", \"enough\", \"enough\", \"estate\", \"evacuation\", \"evans\", \"executive\", \"expansion\", \"expansion\", \"explain\", \"explosion\", \"export\", \"export\", \"export\", \"export\", \"export\", \"extradition\", \"face\", \"face\", \"face\", \"face\", \"face\", \"face\", \"face\", \"face\", \"face\", \"face\", \"facility\", \"fake\", \"fall\", \"fall\", \"fall\", \"fall\", \"fall\", \"fall\", \"fall\", \"fall\", \"fall\", \"fall\", \"fan\", \"fan\", \"farewell\", \"farewell\", \"farewell\", \"farm\", \"farm\", \"farm\", \"farm\", \"farm\", \"farm\", \"farm\", \"farm\", \"farmer\", \"farmer\", \"farmer\", \"farmer\", \"farmer\", \"farmer\", \"farmer\", \"farmer\", \"fast\", \"fast\", \"fast\", \"fast\", \"fast\", \"fast\", \"fatal\", \"father\", \"father\", \"father\", \"father\", \"federal\", \"federal\", \"federal\", \"federal\", \"federal\", \"federal\", \"federer\", \"federer\", \"female\", \"final\", \"final\", \"final\", \"final\", \"final\", \"final\", \"final\", \"final\", \"final\", \"financial\", \"financial\", \"financial\", \"find\", \"find\", \"find\", \"find\", \"find\", \"find\", \"find\", \"find\", \"find\", \"find\", \"fire\", \"fire\", \"fire\", \"fire\", \"fire\", \"fire\", \"fire\", \"fire\", \"fire\", \"fire\", \"first\", \"first\", \"first\", \"first\", \"first\", \"first\", \"first\", \"first\", \"first\", \"first\", \"fish\", \"fish\", \"fish\", \"fish\", \"fish\", \"fish\", \"fix\", \"flight\", \"flight\", \"flood\", \"flood\", \"flood\", \"flood\", \"flood\", \"flood\", \"flood\", \"flood\", \"flood\", \"flow\", \"foley\", \"forestry\", \"fraud\", \"fraud\", \"fraud\", \"fraud\", \"fraud\", \"fraud\", \"friend\", \"fund\", \"fund\", \"fund\", \"fund\", \"fund\", \"fund\", \"fund\", \"fund\", \"fund\", \"fund\", \"gain\", \"gain\", \"garrett\", \"gaza\", \"gear\", \"generation\", \"george\", \"georgia\", \"gillard\", \"gippsland\", \"gippsland\", \"gippsland\", \"girl\", \"girl\", \"girl\", \"girl\", \"girl\", \"glass\", \"global\", \"global\", \"global\", \"global\", \"global\", \"gold\", \"gold\", \"gold\", \"gold\", \"gold\", \"gold\", \"goulburn\", \"government\", \"government\", \"government\", \"government\", \"government\", \"government\", \"govt\", \"govt\", \"govt\", \"govt\", \"govt\", \"govt\", \"govt\", \"govt\", \"govt\", \"govt\", \"grain\", \"grant\", \"grant\", \"grant\", \"grant\", \"grant\", \"grant\", \"green\", \"green\", \"green\", \"green\", \"green\", \"green\", \"green\", \"green\", \"green\", \"green\", \"group\", \"group\", \"group\", \"group\", \"group\", \"group\", \"group\", \"group\", \"group\", \"group\", \"grower\", \"grower\", \"grower\", \"grower\", \"grower\", \"growth\", \"growth\", \"growth\", \"growth\", \"guarantee\", \"guilty\", \"guilty\", \"guilty\", \"guilty\", \"gunman\", \"gunns\", \"hamilton\", \"haneef\", \"haneef\", \"haneef\", \"haneef\", \"hang\", \"hang\", \"harbour\", \"harvest\", \"health\", \"health\", \"health\", \"health\", \"health\", \"health\", \"health\", \"health\", \"health\", \"health\", \"heavy\", \"heritage\", \"hick\", \"high\", \"high\", \"high\", \"high\", \"high\", \"high\", \"high\", \"high\", \"high\", \"high\", \"hike\", \"history\", \"history\", \"hockey\", \"hockey\", \"holiday\", \"honour\", \"honour\", \"honour\", \"honour\", \"honour\", \"honour\", \"honour\", \"hospital\", \"hospital\", \"hospital\", \"hospital\", \"hospital\", \"hospital\", \"hospital\", \"hospital\", \"hospital\", \"hospital\", \"hospitalise\", \"hundred\", \"hundred\", \"hunt\", \"hunt\", \"hunt\", \"hunt\", \"hunt\", \"hunt\", \"hunt\", \"hurricane\", \"identify\", \"iemma\", \"illegal\", \"immigration\", \"impact\", \"impact\", \"impact\", \"impact\", \"impact\", \"import\", \"indigenous\", \"indigenous\", \"indigenous\", \"indigenous\", \"indigenous\", \"indigenous\", \"indigenous\", \"indigenous\", \"indigenous\", \"indigenous\", \"indonesia\", \"indonesia\", \"indonesia\", \"industrial\", \"industrial\", \"industry\", \"industry\", \"industry\", \"industry\", \"industry\", \"industry\", \"industry\", \"industry\", \"industry\", \"industry\", \"inflation\", \"infrastructure\", \"infrastructure\", \"injure\", \"injure\", \"injure\", \"injure\", \"injure\", \"injure\", \"injure\", \"injury\", \"injury\", \"injury\", \"injury\", \"injury\", \"injury\", \"injury\", \"inquest\", \"interest\", \"interest\", \"interest\", \"interest\", \"interest\", \"intervention\", \"interview\", \"interview\", \"interview\", \"invasion\", \"investigate\", \"investigate\", \"investigate\", \"investigate\", \"investigate\", \"investigate\", \"investigate\", \"investigate\", \"investigation\", \"investigation\", \"investigation\", \"investment\", \"iran\", \"iran\", \"iran\", \"iran\", \"iran\", \"iraq\", \"iraq\", \"iraq\", \"iraq\", \"iraq\", \"iraq\", \"iraq\", \"iraq\", \"iraq\", \"iraq\", \"irrigators\", \"italy\", \"italy\", \"italy\", \"italy\", \"jail\", \"jail\", \"jail\", \"jail\", \"jail\", \"jail\", \"jail\", \"jail\", \"jail\", \"jail\", \"jet\", \"job\", \"job\", \"job\", \"job\", \"job\", \"job\", \"job\", \"job\", \"jobless\", \"john\", \"john\", \"john\", \"johnson\", \"judge\", \"judge\", \"judge\", \"judge\", \"judge\", \"judge\", \"judge\", \"judge\", \"jury\", \"jury\", \"kevin\", \"kidnap\", \"kidnap\", \"kill\", \"kill\", \"kill\", \"kill\", \"kill\", \"kill\", \"kill\", \"kill\", \"korea\", \"korea\", \"korea\", \"labor\", \"labor\", \"labor\", \"labor\", \"labor\", \"labor\", \"labor\", \"labor\", \"labor\", \"lanka\", \"lanka\", \"lanka\", \"lanka\", \"launceston\", \"lawyer\", \"lawyer\", \"lawyer\", \"lawyer\", \"lawyer\", \"lay\", \"lead\", \"lead\", \"lead\", \"lead\", \"lead\", \"lead\", \"lead\", \"lead\", \"lead\", \"lead\", \"leadership\", \"leadership\", \"leadership\", \"learn\", \"least\", \"least\", \"legal\", \"legal\", \"legal\", \"legal\", \"legal\", \"legal\", \"libs\", \"libs\", \"libs\", \"lightning\", \"loan\", \"loom\", \"loss\", \"loss\", \"loss\", \"loss\", \"loss\", \"loss\", \"loss\", \"loss\", \"loss\", \"low\", \"low\", \"low\", \"low\", \"low\", \"macquarie\", \"man\", \"man\", \"man\", \"mariner\", \"market\", \"market\", \"market\", \"market\", \"market\", \"market\", \"market\", \"market\", \"market\", \"market\", \"mass\", \"match\", \"match\", \"match\", \"match\", \"match\", \"maternity\", \"matthew\", \"mccain\", \"mccain\", \"medal\", \"medical\", \"memorial\", \"men\", \"mental\", \"merger\", \"merger\", \"merger\", \"merger\", \"michael\", \"military\", \"military\", \"military\", \"military\", \"military\", \"mill\", \"mill\", \"mine\", \"mine\", \"mine\", \"mine\", \"mine\", \"mine\", \"mine\", \"mine\", \"mine\", \"mine\", \"minister\", \"minister\", \"minister\", \"minister\", \"minister\", \"minister\", \"minister\", \"minister\", \"minister\", \"minister\", \"miss\", \"miss\", \"miss\", \"miss\", \"miss\", \"miss\", \"miss\", \"miss\", \"miss\", \"miss\", \"missile\", \"missile\", \"mobile\", \"mokbel\", \"month\", \"month\", \"month\", \"month\", \"month\", \"mortgage\", \"motorist\", \"mount\", \"movie\", \"mugabe\", \"mumbai\", \"murder\", \"murder\", \"murder\", \"murder\", \"murder\", \"murder\", \"murder\", \"murder\", \"murder\", \"murray\", \"murray\", \"murray\", \"murray\", \"murray\", \"murray\", \"murray\", \"nadal\", \"native\", \"native\", \"neglect\", \"nelson\", \"nepal\", \"news\", \"nightclub\", \"nightclub\", \"north\", \"north\", \"north\", \"north\", \"north\", \"north\", \"north\", \"north\", \"north\", \"north\", \"nuclear\", \"nuclear\", \"nuclear\", \"nuclear\", \"nuclear\", \"nuclear\", \"nurse\", \"nurse\", \"nurse\", \"obama\", \"offender\", \"offender\", \"offender\", \"olympics\", \"olympics\", \"olympics\", \"olympics\", \"open\", \"open\", \"open\", \"open\", \"open\", \"open\", \"open\", \"open\", \"open\", \"open\", \"operator\", \"opposition\", \"opposition\", \"opposition\", \"opposition\", \"opposition\", \"opposition\", \"opposition\", \"opposition\", \"opposition\", \"opposition\", \"orange\", \"organiser\", \"origin\", \"origin\", \"outback\", \"outback\", \"outbreak\", \"outline\", \"outline\", \"outlook\", \"pacific\", \"pacific\", \"pacific\", \"package\", \"palm\", \"park\", \"park\", \"park\", \"park\", \"park\", \"park\", \"park\", \"park\", \"park\", \"partner\", \"passenger\", \"past\", \"patel\", \"patient\", \"patient\", \"patient\", \"paul\", \"pay\", \"pay\", \"pay\", \"pay\", \"payment\", \"pedestrian\", \"pensioner\", \"peter\", \"photo\", \"pick\", \"pilbara\", \"pipeline\", \"pipeline\", \"pirate\", \"pirate\", \"place\", \"place\", \"plan\", \"plan\", \"plan\", \"plan\", \"plan\", \"plan\", \"plan\", \"plan\", \"plan\", \"plan\", \"plane\", \"plane\", \"plane\", \"plant\", \"plant\", \"plant\", \"plant\", \"plant\", \"plant\", \"plead\", \"plot\", \"plunge\", \"police\", \"police\", \"police\", \"police\", \"police\", \"police\", \"police\", \"police\", \"police\", \"police\", \"policeman\", \"policeman\", \"policeman\", \"policeman\", \"political\", \"political\", \"political\", \"political\", \"ponting\", \"poor\", \"poor\", \"porn\", \"port\", \"port\", \"port\", \"port\", \"port\", \"port\", \"port\", \"port\", \"port\", \"port\", \"power\", \"power\", \"power\", \"power\", \"power\", \"power\", \"power\", \"power\", \"power\", \"power\", \"prevent\", \"price\", \"price\", \"price\", \"price\", \"price\", \"price\", \"price\", \"price\", \"price\", \"price\", \"priest\", \"prince\", \"prisoner\", \"prisoner\", \"prize\", \"probe\", \"probe\", \"probe\", \"probe\", \"probe\", \"probe\", \"probe\", \"probe\", \"probe\", \"probe\", \"production\", \"production\", \"profit\", \"profit\", \"profit\", \"profit\", \"profit\", \"profit\", \"profit\", \"program\", \"program\", \"program\", \"program\", \"program\", \"promise\", \"promise\", \"promise\", \"promise\", \"promise\", \"promise\", \"promise\", \"promise\", \"promise\", \"proposal\", \"proposal\", \"protea\", \"protea\", \"protection\", \"protection\", \"protection\", \"prove\", \"provide\", \"pulp\", \"punch\", \"qantas\", \"qantas\", \"qantas\", \"qantas\", \"qantas\", \"quake\", \"quake\", \"quake\", \"quake\", \"queen\", \"queensland\", \"quit\", \"quit\", \"quit\", \"quit\", \"quit\", \"quit\", \"raider\", \"rain\", \"rain\", \"rain\", \"rain\", \"rain\", \"rain\", \"rain\", \"rain\", \"rain\", \"raise\", \"raise\", \"raise\", \"raise\", \"rann\", \"rann\", \"rate\", \"rate\", \"rate\", \"rate\", \"rate\", \"rate\", \"rate\", \"rebel\", \"rebel\", \"rebel\", \"rebel\", \"rebel\", \"rebel\", \"recession\", \"recommend\", \"record\", \"record\", \"record\", \"record\", \"record\", \"record\", \"record\", \"record\", \"record\", \"record\", \"recovery\", \"recycle\", \"rees\", \"refuse\", \"refuse\", \"refuse\", \"refuse\", \"refuse\", \"refuse\", \"refuse\", \"refuse\", \"regional\", \"regional\", \"regional\", \"regional\", \"regional\", \"regional\", \"relief\", \"relief\", \"relief\", \"remember\", \"remote\", \"remove\", \"reopen\", \"reopen\", \"reporter\", \"reporter\", \"rescue\", \"rescue\", \"rescue\", \"rescue\", \"rescue\", \"rescue\", \"rescue\", \"rescue\", \"rescue\", \"rescue\", \"resident\", \"resident\", \"resident\", \"resident\", \"resident\", \"resident\", \"resident\", \"resident\", \"resident\", \"resident\", \"resignation\", \"resource\", \"restaurant\", \"restriction\", \"rethink\", \"revamp\", \"reward\", \"ride\", \"ring\", \"riot\", \"riot\", \"riot\", \"rise\", \"rise\", \"rise\", \"rise\", \"rise\", \"rise\", \"rise\", \"rise\", \"rise\", \"rise\", \"road\", \"road\", \"road\", \"road\", \"road\", \"road\", \"road\", \"road\", \"road\", \"road\", \"roar\", \"roar\", \"robber\", \"robber\", \"robbery\", \"royal\", \"royal\", \"rudd\", \"rural\", \"rural\", \"rush\", \"safe\", \"sailor\", \"sanction\", \"sanction\", \"say\", \"say\", \"say\", \"say\", \"say\", \"say\", \"say\", \"say\", \"say\", \"say\", \"scandal\", \"scare\", \"scare\", \"scheme\", \"scheme\", \"scheme\", \"scheme\", \"school\", \"school\", \"school\", \"school\", \"school\", \"school\", \"school\", \"school\", \"school\", \"school\", \"scott\", \"scott\", \"screen\", \"search\", \"search\", \"search\", \"search\", \"search\", \"search\", \"search\", \"search\", \"search\", \"sector\", \"seeker\", \"senior\", \"senior\", \"servant\", \"service\", \"service\", \"service\", \"service\", \"service\", \"service\", \"service\", \"service\", \"service\", \"service\", \"sexual\", \"shake\", \"shake\", \"share\", \"share\", \"share\", \"share\", \"share\", \"share\", \"share\", \"share\", \"share\", \"shareholder\", \"shoot\", \"shoot\", \"shoot\", \"shoot\", \"shoot\", \"shoot\", \"shoot\", \"shoot\", \"shut\", \"sign\", \"sign\", \"sign\", \"sign\", \"sign\", \"sign\", \"sign\", \"sign\", \"sign\", \"sign\", \"single\", \"slash\", \"slump\", \"slump\", \"slump\", \"smash\", \"smith\", \"smith\", \"snow\", \"snowy\", \"soar\", \"solar\", \"solar\", \"son\", \"sorry\", \"south\", \"south\", \"south\", \"south\", \"south\", \"south\", \"south\", \"south\", \"south\", \"south\", \"speak\", \"speak\", \"speak\", \"spend\", \"spend\", \"spend\", \"spend\", \"spend\", \"spend\", \"spend\", \"spend\", \"spirit\", \"spring\", \"springborg\", \"stab\", \"stay\", \"stay\", \"stay\", \"stay\", \"stay\", \"stay\", \"stay\", \"stay\", \"steal\", \"steal\", \"steal\", \"steal\", \"steal\", \"steal\", \"step\", \"step\", \"step\", \"stimulus\", \"stock\", \"stock\", \"stock\", \"storm\", \"storm\", \"storm\", \"storm\", \"storm\", \"storm\", \"storm\", \"storm\", \"storm\", \"storm\", \"strategy\", \"street\", \"street\", \"street\", \"strike\", \"strike\", \"strike\", \"strike\", \"strike\", \"strike\", \"strike\", \"strike\", \"strike\", \"strike\", \"sunshine\", \"supply\", \"supply\", \"surge\", \"surprise\", \"surprise\", \"survivor\", \"survivor\", \"suspend\", \"suspension\", \"suspicious\", \"swan\", \"swan\", \"swear\", \"symonds\", \"tafe\", \"take\", \"take\", \"take\", \"take\", \"take\", \"take\", \"take\", \"take\", \"take\", \"take\", \"takeover\", \"takeover\", \"takeover\", \"takeover\", \"takeover\", \"taliban\", \"talk\", \"talk\", \"talk\", \"talk\", \"talk\", \"talk\", \"talk\", \"talk\", \"talk\", \"talk\", \"teacher\", \"teacher\", \"teacher\", \"teacher\", \"teen\", \"teen\", \"teen\", \"teen\", \"teen\", \"teen\", \"territory\", \"thai\", \"thai\", \"thai\", \"thai\", \"thai\", \"theft\", \"thousand\", \"thousand\", \"thousand\", \"thousand\", \"thousand\", \"thousand\", \"tibet\", \"tie\", \"tie\", \"tiger\", \"tiger\", \"tiger\", \"tiger\", \"tiger\", \"timber\", \"timor\", \"timor\", \"timor\", \"timor\", \"timor\", \"timor\", \"titan\", \"toddler\", \"toddler\", \"toddler\", \"toowoomba\", \"torch\", \"torture\", \"tour\", \"tour\", \"tour\", \"tour\", \"tour\", \"tour\", \"tour\", \"tour\", \"tour\", \"tour\", \"townsville\", \"track\", \"track\", \"track\", \"track\", \"track\", \"track\", \"track\", \"traffic\", \"traffic\", \"traffic\", \"treasurer\", \"treasurer\", \"tree\", \"tribute\", \"trip\", \"troop\", \"troop\", \"troop\", \"troop\", \"troop\", \"troop\", \"troop\", \"troop\", \"truck\", \"truck\", \"tunnel\", \"tunnel\", \"turnbull\", \"twenty20\", \"unemployment\", \"union\", \"union\", \"union\", \"union\", \"union\", \"union\", \"union\", \"union\", \"union\", \"union\", \"unite\", \"unite\", \"unite\", \"unite\", \"unite\", \"unite\", \"unite\", \"unite\", \"unite\", \"upper\", \"uranium\", \"urge\", \"urge\", \"urge\", \"urge\", \"urge\", \"urge\", \"urge\", \"urge\", \"urge\", \"urge\", \"verdict\", \"victory\", \"victory\", \"victory\", \"victory\", \"victory\", \"victory\", \"victory\", \"video\", \"violent\", \"volunteer\", \"volunteer\", \"walk\", \"walk\", \"warn\", \"warn\", \"warn\", \"warn\", \"warn\", \"warn\", \"warn\", \"warn\", \"warn\", \"warn\", \"watch\", \"watch\", \"watch\", \"watch\", \"water\", \"water\", \"water\", \"water\", \"water\", \"water\", \"water\", \"water\", \"water\", \"water\", \"weather\", \"weather\", \"weather\", \"weather\", \"west\", \"west\", \"west\", \"west\", \"west\", \"west\", \"west\", \"west\", \"west\", \"west\", \"whale\", \"whale\", \"whale\", \"whale\", \"whale\", \"wild\", \"williams\", \"win\", \"win\", \"win\", \"win\", \"win\", \"win\", \"win\", \"win\", \"win\", \"win\", \"wind\", \"wind\", \"wind\", \"wind\", \"wind\", \"wind\", \"wind\", \"wollongong\", \"woman\", \"woman\", \"woman\", \"woman\", \"woman\", \"woman\", \"woman\", \"woman\", \"woman\", \"woman\", \"worker\", \"worker\", \"worker\", \"worker\", \"worker\", \"worker\", \"worker\", \"worker\", \"worker\", \"worker\", \"workplace\", \"world\", \"world\", \"world\", \"world\", \"world\", \"world\", \"world\", \"world\", \"world\", \"world\", \"worry\", \"worry\", \"worry\", \"worry\", \"worsen\", \"wound\", \"wound\", \"year\", \"year\", \"year\", \"year\", \"year\", \"year\", \"year\", \"year\", \"year\", \"year\", \"zimbabwe\", \"zimbabwe\", \"zimbabwe\", \"zimbabwe\"]}, \"R\": 30, \"lambda.step\": 0.01, \"plot.opts\": {\"xlab\": \"PC1\", \"ylab\": \"PC2\"}, \"topic.order\": [4, 1, 7, 5, 2, 10, 8, 9, 6, 3]};\n",
       "\n",
       "function LDAvis_load_lib(url, callback){\n",
       "  var s = document.createElement('script');\n",
       "  s.src = url;\n",
       "  s.async = true;\n",
       "  s.onreadystatechange = s.onload = callback;\n",
       "  s.onerror = function(){console.warn(\"failed to load library \" + url);};\n",
       "  document.getElementsByTagName(\"head\")[0].appendChild(s);\n",
       "}\n",
       "\n",
       "if(typeof(LDAvis) !== \"undefined\"){\n",
       "   // already loaded: just create the visualization\n",
       "   !function(LDAvis){\n",
       "       new LDAvis(\"#\" + \"ldavis_el834025638219608804000692830\", ldavis_el834025638219608804000692830_data);\n",
       "   }(LDAvis);\n",
       "}else if(typeof define === \"function\" && define.amd){\n",
       "   // require.js is available: use it to load d3/LDAvis\n",
       "   require.config({paths: {d3: \"https://d3js.org/d3.v5\"}});\n",
       "   require([\"d3\"], function(d3){\n",
       "      window.d3 = d3;\n",
       "      LDAvis_load_lib(\"https://cdn.jsdelivr.net/gh/bmabey/pyLDAvis@3.3.1/pyLDAvis/js/ldavis.v3.0.0.js\", function(){\n",
       "        new LDAvis(\"#\" + \"ldavis_el834025638219608804000692830\", ldavis_el834025638219608804000692830_data);\n",
       "      });\n",
       "    });\n",
       "}else{\n",
       "    // require.js not available: dynamically load d3 & LDAvis\n",
       "    LDAvis_load_lib(\"https://d3js.org/d3.v5.js\", function(){\n",
       "         LDAvis_load_lib(\"https://cdn.jsdelivr.net/gh/bmabey/pyLDAvis@3.3.1/pyLDAvis/js/ldavis.v3.0.0.js\", function(){\n",
       "                 new LDAvis(\"#\" + \"ldavis_el834025638219608804000692830\", ldavis_el834025638219608804000692830_data);\n",
       "            })\n",
       "         });\n",
       "}\n",
       "</script>"
      ],
      "text/plain": [
       "<IPython.core.display.HTML object>"
      ]
     },
     "execution_count": 43,
     "metadata": {},
     "output_type": "execute_result"
    }
   ],
   "source": [
    "pyLDAvis.enable_notebook()\n",
    "vis = gensimvis.prepare(lda_model_tfidf, corpus_tfidf, dictionary)\n",
    "pyLDAvis.display(vis)"
   ]
  },
  {
   "cell_type": "markdown",
   "metadata": {},
   "source": [
    "## rajout nom topics"
   ]
  },
  {
   "cell_type": "code",
   "execution_count": 77,
   "metadata": {
    "ExecuteTime": {
     "end_time": "2021-07-26T20:52:04.306503Z",
     "start_time": "2021-07-26T20:52:03.969331Z"
    }
   },
   "outputs": [
    {
     "name": "stderr",
     "output_type": "stream",
     "text": [
      "C:\\Users\\utilisateur\\anaconda3\\lib\\site-packages\\ipykernel\\ipkernel.py:287: DeprecationWarning: `should_run_async` will not call `transform_cell` automatically in the future. Please pass the result to `transformed_cell` argument and any exception that happen during thetransform in `preprocessing_exc_tuple` in IPython 7.17 and above.\n",
      "  and should_run_async(code)\n"
     ]
    }
   ],
   "source": [
    "df['topic']= max_list_topics"
   ]
  },
  {
   "cell_type": "code",
   "execution_count": 78,
   "metadata": {
    "ExecuteTime": {
     "end_time": "2021-07-26T20:52:48.206683Z",
     "start_time": "2021-07-26T20:52:48.174856Z"
    }
   },
   "outputs": [
    {
     "name": "stderr",
     "output_type": "stream",
     "text": [
      "C:\\Users\\utilisateur\\anaconda3\\lib\\site-packages\\ipykernel\\ipkernel.py:287: DeprecationWarning: `should_run_async` will not call `transform_cell` automatically in the future. Please pass the result to `transformed_cell` argument and any exception that happen during thetransform in `preprocessing_exc_tuple` in IPython 7.17 and above.\n",
      "  and should_run_async(code)\n"
     ]
    },
    {
     "data": {
      "text/html": [
       "<div>\n",
       "<style scoped>\n",
       "    .dataframe tbody tr th:only-of-type {\n",
       "        vertical-align: middle;\n",
       "    }\n",
       "\n",
       "    .dataframe tbody tr th {\n",
       "        vertical-align: top;\n",
       "    }\n",
       "\n",
       "    .dataframe thead th {\n",
       "        text-align: right;\n",
       "    }\n",
       "</style>\n",
       "<table border=\"1\" class=\"dataframe\">\n",
       "  <thead>\n",
       "    <tr style=\"text-align: right;\">\n",
       "      <th></th>\n",
       "      <th>publish_date</th>\n",
       "      <th>headline_text</th>\n",
       "      <th>sentence</th>\n",
       "      <th>topic</th>\n",
       "      <th>topics_name</th>\n",
       "    </tr>\n",
       "  </thead>\n",
       "  <tbody>\n",
       "    <tr>\n",
       "      <th>0</th>\n",
       "      <td>20030219</td>\n",
       "      <td>aba decides against community broadcasting lic...</td>\n",
       "      <td>[decide, community, broadcast, licence]</td>\n",
       "      <td>(9, 0.4159077)</td>\n",
       "      <td>society</td>\n",
       "    </tr>\n",
       "    <tr>\n",
       "      <th>1</th>\n",
       "      <td>20030219</td>\n",
       "      <td>act fire witnesses must be aware of defamation</td>\n",
       "      <td>[fire, witness, must, aware, defamation]</td>\n",
       "      <td>(3, 0.3459811)</td>\n",
       "      <td>election</td>\n",
       "    </tr>\n",
       "    <tr>\n",
       "      <th>2</th>\n",
       "      <td>20030219</td>\n",
       "      <td>a g calls for infrastructure protection summit</td>\n",
       "      <td>[call, infrastructure, protection, summit]</td>\n",
       "      <td>(3, 0.50764495)</td>\n",
       "      <td>election</td>\n",
       "    </tr>\n",
       "    <tr>\n",
       "      <th>3</th>\n",
       "      <td>20030219</td>\n",
       "      <td>air nz staff in aust strike for pay rise</td>\n",
       "      <td>[staff, aust, strike, rise]</td>\n",
       "      <td>(2, 0.6992929)</td>\n",
       "      <td>justice</td>\n",
       "    </tr>\n",
       "    <tr>\n",
       "      <th>4</th>\n",
       "      <td>20030219</td>\n",
       "      <td>air nz strike to affect australian travellers</td>\n",
       "      <td>[strike, affect, australian, traveller]</td>\n",
       "      <td>(7, 0.5364289)</td>\n",
       "      <td>local news</td>\n",
       "    </tr>\n",
       "  </tbody>\n",
       "</table>\n",
       "</div>"
      ],
      "text/plain": [
       "   publish_date                                      headline_text  \\\n",
       "0      20030219  aba decides against community broadcasting lic...   \n",
       "1      20030219     act fire witnesses must be aware of defamation   \n",
       "2      20030219     a g calls for infrastructure protection summit   \n",
       "3      20030219           air nz staff in aust strike for pay rise   \n",
       "4      20030219      air nz strike to affect australian travellers   \n",
       "\n",
       "                                     sentence            topic topics_name  \n",
       "0     [decide, community, broadcast, licence]   (9, 0.4159077)     society  \n",
       "1    [fire, witness, must, aware, defamation]   (3, 0.3459811)    election  \n",
       "2  [call, infrastructure, protection, summit]  (3, 0.50764495)    election  \n",
       "3                 [staff, aust, strike, rise]   (2, 0.6992929)     justice  \n",
       "4     [strike, affect, australian, traveller]   (7, 0.5364289)  local news  "
      ]
     },
     "execution_count": 78,
     "metadata": {},
     "output_type": "execute_result"
    }
   ],
   "source": [
    "df.head()"
   ]
  },
  {
   "cell_type": "code",
   "execution_count": 71,
   "metadata": {
    "ExecuteTime": {
     "end_time": "2021-07-26T20:42:48.834885Z",
     "start_time": "2021-07-26T20:42:48.804102Z"
    }
   },
   "outputs": [
    {
     "name": "stdout",
     "output_type": "stream",
     "text": [
      "0.022*\"police\" + 0.017*\"crash\" + 0.016*\"charge\" + 0.015*\"kill\" + 0.010*\"death\" + 0.009*\"miss\" + 0.009*\"court\" + 0.009*\"murder\"\n",
      "0.026*\"close\" + 0.016*\"market\" + 0.009*\"guilty\" + 0.007*\"plead\" + 0.006*\"profit\" + 0.006*\"record\" + 0.005*\"fall\" + 0.005*\"high\"\n",
      "0.008*\"teacher\" + 0.007*\"nurse\" + 0.006*\"action\" + 0.006*\"swan\" + 0.006*\"safe\" + 0.006*\"strike\" + 0.006*\"clean\" + 0.005*\"track\"\n",
      "0.011*\"govt\" + 0.011*\"fund\" + 0.010*\"health\" + 0.007*\"plan\" + 0.007*\"indigenous\" + 0.006*\"council\" + 0.006*\"service\" + 0.006*\"centre\"\n",
      "0.010*\"climate\" + 0.006*\"change\" + 0.005*\"troop\" + 0.005*\"whale\" + 0.005*\"step\" + 0.005*\"lawyer\" + 0.005*\"thousand\" + 0.005*\"say\"\n",
      "0.014*\"interview\" + 0.012*\"coast\" + 0.011*\"gold\" + 0.006*\"honour\" + 0.006*\"smith\" + 0.006*\"alice\" + 0.006*\"beach\" + 0.006*\"thai\"\n",
      "0.014*\"water\" + 0.009*\"council\" + 0.008*\"govt\" + 0.008*\"plan\" + 0.008*\"farmer\" + 0.006*\"urge\" + 0.006*\"drought\" + 0.006*\"flood\"\n",
      "0.007*\"aussie\" + 0.006*\"suspend\" + 0.006*\"black\" + 0.006*\"qantas\" + 0.005*\"beijing\" + 0.005*\"flight\" + 0.005*\"quit\" + 0.005*\"world\"\n",
      "0.010*\"obama\" + 0.006*\"korea\" + 0.005*\"tiger\" + 0.005*\"nuclear\" + 0.005*\"talk\" + 0.005*\"brown\" + 0.005*\"unite\" + 0.005*\"revamp\"\n",
      "0.017*\"rudd\" + 0.009*\"bail\" + 0.007*\"child\" + 0.006*\"afghan\" + 0.006*\"court\" + 0.005*\"accuse\" + 0.005*\"indonesia\" + 0.005*\"porn\"\n"
     ]
    },
    {
     "name": "stderr",
     "output_type": "stream",
     "text": [
      "C:\\Users\\utilisateur\\anaconda3\\lib\\site-packages\\ipykernel\\ipkernel.py:287: DeprecationWarning: `should_run_async` will not call `transform_cell` automatically in the future. Please pass the result to `transformed_cell` argument and any exception that happen during thetransform in `preprocessing_exc_tuple` in IPython 7.17 and above.\n",
      "  and should_run_async(code)\n"
     ]
    }
   ],
   "source": [
    "for i in range(10):\n",
    "    print(lda_model_tfidf.print_topic(i, 8))    "
   ]
  },
  {
   "cell_type": "code",
   "execution_count": 47,
   "metadata": {
    "ExecuteTime": {
     "end_time": "2021-07-26T13:46:08.345616Z",
     "start_time": "2021-07-26T13:46:08.322678Z"
    }
   },
   "outputs": [
    {
     "name": "stderr",
     "output_type": "stream",
     "text": [
      "C:\\Users\\utilisateur\\anaconda3\\lib\\site-packages\\ipykernel\\ipkernel.py:287: DeprecationWarning: `should_run_async` will not call `transform_cell` automatically in the future. Please pass the result to `transformed_cell` argument and any exception that happen during thetransform in `preprocessing_exc_tuple` in IPython 7.17 and above.\n",
      "  and should_run_async(code)\n"
     ]
    }
   ],
   "source": [
    "dict_topics_name={0:'politics', 1:'world', 2: 'justice',\n",
    "                  3:'election', 4:'minor news', 5:'economy',\n",
    "                  6:'interview', 7:'local news', 8:'criminality',9:'society'}"
   ]
  },
  {
   "cell_type": "code",
   "execution_count": 82,
   "metadata": {
    "ExecuteTime": {
     "end_time": "2021-07-26T20:54:44.524701Z",
     "start_time": "2021-07-26T20:54:32.969433Z"
    },
    "scrolled": true
   },
   "outputs": [
    {
     "name": "stderr",
     "output_type": "stream",
     "text": [
      "C:\\Users\\utilisateur\\anaconda3\\lib\\site-packages\\ipykernel\\ipkernel.py:287: DeprecationWarning: `should_run_async` will not call `transform_cell` automatically in the future. Please pass the result to `transformed_cell` argument and any exception that happen during thetransform in `preprocessing_exc_tuple` in IPython 7.17 and above.\n",
      "  and should_run_async(code)\n"
     ]
    }
   ],
   "source": [
    "dict_topics_name={0:'criminality', 1:'economy', 2: 'society',\n",
    "                  3:'politics', 4:'environment', 5:'minor news',\n",
    "                  6:'local politic', 7:'international news', 8:'international politic',9:'foreign criminality '}\n",
    "\n",
    "\n",
    "\n",
    "i=0\n",
    "for topic_id,value in df['topic']:\n",
    "    df.at[i,'topics_name']=dict_topics_name[topic_id]\n",
    "    i+=1"
   ]
  },
  {
   "cell_type": "code",
   "execution_count": 83,
   "metadata": {
    "ExecuteTime": {
     "end_time": "2021-07-26T20:54:52.524475Z",
     "start_time": "2021-07-26T20:54:52.485872Z"
    }
   },
   "outputs": [
    {
     "name": "stderr",
     "output_type": "stream",
     "text": [
      "C:\\Users\\utilisateur\\anaconda3\\lib\\site-packages\\ipykernel\\ipkernel.py:287: DeprecationWarning: `should_run_async` will not call `transform_cell` automatically in the future. Please pass the result to `transformed_cell` argument and any exception that happen during thetransform in `preprocessing_exc_tuple` in IPython 7.17 and above.\n",
      "  and should_run_async(code)\n"
     ]
    },
    {
     "data": {
      "text/html": [
       "<div>\n",
       "<style scoped>\n",
       "    .dataframe tbody tr th:only-of-type {\n",
       "        vertical-align: middle;\n",
       "    }\n",
       "\n",
       "    .dataframe tbody tr th {\n",
       "        vertical-align: top;\n",
       "    }\n",
       "\n",
       "    .dataframe thead th {\n",
       "        text-align: right;\n",
       "    }\n",
       "</style>\n",
       "<table border=\"1\" class=\"dataframe\">\n",
       "  <thead>\n",
       "    <tr style=\"text-align: right;\">\n",
       "      <th></th>\n",
       "      <th>publish_date</th>\n",
       "      <th>headline_text</th>\n",
       "      <th>sentence</th>\n",
       "      <th>topic</th>\n",
       "      <th>topics_name</th>\n",
       "    </tr>\n",
       "  </thead>\n",
       "  <tbody>\n",
       "    <tr>\n",
       "      <th>0</th>\n",
       "      <td>20030219</td>\n",
       "      <td>aba decides against community broadcasting lic...</td>\n",
       "      <td>[decide, community, broadcast, licence]</td>\n",
       "      <td>(9, 0.4159077)</td>\n",
       "      <td>foreign criminality</td>\n",
       "    </tr>\n",
       "    <tr>\n",
       "      <th>1</th>\n",
       "      <td>20030219</td>\n",
       "      <td>act fire witnesses must be aware of defamation</td>\n",
       "      <td>[fire, witness, must, aware, defamation]</td>\n",
       "      <td>(3, 0.3459811)</td>\n",
       "      <td>politics</td>\n",
       "    </tr>\n",
       "    <tr>\n",
       "      <th>2</th>\n",
       "      <td>20030219</td>\n",
       "      <td>a g calls for infrastructure protection summit</td>\n",
       "      <td>[call, infrastructure, protection, summit]</td>\n",
       "      <td>(3, 0.50764495)</td>\n",
       "      <td>politics</td>\n",
       "    </tr>\n",
       "    <tr>\n",
       "      <th>3</th>\n",
       "      <td>20030219</td>\n",
       "      <td>air nz staff in aust strike for pay rise</td>\n",
       "      <td>[staff, aust, strike, rise]</td>\n",
       "      <td>(2, 0.6992929)</td>\n",
       "      <td>society</td>\n",
       "    </tr>\n",
       "    <tr>\n",
       "      <th>4</th>\n",
       "      <td>20030219</td>\n",
       "      <td>air nz strike to affect australian travellers</td>\n",
       "      <td>[strike, affect, australian, traveller]</td>\n",
       "      <td>(7, 0.5364289)</td>\n",
       "      <td>international news</td>\n",
       "    </tr>\n",
       "  </tbody>\n",
       "</table>\n",
       "</div>"
      ],
      "text/plain": [
       "   publish_date                                      headline_text  \\\n",
       "0      20030219  aba decides against community broadcasting lic...   \n",
       "1      20030219     act fire witnesses must be aware of defamation   \n",
       "2      20030219     a g calls for infrastructure protection summit   \n",
       "3      20030219           air nz staff in aust strike for pay rise   \n",
       "4      20030219      air nz strike to affect australian travellers   \n",
       "\n",
       "                                     sentence            topic  \\\n",
       "0     [decide, community, broadcast, licence]   (9, 0.4159077)   \n",
       "1    [fire, witness, must, aware, defamation]   (3, 0.3459811)   \n",
       "2  [call, infrastructure, protection, summit]  (3, 0.50764495)   \n",
       "3                 [staff, aust, strike, rise]   (2, 0.6992929)   \n",
       "4     [strike, affect, australian, traveller]   (7, 0.5364289)   \n",
       "\n",
       "            topics_name  \n",
       "0  foreign criminality   \n",
       "1              politics  \n",
       "2              politics  \n",
       "3               society  \n",
       "4    international news  "
      ]
     },
     "execution_count": 83,
     "metadata": {},
     "output_type": "execute_result"
    }
   ],
   "source": [
    "df.head()"
   ]
  },
  {
   "cell_type": "code",
   "execution_count": 49,
   "metadata": {
    "ExecuteTime": {
     "end_time": "2021-07-26T13:46:22.638735Z",
     "start_time": "2021-07-26T13:46:22.267733Z"
    }
   },
   "outputs": [
    {
     "name": "stderr",
     "output_type": "stream",
     "text": [
      "C:\\Users\\utilisateur\\anaconda3\\lib\\site-packages\\ipykernel\\ipkernel.py:287: DeprecationWarning: `should_run_async` will not call `transform_cell` automatically in the future. Please pass the result to `transformed_cell` argument and any exception that happen during thetransform in `preprocessing_exc_tuple` in IPython 7.17 and above.\n",
      "  and should_run_async(code)\n"
     ]
    }
   ],
   "source": [
    "a_list = [el[1] for el in df['topic']]"
   ]
  },
  {
   "cell_type": "code",
   "execution_count": 50,
   "metadata": {
    "ExecuteTime": {
     "end_time": "2021-07-26T13:46:22.996963Z",
     "start_time": "2021-07-26T13:46:22.646262Z"
    }
   },
   "outputs": [
    {
     "name": "stderr",
     "output_type": "stream",
     "text": [
      "C:\\Users\\utilisateur\\anaconda3\\lib\\site-packages\\ipykernel\\ipkernel.py:287: DeprecationWarning: `should_run_async` will not call `transform_cell` automatically in the future. Please pass the result to `transformed_cell` argument and any exception that happen during thetransform in `preprocessing_exc_tuple` in IPython 7.17 and above.\n",
      "  and should_run_async(code)\n"
     ]
    }
   ],
   "source": [
    "df['topic']=a_list"
   ]
  },
  {
   "cell_type": "code",
   "execution_count": 51,
   "metadata": {
    "ExecuteTime": {
     "end_time": "2021-07-26T13:46:23.079744Z",
     "start_time": "2021-07-26T13:46:23.003947Z"
    }
   },
   "outputs": [
    {
     "name": "stderr",
     "output_type": "stream",
     "text": [
      "C:\\Users\\utilisateur\\anaconda3\\lib\\site-packages\\ipykernel\\ipkernel.py:287: DeprecationWarning: `should_run_async` will not call `transform_cell` automatically in the future. Please pass the result to `transformed_cell` argument and any exception that happen during thetransform in `preprocessing_exc_tuple` in IPython 7.17 and above.\n",
      "  and should_run_async(code)\n"
     ]
    },
    {
     "data": {
      "text/html": [
       "<div>\n",
       "<style scoped>\n",
       "    .dataframe tbody tr th:only-of-type {\n",
       "        vertical-align: middle;\n",
       "    }\n",
       "\n",
       "    .dataframe tbody tr th {\n",
       "        vertical-align: top;\n",
       "    }\n",
       "\n",
       "    .dataframe thead th {\n",
       "        text-align: right;\n",
       "    }\n",
       "</style>\n",
       "<table border=\"1\" class=\"dataframe\">\n",
       "  <thead>\n",
       "    <tr style=\"text-align: right;\">\n",
       "      <th></th>\n",
       "      <th>publish_date</th>\n",
       "      <th>headline_text</th>\n",
       "      <th>sentence</th>\n",
       "      <th>topic</th>\n",
       "      <th>topics_name</th>\n",
       "    </tr>\n",
       "  </thead>\n",
       "  <tbody>\n",
       "    <tr>\n",
       "      <th>0</th>\n",
       "      <td>20030219</td>\n",
       "      <td>aba decides against community broadcasting lic...</td>\n",
       "      <td>[decide, community, broadcast, licence]</td>\n",
       "      <td>0.415908</td>\n",
       "      <td>society</td>\n",
       "    </tr>\n",
       "    <tr>\n",
       "      <th>1</th>\n",
       "      <td>20030219</td>\n",
       "      <td>act fire witnesses must be aware of defamation</td>\n",
       "      <td>[fire, witness, must, aware, defamation]</td>\n",
       "      <td>0.345981</td>\n",
       "      <td>election</td>\n",
       "    </tr>\n",
       "    <tr>\n",
       "      <th>2</th>\n",
       "      <td>20030219</td>\n",
       "      <td>a g calls for infrastructure protection summit</td>\n",
       "      <td>[call, infrastructure, protection, summit]</td>\n",
       "      <td>0.507645</td>\n",
       "      <td>election</td>\n",
       "    </tr>\n",
       "    <tr>\n",
       "      <th>3</th>\n",
       "      <td>20030219</td>\n",
       "      <td>air nz staff in aust strike for pay rise</td>\n",
       "      <td>[staff, aust, strike, rise]</td>\n",
       "      <td>0.699293</td>\n",
       "      <td>justice</td>\n",
       "    </tr>\n",
       "    <tr>\n",
       "      <th>4</th>\n",
       "      <td>20030219</td>\n",
       "      <td>air nz strike to affect australian travellers</td>\n",
       "      <td>[strike, affect, australian, traveller]</td>\n",
       "      <td>0.536429</td>\n",
       "      <td>local news</td>\n",
       "    </tr>\n",
       "  </tbody>\n",
       "</table>\n",
       "</div>"
      ],
      "text/plain": [
       "   publish_date                                      headline_text  \\\n",
       "0      20030219  aba decides against community broadcasting lic...   \n",
       "1      20030219     act fire witnesses must be aware of defamation   \n",
       "2      20030219     a g calls for infrastructure protection summit   \n",
       "3      20030219           air nz staff in aust strike for pay rise   \n",
       "4      20030219      air nz strike to affect australian travellers   \n",
       "\n",
       "                                     sentence     topic topics_name  \n",
       "0     [decide, community, broadcast, licence]  0.415908     society  \n",
       "1    [fire, witness, must, aware, defamation]  0.345981    election  \n",
       "2  [call, infrastructure, protection, summit]  0.507645    election  \n",
       "3                 [staff, aust, strike, rise]  0.699293     justice  \n",
       "4     [strike, affect, australian, traveller]  0.536429  local news  "
      ]
     },
     "execution_count": 51,
     "metadata": {},
     "output_type": "execute_result"
    }
   ],
   "source": [
    "df.head()"
   ]
  },
  {
   "cell_type": "code",
   "execution_count": 52,
   "metadata": {
    "ExecuteTime": {
     "end_time": "2021-07-26T13:46:23.107667Z",
     "start_time": "2021-07-26T13:46:23.087723Z"
    }
   },
   "outputs": [
    {
     "name": "stderr",
     "output_type": "stream",
     "text": [
      "C:\\Users\\utilisateur\\anaconda3\\lib\\site-packages\\ipykernel\\ipkernel.py:287: DeprecationWarning: `should_run_async` will not call `transform_cell` automatically in the future. Please pass the result to `transformed_cell` argument and any exception that happen during thetransform in `preprocessing_exc_tuple` in IPython 7.17 and above.\n",
      "  and should_run_async(code)\n"
     ]
    }
   ],
   "source": [
    "#df.to_csv('topics_abc_news2.csv',sep=';',index=False)"
   ]
  },
  {
   "cell_type": "code",
   "execution_count": 53,
   "metadata": {
    "ExecuteTime": {
     "end_time": "2021-07-26T13:46:23.203413Z",
     "start_time": "2021-07-26T13:46:23.113652Z"
    }
   },
   "outputs": [
    {
     "name": "stderr",
     "output_type": "stream",
     "text": [
      "C:\\Users\\utilisateur\\anaconda3\\lib\\site-packages\\ipykernel\\ipkernel.py:287: DeprecationWarning: `should_run_async` will not call `transform_cell` automatically in the future. Please pass the result to `transformed_cell` argument and any exception that happen during thetransform in `preprocessing_exc_tuple` in IPython 7.17 and above.\n",
      "  and should_run_async(code)\n"
     ]
    }
   ],
   "source": [
    "import pickle"
   ]
  },
  {
   "cell_type": "code",
   "execution_count": 54,
   "metadata": {
    "ExecuteTime": {
     "end_time": "2021-07-26T13:46:23.234336Z",
     "start_time": "2021-07-26T13:46:23.210395Z"
    }
   },
   "outputs": [
    {
     "name": "stderr",
     "output_type": "stream",
     "text": [
      "C:\\Users\\utilisateur\\anaconda3\\lib\\site-packages\\ipykernel\\ipkernel.py:287: DeprecationWarning: `should_run_async` will not call `transform_cell` automatically in the future. Please pass the result to `transformed_cell` argument and any exception that happen during thetransform in `preprocessing_exc_tuple` in IPython 7.17 and above.\n",
      "  and should_run_async(code)\n"
     ]
    }
   ],
   "source": [
    "#df.to_pickle('topics_abc_news2')"
   ]
  },
  {
   "cell_type": "code",
   "execution_count": 55,
   "metadata": {
    "ExecuteTime": {
     "end_time": "2021-07-26T13:46:23.330074Z",
     "start_time": "2021-07-26T13:46:23.240315Z"
    }
   },
   "outputs": [
    {
     "name": "stderr",
     "output_type": "stream",
     "text": [
      "C:\\Users\\utilisateur\\anaconda3\\lib\\site-packages\\ipykernel\\ipkernel.py:287: DeprecationWarning: `should_run_async` will not call `transform_cell` automatically in the future. Please pass the result to `transformed_cell` argument and any exception that happen during thetransform in `preprocessing_exc_tuple` in IPython 7.17 and above.\n",
      "  and should_run_async(code)\n"
     ]
    },
    {
     "data": {
      "text/html": [
       "<div>\n",
       "<style scoped>\n",
       "    .dataframe tbody tr th:only-of-type {\n",
       "        vertical-align: middle;\n",
       "    }\n",
       "\n",
       "    .dataframe tbody tr th {\n",
       "        vertical-align: top;\n",
       "    }\n",
       "\n",
       "    .dataframe thead th {\n",
       "        text-align: right;\n",
       "    }\n",
       "</style>\n",
       "<table border=\"1\" class=\"dataframe\">\n",
       "  <thead>\n",
       "    <tr style=\"text-align: right;\">\n",
       "      <th></th>\n",
       "      <th>publish_date</th>\n",
       "      <th>headline_text</th>\n",
       "      <th>sentence</th>\n",
       "      <th>topic</th>\n",
       "      <th>topics_name</th>\n",
       "    </tr>\n",
       "  </thead>\n",
       "  <tbody>\n",
       "    <tr>\n",
       "      <th>0</th>\n",
       "      <td>20030219</td>\n",
       "      <td>aba decides against community broadcasting lic...</td>\n",
       "      <td>[decide, community, broadcast, licence]</td>\n",
       "      <td>0.415908</td>\n",
       "      <td>society</td>\n",
       "    </tr>\n",
       "    <tr>\n",
       "      <th>1</th>\n",
       "      <td>20030219</td>\n",
       "      <td>act fire witnesses must be aware of defamation</td>\n",
       "      <td>[fire, witness, must, aware, defamation]</td>\n",
       "      <td>0.345981</td>\n",
       "      <td>election</td>\n",
       "    </tr>\n",
       "    <tr>\n",
       "      <th>2</th>\n",
       "      <td>20030219</td>\n",
       "      <td>a g calls for infrastructure protection summit</td>\n",
       "      <td>[call, infrastructure, protection, summit]</td>\n",
       "      <td>0.507645</td>\n",
       "      <td>election</td>\n",
       "    </tr>\n",
       "    <tr>\n",
       "      <th>3</th>\n",
       "      <td>20030219</td>\n",
       "      <td>air nz staff in aust strike for pay rise</td>\n",
       "      <td>[staff, aust, strike, rise]</td>\n",
       "      <td>0.699293</td>\n",
       "      <td>justice</td>\n",
       "    </tr>\n",
       "    <tr>\n",
       "      <th>4</th>\n",
       "      <td>20030219</td>\n",
       "      <td>air nz strike to affect australian travellers</td>\n",
       "      <td>[strike, affect, australian, traveller]</td>\n",
       "      <td>0.536429</td>\n",
       "      <td>local news</td>\n",
       "    </tr>\n",
       "  </tbody>\n",
       "</table>\n",
       "</div>"
      ],
      "text/plain": [
       "   publish_date                                      headline_text  \\\n",
       "0      20030219  aba decides against community broadcasting lic...   \n",
       "1      20030219     act fire witnesses must be aware of defamation   \n",
       "2      20030219     a g calls for infrastructure protection summit   \n",
       "3      20030219           air nz staff in aust strike for pay rise   \n",
       "4      20030219      air nz strike to affect australian travellers   \n",
       "\n",
       "                                     sentence     topic topics_name  \n",
       "0     [decide, community, broadcast, licence]  0.415908     society  \n",
       "1    [fire, witness, must, aware, defamation]  0.345981    election  \n",
       "2  [call, infrastructure, protection, summit]  0.507645    election  \n",
       "3                 [staff, aust, strike, rise]  0.699293     justice  \n",
       "4     [strike, affect, australian, traveller]  0.536429  local news  "
      ]
     },
     "execution_count": 55,
     "metadata": {},
     "output_type": "execute_result"
    }
   ],
   "source": [
    "df.head()"
   ]
  },
  {
   "cell_type": "markdown",
   "metadata": {},
   "source": [
    "# draft"
   ]
  },
  {
   "cell_type": "code",
   "execution_count": null,
   "metadata": {},
   "outputs": [],
   "source": [
    "dict_topics_name={0:'criminality', 1:'economy', 2: 'society',\n",
    "                  3:'politics', 4:'environment', 5:'minor news',\n",
    "                  6:'local politic', 7:'international news', 8:'international politic',9:'foreign criminality '}\n",
    "\n",
    "\n",
    "\n",
    "i=0\n",
    "for topic_id,value in df['topic']:\n",
    "    df.at[i,'topics_name']=dict_topics_name[topic_id]\n",
    "    i+=1"
   ]
  },
  {
   "cell_type": "code",
   "execution_count": 101,
   "metadata": {
    "ExecuteTime": {
     "end_time": "2021-07-26T21:27:01.305721Z",
     "start_time": "2021-07-26T21:27:01.285811Z"
    }
   },
   "outputs": [
    {
     "name": "stdout",
     "output_type": "stream",
     "text": [
      "Topic Name international news\n",
      "Score: 0.3608492910861969 & Topic main words: 0.007*\"aussie\" + 0.006*\"suspend\" + 0.006*\"black\" + 0.006*\"qantas\" + 0.005*\"beijing\"\n"
     ]
    },
    {
     "name": "stderr",
     "output_type": "stream",
     "text": [
      "C:\\Users\\utilisateur\\anaconda3\\lib\\site-packages\\ipykernel\\ipkernel.py:287: DeprecationWarning: `should_run_async` will not call `transform_cell` automatically in the future. Please pass the result to `transformed_cell` argument and any exception that happen during thetransform in `preprocessing_exc_tuple` in IPython 7.17 and above.\n",
      "  and should_run_async(code)\n"
     ]
    }
   ],
   "source": [
    "unseen_document = \"Mayor quit after sex offend\"\n",
    "\n",
    "# Data preprocessing step for the unseen document\n",
    "bow_vector = dictionary.doc2bow(preprocess(unseen_document))\n",
    "\n",
    "tfidf_sentence=tfidf[bow_vector]\n",
    "\n",
    "counter=0\n",
    "\n",
    "for index, score in sorted(lda_model_tfidf[tfidf_sentence], key=lambda tup: -1*tup[1]):\n",
    "    while counter < 1 :\n",
    "        print(\"Topic Name\",dict_topics_name[index])\n",
    "        print(\"Score: {} & Topic main words: {}\".format(score, lda_model_tfidf.print_topic(index, 5)))\n",
    "        counter += 1"
   ]
  },
  {
   "cell_type": "code",
   "execution_count": 84,
   "metadata": {
    "ExecuteTime": {
     "end_time": "2021-07-26T21:12:09.841700Z",
     "start_time": "2021-07-26T21:12:09.825331Z"
    }
   },
   "outputs": [
    {
     "name": "stdout",
     "output_type": "stream",
     "text": [
      "Topic: criminality Word: 0.022*\"police\" + 0.017*\"crash\" + 0.016*\"charge\" + 0.015*\"kill\" + 0.010*\"death\" + 0.009*\"miss\" + 0.009*\"court\" + 0.009*\"murder\" + 0.009*\"woman\" + 0.009*\"fire\"\n",
      "\n",
      "\n",
      "Topic: economy Word: 0.026*\"close\" + 0.016*\"market\" + 0.009*\"guilty\" + 0.007*\"plead\" + 0.006*\"profit\" + 0.006*\"record\" + 0.005*\"fall\" + 0.005*\"high\" + 0.005*\"bank\" + 0.005*\"bendigo\"\n",
      "\n",
      "\n",
      "Topic: society Word: 0.008*\"teacher\" + 0.007*\"nurse\" + 0.006*\"action\" + 0.006*\"swan\" + 0.006*\"safe\" + 0.006*\"strike\" + 0.006*\"clean\" + 0.005*\"track\" + 0.005*\"speak\" + 0.005*\"uranium\"\n",
      "\n",
      "\n",
      "Topic: politics Word: 0.011*\"govt\" + 0.011*\"fund\" + 0.010*\"health\" + 0.007*\"plan\" + 0.007*\"indigenous\" + 0.006*\"council\" + 0.006*\"service\" + 0.006*\"centre\" + 0.006*\"hospital\" + 0.005*\"boost\"\n",
      "\n",
      "\n",
      "Topic: environment Word: 0.010*\"climate\" + 0.006*\"change\" + 0.005*\"troop\" + 0.005*\"whale\" + 0.005*\"step\" + 0.005*\"lawyer\" + 0.005*\"thousand\" + 0.005*\"say\" + 0.005*\"govt\" + 0.005*\"bush\"\n",
      "\n",
      "\n",
      "Topic: minor news Word: 0.014*\"interview\" + 0.012*\"coast\" + 0.011*\"gold\" + 0.006*\"honour\" + 0.006*\"smith\" + 0.006*\"alice\" + 0.006*\"beach\" + 0.006*\"thai\" + 0.006*\"turnbull\" + 0.006*\"west\"\n",
      "\n",
      "\n",
      "Topic: local politic Word: 0.014*\"water\" + 0.009*\"council\" + 0.008*\"govt\" + 0.008*\"plan\" + 0.008*\"farmer\" + 0.006*\"urge\" + 0.006*\"drought\" + 0.006*\"flood\" + 0.005*\"rain\" + 0.005*\"plant\"\n",
      "\n",
      "\n",
      "Topic: international news Word: 0.007*\"aussie\" + 0.006*\"suspend\" + 0.006*\"black\" + 0.006*\"qantas\" + 0.005*\"beijing\" + 0.005*\"flight\" + 0.005*\"quit\" + 0.005*\"world\" + 0.005*\"intervention\" + 0.005*\"australia\"\n",
      "\n",
      "\n",
      "Topic: international politic Word: 0.010*\"obama\" + 0.006*\"korea\" + 0.005*\"tiger\" + 0.005*\"nuclear\" + 0.005*\"talk\" + 0.005*\"brown\" + 0.005*\"unite\" + 0.005*\"revamp\" + 0.004*\"win\" + 0.004*\"burma\"\n",
      "\n",
      "\n",
      "Topic: foreign criminality  Word: 0.017*\"rudd\" + 0.009*\"bail\" + 0.007*\"child\" + 0.006*\"afghan\" + 0.006*\"court\" + 0.005*\"accuse\" + 0.005*\"indonesia\" + 0.005*\"porn\" + 0.005*\"charge\" + 0.005*\"jail\"\n",
      "\n",
      "\n"
     ]
    },
    {
     "name": "stderr",
     "output_type": "stream",
     "text": [
      "C:\\Users\\utilisateur\\anaconda3\\lib\\site-packages\\ipykernel\\ipkernel.py:287: DeprecationWarning: `should_run_async` will not call `transform_cell` automatically in the future. Please pass the result to `transformed_cell` argument and any exception that happen during thetransform in `preprocessing_exc_tuple` in IPython 7.17 and above.\n",
      "  and should_run_async(code)\n"
     ]
    }
   ],
   "source": [
    "'''\n",
    "For each topic, we will explore the words occuring in that topic and its relative weight\n",
    "'''\n",
    "for idx, topic in lda_model_tfidf.print_topics(-1):\n",
    "    \n",
    "    print(\"Topic: {} Word: {}\".format(dict_topics_name[idx], topic))\n",
    "    print(\"\\n\")"
   ]
  }
 ],
 "metadata": {
  "kernelspec": {
   "display_name": "Python 3",
   "language": "python",
   "name": "python3"
  },
  "language_info": {
   "codemirror_mode": {
    "name": "ipython",
    "version": 3
   },
   "file_extension": ".py",
   "mimetype": "text/x-python",
   "name": "python",
   "nbconvert_exporter": "python",
   "pygments_lexer": "ipython3",
   "version": "3.8.5"
  },
  "latex_envs": {
   "LaTeX_envs_menu_present": true,
   "autoclose": false,
   "autocomplete": true,
   "bibliofile": "biblio.bib",
   "cite_by": "apalike",
   "current_citInitial": 1,
   "eqLabelWithNumbers": true,
   "eqNumInitial": 1,
   "hotkeys": {
    "equation": "Ctrl-E",
    "itemize": "Ctrl-I"
   },
   "labels_anchors": false,
   "latex_user_defs": false,
   "report_style_numbering": false,
   "user_envs_cfg": false
  },
  "toc": {
   "base_numbering": 1,
   "nav_menu": {},
   "number_sections": true,
   "sideBar": true,
   "skip_h1_title": false,
   "title_cell": "Table of Contents",
   "title_sidebar": "Contents",
   "toc_cell": false,
   "toc_position": {
    "height": "calc(100% - 180px)",
    "left": "10px",
    "top": "150px",
    "width": "261.817px"
   },
   "toc_section_display": true,
   "toc_window_display": true
  },
  "varInspector": {
   "cols": {
    "lenName": 16,
    "lenType": 16,
    "lenVar": 40
   },
   "kernels_config": {
    "python": {
     "delete_cmd_postfix": "",
     "delete_cmd_prefix": "del ",
     "library": "var_list.py",
     "varRefreshCmd": "print(var_dic_list())"
    },
    "r": {
     "delete_cmd_postfix": ") ",
     "delete_cmd_prefix": "rm(",
     "library": "var_list.r",
     "varRefreshCmd": "cat(var_dic_list()) "
    }
   },
   "types_to_exclude": [
    "module",
    "function",
    "builtin_function_or_method",
    "instance",
    "_Feature"
   ],
   "window_display": false
  }
 },
 "nbformat": 4,
 "nbformat_minor": 4
}
