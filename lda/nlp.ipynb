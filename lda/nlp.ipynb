{
 "cells": [
  {
   "cell_type": "code",
   "execution_count": 1,
   "metadata": {
    "ExecuteTime": {
     "end_time": "2021-07-13T08:14:09.538406Z",
     "start_time": "2021-07-13T08:14:04.838554Z"
    }
   },
   "outputs": [
    {
     "name": "stderr",
     "output_type": "stream",
     "text": [
      "C:\\Users\\utilisateur\\anaconda3\\lib\\site-packages\\gensim\\similarities\\__init__.py:15: UserWarning: The gensim.similarities.levenshtein submodule is disabled, because the optional Levenshtein package <https://pypi.org/project/python-Levenshtein/> is unavailable. Install Levenhstein (e.g. `pip install python-Levenshtein`) to suppress this warning.\n",
      "  warnings.warn(msg)\n"
     ]
    }
   ],
   "source": [
    "import pandas as pd\n",
    "import nltk\n",
    "from nltk.stem import WordNetLemmatizer, SnowballStemmer\n",
    "from nltk.stem.porter import *\n",
    "import numpy as np\n",
    "from gensim.utils import simple_preprocess\n",
    "from gensim.parsing.preprocessing import STOPWORDS\n",
    "\n",
    "from operator import itemgetter\n",
    "\n",
    "#!pip install pyldavis\n",
    "\n",
    "import pyLDAvis\n",
    "import pyLDAvis.gensim_models as gensimvis"
   ]
  },
  {
   "cell_type": "code",
   "execution_count": 2,
   "metadata": {
    "ExecuteTime": {
     "end_time": "2021-07-13T08:14:09.553719Z",
     "start_time": "2021-07-13T08:14:09.542373Z"
    }
   },
   "outputs": [],
   "source": [
    "#pip install --upgrade ipykernel"
   ]
  },
  {
   "cell_type": "markdown",
   "metadata": {},
   "source": [
    "# Preprocessing"
   ]
  },
  {
   "cell_type": "code",
   "execution_count": 3,
   "metadata": {
    "ExecuteTime": {
     "end_time": "2021-07-13T08:14:11.321575Z",
     "start_time": "2021-07-13T08:14:09.561699Z"
    }
   },
   "outputs": [],
   "source": [
    "df = pd.read_csv('abcnews-date-text.csv', error_bad_lines=False)"
   ]
  },
  {
   "cell_type": "code",
   "execution_count": 4,
   "metadata": {
    "ExecuteTime": {
     "end_time": "2021-07-13T08:14:11.337395Z",
     "start_time": "2021-07-13T08:14:11.327423Z"
    }
   },
   "outputs": [],
   "source": [
    "#df = df.drop('publish_date', axis=1)"
   ]
  },
  {
   "cell_type": "code",
   "execution_count": 5,
   "metadata": {
    "ExecuteTime": {
     "end_time": "2021-07-13T08:14:11.382843Z",
     "start_time": "2021-07-13T08:14:11.342659Z"
    }
   },
   "outputs": [
    {
     "data": {
      "text/plain": [
       "0    aba decides against community broadcasting lic...\n",
       "1       act fire witnesses must be aware of defamation\n",
       "2       a g calls for infrastructure protection summit\n",
       "3             air nz staff in aust strike for pay rise\n",
       "4        air nz strike to affect australian travellers\n",
       "5                    ambitious olsson wins triple jump\n",
       "Name: headline_text, dtype: object"
      ]
     },
     "execution_count": 5,
     "metadata": {},
     "output_type": "execute_result"
    }
   ],
   "source": [
    "df['headline_text'].loc[:5]"
   ]
  },
  {
   "cell_type": "markdown",
   "metadata": {},
   "source": [
    "## Import des modules nltk"
   ]
  },
  {
   "cell_type": "code",
   "execution_count": 6,
   "metadata": {
    "ExecuteTime": {
     "end_time": "2021-07-13T08:14:11.398018Z",
     "start_time": "2021-07-13T08:14:11.386922Z"
    }
   },
   "outputs": [],
   "source": [
    "from nltk.corpus import wordnet, stopwords\n",
    "from nltk.tokenize import word_tokenize\n",
    "from nltk.stem import WordNetLemmatizer, PorterStemmer"
   ]
  },
  {
   "cell_type": "code",
   "execution_count": 7,
   "metadata": {
    "ExecuteTime": {
     "end_time": "2021-07-13T08:14:11.414065Z",
     "start_time": "2021-07-13T08:14:11.403103Z"
    }
   },
   "outputs": [],
   "source": [
    "#nltk.download()"
   ]
  },
  {
   "cell_type": "code",
   "execution_count": 8,
   "metadata": {
    "ExecuteTime": {
     "end_time": "2021-07-13T08:14:11.613817Z",
     "start_time": "2021-07-13T08:14:11.422044Z"
    }
   },
   "outputs": [
    {
     "name": "stderr",
     "output_type": "stream",
     "text": [
      "[nltk_data] Downloading package punkt to\n",
      "[nltk_data]     C:\\Users\\utilisateur\\AppData\\Roaming\\nltk_data...\n",
      "[nltk_data]   Package punkt is already up-to-date!\n"
     ]
    },
    {
     "data": {
      "text/plain": [
       "True"
      ]
     },
     "execution_count": 8,
     "metadata": {},
     "output_type": "execute_result"
    }
   ],
   "source": [
    "#nltk.download('punkt')"
   ]
  },
  {
   "cell_type": "code",
   "execution_count": 9,
   "metadata": {
    "ExecuteTime": {
     "end_time": "2021-07-13T08:14:11.645515Z",
     "start_time": "2021-07-13T08:14:11.618803Z"
    }
   },
   "outputs": [
    {
     "name": "stderr",
     "output_type": "stream",
     "text": [
      "[nltk_data] Downloading package stopwords to\n",
      "[nltk_data]     C:\\Users\\utilisateur\\AppData\\Roaming\\nltk_data...\n",
      "[nltk_data]   Package stopwords is already up-to-date!\n"
     ]
    },
    {
     "data": {
      "text/plain": [
       "True"
      ]
     },
     "execution_count": 9,
     "metadata": {},
     "output_type": "execute_result"
    }
   ],
   "source": [
    "#nltk.download('stopwords')"
   ]
  },
  {
   "cell_type": "code",
   "execution_count": 11,
   "metadata": {
    "ExecuteTime": {
     "end_time": "2021-07-13T08:14:14.739424Z",
     "start_time": "2021-07-13T08:14:14.712375Z"
    }
   },
   "outputs": [
    {
     "data": {
      "text/plain": [
       "{'a',\n",
       " 'about',\n",
       " 'above',\n",
       " 'after',\n",
       " 'again',\n",
       " 'against',\n",
       " 'ain',\n",
       " 'all',\n",
       " 'am',\n",
       " 'an',\n",
       " 'and',\n",
       " 'any',\n",
       " 'are',\n",
       " 'aren',\n",
       " \"aren't\",\n",
       " 'as',\n",
       " 'at',\n",
       " 'be',\n",
       " 'because',\n",
       " 'been',\n",
       " 'before',\n",
       " 'being',\n",
       " 'below',\n",
       " 'between',\n",
       " 'both',\n",
       " 'but',\n",
       " 'by',\n",
       " 'can',\n",
       " 'couldn',\n",
       " \"couldn't\",\n",
       " 'd',\n",
       " 'did',\n",
       " 'didn',\n",
       " \"didn't\",\n",
       " 'do',\n",
       " 'does',\n",
       " 'doesn',\n",
       " \"doesn't\",\n",
       " 'doing',\n",
       " 'don',\n",
       " \"don't\",\n",
       " 'down',\n",
       " 'during',\n",
       " 'each',\n",
       " 'few',\n",
       " 'for',\n",
       " 'from',\n",
       " 'further',\n",
       " 'had',\n",
       " 'hadn',\n",
       " \"hadn't\",\n",
       " 'has',\n",
       " 'hasn',\n",
       " \"hasn't\",\n",
       " 'have',\n",
       " 'haven',\n",
       " \"haven't\",\n",
       " 'having',\n",
       " 'he',\n",
       " 'her',\n",
       " 'here',\n",
       " 'hers',\n",
       " 'herself',\n",
       " 'him',\n",
       " 'himself',\n",
       " 'his',\n",
       " 'how',\n",
       " 'i',\n",
       " 'if',\n",
       " 'in',\n",
       " 'into',\n",
       " 'is',\n",
       " 'isn',\n",
       " \"isn't\",\n",
       " 'it',\n",
       " \"it's\",\n",
       " 'its',\n",
       " 'itself',\n",
       " 'just',\n",
       " 'll',\n",
       " 'm',\n",
       " 'ma',\n",
       " 'me',\n",
       " 'mightn',\n",
       " \"mightn't\",\n",
       " 'more',\n",
       " 'most',\n",
       " 'mustn',\n",
       " \"mustn't\",\n",
       " 'my',\n",
       " 'myself',\n",
       " 'needn',\n",
       " \"needn't\",\n",
       " 'no',\n",
       " 'nor',\n",
       " 'not',\n",
       " 'now',\n",
       " 'o',\n",
       " 'of',\n",
       " 'off',\n",
       " 'on',\n",
       " 'once',\n",
       " 'only',\n",
       " 'or',\n",
       " 'other',\n",
       " 'our',\n",
       " 'ours',\n",
       " 'ourselves',\n",
       " 'out',\n",
       " 'over',\n",
       " 'own',\n",
       " 're',\n",
       " 's',\n",
       " 'same',\n",
       " 'shan',\n",
       " \"shan't\",\n",
       " 'she',\n",
       " \"she's\",\n",
       " 'should',\n",
       " \"should've\",\n",
       " 'shouldn',\n",
       " \"shouldn't\",\n",
       " 'so',\n",
       " 'some',\n",
       " 'such',\n",
       " 't',\n",
       " 'than',\n",
       " 'that',\n",
       " \"that'll\",\n",
       " 'the',\n",
       " 'their',\n",
       " 'theirs',\n",
       " 'them',\n",
       " 'themselves',\n",
       " 'then',\n",
       " 'there',\n",
       " 'these',\n",
       " 'they',\n",
       " 'this',\n",
       " 'those',\n",
       " 'through',\n",
       " 'to',\n",
       " 'too',\n",
       " 'under',\n",
       " 'until',\n",
       " 'up',\n",
       " 've',\n",
       " 'very',\n",
       " 'was',\n",
       " 'wasn',\n",
       " \"wasn't\",\n",
       " 'we',\n",
       " 'were',\n",
       " 'weren',\n",
       " \"weren't\",\n",
       " 'what',\n",
       " 'when',\n",
       " 'where',\n",
       " 'which',\n",
       " 'while',\n",
       " 'who',\n",
       " 'whom',\n",
       " 'why',\n",
       " 'will',\n",
       " 'with',\n",
       " 'won',\n",
       " \"won't\",\n",
       " 'wouldn',\n",
       " \"wouldn't\",\n",
       " 'y',\n",
       " 'you',\n",
       " \"you'd\",\n",
       " \"you'll\",\n",
       " \"you're\",\n",
       " \"you've\",\n",
       " 'your',\n",
       " 'yours',\n",
       " 'yourself',\n",
       " 'yourselves'}"
      ]
     },
     "execution_count": 11,
     "metadata": {},
     "output_type": "execute_result"
    }
   ],
   "source": [
    "stop_words = set(stopwords.words('english'))\n",
    "stop_words"
   ]
  },
  {
   "cell_type": "markdown",
   "metadata": {},
   "source": [
    "## Tokenizer nos titres afin d'obtenir une liste de mots"
   ]
  },
  {
   "cell_type": "code",
   "execution_count": 12,
   "metadata": {
    "ExecuteTime": {
     "end_time": "2021-07-13T08:18:03.402689Z",
     "start_time": "2021-07-13T08:14:14.744554Z"
    }
   },
   "outputs": [],
   "source": [
    "words_splitted = []\n",
    "# for i in df['headline_text'][:10]:\n",
    "#     words_splitted.append(i.split(' '))\n",
    "\n",
    "#for line in df['headline_text'][:550000]:\n",
    "for line in df['headline_text']:\n",
    "    words_splitted.append(nltk.word_tokenize(line))\n",
    "    # for i in df['headline_text']:\n",
    "#     print(i)"
   ]
  },
  {
   "cell_type": "code",
   "execution_count": 13,
   "metadata": {
    "ExecuteTime": {
     "end_time": "2021-07-13T08:21:08.076278Z",
     "start_time": "2021-07-13T08:18:03.406262Z"
    }
   },
   "outputs": [
    {
     "data": {
      "text/plain": [
       "[['decide', 'community', 'broadcast', 'licence'],\n",
       " ['fire', 'witness', 'must', 'aware', 'defamation'],\n",
       " ['call', 'infrastructure', 'protection', 'summit'],\n",
       " ['staff', 'aust', 'strike', 'rise'],\n",
       " ['strike', 'affect', 'australian', 'traveller'],\n",
       " ['ambitious', 'olsson', 'win', 'triple', 'jump'],\n",
       " ['antic', 'delight', 'record', 'break', 'barca'],\n",
       " ['aussie', 'qualifier', 'stosur', 'waste', 'four', 'memphis', 'match'],\n",
       " ['aust', 'address', 'security', 'council', 'iraq'],\n",
       " ['australia', 'lock', 'timetable'],\n",
       " ['australia', 'contribute', 'million', 'iraq'],\n",
       " ['barca', 'take', 'record', 'robson', 'celebrate', 'birthday'],\n",
       " ['bathhouse', 'plan', 'move', 'ahead'],\n",
       " ['hop', 'launceston', 'cycle', 'championship'],\n",
       " ['plan', 'boost', 'paroo', 'water', 'supply'],\n",
       " ['blizzard', 'bury', 'unite', 'state', 'bill'],\n",
       " ['brigadier', 'dismiss', 'report', 'troop', 'harass'],\n",
       " ['british', 'combat', 'troop', 'arrive', 'daily', 'kuwait'],\n",
       " ['bryant', 'lead', 'lakers', 'double', 'overtime'],\n",
       " ['bushfire', 'victim', 'urge', 'centrelink'],\n",
       " ['business', 'prepare', 'terrorist', 'attack'],\n",
       " ['calleri', 'avenge', 'final', 'defeat', 'eliminate', 'massu'],\n",
       " ['call', 'ethanol', 'blend', 'fuel', 'ahead'],\n",
       " ['carew', 'freak', 'goal', 'leave', 'rom', 'ruin'],\n",
       " ['cemetery', 'miss', 'fund'],\n",
       " ['code', 'conduct', 'toughen', 'organ', 'donation', 'regulation'],\n",
       " ['commonwealth', 'bank', 'cut', 'fix', 'home', 'loan', 'rat'],\n",
       " ['community', 'urge', 'help', 'homeless', 'youth'],\n",
       " ['council', 'chief', 'executive', 'fail', 'secure', 'position'],\n",
       " ['councillor', 'contest', 'wollongong', 'independent'],\n",
       " ['council', 'move', 'protect', 'heritage', 'garden'],\n",
       " ['council', 'welcome', 'ambulance', 'levy', 'decision'],\n",
       " ['council', 'welcome', 'insurance', 'breakthrough'],\n",
       " ['crean', 'tell', 'leadership', 'critic', 'shut'],\n",
       " ['dargo', 'fire', 'threat', 'expect', 'rise'],\n",
       " ['death', 'toll', 'continue', 'climb', 'korean', 'subway'],\n",
       " ['dems', 'hold', 'plebiscite', 'iraqi', 'conflict'],\n",
       " ['dent', 'down', 'philippoussis', 'break', 'thriller'],\n",
       " ['villiers', 'learn', 'fate', 'march'],\n",
       " ['digital', 'become', 'commonplace', 'summit'],\n",
       " ['direct', 'anger', 'govt', 'soldier', 'crean', 'urge'],\n",
       " ['dispute', 'smithton', 'vegetable', 'process', 'plant'],\n",
       " ['maul', 'month', 'toddler'],\n",
       " ['die', 'korean', 'subway', 'passenger', 'phone', 'help'],\n",
       " ['england', 'change', 'three', 'wale', 'match'],\n",
       " ['still', 'try', 'recover', 'chemical', 'clean', 'cost'],\n",
       " ['expression', 'interest', 'seek', 'build', 'livestock'],\n",
       " ['introduce', 'national', 'insurance'],\n",
       " ['firefighter', 'contain', 'acid', 'spill'],\n",
       " ['four', 'injure', 'head', 'highway', 'crash'],\n",
       " ['freedom', 'record', 'profit', 'third', 'successive'],\n",
       " ['fund', 'allocate', 'domestic', 'violence', 'victim'],\n",
       " ['fund', 'allocate', 'youth', 'risk'],\n",
       " ['fund', 'announce', 'bridge', 'work'],\n",
       " ['fund', 'cadell', 'upgrade'],\n",
       " ['fund', 'help', 'restore', 'cossack'],\n",
       " ['german', 'court', 'give', 'verdict', 'sept', 'accuse'],\n",
       " ['gilchrist', 'back', 'rest', 'policy'],\n",
       " ['girl', 'injure', 'head', 'highway', 'crash'],\n",
       " ['gold', 'coast', 'hear', 'bilby', 'project'],\n",
       " ['golf', 'club', 'feel', 'smoke', 'impact'],\n",
       " ['govt', 'blame', 'ethanol', 'unpopularity'],\n",
       " ['green', 'offer', 'police', 'station', 'alternative'],\n",
       " ['griffith', 'fire', 'project', 'knock', 'back'],\n",
       " ['group', 'meet', 'north', 'west', 'rock'],\n",
       " ['hacker', 'gain', 'access', 'eight', 'million', 'credit', 'card'],\n",
       " ['hanson', 'grossly', 'naive', 'issue', 'costa'],\n",
       " ['hanson', 'back', 'come'],\n",
       " ['harrington', 'raring', 'break'],\n",
       " ['health', 'minister', 'back', 'organ', 'tissue', 'storage'],\n",
       " ['heavy', 'metal', 'deposit', 'survey', 'near'],\n",
       " ['injure', 'rio', 'pull', 'buenos', 'air', 'open'],\n",
       " ['inquest', 'find', 'man', 'death', 'accidental'],\n",
       " ['investigation', 'underway', 'death', 'toll', 'korean'],\n",
       " ['investigation', 'underway', 'elster', 'creek', 'spill'],\n",
       " ['iraq', 'neighbour', 'plead', 'continue', 'inspection'],\n",
       " ['iraq', 'rebuild', 'white', 'house'],\n",
       " ['irish', 'arrest', 'omagh', 'bomb'],\n",
       " ['irrigators', 'vote', 'river', 'management'],\n",
       " ['israeli', 'force', 'push', 'gaza', 'strip'],\n",
       " ['jury', 'consider', 'verdict', 'murder', 'case'],\n",
       " ['juvenile', 'offender', 'unlikely', 'reoffend'],\n",
       " ['kelly', 'disgust', 'allege', 'ethanol', 'scare'],\n",
       " ['kelly', 'surprise', 'ethanol', 'confidence'],\n",
       " ['korean', 'subway', 'fire', 'still', 'miss'],\n",
       " ['last', 'minute', 'call', 'hand', 'alinghi', 'lead'],\n",
       " ['demand', 'force', 'service', 'cut'],\n",
       " ['arrest', 'central', 'hijack', 'attempt'],\n",
       " ['charge', 'cooma', 'murder'],\n",
       " ['fin', 'aboriginal', 'tent', 'embassy', 'raid'],\n",
       " ['jail', 'keno', 'fraud'],\n",
       " ['knife', 'hijack', 'light', 'plane'],\n",
       " ['martin', 'lobby', 'lose', 'seat'],\n",
       " ['massive', 'drug', 'crop', 'discover', 'western'],\n",
       " ['mayor', 'warn', 'landfill', 'protester'],\n",
       " ['meet', 'consider', 'tick', 'clearance', 'cost'],\n",
       " ['meet', 'focus', 'break', 'hill', 'water', 'woe'],\n",
       " ['moderate', 'lift', 'wag', 'growth'],\n",
       " ['young', 'drink', 'alcohol'],\n",
       " ['water', 'restriction', 'predict', 'northern'],\n",
       " ['woman', 'urge', 'become', 'councillor'],\n",
       " ['highly', 'educate', 'live'],\n",
       " ['raise', 'hospital', 'concern', 'parliament'],\n",
       " ['reject', 'ambulance', 'levy', 'claim'],\n",
       " ['mugabe', 'touch', 'paris', 'summit'],\n",
       " ['national', 'gallery', 'get', 'clear'],\n",
       " ['nato', 'give', 'green', 'light', 'defend', 'turkey'],\n",
       " ['defend', 'aboriginal', 'tent', 'embassy', 'raid'],\n",
       " ['zealand', 'impose', 'visa', 'entry', 'zimbabwe'],\n",
       " ['side', 'effect', 'whoop', 'cough', 'vaccine'],\n",
       " ['govt', 'fire', 'hold', 'back', 'vegetation'],\n",
       " ['defend', 'claim', 'run', 'race', 'campaign'],\n",
       " ['pledge', 'drought', 'relief'],\n",
       " ['govt', 'boost', 'nurse', 'number', 'overseas', 'intake'],\n",
       " ['korean', 'seek', 'asylum', 'japanese', 'embassy'],\n",
       " ['nurse', 'student', 'intake'],\n",
       " ['brother', 'time', 'say', 'ganguly', 'senior'],\n",
       " ['omodei', 'stay', 'politics'],\n",
       " ['onesteel', 'invest', 'whyalla', 'steelworks'],\n",
       " ['opposition', 'urge', 'help', 'protect', 'recherche'],\n",
       " ['orientation', 'begin', 'student'],\n",
       " ['osullivan', 'world', 'cross', 'country', 'doubt'],\n",
       " ['pagan', 'say', 'rule', 'change', 'necessary'],\n",
       " ['pair', 'face', 'court', 'murder'],\n",
       " ['patterson', 'defend', 'decision', 'attend', 'health'],\n",
       " ['patterson', 'show', 'display', 'govts', 'arrogance', 'crean'],\n",
       " ['patterson', 'snub', 'health', 'meet', 'avoid', 'lion'],\n",
       " ['peace', 'agreement', 'bring', 'respite', 'venezuela'],\n",
       " ['pienaar', 'shin', 'ajax', 'frustrate', 'arsenal'],\n",
       " ['plan', 'second', 'skatepark'],\n",
       " ['plan', 'encourage', 'farmer', 'plantation', 'timber'],\n",
       " ['nurse', 'strike', 'colleague', 'rap'],\n",
       " ['police', 'crack', 'driver', 'safety'],\n",
       " ['police', 'defend', 'aboriginal', 'tent', 'embassy', 'raid'],\n",
       " ['policewoman', 'accusation', 'feature', 'federal', 'crime'],\n",
       " ['probe', 'launch', 'plane', 'crash'],\n",
       " ['program', 'monitor', 'forest', 'harvest', 'area'],\n",
       " ['public', 'urge', 'check', 'cylinder'],\n",
       " ['public', 'warn', 'phone', 'scam'],\n",
       " ['qantas', 'international', 'crew', 'strike'],\n",
       " ['qantas', 'plan', '2500', 'job', 'outrage', 'union'],\n",
       " ['plan', 'northern', 'route', 'sack'],\n",
       " ['question', 'public', 'anger', 'grow', 'korean', 'subway'],\n",
       " ['rabbit', 'control', 'program', 'trial'],\n",
       " ['radioactive', 'spill', 'wmcs', 'olympic', 'mine'],\n",
       " ['rain', 'ease', 'wheatbelt', 'water', 'woe'],\n",
       " ['read', 'third', 'first', 'division'],\n",
       " ['record', 'amount', 'gladstone', 'venture'],\n",
       " ['refshauge', 'win', 'defamation', 'court', 'case'],\n",
       " ['regulator', 'inspect', 'canola', 'trial'],\n",
       " ['report', 'highlight', 'container', 'terminal', 'potential'],\n",
       " ['resource', 'stock', 'boost', 'ords'],\n",
       " ['restraint', 'order', 'issue', 'anti', 'discrimination'],\n",
       " ['reject', 'claim', 'authority', 'spurn'],\n",
       " ['ricciuto', 'undergo', 'surgery', 'injure', 'ankle'],\n",
       " ['rice', 'mill', 'closure', 'work'],\n",
       " ['angry', 'report', 'troop', 'harassment'],\n",
       " ['safety', 'review', 'begin', 'bushwalker', 'death'],\n",
       " ['premier', 'call', 'action', 'river', 'murray'],\n",
       " ['saudi', 'arabian', 'stand', 'trial', 'qaeda'],\n",
       " ['saudi', 'arabia', 'tell', 'arab', 'iraq', 'inevitable'],\n",
       " ['search', 'continue', 'victim', 'korean', 'subway'],\n",
       " ['second', 'resolution', 'iraq', 'expect', 'shortly'],\n",
       " ['shire', 'offer', 'assurance', 'finance'],\n",
       " ['palestinian', 'kill', 'gaza', 'incursion'],\n",
       " ['slow', 'recovery', 'predict', 'aust', 'economy'],\n",
       " ['smoke', 'ban', 'tabcorp', 'bottom', 'line'],\n",
       " ['snowtown', 'murder', 'trial', 'delay'],\n",
       " ['state', 'force', 'label', 'ethanol', 'fuel'],\n",
       " ['station', 'fix', 'home', 'phone', 'service'],\n",
       " ['sterrey', 'steer', 'shark'],\n",
       " ['still', 'sign', 'miss', 'fisherman'],\n",
       " ['stop', 'change', 'rule', 'fan', 'tell'],\n",
       " ['sugar', 'industry', 'plan', 'reveal'],\n",
       " ['surge', 'sale', 'aust'],\n",
       " ['swiss', 'challenger', 'look', 'future'],\n",
       " ['taipan', 'place', 'future', 'public', 'hand'],\n",
       " ['talk', 'asian', 'nuclear', 'arm', 'race', 'unhelpful', 'downer'],\n",
       " ['tasmanian', 'scientist', 'search', 'east', 'coast'],\n",
       " ['taylor', 'deny', 'call', 'waugh', 'quit'],\n",
       " ['teen', 'face', 'court', 'drug', 'charge'],\n",
       " ['test', 'show', 'dioxin', 'drink', 'water', 'standard'],\n",
       " ['thousand', 'remember', '61st', 'anniversary', 'darwin'],\n",
       " ['union', 'member', 'support', 'public', 'protest'],\n",
       " ['continue', 'tree', 'disease', 'study'],\n",
       " ['british', 'aircraft', 'attack', 'iraq', 'target'],\n",
       " ['stock', 'fee', 'pellet', 'fire', 'affect'],\n",
       " ['local', 'council', 'welcome', 'single', 'poll'],\n",
       " ['victorian', 'scientist', 'honour', 'award'],\n",
       " ['vowles', 'retire', 'season'],\n",
       " ['wale', 'coach', 'accuse', 'player', 'belittle'],\n",
       " ['warne', 'hear', 'friday'],\n",
       " ['webb', 'favourite', 'lady', 'master'],\n",
       " ['widnes', 'abandon', 'paul'],\n",
       " ['wildlife', 'sanctuary', 'plan', 'reveal'],\n",
       " ['williams', 'say', 'tight', 'bowl', 'warrior'],\n",
       " ['wine', 'chief', 'bounce', 'back', 'sack'],\n",
       " ['worksafe', 'probe', 'potato', 'harvester', 'injury'],\n",
       " ['dead', 'rebel', 'bomb', 'raid', 'philippine', 'army'],\n",
       " ['abattoir', 'sale'],\n",
       " ['academic', 'upbeat', 'high', 'education', 'review'],\n",
       " ['administrator', 'appoint', 'land', 'council'],\n",
       " ['declare', 'lose', 'parliamentary', 'seat'],\n",
       " ['amcor', 'record', 'solid', 'profit', 'result'],\n",
       " ['america', 'fourth', 'race', 'cancel'],\n",
       " ['arsenal', 'poise', 'swoop', 'beckham', 'report'],\n",
       " ['aust', 'drink', 'le', 'alcohol', 'smoke', 'le', 'study'],\n",
       " ['austeel', 'release', 'soon', 'govt'],\n",
       " ['australian', 'flag', 'celebrate', '100th', 'birthday'],\n",
       " ['hold', 'meet', 'port', 'kembla', 'job'],\n",
       " ['baby', 'badly', 'burn', 'brisbane', 'house', 'fire'],\n",
       " ['weather', 'might', 'cause', 'iranian', 'plane', 'crash'],\n",
       " ['beckham', 'lead', 'deplete', 'juve'],\n",
       " ['beware', 'standard', 'alcoholic', 'drink'],\n",
       " ['bilby', 'dream', 'become', 'reality'],\n",
       " ['brisbane', 'sparkies', 'head', 'strike'],\n",
       " ['britain', 'tell', 'national', 'leave', 'iraq', 'kuwait'],\n",
       " ['british', 'high', 'court', 'overturn', 'blair', 'asylum'],\n",
       " ['british', 'magician', 'entomb', 'cheese'],\n",
       " ['bungle', 'leave', 'doctor', 'wait', 'practise'],\n",
       " ['bushfire', 'coronial', 'inquiry', 'wind'],\n",
       " ['bush', 'thank', 'nato', 'support', 'turkey'],\n",
       " ['call', 'ambo', 'help', 'wake', 'fund', 'change'],\n",
       " ['canegrowers', 'hope', 'late', 'summer', 'rain'],\n",
       " ['capriati', 'hungry', 'dubai'],\n",
       " ['celt', 'underdog', 'uefa', 'clash', 'oneill'],\n",
       " ['chamber', 'vow', 'smash', 'world', 'mark'],\n",
       " ['charvis', 'pay', 'penalty', 'humphreys', 'earn', 'shock'],\n",
       " ['christmas', 'detention', 'centre', 'claim', 'quash'],\n",
       " ['claim', 'defence', 'spend', 'priority', 'health'],\n",
       " ['claim', 'education', 'policy', 'cause', 'high', 'indigenous'],\n",
       " ['claim', 'code', 'protect', 'autopsy', 'consent'],\n",
       " ['claim', 'education', 'policy', 'cause', 'high', 'indigenous'],\n",
       " ['college', 'continue', 'work', 'experience'],\n",
       " ['concern', 'fire', 'probe', 'cover', 'legal'],\n",
       " ['concorde', 'make', 'emergency', 'land', 'canada'],\n",
       " ['coronial', 'inquiry', 'expect', 'hospital', 'death'],\n",
       " ['council', 'chief', 'lament', 'advertise', 'decision'],\n",
       " ['council', 'general', 'manager', 'step'],\n",
       " ['council', 'offer', 'vandalism', 'report', 'reward'],\n",
       " ['country', 'race', 'club', 'still', 'hold', 'fear'],\n",
       " ['court', 'rule', 'longford', 'compo', 'today'],\n",
       " ['cristal', 'eight', 'match', 'libertadores', 'lose', 'streak'],\n",
       " ['cuper', 'slam', 'inter', 'recoba'],\n",
       " ['deportivo', 'slip', 'buoyant', 'swiss', 'minnow', 'basel'],\n",
       " ['distance', 'swimmer', 'maroney', 'call', 'quit'],\n",
       " ['dixon', 'dismiss', 'qantas', 'monopoly', 'claim'],\n",
       " ['downer', 'warn', 'iraq', 'action', 'could', 'begin', 'soon'],\n",
       " ['drought', 'break', 'rain', 'month', 'away'],\n",
       " ['drought', 'impact', 'reach'],\n",
       " ['drought', 'take', 'toll', 'insect'],\n",
       " ['early', 'childhood', 'development', 'receive', 'research'],\n",
       " ['elli', 'webb', 'well', 'place', 'lady', 'master'],\n",
       " ['employee', 'grant', 'restrain', 'order'],\n",
       " ['england', 'almost', 'choke', 'burger', 'king'],\n",
       " ['england', 'call', 'morris', 'first'],\n",
       " ['investigate', 'radioactive', 'spill'],\n",
       " ['esso', 'responsible', 'economic', 'loss'],\n",
       " ['esso', 'win', 'class', 'action', 'longford'],\n",
       " ['etienne', 'agree', 'tyson', 'fight'],\n",
       " ['family', 'confront', 'korean', 'president', 'elect'],\n",
       " ['fan', 'join', 'flower', 'olonga', 'anti', 'mugabe', 'protest'],\n",
       " ['ferguson', 'hail', 'beckham', 'unite', 'victory'],\n",
       " ['few', 'australian', 'jail'],\n",
       " ['fifa', 'bos', 'prepare', 'postpone', 'match'],\n",
       " ['firefighter', 'tell', 'attend', 'blaze'],\n",
       " ['fish', 'clean', 'facility', 'plan', 'announce'],\n",
       " ['flight', 'attendant', 'action', 'wont', 'affect', 'bundaberg'],\n",
       " ['forest', 'alliance', 'reject', 'hindrance', 'claim'],\n",
       " ['former', 'bank', 'worker', 'plead', 'guilty', 'theft', 'charge'],\n",
       " ['former', 'treasurer', 'charge', 'start', 'fire'],\n",
       " ['forum', 'put', 'focus', 'regional', 'need'],\n",
       " ['four', 'nominate', 'nats', 'charter', 'tower', 'preselection'],\n",
       " ['france', 'drop', 'merceron', 'gelez', 'face', 'scot'],\n",
       " ['french', 'expedition', 'site', 'heritage', 'protect'],\n",
       " ['fuel', 'price', 'jump', 'newcastle'],\n",
       " ['fulham', 'smash', 'west', 'brom', 'quickfire', 'trio'],\n",
       " ['ganguly', 'lead', 'india', 'victory'],\n",
       " ['gartner', 'win', 'wind'],\n",
       " ['gippsland', 'firefighter', 'remain', 'guard'],\n",
       " ['govt', 'canvas', 'way', 'improve', 'child', 'development'],\n",
       " ['govt', 'work', 'coroner', 'suicide', 'report'],\n",
       " ['greenpeace', 'call', 'canola'],\n",
       " ['green', 'dump', 'anti', 'terror', 'kit', 'howard', 'doorstep'],\n",
       " ['group', 'air', 'truancy', 'concern'],\n",
       " ['group', 'praise', 'outgo', 'opposition', 'agriculture'],\n",
       " ['group', 'take', 'reef', 'build'],\n",
       " ['hagan', 'blood', 'rookie', 'penrith'],\n",
       " ['houllier', 'back', 'owen', 'break', 'rush', 'score', 'record'],\n",
       " ['howard', 'step', 'criticism', 'anti', 'protester'],\n",
       " ['howard', 'vow', 'stay', 'iraq', 'crisis'],\n",
       " ['hussein', 'say', 'iraq', 'doesnt', 'want'],\n",
       " ['illegal', 'fish', 'spot', 'identify'],\n",
       " ['immigration', 'raid', 'melbourne', 'draw', 'flak'],\n",
       " ['impatience', 'grow', 'water', 'management', 'plan'],\n",
       " ['indy', 'meet', 'likely', 'include', 'rain', 'race', 'talk'],\n",
       " ['injury', 'threaten', 'unite', 'final'],\n",
       " ['interest', 'seek', 'build', 'stage', 'bypass'],\n",
       " ['investigation', 'underway', 'qantas', 'skid'],\n",
       " ['investor', 'plan', 'ethanol', 'plant', 'lament', 'trial'],\n",
       " ['iran', 'military', 'plane', 'crash', 'kill'],\n",
       " ['iran', 'plane', 'crash', 'least', 'aboard'],\n",
       " ['iraqi', 'human', 'shield', 'crime'],\n",
       " ['italy', 'remain', 'unchanged', 'ireland', 'clash'],\n",
       " ['kalgoorlie', 'boulder', 'crime', 'rate', 'decline'],\n",
       " ['kayakers', 'rescue', 'second', 'adventure'],\n",
       " ['kirwan', 'stick', 'win', 'formula', 'ireland'],\n",
       " ['korean', 'book', 'date', 'seed', 'roddick'],\n",
       " ['landholder', 'contribution', 'still', 'discussion'],\n",
       " ['lawyer', 'allow', 'visit', 'manus', 'detention', 'centre'],\n",
       " ['lawyer', 'appeal', 'man', 'sept', 'conviction'],\n",
       " ['lawyer', 'review', 'case', 'esso', 'appeal'],\n",
       " ['lend', 'lease', 'post', 'million', 'loss'],\n",
       " ['lethal', 'back', 'nine', 'point', 'rule', 'change'],\n",
       " ['airport', 'tunnel', 'remain', 'close', 'accident'],\n",
       " ['macarthur', 'kingfisher', 'suffer', 'minor', 'damage'],\n",
       " ['apologise', 'plane', 'hijack'],\n",
       " ['await', 'sentence', 'denmark', 'murder'],\n",
       " ['question', 'backpacker', 'death'],\n",
       " ['charge', 'roxby', 'down', 'plane', 'incident'],\n",
       " ['hospital', 'stab', 'attack'],\n",
       " ['lose', 'defamation', 'compo'],\n",
       " ['murder', 'charge', 'refuse', 'bail'],\n",
       " ['face', 'court', 'allege', 'hijack'],\n",
       " ['face', 'court', 'attempt', 'arm', 'robbery'],\n",
       " ['whack', 'thatcher', 'get', 'month', 'jail'],\n",
       " ['maroney', 'call', 'quit'],\n",
       " ['medal', 'recognise', 'islander', 'effort'],\n",
       " ['meet', 'consider', 'glenelg', 'river', 'future'],\n",
       " ['melbourne', 'receive', 'massive', 'compo', 'payout'],\n",
       " ['mgladbach', 'leave', 'danger', 'zone', 'home'],\n",
       " ['mine', 'rat', 'challenge', 'result', 'expect', 'march'],\n",
       " ['miner', 'explore', 'nickel', 'deposit'],\n",
       " ['molotov', 'cocktail', 'suspect', 'melb', 'hotel', 'fire'],\n",
       " ['anti', 'rally', 'plan'],\n",
       " ['land', 'noosa', 'national', 'park'],\n",
       " ['teacher', 'danger', 'student', 'union'],\n",
       " ['detain', 'immigration', 'raid'],\n",
       " ['woman', 'unlikely', 'join', 'men', 'master'],\n",
       " ['mosley', 'ready', 'engine', 'compromise'],\n",
       " ['motorist', 'avoid', 'ethanol', 'blend', 'fuel', 'labor'],\n",
       " ['crab', 'business', 'move'],\n",
       " ['murray', 'meet', 'wouldnt', 'detract', 'ministerial'],\n",
       " ['nats', 'seek', 'probe', 'bushfires', 'probe'],\n",
       " ['boat', 'take', 'waterway'],\n",
       " ['zealand', 'discover', 'kenya', 'fate', 'thursday'],\n",
       " ['fund', 'discussion', 'poll'],\n",
       " ['penalty', 'church', 'damage', 'monument'],\n",
       " ['coalition', 'make', 'magic', 'pudding', 'election'],\n",
       " ['govt', 'announce', 'community', 'benefit', 'grant'],\n",
       " ['offer', 'roll', 'classic', 'holden'],\n",
       " ['price', 'high'],\n",
       " ['oldfield', 'front', 'court', 'nation'],\n",
       " ['nation', 'selection', 'hear', 'continue'],\n",
       " ['packer', 'hand', 'licence', 'pistol', 'investigation'],\n",
       " ['pakistani', 'force', 'chief', 'kill', 'crash'],\n",
       " ['palaszczuk', 'wont', 'make', 'disaster', 'fund', 'promise'],\n",
       " ['park', 'move', 'protect', 'high', 'conservation', 'area'],\n",
       " ['peace', 'group', 'deny', 'member', 'harass', 'soldier'],\n",
       " ['people', 'trap', 'pile'],\n",
       " ['pilot', 'make', 'emergency', 'land', 'adelaide', 'airport'],\n",
       " ['player', 'continue', 'zimbabwe', 'protest'],\n",
       " ['criticism', 'protester', 'disgraceful', 'crean'],\n",
       " ['defend', 'criticism', 'anti', 'protester'],\n",
       " ['police', 'continue', 'probe', 'human', 'remain', 'find'],\n",
       " ['police', 'find', 'second', 'cannabis', 'crop'],\n",
       " ['police', 'hope', 'gain', 'edge', 'weapon', 'user'],\n",
       " ['police', 'locate', 'miss', 'family', 'house'],\n",
       " ['police', 'make', 'arrest', 'drug', 'raid'],\n",
       " ['police', 'seek', 'help', 'piracy'],\n",
       " ['police', 'office', 'fight', 'chop', 'chop', 'trade'],\n",
       " ['police', 'wont', 'rule', 'link', 'drug', 'plantation'],\n",
       " ['politician', 'breed', 'public', 'anti', 'troop', 'sentiment'],\n",
       " ['pollock', 'deny', 'split', 'protea', 'camp'],\n",
       " ['population', 'drift', 'force', 'federal', 'boundary'],\n",
       " ['powell', 'visit', 'asia', 'ease', 'korean'],\n",
       " ['prediction', 'good', 'wheatbelt', 'rain'],\n",
       " ['probe', 'launch', 'fatal', 'police', 'pursuit'],\n",
       " ['protester', 'condemn', 'howard', 'criticism', 'anti'],\n",
       " ['protocol', 'follow', 'immigration', 'raid'],\n",
       " ['public', 'warn', 'snake', 'handle', 'danger'],\n",
       " ['pump', 'continue', 'richmond', 'flood'],\n",
       " ['qantas', 'draw', 'flak', 'redundancy', 'talk'],\n",
       " ['qantas', 'flag', 'cut', 'despite', 'record', 'profit'],\n",
       " ['qantas', 'record', 'million', 'profit'],\n",
       " ['qfvg', 'upset', 'retail', 'price'],\n",
       " ['govt', 'say', 'hospital', 'schedule'],\n",
       " ['nats', 'close', 'deal', 'libs', 'springborg'],\n",
       " ['race', 'club', 'sneak', 'point', 'peru'],\n",
       " ['rain', 'boost', 'farmer', 'confidence'],\n",
       " ['rain', 'force', 'aussie', 'bowl', 'change', 'buchanan'],\n",
       " ['raid', 'target', 'newsagency'],\n",
       " ['road', 'fund', 'tackle', 'flood'],\n",
       " ['ronaldo', 'put', 'real', 'back', 'race'],\n",
       " ['ruiz', 'trick', 'guatemala', 'rout', 'nicaragua'],\n",
       " ['saff', 'gauge', 'feel', 'plan', 'crown', 'land', 'bill'],\n",
       " ['safin', 'escude', 'rotterdam', 'comeback', 'trail'],\n",
       " ['govt', 'defend', 'move', 'force', 'fine', 'defaulter'],\n",
       " ['govt', 'appeal', 'fish', 'decision'],\n",
       " ['schmeichel', 'miss', 'arsenal', 'trip'],\n",
       " ['school', 'reopen', 'paint', 'fume', 'scare'],\n",
       " ['scotland', 'refuse', 'panic'],\n",
       " ['seaman', 'injury', 'crisis', 'arsenal'],\n",
       " ['self', 'clone', 'crayfish', 'threaten', 'native', 'specie'],\n",
       " ['socceroos', 'creep', 'world', 'rank'],\n",
       " ['solar', 'car', 'turn', 'head'],\n",
       " ['sport', 'task', 'force', 'plan', 'begin'],\n",
       " ['start', 'america', 'race', 'four', 'delay'],\n",
       " ['stone', 'stay', 'federal', 'liberal', 'president'],\n",
       " ['need', 'good', 'downpour'],\n",
       " ['taipan', 'keep', 'play', 'dream', 'alive'],\n",
       " ['police', 'question', 'injure', 'house', 'fire'],\n",
       " ['taxi', 'driver', 'face', 'trial'],\n",
       " ['tension', 'increase', 'fighter', 'stray'],\n",
       " ['terror', 'weapon', 'pose', 'minimal', 'risk', 'british', 'expert'],\n",
       " ['thousand', 'visit', 'dairy', 'field', 'day'],\n",
       " ['three', 'israeli', 'injure', 'hamas', 'make', 'rocket'],\n",
       " ['shuffle', 'pack', 'defeat', 'loom'],\n",
       " ['tomasson', 'give', 'milan', 'narrow', 'lokomotiv'],\n",
       " ['tough', 'time', 'ahead', 'water', 'allocation'],\n",
       " ['tourism', 'industry', 'must', 'protect', 'iraq'],\n",
       " ['trial', 'hear', 'woman', 'deny', 'kill', 'fiance'],\n",
       " ['triathletes', 'back', 'bris', 'gold', 'coast', 'bikeway'],\n",
       " ['truck', 'roll', 'destroy', 'furniture'],\n",
       " ['turkey', 'stand', 'firm', 'offer'],\n",
       " ['turkey', 'still', 'undecided', 'gulf', 'attack'],\n",
       " ['union', 'disunity', 'mccains', 'enterprise', 'agreement'],\n",
       " ['security', 'council', 'end', 'open', 'debate'],\n",
       " ['invite', 'talk', 'burmese', 'military', 'junta'],\n",
       " ['launch', 'homeland', 'security', 'ready', 'campaign'],\n",
       " ['market', 'remain', 'jittery', 'shadow'],\n",
       " ['tell', 'turkey', 'time', 'run', 'offer'],\n",
       " ['take', 'action', 'europe'],\n",
       " ['uzbek', 'journalist', 'sentence', 'seven', 'year', 'jail'],\n",
       " ['verstappen', 'please', 'minardis', 'track', 'debut'],\n",
       " ['govt', 'speak', 'rice', 'mill', 'closure', 'claim'],\n",
       " ['fire', 'crew', 'battle', 'bushfire', 'marangaroo'],\n",
       " ['talk', 'take', 'toll', 'ords'],\n",
       " ['iraq', 'could', 'cost', '120bn', 'economist'],\n",
       " ['watkins', 'jeer', 'education', 'forum'],\n",
       " ['wine', 'destine'],\n",
       " ['western', 'power', 'reveal', 'power', 'supply', 'detail'],\n",
       " ['wide', 'economy', 'grow', 'strong'],\n",
       " ['wine', 'exporter', 'urge', 'push', 'ahead'],\n",
       " ['winemaker', 'move', 'consider', 'loss', 'industry'],\n",
       " ['woman', 'face', 'court', 'child', 'prostitution'],\n",
       " ['yacht', 'lose', 'mast', 'trawler', 'incident'],\n",
       " ['zimbabwe', 'bar', 'british', 'reporter', 'world'],\n",
       " ['accc', 'timid', 'petrol', 'price', 'investigation'],\n",
       " ['action', 'want', 'low', 'indigenous', 'unemployment', 'rate'],\n",
       " ['rule', 'scrap', 'federal', 'seat', 'hurt'],\n",
       " ['shut', 'malaga', 'claim', 'goalless', 'draw'],\n",
       " ['allan', 'guilty', 'cash', 'charge'],\n",
       " ['allan', 'unlikely', 'appeal', 'fine'],\n",
       " ['air', 'hospital', 'reform', 'concern'],\n",
       " ['deliver', 'health', 'concern', 'list', 'politician'],\n",
       " ['andersson', 'atwal', 'miss', 'record', 'malaysia'],\n",
       " ['antarctic', 'rock', 'could', 'global', 'warm'],\n",
       " ['confident', 'growth', 'tough', 'environment'],\n",
       " ['million', 'office'],\n",
       " ['arab', 'state', 'press', 'crime', 'condemnation'],\n",
       " ['least', 'dead', 'club', 'fire'],\n",
       " ['least', 'injure', 'rhode', 'island', 'nightclub', 'fire'],\n",
       " ['aussie', 'dollar', 'continue', 'climb'],\n",
       " ['aust', 'could', 'four', 'qaeda', 'target', 'list'],\n",
       " ['australia', 'withdraw', 'bougainville', 'peace', 'monitor'],\n",
       " ['aust', 'share', 'market', 'end', 'week', 'negative', 'territory'],\n",
       " ['bartlett', 'vow', 'block', 'govt', 'plan', 'nuclear'],\n",
       " ['beattie', 'unaware', 'tree', 'clear', 'fund', 'hold'],\n",
       " ['bedi', 'label', 'murali', 'chucker'],\n",
       " ['belgian', 'police', 'recover', 'steal', 'work'],\n",
       " ['port', 'kembla', 'production', 'restart'],\n",
       " ['gun', 'back', 'business', 'premier', 'league'],\n",
       " ['blake', 'paradorn', 'upset', 'memphis'],\n",
       " ['bracks', 'back', 'rule', 'dean', '50000', 'year', 'pension'],\n",
       " ['british', 'govt', 'clash', 'high', 'court', 'asylum'],\n",
       " ['british', 'award', 'platform', 'iraq'],\n",
       " ['briton', 'stab', 'death', 'bangkok'],\n",
       " ['brothel', 'owner', 'acquit', 'hire', 'underage'],\n",
       " ['brothel', 'owner', 'front', 'court', 'allegedly', 'hire'],\n",
       " ['burma', 'sentence', 'jail', 'fin'],\n",
       " ['bushfires', 'burn', 'hectare'],\n",
       " ['cairn', 'canberra', 'grab', 'win'],\n",
       " ['cairn', 'injure', 'kiwi', 'nightclub', 'brawl'],\n",
       " ['cairn', 'injure', 'nightclub', 'brawl', 'report'],\n",
       " ['call', 'scrap', 'national', 'plantation', 'target'],\n",
       " ['candleholders', 'recall', 'fire', 'risk'],\n",
       " ['carr', 'hook', 'brogden', 'debate'],\n",
       " ['celt', 'sink', 'stuttgart'],\n",
       " ['central', 'park', 'area', 'expand'],\n",
       " ['centrelink', 'offer', 'drought', 'counsel'],\n",
       " ['china', 'wage', 'chemical', 'chew', 'blob'],\n",
       " ['chirac', 'mugabe', 'talk', 'sideline', 'africa', 'summit'],\n",
       " ['christmas', 'island', 'resident', 'aware', 'detention'],\n",
       " ['claim', 'inventory', 'cause', 'high', 'petrol', 'price'],\n",
       " ['claim', 'live', 'sheep', 'cattle', 'export', 'threaten'],\n",
       " ['claim', 'rain', 'boost', 'stock', 'price'],\n",
       " ['class', 'action', 'cost', 'esso'],\n",
       " ['clinton', 'cancel', 'trip', 'india'],\n",
       " ['coalition', 'promise', 'scrap', 'angler'],\n",
       " ['committal', 'continue', 'goulburn', 'jail', 'riot'],\n",
       " ['costello', 'unhappy', 'wasnt', 'consult', 'stone'],\n",
       " ['council', 'approve', 'poultry', 'farm'],\n",
       " ['council', 'await', 'rain'],\n",
       " ['council', 'consider', 'indigenous', 'caravan', 'park', 'plan'],\n",
       " ['council', 'election', 'plan'],\n",
       " ['council', 'reject', 'combine', 'field', 'day', 'stand', 'idea'],\n",
       " ['council', 'change', 'tree', 'protection'],\n",
       " ['council', 'fund', 'groundwater', 'study'],\n",
       " ['counsel', 'begin', 'sum', 'warn', 'dope', 'hear'],\n",
       " ['criminal', 'charge', 'pending', 'korea', 'subway', 'probe'],\n",
       " ['crocs', 'prove', 'good', 'bullet'],\n",
       " ['date', 'bushfires', 'coronial', 'inquiry'],\n",
       " ['dean', 'receive', 'lifetime', 'parliamentary', 'pension'],\n",
       " ['death', 'spell', 'record', 'marriage'],\n",
       " ['demon', 'thump', 'tiger'],\n",
       " ['deportivo', 'cali', 'outclass', 'sulky', 'river', 'plate'],\n",
       " ['deschamps', 'chase', 'flame', 'marseille'],\n",
       " ['disaster', 'fund', 'allow', 'shire', 'complete'],\n",
       " ['dortmund', 'ready', 'hound', 'bayern'],\n",
       " ['downpour', 'close', 'tourist', 'road'],\n",
       " ['drought', 'impact', 'roadworks'],\n",
       " ['drought', 'predict', 'long', 'last', 'impact'],\n",
       " ['education', 'dept', 'consider', 'rural', 'concern'],\n",
       " ['family', 'court', 'reject', 'invalidate', 'transsexual'],\n",
       " ['farmer', 'celebrate', 'good', 'rain'],\n",
       " ['fear', 'patterson', 'hide', 'news', 'health', 'minister'],\n",
       " ['federal', 'fund', 'seek', 'wave', 'study'],\n",
       " ['govt', 'consider', 'appeal', 'transsexual'],\n",
       " ['firefighter', 'battle', 'contain', 'beechford', 'blaze'],\n",
       " ['fisher', 'meet', 'minister', 'court', 'rule'],\n",
       " ['fish', 'group', 'seek', 'action', 'pilchard', 'import'],\n",
       " ['flight', 'attendant', 'action', 'likely', 'affect'],\n",
       " ['footy', 'great', 'get', 'behind', 'indigenous', 'right', 'campaign'],\n",
       " ['former', 'socceroos', 'coach', 'thomson', 'die'],\n",
       " ['funeral', 'hold', 'cricket', 'legend'],\n",
       " ['funk', 'lead', 'elkington', 'california'],\n",
       " ['gebrselassie', 'plan', 'world', 'record', 'comeback'],\n",
       " ['witness', 'church', 'bell', 'hand'],\n",
       " ['gold', 'coast', 'get', 'tourism', 'assurance'],\n",
       " ['group', 'concern', 'rain', 'bring', 'wrong', 'impression'],\n",
       " ['group', 'get', 'clear', 'understand', 'farmer'],\n",
       " ['guga', 'reach', 'buenos', 'air', 'quarter'],\n",
       " ['health', 'service', 'speak', 'patient', 'death'],\n",
       " ['hoddle', 'murderer', 'grant', 'right', 'seek', 'judicial'],\n",
       " ['horse', 'ride', 'enact', 'mine', 'find'],\n",
       " ['howard', 'repeat', 'zimbabwe', 'boycott', 'call'],\n",
       " ['hundred', 'triathletes', 'head', 'coffs'],\n",
       " ['hungarian', 'thief', 'make', 'amend', 'post'],\n",
       " ['hyypia', 'hero', 'liverpool', 'bounce', 'back'],\n",
       " ['iaea', 'visit', 'iran', 'as', 'nuclear', 'program'],\n",
       " ['indian', 'jail', 'smuggle', 'pakistani', 'suitcase'],\n",
       " ['indian', 'player', 'retrace', 'gandhi', 'journey'],\n",
       " ['indonesia', 'say', 'australia', 'travel', 'warn'],\n",
       " ['industrial', 'action', 'impact', 'brisbane', 'school'],\n",
       " ['investigation', 'underway', 'pile'],\n",
       " ['investigator', 'probe', 'hospital', 'staff', 'complaint'],\n",
       " ['jackson', 'hit', 'back', 'explosive', 'british', 'interview'],\n",
       " ['japanese', 'tourist', 'drown', 'gold', 'coast', 'surf'],\n",
       " ['joblink', 'issue', 'statement', 'sack'],\n",
       " ['keegan', 'aim', 'bring', 'arsenal', 'earth'],\n",
       " ['kenya', 'award', 'point', 'kiwi', 'call'],\n",
       " ['kylie', 'minogues', 'posterior', 'brit'],\n",
       " ['land', 'council', 'dismiss', 'administrator', 'appoint'],\n",
       " ['langer', 'name', 'player', 'year'],\n",
       " ['liverpool', 'lazio', 'hold', 'krakow'],\n",
       " ['llewellyn', 'impress', 'patterson', 'show'],\n",
       " ['longreach', 'water', 'restriction', 'remain'],\n",
       " ['loose', 'cannon', 'afridi', 'pakistan'],\n",
       " ['lovenkrands', 'dream', 'hampden', 'return'],\n",
       " ['water', 'spark', 'boat', 'lake', 'albert'],\n",
       " ['male', 'find', 'body', 'murder', 'schoolgirl'],\n",
       " ['accuse', 'sell', 'bali', 'bomb', 'chemical', 'go'],\n",
       " ['appear', 'court', 'charge', 'stuttle', 'murder'],\n",
       " ['charge', 'stuttle', 'murder'],\n",
       " ['fail', 'overturn', 'conviction', '1600yo', 'bell'],\n",
       " ['hospital', 'receive', 'severe', 'electric'],\n",
       " ['hospital', 'stab'],\n",
       " ['jail', 'fatally', 'stab', 'facto'],\n",
       " ['jail', 'life', 'murder'],\n",
       " ['question', 'stuttle', 'murder'],\n",
       " ['face', 'court', 'fatal'],\n",
       " ['agree', 'deal', 'eriksson', 'ferguson'],\n",
       " ['threaten', 'melbourne', 'water', 'supply', 'bail'],\n",
       " ['highlight', 'potential', 'river', 'salinity', 'problem'],\n",
       " ['mayor', 'angry', 'mural', 'vandalism'],\n",
       " ['mine', 'giant', 'call', 'fund', 'boost', 'native'],\n",
       " ['montgomery', 'enter', 'indoor', 'national'],\n",
       " ['rain', 'delay', 'tough', 'water', 'restriction'],\n",
       " ['troop', 'help', 'hunt', 'sayyaf', 'rebel'],\n",
       " ['want', 'tank', 'battalion', 'rumour', 'investigate'],\n",
       " ['welcome', 'police', 'station', 'announcement'],\n",
       " ['nardell', 'mine', 'close', 'receiver', 'appoint'],\n",
       " ['nauru', 'appeal', 'help', 'keep', 'nation', 'airline'],\n",
       " ['battle', 'britain', 'loom', 'uefa'],\n",
       " ['newcastle', 'city', 'notch', 'win', 'stallion', 'draw', 'south'],\n",
       " ['commercial', 'crab', 'restriction', 'plan'],\n",
       " ['disability', 'respite', 'service'],\n",
       " ['korea', 'duck', 'nuclear', 'talk', 'summit'],\n",
       " ['korea', 'warn', 'wont', 'peace'],\n",
       " ['cost', 'blowout', 'forecast', 'water', 'treatment', 'plan'],\n",
       " ['coroner', 'clear', 'doc', 'death', 'toddler'],\n",
       " ['grazier', 'record', 'heavy', 'rainfall'],\n",
       " ['opps', 'drug', 'free', 'prison', 'plan', 'amery'],\n",
       " ['nurse', 'home', 'worker', 'suspend'],\n",
       " ['olonga', 'sack', 'club'],\n",
       " ['million', 'ticket', 'sell', 'rugby', 'world'],\n",
       " ['otago', 'open', 'super'],\n",
       " ['owner', 'hesitant', 'northerly', 'overseas', 'jaunt'],\n",
       " ['pair', 'face', 'court', 'machete', 'attack'],\n",
       " ['palestinian', 'kill', 'gaza', 'strip', 'cross', 'point'],\n",
       " ['patterson', 'irresponsible', 'show', 'edmond'],\n",
       " ['patterson', 'show', 'childish', 'minister'],\n",
       " ['patterson', 'say', 'health', 'meet', 'waste', 'time'],\n",
       " ['petrol', 'price', 'rise'],\n",
       " ['petrol', 'break'],\n",
       " ['plan', 'include', 'puckapunyal', 'cull'],\n",
       " ['plan', 'intersection', 'revamp', 'begin'],\n",
       " ['accuse', 'european', 'country', 'encourage', 'saddam'],\n",
       " ['defend', 'protest', 'comment'],\n",
       " ['choice', 'stay', 'iraq'],\n",
       " ['praise', 'costello', 'leadership', 'patience'],\n",
       " ['governor', 'general', 'urge', 'election', 'unity'],\n",
       " ['police', 'charge', 'stab'],\n",
       " ['police', 'continue', 'investigate', 'cannabis', 'crop'],\n",
       " ['police', 'station', 'face', 'uncertainty'],\n",
       " ['powell', 'call', 'uphold', 'responsibility'],\n",
       " ['push', 'likely', 'seek', 'age', 'care', 'worker'],\n",
       " ['push', 'extend', 'fraser', 'world', 'heritage', 'list'],\n",
       " ['qantas', 'plane', 'make', 'emergency', 'land'],\n",
       " ['qantas', 'say', 'info', 'prime', 'terrorist'],\n",
       " ['qantas', 'urge', 'update', 'security', 'shadow'],\n",
       " ['govt', 'reject', 'land', 'acquisition', 'claim'],\n",
       " ['racv', 'surprise', 'petrol', 'ration', 'talk'],\n",
       " ['rail', 'firm', 'as', 'worker', 'need'],\n",
       " ['rain', 'bring', 'stock', 'loss'],\n",
       " ['rain', 'cause', 'chaos', 'melbourne', 'road'],\n",
       " ['rain', 'expect', 'continue', 'across'],\n",
       " ['rainfall', 'likely', 'clear', 'weekend'],\n",
       " ['rain', 'welcome', 'relief', 'drought'],\n",
       " ['rain', 'enough', 'drought', 'break'],\n",
       " ['rain', 'offer', 'water', 'supply', 'boost'],\n",
       " ['rejuvenate', 'tyson', 'cure', 'cash', 'injection'],\n",
       " ['resident', 'fire', 'assurance'],\n",
       " ['retail', 'sector', 'air', 'trade', 'hour', 'review', 'concern'],\n",
       " ['romario', 'jeer', 'team', 'brawl', 'fluminense', 'hold'],\n",
       " ['round', 'world', 'forget'],\n",
       " ['ruddock', 'commend', 'australia', 'traveller', 'control'],\n",
       " ['salinity', 'expert', 'water', 'catchment'],\n",
       " ['lose', 'seat', 'federal', 'parliament'],\n",
       " ['soldier', 'charge', 'misconduct'],\n",
       " ['schumacher', 'seek', 'speed', 'le', 'noise'],\n",
       " ['seaman', 'ajax', 'match'],\n",
       " ['search', 'good', 'life', 'pay'],\n",
       " ['second', 'nightclub', 'fire', 'kill'],\n",
       " ['senator', 'offer', 'input', 'coast', 'issue'],\n",
       " ['several', 'dead', 'fire', 'rhode', 'island', 'nightclub'],\n",
       " ['shire', 'say', 'plan', 'policy', 'compromise'],\n",
       " ['slap', 'paedophile', 'amputate'],\n",
       " ['state', 'territory', 'health', 'minister', 'arrive', 'meet'],\n",
       " ['steal', 'wage', 'report', 'look', 'improve', 'indigenous'],\n",
       " ['strike', 'expect', 'mean', 'milk', 'shortage'],\n",
       " ['strike', 'disrupt', 'milk', 'supply'],\n",
       " ['study', 'consider', 'alternative', 'crop', 'sugar', 'region'],\n",
       " ['study', 'probe', 'snowy', 'motorcycle', 'crash'],\n",
       " ['teacher', 'shortage', 'bad', 'report'],\n",
       " ['team', 'mat', 'send', 'best', 'wish', 'warne'],\n",
       " ['telstra', 'chief', 'embarrass', 'billion', 'writedown'],\n",
       " ['telstra', 'punish', 'massive', 'hong', 'kong', 'write'],\n",
       " ['telstra', 'still', 'hurt', 'joint', 'venture'],\n",
       " ['thieve', 'target', 'esperance', 'car'],\n",
       " ['timor', 'treaty', 'ratfied', 'shortly', 'martin'],\n",
       " ['trouble', 'torino', 'pray', 'miracle'],\n",
       " ['tuckey', 'lament', 'gungahlin', 'drive', 'plan', 'problem'],\n",
       " ['turkey', 'delay', 'vote', 'troop'],\n",
       " ['turkey', 'dig', 'heel', 'lobby', 'support'],\n",
       " ['turkey', 'force', 'weigh', 'strategy'],\n",
       " ['union', 'condemn', 'qantass', 'contract', 'labour', 'plan'],\n",
       " ['ask', 'indonesia', 'improve', 'human', 'right', 'record'],\n",
       " ['boost', 'troop', 'number', 'philippine'],\n",
       " ['chiropractor', 'address', 'gold', 'coast', 'gather'],\n",
       " ['intelligence', 'analyst', 'find', 'guilty', 'spy'],\n",
       " ['researcher', 'prepare', 'move'],\n",
       " ['valencia', 'sense', 'victory', 'benitez', 'benitez'],\n",
       " ['govt', 'get', 'farmer', 'drought', 'update'],\n",
       " ['victorian', 'farmer', 'hope', 'rain', 'break', 'drought'],\n",
       " ['victoria', 'welcome', 'rain', 'relief'],\n",
       " ['vinnicombe', 'reject', 'freeway', 'claim'],\n",
       " ['waratah', 'super', 'opener'],\n",
       " ['impact', 'exercise', 'unknown'],\n",
       " ['warne', 'decision', 'make', 'saturday'],\n",
       " ['warne', 'dope', 'hear', 'underway'],\n",
       " ['williams', 'mclaren', 'plan', 'take', 'court'],\n",
       " ['wine', 'avocado', 'drive', 'mutton', 'wool'],\n",
       " ['wisla', 'hold', 'lazio', 'goal', 'thriller'],\n",
       " ['woodgate', 'tell', 'stay', 'away', 'elland', 'road'],\n",
       " ['worker', 'return', 'work', 'burrup'],\n",
       " ['youth', 'group', 'unhappy', 'appeal', 'carers'],\n",
       " ['confirm', 'dead', 'nightclub', 'fire'],\n",
       " ['tourist', 'attraction', 'honour', 'award', 'night'],\n",
       " ['adelaide', 'break', 'port', 'heart'],\n",
       " ['qaeda', 'member', 'jail', 'terrorist', 'plot'],\n",
       " ['arafat', 'number', 'outline', 'propose', 'ceasefire'],\n",
       " ['athens', 'risk', 'turn', 'game', 'disaster'],\n",
       " ['australia', 'urge', 'abandon', 'zimbabwe', 'world', 'match'],\n",
       " ['black', 'black', 'cap'],\n",
       " ['blix', 'order', 'destruction', 'iraqi', 'missile'],\n",
       " ['botch', 'operation', 'leave', 'teenager', 'brain', 'damage'],\n",
       " ['brockovich', 'take', 'cancer', 'crusade', 'court'],\n",
       " ['brogden', 'accuse', 'carr', 'fudge', 'ambulance', 'figure'],\n",
       " ['brumbies', 'red', 'ballymore'],\n",
       " ['cairn', 'play', 'despite', 'brawl'],\n",
       " ['call', 'australian', 'human', 'right'],\n",
       " ['canberra', 'capital', '2003', 'championship'],\n",
       " ['capital', 'flame', 'wnbl', 'title'],\n",
       " ['captain', 'refuse', 'ship', 'wheat', 'iraq'],\n",
       " ['childrens', 'right', 'overlook', 'advocate'],\n",
       " ['confident', 'win', 'low', 'house', 'seat'],\n",
       " ['corium', 'stun', 'nalbandian', 'reach', 'argentina', 'semi'],\n",
       " ['croatia', 'launch', 'membership'],\n",
       " ['crusader', 'begin', 'defence'],\n",
       " ['darwin', 'police', 'investigate', 'attempt', 'assault'],\n",
       " ['davy', 'webb', 'share', 'master', 'lead'],\n",
       " ['death', 'toll', 'rise', 'club', 'blaze'],\n",
       " ['deputy', 'say', 'iraq', 'ready', 'dialogue'],\n",
       " ['despite', 'rain', 'govt', 'say', 'drought', 'isnt'],\n",
       " ['donald', 'leave', 'bangladesh', 'clash'],\n",
       " ['dumbledore', 'replacement', 'pick', 'potter', 'film'],\n",
       " ['eagle', 'docker', 'despite'],\n",
       " ['faldo', 'withdraw', 'match', 'play', 'tournament'],\n",
       " ['farina', 'pay', 'tribute', 'thomson'],\n",
       " ['female', 'cosmonaut', 'keep', 'foot', 'grind'],\n",
       " ['ferrero', 'escude', 'hobble', 'rotterdam'],\n",
       " ['ferreros', 'rotterdam', 'campaign', 'end', 'agony'],\n",
       " ['flash', 'flood', 'keep', 'busy'],\n",
       " ['former', 'star', 'koen', 'lick', 'cat'],\n",
       " ['fourth', 'race', 'postpone'],\n",
       " ['freeman', 'split', 'husband'],\n",
       " ['french', 'african', 'leader', 'support', 'iraq', 'inspection'],\n",
       " ['gebrselassie', 'break', 'mile', 'indoor'],\n",
       " ['gebrselassie', 'break', 'feofanova', 'reach'],\n",
       " ['gurkha', 'discrimination', 'case', 'fail', 'court'],\n",
       " ['hear', 'adjourn', 'prison', 'riot'],\n",
       " ['pain', 'sideline', 'golf', 'legend', 'palmer'],\n",
       " ['howell', 'lead', 'california'],\n",
       " ['hussain', 'giles', 'recall', 'pakistan', 'clash'],\n",
       " ['iaea', 'begin', 'iran', 'nuclear', 'assessment'],\n",
       " ['iraq', 'wheat', 'comment', 'political', 'vaile'],\n",
       " ['jackson', 'lead', 'cap', 'back', 'back', 'title'],\n",
       " ['japan', 'back', 'campaign', 'fresh', 'iraq', 'vote'],\n",
       " ['johnson', 'pittman', 'excel', 'canberra'],\n",
       " ['kangaroo', 'thump', 'essendon', 'hawk', 'edge', 'saint'],\n",
       " ['kookaburra', 'force', 'dutch', 'draw'],\n",
       " ['labor', 'target', 'council', 'golden', 'handshake'],\n",
       " ['lara', 'jump', 'warn', 'defence'],\n",
       " ['light', 'wind', 'delay', 'fourth', 'america', 'race'],\n",
       " ['likud', 'party', 'still', 'without', 'coalition', 'partner'],\n",
       " ['long', 'haul', 'grazier', 'rain', 'break'],\n",
       " ['massa', 'test', 'drive', 'championship', 'win', 'ferrari'],\n",
       " ['metro', 'recruit', 'woman', 'driver', 'position'],\n",
       " ['newcastle', 'secure', 'third', 'spot'],\n",
       " ['confirmation', 'iraqi', 'wheat', 'order'],\n",
       " ['greece', 'lightning', 'olympic', 'work', 'control'],\n",
       " ['plan', 'inquiry', 'community', 'service'],\n",
       " ['health', 'minister', 'call', 'meet', 'cwealth'],\n",
       " ['ntini', 'star', 'bangladesh', 'fell'],\n",
       " ['mayor', 'play', 'terrorist', 'attack', 'speculation'],\n",
       " ['cricket', 'investigate', 'durban', 'nightclub', 'brawl'],\n",
       " ['price', 'hike', 'weigh', 'rat', 'decision'],\n",
       " ['kill', 'fuel', 'barge', 'explode'],\n",
       " ['pair', 'miss', 'fuel', 'barge', 'explode'],\n",
       " ['pearson', 'rout', 'aussie', 'woman'],\n",
       " ['petrol', 'price', 'hike', 'compare', 'interest', 'rate', 'rise'],\n",
       " ['police', 'come', 'beat', 'oppn', 'claim'],\n",
       " ['police', 'investigate', 'muswellbrook', 'death'],\n",
       " ['police', 'treat', 'hunter', 'valley', 'death', 'murder'],\n",
       " ['powell', 'leave', 'japan', 'talk', 'china'],\n",
       " ['powell', 'start', 'asian', 'tour', 'north', 'korea', 'talk'],\n",
       " ['protea', 'demolish', 'bangladesh'],\n",
       " ['protester', 'afloat', 'deliver', 'peace', 'message'],\n",
       " ['public', 'le', 'concern', 'environment', 'statistic'],\n",
       " ['take', 'gong', 'aust', 'tourism', 'award'],\n",
       " ['rain', 'bring', 'relief', 'farmer'],\n",
       " ['rain', 'fall', 'drought', 'ravage', 'eastern', 'state'],\n",
       " ['recoba', 'hand', 'three', 'match', 'champion'],\n",
       " ['result', 'first', 'aid', 'vaccine', 'trial', 'release'],\n",
       " ['robo', 'deer', 'take', 'bullet', 'justice'],\n",
       " ['roddick', 'head', 'semi', 'memphis'],\n",
       " ['saddam', 'ponder', 'edict', 'scrap', 'missile'],\n",
       " ['note', 'esteem', 'music', 'educator', 'die'],\n",
       " ['govt', 'block', 'glenelg', 'high', 'rise', 'apartment'],\n",
       " ['sampras', 'withdraw', 'arizona', 'replace', 'hewitt'],\n",
       " ['police', 'close', 'schoolgirl', 'killer'],\n",
       " ['seaman', 'rest', 'maine', 'road', 'visit'],\n",
       " ['searcher', 'fear', 'dead', 'china', 'ferry', 'sink'],\n",
       " ['selector', 'announce', 'warne', 'replacement', 'soon'],\n",
       " ['seles', 'face', 'henin', 'hardenne', 'dubai', 'final'],\n",
       " ['shop', 'owner', 'trial', 'accuse', 'bali', 'bomb'],\n",
       " ['korea', 'subway', 'staff', 'face', 'kill', 'charge', 'fire'],\n",
       " ['smigun', 'take', 'nordic', 'ski', 'world', 'championship'],\n",
       " ['helen', 'super', 'league', 'season', 'opener'],\n",
       " ['stormers', 'slaughter', 'shark'],\n",
       " ['stuttle', 'family', 'welcome', 'travel', 'offer'],\n",
       " ['sunrace', 'head', 'gloomy', 'final'],\n",
       " ['shin', 'rmit', 'entry', 'race'],\n",
       " ['taipan', 'stay', 'alive', 'cannon', 'dodge', 'bullet'],\n",
       " ['relay', 'raise', 'money', 'cancer', 'council'],\n",
       " ['teenager', 'stab', 'fight'],\n",
       " ['toll', 'rise', 'club', 'fire'],\n",
       " ['turkey', 'poise', 'iraq', 'deal'],\n",
       " ['kill', 'motorbike', 'collision'],\n",
       " ['warn', 'final', 'phase', 'iraq', 'stand'],\n",
       " ['ulster', 'militant', 'declare', 'ceasefire'],\n",
       " ['authority', 'confirm', 'kill', 'club', 'fire'],\n",
       " ['ensure', 'american', 'semi', 'final'],\n",
       " ['nightclub', 'fire', 'death', 'toll', 'hit'],\n",
       " ['prosecutor', 'slave', 'labour', 'case', 'samoa'],\n",
       " ['stock', 'rise', 'follow', 'positive', 'iraqi', 'comment'],\n",
       " ['govt', 'call', 'volunteer', 'state', 'clean'],\n",
       " ['say', 'police', 'take', 'beat'],\n",
       " ['warne', 'appeal', 'month'],\n",
       " ['weather', 'change', 'save', 'white', 'beach', 'shack'],\n",
       " ['wood', 'remain', 'hunt'],\n",
       " ['worker', 'electrocute', 'piggery', 'repair'],\n",
       " ['accuse', 'people', 'smuggler', 'face', 'darwin', 'court'],\n",
       " ['struggle', 'public', 'house', 'demand'],\n",
       " ['alice', 'forum', 'discus', 'indigenous', 'education', 'issue'],\n",
       " ['alinghi', 'fume', 'another', 'cancellation'],\n",
       " ['least', 'tumble', 'greece', 'river'],\n",
       " ['aussie', 'arrive', 'zimbabwe'],\n",
       " ['barca', 'deportivo', 'real', 'shine', 'spain'],\n",
       " ['bayern', 'open', 'point'],\n",
       " ['bevan', 'frustrate', 'lack', 'opportunity'],\n",
       " ['blair', 'put', 'case', 'iraq', 'pope'],\n",
       " ['bradman', 'baggy', 'green', 'expect', 'fetch', '200000'],\n",
       " ['britain', 'rally', 'support', 'resolution'],\n",
       " ['brown', 'claim', 'french', 'land', 'site', 'could', 'tassies'],\n",
       " ['butch', 'defend', 'beef', 'price'],\n",
       " ['call', 'peaceful', 'iraqi', 'resolution'],\n",
       " ['cambodian', 'deny', 'political', 'emergency'],\n",
       " ['carpark', 'shoot', 'spark', 'adelaide', 'manhunt'],\n",
       " ['carr', 'plan', '200m', 'anti', 'drug', 'campaign'],\n",
       " ['lover', 'march', 'rome', 'sacred', 'stray'],\n",
       " ['cat', 'claw', 'dog'],\n",
       " ['cat', 'claw', 'dog', 'pie', 'swoop', 'blue'],\n",
       " ['coalition', 'launch', 'ahead', 'election'],\n",
       " ['colombian', 'rebel', 'demand', 'rescuer', 'back'],\n",
       " ['consumer', 'wear', 'cost', 'trolley', 'loss'],\n",
       " ['council', 'deny', 'revenue', 'raise', 'park', 'fee'],\n",
       " ['court', 'find', 'guilty', 'gross', 'ingratitude'],\n",
       " ['cricketer', 'association', 'say', 'warne', 'harsh'],\n",
       " ['defend', 'acquisition', 'investigation'],\n",
       " ['darwin', 'clear', 'play', 'next', 'super', 'match'],\n",
       " ['davy', 'take', 'lady', 'master'],\n",
       " ['davison', 'plunder', 'record', 'century'],\n",
       " ['deadly', 'fire', 'rock', 'club', 'who', 'fault'],\n",
       " ['dems', 'block', 'govts', 'spend', 'move'],\n",
       " ['difference', 'beazley', 'stay', 'backbencher'],\n",
       " ['downer', 'expect', 'back', 'iraq', 'edict'],\n",
       " ['downer', 'push', 'urgent', 'talk', 'korea'],\n",
       " ['downer', 'unmoved', 'iraqi', 'wheat', 'decision'],\n",
       " ['drought', 'doom', 'turn', 'flood', 'gloom'],\n",
       " ['protest', 'face', 'zimbabwe', 'player', 'tell'],\n",
       " ['england', 'deserve', 'favouritism', 'oneill'],\n",
       " ['england', 'keep', 'grand', 'slam', 'dream', 'alive'],\n",
       " ['england', 'punish', 'disappoint', 'pakistan'],\n",
       " ['fake', 'crocs', 'scare', 'flamingo'],\n",
       " ['fickle', 'weather', 'hold', 'race'],\n",
       " ['firefighter', 'continue', 'containment', 'effort', 'near'],\n",
       " ['five', 'palestinian', 'army', 'crackdown'],\n",
       " ['flower', 'play', 'australia', 'report'],\n",
       " ['forensic', 'team', 'struggle', 'identify', 'club', 'fire'],\n",
       " ['former', 'ambassador', 'criticise', 'howard', 'remark'],\n",
       " ['freeman', 'expect', 'race', 'melbourne'],\n",
       " ['gatecrasher', 'blame', 'violence', 'bali', 'thank'],\n",
       " ['geelong', 'fight', 'ring', 'road', 'fund'],\n",
       " ['govt', 'paper', 'discus', 'preservation', 'adelaide'],\n",
       " ['gunner', 'demolish', 'city', 'stumble'],\n",
       " ['hampshire', 'chairman', 'call', 'review', 'cricket'],\n",
       " ['hampshire', 'want', 'warne', 'do'],\n",
       " ['hard', 'work', 'steal', 'craftsman', 'identity'],\n",
       " ['hayden', 'focus', 'cricket', 'politics'],\n",
       " ['henin', 'hardenne', 'outlast', 'seles', 'dubai', 'thriller'],\n",
       " ['hill', 'star', 'tiger', 'claim', 'charity'],\n",
       " ['hockeyroos', 'save', 'best', 'till', 'last'],\n",
       " ['hotel', 'association', 'fight', 'smoke'],\n",
       " ['howell', 'extend', 'lead'],\n",
       " ['hussain', 'hail', 'special', 'england', 'performance'],\n",
       " ['iaea', 'say', 'iraqi', 'cooperation', 'improve'],\n",
       " ['iraqi', 'minister', 'say', 'protest', 'prompt', 'wheat', 'decision'],\n",
       " ['king', 'regain', 'spot'],\n",
       " ['lion', 'roll', 'swan'],\n",
       " ['charge', 'bash', 'nightclub', 'door'],\n",
       " ['charge', 'ormiston', 'attack'],\n",
       " ['charge', 'attempt', 'murder', 'stab'],\n",
       " ['fight', 'life', 'stab'],\n",
       " ['stab', 'death', 'melbourne', 'brawl'],\n",
       " ['maroney', 'make', 'last', 'swim'],\n",
       " ['medicare', 'office', 'busy', 'bulk', 'bill', 'dip'],\n",
       " ['mirnyi', 'slay', 'federer', 'reach', 'rotterdam', 'final'],\n",
       " ['missile', 'issue', 'resolve', 'le', 'pressure'],\n",
       " ['monster', 'surf', 'sweep', 'woman', 'death'],\n",
       " ['magic', 'martina'],\n",
       " ['natasha', 'spat', 'wont', 'destroy', 'dems'],\n",
       " ['nataus'],\n",
       " ['newton', 'predict', '2060', 'armageddon', 'report'],\n",
       " ['resolution', 'would', 'give', 'hussein', 'day', 'downer'],\n",
       " ['nine', 'kill', 'violence', 'outside', 'karachi', 'mosque'],\n",
       " ['green', 'call', 'party', 'show', 'hand'],\n",
       " ['receive', 'cwealth', 'literacy', 'grant'],\n",
       " ['odriscoll', 'capture', 'record', 'ireland', 'down', 'italy'],\n",
       " ['water', 'okay'],\n",
       " ['opec', 'pledge', 'flow', 'despite'],\n",
       " ['patterson', 'say', 'state', 'make', 'offer'],\n",
       " ['pearson', 'say', 'bureaucracy', 'fail', 'indigenous', 'welfare'],\n",
       " ['perth', 'tiger', 'giant', 'notch', 'win'],\n",
       " ['pilot', 'die', 'ultralight', 'plunge'],\n",
       " ['polanski', 'get', 'best', 'director', 'cesar', 'pianist'],\n",
       " ['police', 'arrest', 'pair', 'attack', 'brick', 'bottle'],\n",
       " ['police', 'search', 'shoot'],\n",
       " ['pope', 'urge', 'blair', 'avert'],\n",
       " ['crash', 'defeat', 'despite', 'ronaldinho'],\n",
       " ['rain', 'still', 'need', 'central', 'west'],\n",
       " ['raymond', 'defend', 'memphis', 'title'],\n",
       " ['research', 'turn', 'spotlight', 'binge', 'drink'],\n",
       " ['roddick', 'want', 'dent', 'crown'],\n",
       " ['african', 'weapon', 'inspector', 'iraq'],\n",
       " ['police', 'investigate', 'fatal', 'road', 'crash'],\n",
       " ['searcher', 'retrieve', 'ultralight', 'pilot', 'body'],\n",
       " ['search', 'intensify', 'miss', 'pilot'],\n",
       " ['search', 'begin', 'miss', 'pilot'],\n",
       " ['busy', 'flash', 'flood', 'north', 'west'],\n",
       " ['shark', 'steal', 'glory', 'perth'],\n",
       " ['sherpa', 'plan', 'world', 'high', 'cyber', 'cafe', 'oxygen'],\n",
       " ['storm', 'whip', 'coast', 'northern', 'flood', 'steady'],\n",
       " ['striker', 'rout', 'kingz'],\n",
       " ['striker', 'rout', 'kingz', 'unite', 'knight'],\n",
       " ['tail', 'rescue', 'struggle'],\n",
       " ['tamworth', 'flood', 'cost', 'million'],\n",
       " ['teacher', 'student', 'guideline', 'need', 'modify'],\n",
       " ['teenager', 'die', 'transplant'],\n",
       " ['tendulkar', 'blaze', 'century', 'total'],\n",
       " ['territory', 'search', 'comedy', 'talent'],\n",
       " ['third', 'time', 'lucky', 'canberra', 'unis', 'brisbane', 'campus'],\n",
       " ['tight', 'security', 'greet', 'cricketer', 'zimbabwe'],\n",
       " ['tourist', 'foul', 'spill', 'milk'],\n",
       " ['tropfest', 'turn', 'tarpfest', 'show'],\n",
       " ['turkey', 'signal', 'ahead', 'troop'],\n",
       " ['tyson', 'destroy', 'etienne', 'le', 'minute'],\n",
       " ['vote', 'iraq', 'soon', 'march', 'powell'],\n",
       " ['spain', 'draft', 'second', 'resolution'],\n",
       " ['resolution'],\n",
       " ['warne', 'appeal', 'delay', 'name', 'replacement'],\n",
       " ['warne', 'back', 'pollock'],\n",
       " ['warn', 'water', 'contaminiation', 'recent', 'rain'],\n",
       " ['struggle', 'final'],\n",
       " ['waugh', 'expect', 'play', 'final'],\n",
       " ['waugh', 'lead', 'blue', 'title'],\n",
       " ['weapon', 'expert', 'denounce', 'intelligence', 'iraq'],\n",
       " ['yemen', 'chopper', 'crash', 'kill', 'eight', 'troop'],\n",
       " ['dead', 'china', 'earthquake'],\n",
       " ['academic', 'consider', 'indigenous', 'culture', 'role'],\n",
       " ['adelaide', 'charge', 'firearm', 'offence'],\n",
       " ['ajax', 'lose', 'grind', 'utrecht', 'defeat'],\n",
       " ['ords', 'jump', 'point', 'high'],\n",
       " ['choose', 'charlestown', 'candidate'],\n",
       " ['amino', 'level', 'link', 'malaria', 'treatment', 'research'],\n",
       " ['anti', 'french', 'joke', 'censor', 'broadcaster', 'complain'],\n",
       " ['welcome', 'court', 'rule', 'chairman'],\n",
       " ['least', 'five', 'kill', 'factional', 'afghan', 'fight'],\n",
       " ['defend', 'grain', 'freight', 'spot', 'price', 'tender'],\n",
       " ['beef', 'price', 'rise'],\n",
       " ['billiton', 'reveal', '19pc', 'profit', 'downturn'],\n",
       " ['bloke', 'peel', 'pant', 'peace'],\n",
       " ['bomb', 'alert', 'delay', 'domestic', 'flight', 'philippine'],\n",
       " ['boulami', 'ban', 'iaaf', 'source'],\n",
       " ['almost', 'drown', 'sweep', 'storm'],\n",
       " ['bradman', 'baggy', 'green', 'tour'],\n",
       " ['britain', 'concern', 'report', 'iraqi', 'missile'],\n",
       " ['build', 'industry', 'shake'],\n",
       " ['cabinet', 'meet', 'balance', 'budget', 'priority'],\n",
       " ['canberra', 'step', 'tourist', 'campaign'],\n",
       " ['carr', 'consider', 'clarence', 'battle'],\n",
       " ['celtic', 'still', 'four', 'trophy'],\n",
       " ['chavez', 'blast', 'medium', 'violence', 'continue'],\n",
       " ['civilian', 'kill', 'gunman', 'attack', 'minibus', 'east'],\n",
       " ['claim', 'diamond', 'miner', 'murder', 'congo'],\n",
       " ['claim', 'evidence', 'unsolved', 'double', 'murder'],\n",
       " ['clean', 'coal', 'technology', 'still', 'year', 'away'],\n",
       " ['coastal', 'graze', 'boom', 'lift', 'property', 'price'],\n",
       " ['combine', 'approach', 'tackle', 'grasshopper'],\n",
       " ['committee', 'offer', 'age', 'care', 'warn'],\n",
       " ['community', 'bank', 'share', 'trade', 'show', 'little', 'change'],\n",
       " ['community', 'clean', 'drench'],\n",
       " ['community', 'flock', 'waste', 'transfer', 'station'],\n",
       " ['conference', 'focus', 'tuna', 'fishery'],\n",
       " ['council', 'host', 'farewell'],\n",
       " ['council', 'resist', 'roster', 'pressure'],\n",
       " ['custom', 'house', 'restoration', 'open'],\n",
       " ['water', 'level', 'still', 'critically'],\n",
       " ...]"
      ]
     },
     "execution_count": 13,
     "metadata": {},
     "output_type": "execute_result"
    }
   ],
   "source": [
    "final_words = []\n",
    "\n",
    "for word in words_splitted:\n",
    "    word_without_sw = []\n",
    "    for w in word:\n",
    "        if w not in stop_words and len(w) > 3:\n",
    "            w = WordNetLemmatizer().lemmatize(w, pos='v').lower()\n",
    "            w = WordNetLemmatizer().lemmatize(w, pos='n')\n",
    "            w = WordNetLemmatizer().lemmatize(w, pos='a')\n",
    "            word_without_sw.append(WordNetLemmatizer().lemmatize(w))\n",
    "    final_words.append(word_without_sw)\n",
    "final_words "
   ]
  },
  {
   "cell_type": "code",
   "execution_count": 14,
   "metadata": {
    "ExecuteTime": {
     "end_time": "2021-07-13T08:21:08.092769Z",
     "start_time": "2021-07-13T08:21:08.080268Z"
    }
   },
   "outputs": [],
   "source": [
    "#df = pd.DataFrame()"
   ]
  },
  {
   "cell_type": "code",
   "execution_count": 15,
   "metadata": {
    "ExecuteTime": {
     "end_time": "2021-07-13T08:21:08.870415Z",
     "start_time": "2021-07-13T08:21:08.097316Z"
    }
   },
   "outputs": [],
   "source": [
    "df['sentence'] = final_words"
   ]
  },
  {
   "cell_type": "code",
   "execution_count": 16,
   "metadata": {
    "ExecuteTime": {
     "end_time": "2021-07-13T08:21:08.885645Z",
     "start_time": "2021-07-13T08:21:08.874582Z"
    }
   },
   "outputs": [],
   "source": [
    "#!pip install gensim\n",
    "from gensim.corpora import Dictionary\n"
   ]
  },
  {
   "cell_type": "code",
   "execution_count": 17,
   "metadata": {
    "ExecuteTime": {
     "end_time": "2021-07-13T08:21:28.453492Z",
     "start_time": "2021-07-13T08:21:08.890950Z"
    }
   },
   "outputs": [],
   "source": [
    "# Create a dictionary representation of the documents.\n",
    "dictionary = Dictionary(df['sentence'])\n",
    "\n",
    "# Filter out words that occur less than 2 documents, or more than 50% of the documents.\n",
    "dictionary.filter_extremes(no_below=20, no_above=0.5)"
   ]
  },
  {
   "cell_type": "code",
   "execution_count": 18,
   "metadata": {
    "ExecuteTime": {
     "end_time": "2021-07-13T08:21:28.469553Z",
     "start_time": "2021-07-13T08:21:28.456428Z"
    }
   },
   "outputs": [
    {
     "data": {
      "text/plain": [
       "<gensim.corpora.dictionary.Dictionary at 0x2200e1dcc70>"
      ]
     },
     "execution_count": 18,
     "metadata": {},
     "output_type": "execute_result"
    }
   ],
   "source": [
    "dictionary"
   ]
  },
  {
   "cell_type": "code",
   "execution_count": 19,
   "metadata": {
    "ExecuteTime": {
     "end_time": "2021-07-13T08:21:42.347408Z",
     "start_time": "2021-07-13T08:21:28.477074Z"
    }
   },
   "outputs": [],
   "source": [
    "corpus = [dictionary.doc2bow(word) for word in df['sentence']]"
   ]
  },
  {
   "cell_type": "code",
   "execution_count": 20,
   "metadata": {
    "ExecuteTime": {
     "end_time": "2021-07-13T08:21:42.378157Z",
     "start_time": "2021-07-13T08:21:42.351373Z"
    }
   },
   "outputs": [
    {
     "name": "stdout",
     "output_type": "stream",
     "text": [
      "Number of unique tokens: 13373\n",
      "Number of documents: 1103665\n"
     ]
    }
   ],
   "source": [
    "print('Number of unique tokens: %d' % len(dictionary))\n",
    "print('Number of documents: %d' % len(corpus))"
   ]
  },
  {
   "cell_type": "code",
   "execution_count": 21,
   "metadata": {
    "ExecuteTime": {
     "end_time": "2021-07-13T08:21:42.409295Z",
     "start_time": "2021-07-13T08:21:42.382457Z"
    }
   },
   "outputs": [
    {
     "data": {
      "text/plain": [
       "[[(0, 1), (1, 1), (2, 1), (3, 1)],\n",
       " [(4, 1), (5, 1), (6, 1), (7, 1), (8, 1)],\n",
       " [(9, 1), (10, 1), (11, 1), (12, 1)],\n",
       " [(13, 1), (14, 1), (15, 1), (16, 1)],\n",
       " [(16, 1), (17, 1), (18, 1), (19, 1)]]"
      ]
     },
     "execution_count": 21,
     "metadata": {},
     "output_type": "execute_result"
    }
   ],
   "source": [
    "corpus[:5]"
   ]
  },
  {
   "cell_type": "markdown",
   "metadata": {},
   "source": [
    "## Créer un modèle TF IDF"
   ]
  },
  {
   "cell_type": "code",
   "execution_count": 22,
   "metadata": {
    "ExecuteTime": {
     "end_time": "2021-07-13T08:21:45.911029Z",
     "start_time": "2021-07-13T08:21:42.415363Z"
    }
   },
   "outputs": [
    {
     "name": "stdout",
     "output_type": "stream",
     "text": [
      "TfidfModel(num_docs=1103665, num_nnz=5028074)\n"
     ]
    }
   ],
   "source": [
    "from gensim import corpora, models\n",
    "\n",
    "tfidf = models.TfidfModel(corpus)\n",
    "print(tfidf)"
   ]
  },
  {
   "cell_type": "code",
   "execution_count": 23,
   "metadata": {
    "ExecuteTime": {
     "end_time": "2021-07-13T08:21:45.941896Z",
     "start_time": "2021-07-13T08:21:45.921294Z"
    }
   },
   "outputs": [
    {
     "name": "stdout",
     "output_type": "stream",
     "text": [
      "[(0, 0.5991582770887491), (1, 0.38156983624583796), (2, 0.5006327574547617), (3, 0.4947531315985863)]\n"
     ]
    }
   ],
   "source": [
    "corpus_tfidf = tfidf[corpus]\n",
    "print(corpus_tfidf[0])"
   ]
  },
  {
   "cell_type": "code",
   "execution_count": 24,
   "metadata": {
    "ExecuteTime": {
     "end_time": "2021-07-13T08:21:46.005062Z",
     "start_time": "2021-07-13T08:21:45.957663Z"
    }
   },
   "outputs": [
    {
     "data": {
      "text/plain": [
       "['decide', 'community', 'broadcast', 'licence']"
      ]
     },
     "execution_count": 24,
     "metadata": {},
     "output_type": "execute_result"
    }
   ],
   "source": [
    "final_words[0]"
   ]
  },
  {
   "cell_type": "code",
   "execution_count": 25,
   "metadata": {
    "ExecuteTime": {
     "end_time": "2021-07-13T08:21:46.036887Z",
     "start_time": "2021-07-13T08:21:46.015646Z"
    }
   },
   "outputs": [
    {
     "name": "stdout",
     "output_type": "stream",
     "text": [
      "('Poids des mots [(0, 0.5991582770887491), (1, 0.38156983624583796), (2, '\n",
      " '0.5006327574547617), (3, 0.4947531315985863)]')\n"
     ]
    }
   ],
   "source": [
    "from pprint import pprint\n",
    "\n",
    "for doc in corpus_tfidf: \n",
    "    pprint(f\"Poids des mots {doc}\")\n",
    "    break"
   ]
  },
  {
   "cell_type": "markdown",
   "metadata": {},
   "source": [
    "## LDA bag of words"
   ]
  },
  {
   "cell_type": "code",
   "execution_count": 26,
   "metadata": {
    "ExecuteTime": {
     "end_time": "2021-07-13T08:21:46.082692Z",
     "start_time": "2021-07-13T08:21:46.040661Z"
    }
   },
   "outputs": [],
   "source": [
    "import gensim"
   ]
  },
  {
   "cell_type": "code",
   "execution_count": 27,
   "metadata": {
    "ExecuteTime": {
     "end_time": "2021-07-13T08:27:02.062133Z",
     "start_time": "2021-07-13T08:21:46.089646Z"
    }
   },
   "outputs": [],
   "source": [
    "# LDA multicore \n",
    "'''\n",
    "Train your lda model using gensim.models.LdaMulticore and save it to 'lda_model'\n",
    "'''\n",
    "lda_model = gensim.models.LdaMulticore(corpus, \n",
    "                                       num_topics=10, \n",
    "                                       id2word = dictionary, \n",
    "                                       passes = 2)"
   ]
  },
  {
   "cell_type": "code",
   "execution_count": 28,
   "metadata": {
    "ExecuteTime": {
     "end_time": "2021-07-13T08:27:02.092913Z",
     "start_time": "2021-07-13T08:27:02.066123Z"
    },
    "scrolled": false
   },
   "outputs": [
    {
     "name": "stdout",
     "output_type": "stream",
     "text": [
      "Topic: 0 \n",
      "Words: 0.028*\"south\" + 0.023*\"government\" + 0.021*\"hour\" + 0.018*\"water\" + 0.017*\"west\" + 0.014*\"flood\" + 0.014*\"league\" + 0.013*\"park\" + 0.013*\"victoria\" + 0.011*\"john\"\n",
      "\n",
      "\n",
      "Topic: 1 \n",
      "Words: 0.041*\"australia\" + 0.021*\"trump\" + 0.020*\"world\" + 0.017*\"take\" + 0.015*\"first\" + 0.013*\"test\" + 0.012*\"final\" + 0.012*\"win\" + 0.011*\"australian\" + 0.010*\"year\"\n",
      "\n",
      "\n",
      "Topic: 2 \n",
      "Words: 0.035*\"woman\" + 0.033*\"charge\" + 0.030*\"court\" + 0.022*\"murder\" + 0.021*\"child\" + 0.020*\"face\" + 0.020*\"death\" + 0.017*\"jail\" + 0.015*\"accuse\" + 0.013*\"trial\"\n",
      "\n",
      "\n",
      "Topic: 3 \n",
      "Words: 0.022*\"election\" + 0.019*\"say\" + 0.016*\"health\" + 0.015*\"live\" + 0.015*\"sydney\" + 0.013*\"tasmania\" + 0.013*\"show\" + 0.012*\"labor\" + 0.011*\"government\" + 0.010*\"turnbull\"\n",
      "\n",
      "\n",
      "Topic: 4 \n",
      "Words: 0.031*\"fire\" + 0.030*\"australian\" + 0.024*\"kill\" + 0.022*\"house\" + 0.021*\"warn\" + 0.019*\"attack\" + 0.018*\"crash\" + 0.012*\"dead\" + 0.011*\"force\" + 0.011*\"near\"\n",
      "\n",
      "\n",
      "Topic: 5 \n",
      "Words: 0.019*\"market\" + 0.016*\"china\" + 0.014*\"rise\" + 0.013*\"price\" + 0.013*\"share\" + 0.013*\"council\" + 0.012*\"power\" + 0.012*\"concern\" + 0.011*\"farm\" + 0.010*\"farmer\"\n",
      "\n",
      "\n",
      "Topic: 6 \n",
      "Words: 0.027*\"find\" + 0.026*\"interview\" + 0.020*\"miss\" + 0.016*\"claim\" + 0.015*\"police\" + 0.014*\"driver\" + 0.012*\"search\" + 0.010*\"violence\" + 0.010*\"body\" + 0.010*\"campaign\"\n",
      "\n",
      "\n",
      "Topic: 7 \n",
      "Words: 0.018*\"country\" + 0.018*\"coast\" + 0.018*\"rural\" + 0.018*\"school\" + 0.016*\"fund\" + 0.012*\"work\" + 0.012*\"gold\" + 0.011*\"island\" + 0.011*\"news\" + 0.010*\"student\"\n",
      "\n",
      "\n",
      "Topic: 8 \n",
      "Words: 0.035*\"police\" + 0.029*\"queensland\" + 0.017*\"shoot\" + 0.016*\"arrest\" + 0.012*\"guilty\" + 0.011*\"brisbane\" + 0.011*\"release\" + 0.011*\"review\" + 0.010*\"find\" + 0.009*\"premier\"\n",
      "\n",
      "\n",
      "Topic: 9 \n",
      "Words: 0.024*\"change\" + 0.022*\"mine\" + 0.020*\"die\" + 0.014*\"worker\" + 0.014*\"close\" + 0.014*\"people\" + 0.013*\"budget\" + 0.010*\"hobart\" + 0.010*\"hunter\" + 0.010*\"drum\"\n",
      "\n",
      "\n"
     ]
    }
   ],
   "source": [
    "'''\n",
    "For each topic, we will explore the words occuring in that topic and its relative weight\n",
    "'''\n",
    "\n",
    "#num_topics (int, optional) – The number of topics to be selected, if -1 - all topics will be in result (ordered by significance).\n",
    "for idx, topic in lda_model.print_topics(-1):\n",
    "    \n",
    "    print(\"Topic: {} \\nWords: {}\".format(idx, topic ))\n",
    "    print(\"\\n\")"
   ]
  },
  {
   "cell_type": "code",
   "execution_count": 29,
   "metadata": {
    "ExecuteTime": {
     "end_time": "2021-07-13T08:27:02.108188Z",
     "start_time": "2021-07-13T08:27:02.099919Z"
    }
   },
   "outputs": [
    {
     "data": {
      "text/plain": [
       "['yemen', 'chopper', 'crash', 'kill', 'eight', 'troop']"
      ]
     },
     "execution_count": 29,
     "metadata": {},
     "output_type": "execute_result"
    }
   ],
   "source": [
    "final_words[959]"
   ]
  },
  {
   "cell_type": "code",
   "execution_count": 30,
   "metadata": {
    "ExecuteTime": {
     "end_time": "2021-07-13T08:27:02.155364Z",
     "start_time": "2021-07-13T08:27:02.112181Z"
    },
    "scrolled": false
   },
   "outputs": [
    {
     "name": "stdout",
     "output_type": "stream",
     "text": [
      "\n",
      "Score: 0.7286007404327393\t \n",
      "Topic: 0.031*\"fire\" + 0.030*\"australian\" + 0.024*\"kill\" + 0.022*\"house\" + 0.021*\"warn\" + 0.019*\"attack\" + 0.018*\"crash\" + 0.012*\"dead\" + 0.011*\"force\" + 0.011*\"near\"\n",
      "\n",
      "Score: 0.15709884464740753\t \n",
      "Topic: 0.028*\"south\" + 0.023*\"government\" + 0.021*\"hour\" + 0.018*\"water\" + 0.017*\"west\" + 0.014*\"flood\" + 0.014*\"league\" + 0.013*\"park\" + 0.013*\"victoria\" + 0.011*\"john\"\n",
      "\n",
      "Score: 0.014287835918366909\t \n",
      "Topic: 0.027*\"find\" + 0.026*\"interview\" + 0.020*\"miss\" + 0.016*\"claim\" + 0.015*\"police\" + 0.014*\"driver\" + 0.012*\"search\" + 0.010*\"violence\" + 0.010*\"body\" + 0.010*\"campaign\"\n",
      "\n",
      "Score: 0.014287509955465794\t \n",
      "Topic: 0.041*\"australia\" + 0.021*\"trump\" + 0.020*\"world\" + 0.017*\"take\" + 0.015*\"first\" + 0.013*\"test\" + 0.012*\"final\" + 0.012*\"win\" + 0.011*\"australian\" + 0.010*\"year\"\n",
      "\n",
      "Score: 0.014287509955465794\t \n",
      "Topic: 0.035*\"woman\" + 0.033*\"charge\" + 0.030*\"court\" + 0.022*\"murder\" + 0.021*\"child\" + 0.020*\"face\" + 0.020*\"death\" + 0.017*\"jail\" + 0.015*\"accuse\" + 0.013*\"trial\"\n",
      "\n",
      "Score: 0.014287509955465794\t \n",
      "Topic: 0.022*\"election\" + 0.019*\"say\" + 0.016*\"health\" + 0.015*\"live\" + 0.015*\"sydney\" + 0.013*\"tasmania\" + 0.013*\"show\" + 0.012*\"labor\" + 0.011*\"government\" + 0.010*\"turnbull\"\n",
      "\n",
      "Score: 0.014287509955465794\t \n",
      "Topic: 0.019*\"market\" + 0.016*\"china\" + 0.014*\"rise\" + 0.013*\"price\" + 0.013*\"share\" + 0.013*\"council\" + 0.012*\"power\" + 0.012*\"concern\" + 0.011*\"farm\" + 0.010*\"farmer\"\n",
      "\n",
      "Score: 0.014287509955465794\t \n",
      "Topic: 0.018*\"country\" + 0.018*\"coast\" + 0.018*\"rural\" + 0.018*\"school\" + 0.016*\"fund\" + 0.012*\"work\" + 0.012*\"gold\" + 0.011*\"island\" + 0.011*\"news\" + 0.010*\"student\"\n",
      "\n",
      "Score: 0.014287509955465794\t \n",
      "Topic: 0.035*\"police\" + 0.029*\"queensland\" + 0.017*\"shoot\" + 0.016*\"arrest\" + 0.012*\"guilty\" + 0.011*\"brisbane\" + 0.011*\"release\" + 0.011*\"review\" + 0.010*\"find\" + 0.009*\"premier\"\n",
      "\n",
      "Score: 0.014287509955465794\t \n",
      "Topic: 0.024*\"change\" + 0.022*\"mine\" + 0.020*\"die\" + 0.014*\"worker\" + 0.014*\"close\" + 0.014*\"people\" + 0.013*\"budget\" + 0.010*\"hobart\" + 0.010*\"hunter\" + 0.010*\"drum\"\n"
     ]
    }
   ],
   "source": [
    "# test\n",
    "\n",
    "'''\n",
    "Check which topic our test document belongs to using the LDA Bag of Words model.\n",
    "'''\n",
    "document_num = 959\n",
    "# Our test document is document number 4310\n",
    "\n",
    "for index, score in sorted(lda_model[corpus[document_num]], key=lambda tup: -1*tup[1]):\n",
    "\n",
    "    print(\"\\nScore: {}\\t \\nTopic: {}\".format(score, lda_model.print_topic(index, 10)))\n",
    "\n"
   ]
  },
  {
   "cell_type": "markdown",
   "metadata": {},
   "source": [
    "## LDA Tf Idf"
   ]
  },
  {
   "cell_type": "code",
   "execution_count": 31,
   "metadata": {
    "ExecuteTime": {
     "end_time": "2021-07-13T08:32:47.278439Z",
     "start_time": "2021-07-13T08:27:02.158336Z"
    }
   },
   "outputs": [],
   "source": [
    "'''\n",
    "Define lda model using corpus_tfidf, again using gensim.models.LdaMulticore()\n",
    "'''\n",
    "lda_model_tfidf = gensim.models.LdaMulticore(corpus_tfidf, \n",
    "                                             num_topics=10, \n",
    "                                             id2word = dictionary, \n",
    "                                             passes = 2, \n",
    "                                             workers=4)"
   ]
  },
  {
   "cell_type": "code",
   "execution_count": 32,
   "metadata": {
    "ExecuteTime": {
     "end_time": "2021-07-13T08:32:47.309937Z",
     "start_time": "2021-07-13T08:32:47.283346Z"
    },
    "scrolled": true
   },
   "outputs": [
    {
     "name": "stdout",
     "output_type": "stream",
     "text": [
      "Topic: 0 Word: 0.015*\"interview\" + 0.015*\"murder\" + 0.014*\"charge\" + 0.013*\"court\" + 0.010*\"drum\" + 0.009*\"assault\" + 0.009*\"jail\" + 0.008*\"sentence\" + 0.008*\"police\" + 0.007*\"woman\"\n",
      "\n",
      "\n",
      "Topic: 1 Word: 0.009*\"kill\" + 0.007*\"attack\" + 0.006*\"police\" + 0.006*\"korea\" + 0.006*\"september\" + 0.006*\"suspect\" + 0.006*\"syria\" + 0.006*\"arrest\" + 0.005*\"australian\" + 0.005*\"june\"\n",
      "\n",
      "\n",
      "Topic: 2 Word: 0.011*\"royal\" + 0.010*\"commission\" + 0.007*\"friday\" + 0.006*\"august\" + 0.006*\"award\" + 0.005*\"teacher\" + 0.005*\"hill\" + 0.005*\"celebrate\" + 0.005*\"paul\" + 0.004*\"facebook\"\n",
      "\n",
      "\n",
      "Topic: 3 Word: 0.008*\"climate\" + 0.007*\"monday\" + 0.007*\"asylum\" + 0.007*\"thursday\" + 0.006*\"seeker\" + 0.006*\"change\" + 0.006*\"social\" + 0.006*\"april\" + 0.006*\"centre\" + 0.005*\"interest\"\n",
      "\n",
      "\n",
      "Topic: 4 Word: 0.011*\"miss\" + 0.010*\"fire\" + 0.010*\"south\" + 0.010*\"weather\" + 0.009*\"find\" + 0.009*\"search\" + 0.009*\"police\" + 0.007*\"body\" + 0.007*\"violence\" + 0.006*\"coast\"\n",
      "\n",
      "\n",
      "Topic: 5 Word: 0.014*\"trump\" + 0.011*\"government\" + 0.006*\"say\" + 0.006*\"fund\" + 0.006*\"election\" + 0.006*\"federal\" + 0.006*\"labor\" + 0.005*\"mine\" + 0.005*\"sport\" + 0.005*\"plan\"\n",
      "\n",
      "\n",
      "Topic: 6 Word: 0.010*\"final\" + 0.010*\"2015\" + 0.009*\"league\" + 0.009*\"world\" + 0.008*\"australia\" + 0.008*\"2016\" + 0.006*\"2017\" + 0.006*\"test\" + 0.006*\"beat\" + 0.006*\"open\"\n",
      "\n",
      "\n",
      "Topic: 7 Word: 0.020*\"country\" + 0.019*\"hour\" + 0.015*\"market\" + 0.015*\"crash\" + 0.011*\"price\" + 0.011*\"podcast\" + 0.010*\"share\" + 0.009*\"turnbull\" + 0.008*\"driver\" + 0.008*\"fatal\"\n",
      "\n",
      "\n",
      "Topic: 8 Word: 0.022*\"rural\" + 0.014*\"news\" + 0.010*\"donald\" + 0.009*\"health\" + 0.008*\"business\" + 0.007*\"marriage\" + 0.007*\"national\" + 0.006*\"mental\" + 0.005*\"victorian\" + 0.005*\"history\"\n",
      "\n",
      "\n",
      "Topic: 9 Word: 0.010*\"grandstand\" + 0.009*\"michael\" + 0.008*\"october\" + 0.006*\"mark\" + 0.006*\"politics\" + 0.006*\"bail\" + 0.005*\"northern\" + 0.005*\"remember\" + 0.005*\"syrian\" + 0.005*\"tree\"\n",
      "\n",
      "\n"
     ]
    }
   ],
   "source": [
    "'''\n",
    "For each topic, we will explore the words occuring in that topic and its relative weight\n",
    "'''\n",
    "for idx, topic in lda_model_tfidf.print_topics(-1):\n",
    "    \n",
    "    print(\"Topic: {} Word: {}\".format(idx, topic))\n",
    "    print(\"\\n\")\n",
    "\n"
   ]
  },
  {
   "cell_type": "code",
   "execution_count": 33,
   "metadata": {
    "ExecuteTime": {
     "end_time": "2021-07-13T08:32:47.326006Z",
     "start_time": "2021-07-13T08:32:47.313960Z"
    }
   },
   "outputs": [
    {
     "data": {
      "text/plain": [
       "['yemen', 'chopper', 'crash', 'kill', 'eight', 'troop']"
      ]
     },
     "execution_count": 33,
     "metadata": {},
     "output_type": "execute_result"
    }
   ],
   "source": [
    "final_words[959]"
   ]
  },
  {
   "cell_type": "code",
   "execution_count": 34,
   "metadata": {
    "ExecuteTime": {
     "end_time": "2021-07-13T08:32:47.371759Z",
     "start_time": "2021-07-13T08:32:47.329981Z"
    },
    "scrolled": false
   },
   "outputs": [
    {
     "name": "stdout",
     "output_type": "stream",
     "text": [
      "\n",
      "Score: 0.6001042127609253\t \n",
      "Topic: 0.031*\"fire\" + 0.030*\"australian\" + 0.024*\"kill\" + 0.022*\"house\" + 0.021*\"warn\" + 0.019*\"attack\" + 0.018*\"crash\" + 0.012*\"dead\" + 0.011*\"force\" + 0.011*\"near\"\n",
      "\n",
      "Score: 0.16406512260437012\t \n",
      "Topic: 0.028*\"south\" + 0.023*\"government\" + 0.021*\"hour\" + 0.018*\"water\" + 0.017*\"west\" + 0.014*\"flood\" + 0.014*\"league\" + 0.013*\"park\" + 0.013*\"victoria\" + 0.011*\"john\"\n",
      "\n",
      "Score: 0.029479237273335457\t \n",
      "Topic: 0.027*\"find\" + 0.026*\"interview\" + 0.020*\"miss\" + 0.016*\"claim\" + 0.015*\"police\" + 0.014*\"driver\" + 0.012*\"search\" + 0.010*\"violence\" + 0.010*\"body\" + 0.010*\"campaign\"\n",
      "\n",
      "Score: 0.029478780925273895\t \n",
      "Topic: 0.041*\"australia\" + 0.021*\"trump\" + 0.020*\"world\" + 0.017*\"take\" + 0.015*\"first\" + 0.013*\"test\" + 0.012*\"final\" + 0.012*\"win\" + 0.011*\"australian\" + 0.010*\"year\"\n",
      "\n",
      "Score: 0.029478780925273895\t \n",
      "Topic: 0.035*\"woman\" + 0.033*\"charge\" + 0.030*\"court\" + 0.022*\"murder\" + 0.021*\"child\" + 0.020*\"face\" + 0.020*\"death\" + 0.017*\"jail\" + 0.015*\"accuse\" + 0.013*\"trial\"\n",
      "\n",
      "Score: 0.029478780925273895\t \n",
      "Topic: 0.022*\"election\" + 0.019*\"say\" + 0.016*\"health\" + 0.015*\"live\" + 0.015*\"sydney\" + 0.013*\"tasmania\" + 0.013*\"show\" + 0.012*\"labor\" + 0.011*\"government\" + 0.010*\"turnbull\"\n",
      "\n",
      "Score: 0.029478780925273895\t \n",
      "Topic: 0.019*\"market\" + 0.016*\"china\" + 0.014*\"rise\" + 0.013*\"price\" + 0.013*\"share\" + 0.013*\"council\" + 0.012*\"power\" + 0.012*\"concern\" + 0.011*\"farm\" + 0.010*\"farmer\"\n",
      "\n",
      "Score: 0.029478780925273895\t \n",
      "Topic: 0.018*\"country\" + 0.018*\"coast\" + 0.018*\"rural\" + 0.018*\"school\" + 0.016*\"fund\" + 0.012*\"work\" + 0.012*\"gold\" + 0.011*\"island\" + 0.011*\"news\" + 0.010*\"student\"\n",
      "\n",
      "Score: 0.029478780925273895\t \n",
      "Topic: 0.035*\"police\" + 0.029*\"queensland\" + 0.017*\"shoot\" + 0.016*\"arrest\" + 0.012*\"guilty\" + 0.011*\"brisbane\" + 0.011*\"release\" + 0.011*\"review\" + 0.010*\"find\" + 0.009*\"premier\"\n",
      "\n",
      "Score: 0.029478780925273895\t \n",
      "Topic: 0.024*\"change\" + 0.022*\"mine\" + 0.020*\"die\" + 0.014*\"worker\" + 0.014*\"close\" + 0.014*\"people\" + 0.013*\"budget\" + 0.010*\"hobart\" + 0.010*\"hunter\" + 0.010*\"drum\"\n"
     ]
    }
   ],
   "source": [
    "# test\n",
    "\n",
    "'''\n",
    "Check which topic our test document belongs to using the LDA TF IDF model.\n",
    "'''\n",
    "document_num = 959\n",
    "# Our test document is document number 4310\n",
    "\n",
    "for index, score in sorted(lda_model[corpus_tfidf[document_num]], key=lambda tup: -1*tup[1]):\n",
    "\n",
    "    print(\"\\nScore: {}\\t \\nTopic: {}\".format(score, lda_model.print_topic(index, 10)))\n",
    "\n"
   ]
  },
  {
   "cell_type": "code",
   "execution_count": 35,
   "metadata": {
    "ExecuteTime": {
     "end_time": "2021-07-13T08:32:47.387787Z",
     "start_time": "2021-07-13T08:32:47.375428Z"
    }
   },
   "outputs": [],
   "source": [
    "test=\"mayor, quit, council, function\""
   ]
  },
  {
   "cell_type": "markdown",
   "metadata": {},
   "source": [
    "## Test modele"
   ]
  },
  {
   "cell_type": "code",
   "execution_count": 36,
   "metadata": {
    "ExecuteTime": {
     "end_time": "2021-07-13T08:32:47.403472Z",
     "start_time": "2021-07-13T08:32:47.391791Z"
    }
   },
   "outputs": [],
   "source": [
    "stemmer = SnowballStemmer(\"english\")"
   ]
  },
  {
   "cell_type": "markdown",
   "metadata": {},
   "source": [
    "### Model tuto (juste verbes)"
   ]
  },
  {
   "cell_type": "code",
   "execution_count": 37,
   "metadata": {
    "ExecuteTime": {
     "end_time": "2021-07-13T08:32:47.419234Z",
     "start_time": "2021-07-13T08:32:47.406464Z"
    }
   },
   "outputs": [],
   "source": [
    "'''\n",
    "Write a function to perform the pre processing steps on the entire dataset\n",
    "'''\n",
    "def lemmatize_stemming(text):\n",
    "    return stemmer.stem(WordNetLemmatizer().lemmatize(text, pos='v'))\n",
    "\n",
    "# Tokenize and lemmatize\n",
    "def preprocess(text):\n",
    "    \n",
    "    result = []\n",
    "    \n",
    "    for token in gensim.utils.simple_preprocess(text) :\n",
    "        \n",
    "        if token not in gensim.parsing.preprocessing.STOPWORDS and len(token) > 3:\n",
    "            \n",
    "            # TODO: Apply lemmatize_stemming() on the token, then add to the results list\n",
    "            # print(\"###############################\")\n",
    "            # print(lemmatize_stemming(token))\n",
    "            result.append(lemmatize_stemming(token))\n",
    "    \n",
    "    return result"
   ]
  },
  {
   "cell_type": "code",
   "execution_count": 38,
   "metadata": {
    "ExecuteTime": {
     "end_time": "2021-07-13T08:32:47.466379Z",
     "start_time": "2021-07-13T08:32:47.425503Z"
    },
    "scrolled": true
   },
   "outputs": [
    {
     "name": "stdout",
     "output_type": "stream",
     "text": [
      "Score: 0.5249441862106323\t Topic: 0.018*\"country\" + 0.018*\"coast\" + 0.018*\"rural\" + 0.018*\"school\" + 0.016*\"fund\"\n",
      "Score: 0.27501755952835083\t Topic: 0.035*\"police\" + 0.029*\"queensland\" + 0.017*\"shoot\" + 0.016*\"arrest\" + 0.012*\"guilty\"\n",
      "Score: 0.02501358650624752\t Topic: 0.041*\"australia\" + 0.021*\"trump\" + 0.020*\"world\" + 0.017*\"take\" + 0.015*\"first\"\n",
      "Score: 0.025003522634506226\t Topic: 0.028*\"south\" + 0.023*\"government\" + 0.021*\"hour\" + 0.018*\"water\" + 0.017*\"west\"\n",
      "Score: 0.025003522634506226\t Topic: 0.035*\"woman\" + 0.033*\"charge\" + 0.030*\"court\" + 0.022*\"murder\" + 0.021*\"child\"\n",
      "Score: 0.025003522634506226\t Topic: 0.022*\"election\" + 0.019*\"say\" + 0.016*\"health\" + 0.015*\"live\" + 0.015*\"sydney\"\n",
      "Score: 0.025003522634506226\t Topic: 0.031*\"fire\" + 0.030*\"australian\" + 0.024*\"kill\" + 0.022*\"house\" + 0.021*\"warn\"\n",
      "Score: 0.025003522634506226\t Topic: 0.019*\"market\" + 0.016*\"china\" + 0.014*\"rise\" + 0.013*\"price\" + 0.013*\"share\"\n",
      "Score: 0.025003522634506226\t Topic: 0.027*\"find\" + 0.026*\"interview\" + 0.020*\"miss\" + 0.016*\"claim\" + 0.015*\"police\"\n",
      "Score: 0.025003522634506226\t Topic: 0.024*\"change\" + 0.022*\"mine\" + 0.020*\"die\" + 0.014*\"worker\" + 0.014*\"close\"\n"
     ]
    }
   ],
   "source": [
    "unseen_document = \"My favorite sports activities are running and swimming.\"\n",
    "\n",
    "# Data preprocessing step for the unseen document\n",
    "bow_vector = dictionary.doc2bow(preprocess(unseen_document))\n",
    "\n",
    "for index, score in sorted(lda_model[bow_vector], key=lambda tup: -1*tup[1]):\n",
    "\n",
    "    print(\"Score: {}\\t Topic: {}\".format(score, lda_model.print_topic(index, 5)))\n",
    "\n"
   ]
  },
  {
   "cell_type": "markdown",
   "metadata": {},
   "source": [
    "### Model custom avec verbes noms et adverbes"
   ]
  },
  {
   "cell_type": "code",
   "execution_count": 39,
   "metadata": {
    "ExecuteTime": {
     "end_time": "2021-07-13T08:32:47.481819Z",
     "start_time": "2021-07-13T08:32:47.470028Z"
    }
   },
   "outputs": [],
   "source": [
    "'''\n",
    "Write a function to perform the pre processing steps on the entire dataset\n",
    "'''\n",
    "def lemmatize_stemming(text):\n",
    "    w = text\n",
    "    w = WordNetLemmatizer().lemmatize(w, pos='v').lower()\n",
    "    w = WordNetLemmatizer().lemmatize(w, pos='n')\n",
    "    w = WordNetLemmatizer().lemmatize(w, pos='a')\n",
    "    return w\n",
    "\n",
    "# Tokenize and lemmatize\n",
    "def preprocess(text):\n",
    "    \n",
    "    result = []\n",
    "    \n",
    "    for token in gensim.utils.simple_preprocess(text) :\n",
    "        \n",
    "        if token not in gensim.parsing.preprocessing.STOPWORDS and len(token) > 3:\n",
    "            \n",
    "            # TODO: Apply lemmatize_stemming() on the token, then add to the results list\n",
    "            result.append(lemmatize_stemming(token))\n",
    "    \n",
    "    return result"
   ]
  },
  {
   "cell_type": "code",
   "execution_count": 40,
   "metadata": {
    "ExecuteTime": {
     "end_time": "2021-07-13T08:32:47.528668Z",
     "start_time": "2021-07-13T08:32:47.485809Z"
    }
   },
   "outputs": [
    {
     "name": "stdout",
     "output_type": "stream",
     "text": [
      "Score: 0.29500114917755127\t Topic: 0.024*\"change\" + 0.022*\"mine\" + 0.020*\"die\" + 0.014*\"worker\" + 0.014*\"close\"\n",
      "Score: 0.22116872668266296\t Topic: 0.031*\"fire\" + 0.030*\"australian\" + 0.024*\"kill\" + 0.022*\"house\" + 0.021*\"warn\"\n",
      "Score: 0.20046748220920563\t Topic: 0.018*\"country\" + 0.018*\"coast\" + 0.018*\"rural\" + 0.018*\"school\" + 0.016*\"fund\"\n",
      "Score: 0.18334341049194336\t Topic: 0.035*\"woman\" + 0.033*\"charge\" + 0.030*\"court\" + 0.022*\"murder\" + 0.021*\"child\"\n",
      "Score: 0.016669899225234985\t Topic: 0.028*\"south\" + 0.023*\"government\" + 0.021*\"hour\" + 0.018*\"water\" + 0.017*\"west\"\n",
      "Score: 0.016669875010848045\t Topic: 0.035*\"police\" + 0.029*\"queensland\" + 0.017*\"shoot\" + 0.016*\"arrest\" + 0.012*\"guilty\"\n",
      "Score: 0.016669873148202896\t Topic: 0.027*\"find\" + 0.026*\"interview\" + 0.020*\"miss\" + 0.016*\"claim\" + 0.015*\"police\"\n",
      "Score: 0.0166698656976223\t Topic: 0.041*\"australia\" + 0.021*\"trump\" + 0.020*\"world\" + 0.017*\"take\" + 0.015*\"first\"\n",
      "Score: 0.01666986383497715\t Topic: 0.022*\"election\" + 0.019*\"say\" + 0.016*\"health\" + 0.015*\"live\" + 0.015*\"sydney\"\n",
      "Score: 0.01666986383497715\t Topic: 0.019*\"market\" + 0.016*\"china\" + 0.014*\"rise\" + 0.013*\"price\" + 0.013*\"share\"\n"
     ]
    }
   ],
   "source": [
    "unseen_document = \"Lightning strikes in India kill 38 people\"\n",
    "\n",
    "# Data preprocessing step for the unseen document\n",
    "bow_vector = dictionary.doc2bow(preprocess(unseen_document))\n",
    "\n",
    "for index, score in sorted(lda_model[bow_vector], key=lambda tup: -1*tup[1]):\n",
    "\n",
    "    print(\"Score: {}\\t Topic: {}\".format(score, lda_model.print_topic(index, 5)))\n",
    "\n"
   ]
  },
  {
   "cell_type": "code",
   "execution_count": 41,
   "metadata": {
    "ExecuteTime": {
     "end_time": "2021-07-13T08:38:23.450909Z",
     "start_time": "2021-07-13T08:32:47.535070Z"
    },
    "scrolled": true
   },
   "outputs": [],
   "source": [
    "max_list_topics=[]\n",
    "for value in corpus_tfidf:\n",
    "    max_topics=lda_model_tfidf.get_document_topics(value)\n",
    "    max_list_topics.append(max(max_topics, key=itemgetter(1)))"
   ]
  },
  {
   "cell_type": "markdown",
   "metadata": {},
   "source": [
    "## Visualisation"
   ]
  },
  {
   "cell_type": "code",
   "execution_count": 42,
   "metadata": {
    "ExecuteTime": {
     "end_time": "2021-07-13T08:38:23.465901Z",
     "start_time": "2021-07-13T08:38:23.455369Z"
    }
   },
   "outputs": [],
   "source": [
    "import pyLDAvis"
   ]
  },
  {
   "cell_type": "code",
   "execution_count": 43,
   "metadata": {
    "ExecuteTime": {
     "end_time": "2021-07-13T08:38:23.497103Z",
     "start_time": "2021-07-13T08:38:23.469937Z"
    },
    "scrolled": true
   },
   "outputs": [],
   "source": [
    "pyLDAvis.enable_notebook()"
   ]
  },
  {
   "cell_type": "code",
   "execution_count": 44,
   "metadata": {
    "ExecuteTime": {
     "end_time": "2021-07-13T08:42:51.774962Z",
     "start_time": "2021-07-13T08:38:23.500579Z"
    }
   },
   "outputs": [
    {
     "data": {
      "text/html": [
       "\n",
       "<link rel=\"stylesheet\" type=\"text/css\" href=\"https://cdn.jsdelivr.net/gh/bmabey/pyLDAvis@3.3.1/pyLDAvis/js/ldavis.v1.0.0.css\">\n",
       "\n",
       "\n",
       "<div id=\"ldavis_el343223364684870725654766618\"></div>\n",
       "<script type=\"text/javascript\">\n",
       "\n",
       "var ldavis_el343223364684870725654766618_data = {\"mdsDat\": {\"x\": [0.19028977612343623, -0.21413482587445737, -0.09067206508257905, -0.02796051052733809, -0.1055972011620137, 0.18819382278298302, -0.007058385498224683, 0.06897063524927237, 0.14461848239829356, -0.14664972840937301], \"y\": [0.026106482890808955, 0.23253965222649553, -0.2751452309163915, -0.021709639457181906, -0.14372312328447856, 0.06897123055842669, 0.014680199351521053, 0.02026696766174245, 0.004331982870085431, 0.07368147809897184], \"topics\": [1, 2, 3, 4, 5, 6, 7, 8, 9, 10], \"cluster\": [1, 1, 1, 1, 1, 1, 1, 1, 1, 1], \"Freq\": [14.003099649073128, 10.764285026187617, 10.26715382167594, 10.215575098303239, 9.921378926314857, 9.79375219561827, 9.532697949941829, 8.670705784877507, 8.556761151347185, 8.274590396660424]}, \"tinfo\": {\"Term\": [\"rural\", \"country\", \"hour\", \"trump\", \"news\", \"market\", \"murder\", \"interview\", \"crash\", \"royal\", \"podcast\", \"price\", \"donald\", \"2015\", \"drum\", \"weather\", \"final\", \"miss\", \"charge\", \"search\", \"assault\", \"league\", \"grandstand\", \"court\", \"commission\", \"turnbull\", \"government\", \"share\", \"2016\", \"sentence\", \"trump\", \"2014\", \"wednesday\", \"jam\", \"online\", \"shorten\", \"age\", \"billion\", \"robert\", \"carbon\", \"federal\", \"commissioner\", \"bishop\", \"science\", \"heritage\", \"barnett\", \"commonwealth\", \"technology\", \"mitchell\", \"cctv\", \"camera\", \"voter\", \"approval\", \"donation\", \"loan\", \"process\", \"mill\", \"mike\", \"fair\", \"shed\", \"waste\", \"label\", \"senate\", \"protection\", \"sport\", \"energy\", \"liberal\", \"finance\", \"government\", \"labor\", \"fund\", \"story\", \"budget\", \"coal\", \"green\", \"job\", \"care\", \"election\", \"project\", \"mine\", \"education\", \"cut\", \"council\", \"say\", \"plan\", \"bill\", \"industry\", \"call\", \"review\", \"minister\", \"change\", \"queensland\", \"2015\", \"2016\", \"league\", \"2017\", \"rugby\", \"peter\", \"sexual\", \"july\", \"scott\", \"wrap\", \"round\", \"allegedly\", \"solar\", \"2013\", \"quarter\", \"survivor\", \"wallaby\", \"football\", \"champion\", \"kangaroo\", \"music\", \"bulldog\", \"scorecentre\", \"construction\", \"memorial\", \"moment\", \"asbestos\", \"eagle\", \"defeat\", \"medal\", \"zealand\", \"championship\", \"ash\", \"final\", \"match\", \"cricket\", \"tiger\", \"beat\", \"coach\", \"england\", \"world\", \"victory\", \"grand\", \"win\", \"star\", \"test\", \"australia\", \"open\", \"player\", \"first\", \"australian\", \"melbourne\", \"adelaide\", \"sydney\", \"drum\", \"stab\", \"david\", \"tuesday\", \"andrew\", \"tony\", \"father\", \"blog\", \"front\", \"drone\", \"rape\", \"nick\", \"adam\", \"manus\", \"joyce\", \"happen\", \"corruption\", \"sheep\", \"incident\", \"breach\", \"offender\", \"tribute\", \"matt\", \"vanuatu\", \"culture\", \"elderly\", \"sunday\", \"rudd\", \"richard\", \"gillard\", \"assault\", \"daughter\", \"bash\", \"brother\", \"fraud\", \"murder\", \"sentence\", \"custody\", \"christmas\", \"interview\", \"court\", \"charge\", \"jail\", \"allege\", \"accuse\", \"trial\", \"appeal\", \"john\", \"know\", \"speak\", \"death\", \"officer\", \"guilty\", \"woman\", \"police\", \"child\", \"face\", \"former\", \"case\", \"search\", \"weather\", \"domestic\", \"november\", \"drink\", \"footage\", \"origin\", \"remote\", \"firefighter\", \"blaze\", \"allegation\", \"daniel\", \"york\", \"offence\", \"crew\", \"cannabis\", \"alcohol\", \"africa\", \"bear\", \"punch\", \"gippsland\", \"morrison\", \"macquarie\", \"agriculture\", \"january\", \"apple\", \"charity\", \"geelong\", \"unemployment\", \"lanka\", \"barrier\", \"fisherman\", \"burn\", \"east\", \"body\", \"hundred\", \"violence\", \"mother\", \"miss\", \"south\", \"safe\", \"cyclone\", \"drive\", \"fire\", \"find\", \"damage\", \"anzac\", \"west\", \"coast\", \"police\", \"rescue\", \"wild\", \"north\", \"queensland\", \"bushfire\", \"victoria\", \"house\", \"flood\", \"sydney\", \"woman\", \"warn\", \"september\", \"suspect\", \"syria\", \"spring\", \"box\", \"alice\", \"rebel\", \"june\", \"myanmar\", \"inside\", \"turkey\", \"least\", \"muslim\", \"border\", \"fake\", \"appear\", \"terrorism\", \"backpacker\", \"capture\", \"secret\", \"document\", \"gunman\", \"politician\", \"dozen\", \"winter\", \"colin\", \"thai\", \"israel\", \"thailand\", \"outbreak\", \"philippine\", \"indonesian\", \"bali\", \"terror\", \"islamic\", \"nine\", \"afghanistan\", \"soldier\", \"blast\", \"illegal\", \"cold\", \"military\", \"suicide\", \"bomb\", \"korea\", \"raid\", \"kill\", \"president\", \"teenager\", \"foreign\", \"attack\", \"arrest\", \"indonesia\", \"russian\", \"police\", \"dead\", \"shoot\", \"australian\", \"north\", \"say\", \"china\", \"state\", \"australia\", \"news\", \"donald\", \"marriage\", \"mental\", \"university\", \"update\", \"obama\", \"economic\", \"clinton\", \"mackay\", \"small\", \"card\", \"migrant\", \"earthquake\", \"mean\", \"region\", \"exhibition\", \"suspicious\", \"recovery\", \"rockhampton\", \"analysis\", \"swim\", \"plea\", \"exchange\", \"fact\", \"expand\", \"presidential\", \"mango\", \"meat\", \"credit\", \"insurance\", \"history\", \"rural\", \"cook\", \"fruit\", \"confidence\", \"kid\", \"grain\", \"medical\", \"patient\", \"business\", \"harvest\", \"health\", \"crop\", \"cancer\", \"explain\", \"victorian\", \"rain\", \"national\", \"data\", \"drought\", \"farmer\", \"doctor\", \"help\", \"live\", \"podcast\", \"hour\", \"fatal\", \"plead\", \"wall\", \"malcolm\", \"truck\", \"december\", \"george\", \"accident\", \"steve\", \"love\", \"stream\", \"profit\", \"stock\", \"kimberley\", \"drown\", \"knight\", \"milk\", \"department\", \"jump\", \"real\", \"sector\", \"ntch\", \"bangladesh\", \"preview\", \"taxi\", \"uber\", \"store\", \"hard\", \"mount\", \"quiz\", \"gain\", \"country\", \"turnbull\", \"price\", \"market\", \"brexit\", \"crash\", \"plane\", \"share\", \"capital\", \"driver\", \"close\", \"street\", \"fall\", \"dollar\", \"high\", \"rise\", \"die\", \"bank\", \"australian\", \"road\", \"commission\", \"august\", \"royal\", \"paul\", \"facebook\", \"expansion\", \"phone\", \"female\", \"series\", \"miner\", \"clarke\", \"compensation\", \"harbour\", \"citizenship\", \"prince\", \"respond\", \"matthew\", \"bikie\", \"episode\", \"cent\", \"holiday\", \"pilbara\", \"broome\", \"network\", \"mobile\", \"boy\", \"plus\", \"lion\", \"independent\", \"tower\", \"teacher\", \"dangerous\", \"friday\", \"award\", \"killer\", \"celebrate\", \"nurse\", \"hill\", \"prison\", \"action\", \"break\", \"murray\", \"hospital\", \"climate\", \"monday\", \"asylum\", \"thursday\", \"seeker\", \"social\", \"april\", \"detention\", \"learn\", \"socceroos\", \"february\", \"disability\", \"palmer\", \"treatment\", \"surf\", \"stephen\", \"summer\", \"global\", \"robbery\", \"welfare\", \"sach\", \"nauru\", \"iron\", \"shop\", \"class\", \"answer\", \"shortage\", \"clive\", \"immigration\", \"violent\", \"possible\", \"interest\", \"unit\", \"disaster\", \"centre\", \"dairy\", \"change\", \"refugee\", \"full\", \"medium\", \"hobart\", \"say\", \"grandstand\", \"michael\", \"october\", \"politics\", \"bail\", \"syrian\", \"breakfast\", \"remember\", \"chris\", \"territory\", \"night\", \"paris\", \"sunshine\", \"event\", \"jet\", \"explosion\", \"scene\", \"outside\", \"martin\", \"anniversary\", \"fresh\", \"press\", \"greyhound\", \"roar\", \"dance\", \"manchester\", \"describe\", \"ukraine\", \"model\", \"cameron\", \"horse\", \"whale\", \"mark\", \"tree\", \"wind\", \"bendigo\", \"smith\", \"northern\", \"white\", \"army\", \"refuse\", \"coast\", \"game\", \"australia\", \"interview\"], \"Freq\": [5076.0, 4580.0, 4095.0, 4509.0, 3179.0, 3991.0, 3777.0, 5095.0, 3966.0, 2248.0, 2319.0, 2667.0, 2278.0, 2364.0, 2242.0, 2212.0, 2584.0, 3091.0, 5465.0, 2122.0, 2183.0, 2151.0, 1889.0, 4696.0, 1891.0, 2143.0, 5238.0, 2649.0, 1888.0, 2063.0, 4508.528840222485, 1573.6153534349025, 1236.7905096469417, 1071.5356365522746, 849.0375216515308, 819.005191584312, 826.5894970649766, 797.1619050415234, 727.7163109290348, 718.4003028145785, 1851.4339399664957, 646.5121606131725, 638.3900463789847, 631.0601760826235, 610.5790712585402, 605.3343970978724, 595.5405717278543, 574.3384188129377, 548.6177967967808, 545.0199022403232, 536.2974278206008, 533.1537546058499, 516.3570255885323, 580.3904739127728, 531.2608503278766, 515.5774329189834, 477.6227376744868, 471.1176855492297, 468.9010052646341, 453.54896946352704, 775.5363983954774, 480.3808625609669, 1178.3576776178406, 665.8984298745854, 1596.6761297718147, 1276.1608113207585, 1361.6106679097775, 611.8454224025803, 3493.282740190825, 1758.5627974651745, 2048.8573895431073, 1013.1097794159481, 1576.8662470758177, 1085.7653082245472, 1408.89702767698, 1211.227750230553, 930.9310733372861, 2024.6154818956845, 1055.7202155875705, 1725.9493860663745, 824.5836959853358, 1146.8421440221762, 1519.3509844515272, 2055.041596600727, 1595.6761972714728, 1092.3887851250008, 1103.5587048987802, 1321.4008562694373, 1008.6118639880972, 1014.4594953688435, 1076.7882502185475, 1018.0215879490904, 2363.6649258993143, 1887.3219296636862, 2150.5016512610778, 1435.9083292295188, 1315.2333069467613, 1259.7399904848921, 1087.6384070183797, 1010.2534693434222, 985.6102944455712, 982.5357868436622, 876.6694736282051, 823.4115663798422, 807.7287370758297, 749.7966108938235, 753.8136283026774, 738.7776194544115, 806.9413729161186, 627.5388178150776, 651.5658021147425, 622.7558828506889, 765.5083018513287, 561.1466907515616, 562.5553790051392, 557.294800787098, 613.1139231081579, 551.2166278236713, 546.7170618208478, 536.4443095368617, 504.6475513693543, 505.8656158166618, 1000.5899489190332, 623.3929496646424, 1325.0792375843318, 2392.285875483484, 829.0995366327079, 1051.8391193076054, 810.1540285906747, 1405.463505668899, 936.6273912834292, 942.1297001091825, 2120.5847792117793, 841.3773752906671, 854.0628135056603, 1352.337301104162, 1057.761348080026, 1429.0467848252435, 2065.1396035316257, 1378.5929640341078, 907.6895909380895, 1068.9274997289465, 1203.9272565140125, 972.1852906195367, 888.6012576384558, 888.9547843743214, 2241.831594864849, 1612.6408366340236, 1422.9693399677165, 1202.1144359051716, 1094.5353363768477, 1071.9989951026353, 972.0382796387348, 910.4133802904902, 851.3969091869952, 776.9823603343451, 740.1888056407804, 671.1405626965121, 643.3793130529335, 641.1236441937081, 638.2829083338769, 636.7681756361959, 631.3788565846805, 629.2492431690486, 630.0349543112046, 583.4674511463915, 572.7917465346336, 562.9283025067554, 561.0108126019436, 553.7480713665102, 536.0340988729082, 523.8618326977637, 520.7338405832182, 515.9036919457094, 504.6592961160483, 480.8918332910916, 2163.690712176186, 600.3919041762787, 905.2407547356657, 633.9356004654192, 637.3000893487606, 3391.064656888424, 1902.3205983791213, 595.8744187387401, 1722.227465669726, 3602.19256364408, 3030.0516592638305, 3312.0576530681224, 2018.7379417717182, 1350.620587942293, 1624.3319485825216, 1304.7050694283316, 1014.8006167112698, 1079.60606301157, 775.2532191329085, 1043.4489876596535, 1617.010395981303, 950.307235160409, 1098.7047956285137, 1742.5631411289394, 1871.648811782, 1335.9509332981322, 1223.091323905685, 1056.2271033901957, 946.4238352623962, 2121.3577915261208, 2211.4606117925537, 1309.689727920833, 1284.4670399244899, 941.7045059530554, 918.2329649726873, 845.6816720156766, 780.2624462948268, 739.2237881954355, 884.8904220818362, 813.683696071651, 697.5922842809296, 697.6090649787643, 646.5664044057293, 701.0112161365399, 641.3870690846929, 632.6410235045345, 645.4995309424262, 600.1157005982328, 599.0553770202137, 602.2654162534237, 546.5251346497747, 546.2595124424365, 538.9896269588976, 534.1761108506577, 526.9062794984021, 590.5517854581248, 504.6481994966156, 496.67725976256986, 509.784608709965, 622.3590568909515, 528.9894678063708, 1167.4275187061082, 1452.392240994227, 1613.4172191143384, 728.2874284975829, 1604.0732935097149, 1289.4433288017262, 2487.454156493112, 2321.347766543522, 801.9329312159823, 1042.0990905953552, 1138.794451596922, 2404.916724385959, 2168.7269949492916, 1020.328787587725, 741.8388704934807, 1405.4095349340876, 1469.062077960644, 2102.5175066229945, 983.3550640792963, 866.1104394283482, 1334.9778065074483, 1381.7727852769726, 871.1069734055529, 990.6482801459538, 1076.4482046998712, 965.1274370409863, 1039.7587786915324, 1042.2910401260708, 945.6437477041079, 1425.4438222801598, 1397.8531075220317, 1314.929870261914, 1030.957280266115, 811.5219509745192, 817.4949079964927, 730.6320026205383, 1214.8356564435471, 680.4355901861344, 677.4606775961155, 675.4625070318261, 646.1863747268513, 665.4217630331141, 626.6734043173618, 596.6603651296349, 585.1606327732045, 662.332347825514, 576.6519527237798, 576.973012175372, 652.9444474930654, 535.6148033932386, 533.5262609282964, 579.7407896353315, 526.2725358762448, 533.5024982179444, 515.8353436501776, 594.909284695112, 536.4714175580074, 509.1631741333335, 496.8652355130216, 982.388508346087, 831.2352746785917, 817.3954410761697, 751.1322821017326, 1178.0008267795474, 702.2140090790052, 564.8676461391738, 838.7623760444275, 814.3559696182033, 708.861837589449, 600.9654637756854, 863.6465601513573, 1016.1066377434764, 1105.526032232256, 1435.5362449166507, 939.5192119895122, 2049.5533247808035, 1151.7685820114539, 811.7396005781858, 851.7397599492288, 1630.4194897501964, 1313.3504911813945, 863.8976457810943, 748.6462925344428, 1464.7361998603424, 1015.0638122511264, 1036.5630718697291, 1237.700010170557, 987.7520464777941, 1082.6296093607446, 892.0615044955443, 847.0428920165785, 860.8490267310898, 3178.987397703702, 2277.097962702224, 1545.735229588767, 1323.1650557170842, 1021.4750415879387, 1011.2489176256112, 964.7037322776297, 778.6229946455383, 752.9476650350755, 715.1392897419315, 741.2691252831837, 673.0271200498038, 651.1165920777427, 648.7863020788571, 647.0976034047433, 632.5339525868194, 596.0556740059538, 592.8934897309146, 591.4531138335565, 579.4694250895385, 570.8165829036227, 567.1625275150845, 543.6553126313314, 682.0557418023839, 517.0204243704579, 524.2017530067579, 500.44014350405865, 500.2061959434285, 485.0024587872588, 448.4354378974585, 545.0079841414966, 1166.436070297532, 4870.098201945788, 565.5494414398701, 665.2807468171992, 631.2052051728056, 1039.462848128564, 834.4096275992817, 680.722738909228, 910.8339331968754, 1821.9765443197996, 772.1775525242639, 2077.9290838005304, 867.2251841450642, 1003.7827313672396, 735.4489272192458, 1181.8912439956835, 998.385226932701, 1480.9582222986332, 731.2045538399872, 916.7575601623963, 975.7318583699434, 789.7447931750607, 778.1063172024074, 765.0415810680861, 2318.8458805274227, 4092.8066858253765, 1646.383587757114, 1544.5804189911114, 1358.8505569404708, 1332.708876098514, 1371.1283971111468, 1242.3919110981471, 962.6229987905136, 904.2766882535992, 765.7806770886389, 757.4525327948737, 740.8657498028857, 943.4594574847213, 727.4022229722094, 712.0540135286901, 719.9575473310837, 694.7736394521171, 659.412263617763, 653.4951956949401, 609.6684828360851, 598.454088379761, 575.7847070604505, 572.1281368891579, 559.2125727768253, 512.4130308377082, 574.3642874771333, 492.64853889952883, 479.913406463996, 491.39511459154755, 1158.7417248120535, 1099.3179765186612, 662.5857294898078, 4325.045893851188, 1960.780733301937, 2324.2125611181036, 3296.029089277112, 677.7791172397687, 3155.723760578195, 1018.7586676971189, 2115.7913446856082, 919.2462538423339, 1677.204571178024, 1604.9377446223014, 1265.1101382829295, 1459.8648169919552, 1168.7306285318607, 1332.4552008799005, 1269.4453477537195, 1327.7609465158594, 1028.0769636506345, 1251.3654067644748, 1008.1997776836364, 1890.5777915532854, 1282.1267902391994, 2246.2230695727667, 915.9879088931757, 864.8055302732099, 813.9346599702488, 825.6688750336291, 825.1375649779002, 782.5755128259352, 797.7772105861208, 717.0013580699961, 708.601338737694, 691.7208041186074, 687.7109385778139, 670.2078008313334, 665.139817806673, 649.7640797065445, 648.6866193021085, 648.1865060232597, 622.5498309855726, 615.8556642777172, 594.4682751111941, 578.2849585910079, 546.7193338100249, 544.2010325764936, 539.5844149952335, 526.5832616071626, 605.2620842405844, 512.726103579842, 502.2524864063816, 1066.7789772156332, 555.0038010158863, 1394.9334165335572, 1107.8787780848563, 713.9821624895645, 987.6453891955282, 788.6605842891696, 1036.735240560382, 853.2513284231077, 743.9485734077186, 748.3300895054813, 665.2953881844574, 671.1222017937266, 1571.097416264456, 1451.8939725489042, 1450.6593262653557, 1361.905442868289, 1263.816672329946, 1162.9359598321548, 1136.8625699397792, 1026.1932842664414, 866.2224822525401, 856.6743998551036, 846.716612580027, 844.742992182293, 824.7031822000089, 772.5516869098046, 749.681213413678, 744.5308839480789, 738.978602983998, 898.0527788408236, 717.2667835873866, 702.8590100892994, 705.5403190361933, 670.5305928961292, 662.7853751893447, 959.234285708199, 664.4707603162553, 622.9599844466587, 641.5704068384595, 543.7132401641035, 514.3517827289309, 492.16215567400013, 604.5296580900491, 1069.763285094306, 617.3669869066459, 701.6082222678536, 1125.4855062061042, 855.149749986187, 1222.9083022819882, 912.5381768132933, 724.3129276107429, 812.8221034796308, 750.8064055610353, 729.0751800458282, 1888.7096444656775, 1613.1948262239066, 1424.4287594375514, 1194.534514145954, 1122.9618987664774, 945.0801261515961, 923.9332769918173, 948.9189490687196, 894.5857844676899, 885.7948834951736, 838.6674918730125, 817.4411933902504, 752.4870749233964, 687.3043861912493, 659.553290135387, 644.7759352915301, 638.7041128595667, 624.395824713985, 609.219557099432, 599.5289320057149, 595.9317016766917, 673.8817475351477, 581.5115180166214, 570.7313147351928, 591.1007268387821, 541.4486269016666, 524.9294815746371, 513.2037348880576, 509.78855400110194, 492.7960012015283, 868.7862391384616, 731.5044736465619, 1210.6964005967875, 941.8505024030869, 888.9668056382491, 727.0938085272601, 914.3762951301381, 955.685646153353, 779.034461120617, 654.9209824511403, 653.4451630459015, 907.2102468127613, 774.0054768221157, 690.1866164596281, 675.9848307453523], \"Total\": [5076.0, 4580.0, 4095.0, 4509.0, 3179.0, 3991.0, 3777.0, 5095.0, 3966.0, 2248.0, 2319.0, 2667.0, 2278.0, 2364.0, 2242.0, 2212.0, 2584.0, 3091.0, 5465.0, 2122.0, 2183.0, 2151.0, 1889.0, 4696.0, 1891.0, 2143.0, 5238.0, 2649.0, 1888.0, 2063.0, 4509.454049863092, 1574.5401431633832, 1237.7150051382482, 1072.460218582075, 849.977600861606, 819.929624816702, 827.5237509666204, 798.0897423150302, 728.6439141709966, 719.336650419152, 1853.8671252537988, 647.4428180303515, 639.3146044513965, 631.9879303188094, 611.5041239938848, 606.2588241034214, 596.4652180310038, 575.2745312880851, 549.5423036247452, 545.944496563545, 537.2219519643544, 534.102866475569, 517.2853557509653, 581.4385602065563, 532.2301019397689, 516.5193413565258, 478.54825123014683, 472.04212183318936, 469.8381403056605, 454.47353382974393, 777.6509898359002, 481.44470142639824, 1195.2245225811635, 681.2463106816679, 1746.7798345548092, 1406.7737960325046, 1538.4688173636202, 625.9859424515816, 5238.537899846657, 2373.3506263964805, 3156.006543991528, 1251.151549856518, 2330.4517416224085, 1396.87790654288, 2017.0491337764413, 1708.7006112258232, 1183.023803782122, 4095.999836528138, 1501.616009126517, 3489.4009243275077, 989.6483065610919, 1776.6303096564604, 3563.7029271786882, 7073.353800706632, 4083.150058047552, 1808.888069457773, 1896.4896835631541, 5066.112284902827, 1971.0342066673195, 2456.916891130943, 3706.530734845837, 4361.80300308631, 2364.5920695465556, 1888.2491533719756, 2151.5781097270587, 1436.8354684694505, 1316.1683584855798, 1260.6669236337284, 1088.5658434655088, 1011.1803454770666, 986.5398116209703, 983.464664249326, 877.6052874421551, 824.3386053551347, 808.656057680471, 750.7235257549195, 754.7473062855615, 739.7076596426308, 808.1021225204812, 628.4660131261037, 652.5568758069076, 623.7088062831457, 766.756970764919, 562.0753406120439, 563.4879898714894, 558.2228010212814, 614.1360062255206, 552.1443361168081, 547.6439649901793, 537.4148651070122, 505.5754360982353, 506.7971879572228, 1006.9175045845661, 624.9625468666394, 1345.9873474639578, 2584.66346774633, 878.583517138933, 1204.6192155608378, 889.9333551115405, 1897.7738289448446, 1129.5961848177037, 1154.6542725066206, 3964.1767320409695, 977.4889090351672, 1029.3831641169095, 2577.910655299218, 1581.4430710740357, 3149.4607961897254, 7958.116337880025, 3390.2542209293224, 1195.6986683527748, 3184.0469338907787, 6811.554977950973, 4260.662950558728, 3726.056712901441, 5106.686609944462, 2242.7561840427848, 1613.606292922129, 1423.893914861029, 1203.038979351894, 1095.459924754755, 1072.9235443578843, 972.9650658787385, 911.3379873414733, 852.3365138997093, 777.907004280665, 741.1184626638351, 672.0652123110592, 644.304421889205, 642.0483185061129, 639.2074582738811, 637.6927823381407, 632.3043056533443, 630.1761402236145, 630.9678498063998, 584.3930591107256, 573.7170610824522, 563.854661343483, 561.9353974928629, 554.6726484459753, 536.9589396718669, 524.7866765142478, 521.6586510232804, 516.8339490148023, 505.58386634732676, 481.8168906554739, 2183.322664929549, 601.6945901174657, 911.4600939008851, 637.6912386594339, 643.9138799058319, 3777.6145343526246, 2063.354558278409, 600.6350184615957, 2065.116029609815, 5095.287958051643, 4696.882401908456, 5465.125123287636, 3041.3506644322815, 1791.200731894541, 2728.7462861180456, 2360.76059151311, 1537.2316056421482, 1736.7071825171636, 931.2201596275039, 1721.0908586128899, 4279.559745537126, 1435.9519917080047, 1959.0689697510327, 5796.159840832241, 7833.693421995405, 4021.1593487208847, 3379.149523622604, 2430.534908182561, 2023.6622186422587, 2122.2859692380416, 2212.610574670074, 1310.6075282474121, 1285.3846914616481, 942.6435760639188, 919.1655028434828, 846.6103842362468, 781.1869495927006, 740.1432328126643, 886.0325509386653, 814.7519384158097, 698.5098983330207, 698.5312080365034, 647.4843987986692, 702.0115554876035, 642.3047182042337, 633.5596019379066, 646.4661440327611, 601.0337778559009, 599.9729983081172, 603.1907499287543, 547.4428179084786, 547.177113816732, 539.9072018785189, 535.0937090418747, 527.8238648402074, 591.600074770846, 505.5658338490884, 497.59499279221035, 510.7270065661709, 624.0874612556167, 529.9709168534283, 1208.2585507484157, 1547.0478030607758, 1752.8595422669487, 750.8062963889589, 1815.123699628481, 1444.7474869613407, 3091.6192088670905, 4044.8545545466804, 909.4377754322952, 1350.7382369890765, 1582.7870263286525, 5133.894803296179, 4953.478960646864, 1435.1635195431131, 827.6989975079181, 2779.0663424915515, 3549.7375964590506, 7833.693421995405, 1570.7008178185552, 1171.8261726636874, 3686.688694985544, 4361.80300308631, 1235.6594195895555, 2208.8871679894755, 3700.959966874772, 2556.2540141554855, 5106.686609944462, 5796.159840832241, 3528.2631718677535, 1426.356784803727, 1398.7748860283186, 1315.844055989532, 1031.8682775291693, 812.4330703656607, 818.4642495971807, 731.5807672392203, 1216.4607098176634, 681.3466793992473, 678.3717478931683, 676.403440112821, 647.0997505649232, 666.377034533265, 627.5898421643913, 597.5713745022264, 586.0726342038041, 663.3724630331889, 577.5629622564803, 577.8930621512167, 654.0454381362861, 536.5259372834824, 534.4372497834804, 580.736843464865, 527.1874828776504, 534.4347827958695, 516.7463732060903, 595.9616980056129, 537.4261766675194, 510.07456491597725, 497.7780240108194, 985.0883155118241, 832.7655728885087, 819.0127154832705, 752.6797144367596, 1188.8537948371732, 706.080181999303, 566.2630420734811, 848.3515037431863, 824.3003899218496, 716.7339343016907, 603.6690617353241, 893.9628804027102, 1078.625582505396, 1263.058265249131, 1749.5118201168198, 1119.9474894278833, 3834.6012267662286, 1647.787674855553, 963.6171528326553, 1074.6963258379892, 3882.867581689257, 2896.097219444677, 1220.8396501108707, 891.3388023037769, 7833.693421995405, 2399.277121185381, 3006.7534796351792, 6811.554977950973, 3686.688694985544, 7073.353800706632, 3219.0866404602725, 3029.0725761036574, 7958.116337880025, 3179.920951204712, 2278.0302924857433, 1546.6533846681555, 1324.087343440548, 1022.3949985326424, 1012.1765547957399, 965.6252392432024, 779.5478827889737, 753.8793746999319, 716.0953691719184, 742.2821537744594, 673.9556286322295, 652.0347612680858, 649.7049395914911, 648.0174566262534, 633.4537911449735, 596.9737788171706, 593.8137520480744, 592.3720994419664, 580.3877088477691, 571.734626980997, 568.094984877033, 544.5755390192777, 683.258405159018, 517.9384898164324, 525.1326252582015, 501.3584773541011, 501.1242534691529, 485.9205521025267, 449.3548548132946, 546.1256929103058, 1178.6812696659529, 5076.554247062709, 567.5966534833202, 673.1536958983164, 640.8841100568038, 1108.1705992431432, 878.9918392959562, 701.9410999895938, 1030.3804333316098, 2554.522113351941, 842.241925127327, 3151.963480275392, 993.7869660120056, 1273.5228820626428, 830.3012826062094, 1910.4208994877815, 1424.7548851724898, 3346.9041892733567, 835.4162696673321, 1421.699864619663, 2774.3284046316353, 1487.96624018198, 3039.323846412529, 3212.99467342304, 2319.7638947163487, 4095.026094877817, 1647.3190566442263, 1545.4991927639708, 1359.7694602210547, 1333.6269567714219, 1372.1222507307345, 1243.3099348329974, 963.5411049723043, 905.2374964697204, 766.6987335104834, 758.3745940403348, 741.7838567244012, 944.6312550299945, 728.3276602367487, 712.9721188236533, 720.8967865539416, 695.6925231815496, 660.330812350146, 654.4132741872368, 610.5890667898716, 599.3728888223494, 576.7044885939439, 573.0461363098868, 560.1332223877189, 513.3310158465022, 575.4063778320144, 493.56698996312224, 480.8323390642905, 492.3446110189608, 1161.0043883089218, 1107.7617115868986, 665.9847078455551, 4580.169875398161, 2143.109064724915, 2667.763995617248, 3991.16249559376, 691.1418632337918, 3966.270795918745, 1106.0674401126198, 2649.0149429130256, 1009.1003351193806, 2340.5218627905783, 2416.742912154384, 1812.0319203949236, 2395.0763123949637, 1677.0900677978502, 3039.8215272178873, 2876.9858651573095, 3467.837284995203, 1969.6441553036027, 6811.554977950973, 2442.469424937803, 1891.506105070296, 1283.0367870547313, 2248.158227261193, 916.8992215320136, 865.7178385534801, 814.8447246675466, 826.5999329329891, 826.0756586246843, 783.4985879072268, 798.7258821766185, 717.9113203148081, 709.5151767965573, 692.6361342564126, 688.6210449886438, 671.1178315673387, 666.0506327772772, 650.6741327421503, 649.5966181551728, 649.0965132761559, 623.459913424554, 616.7657466568448, 595.3784957422864, 579.1972185777048, 547.6331832614059, 545.1116198851232, 540.4945836968778, 527.4932145835664, 606.3327269338972, 513.6367623622701, 503.16285785287874, 1069.7478854529304, 556.221059034119, 1530.1168853886552, 1396.4542136585924, 805.5112148894992, 1369.797687055379, 995.7869028278442, 1972.0760588233113, 1459.9300676979499, 1671.6301821869065, 2503.4496718834257, 1256.4517151337077, 2947.4392220733816, 1572.0062440989857, 1452.8026725107648, 1451.5680724241397, 1362.81414755101, 1264.7253024993724, 1163.8452364900334, 1137.7713674097229, 1027.2370199141615, 867.1356393412815, 857.5833723373075, 847.6252418010913, 845.6520017829906, 825.6117873714791, 773.4611404389564, 750.591695997739, 745.4395212309475, 739.8872592826395, 899.1766979045263, 718.1878415516308, 703.7682754419138, 706.4707260774551, 671.4417918781298, 663.6946136028266, 960.5574313012679, 665.3924700663449, 623.8687552831062, 642.5135581090187, 544.6218352560278, 515.261095809854, 493.07135912469005, 605.9659273304976, 1087.301238066275, 622.1107009118539, 713.3485382897212, 2159.7846586464743, 1339.0413836336252, 3706.530734845837, 1686.7265191800018, 904.8859406624464, 1788.994554558231, 2017.281228657371, 7073.353800706632, 1889.6196521145578, 1614.1049508371968, 1425.3388286407821, 1195.4454434524184, 1123.877390404742, 945.9902332217346, 924.8434886171486, 949.8550095528267, 895.495832766867, 886.7056201604894, 839.5942021553486, 818.3539676493539, 753.3971773614588, 688.2183280304608, 660.4639523539208, 645.6864713779473, 639.614217176148, 625.3061183827373, 610.1338880671569, 600.4392557555207, 596.8451747306532, 674.9253276267584, 582.4216329430074, 571.6413612663539, 592.0607273001621, 542.3587415315808, 525.8395525988942, 514.1137949991904, 510.6989278793638, 493.7060158957183, 901.9657813820675, 791.9952503323148, 1496.2837789850118, 1104.957132054143, 1081.9237530356659, 841.1689854734643, 1250.2638171213869, 1542.385373384558, 1165.8119083914876, 763.430170813704, 821.6549864764264, 3549.7375964590506, 1860.5366879697974, 7958.116337880025, 5095.287958051643], \"Category\": [\"Default\", \"Default\", \"Default\", \"Default\", \"Default\", \"Default\", \"Default\", \"Default\", \"Default\", \"Default\", \"Default\", \"Default\", \"Default\", \"Default\", \"Default\", \"Default\", \"Default\", \"Default\", \"Default\", \"Default\", \"Default\", \"Default\", \"Default\", \"Default\", \"Default\", \"Default\", \"Default\", \"Default\", \"Default\", \"Default\", \"Topic1\", \"Topic1\", \"Topic1\", \"Topic1\", \"Topic1\", \"Topic1\", \"Topic1\", \"Topic1\", \"Topic1\", \"Topic1\", \"Topic1\", \"Topic1\", \"Topic1\", \"Topic1\", \"Topic1\", \"Topic1\", \"Topic1\", \"Topic1\", \"Topic1\", \"Topic1\", \"Topic1\", \"Topic1\", \"Topic1\", \"Topic1\", \"Topic1\", \"Topic1\", \"Topic1\", \"Topic1\", \"Topic1\", \"Topic1\", \"Topic1\", \"Topic1\", \"Topic1\", \"Topic1\", \"Topic1\", \"Topic1\", \"Topic1\", \"Topic1\", \"Topic1\", \"Topic1\", \"Topic1\", \"Topic1\", \"Topic1\", \"Topic1\", \"Topic1\", \"Topic1\", \"Topic1\", \"Topic1\", \"Topic1\", \"Topic1\", \"Topic1\", \"Topic1\", \"Topic1\", \"Topic1\", \"Topic1\", \"Topic1\", \"Topic1\", \"Topic1\", \"Topic1\", \"Topic1\", \"Topic1\", \"Topic1\", \"Topic2\", \"Topic2\", \"Topic2\", \"Topic2\", \"Topic2\", \"Topic2\", \"Topic2\", \"Topic2\", \"Topic2\", \"Topic2\", \"Topic2\", \"Topic2\", \"Topic2\", \"Topic2\", \"Topic2\", \"Topic2\", \"Topic2\", \"Topic2\", \"Topic2\", \"Topic2\", \"Topic2\", \"Topic2\", \"Topic2\", \"Topic2\", \"Topic2\", \"Topic2\", \"Topic2\", \"Topic2\", \"Topic2\", \"Topic2\", \"Topic2\", \"Topic2\", \"Topic2\", \"Topic2\", \"Topic2\", \"Topic2\", \"Topic2\", \"Topic2\", \"Topic2\", \"Topic2\", \"Topic2\", \"Topic2\", \"Topic2\", \"Topic2\", \"Topic2\", \"Topic2\", \"Topic2\", \"Topic2\", \"Topic2\", \"Topic2\", \"Topic2\", \"Topic2\", \"Topic2\", \"Topic2\", \"Topic3\", \"Topic3\", \"Topic3\", \"Topic3\", \"Topic3\", \"Topic3\", \"Topic3\", \"Topic3\", \"Topic3\", \"Topic3\", \"Topic3\", \"Topic3\", \"Topic3\", \"Topic3\", \"Topic3\", \"Topic3\", \"Topic3\", \"Topic3\", \"Topic3\", \"Topic3\", \"Topic3\", \"Topic3\", \"Topic3\", \"Topic3\", \"Topic3\", \"Topic3\", \"Topic3\", \"Topic3\", \"Topic3\", \"Topic3\", \"Topic3\", \"Topic3\", \"Topic3\", \"Topic3\", \"Topic3\", \"Topic3\", \"Topic3\", \"Topic3\", \"Topic3\", \"Topic3\", \"Topic3\", \"Topic3\", \"Topic3\", \"Topic3\", \"Topic3\", \"Topic3\", \"Topic3\", \"Topic3\", \"Topic3\", \"Topic3\", \"Topic3\", \"Topic3\", \"Topic3\", \"Topic3\", \"Topic3\", \"Topic3\", \"Topic3\", \"Topic3\", \"Topic3\", \"Topic4\", \"Topic4\", \"Topic4\", \"Topic4\", \"Topic4\", \"Topic4\", \"Topic4\", \"Topic4\", \"Topic4\", \"Topic4\", \"Topic4\", \"Topic4\", \"Topic4\", \"Topic4\", \"Topic4\", \"Topic4\", \"Topic4\", \"Topic4\", \"Topic4\", \"Topic4\", \"Topic4\", \"Topic4\", \"Topic4\", \"Topic4\", \"Topic4\", \"Topic4\", \"Topic4\", \"Topic4\", \"Topic4\", \"Topic4\", \"Topic4\", \"Topic4\", \"Topic4\", \"Topic4\", \"Topic4\", \"Topic4\", \"Topic4\", \"Topic4\", \"Topic4\", \"Topic4\", \"Topic4\", \"Topic4\", \"Topic4\", \"Topic4\", \"Topic4\", \"Topic4\", \"Topic4\", \"Topic4\", \"Topic4\", \"Topic4\", \"Topic4\", \"Topic4\", \"Topic4\", \"Topic4\", \"Topic4\", \"Topic4\", \"Topic4\", \"Topic4\", \"Topic4\", \"Topic4\", \"Topic4\", \"Topic5\", \"Topic5\", \"Topic5\", \"Topic5\", \"Topic5\", \"Topic5\", \"Topic5\", \"Topic5\", \"Topic5\", \"Topic5\", \"Topic5\", \"Topic5\", \"Topic5\", \"Topic5\", \"Topic5\", \"Topic5\", \"Topic5\", \"Topic5\", \"Topic5\", \"Topic5\", \"Topic5\", \"Topic5\", \"Topic5\", \"Topic5\", \"Topic5\", \"Topic5\", \"Topic5\", \"Topic5\", \"Topic5\", \"Topic5\", \"Topic5\", \"Topic5\", \"Topic5\", \"Topic5\", \"Topic5\", \"Topic5\", \"Topic5\", \"Topic5\", \"Topic5\", \"Topic5\", \"Topic5\", \"Topic5\", \"Topic5\", \"Topic5\", \"Topic5\", \"Topic5\", \"Topic5\", \"Topic5\", \"Topic5\", \"Topic5\", \"Topic5\", \"Topic5\", \"Topic5\", \"Topic5\", \"Topic5\", \"Topic5\", \"Topic5\", \"Topic5\", \"Topic5\", \"Topic5\", \"Topic5\", \"Topic5\", \"Topic5\", \"Topic6\", \"Topic6\", \"Topic6\", \"Topic6\", \"Topic6\", \"Topic6\", \"Topic6\", \"Topic6\", \"Topic6\", \"Topic6\", \"Topic6\", \"Topic6\", \"Topic6\", \"Topic6\", \"Topic6\", \"Topic6\", \"Topic6\", \"Topic6\", \"Topic6\", \"Topic6\", \"Topic6\", \"Topic6\", \"Topic6\", \"Topic6\", \"Topic6\", \"Topic6\", \"Topic6\", \"Topic6\", \"Topic6\", \"Topic6\", \"Topic6\", \"Topic6\", \"Topic6\", \"Topic6\", \"Topic6\", \"Topic6\", \"Topic6\", \"Topic6\", \"Topic6\", \"Topic6\", \"Topic6\", \"Topic6\", \"Topic6\", \"Topic6\", \"Topic6\", \"Topic6\", \"Topic6\", \"Topic6\", \"Topic6\", \"Topic6\", \"Topic6\", \"Topic6\", \"Topic6\", \"Topic6\", \"Topic6\", \"Topic7\", \"Topic7\", \"Topic7\", \"Topic7\", \"Topic7\", \"Topic7\", \"Topic7\", \"Topic7\", \"Topic7\", \"Topic7\", \"Topic7\", \"Topic7\", \"Topic7\", \"Topic7\", \"Topic7\", \"Topic7\", \"Topic7\", \"Topic7\", \"Topic7\", \"Topic7\", \"Topic7\", \"Topic7\", \"Topic7\", \"Topic7\", \"Topic7\", \"Topic7\", \"Topic7\", \"Topic7\", \"Topic7\", \"Topic7\", \"Topic7\", \"Topic7\", \"Topic7\", \"Topic7\", \"Topic7\", \"Topic7\", \"Topic7\", \"Topic7\", \"Topic7\", \"Topic7\", \"Topic7\", \"Topic7\", \"Topic7\", \"Topic7\", \"Topic7\", \"Topic7\", \"Topic7\", \"Topic7\", \"Topic7\", \"Topic7\", \"Topic7\", \"Topic7\", \"Topic7\", \"Topic8\", \"Topic8\", \"Topic8\", \"Topic8\", \"Topic8\", \"Topic8\", \"Topic8\", \"Topic8\", \"Topic8\", \"Topic8\", \"Topic8\", \"Topic8\", \"Topic8\", \"Topic8\", \"Topic8\", \"Topic8\", \"Topic8\", \"Topic8\", \"Topic8\", \"Topic8\", \"Topic8\", \"Topic8\", \"Topic8\", \"Topic8\", \"Topic8\", \"Topic8\", \"Topic8\", \"Topic8\", \"Topic8\", \"Topic8\", \"Topic8\", \"Topic8\", \"Topic8\", \"Topic8\", \"Topic8\", \"Topic8\", \"Topic8\", \"Topic8\", \"Topic8\", \"Topic8\", \"Topic8\", \"Topic8\", \"Topic8\", \"Topic9\", \"Topic9\", \"Topic9\", \"Topic9\", \"Topic9\", \"Topic9\", \"Topic9\", \"Topic9\", \"Topic9\", \"Topic9\", \"Topic9\", \"Topic9\", \"Topic9\", \"Topic9\", \"Topic9\", \"Topic9\", \"Topic9\", \"Topic9\", \"Topic9\", \"Topic9\", \"Topic9\", \"Topic9\", \"Topic9\", \"Topic9\", \"Topic9\", \"Topic9\", \"Topic9\", \"Topic9\", \"Topic9\", \"Topic9\", \"Topic9\", \"Topic9\", \"Topic9\", \"Topic9\", \"Topic9\", \"Topic9\", \"Topic9\", \"Topic9\", \"Topic9\", \"Topic9\", \"Topic9\", \"Topic9\", \"Topic10\", \"Topic10\", \"Topic10\", \"Topic10\", \"Topic10\", \"Topic10\", \"Topic10\", \"Topic10\", \"Topic10\", \"Topic10\", \"Topic10\", \"Topic10\", \"Topic10\", \"Topic10\", \"Topic10\", \"Topic10\", \"Topic10\", \"Topic10\", \"Topic10\", \"Topic10\", \"Topic10\", \"Topic10\", \"Topic10\", \"Topic10\", \"Topic10\", \"Topic10\", \"Topic10\", \"Topic10\", \"Topic10\", \"Topic10\", \"Topic10\", \"Topic10\", \"Topic10\", \"Topic10\", \"Topic10\", \"Topic10\", \"Topic10\", \"Topic10\", \"Topic10\", \"Topic10\", \"Topic10\", \"Topic10\", \"Topic10\", \"Topic10\", \"Topic10\"], \"logprob\": [30.0, 29.0, 28.0, 27.0, 26.0, 25.0, 24.0, 23.0, 22.0, 21.0, 20.0, 19.0, 18.0, 17.0, 16.0, 15.0, 14.0, 13.0, 12.0, 11.0, 10.0, 9.0, 8.0, 7.0, 6.0, 5.0, 4.0, 3.0, 2.0, 1.0, -4.2583, -5.3108, -5.5517, -5.6951, -5.9279, -5.9639, -5.9547, -5.9909, -6.0821, -6.0949, -5.1483, -6.2004, -6.213, -6.2246, -6.2576, -6.2662, -6.2825, -6.3188, -6.3646, -6.3712, -6.3873, -6.3932, -6.4252, -6.3083, -6.3967, -6.4267, -6.5032, -6.5169, -6.5216, -6.5549, -6.0184, -6.4974, -5.6001, -6.1708, -5.2963, -5.5204, -5.4556, -6.2555, -4.5134, -5.1997, -5.0469, -5.7512, -5.3088, -5.6819, -5.4214, -5.5726, -5.8358, -5.0588, -5.71, -5.2184, -5.9571, -5.6272, -5.3459, -5.0439, -5.2969, -5.6759, -5.6657, -5.4855, -5.7556, -5.7499, -5.6902, -5.7464, -4.641, -4.866, -4.7355, -5.1394, -5.2272, -5.2703, -5.4172, -5.491, -5.5157, -5.5188, -5.6328, -5.6955, -5.7147, -5.7891, -5.7838, -5.8039, -5.7157, -5.9671, -5.9296, -5.9748, -5.7684, -6.0789, -6.0764, -6.0858, -5.9904, -6.0968, -6.105, -6.124, -6.1851, -6.1827, -5.5006, -5.9738, -5.2197, -4.6289, -5.6886, -5.4506, -5.7117, -5.1608, -5.5666, -5.5608, -4.7495, -5.6739, -5.6589, -5.1993, -5.445, -5.1442, -4.776, -5.1801, -5.598, -5.4345, -5.3156, -5.5294, -5.6193, -5.6189, -4.6466, -4.976, -5.1011, -5.2698, -5.3636, -5.3844, -5.4823, -5.5477, -5.6148, -5.7062, -5.7547, -5.8527, -5.8949, -5.8984, -5.9029, -5.9052, -5.9137, -5.9171, -5.9159, -5.9927, -6.0111, -6.0285, -6.0319, -6.0449, -6.0775, -6.1004, -6.1064, -6.1157, -6.1378, -6.186, -4.6821, -5.9641, -5.5534, -5.9097, -5.9044, -4.2327, -4.8108, -5.9716, -4.9103, -4.1723, -4.3453, -4.2563, -4.7514, -5.1533, -4.9688, -5.1879, -5.4392, -5.3773, -5.7085, -5.4114, -4.9733, -5.5049, -5.3598, -4.8985, -4.8271, -5.1642, -5.2525, -5.3992, -5.509, -4.6968, -4.6552, -5.1791, -5.1985, -5.5089, -5.5342, -5.6165, -5.697, -5.751, -5.5711, -5.655, -5.809, -5.809, -5.8849, -5.8041, -5.893, -5.9067, -5.8866, -5.9595, -5.9613, -5.9559, -6.053, -6.0535, -6.0669, -6.0759, -6.0896, -5.9756, -6.1327, -6.1487, -6.1226, -5.9231, -6.0856, -5.2941, -5.0756, -4.9705, -5.7659, -4.9763, -5.1946, -4.5376, -4.6067, -5.6696, -5.4076, -5.3189, -4.5713, -4.6747, -5.4287, -5.7475, -5.1085, -5.0642, -4.7057, -5.4656, -5.5926, -5.1599, -5.1255, -5.5868, -5.4583, -5.3752, -5.4844, -5.4099, -5.4074, -5.5047, -5.0652, -5.0847, -5.1459, -5.3891, -5.6285, -5.6211, -5.7335, -5.225, -5.8047, -5.809, -5.812, -5.8563, -5.827, -5.887, -5.936, -5.9555, -5.8316, -5.9702, -5.9696, -5.8459, -6.044, -6.0479, -5.9648, -6.0616, -6.0479, -6.0816, -5.939, -6.0424, -6.0946, -6.1191, -5.4374, -5.6045, -5.6213, -5.7058, -5.2558, -5.7732, -5.9908, -5.5955, -5.625, -5.7637, -5.9289, -5.5662, -5.4037, -5.3193, -5.0581, -5.482, -4.702, -5.2783, -5.6282, -5.5801, -4.9308, -5.1471, -5.5659, -5.7091, -5.038, -5.4047, -5.3837, -5.2064, -5.432, -5.3402, -5.5339, -5.5856, -5.5695, -4.2501, -4.5838, -4.9712, -5.1267, -5.3854, -5.3955, -5.4426, -5.6569, -5.6904, -5.742, -5.7061, -5.8027, -5.8358, -5.8393, -5.8419, -5.8647, -5.9241, -5.9294, -5.9319, -5.9523, -5.9674, -5.9738, -6.0161, -5.7893, -6.0664, -6.0526, -6.099, -6.0994, -6.1303, -6.2087, -6.0136, -5.2527, -3.8236, -5.9766, -5.8142, -5.8668, -5.368, -5.5877, -5.7913, -5.5001, -4.8068, -5.6652, -4.6753, -5.5491, -5.4029, -5.714, -5.2396, -5.4083, -5.014, -5.7197, -5.4936, -5.4313, -5.6427, -5.6576, -5.6745, -4.5386, -3.9704, -4.8811, -4.9449, -5.073, -5.0925, -5.064, -5.1626, -5.4178, -5.4803, -5.6465, -5.6575, -5.6796, -5.4379, -5.6979, -5.7193, -5.7082, -5.7438, -5.7961, -5.8051, -5.8745, -5.8931, -5.9317, -5.9381, -5.9609, -6.0483, -5.9342, -6.0876, -6.1138, -6.0902, -5.2323, -5.285, -5.7913, -3.9152, -4.7063, -4.5363, -4.187, -5.7686, -4.2305, -5.3611, -4.6302, -5.4639, -4.8625, -4.9066, -5.1445, -5.0013, -5.2238, -5.0926, -5.1411, -5.0962, -5.352, -5.1554, -5.3715, -4.648, -5.0364, -4.4756, -5.3726, -5.4301, -5.4908, -5.4765, -5.4771, -5.5301, -5.5108, -5.6176, -5.6294, -5.6535, -5.6593, -5.6851, -5.6927, -5.716, -5.7177, -5.7185, -5.7588, -5.7696, -5.805, -5.8326, -5.8887, -5.8933, -5.9018, -5.9262, -5.787, -5.9529, -5.9735, -5.2202, -5.8737, -4.952, -5.1824, -5.6218, -5.2973, -5.5223, -5.2488, -5.4436, -5.5807, -5.5748, -5.6924, -5.6837, -4.8199, -4.8988, -4.8996, -4.9628, -5.0375, -5.1207, -5.1434, -5.2458, -5.4153, -5.4264, -5.4381, -5.4404, -5.4644, -5.5297, -5.5598, -5.5667, -5.5742, -5.3792, -5.604, -5.6243, -5.6205, -5.6714, -5.683, -5.3133, -5.6804, -5.7449, -5.7155, -5.881, -5.9365, -5.9806, -5.775, -5.2042, -5.754, -5.626, -5.1534, -5.4281, -5.0704, -5.3632, -5.5942, -5.4789, -5.5583, -5.5876, -4.6022, -4.7599, -4.8844, -5.0604, -5.1222, -5.2946, -5.3172, -5.2906, -5.3495, -5.3594, -5.4141, -5.4397, -5.5225, -5.6131, -5.6543, -5.677, -5.6864, -5.7091, -5.7337, -5.7497, -5.7558, -5.6328, -5.7803, -5.799, -5.7639, -5.8516, -5.8826, -5.9052, -5.9119, -5.9458, -5.3788, -5.5508, -5.0469, -5.298, -5.3558, -5.5568, -5.3276, -5.2835, -5.4878, -5.6614, -5.6636, -5.3355, -5.4943, -5.6089, -5.6297], \"loglift\": [30.0, 29.0, 28.0, 27.0, 26.0, 25.0, 24.0, 23.0, 22.0, 21.0, 20.0, 19.0, 18.0, 17.0, 16.0, 15.0, 14.0, 13.0, 12.0, 11.0, 10.0, 9.0, 8.0, 7.0, 6.0, 5.0, 4.0, 3.0, 2.0, 1.0, 1.9657, 1.9653, 1.9651, 1.965, 1.9648, 1.9648, 1.9648, 1.9647, 1.9646, 1.9646, 1.9646, 1.9645, 1.9644, 1.9644, 1.9644, 1.9644, 1.9643, 1.9643, 1.9642, 1.9642, 1.9642, 1.9641, 1.9641, 1.9641, 1.9641, 1.9641, 1.964, 1.9639, 1.9639, 1.9639, 1.9632, 1.9637, 1.9517, 1.9431, 1.876, 1.8684, 1.8438, 1.943, 1.5607, 1.6661, 1.5339, 1.7549, 1.5753, 1.7139, 1.6071, 1.6218, 1.7262, 1.2613, 1.6136, 1.2619, 1.7834, 1.5282, 1.1134, 0.7299, 1.0263, 1.4615, 1.4244, 0.622, 1.2959, 1.0813, 0.7298, 0.5109, 2.2285, 2.2284, 2.2284, 2.2283, 2.2282, 2.2282, 2.2281, 2.228, 2.228, 2.228, 2.2279, 2.2278, 2.2278, 2.2277, 2.2277, 2.2277, 2.2275, 2.2275, 2.2274, 2.2274, 2.2273, 2.2273, 2.2273, 2.2273, 2.2273, 2.2273, 2.2272, 2.2271, 2.2271, 2.2271, 2.2226, 2.2264, 2.2133, 2.1516, 2.171, 2.0933, 2.135, 1.9286, 2.0416, 2.0255, 1.6033, 2.079, 2.0422, 1.5838, 1.8268, 1.4387, 0.8799, 1.3291, 1.9534, 1.1374, 0.4959, 0.7513, 0.7955, 0.4807, 2.2758, 2.2756, 2.2756, 2.2755, 2.2754, 2.2754, 2.2753, 2.2752, 2.2751, 2.275, 2.275, 2.2748, 2.2748, 2.2748, 2.2748, 2.2748, 2.2748, 2.2747, 2.2747, 2.2746, 2.2746, 2.2746, 2.2746, 2.2746, 2.2745, 2.2745, 2.2744, 2.2744, 2.2744, 2.2743, 2.2672, 2.2741, 2.2694, 2.2703, 2.2659, 2.1683, 2.195, 2.2683, 2.0947, 1.9294, 1.8379, 1.7754, 1.8664, 1.9939, 1.7575, 1.6832, 1.8609, 1.8008, 2.0929, 1.7758, 1.3029, 1.8634, 1.6979, 1.0744, 0.8446, 1.1743, 1.26, 1.4428, 1.5162, 2.2808, 2.2807, 2.2806, 2.2805, 2.2803, 2.2802, 2.2802, 2.2801, 2.28, 2.28, 2.2799, 2.2799, 2.2799, 2.2798, 2.2798, 2.2798, 2.2798, 2.2798, 2.2797, 2.2797, 2.2797, 2.2796, 2.2796, 2.2796, 2.2795, 2.2795, 2.2795, 2.2794, 2.2794, 2.2794, 2.2785, 2.2794, 2.2469, 2.2181, 2.1984, 2.2508, 2.1576, 2.1675, 2.0638, 1.726, 2.1555, 2.0218, 1.952, 1.5229, 1.4553, 1.9401, 2.1717, 1.5995, 1.399, 0.966, 1.8129, 1.979, 1.2654, 1.1317, 1.9317, 1.4794, 1.0463, 1.3072, 0.6897, 0.5655, 0.9646, 2.3098, 2.3098, 2.3098, 2.3096, 2.3094, 2.3093, 2.3092, 2.3091, 2.3091, 2.3091, 2.3091, 2.3091, 2.309, 2.309, 2.309, 2.3089, 2.3089, 2.3089, 2.3089, 2.3088, 2.3088, 2.3088, 2.3088, 2.3087, 2.3087, 2.3087, 2.3087, 2.3087, 2.3087, 2.3086, 2.3077, 2.3086, 2.3085, 2.3084, 2.3013, 2.305, 2.308, 2.2991, 2.2983, 2.2994, 2.306, 2.276, 2.2508, 2.1773, 2.1127, 2.1348, 1.684, 1.9523, 2.139, 2.078, 1.4427, 1.5197, 1.9646, 2.136, 0.6337, 1.4503, 1.2455, 0.6051, 0.9934, 0.4335, 1.0272, 1.0362, 0.0864, 2.3231, 2.323, 2.3228, 2.3227, 2.3225, 2.3225, 2.3225, 2.3222, 2.3222, 2.3221, 2.3221, 2.322, 2.322, 2.322, 2.322, 2.322, 2.3219, 2.3219, 2.3219, 2.3218, 2.3218, 2.3218, 2.3217, 2.3217, 2.3217, 2.3217, 2.3216, 2.3216, 2.3215, 2.3214, 2.3214, 2.313, 2.2819, 2.3198, 2.3117, 2.3082, 2.2594, 2.2714, 2.2927, 2.2001, 1.9855, 2.2366, 1.9068, 2.1872, 2.0854, 2.2021, 1.8432, 1.9678, 1.5081, 2.1902, 1.8847, 1.2784, 1.69, 0.9609, 0.8884, 2.35, 2.3499, 2.3499, 2.3498, 2.3498, 2.3498, 2.3497, 2.3497, 2.3495, 2.3494, 2.3492, 2.3492, 2.3492, 2.3492, 2.3492, 2.3492, 2.3491, 2.3491, 2.3491, 2.349, 2.3489, 2.3489, 2.3488, 2.3488, 2.3488, 2.3487, 2.3486, 2.3486, 2.3485, 2.3485, 2.3485, 2.3428, 2.3453, 2.2931, 2.2615, 2.2126, 2.1591, 2.3309, 2.1218, 2.2682, 2.1257, 2.2572, 2.0172, 1.9411, 1.9912, 1.8554, 1.9893, 1.5257, 1.5323, 1.3904, 1.7003, 0.6561, 1.4656, 2.4447, 2.4445, 2.4444, 2.4442, 2.4442, 2.4441, 2.4441, 2.4441, 2.444, 2.444, 2.444, 2.4439, 2.4439, 2.4439, 2.4439, 2.4439, 2.4438, 2.4438, 2.4438, 2.4438, 2.4437, 2.4437, 2.4436, 2.4435, 2.4435, 2.4435, 2.4435, 2.4435, 2.4434, 2.4434, 2.4424, 2.443, 2.3527, 2.2137, 2.3246, 2.1181, 2.212, 1.8022, 1.9081, 1.6356, 1.2376, 1.8094, 0.9655, 2.4579, 2.4578, 2.4578, 2.4578, 2.4577, 2.4577, 2.4576, 2.4574, 2.4574, 2.4574, 2.4574, 2.4574, 2.4573, 2.4573, 2.4572, 2.4572, 2.4572, 2.4572, 2.4572, 2.4572, 2.4571, 2.4571, 2.4571, 2.4571, 2.4571, 2.457, 2.457, 2.4568, 2.4567, 2.4566, 2.4561, 2.4422, 2.4508, 2.4419, 1.8067, 2.01, 1.3496, 1.8441, 2.2359, 1.6696, 1.4701, 0.1861, 2.4915, 2.4914, 2.4913, 2.4912, 2.4912, 2.491, 2.491, 2.491, 2.491, 2.491, 2.4909, 2.4909, 2.4908, 2.4907, 2.4906, 2.4906, 2.4906, 2.4905, 2.4905, 2.4905, 2.4904, 2.4904, 2.4904, 2.4904, 2.4904, 2.4903, 2.4902, 2.4902, 2.4902, 2.4901, 2.4545, 2.4125, 2.2802, 2.3323, 2.2955, 2.3462, 2.1791, 2.0133, 2.0889, 2.3387, 2.2629, 1.1277, 1.6149, 0.047, 0.4721]}, \"token.table\": {\"Topic\": [2, 1, 2, 2, 2, 7, 1, 3, 4, 5, 6, 7, 8, 9, 10, 1, 3, 4, 5, 6, 8, 9, 10, 3, 1, 2, 3, 4, 5, 6, 7, 8, 9, 10, 5, 10, 4, 1, 4, 4, 5, 4, 3, 4, 5, 7, 8, 9, 10, 2, 6, 3, 10, 9, 2, 4, 8, 1, 2, 3, 4, 5, 6, 7, 8, 9, 10, 5, 4, 1, 9, 1, 3, 4, 8, 9, 10, 2, 3, 4, 5, 7, 8, 9, 10, 2, 1, 2, 3, 4, 5, 7, 9, 9, 1, 2, 3, 4, 5, 6, 7, 8, 9, 10, 8, 1, 2, 3, 4, 5, 6, 7, 8, 9, 10, 1, 2, 3, 4, 5, 6, 7, 8, 9, 10, 1, 3, 4, 6, 7, 8, 9, 10, 5, 10, 5, 10, 7, 1, 2, 3, 4, 5, 6, 7, 8, 10, 1, 4, 9, 3, 7, 8, 9, 4, 1, 2, 3, 4, 5, 6, 7, 8, 9, 10, 6, 10, 8, 1, 2, 3, 4, 5, 6, 7, 8, 9, 10, 1, 1, 5, 10, 4, 3, 1, 4, 5, 10, 5, 10, 5, 5, 8, 3, 1, 2, 3, 4, 5, 6, 7, 8, 9, 10, 10, 5, 7, 8, 3, 5, 1, 2, 6, 7, 8, 9, 10, 2, 2, 4, 5, 7, 9, 1, 2, 4, 6, 7, 8, 9, 10, 1, 4, 6, 7, 8, 9, 1, 2, 3, 4, 5, 6, 7, 8, 9, 10, 1, 10, 1, 6, 8, 9, 4, 5, 7, 5, 1, 6, 1, 6, 7, 1, 3, 4, 5, 6, 7, 8, 9, 10, 1, 1, 2, 8, 10, 8, 1, 2, 3, 4, 6, 7, 8, 9, 10, 2, 2, 10, 1, 2, 3, 4, 5, 6, 7, 8, 9, 10, 2, 3, 4, 5, 7, 8, 9, 10, 4, 1, 3, 4, 5, 6, 7, 8, 9, 10, 1, 2, 3, 4, 5, 6, 7, 8, 9, 10, 10, 3, 6, 8, 8, 9, 9, 6, 9, 1, 2, 4, 5, 6, 7, 8, 9, 2, 3, 7, 8, 10, 1, 3, 5, 7, 8, 1, 2, 3, 4, 5, 6, 7, 8, 9, 10, 1, 5, 5, 8, 1, 1, 8, 6, 8, 2, 6, 10, 3, 1, 2, 3, 4, 5, 6, 7, 8, 9, 10, 1, 2, 4, 6, 7, 1, 3, 4, 5, 6, 7, 8, 9, 10, 2, 3, 4, 5, 7, 8, 10, 6, 4, 2, 7, 8, 10, 1, 4, 6, 3, 3, 7, 1, 4, 5, 6, 7, 8, 9, 1, 2, 3, 4, 7, 8, 9, 10, 1, 7, 9, 1, 2, 3, 4, 5, 6, 7, 8, 9, 10, 10, 8, 4, 3, 6, 3, 3, 2, 3, 4, 5, 7, 8, 10, 1, 2, 3, 4, 5, 6, 7, 8, 9, 10, 7, 2, 7, 10, 9, 2, 3, 4, 5, 6, 7, 8, 9, 10, 9, 5, 9, 1, 3, 4, 5, 6, 8, 9, 10, 5, 1, 4, 7, 8, 9, 4, 6, 1, 5, 4, 4, 7, 8, 3, 4, 6, 7, 8, 3, 1, 2, 6, 7, 8, 9, 10, 7, 3, 2, 6, 2, 4, 5, 6, 10, 6, 1, 6, 8, 9, 3, 1, 2, 3, 4, 5, 6, 7, 8, 9, 10, 1, 5, 2, 3, 4, 6, 7, 8, 10, 8, 10, 6, 6, 6, 8, 6, 9, 10, 1, 2, 3, 4, 5, 6, 7, 8, 9, 10, 8, 6, 1, 5, 1, 2, 3, 4, 6, 7, 8, 9, 10, 1, 2, 3, 4, 5, 6, 7, 8, 9, 10, 7, 3, 9, 1, 6, 8, 2, 4, 5, 8, 10, 1, 7, 1, 2, 3, 4, 5, 6, 7, 8, 9, 10, 1, 2, 3, 4, 5, 6, 7, 8, 9, 10, 4, 1, 2, 3, 4, 5, 6, 7, 8, 9, 10, 4, 1, 2, 3, 4, 5, 6, 7, 8, 9, 10, 4, 2, 5, 6, 7, 9, 1, 2, 3, 4, 5, 6, 7, 8, 9, 10, 3, 6, 7, 10, 8, 9, 3, 1, 4, 5, 6, 9, 4, 6, 7, 9, 1, 2, 3, 4, 6, 7, 8, 9, 6, 7, 1, 3, 4, 5, 6, 7, 8, 10, 4, 7, 3, 4, 9, 1, 4, 5, 6, 7, 8, 9, 10, 1, 6, 2, 5, 10, 1, 2, 3, 4, 5, 6, 7, 8, 9, 10, 10, 3, 5, 6, 7, 5, 3, 8, 7, 1, 6, 1, 3, 4, 6, 7, 8, 9, 10, 1, 2, 3, 4, 5, 6, 7, 8, 9, 10, 1, 1, 2, 3, 4, 5, 6, 7, 8, 9, 10, 1, 2, 3, 4, 6, 7, 8, 10, 1, 5, 6, 2, 4, 5, 8, 9, 10, 8, 7, 10, 1, 2, 3, 4, 5, 6, 7, 8, 9, 10, 2, 6, 7, 1, 2, 3, 4, 5, 6, 7, 8, 9, 10, 4, 8, 1, 5, 9, 3, 8, 3, 4, 5, 6, 9, 10, 5, 10, 1, 2, 5, 6, 7, 8, 9, 10, 5, 6, 1, 2, 8, 9, 1, 3, 4, 7, 9, 10, 9, 5, 9, 5, 1, 2, 3, 4, 5, 6, 7, 8, 9, 10, 1, 4, 10, 1, 4, 6, 7, 8, 9, 1, 3, 4, 6, 9, 10, 3, 2, 7, 1, 5, 2, 3, 6, 3, 4, 5, 7, 8, 9, 10, 5, 8, 7, 7, 3, 6, 1, 2, 3, 4, 5, 6, 9, 10, 1, 1, 2, 3, 4, 5, 6, 7, 8, 9, 10, 4, 2, 9, 5, 1, 3, 7, 8, 10, 8, 1, 2, 3, 4, 5, 6, 8, 9, 10, 1, 7, 6, 4, 7, 10, 6, 3, 2, 3, 8, 10, 1, 2, 6, 7, 8, 9, 10, 6, 10, 2, 7, 10, 3, 8, 6, 6, 2, 1, 6, 1, 2, 3, 5, 6, 7, 8, 9, 10, 1, 2, 3, 4, 5, 6, 7, 8, 9, 10, 2, 6, 10, 6, 1, 3, 5, 10, 7, 1, 1, 2, 3, 4, 5, 6, 7, 8, 9, 10, 8, 1, 2, 3, 4, 5, 6, 7, 8, 9, 10, 2, 3, 4, 5, 7, 10, 1, 8, 10, 2, 9, 4, 4, 5, 8, 3, 7, 3, 4, 5, 7, 8, 10, 1, 2, 6, 7, 8, 9, 2, 5, 5, 1, 2, 3, 4, 5, 6, 7, 8, 9, 10, 9, 8, 6, 3, 10, 2, 5, 1, 2, 3, 4, 5, 6, 7, 8, 9, 10, 2, 3, 4, 5, 6, 7, 9, 10, 4, 7, 1, 6, 8, 9, 6, 10, 4, 3, 3, 4, 5, 6, 7, 8, 9, 10, 1, 1, 2, 3, 4, 5, 6, 7, 8, 9, 10, 4, 5, 10, 9, 10, 6, 8, 8, 2, 5, 10, 8, 8, 1, 2, 3, 4, 5, 6, 7, 8, 9, 10, 4, 5, 7, 2, 3, 4, 5, 7, 8, 9, 10, 6, 7, 8, 7, 1, 2, 3, 4, 5, 6, 7, 8, 9, 10, 5, 10, 5, 9, 2, 3, 5, 6, 8, 9, 10, 6, 10, 7, 1, 7, 9, 8, 1, 2, 4, 5, 6, 8, 9, 10, 1, 7, 1, 6, 8, 9, 1, 6, 9, 4, 2, 1, 2, 4, 6, 7, 9, 1, 7, 4, 5, 9, 2, 4, 6, 7, 9, 10, 3, 7, 5, 6, 3, 4, 5, 6, 8, 9, 1, 5, 10, 6, 10, 4, 3, 4, 7, 8, 9, 10, 8, 1, 2, 3, 4, 5, 6, 7, 8, 9, 10, 3, 1, 2, 3, 4, 5, 6, 7, 8, 9, 10, 1, 2, 3, 4, 5, 6, 7, 8, 9, 10, 10, 9, 1, 6, 2, 2, 8, 3, 2, 1, 3, 6, 7, 8, 9, 2, 5, 6, 8, 10, 9, 4, 6, 7, 8, 9, 1, 2, 3, 4, 5, 6, 7, 8, 9, 10, 10, 1, 2, 2, 4, 5, 7, 9, 1, 3, 6, 9, 3, 4, 5, 8, 5, 8, 2, 1, 2, 6, 7, 8, 10, 1, 3, 2, 3, 4, 5, 7, 8, 9, 10, 9, 9, 1, 6, 2, 10, 9, 9, 2, 3, 5, 10, 1, 2, 3, 4, 5, 6, 7, 8, 9, 10, 1, 3, 5, 6, 8, 9, 1, 2, 8, 9, 5, 3, 2, 3, 4, 5, 6, 7, 9, 10, 1, 2, 3, 4, 5, 6, 7, 8, 9, 10, 9, 7, 7, 7, 1, 3, 7, 3, 5, 7, 9, 4, 5, 9, 3, 10, 9, 2, 5, 6, 6, 1, 2, 3, 4, 5, 6, 7, 8, 9, 10, 5, 10, 7, 1, 8, 1, 5, 7, 10, 5, 10, 5, 1, 2, 3, 4, 5, 6, 7, 8, 9, 10, 5, 5, 9, 2, 3, 8, 10, 3, 8, 9, 1, 8, 9, 10, 1, 2, 3, 4, 5, 6, 7, 8, 9, 10, 3, 7, 1, 3, 5, 7, 9, 7, 10, 4, 6, 9, 6, 6, 3, 1, 3, 4, 5, 6, 7, 8, 9, 10, 1, 6, 8, 2, 4, 5, 7, 8, 10, 4, 5, 9, 10, 9, 1, 7, 2, 1, 2, 3, 4, 5, 6, 7, 8, 9, 10, 1, 6, 4, 1, 9, 1, 2, 3, 4, 5, 6, 7, 8, 9, 10, 1, 2, 9, 10, 1, 3, 4, 5, 6, 10, 4, 9, 10, 1, 2, 3, 4, 5, 6, 7, 8, 9, 10, 1, 10, 5, 1, 2, 3, 4, 5, 6, 7, 8, 9, 10, 1, 2, 3, 4, 5, 6, 7, 8, 9, 10, 2, 4, 2, 6, 10], \"Freq\": [0.9990362287445409, 0.9996569517990834, 0.999749610279853, 0.9993384594560814, 0.9994185357420635, 0.9986329593343775, 0.0949153834189756, 0.5951451068433065, 0.03371511689013805, 0.09015129081493435, 0.019056370416164984, 0.038479209494179295, 0.027118680976850173, 0.027118680976850173, 0.07439313835541331, 0.14775995470293724, 0.034098451085293205, 0.011964368801857264, 0.05802718868900773, 0.0406788539263147, 0.44507451942909027, 0.2602250214403955, 0.002392873760371453, 0.9979754571831431, 0.04911358417234069, 0.23859003458585176, 0.08024569217229435, 0.12909089610325614, 0.05340766803440326, 0.05850689262060257, 0.08910224013779841, 0.12909089610325614, 0.0764883687929896, 0.09661688689640792, 0.9977695134952544, 0.0017659637406995654, 0.997732063703112, 0.9993670864842145, 0.9983197077657745, 0.9991167335540415, 0.998210979162619, 0.9990770952723699, 0.7542426574217935, 0.029030805467012036, 0.1462705967760991, 0.0005582847205194623, 0.0011165694410389245, 0.0005582847205194623, 0.0681107359033744, 0.998376146226273, 0.9987150909769519, 0.9995801537378394, 0.9992684426420988, 0.9986074710814585, 0.09423715654464572, 0.8964611558477836, 0.008457180715545128, 0.06310044605118574, 0.0019515601871500743, 0.6602778633191084, 0.05139108492828529, 0.06244992598880238, 0.01756404168435067, 0.009107280873367013, 0.05529420530258544, 0.033176523181551267, 0.045536404366835065, 0.9981697930577133, 0.9984391292340357, 0.9975151901427805, 0.9993220365428258, 0.0013098774953237012, 0.08645191469136429, 0.026197549906474025, 0.01964816242985552, 0.006549387476618506, 0.8579697594370244, 0.00034529227585521066, 0.258969206891408, 0.12810343434228316, 0.4533687581978916, 0.00034529227585521066, 0.00034529227585521066, 0.08977599172235477, 0.06905845517104213, 0.9988241174351464, 0.014858980686321459, 0.9844074704687966, 0.9911498812154856, 0.002290087525913784, 0.0027481050310965405, 0.002290087525913784, 0.0009160350103655136, 0.9996086491326645, 0.041979283756333044, 0.03476811844849669, 0.17924896622336073, 0.0842161091308031, 0.41979283756333047, 0.017255288415179842, 0.036828451393592795, 0.06361277967984211, 0.04816028259162135, 0.0739144444053226, 0.9991919272578993, 0.10768880016502719, 0.2594835149834086, 0.024000654412508978, 0.11233814159572265, 0.10819143167104832, 0.08846314505971896, 0.05742564956291415, 0.07200196323752693, 0.08356248787601293, 0.08670393478864499, 0.07868981484184358, 0.17675846468205164, 0.05241094010921298, 0.05123646526082726, 0.18174998278769097, 0.08045152711442217, 0.18365850441631776, 0.06709187571403455, 0.0478598500717183, 0.08015790840232574, 0.06802944133134735, 0.0014321987648704703, 0.021482981473057057, 0.08808022403953393, 0.0007160993824352352, 0.7934381157382406, 0.007160993824352352, 0.01933468332575135, 0.9990252798512549, 0.9992193183951978, 0.9975425100914546, 0.0012209822644938244, 0.9979768698901875, 0.17465083683959934, 0.000507705921045347, 0.03553941447317429, 0.007615588815680204, 0.0670171815779858, 0.07310965263052996, 0.5219216868346167, 0.06904800526216719, 0.05026288618348935, 0.9979236193299404, 0.9966551783440466, 0.001602339515022583, 0.9929123678106003, 0.003291422213736797, 0.0021942814758245314, 0.0010971407379122657, 0.9982800004026583, 0.08325544255600123, 0.7403411189315299, 0.0042154654458734795, 0.026346659036709248, 0.030562124482582727, 0.017915728144962288, 0.004742398626607664, 0.028454391759645987, 0.018442661325696472, 0.045843186723874094, 0.13433685971719023, 0.8642734249061708, 0.9990815559402585, 0.6036857771566455, 0.039803457834504105, 0.053071277112672136, 0.060810838358270156, 0.002211303213028006, 0.09287473494717624, 0.019901728917252053, 0.06799757380061118, 0.05749388353872815, 0.0016584774097710042, 0.9986345616824128, 0.9979437284206505, 0.9875040821916556, 0.010918349803101845, 0.9988346354345883, 0.9985318428946691, 0.001711489099759894, 0.9202106393042364, 0.0764465131226086, 0.0011409927331732627, 0.875652398966605, 0.12430147073938244, 0.9990601470502501, 0.9994669464089322, 0.9990849423624285, 0.9976162291988111, 0.05432503857674232, 0.10745173071429179, 0.1050550378359061, 0.09426991988317049, 0.05672173145512801, 0.06790629822092789, 0.0918732270047848, 0.2987877121720828, 0.05831952670738513, 0.06431125890334936, 0.9990879660963934, 0.017362571475345246, 0.9809852883570065, 0.9979329690487038, 0.9942115581402785, 0.004704471095301002, 0.6766928367725511, 0.00042910135496040025, 0.2021067381863485, 0.00042910135496040025, 0.046772047690683625, 0.07208902763334724, 0.0012873040648812006, 0.998086839015437, 0.01738038600015886, 0.9658528791516853, 0.001655274857157987, 0.004138187142894967, 0.009104011714368927, 0.055031345144107194, 0.012948551798613457, 0.7048867885370201, 0.12624838003648123, 0.0016185689748266822, 0.03641780193360035, 0.04693850026997379, 0.016185689748266823, 0.15580213532689308, 0.00039146265157510824, 0.7132449511698472, 0.01604996871457944, 0.05637062182681559, 0.058327935084691133, 0.26075221505386315, 0.04579448440007286, 0.08606204826910245, 0.08823333847772659, 0.07638993733977671, 0.11132797069672885, 0.04974228477938949, 0.1097488505450022, 0.11843401137949879, 0.053690085158706116, 0.9977254243615952, 0.9985699669986047, 0.0015704468511478404, 0.788364319276216, 0.11464262013379235, 0.09501203449444436, 0.9979686927913569, 0.08819737433688489, 0.9107122136583957, 0.9984546238574101, 0.998141829116627, 0.998582060017558, 0.7869664135443404, 0.14369955993827913, 0.06931390538199346, 0.07708796387208608, 0.467469319378163, 0.07264058134100419, 0.17493037955588764, 0.03063752410300857, 0.012353840364116358, 0.05979258736232318, 0.05287443675841801, 0.05139197591472405, 0.9982699769491401, 0.0007300348142284252, 0.1328663361895734, 0.7212743964576841, 0.1445468932172282, 0.9992623207769241, 0.1764064757450267, 0.0032410638588325114, 0.0009260182453807175, 0.09584288839690426, 0.13519866382558476, 0.0009260182453807175, 0.05417206735477197, 0.5208852630266536, 0.01157522806725897, 0.9991466248727837, 0.9968597368330647, 0.001600095885767359, 0.2905682097479747, 0.038310757459807256, 0.03183569986096659, 0.04262746252570103, 0.0005395881332367218, 0.12248650624473587, 0.036691993060097086, 0.06987666325415548, 0.3299581434742554, 0.03696178712671545, 0.013540403619429684, 0.6060245511831232, 0.10283387613674976, 0.09771048017264124, 0.06660414753341087, 0.0397063187218411, 0.04482971468594963, 0.02872761308446568, 0.9989856749577348, 0.16612124565829212, 0.33224249131658423, 0.13105673123041908, 0.06639876136341916, 0.047250054902807634, 0.070626397854723, 0.1096698642744114, 0.05868954187927685, 0.01765659946368075, 0.13916991061040343, 0.048771598138020844, 0.044733185553343956, 0.0680317196957106, 0.27709723273321396, 0.10251355022641324, 0.09816449051983814, 0.03976283160297241, 0.07331272076798037, 0.10841584554247946, 0.9994463036580137, 0.833851452078146, 0.1656081281130813, 0.9990981324297836, 0.998730594867332, 0.9979072951243255, 0.9993598981538636, 0.9988335339452922, 0.9988582256241425, 0.00620670073120371, 0.09351429101680257, 0.000413780048746914, 0.000413780048746914, 0.12040999418535198, 0.664116978238797, 0.000413780048746914, 0.1150308535516421, 0.8294999687443303, 0.0017705442235738107, 0.015049625900377391, 0.023017074906459538, 0.131020272544462, 0.7774480467571652, 0.03865763768405794, 0.003579410896672031, 0.08304233280279112, 0.09664409421014485, 0.052398239291135074, 0.06423009977623009, 0.0022536877114466697, 0.4138334060143947, 0.020001478439089195, 0.03239676085204588, 0.048735996760034234, 0.06845576423519259, 0.04225664458962506, 0.2555118442852662, 0.003313073547699701, 0.9955786010837601, 0.9985556295219654, 0.9997324327587739, 0.9993160507491632, 0.99922004164377, 0.9992739030630983, 0.9845773831778607, 0.014043100552457602, 0.997809474964039, 0.9971869927817198, 0.0017618144748793637, 0.9979372184537055, 0.4262420384188874, 0.01122428014269618, 0.017117027217611675, 0.04882561862072838, 0.030024949381712282, 0.18043030329384108, 0.04798379761002617, 0.10887551738415294, 0.09737063023788936, 0.03198919840668411, 0.0216149188115853, 0.02510823902355868, 0.00021833251324833634, 0.008296635503436782, 0.9442881197990547, 0.07004646313186794, 0.6451087637980543, 0.013626059697384646, 0.10411161237532955, 0.0019161646449447156, 0.022781068556564952, 0.07174972059404103, 0.048755744854704436, 0.021929439825478413, 0.001764882016427858, 0.03731464834733186, 0.059753862556200334, 0.054963468511610436, 0.7957096634066171, 0.0047903940445899, 0.04563480642477747, 0.9969848888939733, 0.9985590614859596, 0.8733050132445526, 0.013282205524631979, 0.0024904135358684958, 0.11040833342350333, 0.004025007508451944, 0.12276272900778432, 0.872420377456959, 0.9982141284909924, 0.9922831364820064, 0.00665961836565105, 0.6456042057628695, 0.0016885899017337475, 0.0011257266011558318, 0.11932701972251816, 0.06923218597108365, 0.08217804188437572, 0.08048945198264197, 0.011105038407320444, 0.062188215080994494, 0.001480671787642726, 0.7714300013618602, 0.00962436661967772, 0.01258571019496317, 0.0540445202489595, 0.07625459706360038, 0.14562656717214195, 0.21507923766962503, 0.6385164868316993, 0.013238909532795736, 0.0006967847122524071, 0.0006967847122524071, 0.7107204064974553, 0.032748881475863134, 0.14214408129949105, 0.011845340108290922, 0.0027871388490096284, 0.031355312051358324, 0.054349207555687756, 0.9982084146925282, 0.9978047234740818, 0.9992700198891418, 0.1232918291632209, 0.8750128846438299, 0.9971836374378322, 0.9993722040303007, 0.0020839610213636813, 0.08961032391863831, 0.21339760858764098, 0.42304408733682736, 0.17630310240736746, 0.035427337363182584, 0.060018077415274027, 0.011917113682823234, 0.016590491597655875, 0.37784260441421896, 0.11146006326875847, 0.1395003307577543, 0.04533176577387661, 0.11660077897507437, 0.10024395627316014, 0.0350503343612448, 0.04579910356535988, 0.9989464132825631, 0.9988618195087242, 0.9978403949874153, 0.998403405383363, 0.9987957794645438, 0.049021907900801395, 0.17676723260700739, 0.10265764242756056, 0.09141144002678848, 0.005190554954202501, 0.3829476099544956, 0.08968125504205432, 0.03316187887407153, 0.06920739938936668, 0.9992289951639494, 0.015420232059874821, 0.9840911732756477, 0.077286699721047, 0.10148079702502694, 0.002688233033775548, 0.054436718933954846, 0.5309260241706707, 0.11559402045234857, 0.11290578741857302, 0.005376466067551096, 0.9990197355860457, 0.1961731252943395, 0.10553994886655955, 0.6970406792373339, 0.0005962708975511839, 0.0005962708975511839, 0.9995364529545893, 0.9995477266087541, 0.9975258603315795, 0.9977475131405463, 0.9993172646796087, 0.7196167147275417, 0.2097565840996873, 0.07012946034658221, 0.10510476484363915, 0.10211397885215348, 0.002136275708204048, 0.7165068725316377, 0.07348788436221924, 0.9988340453605972, 0.193430418644352, 0.04149961709097007, 0.6450025232613483, 0.028838716961521575, 0.0007033833405249164, 0.08088908416036539, 0.009143983426823913, 0.9987560125517712, 0.9996628327019383, 0.9973672758256686, 0.9989149850208399, 0.05688253448012099, 0.9385618189219963, 0.0006463924372741021, 0.0012927848745482042, 0.0019391773118223063, 0.9992971787864865, 0.833629476785319, 0.06264851825538155, 0.0414288588463007, 0.06264851825538155, 0.9985009594384654, 0.49438478535595737, 0.05249023646989177, 0.027343751091292456, 0.036376954576808715, 0.13549805228274386, 0.09326172247208678, 0.017333985066801467, 0.040771486002195004, 0.038818360924245544, 0.06396484630284485, 0.9070399261051612, 0.09241002381949134, 0.8158286185136848, 0.0008660601045792832, 0.049365425961019144, 0.0008660601045792832, 0.049365425961019144, 0.016455141987006382, 0.06582056794802553, 0.9983107084174255, 0.998229736145, 0.9981582295226574, 0.9983688080587058, 0.9978431634148713, 0.9989633305070591, 0.8852208413949804, 0.1132119171307866, 0.9989368348132146, 0.09351465443921328, 0.10091296570813837, 0.36192538727581597, 0.06096208485594284, 0.09351465443921328, 0.049124786825662674, 0.06273767956048486, 0.07043192328016697, 0.072207517984709, 0.034624096738569476, 0.9991708169550029, 0.9981880284341004, 0.9982161084131757, 0.999043838900914, 0.02755653323380043, 0.06137591492982823, 0.001252569692445474, 0.0906025410868893, 0.03757709077336423, 0.6095839169901307, 0.05803572908330697, 0.002505139384890948, 0.1114787026276472, 0.18599095879873404, 0.0032440283511407098, 0.02054551289055783, 0.058752957915103966, 0.0324402835114071, 0.35179685230148144, 0.1045298024256451, 0.05226490121282255, 0.17085215982674407, 0.01982461770141545, 0.999199270694462, 0.9990081186749835, 0.9992623605689671, 0.9984534354082112, 0.0010788259701871542, 0.9986978691195488, 0.9254589736147272, 0.0003868975642202037, 0.0003868975642202037, 0.00735105372018387, 0.06654638104587503, 0.9776577371740846, 0.02076723951513578, 0.029877991039387194, 0.020793466736870818, 0.14171857911925548, 0.43787407138128936, 0.09367153947483553, 0.06964801965262556, 0.06964801965262556, 0.05571841572210045, 0.03876063702406988, 0.042394446745076426, 0.06700565811732982, 0.028048880142138063, 0.04304723966258689, 0.4684552551516809, 0.08239358541753057, 0.07830312373013543, 0.07187525536422879, 0.03973591353469559, 0.07207003925410475, 0.04889075635886565, 0.9984553897651406, 0.12342782884791513, 0.33573625709521954, 0.052134909895048126, 0.03486129517078519, 0.0832274163987214, 0.08605400789905533, 0.04930831839471419, 0.11431992290239468, 0.026067454947524063, 0.09484784812231646, 0.9981679808786623, 0.07706589365105927, 0.012127120320725063, 0.0019559871485040426, 0.37750551966128015, 0.059853206744223696, 0.22337373235916164, 0.06611236561943663, 0.0508556658611051, 0.08488984224507544, 0.0461612967046954, 0.9987319989274214, 0.999258491125422, 0.7927820906390995, 0.0958410273894686, 0.004652477057741194, 0.10607647691649923, 0.08557786983423026, 0.08105211710261231, 0.4344722622353228, 0.007405777197193003, 0.14646981567781717, 0.021805899525068288, 0.016868714726939616, 0.09298364703142326, 0.05019471211430813, 0.06294910617614052, 0.9892627257750012, 0.0015530027092229217, 0.007765013546114609, 0.9985839296915912, 0.9116950563196125, 0.08757500899414199, 0.9984319410492056, 0.004456634522367929, 0.004456634522367929, 0.00148554484078931, 0.9878873191248911, 0.00148554484078931, 0.07846292754645134, 0.03646868463426612, 0.08398848582437045, 0.8001008386426869, 0.6492381975255817, 0.0003168561237313722, 0.0006337122474627444, 0.04182500833254113, 0.1505066587724018, 0.0006337122474627444, 0.053865541034333275, 0.10297824021269597, 0.004504607935676075, 0.9955183537844126, 0.1838179285640358, 0.05374793232866544, 0.0682598740574051, 0.08438425375600474, 0.04622322180265228, 0.032786238720485916, 0.1144830958600574, 0.4160089962238705, 0.9988807909648869, 0.9994384204581289, 0.9983045620207242, 0.9980259148057312, 0.9986913607667229, 0.6667891054300185, 0.0009544647944890045, 0.08208397232605438, 0.09315576394212684, 0.00038178591779560177, 0.0660489637786391, 0.07883879202479177, 0.011644470492765855, 0.05005734755767763, 0.9488142696159805, 0.829623049773339, 0.16903326775241334, 0.9996720757461088, 0.6985452046782743, 0.0242929134345177, 0.007932379896985371, 0.0004957737435615857, 0.03916612574136527, 0.06643368163725248, 0.0009915474871231714, 0.0381745782542421, 0.056022433022459184, 0.06792100286793724, 0.9992760692268987, 0.5609807602330947, 0.040325277578175146, 0.0015313396548674106, 0.3966169706106593, 0.9991818500981031, 0.9989136111348156, 0.9990815751229966, 0.9972689636712424, 0.0819242048412264, 0.916601248368504, 0.18781943499810982, 0.0015863127955921437, 0.023160166815645297, 0.659271597848095, 0.0006345251182368575, 0.06059714879161989, 0.06599061229663318, 0.0006345251182368575, 0.1437819798360131, 0.024676541161787146, 0.06152684263005595, 0.19116093886664443, 0.05330132890946023, 0.2559779869849387, 0.044088753542393035, 0.0839002399500763, 0.1013383290377392, 0.04014050695650709, 0.9991756000097067, 0.12500733894985752, 0.01315866725787974, 0.09079480407937021, 0.061845736112034776, 0.013816600620773728, 0.06612230297084569, 0.43818361968739533, 0.08816307062779426, 0.051318802305730986, 0.051318802305730986, 0.011662836175661261, 0.0020283193348976107, 0.06237081954810152, 0.0578071010445819, 0.021804432850149314, 0.30120542123229516, 0.5258417875722056, 0.01724071434662969, 0.004242028891675726, 0.005090434670010872, 0.9892411375387794, 0.14623642742977452, 0.2027481315890772, 0.028255852079651346, 0.16160364522747964, 0.37228324406698526, 0.08922900656732004, 0.9987584481450282, 0.0354780643130019, 0.9634511839999578, 0.15912117762688965, 0.009499771798620278, 0.1031403795278773, 0.07328395387507071, 0.044106083350737, 0.15538912442028882, 0.088212166701474, 0.2276552456026502, 0.10415821222058662, 0.03562414424482604, 0.0002441986880744986, 0.0002441986880744986, 0.9995052302889227, 0.21643033352678878, 0.0010808006668004432, 0.0672798415083276, 0.29073537936931926, 0.047285029172519394, 0.056471834840323164, 0.14996109251856152, 0.04323202667201773, 0.09186805667803769, 0.03539622183771452, 0.9696242606133606, 0.029301832051502656, 0.009766525156674848, 0.9892094765832096, 0.9975525111053224, 0.9984660869698879, 0.9987602866287421, 0.05897580406522782, 0.049146503387689854, 0.7077096487827339, 0.0008191083897948309, 0.09829300677537971, 0.08436816414886758, 0.9978798680613264, 0.0012008181324444363, 0.5821281336610215, 0.0005272899761422296, 0.009491219570560133, 0.12391314439342395, 0.096494065634028, 0.0411286181390939, 0.10229425537159254, 0.04429235799594728, 0.9979778817478344, 0.997938765883167, 0.01287591654443297, 0.000919708324602355, 0.00183941664920471, 0.9840879073245198, 0.10127003699263157, 0.7069276613322847, 0.013541923551340268, 0.042980887793384326, 0.0025513769009771516, 0.1326715988508119, 0.9989534138313163, 0.9908703703648776, 0.008411463245881814, 0.9973462835837978, 0.00032880128282960315, 0.00032880128282960315, 0.6638497900329687, 0.050964198838588486, 0.11672445540450911, 0.0016440064141480157, 0.05392341038405491, 0.06740426298006864, 0.03583933982842674, 0.008877634636399285, 0.9995708758477928, 0.9979560420476011, 0.9992975356909831, 0.7087256784740233, 0.00585240031770457, 0.10651368578222317, 0.08134836441609351, 0.04272252231924336, 0.054427322954652496, 0.14855699486775759, 0.6218664901441016, 0.003454813834133897, 0.12264589111175335, 0.0005758023056889828, 0.10306861271832793, 0.9981110072195626, 0.9988327052811636, 0.9990352483824047, 0.0008220569656950869, 0.9987992133195306, 0.9988635621687472, 0.06136239316080263, 0.9375812719716754, 0.12987008832205746, 0.06571739409067968, 0.5346057852614815, 0.17863656727029992, 0.02764303084766685, 0.0002607833098836495, 0.06363112761161048, 0.11297173561076175, 0.8863936178690537, 0.9986365261726402, 0.9990045556643579, 0.8322414329067003, 0.16644828658134006, 0.0005715880215849168, 0.012003348453283255, 0.0062874682374340855, 0.07202009071969953, 0.8208003989959406, 0.028579401079245843, 0.0005715880215849168, 0.05944515424483136, 0.9969992370419324, 0.7411462851027347, 0.00042134524451548305, 0.044662595918641204, 0.009269595379340627, 0.01601111929158836, 0.06025236996571408, 0.0008426904890309661, 0.04761201263024959, 0.05603891752055925, 0.024016678937382536, 0.9985765260954989, 0.9997313089752842, 0.9986903555917225, 0.9983004929858758, 0.885295811412009, 0.04484978780281103, 0.0012999938493568413, 0.007799963096141048, 0.06044971399509312, 0.9978019874654688, 0.08310004439426762, 0.1266731013800259, 0.24992260542545655, 0.038593279044528785, 0.07314048851180859, 0.23809563281503643, 0.039526987408509316, 0.044195529228411995, 0.10675398961510785, 0.9976887779641067, 0.9981874471387399, 0.9984703585317344, 0.9978487517350255, 0.9995298859488116, 0.997494754988656, 0.9977565375026852, 0.9983672280171186, 0.10626326518613732, 0.03876270050815072, 0.04544592473369395, 0.8093384537132848, 0.018290410395615797, 0.0002505535670632301, 0.14532106889667346, 0.8258245570404065, 0.0002505535670632301, 0.0002505535670632301, 0.010022142682529205, 0.9995775493884845, 0.9981415750061859, 0.943564252946152, 0.0034145871638582097, 0.05121880745787315, 0.9983354003021766, 0.9989639472229989, 0.9984298931828927, 0.9981055501798729, 0.9984270079310502, 0.028492419093705295, 0.9701668701406653, 0.10396901406216426, 0.08943571102121657, 0.13862535208288568, 0.0475127214800213, 0.017887142204243315, 0.02068200817365633, 0.049748614255551715, 0.4544452066265567, 0.0782562471435645, 0.018776420695166485, 0.2281335114462728, 0.10350501908210526, 0.17696776505194411, 0.08871858778466164, 0.043185767598882915, 0.11570969253396346, 0.05726808312025778, 0.06360512510487647, 0.10397442959948441, 0.9981502367325724, 0.9991787977991523, 0.9993154405253365, 0.9984130274495283, 0.9977923117768766, 0.0011186146784411479, 0.9664830821731517, 0.03132121099635214, 0.9979846278179727, 0.9988543449302395, 0.49464078144950974, 0.006304807179541839, 0.02120707869482255, 0.04814580028013768, 0.032383782331283084, 0.04814580028013768, 0.15016904373090562, 0.09915742200552165, 0.07680401473260058, 0.023499735851019582, 0.9990911998811903, 0.4127123728362036, 0.0012210425231840344, 0.0671573387751219, 0.09483430263396, 0.13512870589903314, 0.1115218837841418, 0.006919240964709528, 0.07326255139104206, 0.07122748051906867, 0.02523487881247004, 0.12032529715595786, 0.008733287696803392, 0.8044328334055569, 0.04754789968259625, 0.0009703652996448214, 0.017790030493488394, 0.9990131721959017, 0.9979607481393307, 0.9986314287318635, 0.9979274692467985, 0.9994475006647823, 0.9991911156855243, 0.8921974335536544, 0.0027686499101742573, 0.10382437163153466, 0.0008613231871212519, 0.9982735738735309, 0.8976564361353297, 0.012971148738021573, 0.088415585275494, 0.0005294346423682275, 0.00026471732118411374, 0.00026471732118411374, 0.05730423153773003, 0.19101410512576678, 0.04297817365329752, 0.03581514471108127, 0.5292682496193121, 0.1424646867396344, 0.9990127631129798, 0.9979335504348082, 0.998023503394139, 0.17508717515072517, 0.030177141109595976, 0.038244297643844405, 0.055274961438368866, 0.02509782032877289, 0.44249847508229345, 0.014341611616441652, 0.07439711026029107, 0.04989685708220325, 0.09501317695892594, 0.9993420250519497, 0.9988437821506087, 0.9997103855036513, 0.998415016442532, 0.9992922745847658, 0.004248809237932925, 0.9942213616763046, 0.04855305527788857, 0.04312813290047086, 0.04014442559289111, 0.36211356869263267, 0.26799116544443524, 0.07350769821401007, 0.04828180915901769, 0.0230559201040253, 0.01844473608322024, 0.07513517492723538, 0.0012966927944935498, 0.0006483463972467749, 0.11864739069615982, 0.06937306450540492, 0.08947180282005494, 0.0466809406017678, 0.054461097368729096, 0.6198191557679169, 0.9989227415956903, 0.9981744291714042, 0.09841463040104138, 0.10243155409087981, 0.7923381978206291, 0.007029616457217242, 0.9993525032095346, 0.9990606944721636, 0.9992518757215341, 0.9987501485817777, 0.6615820065613857, 0.10237111048897231, 0.11908476118104942, 0.0027856084486795186, 0.005571216897359037, 0.07730063445085664, 0.01949925914075663, 0.011142433794718075, 0.9988498510306448, 0.08612923426136408, 0.4067541576932229, 0.030381202496303085, 0.02684164492391826, 0.054863142371964796, 0.06931633579253617, 0.09055368122684512, 0.056927884289189275, 0.10825146908876924, 0.07020122518563238, 0.9992790258097325, 0.9984370061085651, 0.9979112336432668, 0.999258989054133, 0.9983454987659642, 0.8841394600772768, 0.11549132354467173, 0.9990192798609742, 0.999470975543797, 0.99686493539392, 0.002030274817502892, 0.9992742160879927, 0.9976846732756651, 0.3908746867763078, 0.017388535564610185, 0.02375616830658011, 0.05094106193575941, 0.05363506040351592, 0.1464555530653083, 0.03673634274213419, 0.13543465024266804, 0.10261685072636151, 0.04261415758087566, 0.07413652823163365, 0.004520520014124003, 0.9212819788784719, 0.7593886520346168, 0.10788671378024843, 0.005854317802028984, 0.004181655572877846, 0.038471231270476185, 0.012544966718633538, 0.0008363311145755691, 0.0702518136243478, 0.9989431419921758, 0.9996770022486534, 0.9990649840226745, 0.9996707015235091, 0.03753018967713343, 0.00689330014477961, 0.23896773835235982, 0.26845574452725035, 0.18701267985374312, 0.02706258575357921, 0.08488971474589704, 0.04416818240914343, 0.05693355304762419, 0.04812544730707246, 0.9987311921515625, 0.9996273828681533, 0.0016502578031166986, 0.9984059708856027, 0.0006068743050209192, 0.0072824916602510295, 0.6991191993840988, 0.08860364853305419, 0.05583243606192456, 0.06675617355230111, 0.08132115687280317, 0.9972904071328953, 0.9986289925879472, 0.997407100281468, 0.1266978640371807, 0.8711415266935146, 0.00187422875794646, 0.9983343736155421, 0.03698807305554601, 0.005479714526747557, 0.09863486148145602, 0.13562293453700203, 0.03424821579217223, 0.5842745614144582, 0.10479954032404702, 0.0006849643158434446, 0.9989945364772558, 0.9982731303656233, 0.7032423692753984, 0.11920490918588665, 0.10122428042600431, 0.07591821031950323, 0.9776199732129013, 0.0058715914307081165, 0.01614687643444732, 0.9983782631704077, 0.9990098589563183, 0.2333897242217695, 0.12861653761140737, 0.31684145272542774, 0.13045064153456468, 0.11348518024535945, 0.07726162776300229, 0.007221769732896602, 0.9920906170566708, 0.15625732603713183, 0.8393250655708795, 0.00357159602370587, 0.004913125810516197, 0.17827627941015914, 0.7004713655564521, 0.009826251621032393, 0.02596937928415704, 0.0800137631998352, 0.9984908449590975, 0.9977094579218508, 0.9992061474751285, 0.9976837203452712, 0.052172061682400656, 0.048614875658600606, 0.21165256841610264, 0.09900834432910124, 0.047429146984000595, 0.5412851399549068, 0.12535675155055498, 0.07789157377898562, 0.7947374637137127, 0.9992836239180868, 0.9990998525625199, 0.9984805818974326, 0.045839410779702876, 0.6258352888395545, 0.10250201577128004, 0.056662604991577166, 0.05857258044073145, 0.1101419175678972, 0.9984225932300427, 0.5119139975282548, 0.0025367393336385275, 0.07863891934279435, 0.05885235254041384, 0.01471308813510346, 0.11110918281336751, 0.03906578573803333, 0.06849196200824025, 0.09639609467826404, 0.0182645232021974, 0.9988451642028354, 0.09523856314984644, 0.01772688584175974, 0.006604133941047746, 0.08481098324292895, 0.05039996955010122, 0.10045235310330518, 0.44108663006260995, 0.10045235310330518, 0.06047996346012146, 0.04310066361525897, 0.14247875385742514, 0.01269207290109247, 0.0008188434129737077, 0.10890617392550313, 0.003275373651894831, 0.11504749952280593, 0.41269708013874873, 0.15107660969364908, 0.05281540013680415, 0.00040942170648685386, 0.9988780355834765, 0.9983460572806907, 0.9991162841568104, 0.9976089968367454, 0.9993102964956839, 0.0004448085494490504, 0.9990400020625673, 0.9983864275626785, 0.9991123031654369, 0.020683320790032517, 0.00019698400752411922, 0.9593121166424606, 0.0005909520225723577, 0.00019698400752411922, 0.018713480714791324, 0.005609539253846991, 0.8403089802262794, 0.00673144710461639, 0.002243815701538797, 0.1447261127492524, 0.9993336934425171, 0.881863522349041, 0.09346433840357667, 0.0010995804518067842, 0.003298741355420353, 0.0208920285843289, 0.2905269632906959, 0.0566916361457757, 0.07351533864290115, 0.053722747469812385, 0.1531098302889653, 0.09599406718948054, 0.040150684951122936, 0.08369438553191824, 0.10306284975129797, 0.04962285358395828, 0.9990397068113029, 0.9984367892622396, 0.9991339835448833, 0.999452823277265, 0.9993940641097941, 0.9984015817933612, 0.9987784235984334, 0.9994265138066432, 0.9855888812053772, 0.005019977323626709, 0.005856640210897828, 0.0025099886618133544, 0.921799887648472, 0.00048464768015166773, 0.07415109506320516, 0.0029078860809100063, 0.9990487760017817, 0.9993636390480823, 0.9994801936245699, 0.0879572237307874, 0.0018874940714761245, 0.025292420557780068, 0.7987874910486958, 0.048319848229788784, 0.037749881429522486, 0.998958060713121, 0.9981336325694635, 0.051550617983755265, 0.2697261366762937, 0.13536194528637674, 0.3448902635429304, 0.0611955723161998, 0.033923632479632496, 0.03758206343331836, 0.0661843417984987, 0.9983786171961024, 0.9992007046348871, 0.9988662138937718, 0.9982726867836715, 0.2679434495443574, 0.7310457101001273, 0.9993197485444272, 0.9992737552523887, 0.9991887061572842, 0.005893783388063168, 0.9889768525169996, 0.003536270032837901, 0.009889107126246948, 0.06823483917110394, 0.00024722767815617367, 0.5738154410004791, 0.13276126316986528, 0.09147424091778426, 0.019778214252493896, 0.00024722767815617367, 0.016317026758307464, 0.08727137038912931, 0.17024086702554614, 0.6060110044629509, 0.01917388604724581, 0.026727235096160824, 0.09703148393606213, 0.08018170528848248, 0.9142537418901548, 0.006869783909005547, 0.04408111341611893, 0.034921401537444864, 0.9991585384025484, 0.9996242621730045, 0.669009222874814, 0.049322041005893665, 0.06196871818689204, 0.0303520252343961, 0.012014343321948456, 0.07145372607264082, 0.0037940031542995126, 0.10243808516608684, 0.29249876909178435, 0.03268327103847252, 0.007262949119660559, 0.12181946477976119, 0.2796235411069315, 0.09012659589396967, 0.01320536203574647, 0.05942412916085912, 0.048859839532261945, 0.05381185029566687, 0.9994103864653946, 0.9990886465831447, 0.9981771113343174, 0.9982689619714218, 0.8096541143366451, 0.18942549367994563, 0.9989432815000011, 0.12306626472198029, 0.0733982655068313, 0.6981113223018165, 0.104854665009759, 0.05748055767042762, 0.9419394611799106, 0.9988008182712866, 0.9987373907784556, 0.998145496952415, 0.9992116939197516, 0.9990433252469324, 0.9994460252067301, 0.9986296173753676, 0.9980725320480166, 0.021344564161767787, 0.17408548201661983, 0.15959467698936464, 0.20365455713980274, 0.09144872902335373, 0.030744005260527913, 0.0822451096141511, 0.0665793744495509, 0.06481697924353337, 0.10535206898193641, 0.9993585440571852, 0.9989532310303436, 0.9975558528959771, 0.0018695993955185073, 0.9974312775091236, 0.9977844816365652, 0.8426583084506534, 0.1567012371626215, 0.9992042227494152, 0.9977683543151996, 0.0013285863572772298, 0.9979310822958893, 0.04349950955596751, 0.45372846098888736, 0.04222945088280058, 0.05969275763884593, 0.08477641643389289, 0.05524755228276165, 0.04603962690230138, 0.08128375508268382, 0.04921477358521872, 0.08414138709730941, 0.9983863090382633, 0.9978933179776289, 0.9994025982541546, 0.9101805155943143, 0.0011236796488818695, 0.044947185955274783, 0.04269982665751104, 0.9991392263104478, 0.9976889036328298, 0.999403796241535, 0.09140626099425095, 0.0027150374552747806, 0.05339573662040402, 0.8525217609562812, 0.03176942222333921, 0.039394083556940615, 0.5527879466861022, 0.04490078340898608, 0.08302409007699313, 0.1122519585224652, 0.005506699852045462, 0.025415537778671365, 0.05633777540938819, 0.04828952177947559, 0.9984842524109907, 0.9991821058727552, 0.9998993115667503, 0.9991363709990063, 0.99792514344311, 0.9150257596673971, 0.08492334944388896, 0.9988512401058981, 0.9978335632888587, 0.998804262902905, 0.006429723832329248, 0.9917849011367865, 0.9986355581407924, 0.9988375992407992, 0.9987873055434412, 0.17157961053527465, 0.015845082767109796, 0.44864220063445165, 0.012676066213687836, 0.09099604674825912, 0.07017108082577195, 0.0873743135443483, 0.05432599805866216, 0.047987964951818236, 0.27271477198542454, 0.6187118243508096, 0.10835308599037022, 0.8603678182191459, 0.0020460590207351864, 0.005115147551837966, 0.004092118041470373, 0.0030690885311027796, 0.12276354124411118, 0.8836863296580317, 0.10743069469034675, 0.0005509266394376756, 0.008263899591565134, 0.9978271722644935, 0.9979351047433117, 0.9994341245015683, 0.9986361593544097, 0.11166967451337496, 0.025224875714950183, 0.018989513178670363, 0.2681205890600323, 0.10996912109438957, 0.12782493199373632, 0.11790503704965478, 0.07454092486552695, 0.091546459055381, 0.05385085826787118, 0.9978769526979595, 0.0012859239081159273, 0.9992720930250845, 0.9994223184373786, 0.9989083403320057, 0.05721345963171563, 0.08923860370229861, 0.001799165397223762, 0.5055654766198772, 0.052535629598933854, 0.08096244287506929, 0.110468755389539, 0.01763182089279287, 0.03202514407058297, 0.05181596344004435, 0.02904057819835332, 0.006313169173555069, 0.04040428271075244, 0.9242479670084622, 0.012008798245435923, 0.11065249811865957, 0.06261730513691588, 0.1303812380933043, 0.015439883458417614, 0.6682038452281845, 0.739017458563405, 0.1629934579510512, 0.09728405343675307, 0.05818665580657585, 0.5244557243366037, 0.0543075454194708, 0.03762737075491905, 0.016680174664551742, 0.0341361714065245, 0.02599003959360388, 0.1093909129163626, 0.018619729858104273, 0.12025242200025676, 0.17746167367273863, 0.8216845202867951, 0.9991864623900507, 0.02363633919045422, 0.09212996443578507, 0.3007163445909614, 0.17977420026608248, 0.0757398022234263, 0.06400789663984319, 0.1292234894427023, 0.056761719661747735, 0.0319176843082776, 0.046064982217892535, 0.03960469237686283, 0.5350417358683189, 0.001009036748455104, 0.0378388780670664, 0.06356931515267156, 0.05625379872637205, 0.04994731904852765, 0.07290290507588126, 0.054235725229461844, 0.08955201142539049, 0.9995275231879523, 0.9992395357138065, 0.9941231485621976, 0.003972520074174616, 0.000993130018543654], \"Term\": [\"2013\", \"2014\", \"2015\", \"2016\", \"2017\", \"accident\", \"accuse\", \"accuse\", \"accuse\", \"accuse\", \"accuse\", \"accuse\", \"accuse\", \"accuse\", \"accuse\", \"action\", \"action\", \"action\", \"action\", \"action\", \"action\", \"action\", \"action\", \"adam\", \"adelaide\", \"adelaide\", \"adelaide\", \"adelaide\", \"adelaide\", \"adelaide\", \"adelaide\", \"adelaide\", \"adelaide\", \"adelaide\", \"afghanistan\", \"afghanistan\", \"africa\", \"age\", \"agriculture\", \"alcohol\", \"alice\", \"allegation\", \"allege\", \"allege\", \"allege\", \"allege\", \"allege\", \"allege\", \"allege\", \"allegedly\", \"analysis\", \"andrew\", \"anniversary\", \"answer\", \"anzac\", \"anzac\", \"anzac\", \"appeal\", \"appeal\", \"appeal\", \"appeal\", \"appeal\", \"appeal\", \"appeal\", \"appeal\", \"appeal\", \"appeal\", \"appear\", \"apple\", \"approval\", \"april\", \"army\", \"army\", \"army\", \"army\", \"army\", \"army\", \"arrest\", \"arrest\", \"arrest\", \"arrest\", \"arrest\", \"arrest\", \"arrest\", \"arrest\", \"asbestos\", \"ash\", \"ash\", \"assault\", \"assault\", \"assault\", \"assault\", \"assault\", \"asylum\", \"attack\", \"attack\", \"attack\", \"attack\", \"attack\", \"attack\", \"attack\", \"attack\", \"attack\", \"attack\", \"august\", \"australia\", \"australia\", \"australia\", \"australia\", \"australia\", \"australia\", \"australia\", \"australia\", \"australia\", \"australia\", \"australian\", \"australian\", \"australian\", \"australian\", \"australian\", \"australian\", \"australian\", \"australian\", \"australian\", \"australian\", \"award\", \"award\", \"award\", \"award\", \"award\", \"award\", \"award\", \"award\", \"backpacker\", \"bail\", \"bali\", \"bali\", \"bangladesh\", \"bank\", \"bank\", \"bank\", \"bank\", \"bank\", \"bank\", \"bank\", \"bank\", \"bank\", \"barnett\", \"barrier\", \"barrier\", \"bash\", \"bash\", \"bash\", \"bash\", \"bear\", \"beat\", \"beat\", \"beat\", \"beat\", \"beat\", \"beat\", \"beat\", \"beat\", \"beat\", \"beat\", \"bendigo\", \"bendigo\", \"bikie\", \"bill\", \"bill\", \"bill\", \"bill\", \"bill\", \"bill\", \"bill\", \"bill\", \"bill\", \"bill\", \"billion\", \"bishop\", \"blast\", \"blast\", \"blaze\", \"blog\", \"body\", \"body\", \"body\", \"body\", \"bomb\", \"bomb\", \"border\", \"box\", \"boy\", \"breach\", \"break\", \"break\", \"break\", \"break\", \"break\", \"break\", \"break\", \"break\", \"break\", \"break\", \"breakfast\", \"brexit\", \"brexit\", \"broome\", \"brother\", \"brother\", \"budget\", \"budget\", \"budget\", \"budget\", \"budget\", \"budget\", \"budget\", \"bulldog\", \"burn\", \"burn\", \"burn\", \"burn\", \"burn\", \"bushfire\", \"bushfire\", \"bushfire\", \"bushfire\", \"bushfire\", \"bushfire\", \"bushfire\", \"bushfire\", \"business\", \"business\", \"business\", \"business\", \"business\", \"business\", \"call\", \"call\", \"call\", \"call\", \"call\", \"call\", \"call\", \"call\", \"call\", \"call\", \"camera\", \"cameron\", \"cancer\", \"cancer\", \"cancer\", \"cancer\", \"cannabis\", \"capital\", \"capital\", \"capture\", \"carbon\", \"card\", \"care\", \"care\", \"care\", \"case\", \"case\", \"case\", \"case\", \"case\", \"case\", \"case\", \"case\", \"case\", \"cctv\", \"celebrate\", \"celebrate\", \"celebrate\", \"celebrate\", \"cent\", \"centre\", \"centre\", \"centre\", \"centre\", \"centre\", \"centre\", \"centre\", \"centre\", \"centre\", \"champion\", \"championship\", \"championship\", \"change\", \"change\", \"change\", \"change\", \"change\", \"change\", \"change\", \"change\", \"change\", \"change\", \"charge\", \"charge\", \"charge\", \"charge\", \"charge\", \"charge\", \"charge\", \"charge\", \"charity\", \"child\", \"child\", \"child\", \"child\", \"child\", \"child\", \"child\", \"child\", \"child\", \"china\", \"china\", \"china\", \"china\", \"china\", \"china\", \"china\", \"china\", \"china\", \"china\", \"chris\", \"christmas\", \"christmas\", \"citizenship\", \"clarke\", \"class\", \"climate\", \"clinton\", \"clive\", \"close\", \"close\", \"close\", \"close\", \"close\", \"close\", \"close\", \"close\", \"coach\", \"coach\", \"coach\", \"coach\", \"coach\", \"coal\", \"coal\", \"coal\", \"coal\", \"coal\", \"coast\", \"coast\", \"coast\", \"coast\", \"coast\", \"coast\", \"coast\", \"coast\", \"coast\", \"coast\", \"cold\", \"cold\", \"colin\", \"commission\", \"commissioner\", \"commonwealth\", \"compensation\", \"confidence\", \"confidence\", \"construction\", \"cook\", \"cook\", \"corruption\", \"council\", \"council\", \"council\", \"council\", \"council\", \"council\", \"council\", \"council\", \"council\", \"council\", \"country\", \"country\", \"country\", \"country\", \"country\", \"court\", \"court\", \"court\", \"court\", \"court\", \"court\", \"court\", \"court\", \"court\", \"crash\", \"crash\", \"crash\", \"crash\", \"crash\", \"crash\", \"crash\", \"credit\", \"crew\", \"cricket\", \"cricket\", \"cricket\", \"cricket\", \"crop\", \"crop\", \"crop\", \"culture\", \"custody\", \"custody\", \"cut\", \"cut\", \"cut\", \"cut\", \"cut\", \"cut\", \"cut\", \"cyclone\", \"cyclone\", \"cyclone\", \"cyclone\", \"cyclone\", \"cyclone\", \"cyclone\", \"cyclone\", \"dairy\", \"dairy\", \"dairy\", \"damage\", \"damage\", \"damage\", \"damage\", \"damage\", \"damage\", \"damage\", \"damage\", \"damage\", \"damage\", \"dance\", \"dangerous\", \"daniel\", \"data\", \"data\", \"daughter\", \"david\", \"dead\", \"dead\", \"dead\", \"dead\", \"dead\", \"dead\", \"dead\", \"death\", \"death\", \"death\", \"death\", \"death\", \"death\", \"death\", \"death\", \"death\", \"death\", \"december\", \"defeat\", \"department\", \"describe\", \"detention\", \"die\", \"die\", \"die\", \"die\", \"die\", \"die\", \"die\", \"die\", \"die\", \"disability\", \"disaster\", \"disaster\", \"doctor\", \"doctor\", \"doctor\", \"doctor\", \"doctor\", \"doctor\", \"doctor\", \"doctor\", \"document\", \"dollar\", \"dollar\", \"dollar\", \"dollar\", \"dollar\", \"domestic\", \"donald\", \"donation\", \"dozen\", \"drink\", \"drive\", \"drive\", \"drive\", \"driver\", \"driver\", \"driver\", \"driver\", \"driver\", \"drone\", \"drought\", \"drought\", \"drought\", \"drought\", \"drought\", \"drought\", \"drought\", \"drown\", \"drum\", \"eagle\", \"earthquake\", \"east\", \"east\", \"east\", \"east\", \"east\", \"economic\", \"education\", \"education\", \"education\", \"education\", \"elderly\", \"election\", \"election\", \"election\", \"election\", \"election\", \"election\", \"election\", \"election\", \"election\", \"election\", \"energy\", \"energy\", \"england\", \"england\", \"england\", \"england\", \"england\", \"england\", \"england\", \"episode\", \"event\", \"exchange\", \"exhibition\", \"expand\", \"expansion\", \"explain\", \"explain\", \"explosion\", \"face\", \"face\", \"face\", \"face\", \"face\", \"face\", \"face\", \"face\", \"face\", \"face\", \"facebook\", \"fact\", \"fair\", \"fake\", \"fall\", \"fall\", \"fall\", \"fall\", \"fall\", \"fall\", \"fall\", \"fall\", \"fall\", \"farmer\", \"farmer\", \"farmer\", \"farmer\", \"farmer\", \"farmer\", \"farmer\", \"farmer\", \"farmer\", \"farmer\", \"fatal\", \"father\", \"february\", \"federal\", \"federal\", \"female\", \"final\", \"final\", \"final\", \"final\", \"final\", \"finance\", \"finance\", \"find\", \"find\", \"find\", \"find\", \"find\", \"find\", \"find\", \"find\", \"find\", \"find\", \"fire\", \"fire\", \"fire\", \"fire\", \"fire\", \"fire\", \"fire\", \"fire\", \"fire\", \"fire\", \"firefighter\", \"first\", \"first\", \"first\", \"first\", \"first\", \"first\", \"first\", \"first\", \"first\", \"first\", \"fisherman\", \"flood\", \"flood\", \"flood\", \"flood\", \"flood\", \"flood\", \"flood\", \"flood\", \"flood\", \"flood\", \"footage\", \"football\", \"foreign\", \"foreign\", \"foreign\", \"foreign\", \"former\", \"former\", \"former\", \"former\", \"former\", \"former\", \"former\", \"former\", \"former\", \"former\", \"fraud\", \"fraud\", \"fraud\", \"fresh\", \"friday\", \"friday\", \"front\", \"fruit\", \"fruit\", \"fruit\", \"fruit\", \"fruit\", \"full\", \"full\", \"full\", \"full\", \"fund\", \"fund\", \"fund\", \"fund\", \"fund\", \"fund\", \"fund\", \"fund\", \"gain\", \"gain\", \"game\", \"game\", \"game\", \"game\", \"game\", \"game\", \"game\", \"game\", \"geelong\", \"george\", \"gillard\", \"gippsland\", \"global\", \"government\", \"government\", \"government\", \"government\", \"government\", \"government\", \"government\", \"government\", \"grain\", \"grain\", \"grand\", \"grand\", \"grandstand\", \"green\", \"green\", \"green\", \"green\", \"green\", \"green\", \"green\", \"green\", \"green\", \"green\", \"greyhound\", \"guilty\", \"guilty\", \"guilty\", \"guilty\", \"gunman\", \"happen\", \"harbour\", \"hard\", \"harvest\", \"harvest\", \"health\", \"health\", \"health\", \"health\", \"health\", \"health\", \"health\", \"health\", \"help\", \"help\", \"help\", \"help\", \"help\", \"help\", \"help\", \"help\", \"help\", \"help\", \"heritage\", \"high\", \"high\", \"high\", \"high\", \"high\", \"high\", \"high\", \"high\", \"high\", \"high\", \"hill\", \"hill\", \"hill\", \"hill\", \"hill\", \"hill\", \"hill\", \"hill\", \"history\", \"history\", \"history\", \"hobart\", \"hobart\", \"hobart\", \"hobart\", \"hobart\", \"hobart\", \"holiday\", \"horse\", \"horse\", \"hospital\", \"hospital\", \"hospital\", \"hospital\", \"hospital\", \"hospital\", \"hospital\", \"hospital\", \"hospital\", \"hospital\", \"hour\", \"hour\", \"hour\", \"house\", \"house\", \"house\", \"house\", \"house\", \"house\", \"house\", \"house\", \"house\", \"house\", \"hundred\", \"hundred\", \"illegal\", \"illegal\", \"immigration\", \"incident\", \"independent\", \"indonesia\", \"indonesia\", \"indonesia\", \"indonesia\", \"indonesia\", \"indonesia\", \"indonesian\", \"indonesian\", \"industry\", \"industry\", \"industry\", \"industry\", \"industry\", \"industry\", \"industry\", \"industry\", \"inside\", \"insurance\", \"interest\", \"interest\", \"interest\", \"interest\", \"interview\", \"interview\", \"interview\", \"interview\", \"interview\", \"interview\", \"iron\", \"islamic\", \"islamic\", \"israel\", \"jail\", \"jail\", \"jail\", \"jail\", \"jail\", \"jail\", \"jail\", \"jail\", \"jail\", \"jail\", \"jam\", \"january\", \"jet\", \"job\", \"job\", \"job\", \"job\", \"job\", \"job\", \"john\", \"john\", \"john\", \"john\", \"john\", \"john\", \"joyce\", \"july\", \"jump\", \"june\", \"june\", \"kangaroo\", \"kid\", \"kid\", \"kill\", \"kill\", \"kill\", \"kill\", \"kill\", \"kill\", \"kill\", \"killer\", \"killer\", \"kimberley\", \"knight\", \"know\", \"know\", \"korea\", \"korea\", \"korea\", \"korea\", \"korea\", \"korea\", \"korea\", \"korea\", \"label\", \"labor\", \"labor\", \"labor\", \"labor\", \"labor\", \"labor\", \"labor\", \"labor\", \"labor\", \"labor\", \"lanka\", \"league\", \"learn\", \"least\", \"liberal\", \"liberal\", \"liberal\", \"liberal\", \"liberal\", \"lion\", \"live\", \"live\", \"live\", \"live\", \"live\", \"live\", \"live\", \"live\", \"live\", \"loan\", \"love\", \"mackay\", \"macquarie\", \"malcolm\", \"manchester\", \"mango\", \"manus\", \"mark\", \"mark\", \"mark\", \"mark\", \"market\", \"market\", \"market\", \"market\", \"market\", \"market\", \"market\", \"marriage\", \"martin\", \"match\", \"match\", \"match\", \"matt\", \"matthew\", \"mean\", \"meat\", \"medal\", \"medical\", \"medical\", \"medium\", \"medium\", \"medium\", \"medium\", \"medium\", \"medium\", \"medium\", \"medium\", \"medium\", \"melbourne\", \"melbourne\", \"melbourne\", \"melbourne\", \"melbourne\", \"melbourne\", \"melbourne\", \"melbourne\", \"melbourne\", \"melbourne\", \"memorial\", \"mental\", \"michael\", \"migrant\", \"mike\", \"military\", \"military\", \"military\", \"milk\", \"mill\", \"mine\", \"mine\", \"mine\", \"mine\", \"mine\", \"mine\", \"mine\", \"mine\", \"mine\", \"mine\", \"miner\", \"minister\", \"minister\", \"minister\", \"minister\", \"minister\", \"minister\", \"minister\", \"minister\", \"minister\", \"minister\", \"miss\", \"miss\", \"miss\", \"miss\", \"miss\", \"miss\", \"mitchell\", \"mobile\", \"model\", \"moment\", \"monday\", \"morrison\", \"mother\", \"mother\", \"mother\", \"mount\", \"mount\", \"murder\", \"murder\", \"murder\", \"murder\", \"murder\", \"murder\", \"murray\", \"murray\", \"murray\", \"murray\", \"murray\", \"murray\", \"music\", \"muslim\", \"myanmar\", \"national\", \"national\", \"national\", \"national\", \"national\", \"national\", \"national\", \"national\", \"national\", \"national\", \"nauru\", \"network\", \"news\", \"nick\", \"night\", \"nine\", \"nine\", \"north\", \"north\", \"north\", \"north\", \"north\", \"north\", \"north\", \"north\", \"north\", \"north\", \"northern\", \"northern\", \"northern\", \"northern\", \"northern\", \"northern\", \"northern\", \"northern\", \"november\", \"ntch\", \"nurse\", \"nurse\", \"nurse\", \"nurse\", \"obama\", \"october\", \"offence\", \"offender\", \"officer\", \"officer\", \"officer\", \"officer\", \"officer\", \"officer\", \"officer\", \"officer\", \"online\", \"open\", \"open\", \"open\", \"open\", \"open\", \"open\", \"open\", \"open\", \"open\", \"open\", \"origin\", \"outbreak\", \"outside\", \"palmer\", \"paris\", \"patient\", \"patient\", \"paul\", \"peter\", \"philippine\", \"philippine\", \"phone\", \"pilbara\", \"plan\", \"plan\", \"plan\", \"plan\", \"plan\", \"plan\", \"plan\", \"plan\", \"plan\", \"plan\", \"plane\", \"plane\", \"plane\", \"player\", \"player\", \"player\", \"player\", \"player\", \"player\", \"player\", \"player\", \"plea\", \"plead\", \"plus\", \"podcast\", \"police\", \"police\", \"police\", \"police\", \"police\", \"police\", \"police\", \"police\", \"police\", \"police\", \"politician\", \"politics\", \"possible\", \"possible\", \"president\", \"president\", \"president\", \"president\", \"president\", \"president\", \"president\", \"presidential\", \"press\", \"preview\", \"price\", \"price\", \"price\", \"prince\", \"prison\", \"prison\", \"prison\", \"prison\", \"prison\", \"prison\", \"prison\", \"prison\", \"process\", \"profit\", \"project\", \"project\", \"project\", \"project\", \"protection\", \"protection\", \"protection\", \"punch\", \"quarter\", \"queensland\", \"queensland\", \"queensland\", \"queensland\", \"queensland\", \"queensland\", \"quiz\", \"quiz\", \"raid\", \"raid\", \"raid\", \"rain\", \"rain\", \"rain\", \"rain\", \"rain\", \"rain\", \"rape\", \"real\", \"rebel\", \"recovery\", \"refugee\", \"refugee\", \"refugee\", \"refugee\", \"refugee\", \"refugee\", \"refuse\", \"refuse\", \"refuse\", \"region\", \"remember\", \"remote\", \"rescue\", \"rescue\", \"rescue\", \"rescue\", \"rescue\", \"rescue\", \"respond\", \"review\", \"review\", \"review\", \"review\", \"review\", \"review\", \"review\", \"review\", \"review\", \"review\", \"richard\", \"rise\", \"rise\", \"rise\", \"rise\", \"rise\", \"rise\", \"rise\", \"rise\", \"rise\", \"rise\", \"road\", \"road\", \"road\", \"road\", \"road\", \"road\", \"road\", \"road\", \"road\", \"road\", \"roar\", \"robbery\", \"robert\", \"rockhampton\", \"round\", \"royal\", \"royal\", \"rudd\", \"rugby\", \"rural\", \"rural\", \"rural\", \"rural\", \"rural\", \"rural\", \"russian\", \"russian\", \"russian\", \"russian\", \"russian\", \"sach\", \"safe\", \"safe\", \"safe\", \"safe\", \"safe\", \"say\", \"say\", \"say\", \"say\", \"say\", \"say\", \"say\", \"say\", \"say\", \"say\", \"scene\", \"science\", \"scorecentre\", \"scott\", \"search\", \"secret\", \"sector\", \"seeker\", \"senate\", \"senate\", \"senate\", \"senate\", \"sentence\", \"sentence\", \"sentence\", \"sentence\", \"september\", \"series\", \"sexual\", \"share\", \"share\", \"share\", \"share\", \"share\", \"share\", \"shed\", \"sheep\", \"shoot\", \"shoot\", \"shoot\", \"shoot\", \"shoot\", \"shoot\", \"shoot\", \"shoot\", \"shop\", \"shortage\", \"shorten\", \"small\", \"smith\", \"smith\", \"socceroos\", \"social\", \"solar\", \"soldier\", \"soldier\", \"soldier\", \"south\", \"south\", \"south\", \"south\", \"south\", \"south\", \"south\", \"south\", \"south\", \"south\", \"speak\", \"speak\", \"speak\", \"speak\", \"speak\", \"speak\", \"sport\", \"sport\", \"sport\", \"sport\", \"spring\", \"stab\", \"star\", \"star\", \"star\", \"star\", \"star\", \"star\", \"star\", \"star\", \"state\", \"state\", \"state\", \"state\", \"state\", \"state\", \"state\", \"state\", \"state\", \"state\", \"stephen\", \"steve\", \"stock\", \"store\", \"story\", \"story\", \"stream\", \"street\", \"street\", \"street\", \"street\", \"suicide\", \"suicide\", \"summer\", \"sunday\", \"sunshine\", \"surf\", \"survivor\", \"suspect\", \"suspicious\", \"swim\", \"sydney\", \"sydney\", \"sydney\", \"sydney\", \"sydney\", \"sydney\", \"sydney\", \"sydney\", \"sydney\", \"sydney\", \"syria\", \"syrian\", \"taxi\", \"teacher\", \"teacher\", \"technology\", \"teenager\", \"teenager\", \"territory\", \"terror\", \"terror\", \"terrorism\", \"test\", \"test\", \"test\", \"test\", \"test\", \"test\", \"test\", \"test\", \"test\", \"test\", \"thai\", \"thailand\", \"thursday\", \"tiger\", \"tiger\", \"tiger\", \"tiger\", \"tony\", \"tower\", \"treatment\", \"tree\", \"tree\", \"tree\", \"tree\", \"trial\", \"trial\", \"trial\", \"trial\", \"trial\", \"trial\", \"trial\", \"trial\", \"trial\", \"trial\", \"tribute\", \"truck\", \"trump\", \"tuesday\", \"turkey\", \"turnbull\", \"turnbull\", \"uber\", \"ukraine\", \"unemployment\", \"unit\", \"unit\", \"university\", \"update\", \"vanuatu\", \"victoria\", \"victoria\", \"victoria\", \"victoria\", \"victoria\", \"victoria\", \"victoria\", \"victoria\", \"victoria\", \"victorian\", \"victorian\", \"victorian\", \"victory\", \"victory\", \"victory\", \"victory\", \"victory\", \"victory\", \"violence\", \"violence\", \"violence\", \"violence\", \"violent\", \"voter\", \"wall\", \"wallaby\", \"warn\", \"warn\", \"warn\", \"warn\", \"warn\", \"warn\", \"warn\", \"warn\", \"warn\", \"warn\", \"waste\", \"waste\", \"weather\", \"wednesday\", \"welfare\", \"west\", \"west\", \"west\", \"west\", \"west\", \"west\", \"west\", \"west\", \"west\", \"west\", \"whale\", \"whale\", \"whale\", \"whale\", \"white\", \"white\", \"white\", \"white\", \"white\", \"white\", \"wild\", \"wild\", \"wild\", \"win\", \"win\", \"win\", \"win\", \"win\", \"win\", \"win\", \"win\", \"win\", \"win\", \"wind\", \"wind\", \"winter\", \"woman\", \"woman\", \"woman\", \"woman\", \"woman\", \"woman\", \"woman\", \"woman\", \"woman\", \"woman\", \"world\", \"world\", \"world\", \"world\", \"world\", \"world\", \"world\", \"world\", \"world\", \"world\", \"wrap\", \"york\", \"zealand\", \"zealand\", \"zealand\"]}, \"R\": 30, \"lambda.step\": 0.01, \"plot.opts\": {\"xlab\": \"PC1\", \"ylab\": \"PC2\"}, \"topic.order\": [6, 7, 1, 5, 2, 9, 8, 3, 4, 10]};\n",
       "\n",
       "function LDAvis_load_lib(url, callback){\n",
       "  var s = document.createElement('script');\n",
       "  s.src = url;\n",
       "  s.async = true;\n",
       "  s.onreadystatechange = s.onload = callback;\n",
       "  s.onerror = function(){console.warn(\"failed to load library \" + url);};\n",
       "  document.getElementsByTagName(\"head\")[0].appendChild(s);\n",
       "}\n",
       "\n",
       "if(typeof(LDAvis) !== \"undefined\"){\n",
       "   // already loaded: just create the visualization\n",
       "   !function(LDAvis){\n",
       "       new LDAvis(\"#\" + \"ldavis_el343223364684870725654766618\", ldavis_el343223364684870725654766618_data);\n",
       "   }(LDAvis);\n",
       "}else if(typeof define === \"function\" && define.amd){\n",
       "   // require.js is available: use it to load d3/LDAvis\n",
       "   require.config({paths: {d3: \"https://d3js.org/d3.v5\"}});\n",
       "   require([\"d3\"], function(d3){\n",
       "      window.d3 = d3;\n",
       "      LDAvis_load_lib(\"https://cdn.jsdelivr.net/gh/bmabey/pyLDAvis@3.3.1/pyLDAvis/js/ldavis.v3.0.0.js\", function(){\n",
       "        new LDAvis(\"#\" + \"ldavis_el343223364684870725654766618\", ldavis_el343223364684870725654766618_data);\n",
       "      });\n",
       "    });\n",
       "}else{\n",
       "    // require.js not available: dynamically load d3 & LDAvis\n",
       "    LDAvis_load_lib(\"https://d3js.org/d3.v5.js\", function(){\n",
       "         LDAvis_load_lib(\"https://cdn.jsdelivr.net/gh/bmabey/pyLDAvis@3.3.1/pyLDAvis/js/ldavis.v3.0.0.js\", function(){\n",
       "                 new LDAvis(\"#\" + \"ldavis_el343223364684870725654766618\", ldavis_el343223364684870725654766618_data);\n",
       "            })\n",
       "         });\n",
       "}\n",
       "</script>"
      ],
      "text/plain": [
       "<IPython.core.display.HTML object>"
      ]
     },
     "execution_count": 44,
     "metadata": {},
     "output_type": "execute_result"
    }
   ],
   "source": [
    "pyLDAvis.enable_notebook()\n",
    "vis = gensimvis.prepare(lda_model_tfidf, corpus_tfidf, dictionary)\n",
    "pyLDAvis.display(vis)"
   ]
  },
  {
   "cell_type": "markdown",
   "metadata": {},
   "source": [
    "## rajout nom topics"
   ]
  },
  {
   "cell_type": "code",
   "execution_count": 50,
   "metadata": {
    "ExecuteTime": {
     "end_time": "2021-07-13T09:20:01.968071Z",
     "start_time": "2021-07-13T09:20:01.449623Z"
    }
   },
   "outputs": [],
   "source": [
    "df['topic']= max_list_topics"
   ]
  },
  {
   "cell_type": "code",
   "execution_count": 51,
   "metadata": {
    "ExecuteTime": {
     "end_time": "2021-07-13T09:20:12.203239Z",
     "start_time": "2021-07-13T09:20:12.173478Z"
    }
   },
   "outputs": [
    {
     "data": {
      "text/html": [
       "<div>\n",
       "<style scoped>\n",
       "    .dataframe tbody tr th:only-of-type {\n",
       "        vertical-align: middle;\n",
       "    }\n",
       "\n",
       "    .dataframe tbody tr th {\n",
       "        vertical-align: top;\n",
       "    }\n",
       "\n",
       "    .dataframe thead th {\n",
       "        text-align: right;\n",
       "    }\n",
       "</style>\n",
       "<table border=\"1\" class=\"dataframe\">\n",
       "  <thead>\n",
       "    <tr style=\"text-align: right;\">\n",
       "      <th></th>\n",
       "      <th>publish_date</th>\n",
       "      <th>headline_text</th>\n",
       "      <th>sentence</th>\n",
       "      <th>topic</th>\n",
       "    </tr>\n",
       "  </thead>\n",
       "  <tbody>\n",
       "    <tr>\n",
       "      <th>0</th>\n",
       "      <td>20030219</td>\n",
       "      <td>aba decides against community broadcasting lic...</td>\n",
       "      <td>[decide, community, broadcast, licence]</td>\n",
       "      <td>(5, 0.46204594)</td>\n",
       "    </tr>\n",
       "    <tr>\n",
       "      <th>1</th>\n",
       "      <td>20030219</td>\n",
       "      <td>act fire witnesses must be aware of defamation</td>\n",
       "      <td>[fire, witness, must, aware, defamation]</td>\n",
       "      <td>(0, 0.37415177)</td>\n",
       "    </tr>\n",
       "    <tr>\n",
       "      <th>2</th>\n",
       "      <td>20030219</td>\n",
       "      <td>a g calls for infrastructure protection summit</td>\n",
       "      <td>[call, infrastructure, protection, summit]</td>\n",
       "      <td>(5, 0.48481894)</td>\n",
       "    </tr>\n",
       "    <tr>\n",
       "      <th>3</th>\n",
       "      <td>20030219</td>\n",
       "      <td>air nz staff in aust strike for pay rise</td>\n",
       "      <td>[staff, aust, strike, rise]</td>\n",
       "      <td>(2, 0.69918114)</td>\n",
       "    </tr>\n",
       "    <tr>\n",
       "      <th>4</th>\n",
       "      <td>20030219</td>\n",
       "      <td>air nz strike to affect australian travellers</td>\n",
       "      <td>[strike, affect, australian, traveller]</td>\n",
       "      <td>(8, 0.6944238)</td>\n",
       "    </tr>\n",
       "  </tbody>\n",
       "</table>\n",
       "</div>"
      ],
      "text/plain": [
       "   publish_date                                      headline_text  \\\n",
       "0      20030219  aba decides against community broadcasting lic...   \n",
       "1      20030219     act fire witnesses must be aware of defamation   \n",
       "2      20030219     a g calls for infrastructure protection summit   \n",
       "3      20030219           air nz staff in aust strike for pay rise   \n",
       "4      20030219      air nz strike to affect australian travellers   \n",
       "\n",
       "                                     sentence            topic  \n",
       "0     [decide, community, broadcast, licence]  (5, 0.46204594)  \n",
       "1    [fire, witness, must, aware, defamation]  (0, 0.37415177)  \n",
       "2  [call, infrastructure, protection, summit]  (5, 0.48481894)  \n",
       "3                 [staff, aust, strike, rise]  (2, 0.69918114)  \n",
       "4     [strike, affect, australian, traveller]   (8, 0.6944238)  "
      ]
     },
     "execution_count": 51,
     "metadata": {},
     "output_type": "execute_result"
    }
   ],
   "source": [
    "df.head()"
   ]
  },
  {
   "cell_type": "code",
   "execution_count": 57,
   "metadata": {
    "ExecuteTime": {
     "end_time": "2021-07-13T09:24:19.254010Z",
     "start_time": "2021-07-13T09:24:19.221064Z"
    }
   },
   "outputs": [
    {
     "name": "stdout",
     "output_type": "stream",
     "text": [
      "0.028*\"south\" + 0.023*\"government\" + 0.021*\"hour\" + 0.018*\"water\" + 0.017*\"west\"\n",
      "0.041*\"australia\" + 0.021*\"trump\" + 0.020*\"world\" + 0.017*\"take\" + 0.015*\"first\"\n",
      "0.035*\"woman\" + 0.033*\"charge\" + 0.030*\"court\" + 0.022*\"murder\" + 0.021*\"child\"\n",
      "0.022*\"election\" + 0.019*\"say\" + 0.016*\"health\" + 0.015*\"live\" + 0.015*\"sydney\"\n",
      "0.031*\"fire\" + 0.030*\"australian\" + 0.024*\"kill\" + 0.022*\"house\" + 0.021*\"warn\"\n",
      "0.019*\"market\" + 0.016*\"china\" + 0.014*\"rise\" + 0.013*\"price\" + 0.013*\"share\"\n",
      "0.027*\"find\" + 0.026*\"interview\" + 0.020*\"miss\" + 0.016*\"claim\" + 0.015*\"police\"\n",
      "0.018*\"country\" + 0.018*\"coast\" + 0.018*\"rural\" + 0.018*\"school\" + 0.016*\"fund\"\n",
      "0.035*\"police\" + 0.029*\"queensland\" + 0.017*\"shoot\" + 0.016*\"arrest\" + 0.012*\"guilty\"\n",
      "0.024*\"change\" + 0.022*\"mine\" + 0.020*\"die\" + 0.014*\"worker\" + 0.014*\"close\"\n"
     ]
    }
   ],
   "source": [
    "for i in range(10):\n",
    "    print(lda_model.print_topic(i, 5))    "
   ]
  },
  {
   "cell_type": "code",
   "execution_count": 58,
   "metadata": {
    "ExecuteTime": {
     "end_time": "2021-07-13T09:31:48.529381Z",
     "start_time": "2021-07-13T09:31:48.513843Z"
    }
   },
   "outputs": [],
   "source": [
    "dict_topics_name={0:'politics', 1:'world', 2: 'justice',\n",
    "                  3:'election', 4:'minor news', 5:'economy',\n",
    "                  6:'interview', 7:'local news', 8:'criminality',9:'society'}"
   ]
  },
  {
   "cell_type": "code",
   "execution_count": 62,
   "metadata": {
    "ExecuteTime": {
     "end_time": "2021-07-13T09:39:34.365790Z",
     "start_time": "2021-07-13T09:39:06.192867Z"
    },
    "scrolled": false
   },
   "outputs": [],
   "source": [
    "i=0\n",
    "for topic_id, value in df['topic']:\n",
    "    df.at[i,'topics_name']=dict_topics_name[topic_id]\n",
    "    i+=1"
   ]
  },
  {
   "cell_type": "code",
   "execution_count": 72,
   "metadata": {
    "ExecuteTime": {
     "end_time": "2021-07-13T09:49:58.530236Z",
     "start_time": "2021-07-13T09:49:58.205136Z"
    }
   },
   "outputs": [],
   "source": [
    "a_list = [el[1] for el in df['topic']]"
   ]
  },
  {
   "cell_type": "code",
   "execution_count": 75,
   "metadata": {
    "ExecuteTime": {
     "end_time": "2021-07-13T09:50:50.802970Z",
     "start_time": "2021-07-13T09:50:50.523394Z"
    }
   },
   "outputs": [],
   "source": [
    "df['topic']=a_list"
   ]
  },
  {
   "cell_type": "code",
   "execution_count": 76,
   "metadata": {
    "ExecuteTime": {
     "end_time": "2021-07-13T09:50:57.385577Z",
     "start_time": "2021-07-13T09:50:57.361751Z"
    }
   },
   "outputs": [
    {
     "data": {
      "text/html": [
       "<div>\n",
       "<style scoped>\n",
       "    .dataframe tbody tr th:only-of-type {\n",
       "        vertical-align: middle;\n",
       "    }\n",
       "\n",
       "    .dataframe tbody tr th {\n",
       "        vertical-align: top;\n",
       "    }\n",
       "\n",
       "    .dataframe thead th {\n",
       "        text-align: right;\n",
       "    }\n",
       "</style>\n",
       "<table border=\"1\" class=\"dataframe\">\n",
       "  <thead>\n",
       "    <tr style=\"text-align: right;\">\n",
       "      <th></th>\n",
       "      <th>publish_date</th>\n",
       "      <th>headline_text</th>\n",
       "      <th>sentence</th>\n",
       "      <th>topic</th>\n",
       "      <th>topics_name</th>\n",
       "    </tr>\n",
       "  </thead>\n",
       "  <tbody>\n",
       "    <tr>\n",
       "      <th>0</th>\n",
       "      <td>20030219</td>\n",
       "      <td>aba decides against community broadcasting lic...</td>\n",
       "      <td>[decide, community, broadcast, licence]</td>\n",
       "      <td>0.462046</td>\n",
       "      <td>economy</td>\n",
       "    </tr>\n",
       "    <tr>\n",
       "      <th>1</th>\n",
       "      <td>20030219</td>\n",
       "      <td>act fire witnesses must be aware of defamation</td>\n",
       "      <td>[fire, witness, must, aware, defamation]</td>\n",
       "      <td>0.374152</td>\n",
       "      <td>politics</td>\n",
       "    </tr>\n",
       "    <tr>\n",
       "      <th>2</th>\n",
       "      <td>20030219</td>\n",
       "      <td>a g calls for infrastructure protection summit</td>\n",
       "      <td>[call, infrastructure, protection, summit]</td>\n",
       "      <td>0.484819</td>\n",
       "      <td>economy</td>\n",
       "    </tr>\n",
       "    <tr>\n",
       "      <th>3</th>\n",
       "      <td>20030219</td>\n",
       "      <td>air nz staff in aust strike for pay rise</td>\n",
       "      <td>[staff, aust, strike, rise]</td>\n",
       "      <td>0.699181</td>\n",
       "      <td>justice</td>\n",
       "    </tr>\n",
       "    <tr>\n",
       "      <th>4</th>\n",
       "      <td>20030219</td>\n",
       "      <td>air nz strike to affect australian travellers</td>\n",
       "      <td>[strike, affect, australian, traveller]</td>\n",
       "      <td>0.694424</td>\n",
       "      <td>criminality</td>\n",
       "    </tr>\n",
       "  </tbody>\n",
       "</table>\n",
       "</div>"
      ],
      "text/plain": [
       "   publish_date                                      headline_text  \\\n",
       "0      20030219  aba decides against community broadcasting lic...   \n",
       "1      20030219     act fire witnesses must be aware of defamation   \n",
       "2      20030219     a g calls for infrastructure protection summit   \n",
       "3      20030219           air nz staff in aust strike for pay rise   \n",
       "4      20030219      air nz strike to affect australian travellers   \n",
       "\n",
       "                                     sentence     topic  topics_name  \n",
       "0     [decide, community, broadcast, licence]  0.462046      economy  \n",
       "1    [fire, witness, must, aware, defamation]  0.374152     politics  \n",
       "2  [call, infrastructure, protection, summit]  0.484819      economy  \n",
       "3                 [staff, aust, strike, rise]  0.699181      justice  \n",
       "4     [strike, affect, australian, traveller]  0.694424  criminality  "
      ]
     },
     "execution_count": 76,
     "metadata": {},
     "output_type": "execute_result"
    }
   ],
   "source": [
    "df.head()"
   ]
  },
  {
   "cell_type": "code",
   "execution_count": 84,
   "metadata": {
    "ExecuteTime": {
     "end_time": "2021-07-13T10:06:53.354847Z",
     "start_time": "2021-07-13T10:06:24.263755Z"
    }
   },
   "outputs": [],
   "source": [
    "df.to_csv('topics_abc_news2.csv',sep=';',index=False)"
   ]
  },
  {
   "cell_type": "code",
   "execution_count": 78,
   "metadata": {
    "ExecuteTime": {
     "end_time": "2021-07-13T10:00:56.150482Z",
     "start_time": "2021-07-13T10:00:56.138470Z"
    }
   },
   "outputs": [],
   "source": [
    "import pickle"
   ]
  },
  {
   "cell_type": "code",
   "execution_count": 80,
   "metadata": {
    "ExecuteTime": {
     "end_time": "2021-07-13T10:01:57.647596Z",
     "start_time": "2021-07-13T10:01:51.746243Z"
    }
   },
   "outputs": [],
   "source": [
    "df.to_pickle('topics_abc_news2')"
   ]
  },
  {
   "cell_type": "code",
   "execution_count": 85,
   "metadata": {
    "ExecuteTime": {
     "end_time": "2021-07-13T10:07:20.687661Z",
     "start_time": "2021-07-13T10:07:20.627822Z"
    }
   },
   "outputs": [
    {
     "data": {
      "text/html": [
       "<div>\n",
       "<style scoped>\n",
       "    .dataframe tbody tr th:only-of-type {\n",
       "        vertical-align: middle;\n",
       "    }\n",
       "\n",
       "    .dataframe tbody tr th {\n",
       "        vertical-align: top;\n",
       "    }\n",
       "\n",
       "    .dataframe thead th {\n",
       "        text-align: right;\n",
       "    }\n",
       "</style>\n",
       "<table border=\"1\" class=\"dataframe\">\n",
       "  <thead>\n",
       "    <tr style=\"text-align: right;\">\n",
       "      <th></th>\n",
       "      <th>publish_date</th>\n",
       "      <th>headline_text</th>\n",
       "      <th>sentence</th>\n",
       "      <th>topic</th>\n",
       "      <th>topics_name</th>\n",
       "    </tr>\n",
       "  </thead>\n",
       "  <tbody>\n",
       "    <tr>\n",
       "      <th>0</th>\n",
       "      <td>20030219</td>\n",
       "      <td>aba decides against community broadcasting lic...</td>\n",
       "      <td>[decide, community, broadcast, licence]</td>\n",
       "      <td>0.462046</td>\n",
       "      <td>economy</td>\n",
       "    </tr>\n",
       "    <tr>\n",
       "      <th>1</th>\n",
       "      <td>20030219</td>\n",
       "      <td>act fire witnesses must be aware of defamation</td>\n",
       "      <td>[fire, witness, must, aware, defamation]</td>\n",
       "      <td>0.374152</td>\n",
       "      <td>politics</td>\n",
       "    </tr>\n",
       "    <tr>\n",
       "      <th>2</th>\n",
       "      <td>20030219</td>\n",
       "      <td>a g calls for infrastructure protection summit</td>\n",
       "      <td>[call, infrastructure, protection, summit]</td>\n",
       "      <td>0.484819</td>\n",
       "      <td>economy</td>\n",
       "    </tr>\n",
       "    <tr>\n",
       "      <th>3</th>\n",
       "      <td>20030219</td>\n",
       "      <td>air nz staff in aust strike for pay rise</td>\n",
       "      <td>[staff, aust, strike, rise]</td>\n",
       "      <td>0.699181</td>\n",
       "      <td>justice</td>\n",
       "    </tr>\n",
       "    <tr>\n",
       "      <th>4</th>\n",
       "      <td>20030219</td>\n",
       "      <td>air nz strike to affect australian travellers</td>\n",
       "      <td>[strike, affect, australian, traveller]</td>\n",
       "      <td>0.694424</td>\n",
       "      <td>criminality</td>\n",
       "    </tr>\n",
       "  </tbody>\n",
       "</table>\n",
       "</div>"
      ],
      "text/plain": [
       "   publish_date                                      headline_text  \\\n",
       "0      20030219  aba decides against community broadcasting lic...   \n",
       "1      20030219     act fire witnesses must be aware of defamation   \n",
       "2      20030219     a g calls for infrastructure protection summit   \n",
       "3      20030219           air nz staff in aust strike for pay rise   \n",
       "4      20030219      air nz strike to affect australian travellers   \n",
       "\n",
       "                                     sentence     topic  topics_name  \n",
       "0     [decide, community, broadcast, licence]  0.462046      economy  \n",
       "1    [fire, witness, must, aware, defamation]  0.374152     politics  \n",
       "2  [call, infrastructure, protection, summit]  0.484819      economy  \n",
       "3                 [staff, aust, strike, rise]  0.699181      justice  \n",
       "4     [strike, affect, australian, traveller]  0.694424  criminality  "
      ]
     },
     "execution_count": 85,
     "metadata": {},
     "output_type": "execute_result"
    }
   ],
   "source": [
    "df.head()"
   ]
  },
  {
   "cell_type": "code",
   "execution_count": null,
   "metadata": {},
   "outputs": [],
   "source": []
  }
 ],
 "metadata": {
  "kernelspec": {
   "display_name": "Python 3",
   "language": "python",
   "name": "python3"
  },
  "language_info": {
   "codemirror_mode": {
    "name": "ipython",
    "version": 3
   },
   "file_extension": ".py",
   "mimetype": "text/x-python",
   "name": "python",
   "nbconvert_exporter": "python",
   "pygments_lexer": "ipython3",
   "version": "3.8.5"
  },
  "latex_envs": {
   "LaTeX_envs_menu_present": true,
   "autoclose": false,
   "autocomplete": true,
   "bibliofile": "biblio.bib",
   "cite_by": "apalike",
   "current_citInitial": 1,
   "eqLabelWithNumbers": true,
   "eqNumInitial": 1,
   "hotkeys": {
    "equation": "Ctrl-E",
    "itemize": "Ctrl-I"
   },
   "labels_anchors": false,
   "latex_user_defs": false,
   "report_style_numbering": false,
   "user_envs_cfg": false
  },
  "toc": {
   "base_numbering": 1,
   "nav_menu": {},
   "number_sections": true,
   "sideBar": true,
   "skip_h1_title": false,
   "title_cell": "Table of Contents",
   "title_sidebar": "Contents",
   "toc_cell": false,
   "toc_position": {
    "height": "calc(100% - 180px)",
    "left": "10px",
    "top": "150px",
    "width": "261.817px"
   },
   "toc_section_display": true,
   "toc_window_display": true
  },
  "varInspector": {
   "cols": {
    "lenName": 16,
    "lenType": 16,
    "lenVar": 40
   },
   "kernels_config": {
    "python": {
     "delete_cmd_postfix": "",
     "delete_cmd_prefix": "del ",
     "library": "var_list.py",
     "varRefreshCmd": "print(var_dic_list())"
    },
    "r": {
     "delete_cmd_postfix": ") ",
     "delete_cmd_prefix": "rm(",
     "library": "var_list.r",
     "varRefreshCmd": "cat(var_dic_list()) "
    }
   },
   "types_to_exclude": [
    "module",
    "function",
    "builtin_function_or_method",
    "instance",
    "_Feature"
   ],
   "window_display": false
  }
 },
 "nbformat": 4,
 "nbformat_minor": 4
}
